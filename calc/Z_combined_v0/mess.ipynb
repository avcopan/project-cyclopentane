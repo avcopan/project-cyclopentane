{
 "cells": [
  {
   "cell_type": "code",
   "execution_count": 1,
   "id": "381b3af6",
   "metadata": {},
   "outputs": [
    {
     "data": {
      "text/plain": [
       "15938"
      ]
     },
     "execution_count": 1,
     "metadata": {},
     "output_type": "execute_result"
    }
   ],
   "source": [
    "from pathlib import Path\n",
    "\n",
    "from protomech import mess\n",
    "\n",
    "channel = \"07_01\"\n",
    "inp_name = \"mess.inp\"\n",
    "\n",
    "source_root = Path(\"mess-source\")\n",
    "dest_root = Path(\"mess-dest\")\n",
    "\n",
    "source_dir = source_root / channel\n",
    "dest_dir = dest_root / channel\n",
    "\n",
    "dest_dir.mkdir(exist_ok=True)\n",
    "\n",
    "source_file = source_dir / inp_name\n",
    "dest_file = dest_dir / inp_name\n",
    "\n",
    "surf = mess.surf.from_mess_input(source_file.read_text())\n",
    "surf = mess.surf.set_no_fake_well_extension(surf)\n",
    "\n",
    "dest_file.write_text(mess.surf.mess_input(surf))"
   ]
  },
  {
   "cell_type": "code",
   "execution_count": 2,
   "id": "90cfdeda",
   "metadata": {},
   "outputs": [
    {
     "name": "stdout",
     "output_type": "stream",
     "text": [
      "mess-source/07_01/mess.inp\n"
     ]
    }
   ],
   "source": [
    "print(source_file)"
   ]
  },
  {
   "cell_type": "code",
   "execution_count": 3,
   "id": "109dcf46",
   "metadata": {},
   "outputs": [
    {
     "name": "stdout",
     "output_type": "stream",
     "text": [
      "mess-dest/07_01/mess.inp\n"
     ]
    }
   ],
   "source": [
    "print(dest_file)"
   ]
  },
  {
   "cell_type": "code",
   "execution_count": null,
   "id": "9bfda7d2",
   "metadata": {},
   "outputs": [],
   "source": []
  }
 ],
 "metadata": {
  "kernelspec": {
   "display_name": "all",
   "language": "python",
   "name": "python3"
  },
  "language_info": {
   "codemirror_mode": {
    "name": "ipython",
    "version": 3
   },
   "file_extension": ".py",
   "mimetype": "text/x-python",
   "name": "python",
   "nbconvert_exporter": "python",
   "pygments_lexer": "ipython3",
   "version": "3.12.11"
  }
 },
 "nbformat": 4,
 "nbformat_minor": 5
}
