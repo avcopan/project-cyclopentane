{
 "cells": [
  {
   "cell_type": "code",
   "execution_count": 28,
   "id": "bc015fd6",
   "metadata": {},
   "outputs": [
    {
     "name": "stdout",
     "output_type": "stream",
     "text": [
      "True\n"
     ]
    }
   ],
   "source": [
    "from importlib import reload\n",
    "\n",
    "from autochem.rate import data\n",
    "\n",
    "reload(data)\n",
    "\n",
    "rate_str1 = r\"\"\"\n",
    "W3->P1\n",
    "\n",
    "P\\T           300       400       500       600       700       800       900     1e+03\n",
    "0.1     -9.19e+04  1.74e+03      -252        44  -0.00257 -0.000282   0.00737      8.05\n",
    "1        3.42e+05       186      91.2        69     0.233      0.25       4.2      4.82\n",
    "10       1.18e+05 -1.12e+03     -5.04      -114      39.6      17.7       102       328\n",
    "100      5.33e+03      -891     -20.9       -64      -417       209       548  3.81e+03\n",
    "O-O           ***       ***       ***       ***       ***       ***       ***       ***\n",
    "\"\"\"\n",
    "rate_str2 = r\"\"\"\n",
    "W5->P1\n",
    "\n",
    "P\\T           300       400       500       600       700       800       900     1e+03\n",
    "0.1     -5.67e+04      -244      -346     -24.5    0.0028   0.00256      0.01     -8.03\n",
    "1       -5.24e+05     -40.1      14.1      28.9    -0.197      0.24     -1.43      4.28\n",
    "10        5.4e+04       725       126      -123     -38.7     -1.88      42.1       325\n",
    "100      4.08e+04       169        96       109       419      -148       440  3.75e+03\n",
    "O-O           ***       ***       ***       ***       ***       ***       ***       ***\n",
    "\"\"\"\n",
    "\n",
    "rate1 = data.from_mess_channel_output(rate_str1, order=1)\n",
    "rate2 = data.from_mess_channel_output(rate_str2, order=1)\n",
    "rate = rate1.merge_equivalent(rate2)\n",
    "\n",
    "rate_ = rate1.clear_pressures(rate1.unfittable_pressures())\n",
    "print(rate_.has_pressure_data(P=[1, 10]))"
   ]
  },
  {
   "cell_type": "code",
   "execution_count": null,
   "id": "12c97088",
   "metadata": {},
   "outputs": [],
   "source": []
  }
 ],
 "metadata": {
  "kernelspec": {
   "display_name": "dev",
   "language": "python",
   "name": "python3"
  },
  "language_info": {
   "codemirror_mode": {
    "name": "ipython",
    "version": 3
   },
   "file_extension": ".py",
   "mimetype": "text/x-python",
   "name": "python",
   "nbconvert_exporter": "python",
   "pygments_lexer": "ipython3",
   "version": "3.13.7"
  }
 },
 "nbformat": 4,
 "nbformat_minor": 5
}
