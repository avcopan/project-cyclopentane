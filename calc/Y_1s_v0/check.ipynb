{
 "cells": [
  {
   "cell_type": "code",
   "execution_count": 6,
   "id": "24e4414f",
   "metadata": {},
   "outputs": [
    {
     "name": "stdout",
     "output_type": "stream",
     "text": [
      "----\n",
      "/lcrc/project/PACC/copan/amech-dev/work/project-cyclopentane/save/SPC/C5H9O2/VDWZXFPFPYBOTC/0/2/UHFFFAOYSA-N/wvs4KxU/CONFS/rRhDxeHByAXI0/cAsc0kxdn4x1W\n"
     ]
    },
    {
     "ename": "AssertionError",
     "evalue": "(\"Either requested file DataFile('hess.hess')\", 'or requested path does not exist /lcrc/project/PACC/copan/amech-dev/work/project-cyclopentane/save/SPC/C5H9O2/VDWZXFPFPYBOTC/0/2/UHFFFAOYSA-N/wvs4KxU/CONFS/rRhDxeHByAXI0/cAsc0kxdn4x1W')",
     "output_type": "error",
     "traceback": [
      "\u001b[0;31m---------------------------------------------------------------------------\u001b[0m",
      "\u001b[0;31mAssertionError\u001b[0m                            Traceback (most recent call last)",
      "Cell \u001b[0;32mIn[6], line 5\u001b[0m\n\u001b[1;32m      1\u001b[0m \u001b[38;5;28;01mfrom\u001b[39;00m\u001b[38;5;250m \u001b[39m\u001b[38;5;21;01mmechdriver\u001b[39;00m\u001b[38;5;21;01m.\u001b[39;00m\u001b[38;5;21;01msubtasks\u001b[39;00m\u001b[38;5;250m \u001b[39m\u001b[38;5;28;01mimport\u001b[39;00m display\n\u001b[1;32m      3\u001b[0m id_ \u001b[38;5;241m=\u001b[39m \u001b[38;5;124m\"\u001b[39m\u001b[38;5;124m53\u001b[39m\u001b[38;5;124m\"\u001b[39m\n\u001b[0;32m----> 5\u001b[0m \u001b[43mdisplay\u001b[49m\u001b[43m(\u001b[49m\u001b[38;5;124;43m\"\u001b[39;49m\u001b[38;5;124;43mconf_opt\u001b[39;49m\u001b[38;5;124;43m\"\u001b[39;49m\u001b[43m,\u001b[49m\u001b[43m \u001b[49m\u001b[43mid_\u001b[49m\u001b[43m)\u001b[49m\n",
      "File \u001b[0;32m/lcrc/project/PACC/copan/amech-dev/src/mechdriver/mechdriver/subtasks/_3view.py:37\u001b[0m, in \u001b[0;36mdisplay\u001b[0;34m(task_key, subtask_key, path, lvl, animate)\u001b[0m\n\u001b[1;32m     34\u001b[0m disp_ \u001b[38;5;241m=\u001b[39m task_display_function(task_key)\n\u001b[1;32m     36\u001b[0m \u001b[38;5;28;01mfor\u001b[39;00m task_path \u001b[38;5;129;01min\u001b[39;00m fs\u001b[38;5;241m.\u001b[39mtask_paths(task_key, subtask_key, path\u001b[38;5;241m=\u001b[39mpath, lvl\u001b[38;5;241m=\u001b[39mlvl):\n\u001b[0;32m---> 37\u001b[0m     \u001b[43mdisp_\u001b[49m\u001b[43m(\u001b[49m\u001b[43mtask_path\u001b[49m\u001b[43m,\u001b[49m\u001b[43m \u001b[49m\u001b[43mmethod\u001b[49m\u001b[38;5;241;43m=\u001b[39;49m\u001b[43mmethod\u001b[49m\u001b[43m,\u001b[49m\u001b[43m \u001b[49m\u001b[43mbasis\u001b[49m\u001b[38;5;241;43m=\u001b[39;49m\u001b[43mbasis\u001b[49m\u001b[43m)\u001b[49m\n",
      "File \u001b[0;32m/lcrc/project/PACC/copan/amech-dev/src/mechdriver/mechdriver/subtasks/_3view.py:68\u001b[0m, in \u001b[0;36m_display_conf_hess\u001b[0;34m(task_path, method, basis)\u001b[0m\n\u001b[1;32m     66\u001b[0m \u001b[38;5;28mprint\u001b[39m(path)\n\u001b[1;32m     67\u001b[0m geo \u001b[38;5;241m=\u001b[39m cnf_fs[\u001b[38;5;241m-\u001b[39m\u001b[38;5;241m1\u001b[39m]\u001b[38;5;241m.\u001b[39mfile\u001b[38;5;241m.\u001b[39mgeometry\u001b[38;5;241m.\u001b[39mread(cnf_loc)\n\u001b[0;32m---> 68\u001b[0m hess \u001b[38;5;241m=\u001b[39m \u001b[43mcnf_fs\u001b[49m\u001b[43m[\u001b[49m\u001b[38;5;241;43m-\u001b[39;49m\u001b[38;5;241;43m1\u001b[39;49m\u001b[43m]\u001b[49m\u001b[38;5;241;43m.\u001b[39;49m\u001b[43mfile\u001b[49m\u001b[38;5;241;43m.\u001b[39;49m\u001b[43mhessian\u001b[49m\u001b[38;5;241;43m.\u001b[39;49m\u001b[43mread\u001b[49m\u001b[43m(\u001b[49m\u001b[43mcnf_loc\u001b[49m\u001b[43m)\u001b[49m\n\u001b[1;32m     69\u001b[0m freqs, norm_coos \u001b[38;5;241m=\u001b[39m automol\u001b[38;5;241m.\u001b[39mgeom\u001b[38;5;241m.\u001b[39mvibrational_analysis(geo, hess)\n\u001b[1;32m     70\u001b[0m norm_coo \u001b[38;5;241m=\u001b[39m norm_coos[:, \u001b[38;5;241m0\u001b[39m]\n",
      "File \u001b[0;32m/lcrc/project/PACC/copan/amech-dev/src/autofile/autofile/model.py:417\u001b[0m, in \u001b[0;36mDataSeriesFile.read\u001b[0;34m(self, locs)\u001b[0m\n\u001b[1;32m    413\u001b[0m \u001b[38;5;28;01mdef\u001b[39;00m\u001b[38;5;250m \u001b[39m\u001b[38;5;21mread\u001b[39m(\u001b[38;5;28mself\u001b[39m, locs\u001b[38;5;241m=\u001b[39m()):\n\u001b[1;32m    414\u001b[0m \u001b[38;5;250m    \u001b[39m\u001b[38;5;124;03m\"\"\" read data from this file\u001b[39;00m\n\u001b[1;32m    415\u001b[0m \n\u001b[1;32m    416\u001b[0m \u001b[38;5;124;03m    \"\"\"\u001b[39;00m\n\u001b[0;32m--> 417\u001b[0m     \u001b[38;5;28;01mreturn\u001b[39;00m \u001b[38;5;28;43mself\u001b[39;49m\u001b[38;5;241;43m.\u001b[39;49m\u001b[43mfile\u001b[49m\u001b[38;5;241;43m.\u001b[39;49m\u001b[43mread\u001b[49m\u001b[43m(\u001b[49m\u001b[38;5;28;43mself\u001b[39;49m\u001b[38;5;241;43m.\u001b[39;49m\u001b[43mdir\u001b[49m\u001b[38;5;241;43m.\u001b[39;49m\u001b[43mpath\u001b[49m\u001b[43m(\u001b[49m\u001b[43mlocs\u001b[49m\u001b[43m)\u001b[49m\u001b[43m)\u001b[49m\n",
      "File \u001b[0;32m/lcrc/project/PACC/copan/amech-dev/src/autofile/autofile/model.py:74\u001b[0m, in \u001b[0;36mDataFile.read\u001b[0;34m(self, dir_pth)\u001b[0m\n\u001b[1;32m     66\u001b[0m \u001b[38;5;28;01mdef\u001b[39;00m\u001b[38;5;250m \u001b[39m\u001b[38;5;21mread\u001b[39m(\u001b[38;5;28mself\u001b[39m, dir_pth):\n\u001b[1;32m     67\u001b[0m \u001b[38;5;250m    \u001b[39m\u001b[38;5;124;03m\"\"\" read data from this file\u001b[39;00m\n\u001b[1;32m     68\u001b[0m \n\u001b[1;32m     69\u001b[0m \u001b[38;5;124;03m    :param dir_pth: directory path\u001b[39;00m\n\u001b[0;32m   (...)\u001b[0m\n\u001b[1;32m     72\u001b[0m \u001b[38;5;124;03m    :return type: int/float/str/tuple\u001b[39;00m\n\u001b[1;32m     73\u001b[0m \u001b[38;5;124;03m    \"\"\"\u001b[39;00m\n\u001b[0;32m---> 74\u001b[0m     \u001b[38;5;28;01massert\u001b[39;00m \u001b[38;5;28mself\u001b[39m\u001b[38;5;241m.\u001b[39mexists(dir_pth), (\n\u001b[1;32m     75\u001b[0m         \u001b[38;5;124mf\u001b[39m\u001b[38;5;124m'\u001b[39m\u001b[38;5;124mEither requested file \u001b[39m\u001b[38;5;132;01m{\u001b[39;00m\u001b[38;5;28mself\u001b[39m\u001b[38;5;132;01m}\u001b[39;00m\u001b[38;5;124m'\u001b[39m,\n\u001b[1;32m     76\u001b[0m         \u001b[38;5;124mf\u001b[39m\u001b[38;5;124m'\u001b[39m\u001b[38;5;124mor requested path does not exist \u001b[39m\u001b[38;5;132;01m{\u001b[39;00mdir_pth\u001b[38;5;132;01m}\u001b[39;00m\u001b[38;5;124m'\u001b[39m\n\u001b[1;32m     77\u001b[0m     )\n\u001b[1;32m     79\u001b[0m     pth \u001b[38;5;241m=\u001b[39m \u001b[38;5;28mself\u001b[39m\u001b[38;5;241m.\u001b[39mpath(dir_pth)\n\u001b[1;32m     80\u001b[0m     val_str \u001b[38;5;241m=\u001b[39m autofile\u001b[38;5;241m.\u001b[39mio_\u001b[38;5;241m.\u001b[39mread_file(pth)\n",
      "\u001b[0;31mAssertionError\u001b[0m: (\"Either requested file DataFile('hess.hess')\", 'or requested path does not exist /lcrc/project/PACC/copan/amech-dev/work/project-cyclopentane/save/SPC/C5H9O2/VDWZXFPFPYBOTC/0/2/UHFFFAOYSA-N/wvs4KxU/CONFS/rRhDxeHByAXI0/cAsc0kxdn4x1W')"
     ]
    }
   ],
   "source": [
    "from mechdriver.subtasks import display\n",
    "\n",
    "id_ = \"53\"\n",
    "\n",
    "display(\"conf_opt\", id_)"
   ]
  },
  {
   "cell_type": "code",
   "execution_count": null,
   "id": "cb5aec58",
   "metadata": {},
   "outputs": [],
   "source": []
  }
 ],
 "metadata": {
  "kernelspec": {
   "display_name": "proto",
   "language": "python",
   "name": "python3"
  },
  "language_info": {
   "codemirror_mode": {
    "name": "ipython",
    "version": 3
   },
   "file_extension": ".py",
   "mimetype": "text/x-python",
   "name": "python",
   "nbconvert_exporter": "python",
   "pygments_lexer": "ipython3",
   "version": "3.11.12"
  }
 },
 "nbformat": 4,
 "nbformat_minor": 5
}
