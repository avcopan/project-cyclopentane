{
 "cells": [
  {
   "cell_type": "code",
   "execution_count": 1,
   "id": "24e4414f",
   "metadata": {},
   "outputs": [
    {
     "name": "stdout",
     "output_type": "stream",
     "text": [
      "----\n",
      "/lcrc/project/PACC/copan/amech-dev/work/project-cyclopentane/save/SPC/C5H7O2/NEXAMMSHVHUGSO/0/2/UNEXCXBXNA-N/wvs4KxU/CONFS/rfoyKz1mhyxDw/cwo23sQ17Igh3\n",
      "Lowest frequency mode:\n",
      "  frequency: 66.63172634236896\n",
      "\n"
     ]
    },
    {
     "data": {
      "application/3dmoljs_load.v0": "<div id=\"3dmolviewer_17490648610170796\"  style=\"position: relative; width: 400px; height: 400px;\">\n        <p id=\"3dmolwarning_17490648610170796\" style=\"background-color:#ffcccc;color:black\">3Dmol.js failed to load for some reason.  Please check your browser console for error messages.<br></p>\n        </div>\n<script>\n\nvar loadScriptAsync = function(uri){\n  return new Promise((resolve, reject) => {\n    //this is to ignore the existence of requirejs amd\n    var savedexports, savedmodule;\n    if (typeof exports !== 'undefined') savedexports = exports;\n    else exports = {}\n    if (typeof module !== 'undefined') savedmodule = module;\n    else module = {}\n\n    var tag = document.createElement('script');\n    tag.src = uri;\n    tag.async = true;\n    tag.onload = () => {\n        exports = savedexports;\n        module = savedmodule;\n        resolve();\n    };\n  var firstScriptTag = document.getElementsByTagName('script')[0];\n  firstScriptTag.parentNode.insertBefore(tag, firstScriptTag);\n});\n};\n\nif(typeof $3Dmolpromise === 'undefined') {\n$3Dmolpromise = null;\n  $3Dmolpromise = loadScriptAsync('https://cdnjs.cloudflare.com/ajax/libs/3Dmol/2.4.2/3Dmol-min.js');\n}\n\nvar viewer_17490648610170796 = null;\nvar warn = document.getElementById(\"3dmolwarning_17490648610170796\");\nif(warn) {\n    warn.parentNode.removeChild(warn);\n}\n$3Dmolpromise.then(function() {\nviewer_17490648610170796 = $3Dmol.createViewer(document.getElementById(\"3dmolviewer_17490648610170796\"),{backgroundColor:\"white\"});\nviewer_17490648610170796.zoomTo();\n\tviewer_17490648610170796.addModel(\" 14\\n\\nC    2.175379   1.362636  -0.172908   -0.023320   0.025032   0.057654\\nC    2.417567   0.082374   0.180691    0.003224   0.005944  -0.031059\\nH    2.954033   2.108106  -0.080929   -0.082218   0.084264   0.233786\\nH    1.239427   1.685175  -0.606532   -0.150656   0.167925   0.414292\\nC    1.542877  -1.040966   0.122148    0.015185  -0.003563  -0.049179\\nH    3.421418  -0.146800   0.527909    0.072077  -0.009256  -0.302715\\nC    0.142410  -1.079814  -0.079608    0.010401  -0.022915  -0.002333\\nH    2.013958  -2.007577   0.256018    0.121020  -0.002847  -0.344343\\nC   -0.722836  -0.041185  -0.058057   -0.004340  -0.034712   0.019066\\nH   -0.298313  -2.057580  -0.250436    0.071149  -0.104941   0.048990\\nO   -2.025455  -0.273383  -0.399465   -0.014492  -0.051520   0.070352\\nH   -0.495709   0.983408   0.194423   -0.044003  -0.093154  -0.034300\\nO   -2.846479   0.717391   0.274457    0.016192   0.060538  -0.065576\\nH   -3.191721   0.184937   1.006010   -0.142174   0.629225  -0.077269\",\"xyz\",{\"vibrate\": {\"frames\": 10, \"amplitude\": 1}});\n\tviewer_17490648610170796.setStyle({\"stick\": {}, \"sphere\": {\"radius\": 0.3}});\n\tviewer_17490648610170796.setBackgroundColor(\"0xeeeeee\");\n\tviewer_17490648610170796.animate({\"loop\": \"backAndForth\"});\n\tviewer_17490648610170796.zoomTo();\nviewer_17490648610170796.render();\n});\n</script>",
      "text/html": [
       "<div id=\"3dmolviewer_17490648610170796\"  style=\"position: relative; width: 400px; height: 400px;\">\n",
       "        <p id=\"3dmolwarning_17490648610170796\" style=\"background-color:#ffcccc;color:black\">3Dmol.js failed to load for some reason.  Please check your browser console for error messages.<br></p>\n",
       "        </div>\n",
       "<script>\n",
       "\n",
       "var loadScriptAsync = function(uri){\n",
       "  return new Promise((resolve, reject) => {\n",
       "    //this is to ignore the existence of requirejs amd\n",
       "    var savedexports, savedmodule;\n",
       "    if (typeof exports !== 'undefined') savedexports = exports;\n",
       "    else exports = {}\n",
       "    if (typeof module !== 'undefined') savedmodule = module;\n",
       "    else module = {}\n",
       "\n",
       "    var tag = document.createElement('script');\n",
       "    tag.src = uri;\n",
       "    tag.async = true;\n",
       "    tag.onload = () => {\n",
       "        exports = savedexports;\n",
       "        module = savedmodule;\n",
       "        resolve();\n",
       "    };\n",
       "  var firstScriptTag = document.getElementsByTagName('script')[0];\n",
       "  firstScriptTag.parentNode.insertBefore(tag, firstScriptTag);\n",
       "});\n",
       "};\n",
       "\n",
       "if(typeof $3Dmolpromise === 'undefined') {\n",
       "$3Dmolpromise = null;\n",
       "  $3Dmolpromise = loadScriptAsync('https://cdnjs.cloudflare.com/ajax/libs/3Dmol/2.4.2/3Dmol-min.js');\n",
       "}\n",
       "\n",
       "var viewer_17490648610170796 = null;\n",
       "var warn = document.getElementById(\"3dmolwarning_17490648610170796\");\n",
       "if(warn) {\n",
       "    warn.parentNode.removeChild(warn);\n",
       "}\n",
       "$3Dmolpromise.then(function() {\n",
       "viewer_17490648610170796 = $3Dmol.createViewer(document.getElementById(\"3dmolviewer_17490648610170796\"),{backgroundColor:\"white\"});\n",
       "viewer_17490648610170796.zoomTo();\n",
       "\tviewer_17490648610170796.addModel(\" 14\\n\\nC    2.175379   1.362636  -0.172908   -0.023320   0.025032   0.057654\\nC    2.417567   0.082374   0.180691    0.003224   0.005944  -0.031059\\nH    2.954033   2.108106  -0.080929   -0.082218   0.084264   0.233786\\nH    1.239427   1.685175  -0.606532   -0.150656   0.167925   0.414292\\nC    1.542877  -1.040966   0.122148    0.015185  -0.003563  -0.049179\\nH    3.421418  -0.146800   0.527909    0.072077  -0.009256  -0.302715\\nC    0.142410  -1.079814  -0.079608    0.010401  -0.022915  -0.002333\\nH    2.013958  -2.007577   0.256018    0.121020  -0.002847  -0.344343\\nC   -0.722836  -0.041185  -0.058057   -0.004340  -0.034712   0.019066\\nH   -0.298313  -2.057580  -0.250436    0.071149  -0.104941   0.048990\\nO   -2.025455  -0.273383  -0.399465   -0.014492  -0.051520   0.070352\\nH   -0.495709   0.983408   0.194423   -0.044003  -0.093154  -0.034300\\nO   -2.846479   0.717391   0.274457    0.016192   0.060538  -0.065576\\nH   -3.191721   0.184937   1.006010   -0.142174   0.629225  -0.077269\",\"xyz\",{\"vibrate\": {\"frames\": 10, \"amplitude\": 1}});\n",
       "\tviewer_17490648610170796.setStyle({\"stick\": {}, \"sphere\": {\"radius\": 0.3}});\n",
       "\tviewer_17490648610170796.setBackgroundColor(\"0xeeeeee\");\n",
       "\tviewer_17490648610170796.animate({\"loop\": \"backAndForth\"});\n",
       "\tviewer_17490648610170796.zoomTo();\n",
       "viewer_17490648610170796.render();\n",
       "});\n",
       "</script>"
      ]
     },
     "metadata": {},
     "output_type": "display_data"
    }
   ],
   "source": [
    "from mechdriver.subtasks import display\n",
    "\n",
    "id_ = \"61\"\n",
    "\n",
    "display(\"conf_opt\", id_)"
   ]
  },
  {
   "cell_type": "code",
   "execution_count": null,
   "id": "cb5aec58",
   "metadata": {},
   "outputs": [],
   "source": []
  }
 ],
 "metadata": {
  "kernelspec": {
   "display_name": "proto",
   "language": "python",
   "name": "python3"
  },
  "language_info": {
   "codemirror_mode": {
    "name": "ipython",
    "version": 3
   },
   "file_extension": ".py",
   "mimetype": "text/x-python",
   "name": "python",
   "nbconvert_exporter": "python",
   "pygments_lexer": "ipython3",
   "version": "3.11.12"
  }
 },
 "nbformat": 4,
 "nbformat_minor": 5
}
