{
 "cells": [
  {
   "cell_type": "code",
   "execution_count": null,
   "id": "f449b4ec",
   "metadata": {},
   "outputs": [],
   "source": [
    "# %\n",
    "from pathlib import Path\n",
    "\n",
    "import automol"
   ]
  },
  {
   "cell_type": "code",
   "execution_count": null,
   "id": "6beffff8",
   "metadata": {},
   "outputs": [
    {
     "name": "stdout",
     "output_type": "stream",
     "text": [
      "0: energy: -344.7140187790, grid idxs: 2.15\n",
      "1: energy: -344.7109429820, grid idxs: 2.25\n",
      "2: energy: -344.7060732630, grid idxs: 2.35\n",
      "3: energy: -344.5932130880, grid idxs: 2.54\n",
      "4: energy: -344.5997472140, grid idxs: 2.63\n",
      "5: energy: -344.6065167880, grid idxs: 2.73\n",
      "6: energy: -344.6132903810, grid idxs: 2.82\n",
      "7: energy: -344.6199161820, grid idxs: 2.92\n",
      "8: energy: -344.6262825810, grid idxs: 3.01\n",
      "9: energy: -344.6323020850, grid idxs: 3.11\n",
      "10: energy: -344.6379047320, grid idxs: 3.21\n",
      "11: energy: -344.6430311550, grid idxs: 3.30\n",
      "12: energy: -344.6476340620, grid idxs: 3.40\n",
      "13: energy: -344.6516724200, grid idxs: 3.49\n",
      "14: energy: -344.6551106340, grid idxs: 3.59\n",
      "15: energy: -344.6579156580, grid idxs: 3.68\n",
      "16: energy: -344.6600565960, grid idxs: 3.78\n"
     ]
    }
   ],
   "source": [
    "conf_file = Path(\n",
    "    \"/home/avcopan/proj/project-cyclopentane/save/RXN/C5H9O2/XWIANGFMAQPCGG/0/2/YFKPBYRVSA-N/C5H9O2/WVUQXAJLGBHGFS/0/2/UHFFFAOYSA-N/2/u-unGOU/TS/00/CONFS\"\n",
    ")\n",
    "geos, comments = zip(\n",
    "    *automol.geom.from_xyz_trajectory_string(conf_file.read_text()),\n",
    "    strict=True,\n",
    ")\n",
    "for index, comment in enumerate(comments):\n",
    "    print(f\"{index}: {comment}\")"
   ]
  }
 ],
 "metadata": {
  "jupytext": {
   "cell_metadata_filter": "-all",
   "main_language": "python",
   "notebook_metadata_filter": "-all"
  },
  "kernelspec": {
   "display_name": "dev2",
   "language": "python",
   "name": "python3"
  },
  "language_info": {
   "codemirror_mode": {
    "name": "ipython",
    "version": 3
   },
   "file_extension": ".py",
   "mimetype": "text/x-python",
   "name": "python",
   "nbconvert_exporter": "python",
   "pygments_lexer": "ipython3",
   "version": "3.11.13"
  }
 },
 "nbformat": 4,
 "nbformat_minor": 5
}
