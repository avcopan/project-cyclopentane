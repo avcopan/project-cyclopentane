{
 "cells": [
  {
   "cell_type": "code",
   "execution_count": null,
   "id": "f449b4ec",
   "metadata": {},
   "outputs": [
    {
     "name": "stderr",
     "output_type": "stream",
     "text": [
      "ERROR:tornado.general:Uncaught exception in ZMQStream callback\n",
      "Traceback (most recent call last):\n",
      "  File \"/home/avcopan/proj/project-cyclopentane/code/mechdriver/.pixi/envs/dev2/lib/python3.13/site-packages/traitlets/traitlets.py\", line 632, in get\n",
      "    value = obj._trait_values[self.name]\n",
      "            ~~~~~~~~~~~~~~~~~^^^^^^^^^^^\n",
      "KeyError: '_control_lock'\n",
      "\n",
      "During handling of the above exception, another exception occurred:\n",
      "\n",
      "Traceback (most recent call last):\n",
      "  File \"/home/avcopan/proj/project-cyclopentane/code/mechdriver/.pixi/envs/dev2/lib/python3.13/site-packages/zmq/eventloop/zmqstream.py\", line 565, in _log_error\n",
      "    f.result()\n",
      "    ~~~~~~~~^^\n",
      "  File \"/home/avcopan/proj/project-cyclopentane/code/mechdriver/.pixi/envs/dev2/lib/python3.13/site-packages/ipykernel/kernelbase.py\", line 340, in dispatch_control\n",
      "    async with self._control_lock:\n",
      "               ^^^^^^^^^^^^^^^^^^\n",
      "  File \"/home/avcopan/proj/project-cyclopentane/code/mechdriver/.pixi/envs/dev2/lib/python3.13/site-packages/traitlets/traitlets.py\", line 687, in __get__\n",
      "    return t.cast(G, self.get(obj, cls))  # the G should encode the Optional\n",
      "                     ~~~~~~~~^^^^^^^^^^\n",
      "  File \"/home/avcopan/proj/project-cyclopentane/code/mechdriver/.pixi/envs/dev2/lib/python3.13/site-packages/traitlets/traitlets.py\", line 649, in get\n",
      "    value = self._validate(obj, default)\n",
      "  File \"/home/avcopan/proj/project-cyclopentane/code/mechdriver/.pixi/envs/dev2/lib/python3.13/site-packages/traitlets/traitlets.py\", line 722, in _validate\n",
      "    value = self.validate(obj, value)\n",
      "  File \"/home/avcopan/proj/project-cyclopentane/code/mechdriver/.pixi/envs/dev2/lib/python3.13/site-packages/traitlets/traitlets.py\", line 2311, in validate\n",
      "    self.error(obj, value)\n",
      "    ~~~~~~~~~~^^^^^^^^^^^^\n",
      "  File \"/home/avcopan/proj/project-cyclopentane/code/mechdriver/.pixi/envs/dev2/lib/python3.13/site-packages/traitlets/traitlets.py\", line 831, in error\n",
      "    raise TraitError(e)\n",
      "traitlets.traitlets.TraitError: The '_control_lock' trait of an IPythonKernel instance expected a Lock, not the NoneType None.\n"
     ]
    }
   ],
   "source": [
    "# %\n",
    "from pathlib import Path\n",
    "\n",
    "import automol"
   ]
  },
  {
   "cell_type": "code",
   "execution_count": null,
   "id": "6beffff8",
   "metadata": {},
   "outputs": [],
   "source": [
    "conf_file = Path(\n",
    "    \"/home/avcopan/proj/project-cyclopentane/save/RXN/C5H9O2/XWIANGFMAQPCGG/0/2/YFKPBYRVSA-N/C5H9O2/WVUQXAJLGBHGFS/0/2/UHFFFAOYSA-N/2/u-unGOU/TS/00/CONFS\"\n",
    ")\n",
    "geos, comments = zip(\n",
    "    *automol.geom.from_xyz_trajectory_string(conf_file.read_text()),\n",
    "    strict=True,\n",
    ")\n",
    "for index, comment in enumerate(comments):\n",
    "    print(f\"{index}: {comment}\")"
   ]
  }
 ],
 "metadata": {
  "jupytext": {
   "cell_metadata_filter": "-all",
   "main_language": "python",
   "notebook_metadata_filter": "-all"
  },
  "kernelspec": {
   "display_name": "dev2",
   "language": "python",
   "name": "python3"
  },
  "language_info": {
   "codemirror_mode": {
    "name": "ipython",
    "version": 3
   },
   "file_extension": ".py",
   "mimetype": "text/x-python",
   "name": "python",
   "nbconvert_exporter": "python",
   "pygments_lexer": "ipython3",
   "version": "3.13.9"
  }
 },
 "nbformat": 4,
 "nbformat_minor": 5
}
