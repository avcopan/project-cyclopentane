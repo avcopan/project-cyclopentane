{
 "cells": [
  {
   "cell_type": "code",
   "execution_count": 2,
   "id": "8544c7fb",
   "metadata": {},
   "outputs": [
    {
     "name": "stdout",
     "output_type": "stream",
     "text": [
      "currently allowing exception 'num' in existing to avoid crashes from  CONF/cid in RUN\n",
      "----\n",
      "/home/avcopan/proj/project-cyclopentane/save/RXN/C5H9O/ZOCQCVFDVWWLHS/0/2/YFKPBYRVSA-N/C5H8.HO/UGZOASBOAAXKSP/0_0/1_2/UHFFFAOYSA-N/2/wvs8QKU/TS/00/CONFS/rj4uSanU6dWtt/cU5tgrYsxRwQz\n",
      "Lowest frequency mode:\n",
      "  frequency: -133.22314705863556\n",
      "\n",
      "----\n",
      "/home/avcopan/proj/project-cyclopentane/save/RXN/C5H9O/ZOCQCVFDVWWLHS/0/2/YFKPBYRVSA-N/C5H8.HO/UGZOASBOAAXKSP/0_0/1_2/UHFFFAOYSA-N/2/wvs8QKU/TS/00/CONFS/rj4uSanU6dWtt/cj3X8hcuTYfoU\n",
      "Lowest frequency mode:\n",
      "  frequency: -369.7949376540936\n",
      "\n"
     ]
    },
    {
     "data": {
      "application/3dmoljs_load.v0": "<div id=\"3dmolviewer_17619161275437007\"  style=\"position: relative; width: 400px; height: 400px;\">\n        <p id=\"3dmolwarning_17619161275437007\" style=\"background-color:#ffcccc;color:black\">3Dmol.js failed to load for some reason.  Please check your browser console for error messages.<br></p>\n        </div>\n<script>\n\nvar loadScriptAsync = function(uri){\n  return new Promise((resolve, reject) => {\n    //this is to ignore the existence of requirejs amd\n    var savedexports, savedmodule;\n    if (typeof exports !== 'undefined') savedexports = exports;\n    else exports = {}\n    if (typeof module !== 'undefined') savedmodule = module;\n    else module = {}\n\n    var tag = document.createElement('script');\n    tag.src = uri;\n    tag.async = true;\n    tag.onload = () => {\n        exports = savedexports;\n        module = savedmodule;\n        resolve();\n    };\n  var firstScriptTag = document.getElementsByTagName('script')[0];\n  firstScriptTag.parentNode.insertBefore(tag, firstScriptTag);\n});\n};\n\nif(typeof $3Dmolpromise === 'undefined') {\n$3Dmolpromise = null;\n  $3Dmolpromise = loadScriptAsync('https://cdn.jsdelivr.net/npm/3dmol@2.5.3/build/3Dmol-min.js');\n}\n\nvar viewer_17619161275437007 = null;\nvar warn = document.getElementById(\"3dmolwarning_17619161275437007\");\nif(warn) {\n    warn.parentNode.removeChild(warn);\n}\n$3Dmolpromise.then(function() {\nviewer_17619161275437007 = $3Dmol.createViewer(document.getElementById(\"3dmolviewer_17619161275437007\"),{backgroundColor:\"white\"});\nviewer_17619161275437007.zoomTo();\n\tviewer_17619161275437007.addModel(\" 15\\n\\nC    0.566163  -0.355557   0.836571   -0.158655  -0.024407   0.195716\\nC    0.213031   0.940732   0.691243    0.031240  -0.042504  -0.016978\\nH    1.336773  -0.713015   1.505050   -0.267533  -0.071191   0.365446\\nC   -0.946334   1.103846  -0.247926    0.020080  -0.009737  -0.013244\\nH    0.736586   1.773670   1.144296    0.182896  -0.131495  -0.150669\\nC   -1.503917  -0.332592  -0.386954   -0.007829  -0.001374  -0.000663\\nH   -1.691362   1.806635   0.133840    0.126926  -0.006012   0.018752\\nH   -0.590565   1.498088  -1.204685    0.031959  -0.024778  -0.050864\\nC   -0.396413  -1.279132   0.138577   -0.039191  -0.015172   0.033160\\nH   -2.399369  -0.436114   0.228768   -0.044348   0.092176  -0.009027\\nH   -1.785376  -0.563547  -1.413948   -0.027981  -0.039002   0.003574\\nH   -0.791510  -2.032149   0.824863   -0.313582  -0.304387  -0.264249\\nH    0.119532  -1.805635  -0.665826    0.174668   0.221558   0.121158\\nO    1.870566  -0.069020  -0.789962    0.097445   0.061465  -0.124595\\nH    2.505574   0.560450  -0.421723    0.317790   0.205864  -0.291169\",\"xyz\",{\"vibrate\": {\"frames\": 10, \"amplitude\": 1}});\n\tviewer_17619161275437007.setStyle({\"stick\": {}, \"sphere\": {\"radius\": 0.3}});\n\tviewer_17619161275437007.setBackgroundColor(\"0xeeeeee\");\n\tviewer_17619161275437007.animate({\"loop\": \"backAndForth\"});\n\tviewer_17619161275437007.zoomTo();\nviewer_17619161275437007.render();\n});\n</script>",
      "text/html": [
       "<div id=\"3dmolviewer_17619161275437007\"  style=\"position: relative; width: 400px; height: 400px;\">\n",
       "        <p id=\"3dmolwarning_17619161275437007\" style=\"background-color:#ffcccc;color:black\">3Dmol.js failed to load for some reason.  Please check your browser console for error messages.<br></p>\n",
       "        </div>\n",
       "<script>\n",
       "\n",
       "var loadScriptAsync = function(uri){\n",
       "  return new Promise((resolve, reject) => {\n",
       "    //this is to ignore the existence of requirejs amd\n",
       "    var savedexports, savedmodule;\n",
       "    if (typeof exports !== 'undefined') savedexports = exports;\n",
       "    else exports = {}\n",
       "    if (typeof module !== 'undefined') savedmodule = module;\n",
       "    else module = {}\n",
       "\n",
       "    var tag = document.createElement('script');\n",
       "    tag.src = uri;\n",
       "    tag.async = true;\n",
       "    tag.onload = () => {\n",
       "        exports = savedexports;\n",
       "        module = savedmodule;\n",
       "        resolve();\n",
       "    };\n",
       "  var firstScriptTag = document.getElementsByTagName('script')[0];\n",
       "  firstScriptTag.parentNode.insertBefore(tag, firstScriptTag);\n",
       "});\n",
       "};\n",
       "\n",
       "if(typeof $3Dmolpromise === 'undefined') {\n",
       "$3Dmolpromise = null;\n",
       "  $3Dmolpromise = loadScriptAsync('https://cdn.jsdelivr.net/npm/3dmol@2.5.3/build/3Dmol-min.js');\n",
       "}\n",
       "\n",
       "var viewer_17619161275437007 = null;\n",
       "var warn = document.getElementById(\"3dmolwarning_17619161275437007\");\n",
       "if(warn) {\n",
       "    warn.parentNode.removeChild(warn);\n",
       "}\n",
       "$3Dmolpromise.then(function() {\n",
       "viewer_17619161275437007 = $3Dmol.createViewer(document.getElementById(\"3dmolviewer_17619161275437007\"),{backgroundColor:\"white\"});\n",
       "viewer_17619161275437007.zoomTo();\n",
       "\tviewer_17619161275437007.addModel(\" 15\\n\\nC    0.566163  -0.355557   0.836571   -0.158655  -0.024407   0.195716\\nC    0.213031   0.940732   0.691243    0.031240  -0.042504  -0.016978\\nH    1.336773  -0.713015   1.505050   -0.267533  -0.071191   0.365446\\nC   -0.946334   1.103846  -0.247926    0.020080  -0.009737  -0.013244\\nH    0.736586   1.773670   1.144296    0.182896  -0.131495  -0.150669\\nC   -1.503917  -0.332592  -0.386954   -0.007829  -0.001374  -0.000663\\nH   -1.691362   1.806635   0.133840    0.126926  -0.006012   0.018752\\nH   -0.590565   1.498088  -1.204685    0.031959  -0.024778  -0.050864\\nC   -0.396413  -1.279132   0.138577   -0.039191  -0.015172   0.033160\\nH   -2.399369  -0.436114   0.228768   -0.044348   0.092176  -0.009027\\nH   -1.785376  -0.563547  -1.413948   -0.027981  -0.039002   0.003574\\nH   -0.791510  -2.032149   0.824863   -0.313582  -0.304387  -0.264249\\nH    0.119532  -1.805635  -0.665826    0.174668   0.221558   0.121158\\nO    1.870566  -0.069020  -0.789962    0.097445   0.061465  -0.124595\\nH    2.505574   0.560450  -0.421723    0.317790   0.205864  -0.291169\",\"xyz\",{\"vibrate\": {\"frames\": 10, \"amplitude\": 1}});\n",
       "\tviewer_17619161275437007.setStyle({\"stick\": {}, \"sphere\": {\"radius\": 0.3}});\n",
       "\tviewer_17619161275437007.setBackgroundColor(\"0xeeeeee\");\n",
       "\tviewer_17619161275437007.animate({\"loop\": \"backAndForth\"});\n",
       "\tviewer_17619161275437007.zoomTo();\n",
       "viewer_17619161275437007.render();\n",
       "});\n",
       "</script>"
      ]
     },
     "metadata": {},
     "output_type": "display_data"
    }
   ],
   "source": [
    "from mechdriver.subtasks import display as display_\n",
    "\n",
    "# display_(\"conf_opt\", \"82: 1\")\n",
    "display_(\"conf_opt\", \"8: 1\")\n",
    "# display_(\"find_ts\", \"30: 1\")"
   ]
  },
  {
   "cell_type": "code",
   "execution_count": null,
   "id": "716eba67",
   "metadata": {},
   "outputs": [],
   "source": []
  }
 ],
 "metadata": {
  "kernelspec": {
   "display_name": "dev2",
   "language": "python",
   "name": "python3"
  },
  "language_info": {
   "codemirror_mode": {
    "name": "ipython",
    "version": 3
   },
   "file_extension": ".py",
   "mimetype": "text/x-python",
   "name": "python",
   "nbconvert_exporter": "python",
   "pygments_lexer": "ipython3",
   "version": "3.13.9"
  }
 },
 "nbformat": 4,
 "nbformat_minor": 5
}
