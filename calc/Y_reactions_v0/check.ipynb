{
 "cells": [
  {
   "cell_type": "code",
   "execution_count": null,
   "id": "8544c7fb",
   "metadata": {},
   "outputs": [],
   "source": [
    "from mechdriver.subtasks import display as display_\n",
    "\n",
    "display_(\"conf_opt\", \"42: 1\")\n",
    "# display_(\"find_ts\", \"30: 1\")"
   ]
  },
  {
   "cell_type": "code",
   "execution_count": null,
   "id": "f998fd88",
   "metadata": {},
   "outputs": [],
   "source": []
  }
 ],
 "metadata": {
  "kernelspec": {
   "display_name": "dev2",
   "language": "python",
   "name": "python3"
  },
  "language_info": {
   "codemirror_mode": {
    "name": "ipython",
    "version": 3
   },
   "file_extension": ".py",
   "mimetype": "text/x-python",
   "name": "python",
   "nbconvert_exporter": "python",
   "pygments_lexer": "ipython3",
   "version": "3.11.13"
  }
 },
 "nbformat": 4,
 "nbformat_minor": 5
}
