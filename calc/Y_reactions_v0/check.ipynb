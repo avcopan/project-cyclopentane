{
 "cells": [
  {
   "cell_type": "code",
   "execution_count": 15,
   "id": "8544c7fb",
   "metadata": {},
   "outputs": [
    {
     "name": "stdout",
     "output_type": "stream",
     "text": [
      "----\n",
      "/home/avcopan/proj/project-cyclopentane/save/RXN/C5H7O2/OLVLCUAXLKSPNZ/0/2/UHFFFAOYSA-N/C5H7O2/YWYASAZFZZQGPR/0/2/YFKPBYRVSA-N/2/wvs8QKU/TS/00/CONFS/rA6mN3soP7yD1/cxjPLM6r2-RZ5\n",
      "Lowest frequency mode:\n",
      "  frequency: -2059.3832683004402\n",
      "\n"
     ]
    },
    {
     "data": {
      "application/3dmoljs_load.v0": "<div id=\"3dmolviewer_17583115384591813\"  style=\"position: relative; width: 400px; height: 400px;\">\n        <p id=\"3dmolwarning_17583115384591813\" style=\"background-color:#ffcccc;color:black\">3Dmol.js failed to load for some reason.  Please check your browser console for error messages.<br></p>\n        </div>\n<script>\n\nvar loadScriptAsync = function(uri){\n  return new Promise((resolve, reject) => {\n    //this is to ignore the existence of requirejs amd\n    var savedexports, savedmodule;\n    if (typeof exports !== 'undefined') savedexports = exports;\n    else exports = {}\n    if (typeof module !== 'undefined') savedmodule = module;\n    else module = {}\n\n    var tag = document.createElement('script');\n    tag.src = uri;\n    tag.async = true;\n    tag.onload = () => {\n        exports = savedexports;\n        module = savedmodule;\n        resolve();\n    };\n  var firstScriptTag = document.getElementsByTagName('script')[0];\n  firstScriptTag.parentNode.insertBefore(tag, firstScriptTag);\n});\n};\n\nif(typeof $3Dmolpromise === 'undefined') {\n$3Dmolpromise = null;\n  $3Dmolpromise = loadScriptAsync('https://cdn.jsdelivr.net/npm/3dmol@2.5.2/build/3Dmol-min.js');\n}\n\nvar viewer_17583115384591813 = null;\nvar warn = document.getElementById(\"3dmolwarning_17583115384591813\");\nif(warn) {\n    warn.parentNode.removeChild(warn);\n}\n$3Dmolpromise.then(function() {\nviewer_17583115384591813 = $3Dmol.createViewer(document.getElementById(\"3dmolviewer_17583115384591813\"),{backgroundColor:\"white\"});\nviewer_17583115384591813.zoomTo();\n\tviewer_17583115384591813.addModel(\" 14\\n\\nC    0.313235  -0.160571   0.120428   -0.004882  -0.012435   0.020309\\nC   -0.775663  -1.181532   0.122550   -0.010185  -0.003793  -0.019349\\nO    1.509719  -0.507673  -0.442035    0.000366   0.000024  -0.000787\\nC   -2.090841  -0.451704  -0.017254    0.000101  -0.000641  -0.000561\\nH   -0.580032  -2.213606  -0.122680   -0.017284  -0.026430   0.037130\\nH   -0.063905  -0.771933   1.176607    0.765453   0.638487   0.041255\\nC   -1.665911   1.001334  -0.067875    0.000454   0.000051  -0.000914\\nH   -2.635927  -0.746712  -0.926488   -0.027094   0.015994   0.006687\\nH   -2.775913  -0.643869   0.817219    0.003305   0.004549   0.010267\\nC   -0.339926   1.148458  -0.007007   -0.002542   0.001784  -0.000192\\nH   -2.379354   1.814360  -0.107126   -0.000495   0.000554  -0.007156\\nH    0.204075   2.082272  -0.004158   -0.000526   0.000527   0.002004\\nO    2.554962   0.233017   0.284024   -0.000666  -0.000272  -0.000178\\nH    3.068238   0.540820  -0.474334   -0.003711  -0.000344  -0.000192\",\"xyz\",{\"vibrate\": {\"frames\": 10, \"amplitude\": 1}});\n\tviewer_17583115384591813.setStyle({\"stick\": {}, \"sphere\": {\"radius\": 0.3}});\n\tviewer_17583115384591813.setBackgroundColor(\"0xeeeeee\");\n\tviewer_17583115384591813.animate({\"loop\": \"backAndForth\"});\n\tviewer_17583115384591813.zoomTo();\nviewer_17583115384591813.render();\n});\n</script>",
      "text/html": [
       "<div id=\"3dmolviewer_17583115384591813\"  style=\"position: relative; width: 400px; height: 400px;\">\n",
       "        <p id=\"3dmolwarning_17583115384591813\" style=\"background-color:#ffcccc;color:black\">3Dmol.js failed to load for some reason.  Please check your browser console for error messages.<br></p>\n",
       "        </div>\n",
       "<script>\n",
       "\n",
       "var loadScriptAsync = function(uri){\n",
       "  return new Promise((resolve, reject) => {\n",
       "    //this is to ignore the existence of requirejs amd\n",
       "    var savedexports, savedmodule;\n",
       "    if (typeof exports !== 'undefined') savedexports = exports;\n",
       "    else exports = {}\n",
       "    if (typeof module !== 'undefined') savedmodule = module;\n",
       "    else module = {}\n",
       "\n",
       "    var tag = document.createElement('script');\n",
       "    tag.src = uri;\n",
       "    tag.async = true;\n",
       "    tag.onload = () => {\n",
       "        exports = savedexports;\n",
       "        module = savedmodule;\n",
       "        resolve();\n",
       "    };\n",
       "  var firstScriptTag = document.getElementsByTagName('script')[0];\n",
       "  firstScriptTag.parentNode.insertBefore(tag, firstScriptTag);\n",
       "});\n",
       "};\n",
       "\n",
       "if(typeof $3Dmolpromise === 'undefined') {\n",
       "$3Dmolpromise = null;\n",
       "  $3Dmolpromise = loadScriptAsync('https://cdn.jsdelivr.net/npm/3dmol@2.5.2/build/3Dmol-min.js');\n",
       "}\n",
       "\n",
       "var viewer_17583115384591813 = null;\n",
       "var warn = document.getElementById(\"3dmolwarning_17583115384591813\");\n",
       "if(warn) {\n",
       "    warn.parentNode.removeChild(warn);\n",
       "}\n",
       "$3Dmolpromise.then(function() {\n",
       "viewer_17583115384591813 = $3Dmol.createViewer(document.getElementById(\"3dmolviewer_17583115384591813\"),{backgroundColor:\"white\"});\n",
       "viewer_17583115384591813.zoomTo();\n",
       "\tviewer_17583115384591813.addModel(\" 14\\n\\nC    0.313235  -0.160571   0.120428   -0.004882  -0.012435   0.020309\\nC   -0.775663  -1.181532   0.122550   -0.010185  -0.003793  -0.019349\\nO    1.509719  -0.507673  -0.442035    0.000366   0.000024  -0.000787\\nC   -2.090841  -0.451704  -0.017254    0.000101  -0.000641  -0.000561\\nH   -0.580032  -2.213606  -0.122680   -0.017284  -0.026430   0.037130\\nH   -0.063905  -0.771933   1.176607    0.765453   0.638487   0.041255\\nC   -1.665911   1.001334  -0.067875    0.000454   0.000051  -0.000914\\nH   -2.635927  -0.746712  -0.926488   -0.027094   0.015994   0.006687\\nH   -2.775913  -0.643869   0.817219    0.003305   0.004549   0.010267\\nC   -0.339926   1.148458  -0.007007   -0.002542   0.001784  -0.000192\\nH   -2.379354   1.814360  -0.107126   -0.000495   0.000554  -0.007156\\nH    0.204075   2.082272  -0.004158   -0.000526   0.000527   0.002004\\nO    2.554962   0.233017   0.284024   -0.000666  -0.000272  -0.000178\\nH    3.068238   0.540820  -0.474334   -0.003711  -0.000344  -0.000192\",\"xyz\",{\"vibrate\": {\"frames\": 10, \"amplitude\": 1}});\n",
       "\tviewer_17583115384591813.setStyle({\"stick\": {}, \"sphere\": {\"radius\": 0.3}});\n",
       "\tviewer_17583115384591813.setBackgroundColor(\"0xeeeeee\");\n",
       "\tviewer_17583115384591813.animate({\"loop\": \"backAndForth\"});\n",
       "\tviewer_17583115384591813.zoomTo();\n",
       "viewer_17583115384591813.render();\n",
       "});\n",
       "</script>"
      ]
     },
     "metadata": {},
     "output_type": "display_data"
    }
   ],
   "source": [
    "from mechdriver.subtasks import display as display_\n",
    "\n",
    "display_(\"conf_opt\", \"77: 1\")\n",
    "# display_(\"find_ts\", \"30: 1\")"
   ]
  },
  {
   "cell_type": "code",
   "execution_count": null,
   "id": "f998fd88",
   "metadata": {},
   "outputs": [],
   "source": []
  }
 ],
 "metadata": {
  "kernelspec": {
   "display_name": "dev2",
   "language": "python",
   "name": "python3"
  },
  "language_info": {
   "codemirror_mode": {
    "name": "ipython",
    "version": 3
   },
   "file_extension": ".py",
   "mimetype": "text/x-python",
   "name": "python",
   "nbconvert_exporter": "python",
   "pygments_lexer": "ipython3",
   "version": "3.11.13"
  }
 },
 "nbformat": 4,
 "nbformat_minor": 5
}
