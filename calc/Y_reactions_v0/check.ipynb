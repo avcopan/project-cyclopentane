{
 "cells": [
  {
   "cell_type": "code",
   "execution_count": 13,
   "id": "8544c7fb",
   "metadata": {},
   "outputs": [
    {
     "name": "stdout",
     "output_type": "stream",
     "text": [
      "----\n",
      "/home/avcopan/proj/project-cyclopentane/save/RXN/C5H9O2/XWIANGFMAQPCGG/0/2/YFKPBYRVSA-N/C5H9O2/WVUQXAJLGBHGFS/0/2/UHFFFAOYSA-N/2/u-unGOU/TS/00/CONFS/rJ_wLBrhywZQe/cFBIWSmkd7yNF\n",
      "Lowest frequency mode:\n",
      "  frequency: -1150.4374249762677\n",
      "\n"
     ]
    },
    {
     "data": {
      "application/3dmoljs_load.v0": "<div id=\"3dmolviewer_17581320068041363\"  style=\"position: relative; width: 400px; height: 400px;\">\n        <p id=\"3dmolwarning_17581320068041363\" style=\"background-color:#ffcccc;color:black\">3Dmol.js failed to load for some reason.  Please check your browser console for error messages.<br></p>\n        </div>\n<script>\n\nvar loadScriptAsync = function(uri){\n  return new Promise((resolve, reject) => {\n    //this is to ignore the existence of requirejs amd\n    var savedexports, savedmodule;\n    if (typeof exports !== 'undefined') savedexports = exports;\n    else exports = {}\n    if (typeof module !== 'undefined') savedmodule = module;\n    else module = {}\n\n    var tag = document.createElement('script');\n    tag.src = uri;\n    tag.async = true;\n    tag.onload = () => {\n        exports = savedexports;\n        module = savedmodule;\n        resolve();\n    };\n  var firstScriptTag = document.getElementsByTagName('script')[0];\n  firstScriptTag.parentNode.insertBefore(tag, firstScriptTag);\n});\n};\n\nif(typeof $3Dmolpromise === 'undefined') {\n$3Dmolpromise = null;\n  $3Dmolpromise = loadScriptAsync('https://cdn.jsdelivr.net/npm/3dmol@2.5.2/build/3Dmol-min.js');\n}\n\nvar viewer_17581320068041363 = null;\nvar warn = document.getElementById(\"3dmolwarning_17581320068041363\");\nif(warn) {\n    warn.parentNode.removeChild(warn);\n}\n$3Dmolpromise.then(function() {\nviewer_17581320068041363 = $3Dmol.createViewer(document.getElementById(\"3dmolviewer_17581320068041363\"),{backgroundColor:\"white\"});\nviewer_17581320068041363.zoomTo();\n\tviewer_17581320068041363.addModel(\" 16\\n\\nC   -0.335305  -0.149356  -0.580907   -0.029451   0.000280   0.026626\\nC    0.348741   1.125259  -0.353699    0.000758  -0.015412  -0.018503\\nO   -1.610255  -0.269457  -0.785522    0.018479  -0.008628  -0.023229\\nC    1.680899   0.913301   0.266642   -0.000449  -0.001872  -0.004648\\nH   -0.077132   2.078949  -0.670372   -0.033135  -0.044936  -0.020008\\nH    0.146661  -0.020762  -1.640717    0.537400   0.806044   0.199409\\nC    1.894418  -0.616953   0.210060    0.000199  -0.000894   0.000170\\nH    2.499251   1.499320  -0.180317   -0.003530   0.010263   0.014205\\nH    1.599485   1.247409   1.320427   -0.100775   0.007257  -0.032052\\nC    0.481488  -1.203218   0.180031    0.002387  -0.001443  -0.003820\\nH    2.426732  -0.874870  -0.720805    0.009546   0.005675   0.002510\\nH    2.506034  -0.984550   1.044799    0.001537   0.012392   0.004630\\nH    0.031355  -1.256361   1.183742   -0.023314   0.004836  -0.025752\\nH    0.414134  -2.196863  -0.281999   -0.003508   0.001009  -0.016623\\nO   -2.255397   0.310498   0.892397   -0.007633   0.008584   0.021729\\nH   -3.042755  -0.234787   0.757484    0.021136  -0.005165  -0.024325\",\"xyz\",{\"vibrate\": {\"frames\": 10, \"amplitude\": 1}});\n\tviewer_17581320068041363.setStyle({\"stick\": {}, \"sphere\": {\"radius\": 0.3}});\n\tviewer_17581320068041363.setBackgroundColor(\"0xeeeeee\");\n\tviewer_17581320068041363.animate({\"loop\": \"backAndForth\"});\n\tviewer_17581320068041363.zoomTo();\nviewer_17581320068041363.render();\n});\n</script>",
      "text/html": [
       "<div id=\"3dmolviewer_17581320068041363\"  style=\"position: relative; width: 400px; height: 400px;\">\n",
       "        <p id=\"3dmolwarning_17581320068041363\" style=\"background-color:#ffcccc;color:black\">3Dmol.js failed to load for some reason.  Please check your browser console for error messages.<br></p>\n",
       "        </div>\n",
       "<script>\n",
       "\n",
       "var loadScriptAsync = function(uri){\n",
       "  return new Promise((resolve, reject) => {\n",
       "    //this is to ignore the existence of requirejs amd\n",
       "    var savedexports, savedmodule;\n",
       "    if (typeof exports !== 'undefined') savedexports = exports;\n",
       "    else exports = {}\n",
       "    if (typeof module !== 'undefined') savedmodule = module;\n",
       "    else module = {}\n",
       "\n",
       "    var tag = document.createElement('script');\n",
       "    tag.src = uri;\n",
       "    tag.async = true;\n",
       "    tag.onload = () => {\n",
       "        exports = savedexports;\n",
       "        module = savedmodule;\n",
       "        resolve();\n",
       "    };\n",
       "  var firstScriptTag = document.getElementsByTagName('script')[0];\n",
       "  firstScriptTag.parentNode.insertBefore(tag, firstScriptTag);\n",
       "});\n",
       "};\n",
       "\n",
       "if(typeof $3Dmolpromise === 'undefined') {\n",
       "$3Dmolpromise = null;\n",
       "  $3Dmolpromise = loadScriptAsync('https://cdn.jsdelivr.net/npm/3dmol@2.5.2/build/3Dmol-min.js');\n",
       "}\n",
       "\n",
       "var viewer_17581320068041363 = null;\n",
       "var warn = document.getElementById(\"3dmolwarning_17581320068041363\");\n",
       "if(warn) {\n",
       "    warn.parentNode.removeChild(warn);\n",
       "}\n",
       "$3Dmolpromise.then(function() {\n",
       "viewer_17581320068041363 = $3Dmol.createViewer(document.getElementById(\"3dmolviewer_17581320068041363\"),{backgroundColor:\"white\"});\n",
       "viewer_17581320068041363.zoomTo();\n",
       "\tviewer_17581320068041363.addModel(\" 16\\n\\nC   -0.335305  -0.149356  -0.580907   -0.029451   0.000280   0.026626\\nC    0.348741   1.125259  -0.353699    0.000758  -0.015412  -0.018503\\nO   -1.610255  -0.269457  -0.785522    0.018479  -0.008628  -0.023229\\nC    1.680899   0.913301   0.266642   -0.000449  -0.001872  -0.004648\\nH   -0.077132   2.078949  -0.670372   -0.033135  -0.044936  -0.020008\\nH    0.146661  -0.020762  -1.640717    0.537400   0.806044   0.199409\\nC    1.894418  -0.616953   0.210060    0.000199  -0.000894   0.000170\\nH    2.499251   1.499320  -0.180317   -0.003530   0.010263   0.014205\\nH    1.599485   1.247409   1.320427   -0.100775   0.007257  -0.032052\\nC    0.481488  -1.203218   0.180031    0.002387  -0.001443  -0.003820\\nH    2.426732  -0.874870  -0.720805    0.009546   0.005675   0.002510\\nH    2.506034  -0.984550   1.044799    0.001537   0.012392   0.004630\\nH    0.031355  -1.256361   1.183742   -0.023314   0.004836  -0.025752\\nH    0.414134  -2.196863  -0.281999   -0.003508   0.001009  -0.016623\\nO   -2.255397   0.310498   0.892397   -0.007633   0.008584   0.021729\\nH   -3.042755  -0.234787   0.757484    0.021136  -0.005165  -0.024325\",\"xyz\",{\"vibrate\": {\"frames\": 10, \"amplitude\": 1}});\n",
       "\tviewer_17581320068041363.setStyle({\"stick\": {}, \"sphere\": {\"radius\": 0.3}});\n",
       "\tviewer_17581320068041363.setBackgroundColor(\"0xeeeeee\");\n",
       "\tviewer_17581320068041363.animate({\"loop\": \"backAndForth\"});\n",
       "\tviewer_17581320068041363.zoomTo();\n",
       "viewer_17581320068041363.render();\n",
       "});\n",
       "</script>"
      ]
     },
     "metadata": {},
     "output_type": "display_data"
    }
   ],
   "source": [
    "from mechdriver.subtasks import display as display_\n",
    "\n",
    "display_(\"find_ts\", \"84: 1\")\n",
    "# display_(\"find_ts\", \"30: 1\")"
   ]
  },
  {
   "cell_type": "code",
   "execution_count": null,
   "id": "4364f0df",
   "metadata": {},
   "outputs": [],
   "source": []
  }
 ],
 "metadata": {
  "kernelspec": {
   "display_name": "dev2",
   "language": "python",
   "name": "python3"
  },
  "language_info": {
   "codemirror_mode": {
    "name": "ipython",
    "version": 3
   },
   "file_extension": ".py",
   "mimetype": "text/x-python",
   "name": "python",
   "nbconvert_exporter": "python",
   "pygments_lexer": "ipython3",
   "version": "3.11.13"
  }
 },
 "nbformat": 4,
 "nbformat_minor": 5
}
