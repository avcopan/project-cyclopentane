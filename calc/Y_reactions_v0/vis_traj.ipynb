{
 "cells": [
  {
   "cell_type": "code",
   "execution_count": 1,
   "id": "f449b4ec",
   "metadata": {},
   "outputs": [],
   "source": [
    "# %\n",
    "from pathlib import Path\n",
    "\n",
    "import automol"
   ]
  },
  {
   "cell_type": "code",
   "execution_count": 2,
   "id": "6beffff8",
   "metadata": {},
   "outputs": [
    {
     "name": "stdout",
     "output_type": "stream",
     "text": [
      "0: energy: -344.6622576110 \t rOv6fVpNIl7Wa\n",
      "1: energy: -344.6621744110 \t r37Wz0_KJOeSy\n",
      "2: energy: -344.6614299770 \t rAbcjnsiRiyQq\n",
      "3: energy: -344.6588841110 \t r37Wz0_KJOeSy\n",
      "4: energy: -344.6585078690 \t r37Wz0_KJOeSy\n",
      "5: energy: -344.6558660650 \t rii-NneFGVda9\n",
      "6: energy: -344.6554346970 \t rWeXokCjbTGjQ\n",
      "7: energy: -344.6547617390 \t rii-NneFGVda9\n",
      "8: energy: -344.6538446250 \t r6ufET8vTL1iW\n",
      "9: energy: -344.6529672740 \t riq-ID5JLqGEf\n",
      "10: energy: -344.6522697460 \t r37Wz0_KJOeSy\n",
      "11: energy: -344.6515354420 \t rAbcjnsiRiyQq\n",
      "12: energy: -344.6456559470 \t rT9se3s3_RDj4\n",
      "13: energy: -344.6386365460 \t rT9se3s3_RDj4\n",
      "14: energy: -344.6385340160 \t rT9se3s3_RDj4\n",
      "15: energy: -344.6383519020 \t rT9se3s3_RDj4\n",
      "16: energy: -344.6376231820 \t rT9se3s3_RDj4\n",
      "17: energy: -344.6375527680 \t rT9se3s3_RDj4\n",
      "18: energy: -344.6373835030 \t rT9se3s3_RDj4\n",
      "19: energy: -344.6373250340 \t rT9se3s3_RDj4\n",
      "20: energy: -344.6373164100 \t rT9se3s3_RDj4\n",
      "21: energy: -344.6373061440 \t rT9se3s3_RDj4\n",
      "22: energy: -344.6372397790 \t rT9se3s3_RDj4\n",
      "23: energy: -344.6369856540 \t rT9se3s3_RDj4\n",
      "24: energy: -344.6368491980 \t rT9se3s3_RDj4\n",
      "25: energy: -344.6274847030 \t rNi6TJow9ALv5\n",
      "26: energy: -344.6243680650 \t rNi6TJow9ALv5\n",
      "27: energy: -344.6236096120 \t rNi6TJow9ALv5\n",
      "28: energy: -344.6218796490 \t rNi6TJow9ALv5\n",
      "29: energy: -344.6216389500 \t rNi6TJow9ALv5\n",
      "30: energy: -344.5862684500 \t r37Wz0_KJOeSy\n",
      "31: energy: -344.5790239700 \t r37Wz0_KJOeSy\n",
      "32: energy: -344.5690971410 \t r37Wz0_KJOeSy\n",
      "33: energy: -344.5547900470 \t r37Wz0_KJOeSy\n",
      "34: energy: -344.5426396740 \t roCY-ZaYIhtUh\n",
      "35: energy: -344.5424484780 \t roCY-ZaYIhtUh\n",
      "36: energy: -344.5418566050 \t roCY-ZaYIhtUh\n",
      "37: energy: -344.5417653220 \t roCY-ZaYIhtUh\n",
      "38: energy: -344.5403967280 \t rD0IBOLcR0GTb\n",
      "39: energy: -344.5395048180 \t rAQXSW0f9inn_\n",
      "40: energy: -344.5386898130 \t r37Wz0_KJOeSy\n",
      "41: energy: -344.5381347920 \t rx_FTbXtkEYCr\n",
      "42: energy: -344.5369075480 \t roCY-ZaYIhtUh\n",
      "43: energy: -344.5363878960 \t rx_FTbXtkEYCr\n",
      "44: energy: -344.5357467800 \t rAQXSW0f9inn_\n",
      "45: energy: -344.5354587500 \t rAQXSW0f9inn_\n",
      "46: energy: -344.5349854400 \t rx_FTbXtkEYCr\n",
      "47: energy: -344.5115967690 \t r37Wz0_KJOeSy\n",
      "48: energy: -344.5055864520 \t r37Wz0_KJOeSy\n"
     ]
    }
   ],
   "source": [
    "geo_file = Path(\n",
    "    \"/home/avcopan/proj/project-cyclopentane/save/RXN/C5H7O2/YWYASAZFZZQGPR/0/2/YFKPBYRVSA-N/C5H7O2/JZPRKFPRGOLEFY/0/2/RXMQYKEDSA-N/2/u-unGOU/TS/01/CONFS/conf.t.xyz\"\n",
    ")\n",
    "geos, comments = zip(\n",
    "    *automol.geom.from_xyz_trajectory_string(geo_file.read_text()),\n",
    "    strict=True,\n",
    ")\n",
    "for index, comment in enumerate(comments):\n",
    "    print(f\"{index}: {comment}\")"
   ]
  },
  {
   "cell_type": "code",
   "execution_count": 6,
   "id": "d16625ba",
   "metadata": {},
   "outputs": [
    {
     "data": {
      "application/3dmoljs_load.v0": "<div id=\"3dmolviewer_17579571315033636\"  style=\"position: relative; width: 400px; height: 400px;\">\n        <p id=\"3dmolwarning_17579571315033636\" style=\"background-color:#ffcccc;color:black\">3Dmol.js failed to load for some reason.  Please check your browser console for error messages.<br></p>\n        </div>\n<script>\n\nvar loadScriptAsync = function(uri){\n  return new Promise((resolve, reject) => {\n    //this is to ignore the existence of requirejs amd\n    var savedexports, savedmodule;\n    if (typeof exports !== 'undefined') savedexports = exports;\n    else exports = {}\n    if (typeof module !== 'undefined') savedmodule = module;\n    else module = {}\n\n    var tag = document.createElement('script');\n    tag.src = uri;\n    tag.async = true;\n    tag.onload = () => {\n        exports = savedexports;\n        module = savedmodule;\n        resolve();\n    };\n  var firstScriptTag = document.getElementsByTagName('script')[0];\n  firstScriptTag.parentNode.insertBefore(tag, firstScriptTag);\n});\n};\n\nif(typeof $3Dmolpromise === 'undefined') {\n$3Dmolpromise = null;\n  $3Dmolpromise = loadScriptAsync('https://cdn.jsdelivr.net/npm/3dmol@2.5.2/build/3Dmol-min.js');\n}\n\nvar viewer_17579571315033636 = null;\nvar warn = document.getElementById(\"3dmolwarning_17579571315033636\");\nif(warn) {\n    warn.parentNode.removeChild(warn);\n}\n$3Dmolpromise.then(function() {\nviewer_17579571315033636 = $3Dmol.createViewer(document.getElementById(\"3dmolviewer_17579571315033636\"),{backgroundColor:\"white\"});\nviewer_17579571315033636.zoomTo();\n\tviewer_17579571315033636.addModel(\"\\n  automech\\n\\n  0  0  0  0  0  0  0  0  0  0999 V3000\\nM  V30 BEGIN CTAB\\nM  V30 COUNTS 14 14 0 0 0\\nM  V30 BEGIN ATOM\\nM  V30 1 C 0.842 -1.211 0.143 RAD=1 VAL=4\\nM  V30 2 C 2.027 -0.351 -0.190 RAD=2 VAL=3\\nM  V30 3 H 1.033 -1.894 0.986 RAD=1 VAL=1\\nM  V30 4 C 1.669 0.992 -0.164 RAD=2 VAL=3\\nM  V30 5 H 3.014 -0.744 -0.437 RAD=1 VAL=1\\nM  V30 6 C 0.336 1.145 0.192 RAD=2 VAL=3\\nM  V30 7 H 2.348 1.815 -0.394 RAD=1 VAL=1\\nM  V30 8 H 0.539 -1.842 -0.711 RAD=1 VAL=1\\nM  V30 9 C -0.286 -0.203 0.454 RAD=1 VAL=4\\nM  V30 10 H -0.212 2.082 0.281 RAD=1 VAL=1\\nM  V30 11 H -0.647 -0.283 1.497 RAD=1 VAL=1\\nM  V30 12 O -1.370 -0.515 -0.401 RAD=1 VAL=2\\nM  V30 13 O -2.435 0.355 -0.020 RAD=1 VAL=2\\nM  V30 14 H -3.168 -0.085 -0.466 RAD=1 VAL=1\\nM  V30 END ATOM\\nM  V30 BEGIN BOND\\nM  V30 1 1 2 5 CFG=0\\nM  V30 2 1 9 12 CFG=0\\nM  V30 3 1 12 13 CFG=0\\nM  V30 4 1 1 2 CFG=0\\nM  V30 5 1 1 3 CFG=0\\nM  V30 6 1 4 7 CFG=0\\nM  V30 7 1 9 11 CFG=0\\nM  V30 8 1 4 6 CFG=0\\nM  V30 9 1 1 8 CFG=0\\nM  V30 10 1 6 9 CFG=0\\nM  V30 11 1 13 14 CFG=0\\nM  V30 12 1 2 4 CFG=0\\nM  V30 13 1 6 10 CFG=0\\nM  V30 14 1 1 9 CFG=0\\nM  V30 END BOND\\nM  V30 END CTAB\\nM  END\\n\",\"sdf\");\n\tviewer_17579571315033636.setStyle({\"stick\": {}, \"sphere\": {\"radius\": 0.3}});\n\tviewer_17579571315033636.setBackgroundColor(\"0xeeeeee\");\n\tviewer_17579571315033636.zoomTo();\nviewer_17579571315033636.render();\n});\n</script>",
      "text/html": [
       "<div id=\"3dmolviewer_17579571315033636\"  style=\"position: relative; width: 400px; height: 400px;\">\n",
       "        <p id=\"3dmolwarning_17579571315033636\" style=\"background-color:#ffcccc;color:black\">3Dmol.js failed to load for some reason.  Please check your browser console for error messages.<br></p>\n",
       "        </div>\n",
       "<script>\n",
       "\n",
       "var loadScriptAsync = function(uri){\n",
       "  return new Promise((resolve, reject) => {\n",
       "    //this is to ignore the existence of requirejs amd\n",
       "    var savedexports, savedmodule;\n",
       "    if (typeof exports !== 'undefined') savedexports = exports;\n",
       "    else exports = {}\n",
       "    if (typeof module !== 'undefined') savedmodule = module;\n",
       "    else module = {}\n",
       "\n",
       "    var tag = document.createElement('script');\n",
       "    tag.src = uri;\n",
       "    tag.async = true;\n",
       "    tag.onload = () => {\n",
       "        exports = savedexports;\n",
       "        module = savedmodule;\n",
       "        resolve();\n",
       "    };\n",
       "  var firstScriptTag = document.getElementsByTagName('script')[0];\n",
       "  firstScriptTag.parentNode.insertBefore(tag, firstScriptTag);\n",
       "});\n",
       "};\n",
       "\n",
       "if(typeof $3Dmolpromise === 'undefined') {\n",
       "$3Dmolpromise = null;\n",
       "  $3Dmolpromise = loadScriptAsync('https://cdn.jsdelivr.net/npm/3dmol@2.5.2/build/3Dmol-min.js');\n",
       "}\n",
       "\n",
       "var viewer_17579571315033636 = null;\n",
       "var warn = document.getElementById(\"3dmolwarning_17579571315033636\");\n",
       "if(warn) {\n",
       "    warn.parentNode.removeChild(warn);\n",
       "}\n",
       "$3Dmolpromise.then(function() {\n",
       "viewer_17579571315033636 = $3Dmol.createViewer(document.getElementById(\"3dmolviewer_17579571315033636\"),{backgroundColor:\"white\"});\n",
       "viewer_17579571315033636.zoomTo();\n",
       "\tviewer_17579571315033636.addModel(\"\\n  automech\\n\\n  0  0  0  0  0  0  0  0  0  0999 V3000\\nM  V30 BEGIN CTAB\\nM  V30 COUNTS 14 14 0 0 0\\nM  V30 BEGIN ATOM\\nM  V30 1 C 0.842 -1.211 0.143 RAD=1 VAL=4\\nM  V30 2 C 2.027 -0.351 -0.190 RAD=2 VAL=3\\nM  V30 3 H 1.033 -1.894 0.986 RAD=1 VAL=1\\nM  V30 4 C 1.669 0.992 -0.164 RAD=2 VAL=3\\nM  V30 5 H 3.014 -0.744 -0.437 RAD=1 VAL=1\\nM  V30 6 C 0.336 1.145 0.192 RAD=2 VAL=3\\nM  V30 7 H 2.348 1.815 -0.394 RAD=1 VAL=1\\nM  V30 8 H 0.539 -1.842 -0.711 RAD=1 VAL=1\\nM  V30 9 C -0.286 -0.203 0.454 RAD=1 VAL=4\\nM  V30 10 H -0.212 2.082 0.281 RAD=1 VAL=1\\nM  V30 11 H -0.647 -0.283 1.497 RAD=1 VAL=1\\nM  V30 12 O -1.370 -0.515 -0.401 RAD=1 VAL=2\\nM  V30 13 O -2.435 0.355 -0.020 RAD=1 VAL=2\\nM  V30 14 H -3.168 -0.085 -0.466 RAD=1 VAL=1\\nM  V30 END ATOM\\nM  V30 BEGIN BOND\\nM  V30 1 1 2 5 CFG=0\\nM  V30 2 1 9 12 CFG=0\\nM  V30 3 1 12 13 CFG=0\\nM  V30 4 1 1 2 CFG=0\\nM  V30 5 1 1 3 CFG=0\\nM  V30 6 1 4 7 CFG=0\\nM  V30 7 1 9 11 CFG=0\\nM  V30 8 1 4 6 CFG=0\\nM  V30 9 1 1 8 CFG=0\\nM  V30 10 1 6 9 CFG=0\\nM  V30 11 1 13 14 CFG=0\\nM  V30 12 1 2 4 CFG=0\\nM  V30 13 1 6 10 CFG=0\\nM  V30 14 1 1 9 CFG=0\\nM  V30 END BOND\\nM  V30 END CTAB\\nM  END\\n\",\"sdf\");\n",
       "\tviewer_17579571315033636.setStyle({\"stick\": {}, \"sphere\": {\"radius\": 0.3}});\n",
       "\tviewer_17579571315033636.setBackgroundColor(\"0xeeeeee\");\n",
       "\tviewer_17579571315033636.zoomTo();\n",
       "viewer_17579571315033636.render();\n",
       "});\n",
       "</script>"
      ]
     },
     "metadata": {},
     "output_type": "display_data"
    }
   ],
   "source": [
    "index = 2\n",
    "automol.geom.display(geos[index])"
   ]
  },
  {
   "cell_type": "code",
   "execution_count": null,
   "id": "7a637157",
   "metadata": {},
   "outputs": [],
   "source": []
  }
 ],
 "metadata": {
  "jupytext": {
   "cell_metadata_filter": "-all",
   "main_language": "python",
   "notebook_metadata_filter": "-all"
  },
  "kernelspec": {
   "display_name": "dev2",
   "language": "python",
   "name": "python3"
  },
  "language_info": {
   "codemirror_mode": {
    "name": "ipython",
    "version": 3
   },
   "file_extension": ".py",
   "mimetype": "text/x-python",
   "name": "python",
   "nbconvert_exporter": "python",
   "pygments_lexer": "ipython3",
   "version": "3.11.13"
  }
 },
 "nbformat": 4,
 "nbformat_minor": 5
}
