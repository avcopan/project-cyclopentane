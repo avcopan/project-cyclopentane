{
 "cells": [
  {
   "cell_type": "code",
   "execution_count": null,
   "id": "f449b4ec",
   "metadata": {},
   "outputs": [],
   "source": [
    "# %\n",
    "from pathlib import Path\n",
    "\n",
    "import automol"
   ]
  },
  {
   "cell_type": "code",
   "execution_count": null,
   "id": "6beffff8",
   "metadata": {},
   "outputs": [],
   "source": [
    "geo_file = Path(\n",
    "    \"/home/avcopan/proj/project-cyclopentane/save/RXN/C5H7O2/IRGHRGZMVRJVME/0/2/UHFFFAOYSA-N/C5H7O2/JZPRKFPRGOLEFY/0/2/YFKPBYRVSA-N/2/u-unGOU/TS/00/Z/00/CSCANS/ObU/scan.t.xyz\"\n",
    ")\n",
    "geos, comments = zip(\n",
    "    *automol.geom.from_xyz_trajectory_string(geo_file.read_text()),\n",
    "    strict=True,\n",
    ")\n",
    "for index, comment in enumerate(comments):\n",
    "    print(f\"{index}: {comment}\")"
   ]
  },
  {
   "cell_type": "code",
   "execution_count": null,
   "id": "790d78d8",
   "metadata": {},
   "outputs": [],
   "source": [
    "import altair as alt\n",
    "import pandas as pd\n",
    "import pyparsing as pp\n",
    "from pyparsing import pyparsing_common as ppc\n",
    "\n",
    "expr = (\n",
    "    pp.Keyword(\"energy:\")\n",
    "    + ppc.fnumber(\"energy\")\n",
    "    + \",\"\n",
    "    + pp.Keyword(\"grid idxs:\")\n",
    "    + ppc.fnumber(\"grid\")\n",
    ")\n",
    "\n",
    "data = [expr.parse_string(c).as_dict() for c in comments]\n",
    "df = pd.DataFrame(data)\n",
    "alt.Chart(df).mark_line().encode(x=\"grid\", y=alt.Y(\"energy\").scale(zero=False))"
   ]
  },
  {
   "cell_type": "code",
   "execution_count": null,
   "id": "d16625ba",
   "metadata": {},
   "outputs": [],
   "source": [
    "index = 3\n",
    "automol.geom.display(geos[index])"
   ]
  },
  {
   "cell_type": "code",
   "execution_count": null,
   "id": "7a637157",
   "metadata": {},
   "outputs": [],
   "source": []
  }
 ],
 "metadata": {
  "jupytext": {
   "cell_metadata_filter": "-all",
   "main_language": "python",
   "notebook_metadata_filter": "-all"
  },
  "kernelspec": {
   "display_name": "dev2",
   "language": "python",
   "name": "python3"
  },
  "language_info": {
   "codemirror_mode": {
    "name": "ipython",
    "version": 3
   },
   "file_extension": ".py",
   "mimetype": "text/x-python",
   "name": "python",
   "nbconvert_exporter": "python",
   "pygments_lexer": "ipython3",
   "version": "3.11.13"
  }
 },
 "nbformat": 4,
 "nbformat_minor": 5
}
