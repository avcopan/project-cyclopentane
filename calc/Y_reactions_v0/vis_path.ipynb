{
 "cells": [
  {
   "cell_type": "code",
   "execution_count": null,
   "id": "82bf0e47",
   "metadata": {},
   "outputs": [
    {
     "data": {
      "application/3dmoljs_load.v0": "<div id=\"3dmolviewer_17581259752368872\"  style=\"position: relative; width: 400px; height: 400px;\">\n        <p id=\"3dmolwarning_17581259752368872\" style=\"background-color:#ffcccc;color:black\">3Dmol.js failed to load for some reason.  Please check your browser console for error messages.<br></p>\n        </div>\n<script>\n\nvar loadScriptAsync = function(uri){\n  return new Promise((resolve, reject) => {\n    //this is to ignore the existence of requirejs amd\n    var savedexports, savedmodule;\n    if (typeof exports !== 'undefined') savedexports = exports;\n    else exports = {}\n    if (typeof module !== 'undefined') savedmodule = module;\n    else module = {}\n\n    var tag = document.createElement('script');\n    tag.src = uri;\n    tag.async = true;\n    tag.onload = () => {\n        exports = savedexports;\n        module = savedmodule;\n        resolve();\n    };\n  var firstScriptTag = document.getElementsByTagName('script')[0];\n  firstScriptTag.parentNode.insertBefore(tag, firstScriptTag);\n});\n};\n\nif(typeof $3Dmolpromise === 'undefined') {\n$3Dmolpromise = null;\n  $3Dmolpromise = loadScriptAsync('https://cdn.jsdelivr.net/npm/3dmol@2.5.2/build/3Dmol-min.js');\n}\n\nvar viewer_17581259752368872 = null;\nvar warn = document.getElementById(\"3dmolwarning_17581259752368872\");\nif(warn) {\n    warn.parentNode.removeChild(warn);\n}\n$3Dmolpromise.then(function() {\nviewer_17581259752368872 = $3Dmol.createViewer(document.getElementById(\"3dmolviewer_17581259752368872\"),{backgroundColor:\"white\"});\nviewer_17581259752368872.zoomTo();\n\tviewer_17581259752368872.addModel(\"\\n  automech\\n\\n  0  0  0  0  0  0  0  0  0  0999 V3000\\nM  V30 BEGIN CTAB\\nM  V30 COUNTS 14 14 0 0 0\\nM  V30 BEGIN ATOM\\nM  V30 1 C 0.456 -1.153 -0.426 RAD=2 VAL=3\\nM  V30 2 C 1.579 -0.685 0.412 RAD=1 VAL=4\\nM  V30 3 H 0.102 -2.172 -0.446 RAD=1 VAL=1\\nM  V30 4 C 1.521 0.767 0.395 RAD=2 VAL=3\\nM  V30 5 H 2.103 -1.302 1.127 RAD=1 VAL=1\\nM  V30 6 H 1.758 -1.080 -0.769 RAD=1 VAL=1\\nM  V30 7 C 0.489 1.195 -0.357 RAD=2 VAL=3\\nM  V30 8 H 2.252 1.398 0.882 RAD=1 VAL=1\\nM  V30 9 C -0.331 0.044 -0.875 RAD=1 VAL=4\\nM  V30 10 H 0.262 2.225 -0.595 RAD=1 VAL=1\\nM  V30 11 H -0.531 0.086 -1.951 RAD=1 VAL=1\\nM  V30 12 O -1.699 0.036 -0.373 RAD=1 VAL=2\\nM  V30 13 O -1.651 -0.148 1.060 RAD=1 VAL=2\\nM  V30 14 H -1.431 0.746 1.356 RAD=1 VAL=1\\nM  V30 END ATOM\\nM  V30 BEGIN BOND\\nM  V30 1 1 7 10 CFG=0\\nM  V30 2 1 9 12 CFG=0\\nM  V30 3 1 2 5 CFG=0\\nM  V30 4 1 12 13 CFG=0\\nM  V30 5 1 4 8 CFG=0\\nM  V30 6 1 1 2 CFG=0\\nM  V30 7 1 1 3 CFG=0\\nM  V30 8 1 4 7 CFG=0\\nM  V30 9 1 9 11 CFG=0\\nM  V30 10 1 2 6 CFG=0\\nM  V30 11 1 7 9 CFG=0\\nM  V30 12 1 13 14 CFG=0\\nM  V30 13 1 2 4 CFG=0\\nM  V30 14 1 1 9 CFG=0\\nM  V30 END BOND\\nM  V30 END CTAB\\nM  END\\n\",\"sdf\");\n\tviewer_17581259752368872.setStyle({\"stick\": {}, \"sphere\": {\"radius\": 0.3}});\n\tviewer_17581259752368872.setBackgroundColor(\"0xeeeeee\");\n\tviewer_17581259752368872.zoomTo();\nviewer_17581259752368872.render();\n});\n</script>",
      "text/html": [
       "<div id=\"3dmolviewer_17581259752368872\"  style=\"position: relative; width: 400px; height: 400px;\">\n",
       "        <p id=\"3dmolwarning_17581259752368872\" style=\"background-color:#ffcccc;color:black\">3Dmol.js failed to load for some reason.  Please check your browser console for error messages.<br></p>\n",
       "        </div>\n",
       "<script>\n",
       "\n",
       "var loadScriptAsync = function(uri){\n",
       "  return new Promise((resolve, reject) => {\n",
       "    //this is to ignore the existence of requirejs amd\n",
       "    var savedexports, savedmodule;\n",
       "    if (typeof exports !== 'undefined') savedexports = exports;\n",
       "    else exports = {}\n",
       "    if (typeof module !== 'undefined') savedmodule = module;\n",
       "    else module = {}\n",
       "\n",
       "    var tag = document.createElement('script');\n",
       "    tag.src = uri;\n",
       "    tag.async = true;\n",
       "    tag.onload = () => {\n",
       "        exports = savedexports;\n",
       "        module = savedmodule;\n",
       "        resolve();\n",
       "    };\n",
       "  var firstScriptTag = document.getElementsByTagName('script')[0];\n",
       "  firstScriptTag.parentNode.insertBefore(tag, firstScriptTag);\n",
       "});\n",
       "};\n",
       "\n",
       "if(typeof $3Dmolpromise === 'undefined') {\n",
       "$3Dmolpromise = null;\n",
       "  $3Dmolpromise = loadScriptAsync('https://cdn.jsdelivr.net/npm/3dmol@2.5.2/build/3Dmol-min.js');\n",
       "}\n",
       "\n",
       "var viewer_17581259752368872 = null;\n",
       "var warn = document.getElementById(\"3dmolwarning_17581259752368872\");\n",
       "if(warn) {\n",
       "    warn.parentNode.removeChild(warn);\n",
       "}\n",
       "$3Dmolpromise.then(function() {\n",
       "viewer_17581259752368872 = $3Dmol.createViewer(document.getElementById(\"3dmolviewer_17581259752368872\"),{backgroundColor:\"white\"});\n",
       "viewer_17581259752368872.zoomTo();\n",
       "\tviewer_17581259752368872.addModel(\"\\n  automech\\n\\n  0  0  0  0  0  0  0  0  0  0999 V3000\\nM  V30 BEGIN CTAB\\nM  V30 COUNTS 14 14 0 0 0\\nM  V30 BEGIN ATOM\\nM  V30 1 C 0.456 -1.153 -0.426 RAD=2 VAL=3\\nM  V30 2 C 1.579 -0.685 0.412 RAD=1 VAL=4\\nM  V30 3 H 0.102 -2.172 -0.446 RAD=1 VAL=1\\nM  V30 4 C 1.521 0.767 0.395 RAD=2 VAL=3\\nM  V30 5 H 2.103 -1.302 1.127 RAD=1 VAL=1\\nM  V30 6 H 1.758 -1.080 -0.769 RAD=1 VAL=1\\nM  V30 7 C 0.489 1.195 -0.357 RAD=2 VAL=3\\nM  V30 8 H 2.252 1.398 0.882 RAD=1 VAL=1\\nM  V30 9 C -0.331 0.044 -0.875 RAD=1 VAL=4\\nM  V30 10 H 0.262 2.225 -0.595 RAD=1 VAL=1\\nM  V30 11 H -0.531 0.086 -1.951 RAD=1 VAL=1\\nM  V30 12 O -1.699 0.036 -0.373 RAD=1 VAL=2\\nM  V30 13 O -1.651 -0.148 1.060 RAD=1 VAL=2\\nM  V30 14 H -1.431 0.746 1.356 RAD=1 VAL=1\\nM  V30 END ATOM\\nM  V30 BEGIN BOND\\nM  V30 1 1 7 10 CFG=0\\nM  V30 2 1 9 12 CFG=0\\nM  V30 3 1 2 5 CFG=0\\nM  V30 4 1 12 13 CFG=0\\nM  V30 5 1 4 8 CFG=0\\nM  V30 6 1 1 2 CFG=0\\nM  V30 7 1 1 3 CFG=0\\nM  V30 8 1 4 7 CFG=0\\nM  V30 9 1 9 11 CFG=0\\nM  V30 10 1 2 6 CFG=0\\nM  V30 11 1 7 9 CFG=0\\nM  V30 12 1 13 14 CFG=0\\nM  V30 13 1 2 4 CFG=0\\nM  V30 14 1 1 9 CFG=0\\nM  V30 END BOND\\nM  V30 END CTAB\\nM  END\\n\",\"sdf\");\n",
       "\tviewer_17581259752368872.setStyle({\"stick\": {}, \"sphere\": {\"radius\": 0.3}});\n",
       "\tviewer_17581259752368872.setBackgroundColor(\"0xeeeeee\");\n",
       "\tviewer_17581259752368872.zoomTo();\n",
       "viewer_17581259752368872.render();\n",
       "});\n",
       "</script>"
      ]
     },
     "metadata": {},
     "output_type": "display_data"
    }
   ],
   "source": [
    "from pathlib import Path\n",
    "\n",
    "import automol\n",
    "import numpy as np\n",
    "\n",
    "# conf_path = \"/home/avcopan/proj/project-cyclopentane/save/RXN/C5H7O2/YWYASAZFZZQGPR/0/2/YFKPBYRVSA-N/C5H7O2/JZPRKFPRGOLEFY/0/2/YFKPBYRVSA-N/2/wvs8QKU/TS/00/CONFS/rDUlouxoDfZ-8/cCrk_BkmEGLNa\"\n",
    "# conf_path = \"/home/avcopan/proj/project-cyclopentane/save/RXN/C5H7O2/YWYASAZFZZQGPR/0/2/YFKPBYRVSA-N/C5H7O2/JZPRKFPRGOLEFY/0/2/YFKPBYRVSA-N/2/wvs8QKU/TS/01/CONFS/rMox7LJly8spM/cHnX-geWcGcc2\"\n",
    "conf_path = \"/home/avcopan/proj/project-cyclopentane/save/RXN/C5H9O2/XWIANGFMAQPCGG/0/2/YFKPBYRVSA-N/C5H9O2/WVUQXAJLGBHGFS/0/2/UHFFFAOYSA-N/2/u-unGOU/TS/00/CONFS/rJ_wLBrhywZQe/cFBIWSmkd7yNF\"\n",
    "# conf_path = \"/home/avcopan/proj/project-cyclopentane/save/RXN/C5H9O/ZOCQCVFDVWWLHS/0/2/YFKPBYRVSA-N/C5H8.HO/UGZOASBOAAXKSP/0_0/1_2/UHFFFAOYSA-N/2/wvs8QKU/TS/00/CONFS/rj4uSanU6dWtt/cU5tgrYsxRwQz\"\n",
    "# conf_path = \"/home/avcopan/proj/project-cyclopentane/save/RXN/C5H9O/ZOCQCVFDVWWLHS/0/2/YFKPBYRVSA-N/C5H8.HO/UGZOASBOAAXKSP/0_0/1_2/UHFFFAOYSA-N/2/wvs8QKU/TS/00/CONFS/rj4uSanU6dWtt/c3kLu2nnpv6j1\"\n",
    "conf_path = Path(conf_path)\n",
    "geo_path = conf_path / \"geom.xyz\"\n",
    "hess_path = conf_path / \"hess.hess\"\n",
    "geo = automol.geom.from_xyz_string(geo_path.read_text())\n",
    "\n",
    "if hess_path.exists():\n",
    "    hess = np.loadtxt(hess_path)\n",
    "    freqs, modes = automol.geom.vibrational_analysis(geo, hess)\n",
    "    print(f\"Frequency: {freqs[0]}\")\n",
    "    automol.geom.display(geo, mode=modes[:, 0])\n",
    "else:\n",
    "    automol.geom.display(geo)"
   ]
  }
 ],
 "metadata": {
  "kernelspec": {
   "display_name": "dev2",
   "language": "python",
   "name": "python3"
  },
  "language_info": {
   "codemirror_mode": {
    "name": "ipython",
    "version": 3
   },
   "file_extension": ".py",
   "mimetype": "text/x-python",
   "name": "python",
   "nbconvert_exporter": "python",
   "pygments_lexer": "ipython3",
   "version": "3.11.13"
  }
 },
 "nbformat": 4,
 "nbformat_minor": 5
}
