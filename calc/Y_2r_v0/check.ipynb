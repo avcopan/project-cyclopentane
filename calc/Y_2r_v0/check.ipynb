{
 "cells": [
  {
   "cell_type": "code",
   "execution_count": 2,
   "id": "293fc774",
   "metadata": {},
   "outputs": [],
   "source": [
    "from mechdriver.subtasks import display"
   ]
  },
  {
   "cell_type": "code",
   "execution_count": 3,
   "id": "cb25eb34",
   "metadata": {},
   "outputs": [],
   "source": [
    "id_ = \"62: 1\"\n",
    "\n",
    "display(\"find_ts\", id_)"
   ]
  },
  {
   "cell_type": "code",
   "execution_count": 4,
   "id": "7ef0f901",
   "metadata": {},
   "outputs": [],
   "source": [
    "# display(\"conf_opt\", id_)"
   ]
  },
  {
   "cell_type": "code",
   "execution_count": 5,
   "id": "614f39d6",
   "metadata": {},
   "outputs": [],
   "source": [
    "# display(\"conf_energy\", id_)"
   ]
  }
 ],
 "metadata": {
  "kernelspec": {
   "display_name": "proto",
   "language": "python",
   "name": "python3"
  },
  "language_info": {
   "codemirror_mode": {
    "name": "ipython",
    "version": 3
   },
   "file_extension": ".py",
   "mimetype": "text/x-python",
   "name": "python",
   "nbconvert_exporter": "python",
   "pygments_lexer": "ipython3",
   "version": "3.11.12"
  }
 },
 "nbformat": 4,
 "nbformat_minor": 5
}
