{
 "cells": [
  {
   "cell_type": "code",
   "execution_count": 13,
   "id": "286db04c",
   "metadata": {},
   "outputs": [
    {
     "name": "stdout",
     "output_type": "stream",
     "text": [
      "----\n",
      "/lcrc/project/PACC/copan/amech-dev/work/project-cyclopentane/save/RXN/C5H7O2/OUHGHJDPNWHHFN/0/2/UHFFFAOYSA-N/C5H7O2/JZPRKFPRGOLEFY/0/2/YFKPBYRVSA-N/2/wvs4KxU/TS/00/CONFS/rbgroDlQfF_ts/cXLQgXhfsRf_M\n",
      "Lowest frequency mode:\n",
      "  frequency: -2532.622554872132\n",
      "\n"
     ]
    },
    {
     "data": {
      "application/3dmoljs_load.v0": "<div id=\"3dmolviewer_17468221564299235\"  style=\"position: relative; width: 400px; height: 400px;\">\n        <p id=\"3dmolwarning_17468221564299235\" style=\"background-color:#ffcccc;color:black\">3Dmol.js failed to load for some reason.  Please check your browser console for error messages.<br></p>\n        </div>\n<script>\n\nvar loadScriptAsync = function(uri){\n  return new Promise((resolve, reject) => {\n    //this is to ignore the existence of requirejs amd\n    var savedexports, savedmodule;\n    if (typeof exports !== 'undefined') savedexports = exports;\n    else exports = {}\n    if (typeof module !== 'undefined') savedmodule = module;\n    else module = {}\n\n    var tag = document.createElement('script');\n    tag.src = uri;\n    tag.async = true;\n    tag.onload = () => {\n        exports = savedexports;\n        module = savedmodule;\n        resolve();\n    };\n  var firstScriptTag = document.getElementsByTagName('script')[0];\n  firstScriptTag.parentNode.insertBefore(tag, firstScriptTag);\n});\n};\n\nif(typeof $3Dmolpromise === 'undefined') {\n$3Dmolpromise = null;\n  $3Dmolpromise = loadScriptAsync('https://cdnjs.cloudflare.com/ajax/libs/3Dmol/2.4.2/3Dmol-min.js');\n}\n\nvar viewer_17468221564299235 = null;\nvar warn = document.getElementById(\"3dmolwarning_17468221564299235\");\nif(warn) {\n    warn.parentNode.removeChild(warn);\n}\n$3Dmolpromise.then(function() {\nviewer_17468221564299235 = $3Dmol.createViewer(document.getElementById(\"3dmolviewer_17468221564299235\"),{backgroundColor:\"white\"});\nviewer_17468221564299235.zoomTo();\n\tviewer_17468221564299235.addModel(\" 14\\n\\nC    0.025621   1.000492   0.594094   -0.015468  -0.004268   0.005270\\nC    0.285787  -0.517796   0.628130    0.002869  -0.000061  -0.003324\\nH    0.138255   1.599924   1.496319    0.096602   0.067112  -0.067845\\nO    1.222414  -0.722375  -0.442353   -0.005609  -0.006864   0.000712\\nC   -1.014998  -1.180189   0.175305    0.000048   0.000407  -0.000349\\nH    0.700459  -0.870433   1.575071   -0.006141   0.015990   0.011444\\nO    2.096806   0.374867  -0.348890   -0.003902   0.013825   0.003427\\nH    1.152469   1.174259  -0.021315    0.844321  -0.392884  -0.335921\\nC   -1.755077  -0.034146  -0.466787    0.000083  -0.002200  -0.000170\\nH   -1.580650  -1.588212   1.019101   -0.007969   0.008596  -0.002090\\nH   -0.809013  -2.002023  -0.514740   -0.001724   0.004472  -0.002661\\nC   -1.189639   1.152692  -0.210264    0.004787   0.002458   0.001415\\nH   -2.675186  -0.167413  -1.022547   -0.004953   0.004811   0.006960\\nH   -1.590254   2.107648  -0.524808   -0.003287   0.002365   0.011679\",\"xyz\",{\"vibrate\": {\"frames\": 10, \"amplitude\": 1}});\n\tviewer_17468221564299235.setStyle({\"stick\": {}, \"sphere\": {\"radius\": 0.3}});\n\tviewer_17468221564299235.setBackgroundColor(\"0xeeeeee\");\n\tviewer_17468221564299235.animate({\"loop\": \"backAndForth\"});\n\tviewer_17468221564299235.zoomTo();\nviewer_17468221564299235.render();\n});\n</script>",
      "text/html": [
       "<div id=\"3dmolviewer_17468221564299235\"  style=\"position: relative; width: 400px; height: 400px;\">\n",
       "        <p id=\"3dmolwarning_17468221564299235\" style=\"background-color:#ffcccc;color:black\">3Dmol.js failed to load for some reason.  Please check your browser console for error messages.<br></p>\n",
       "        </div>\n",
       "<script>\n",
       "\n",
       "var loadScriptAsync = function(uri){\n",
       "  return new Promise((resolve, reject) => {\n",
       "    //this is to ignore the existence of requirejs amd\n",
       "    var savedexports, savedmodule;\n",
       "    if (typeof exports !== 'undefined') savedexports = exports;\n",
       "    else exports = {}\n",
       "    if (typeof module !== 'undefined') savedmodule = module;\n",
       "    else module = {}\n",
       "\n",
       "    var tag = document.createElement('script');\n",
       "    tag.src = uri;\n",
       "    tag.async = true;\n",
       "    tag.onload = () => {\n",
       "        exports = savedexports;\n",
       "        module = savedmodule;\n",
       "        resolve();\n",
       "    };\n",
       "  var firstScriptTag = document.getElementsByTagName('script')[0];\n",
       "  firstScriptTag.parentNode.insertBefore(tag, firstScriptTag);\n",
       "});\n",
       "};\n",
       "\n",
       "if(typeof $3Dmolpromise === 'undefined') {\n",
       "$3Dmolpromise = null;\n",
       "  $3Dmolpromise = loadScriptAsync('https://cdnjs.cloudflare.com/ajax/libs/3Dmol/2.4.2/3Dmol-min.js');\n",
       "}\n",
       "\n",
       "var viewer_17468221564299235 = null;\n",
       "var warn = document.getElementById(\"3dmolwarning_17468221564299235\");\n",
       "if(warn) {\n",
       "    warn.parentNode.removeChild(warn);\n",
       "}\n",
       "$3Dmolpromise.then(function() {\n",
       "viewer_17468221564299235 = $3Dmol.createViewer(document.getElementById(\"3dmolviewer_17468221564299235\"),{backgroundColor:\"white\"});\n",
       "viewer_17468221564299235.zoomTo();\n",
       "\tviewer_17468221564299235.addModel(\" 14\\n\\nC    0.025621   1.000492   0.594094   -0.015468  -0.004268   0.005270\\nC    0.285787  -0.517796   0.628130    0.002869  -0.000061  -0.003324\\nH    0.138255   1.599924   1.496319    0.096602   0.067112  -0.067845\\nO    1.222414  -0.722375  -0.442353   -0.005609  -0.006864   0.000712\\nC   -1.014998  -1.180189   0.175305    0.000048   0.000407  -0.000349\\nH    0.700459  -0.870433   1.575071   -0.006141   0.015990   0.011444\\nO    2.096806   0.374867  -0.348890   -0.003902   0.013825   0.003427\\nH    1.152469   1.174259  -0.021315    0.844321  -0.392884  -0.335921\\nC   -1.755077  -0.034146  -0.466787    0.000083  -0.002200  -0.000170\\nH   -1.580650  -1.588212   1.019101   -0.007969   0.008596  -0.002090\\nH   -0.809013  -2.002023  -0.514740   -0.001724   0.004472  -0.002661\\nC   -1.189639   1.152692  -0.210264    0.004787   0.002458   0.001415\\nH   -2.675186  -0.167413  -1.022547   -0.004953   0.004811   0.006960\\nH   -1.590254   2.107648  -0.524808   -0.003287   0.002365   0.011679\",\"xyz\",{\"vibrate\": {\"frames\": 10, \"amplitude\": 1}});\n",
       "\tviewer_17468221564299235.setStyle({\"stick\": {}, \"sphere\": {\"radius\": 0.3}});\n",
       "\tviewer_17468221564299235.setBackgroundColor(\"0xeeeeee\");\n",
       "\tviewer_17468221564299235.animate({\"loop\": \"backAndForth\"});\n",
       "\tviewer_17468221564299235.zoomTo();\n",
       "viewer_17468221564299235.render();\n",
       "});\n",
       "</script>"
      ]
     },
     "metadata": {},
     "output_type": "display_data"
    }
   ],
   "source": [
    "from mechdriver.subtasks import display\n",
    "\n",
    "id_ = \"48: 1\"\n",
    "\n",
    "display(\"conf_opt\", id_)"
   ]
  },
  {
   "cell_type": "code",
   "execution_count": null,
   "id": "82d6791c",
   "metadata": {},
   "outputs": [],
   "source": []
  }
 ],
 "metadata": {
  "kernelspec": {
   "display_name": "proto",
   "language": "python",
   "name": "python3"
  },
  "language_info": {
   "codemirror_mode": {
    "name": "ipython",
    "version": 3
   },
   "file_extension": ".py",
   "mimetype": "text/x-python",
   "name": "python",
   "nbconvert_exporter": "python",
   "pygments_lexer": "ipython3",
   "version": "3.11.12"
  }
 },
 "nbformat": 4,
 "nbformat_minor": 5
}
