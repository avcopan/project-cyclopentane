{
 "cells": [
  {
   "cell_type": "code",
   "execution_count": 1,
   "id": "286db04c",
   "metadata": {},
   "outputs": [
    {
     "name": "stdout",
     "output_type": "stream",
     "text": [
      "method: ccsd(t)-f12-ri\n",
      "basis: cc-pvdz-f12\n",
      "conformer: /lcrc/project/PACC/copan/amech-dev/work/project-cyclopentane/save/RXN/C5H9O2/LEJYAYCAYABPPW/0/2/PLNGDYQASA-N/C5H9O2/XWIANGFMAQPCGG/0/2/YFKPBYRVSA-N/2/wvs4KxU/TS/00/CONFS/rINSERTED-GEO/ctyA_4S1sp2I6\n",
      "energy: -345.710863641\n"
     ]
    }
   ],
   "source": [
    "from mechdriver.subtasks import display\n",
    "\n",
    "id_ = \"61: 1\"\n",
    "\n",
    "display(\"conf_energy\", id_)"
   ]
  },
  {
   "cell_type": "code",
   "execution_count": 2,
   "id": "b5853f53",
   "metadata": {},
   "outputs": [
    {
     "name": "stdout",
     "output_type": "stream",
     "text": [
      "----\n",
      "/lcrc/project/PACC/copan/amech-dev/work/project-cyclopentane/save/RXN/C5H9O2/LEJYAYCAYABPPW/0/2/PLNGDYQASA-N/C5H9O2/XWIANGFMAQPCGG/0/2/YFKPBYRVSA-N/2/wvs4KxU/TS/00/CONFS/rINSERTED-GEO/ctyA_4S1sp2I6\n",
      "Lowest frequency mode:\n",
      "  frequency: -736.8909304498181\n",
      "\n"
     ]
    },
    {
     "data": {
      "application/3dmoljs_load.v0": "<div id=\"3dmolviewer_17476888211834295\"  style=\"position: relative; width: 400px; height: 400px;\">\n        <p id=\"3dmolwarning_17476888211834295\" style=\"background-color:#ffcccc;color:black\">3Dmol.js failed to load for some reason.  Please check your browser console for error messages.<br></p>\n        </div>\n<script>\n\nvar loadScriptAsync = function(uri){\n  return new Promise((resolve, reject) => {\n    //this is to ignore the existence of requirejs amd\n    var savedexports, savedmodule;\n    if (typeof exports !== 'undefined') savedexports = exports;\n    else exports = {}\n    if (typeof module !== 'undefined') savedmodule = module;\n    else module = {}\n\n    var tag = document.createElement('script');\n    tag.src = uri;\n    tag.async = true;\n    tag.onload = () => {\n        exports = savedexports;\n        module = savedmodule;\n        resolve();\n    };\n  var firstScriptTag = document.getElementsByTagName('script')[0];\n  firstScriptTag.parentNode.insertBefore(tag, firstScriptTag);\n});\n};\n\nif(typeof $3Dmolpromise === 'undefined') {\n$3Dmolpromise = null;\n  $3Dmolpromise = loadScriptAsync('https://cdnjs.cloudflare.com/ajax/libs/3Dmol/2.4.2/3Dmol-min.js');\n}\n\nvar viewer_17476888211834295 = null;\nvar warn = document.getElementById(\"3dmolwarning_17476888211834295\");\nif(warn) {\n    warn.parentNode.removeChild(warn);\n}\n$3Dmolpromise.then(function() {\nviewer_17476888211834295 = $3Dmol.createViewer(document.getElementById(\"3dmolviewer_17476888211834295\"),{backgroundColor:\"white\"});\nviewer_17476888211834295.zoomTo();\n\tviewer_17476888211834295.addModel(\" 16\\n\\nC    0.707308  -1.191037   0.494866    0.054456  -0.078349  -0.041749\\nC    1.546705  -0.656332  -0.625627    0.036294  -0.000768  -0.007009\\nH    1.194741  -1.543344   1.396327    0.130480  -0.214191  -0.094890\\nC    1.750148   0.830577  -0.195364   -0.015886  -0.016437   0.007413\\nH    1.019716  -0.701813  -1.579474    0.033588  -0.012325   0.009122\\nH    2.498495  -1.176335  -0.736336    0.129117   0.025421  -0.116882\\nC    0.475440   1.343432   0.432574   -0.136438  -0.247846   0.057066\\nH    2.050734   1.442326  -1.051292   -0.251926   0.165332   0.125056\\nH    2.563045   0.870146   0.533887   -0.066133   0.034296   0.031659\\nC   -0.524835  -0.633037   0.646588    0.090654   0.364464   0.006428\\nH   -0.286240   1.764335  -0.211437    0.125068   0.061469   0.022331\\nH    0.522319   1.769951   1.427425   -0.013399   0.029023  -0.155966\\nH   -1.096655  -0.679109   1.567831    0.302698   0.636009   0.008580\\nO   -1.313538  -0.499930  -0.486452   -0.018384  -0.023338   0.003186\\nO   -2.321783   0.510007  -0.191581   -0.005966  -0.002044  -0.014439\\nH   -3.112181   0.011606  -0.440885   -0.044693   0.014372  -0.027476\",\"xyz\",{\"vibrate\": {\"frames\": 10, \"amplitude\": 1}});\n\tviewer_17476888211834295.setStyle({\"stick\": {}, \"sphere\": {\"radius\": 0.3}});\n\tviewer_17476888211834295.setBackgroundColor(\"0xeeeeee\");\n\tviewer_17476888211834295.animate({\"loop\": \"backAndForth\"});\n\tviewer_17476888211834295.zoomTo();\nviewer_17476888211834295.render();\n});\n</script>",
      "text/html": [
       "<div id=\"3dmolviewer_17476888211834295\"  style=\"position: relative; width: 400px; height: 400px;\">\n",
       "        <p id=\"3dmolwarning_17476888211834295\" style=\"background-color:#ffcccc;color:black\">3Dmol.js failed to load for some reason.  Please check your browser console for error messages.<br></p>\n",
       "        </div>\n",
       "<script>\n",
       "\n",
       "var loadScriptAsync = function(uri){\n",
       "  return new Promise((resolve, reject) => {\n",
       "    //this is to ignore the existence of requirejs amd\n",
       "    var savedexports, savedmodule;\n",
       "    if (typeof exports !== 'undefined') savedexports = exports;\n",
       "    else exports = {}\n",
       "    if (typeof module !== 'undefined') savedmodule = module;\n",
       "    else module = {}\n",
       "\n",
       "    var tag = document.createElement('script');\n",
       "    tag.src = uri;\n",
       "    tag.async = true;\n",
       "    tag.onload = () => {\n",
       "        exports = savedexports;\n",
       "        module = savedmodule;\n",
       "        resolve();\n",
       "    };\n",
       "  var firstScriptTag = document.getElementsByTagName('script')[0];\n",
       "  firstScriptTag.parentNode.insertBefore(tag, firstScriptTag);\n",
       "});\n",
       "};\n",
       "\n",
       "if(typeof $3Dmolpromise === 'undefined') {\n",
       "$3Dmolpromise = null;\n",
       "  $3Dmolpromise = loadScriptAsync('https://cdnjs.cloudflare.com/ajax/libs/3Dmol/2.4.2/3Dmol-min.js');\n",
       "}\n",
       "\n",
       "var viewer_17476888211834295 = null;\n",
       "var warn = document.getElementById(\"3dmolwarning_17476888211834295\");\n",
       "if(warn) {\n",
       "    warn.parentNode.removeChild(warn);\n",
       "}\n",
       "$3Dmolpromise.then(function() {\n",
       "viewer_17476888211834295 = $3Dmol.createViewer(document.getElementById(\"3dmolviewer_17476888211834295\"),{backgroundColor:\"white\"});\n",
       "viewer_17476888211834295.zoomTo();\n",
       "\tviewer_17476888211834295.addModel(\" 16\\n\\nC    0.707308  -1.191037   0.494866    0.054456  -0.078349  -0.041749\\nC    1.546705  -0.656332  -0.625627    0.036294  -0.000768  -0.007009\\nH    1.194741  -1.543344   1.396327    0.130480  -0.214191  -0.094890\\nC    1.750148   0.830577  -0.195364   -0.015886  -0.016437   0.007413\\nH    1.019716  -0.701813  -1.579474    0.033588  -0.012325   0.009122\\nH    2.498495  -1.176335  -0.736336    0.129117   0.025421  -0.116882\\nC    0.475440   1.343432   0.432574   -0.136438  -0.247846   0.057066\\nH    2.050734   1.442326  -1.051292   -0.251926   0.165332   0.125056\\nH    2.563045   0.870146   0.533887   -0.066133   0.034296   0.031659\\nC   -0.524835  -0.633037   0.646588    0.090654   0.364464   0.006428\\nH   -0.286240   1.764335  -0.211437    0.125068   0.061469   0.022331\\nH    0.522319   1.769951   1.427425   -0.013399   0.029023  -0.155966\\nH   -1.096655  -0.679109   1.567831    0.302698   0.636009   0.008580\\nO   -1.313538  -0.499930  -0.486452   -0.018384  -0.023338   0.003186\\nO   -2.321783   0.510007  -0.191581   -0.005966  -0.002044  -0.014439\\nH   -3.112181   0.011606  -0.440885   -0.044693   0.014372  -0.027476\",\"xyz\",{\"vibrate\": {\"frames\": 10, \"amplitude\": 1}});\n",
       "\tviewer_17476888211834295.setStyle({\"stick\": {}, \"sphere\": {\"radius\": 0.3}});\n",
       "\tviewer_17476888211834295.setBackgroundColor(\"0xeeeeee\");\n",
       "\tviewer_17476888211834295.animate({\"loop\": \"backAndForth\"});\n",
       "\tviewer_17476888211834295.zoomTo();\n",
       "viewer_17476888211834295.render();\n",
       "});\n",
       "</script>"
      ]
     },
     "metadata": {},
     "output_type": "display_data"
    }
   ],
   "source": [
    "display(\"conf_opt\", id_)"
   ]
  }
 ],
 "metadata": {
  "kernelspec": {
   "display_name": "proto",
   "language": "python",
   "name": "python3"
  },
  "language_info": {
   "codemirror_mode": {
    "name": "ipython",
    "version": 3
   },
   "file_extension": ".py",
   "mimetype": "text/x-python",
   "name": "python",
   "nbconvert_exporter": "python",
   "pygments_lexer": "ipython3",
   "version": "3.11.12"
  }
 },
 "nbformat": 4,
 "nbformat_minor": 5
}
