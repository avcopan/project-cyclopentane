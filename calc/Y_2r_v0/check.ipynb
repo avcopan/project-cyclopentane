{
 "cells": [
  {
   "cell_type": "code",
   "execution_count": null,
   "id": "286db04c",
   "metadata": {},
   "outputs": [],
   "source": [
    "from mechdriver.subtasks import display\n",
    "\n",
    "id_ = \"53: 1\"\n",
    "\n",
    "display(\"conf_opt\", id_)"
   ]
  },
  {
   "cell_type": "code",
   "execution_count": 11,
   "id": "b5853f53",
   "metadata": {},
   "outputs": [
    {
     "name": "stdout",
     "output_type": "stream",
     "text": [
      "----\n",
      "/lcrc/project/PACC/copan/amech-dev/work/project-cyclopentane/save/RXN/C5H9O2/FOOFIFXGCBMLJF/0/2/YFKPBYRVSA-N/C5H8O.HO/MACVCGWMQJMYOV/0_0/1_2/JEVYUYNZSA-N/2/u-unGOU/TS/00/CONFS/rKqLgmkkiVWwt/cp6iJSyKx0WCK\n",
      "Lowest frequency mode:\n",
      "  frequency: -678.8773651955981\n",
      "\n",
      "----\n",
      "/lcrc/project/PACC/copan/amech-dev/work/project-cyclopentane/save/RXN/C5H9O2/FOOFIFXGCBMLJF/0/2/YFKPBYRVSA-N/C5H8O.HO/MACVCGWMQJMYOV/0_0/1_2/JEVYUYNZSA-N/2/u-unGOU/TS/00/CONFS/rKqLgmkkiVWwt/cuHJxXfY4GfZz\n",
      "Lowest frequency mode:\n",
      "  frequency: -663.465726928835\n",
      "\n"
     ]
    },
    {
     "data": {
      "application/3dmoljs_load.v0": "<div id=\"3dmolviewer_17470647738180242\"  style=\"position: relative; width: 400px; height: 400px;\">\n        <p id=\"3dmolwarning_17470647738180242\" style=\"background-color:#ffcccc;color:black\">3Dmol.js failed to load for some reason.  Please check your browser console for error messages.<br></p>\n        </div>\n<script>\n\nvar loadScriptAsync = function(uri){\n  return new Promise((resolve, reject) => {\n    //this is to ignore the existence of requirejs amd\n    var savedexports, savedmodule;\n    if (typeof exports !== 'undefined') savedexports = exports;\n    else exports = {}\n    if (typeof module !== 'undefined') savedmodule = module;\n    else module = {}\n\n    var tag = document.createElement('script');\n    tag.src = uri;\n    tag.async = true;\n    tag.onload = () => {\n        exports = savedexports;\n        module = savedmodule;\n        resolve();\n    };\n  var firstScriptTag = document.getElementsByTagName('script')[0];\n  firstScriptTag.parentNode.insertBefore(tag, firstScriptTag);\n});\n};\n\nif(typeof $3Dmolpromise === 'undefined') {\n$3Dmolpromise = null;\n  $3Dmolpromise = loadScriptAsync('https://cdnjs.cloudflare.com/ajax/libs/3Dmol/2.4.2/3Dmol-min.js');\n}\n\nvar viewer_17470647738180242 = null;\nvar warn = document.getElementById(\"3dmolwarning_17470647738180242\");\nif(warn) {\n    warn.parentNode.removeChild(warn);\n}\n$3Dmolpromise.then(function() {\nviewer_17470647738180242 = $3Dmol.createViewer(document.getElementById(\"3dmolviewer_17470647738180242\"),{backgroundColor:\"white\"});\nviewer_17470647738180242.zoomTo();\n\tviewer_17470647738180242.addModel(\" 16\\n\\nC   -1.689583   0.309871  -0.678926    0.014825   0.025507   0.014939\\nC   -1.255080  -1.108639  -0.436120    0.002781   0.014625   0.007629\\nC   -1.481353   1.218729   0.327556   -0.154787   0.038561  -0.047138\\nH   -1.839975   0.654119  -1.705631   -0.000809  -0.002168   0.022545\\nC    0.473354   0.264486   0.734164    0.105692  -0.065659   0.019827\\nH   -1.531503   2.292985   0.124960   -0.701706   0.114042  -0.154010\\nH   -1.625245   0.947864   1.378297    0.597091   0.053857  -0.050576\\nO    1.193117   0.629947  -0.356574   -0.005993  -0.003710   0.013247\\nH    0.865411   0.631747   1.696193    0.125276  -0.005676   0.068170\\nO    2.431106  -0.161928  -0.375345    0.025479  -0.006282  -0.012484\\nC   -0.199977  -1.081715   0.698313    0.001454  -0.003233   0.005851\\nH   -0.813253  -1.506684  -1.362214    0.017924   0.085920   0.018243\\nH   -2.088316  -1.784682  -0.178040    0.000779   0.059390  -0.004734\\nH   -0.669782  -1.257570   1.678956   -0.001614   0.031631   0.024080\\nH    0.549837  -1.877990   0.560069   -0.096607  -0.117760   0.019176\\nH    3.074877   0.539672  -0.207161    0.061729   0.009847  -0.036637\",\"xyz\",{\"vibrate\": {\"frames\": 10, \"amplitude\": 1}});\n\tviewer_17470647738180242.setStyle({\"stick\": {}, \"sphere\": {\"radius\": 0.3}});\n\tviewer_17470647738180242.setBackgroundColor(\"0xeeeeee\");\n\tviewer_17470647738180242.animate({\"loop\": \"backAndForth\"});\n\tviewer_17470647738180242.zoomTo();\nviewer_17470647738180242.render();\n});\n</script>",
      "text/html": [
       "<div id=\"3dmolviewer_17470647738180242\"  style=\"position: relative; width: 400px; height: 400px;\">\n",
       "        <p id=\"3dmolwarning_17470647738180242\" style=\"background-color:#ffcccc;color:black\">3Dmol.js failed to load for some reason.  Please check your browser console for error messages.<br></p>\n",
       "        </div>\n",
       "<script>\n",
       "\n",
       "var loadScriptAsync = function(uri){\n",
       "  return new Promise((resolve, reject) => {\n",
       "    //this is to ignore the existence of requirejs amd\n",
       "    var savedexports, savedmodule;\n",
       "    if (typeof exports !== 'undefined') savedexports = exports;\n",
       "    else exports = {}\n",
       "    if (typeof module !== 'undefined') savedmodule = module;\n",
       "    else module = {}\n",
       "\n",
       "    var tag = document.createElement('script');\n",
       "    tag.src = uri;\n",
       "    tag.async = true;\n",
       "    tag.onload = () => {\n",
       "        exports = savedexports;\n",
       "        module = savedmodule;\n",
       "        resolve();\n",
       "    };\n",
       "  var firstScriptTag = document.getElementsByTagName('script')[0];\n",
       "  firstScriptTag.parentNode.insertBefore(tag, firstScriptTag);\n",
       "});\n",
       "};\n",
       "\n",
       "if(typeof $3Dmolpromise === 'undefined') {\n",
       "$3Dmolpromise = null;\n",
       "  $3Dmolpromise = loadScriptAsync('https://cdnjs.cloudflare.com/ajax/libs/3Dmol/2.4.2/3Dmol-min.js');\n",
       "}\n",
       "\n",
       "var viewer_17470647738180242 = null;\n",
       "var warn = document.getElementById(\"3dmolwarning_17470647738180242\");\n",
       "if(warn) {\n",
       "    warn.parentNode.removeChild(warn);\n",
       "}\n",
       "$3Dmolpromise.then(function() {\n",
       "viewer_17470647738180242 = $3Dmol.createViewer(document.getElementById(\"3dmolviewer_17470647738180242\"),{backgroundColor:\"white\"});\n",
       "viewer_17470647738180242.zoomTo();\n",
       "\tviewer_17470647738180242.addModel(\" 16\\n\\nC   -1.689583   0.309871  -0.678926    0.014825   0.025507   0.014939\\nC   -1.255080  -1.108639  -0.436120    0.002781   0.014625   0.007629\\nC   -1.481353   1.218729   0.327556   -0.154787   0.038561  -0.047138\\nH   -1.839975   0.654119  -1.705631   -0.000809  -0.002168   0.022545\\nC    0.473354   0.264486   0.734164    0.105692  -0.065659   0.019827\\nH   -1.531503   2.292985   0.124960   -0.701706   0.114042  -0.154010\\nH   -1.625245   0.947864   1.378297    0.597091   0.053857  -0.050576\\nO    1.193117   0.629947  -0.356574   -0.005993  -0.003710   0.013247\\nH    0.865411   0.631747   1.696193    0.125276  -0.005676   0.068170\\nO    2.431106  -0.161928  -0.375345    0.025479  -0.006282  -0.012484\\nC   -0.199977  -1.081715   0.698313    0.001454  -0.003233   0.005851\\nH   -0.813253  -1.506684  -1.362214    0.017924   0.085920   0.018243\\nH   -2.088316  -1.784682  -0.178040    0.000779   0.059390  -0.004734\\nH   -0.669782  -1.257570   1.678956   -0.001614   0.031631   0.024080\\nH    0.549837  -1.877990   0.560069   -0.096607  -0.117760   0.019176\\nH    3.074877   0.539672  -0.207161    0.061729   0.009847  -0.036637\",\"xyz\",{\"vibrate\": {\"frames\": 10, \"amplitude\": 1}});\n",
       "\tviewer_17470647738180242.setStyle({\"stick\": {}, \"sphere\": {\"radius\": 0.3}});\n",
       "\tviewer_17470647738180242.setBackgroundColor(\"0xeeeeee\");\n",
       "\tviewer_17470647738180242.animate({\"loop\": \"backAndForth\"});\n",
       "\tviewer_17470647738180242.zoomTo();\n",
       "viewer_17470647738180242.render();\n",
       "});\n",
       "</script>"
      ]
     },
     "metadata": {},
     "output_type": "display_data"
    }
   ],
   "source": [
    "display(\"find_ts\", id_)"
   ]
  }
 ],
 "metadata": {
  "kernelspec": {
   "display_name": "proto",
   "language": "python",
   "name": "python3"
  },
  "language_info": {
   "codemirror_mode": {
    "name": "ipython",
    "version": 3
   },
   "file_extension": ".py",
   "mimetype": "text/x-python",
   "name": "python",
   "nbconvert_exporter": "python",
   "pygments_lexer": "ipython3",
   "version": "3.11.12"
  }
 },
 "nbformat": 4,
 "nbformat_minor": 5
}
