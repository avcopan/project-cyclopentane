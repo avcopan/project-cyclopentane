{
 "cells": [
  {
   "cell_type": "code",
   "execution_count": 9,
   "id": "293fc774",
   "metadata": {},
   "outputs": [],
   "source": [
    "from mechdriver.subtasks import display"
   ]
  },
  {
   "cell_type": "code",
   "execution_count": 10,
   "id": "cb25eb34",
   "metadata": {},
   "outputs": [
    {
     "name": "stdout",
     "output_type": "stream",
     "text": [
      "----\n",
      "/lcrc/project/PACC/copan/amech-dev/work/project-cyclopentane/save/RXN/C5H7O2/JZPRKFPRGOLEFY/0/2/YFKPBYRVSA-N/C5H6O.HO/UFOVAXJZPQXGSF/0_0/1_2/UYXJWNHNSA-N/2/u-unGOU/TS/00/CONFS/rFNnO_mQp34jx/coixTLqBmKCSI\n",
      "Lowest frequency mode:\n",
      "  frequency: -762.0481876696743\n",
      "\n",
      "----\n",
      "/lcrc/project/PACC/copan/amech-dev/work/project-cyclopentane/save/RXN/C5H7O2/JZPRKFPRGOLEFY/0/2/YFKPBYRVSA-N/C5H6O.HO/UFOVAXJZPQXGSF/0_0/1_2/UYXJWNHNSA-N/2/u-unGOU/TS/00/CONFS/rsWPwvZd1QacX/cE5Bs5lZe1Nxf\n",
      "Lowest frequency mode:\n",
      "  frequency: -418.94366438142634\n",
      "\n"
     ]
    },
    {
     "data": {
      "application/3dmoljs_load.v0": "<div id=\"3dmolviewer_17479428520493102\"  style=\"position: relative; width: 400px; height: 400px;\">\n        <p id=\"3dmolwarning_17479428520493102\" style=\"background-color:#ffcccc;color:black\">3Dmol.js failed to load for some reason.  Please check your browser console for error messages.<br></p>\n        </div>\n<script>\n\nvar loadScriptAsync = function(uri){\n  return new Promise((resolve, reject) => {\n    //this is to ignore the existence of requirejs amd\n    var savedexports, savedmodule;\n    if (typeof exports !== 'undefined') savedexports = exports;\n    else exports = {}\n    if (typeof module !== 'undefined') savedmodule = module;\n    else module = {}\n\n    var tag = document.createElement('script');\n    tag.src = uri;\n    tag.async = true;\n    tag.onload = () => {\n        exports = savedexports;\n        module = savedmodule;\n        resolve();\n    };\n  var firstScriptTag = document.getElementsByTagName('script')[0];\n  firstScriptTag.parentNode.insertBefore(tag, firstScriptTag);\n});\n};\n\nif(typeof $3Dmolpromise === 'undefined') {\n$3Dmolpromise = null;\n  $3Dmolpromise = loadScriptAsync('https://cdnjs.cloudflare.com/ajax/libs/3Dmol/2.4.2/3Dmol-min.js');\n}\n\nvar viewer_17479428520493102 = null;\nvar warn = document.getElementById(\"3dmolwarning_17479428520493102\");\nif(warn) {\n    warn.parentNode.removeChild(warn);\n}\n$3Dmolpromise.then(function() {\nviewer_17479428520493102 = $3Dmol.createViewer(document.getElementById(\"3dmolviewer_17479428520493102\"),{backgroundColor:\"white\"});\nviewer_17479428520493102.zoomTo();\n\tviewer_17479428520493102.addModel(\" 14\\n\\nC   -0.083537   0.982918   0.138306    0.047976  -0.081470  -0.028635\\nC   -1.432972   1.206807  -0.142743    0.030650  -0.021620  -0.039848\\nC    0.178024  -0.473407   0.416479   -0.030051  -0.091631   0.031261\\nH    0.740351   1.693912   0.105215    0.306827  -0.435040  -0.103953\\nO    1.155989  -0.824297  -0.452134   -0.093898   0.034860  -0.058488\\nH    0.440385  -0.652768   1.480976    0.114365  -0.209034   0.083491\\nO    2.765783   0.448813   0.083569    0.099900   0.088269   0.044576\\nC   -2.137933   0.022985  -0.082141    0.003309   0.017087   0.010584\\nH   -1.869847   2.188257  -0.334650    0.254851  -0.027598  -0.228671\\nC   -1.206609  -1.139431   0.063381   -0.055034  -0.003883   0.053691\\nH   -3.224226  -0.071474  -0.132298   -0.006316   0.237359  -0.070089\\nH   -1.080025  -1.654091  -0.901980   -0.102216   0.077244   0.147418\\nH   -1.541845  -1.887575   0.798369   -0.480698  -0.011903   0.052985\\nH    3.259184  -0.211617  -0.426798   -0.336852   0.041791  -0.113082\",\"xyz\",{\"vibrate\": {\"frames\": 10, \"amplitude\": 1}});\n\tviewer_17479428520493102.setStyle({\"stick\": {}, \"sphere\": {\"radius\": 0.3}});\n\tviewer_17479428520493102.setBackgroundColor(\"0xeeeeee\");\n\tviewer_17479428520493102.animate({\"loop\": \"backAndForth\"});\n\tviewer_17479428520493102.zoomTo();\nviewer_17479428520493102.render();\n});\n</script>",
      "text/html": [
       "<div id=\"3dmolviewer_17479428520493102\"  style=\"position: relative; width: 400px; height: 400px;\">\n",
       "        <p id=\"3dmolwarning_17479428520493102\" style=\"background-color:#ffcccc;color:black\">3Dmol.js failed to load for some reason.  Please check your browser console for error messages.<br></p>\n",
       "        </div>\n",
       "<script>\n",
       "\n",
       "var loadScriptAsync = function(uri){\n",
       "  return new Promise((resolve, reject) => {\n",
       "    //this is to ignore the existence of requirejs amd\n",
       "    var savedexports, savedmodule;\n",
       "    if (typeof exports !== 'undefined') savedexports = exports;\n",
       "    else exports = {}\n",
       "    if (typeof module !== 'undefined') savedmodule = module;\n",
       "    else module = {}\n",
       "\n",
       "    var tag = document.createElement('script');\n",
       "    tag.src = uri;\n",
       "    tag.async = true;\n",
       "    tag.onload = () => {\n",
       "        exports = savedexports;\n",
       "        module = savedmodule;\n",
       "        resolve();\n",
       "    };\n",
       "  var firstScriptTag = document.getElementsByTagName('script')[0];\n",
       "  firstScriptTag.parentNode.insertBefore(tag, firstScriptTag);\n",
       "});\n",
       "};\n",
       "\n",
       "if(typeof $3Dmolpromise === 'undefined') {\n",
       "$3Dmolpromise = null;\n",
       "  $3Dmolpromise = loadScriptAsync('https://cdnjs.cloudflare.com/ajax/libs/3Dmol/2.4.2/3Dmol-min.js');\n",
       "}\n",
       "\n",
       "var viewer_17479428520493102 = null;\n",
       "var warn = document.getElementById(\"3dmolwarning_17479428520493102\");\n",
       "if(warn) {\n",
       "    warn.parentNode.removeChild(warn);\n",
       "}\n",
       "$3Dmolpromise.then(function() {\n",
       "viewer_17479428520493102 = $3Dmol.createViewer(document.getElementById(\"3dmolviewer_17479428520493102\"),{backgroundColor:\"white\"});\n",
       "viewer_17479428520493102.zoomTo();\n",
       "\tviewer_17479428520493102.addModel(\" 14\\n\\nC   -0.083537   0.982918   0.138306    0.047976  -0.081470  -0.028635\\nC   -1.432972   1.206807  -0.142743    0.030650  -0.021620  -0.039848\\nC    0.178024  -0.473407   0.416479   -0.030051  -0.091631   0.031261\\nH    0.740351   1.693912   0.105215    0.306827  -0.435040  -0.103953\\nO    1.155989  -0.824297  -0.452134   -0.093898   0.034860  -0.058488\\nH    0.440385  -0.652768   1.480976    0.114365  -0.209034   0.083491\\nO    2.765783   0.448813   0.083569    0.099900   0.088269   0.044576\\nC   -2.137933   0.022985  -0.082141    0.003309   0.017087   0.010584\\nH   -1.869847   2.188257  -0.334650    0.254851  -0.027598  -0.228671\\nC   -1.206609  -1.139431   0.063381   -0.055034  -0.003883   0.053691\\nH   -3.224226  -0.071474  -0.132298   -0.006316   0.237359  -0.070089\\nH   -1.080025  -1.654091  -0.901980   -0.102216   0.077244   0.147418\\nH   -1.541845  -1.887575   0.798369   -0.480698  -0.011903   0.052985\\nH    3.259184  -0.211617  -0.426798   -0.336852   0.041791  -0.113082\",\"xyz\",{\"vibrate\": {\"frames\": 10, \"amplitude\": 1}});\n",
       "\tviewer_17479428520493102.setStyle({\"stick\": {}, \"sphere\": {\"radius\": 0.3}});\n",
       "\tviewer_17479428520493102.setBackgroundColor(\"0xeeeeee\");\n",
       "\tviewer_17479428520493102.animate({\"loop\": \"backAndForth\"});\n",
       "\tviewer_17479428520493102.zoomTo();\n",
       "viewer_17479428520493102.render();\n",
       "});\n",
       "</script>"
      ]
     },
     "metadata": {},
     "output_type": "display_data"
    }
   ],
   "source": [
    "id_ = \"63: 1\"\n",
    "\n",
    "display(\"find_ts\", id_)"
   ]
  },
  {
   "cell_type": "code",
   "execution_count": 11,
   "id": "7ef0f901",
   "metadata": {},
   "outputs": [],
   "source": [
    "# display(\"conf_opt\", id_)"
   ]
  },
  {
   "cell_type": "code",
   "execution_count": 12,
   "id": "614f39d6",
   "metadata": {},
   "outputs": [
    {
     "name": "stdout",
     "output_type": "stream",
     "text": [
      "method: ccsd(t)-f12-ri\n",
      "basis: cc-pvdz-f12\n"
     ]
    }
   ],
   "source": [
    "display(\"conf_energy\", id_)"
   ]
  }
 ],
 "metadata": {
  "kernelspec": {
   "display_name": "proto",
   "language": "python",
   "name": "python3"
  },
  "language_info": {
   "codemirror_mode": {
    "name": "ipython",
    "version": 3
   },
   "file_extension": ".py",
   "mimetype": "text/x-python",
   "name": "python",
   "nbconvert_exporter": "python",
   "pygments_lexer": "ipython3",
   "version": "3.11.12"
  }
 },
 "nbformat": 4,
 "nbformat_minor": 5
}
