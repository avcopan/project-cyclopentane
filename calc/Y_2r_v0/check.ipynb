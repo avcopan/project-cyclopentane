{
 "cells": [
  {
   "cell_type": "code",
   "execution_count": 1,
   "id": "286db04c",
   "metadata": {},
   "outputs": [
    {
     "name": "stdout",
     "output_type": "stream",
     "text": [
      "method: ccsd(t)-f12-ri\n",
      "basis: cc-pvdz-f12\n"
     ]
    }
   ],
   "source": [
    "from mechdriver.subtasks import display\n",
    "\n",
    "id_ = \"63: 1\"\n",
    "\n",
    "display(\"conf_energy\", id_)"
   ]
  },
  {
   "cell_type": "code",
   "execution_count": 2,
   "id": "b5853f53",
   "metadata": {},
   "outputs": [],
   "source": [
    "display(\"conf_opt\", id_)"
   ]
  },
  {
   "cell_type": "code",
   "execution_count": null,
   "id": "eca56182",
   "metadata": {},
   "outputs": [],
   "source": []
  }
 ],
 "metadata": {
  "kernelspec": {
   "display_name": "proto",
   "language": "python",
   "name": "python3"
  },
  "language_info": {
   "codemirror_mode": {
    "name": "ipython",
    "version": 3
   },
   "file_extension": ".py",
   "mimetype": "text/x-python",
   "name": "python",
   "nbconvert_exporter": "python",
   "pygments_lexer": "ipython3",
   "version": "3.11.12"
  }
 },
 "nbformat": 4,
 "nbformat_minor": 5
}
