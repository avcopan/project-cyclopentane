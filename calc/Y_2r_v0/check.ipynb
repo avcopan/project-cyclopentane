{
 "cells": [
  {
   "cell_type": "code",
   "execution_count": 1,
   "id": "293fc774",
   "metadata": {},
   "outputs": [],
   "source": [
    "from mechdriver.subtasks import display"
   ]
  },
  {
   "cell_type": "code",
   "execution_count": 2,
   "id": "cb25eb34",
   "metadata": {},
   "outputs": [],
   "source": [
    "id_ = \"67: 1\"\n",
    "\n",
    "# display(\"find_ts\", id_)"
   ]
  },
  {
   "cell_type": "code",
   "execution_count": 3,
   "id": "7ef0f901",
   "metadata": {},
   "outputs": [
    {
     "name": "stdout",
     "output_type": "stream",
     "text": [
      "----\n",
      "/lcrc/project/PACC/copan/amech-dev/work/project-cyclopentane/save/RXN/C5H9O2/PJOOXCWOOGDGDT/0/2/YFKPBYRVSA-N/C3H5O2.C2H4/KDHCCRQIAMDYJT/0_0/2_1/OLGQORCHNA-N/2/wvs4KxU/TS/00/CONFS/rINSERTED-GEO/cSzmXwuVGx-AQ\n",
      "Lowest frequency mode:\n",
      "  frequency: -787.1719913056047\n",
      "\n"
     ]
    },
    {
     "data": {
      "application/3dmoljs_load.v0": "<div id=\"3dmolviewer_1748465421548147\"  style=\"position: relative; width: 400px; height: 400px;\">\n        <p id=\"3dmolwarning_1748465421548147\" style=\"background-color:#ffcccc;color:black\">3Dmol.js failed to load for some reason.  Please check your browser console for error messages.<br></p>\n        </div>\n<script>\n\nvar loadScriptAsync = function(uri){\n  return new Promise((resolve, reject) => {\n    //this is to ignore the existence of requirejs amd\n    var savedexports, savedmodule;\n    if (typeof exports !== 'undefined') savedexports = exports;\n    else exports = {}\n    if (typeof module !== 'undefined') savedmodule = module;\n    else module = {}\n\n    var tag = document.createElement('script');\n    tag.src = uri;\n    tag.async = true;\n    tag.onload = () => {\n        exports = savedexports;\n        module = savedmodule;\n        resolve();\n    };\n  var firstScriptTag = document.getElementsByTagName('script')[0];\n  firstScriptTag.parentNode.insertBefore(tag, firstScriptTag);\n});\n};\n\nif(typeof $3Dmolpromise === 'undefined') {\n$3Dmolpromise = null;\n  $3Dmolpromise = loadScriptAsync('https://cdnjs.cloudflare.com/ajax/libs/3Dmol/2.4.2/3Dmol-min.js');\n}\n\nvar viewer_1748465421548147 = null;\nvar warn = document.getElementById(\"3dmolwarning_1748465421548147\");\nif(warn) {\n    warn.parentNode.removeChild(warn);\n}\n$3Dmolpromise.then(function() {\nviewer_1748465421548147 = $3Dmol.createViewer(document.getElementById(\"3dmolviewer_1748465421548147\"),{backgroundColor:\"white\"});\nviewer_1748465421548147.zoomTo();\n\tviewer_1748465421548147.addModel(\" 16\\n\\nC   -2.521035  -0.284598  -0.440073    0.009862   0.005832   0.019616\\nC   -1.607251  -0.508228   0.510723   -0.022006  -0.024545  -0.025114\\nH   -2.357547   0.441239  -1.226266    0.105026  -0.072655  -0.013910\\nH   -3.459348  -0.822849  -0.440126   -0.072423   0.182722   0.147089\\nC   -0.302827   0.101438   0.590141    0.198631  -0.184865  -0.125707\\nH   -1.802463  -1.246003   1.282579   -0.129850  -0.019419  -0.029523\\nC    0.905616  -1.405275  -0.320702   -0.203231   0.194923   0.122843\\nO   -0.170593   1.207155  -0.217746   -0.004057  -0.001200   0.007719\\nH    0.198863   0.182827   1.546649   -0.411632   0.246603   0.155599\\nC    2.228981  -1.155418  -0.104212    0.030598   0.013060   0.010213\\nH    0.447535  -1.127841  -1.263712    0.039766  -0.464007  -0.306731\\nH    0.428204  -2.225261   0.204252   -0.045036  -0.217415  -0.300349\\nH    2.745925  -1.574046   0.750419    0.036598   0.024894   0.044608\\nH    2.772700  -0.446960  -0.714398    0.091738   0.006325   0.006275\\nO    1.156905   1.750963  -0.001228    0.001050   0.003267  -0.004505\\nH    0.914733   2.666435   0.197135    0.006693   0.001291   0.017749\",\"xyz\",{\"vibrate\": {\"frames\": 10, \"amplitude\": 1}});\n\tviewer_1748465421548147.setStyle({\"stick\": {}, \"sphere\": {\"radius\": 0.3}});\n\tviewer_1748465421548147.setBackgroundColor(\"0xeeeeee\");\n\tviewer_1748465421548147.animate({\"loop\": \"backAndForth\"});\n\tviewer_1748465421548147.zoomTo();\nviewer_1748465421548147.render();\n});\n</script>",
      "text/html": [
       "<div id=\"3dmolviewer_1748465421548147\"  style=\"position: relative; width: 400px; height: 400px;\">\n",
       "        <p id=\"3dmolwarning_1748465421548147\" style=\"background-color:#ffcccc;color:black\">3Dmol.js failed to load for some reason.  Please check your browser console for error messages.<br></p>\n",
       "        </div>\n",
       "<script>\n",
       "\n",
       "var loadScriptAsync = function(uri){\n",
       "  return new Promise((resolve, reject) => {\n",
       "    //this is to ignore the existence of requirejs amd\n",
       "    var savedexports, savedmodule;\n",
       "    if (typeof exports !== 'undefined') savedexports = exports;\n",
       "    else exports = {}\n",
       "    if (typeof module !== 'undefined') savedmodule = module;\n",
       "    else module = {}\n",
       "\n",
       "    var tag = document.createElement('script');\n",
       "    tag.src = uri;\n",
       "    tag.async = true;\n",
       "    tag.onload = () => {\n",
       "        exports = savedexports;\n",
       "        module = savedmodule;\n",
       "        resolve();\n",
       "    };\n",
       "  var firstScriptTag = document.getElementsByTagName('script')[0];\n",
       "  firstScriptTag.parentNode.insertBefore(tag, firstScriptTag);\n",
       "});\n",
       "};\n",
       "\n",
       "if(typeof $3Dmolpromise === 'undefined') {\n",
       "$3Dmolpromise = null;\n",
       "  $3Dmolpromise = loadScriptAsync('https://cdnjs.cloudflare.com/ajax/libs/3Dmol/2.4.2/3Dmol-min.js');\n",
       "}\n",
       "\n",
       "var viewer_1748465421548147 = null;\n",
       "var warn = document.getElementById(\"3dmolwarning_1748465421548147\");\n",
       "if(warn) {\n",
       "    warn.parentNode.removeChild(warn);\n",
       "}\n",
       "$3Dmolpromise.then(function() {\n",
       "viewer_1748465421548147 = $3Dmol.createViewer(document.getElementById(\"3dmolviewer_1748465421548147\"),{backgroundColor:\"white\"});\n",
       "viewer_1748465421548147.zoomTo();\n",
       "\tviewer_1748465421548147.addModel(\" 16\\n\\nC   -2.521035  -0.284598  -0.440073    0.009862   0.005832   0.019616\\nC   -1.607251  -0.508228   0.510723   -0.022006  -0.024545  -0.025114\\nH   -2.357547   0.441239  -1.226266    0.105026  -0.072655  -0.013910\\nH   -3.459348  -0.822849  -0.440126   -0.072423   0.182722   0.147089\\nC   -0.302827   0.101438   0.590141    0.198631  -0.184865  -0.125707\\nH   -1.802463  -1.246003   1.282579   -0.129850  -0.019419  -0.029523\\nC    0.905616  -1.405275  -0.320702   -0.203231   0.194923   0.122843\\nO   -0.170593   1.207155  -0.217746   -0.004057  -0.001200   0.007719\\nH    0.198863   0.182827   1.546649   -0.411632   0.246603   0.155599\\nC    2.228981  -1.155418  -0.104212    0.030598   0.013060   0.010213\\nH    0.447535  -1.127841  -1.263712    0.039766  -0.464007  -0.306731\\nH    0.428204  -2.225261   0.204252   -0.045036  -0.217415  -0.300349\\nH    2.745925  -1.574046   0.750419    0.036598   0.024894   0.044608\\nH    2.772700  -0.446960  -0.714398    0.091738   0.006325   0.006275\\nO    1.156905   1.750963  -0.001228    0.001050   0.003267  -0.004505\\nH    0.914733   2.666435   0.197135    0.006693   0.001291   0.017749\",\"xyz\",{\"vibrate\": {\"frames\": 10, \"amplitude\": 1}});\n",
       "\tviewer_1748465421548147.setStyle({\"stick\": {}, \"sphere\": {\"radius\": 0.3}});\n",
       "\tviewer_1748465421548147.setBackgroundColor(\"0xeeeeee\");\n",
       "\tviewer_1748465421548147.animate({\"loop\": \"backAndForth\"});\n",
       "\tviewer_1748465421548147.zoomTo();\n",
       "viewer_1748465421548147.render();\n",
       "});\n",
       "</script>"
      ]
     },
     "metadata": {},
     "output_type": "display_data"
    }
   ],
   "source": [
    "display(\"conf_opt\", id_)"
   ]
  },
  {
   "cell_type": "code",
   "execution_count": 4,
   "id": "614f39d6",
   "metadata": {},
   "outputs": [
    {
     "name": "stdout",
     "output_type": "stream",
     "text": [
      "method: ccsd(t)-f12-ri\n",
      "basis: cc-pvdz-f12\n",
      "conformer: /lcrc/project/PACC/copan/amech-dev/work/project-cyclopentane/save/RXN/C5H9O2/PJOOXCWOOGDGDT/0/2/YFKPBYRVSA-N/C3H5O2.C2H4/KDHCCRQIAMDYJT/0_0/2_1/OLGQORCHNA-N/2/wvs4KxU/TS/00/CONFS/rINSERTED-GEO/cSzmXwuVGx-AQ\n",
      "energy: -345.702382286\n"
     ]
    }
   ],
   "source": [
    "display(\"conf_energy\", id_)"
   ]
  },
  {
   "cell_type": "code",
   "execution_count": null,
   "id": "2e6462e1",
   "metadata": {},
   "outputs": [],
   "source": []
  }
 ],
 "metadata": {
  "kernelspec": {
   "display_name": "proto",
   "language": "python",
   "name": "python3"
  },
  "language_info": {
   "codemirror_mode": {
    "name": "ipython",
    "version": 3
   },
   "file_extension": ".py",
   "mimetype": "text/x-python",
   "name": "python",
   "nbconvert_exporter": "python",
   "pygments_lexer": "ipython3",
   "version": "3.11.12"
  }
 },
 "nbformat": 4,
 "nbformat_minor": 5
}
