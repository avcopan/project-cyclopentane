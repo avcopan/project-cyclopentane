{
 "cells": [
  {
   "cell_type": "code",
   "execution_count": null,
   "id": "0409c1f7",
   "metadata": {},
   "outputs": [],
   "source": [
    "from pathlib import Path\n",
    "\n",
    "import autochem as ac\n",
    "import automech\n",
    "import automol\n",
    "import more_itertools as mit\n",
    "import numpy as np\n",
    "from project_utilities import p_\n",
    "from protomech import mess\n",
    "\n",
    "T_range = (300, 1200)\n",
    "T_vals = (600, 700, 800, 900, 1000, 1100, 1200)\n",
    "P_vals = (0.1, 1, 10, 100)\n",
    "T_drop = (300, 400)  # Drop low-T rates for fit\n",
    "A_fill = 1e-20\n",
    "compare = False\n",
    "\n",
    "stoich = \"C5H7\"\n",
    "clear_nodes = []\n",
    "clear_edges = []\n",
    "\n",
    "stoich = \"C5H7O2\"\n",
    "clear_nodes = [\"C5H6O(645)z+OH(4)\", \"CPND2(626)+OH(4)\"]\n",
    "clear_edges = [(\"S(1210)r0\", \"S(1209)r0\"), (\"S(1210)r1\", \"S(1209)r1\")]\n",
    "\n",
    "stoich = \"C5H9\"\n",
    "clear_nodes = []\n",
    "clear_edges = []\n",
    "\n",
    "stoich = \"C5H9O\"\n",
    "clear_nodes = []\n",
    "clear_edges = []\n",
    "\n",
    "stoich = \"C5H9O2\"\n",
    "clear_nodes = []\n",
    "clear_edges = [\n",
    "    # Direct:\n",
    "    (\"S(722)r0\", \"S(728)e\"),\n",
    "    (\"S(722)r1\", \"S(728)e\"),\n",
    "    # Well-skipping:\n",
    "    (\"C5H8O(833)+OH(4)\", \"C5H8O(829)rs+OH(4)\")\n",
    "]\n",
    "\n",
    "stoich = \"C5H11O\"  # suspicious -- doesn't seem to compare well with theory\n",
    "clear_nodes = []\n",
    "clear_edges = []\n",
    "\n",
    "stoich = \"C5H11O2\"\n",
    "clear_nodes = []\n",
    "clear_edges = []\n",
    "\n",
    "tag = \"Z_mess_v0\"\n",
    "root_path = Path(\"../..\")\n",
    "stoich_path = Path(stoich)"
   ]
  },
  {
   "cell_type": "code",
   "execution_count": 183,
   "id": "be95baa7",
   "metadata": {},
   "outputs": [],
   "source": [
    "mech = automech.io.read(p_.stereo_mechanism(tag, \"json\", p_.data(root_path)))\n",
    "mech.reactions = automech.reaction.select_pes(mech.reactions, stoich)\n",
    "mech = automech.without_unused_species(mech)"
   ]
  },
  {
   "cell_type": "code",
   "execution_count": 184,
   "id": "1cf793aa",
   "metadata": {},
   "outputs": [],
   "source": [
    "mess_inp = stoich_path / \"mess.inp\"\n",
    "surf = mess.surf.from_mess_input(mess_inp)"
   ]
  },
  {
   "cell_type": "code",
   "execution_count": 185,
   "id": "f39fa6ed",
   "metadata": {},
   "outputs": [],
   "source": [
    "mess_out = stoich_path / \"rate.out\"\n",
    "surf_out = mess.surf.with_mess_output_rates(surf, mess_out=mess_out)\n",
    "surf_out = mess.surf.absorb_fake_nodes(surf_out)\n",
    "surf_out = mess.surf.enforce_equal_enantiomer_rates(surf_out, tol=0.1)\n",
    "mess.net.display(surf_out, mech=mech, height=\"1000px\")"
   ]
  },
  {
   "cell_type": "code",
   "execution_count": 186,
   "id": "710e2ebf",
   "metadata": {},
   "outputs": [
    {
     "name": "stdout",
     "output_type": "stream",
     "text": [
      "Clearing out rates for nodes []\n",
      "Clearing out rates for edges []\n"
     ]
    }
   ],
   "source": [
    "clear_node_keys = [\n",
    "    mess.surf.node_key_from_label(surf_out, label) for label in clear_nodes\n",
    "]\n",
    "clear_edge_keys = [\n",
    "    mess.surf.edge_key_from_labels(surf_out, labels) for labels in clear_edges\n",
    "]\n",
    "\n",
    "print(f\"Clearing out rates for nodes {clear_node_keys}\")\n",
    "surf_out = mess.surf.clear_node_rates(surf_out, keys=clear_node_keys)\n",
    "\n",
    "print(f\"Clearing out rates for edges {clear_edge_keys}\")\n",
    "surf_out = mess.surf.clear_edge_rates(surf_out, keys=clear_edge_keys)"
   ]
  },
  {
   "cell_type": "code",
   "execution_count": 187,
   "id": "12b39eee",
   "metadata": {},
   "outputs": [
    {
     "name": "stdout",
     "output_type": "stream",
     "text": [
      "Dropping completely unfittable well-skipping rates:\n",
      "[]\n"
     ]
    }
   ],
   "source": [
    "unfit_skip_rate_keys = mess.surf.unfittable_rate_keys(surf_out, direct=False)\n",
    "print(f\"Dropping completely unfittable well-skipping rates:\\n{unfit_skip_rate_keys}\")\n",
    "\n",
    "surf_out = mess.surf.remove_well_skipping_rates(surf_out, unfit_skip_rate_keys)"
   ]
  },
  {
   "cell_type": "code",
   "execution_count": 188,
   "id": "4046dc7a",
   "metadata": {},
   "outputs": [
    {
     "name": "stdout",
     "output_type": "stream",
     "text": [
      "Dropping irrelevant well-skipping rates:\n",
      "[]\n"
     ]
    },
    {
     "name": "stderr",
     "output_type": "stream",
     "text": [
      "/home/avcopan/proj/project-cyclopentane/code/protomech/src/protomech/mess/surf.py:1721: RuntimeWarning: invalid value encountered in divide\n",
      "  z = np.abs((branch_frac - branch_frac.mean()) / branch_frac.std())\n"
     ]
    }
   ],
   "source": [
    "surf_out = mess.surf.remove_isolates(surf_out)\n",
    "irrel_skip_rate_keys = mess.surf.irrelevant_rate_keys(\n",
    "    surf_out, T=T_vals, P=P_vals, direct=False, min_branch_frac=0.01\n",
    ")\n",
    "print(f\"Dropping irrelevant well-skipping rates:\\n{irrel_skip_rate_keys}\")\n",
    "\n",
    "surf_out = mess.surf.remove_well_skipping_rates(surf_out, irrel_skip_rate_keys)"
   ]
  },
  {
   "cell_type": "code",
   "execution_count": 189,
   "id": "21dbf993",
   "metadata": {},
   "outputs": [
    {
     "name": "stdout",
     "output_type": "stream",
     "text": [
      "Dropping partially-unfittable pressure-independent well-skipping rates:\n",
      "[]\n"
     ]
    }
   ],
   "source": [
    "punfit_skip_rate_keys = mess.surf.partially_unfittable_pressure_independent_rate_keys(\n",
    "    surf_out, T_vals=T_vals, direct=False\n",
    ")\n",
    "print(\n",
    "    f\"Dropping partially-unfittable pressure-independent well-skipping rates:\\n{punfit_skip_rate_keys}\"\n",
    ")\n",
    "\n",
    "surf_out = mess.surf.remove_well_skipping_rates(surf_out, punfit_skip_rate_keys)"
   ]
  },
  {
   "cell_type": "code",
   "execution_count": 190,
   "id": "d5e00560",
   "metadata": {},
   "outputs": [
    {
     "name": "stdout",
     "output_type": "stream",
     "text": [
      "Clearing completely unfittable direct rates:\n",
      "[]\n"
     ]
    }
   ],
   "source": [
    "unfit_rate_keys = mess.surf.unfittable_rate_keys(surf_out, well_skipping=False)\n",
    "print(f\"Clearing completely unfittable direct rates:\\n{unfit_rate_keys}\")\n",
    "\n",
    "surf_out = mess.surf.clear_rates(surf_out, unfit_rate_keys)"
   ]
  },
  {
   "cell_type": "code",
   "execution_count": 191,
   "id": "602daf7d",
   "metadata": {},
   "outputs": [
    {
     "name": "stdout",
     "output_type": "stream",
     "text": [
      "Clearing partially-unfittable pressure-independent direct rates:\n",
      "[]\n"
     ]
    }
   ],
   "source": [
    "punfit_rate_keys = mess.surf.partially_unfittable_pressure_independent_rate_keys(\n",
    "    surf_out, T_vals=T_vals, well_skipping=False, empty=False\n",
    ")\n",
    "print(\n",
    "    f\"Clearing partially-unfittable pressure-independent direct rates:\\n{punfit_rate_keys}\"\n",
    ")\n",
    "\n",
    "surf_out = mess.surf.clear_rates(surf_out, punfit_rate_keys)"
   ]
  },
  {
   "cell_type": "code",
   "execution_count": 192,
   "id": "f0559c84",
   "metadata": {},
   "outputs": [],
   "source": [
    "branch_frac_dct = mess.surf.branching_fractions(surf_out, T=T_vals, P=P_vals)"
   ]
  },
  {
   "cell_type": "code",
   "execution_count": 193,
   "id": "6ab705ea",
   "metadata": {},
   "outputs": [
    {
     "name": "stdout",
     "output_type": "stream",
     "text": [
      "Matching rates to reaction directions.\n"
     ]
    }
   ],
   "source": [
    "print(\"Matching rates to reaction directions.\")\n",
    "surf_out = mess.surf.match_rate_directions(surf_out, mech)"
   ]
  },
  {
   "cell_type": "code",
   "execution_count": 194,
   "id": "c6a10214",
   "metadata": {},
   "outputs": [
    {
     "name": "stdout",
     "output_type": "stream",
     "text": [
      "Clearing unfittable pressures.\n"
     ]
    }
   ],
   "source": [
    "print(\"Clearing unfittable pressures.\")\n",
    "surf_out = mess.surf.clear_unfittable_pressures(surf_out)"
   ]
  },
  {
   "cell_type": "code",
   "execution_count": 195,
   "id": "54e51ab3",
   "metadata": {},
   "outputs": [],
   "source": [
    "surf_out = mess.surf.fit_rates(surf_out, T_drop=T_drop, A_fill=A_fill)"
   ]
  },
  {
   "cell_type": "code",
   "execution_count": 196,
   "id": "313011b6",
   "metadata": {},
   "outputs": [
    {
     "name": "stdout",
     "output_type": "stream",
     "text": [
      "Direct rates:\n",
      "(2, 3) CPT(563) + HO2(8) = C5H9(553) + H2O2(10)\n"
     ]
    },
    {
     "data": {
      "image/svg+xml": [
       "<svg xmlns=\"http://www.w3.org/2000/svg\" xmlns:rdkit=\"http://www.rdkit.org/xml\" xmlns:xlink=\"http://www.w3.org/1999/xlink\" version=\"1.1\" baseProfile=\"full\" xml:space=\"preserve\" width=\"500px\" height=\"200px\" viewBox=\"0 0 500 200\"><rect style=\"opacity:1.0;fill:#FFFFFF;stroke:none\" width=\"500\" height=\"200\" x=\"0.0\" y=\"0.0\"/><g>\n",
       "            <defs>\n",
       "                <marker id=\"arrow\" viewBox=\"0 0 12 10\" refX=\"9\" refY=\"5\" markerWidth=\"6\" markerHeight=\"6\" orient=\"auto-start-reverse\">\n",
       "                    <polygon points=\"0 0, 12 5, 0 10\"/>\n",
       "                </marker>\n",
       "            </defs>\n",
       "            <line x1=\"220\" y1=\"100\" x2=\"271\" y2=\"100\" stroke=\"black\" stroke-width=\"3px\" marker-end=\"url(#arrow)\"/>\n",
       "        </g><g><path class=\"bond-0 atom-0 atom-1\" d=\"M 86.9,100.0 L 57.5,59.6\" style=\"fill:none;fill-rule:evenodd;stroke:#000000;stroke-width:2.0px;stroke-linecap:butt;stroke-linejoin:miter;stroke-opacity:1\"/>\n",
       "<path class=\"bond-1 atom-0 atom-2\" d=\"M 86.9,100.0 L 57.5,140.4\" style=\"fill:none;fill-rule:evenodd;stroke:#000000;stroke-width:2.0px;stroke-linecap:butt;stroke-linejoin:miter;stroke-opacity:1\"/>\n",
       "<path class=\"bond-2 atom-1 atom-3\" d=\"M 57.5,59.6 L 10.0,75.0\" style=\"fill:none;fill-rule:evenodd;stroke:#000000;stroke-width:2.0px;stroke-linecap:butt;stroke-linejoin:miter;stroke-opacity:1\"/>\n",
       "<path class=\"bond-3 atom-2 atom-4\" d=\"M 57.5,140.4 L 10.0,125.0\" style=\"fill:none;fill-rule:evenodd;stroke:#000000;stroke-width:2.0px;stroke-linecap:butt;stroke-linejoin:miter;stroke-opacity:1\"/>\n",
       "<path class=\"bond-4 atom-3 atom-4\" d=\"M 10.0,75.0 L 10.0,125.0\" style=\"fill:none;fill-rule:evenodd;stroke:#000000;stroke-width:2.0px;stroke-linecap:butt;stroke-linejoin:miter;stroke-opacity:1\"/>\n",
       "<path class=\"bond-5 atom-5 atom-6\" d=\"M 128.4,100.0 L 162.1,100.0\" style=\"fill:none;fill-rule:evenodd;stroke:#FF0000;stroke-width:2.0px;stroke-linecap:butt;stroke-linejoin:miter;stroke-opacity:1\"/>\n",
       "<path d=\"M 85.4,98.0 L 86.9,100.0 L 85.4,102.0\" style=\"fill:none;stroke:#000000;stroke-width:2.0px;stroke-linecap:butt;stroke-linejoin:miter;stroke-miterlimit:10;stroke-opacity:1;\"/>\n",
       "<path d=\"M 59.0,61.6 L 57.5,59.6 L 55.2,60.3\" style=\"fill:none;stroke:#000000;stroke-width:2.0px;stroke-linecap:butt;stroke-linejoin:miter;stroke-miterlimit:10;stroke-opacity:1;\"/>\n",
       "<path d=\"M 59.0,138.4 L 57.5,140.4 L 55.2,139.7\" style=\"fill:none;stroke:#000000;stroke-width:2.0px;stroke-linecap:butt;stroke-linejoin:miter;stroke-miterlimit:10;stroke-opacity:1;\"/>\n",
       "<path d=\"M 12.4,74.2 L 10.0,75.0 L 10.0,77.5\" style=\"fill:none;stroke:#000000;stroke-width:2.0px;stroke-linecap:butt;stroke-linejoin:miter;stroke-miterlimit:10;stroke-opacity:1;\"/>\n",
       "<path d=\"M 12.4,125.8 L 10.0,125.0 L 10.0,122.5\" style=\"fill:none;stroke:#000000;stroke-width:2.0px;stroke-linecap:butt;stroke-linejoin:miter;stroke-miterlimit:10;stroke-opacity:1;\"/>\n",
       "<path class=\"atom-5\" d=\"M 113.7 100.0 Q 113.7 96.6, 115.4 94.7 Q 117.1 92.8, 120.2 92.8 Q 123.4 92.8, 125.1 94.7 Q 126.7 96.6, 126.7 100.0 Q 126.7 103.5, 125.0 105.4 Q 123.3 107.4, 120.2 107.4 Q 117.1 107.4, 115.4 105.4 Q 113.7 103.5, 113.7 100.0 M 120.2 105.8 Q 122.4 105.8, 123.6 104.3 Q 124.7 102.9, 124.7 100.0 Q 124.7 97.3, 123.6 95.9 Q 122.4 94.4, 120.2 94.4 Q 118.1 94.4, 116.9 95.8 Q 115.7 97.2, 115.7 100.0 Q 115.7 102.9, 116.9 104.3 Q 118.1 105.8, 120.2 105.8 \" fill=\"#FF0000\"/>\n",
       "<path class=\"atom-6\" d=\"M 163.7 100.0 Q 163.7 96.6, 165.4 94.7 Q 167.1 92.8, 170.2 92.8 Q 173.4 92.8, 175.0 94.7 Q 176.7 96.6, 176.7 100.0 Q 176.7 103.5, 175.0 105.4 Q 173.3 107.4, 170.2 107.4 Q 167.1 107.4, 165.4 105.4 Q 163.7 103.5, 163.7 100.0 M 170.2 105.8 Q 172.4 105.8, 173.5 104.3 Q 174.7 102.9, 174.7 100.0 Q 174.7 97.3, 173.5 95.9 Q 172.4 94.4, 170.2 94.4 Q 168.1 94.4, 166.9 95.8 Q 165.7 97.2, 165.7 100.0 Q 165.7 102.9, 166.9 104.3 Q 168.1 105.8, 170.2 105.8 \" fill=\"#FF0000\"/>\n",
       "<path class=\"atom-6\" d=\"M 178.9 93.0 L 180.8 93.0 L 180.8 99.0 L 188.1 99.0 L 188.1 93.0 L 190.0 93.0 L 190.0 107.2 L 188.1 107.2 L 188.1 100.6 L 180.8 100.6 L 180.8 107.2 L 178.9 107.2 L 178.9 93.0 \" fill=\"#FF0000\"/>\n",
       "<path class=\"atom-5\" d=\"M 111.7,100.0 L 111.7,100.1 L 111.7,100.2 L 111.7,100.3 L 111.7,100.3 L 111.7,100.4 L 111.6,100.5 L 111.6,100.6 L 111.5,100.6 L 111.5,100.7 L 111.4,100.8 L 111.3,100.8 L 111.3,100.9 L 111.2,100.9 L 111.1,100.9 L 111.0,101.0 L 110.9,101.0 L 110.8,101.0 L 110.8,101.0 L 110.7,101.0 L 110.6,101.0 L 110.5,101.0 L 110.4,100.9 L 110.3,100.9 L 110.3,100.9 L 110.2,100.8 L 110.1,100.8 L 110.1,100.7 L 110.0,100.7 L 109.9,100.6 L 109.9,100.5 L 109.9,100.5 L 109.8,100.4 L 109.8,100.3 L 109.8,100.2 L 109.8,100.1 L 109.7,100.0 L 109.7,100.0 L 109.8,99.9 L 109.8,99.8 L 109.8,99.7 L 109.8,99.6 L 109.9,99.5 L 109.9,99.5 L 109.9,99.4 L 110.0,99.3 L 110.1,99.3 L 110.1,99.2 L 110.2,99.2 L 110.3,99.1 L 110.3,99.1 L 110.4,99.1 L 110.5,99.0 L 110.6,99.0 L 110.7,99.0 L 110.8,99.0 L 110.8,99.0 L 110.9,99.0 L 111.0,99.0 L 111.1,99.1 L 111.2,99.1 L 111.3,99.1 L 111.3,99.2 L 111.4,99.2 L 111.5,99.3 L 111.5,99.4 L 111.6,99.4 L 111.6,99.5 L 111.7,99.6 L 111.7,99.7 L 111.7,99.7 L 111.7,99.8 L 111.7,99.9 L 111.7,100.0 L 110.7,100.0 Z\" style=\"fill:#000000;fill-rule:evenodd;fill-opacity:1;stroke:#000000;stroke-width:0.0px;stroke-linecap:butt;stroke-linejoin:miter;stroke-miterlimit:10;stroke-opacity:1;\"/>\n",
       "</g><g transform=\"translate(300 0)\"><path class=\"bond-0 atom-0 atom-1\" d=\"M 86.9,100.0 L 57.5,59.6\" style=\"fill:none;fill-rule:evenodd;stroke:#000000;stroke-width:2.0px;stroke-linecap:butt;stroke-linejoin:miter;stroke-opacity:1\"/>\n",
       "<path class=\"bond-1 atom-0 atom-2\" d=\"M 86.9,100.0 L 57.5,140.4\" style=\"fill:none;fill-rule:evenodd;stroke:#000000;stroke-width:2.0px;stroke-linecap:butt;stroke-linejoin:miter;stroke-opacity:1\"/>\n",
       "<path class=\"bond-2 atom-1 atom-3\" d=\"M 57.5,59.6 L 10.0,75.0\" style=\"fill:none;fill-rule:evenodd;stroke:#000000;stroke-width:2.0px;stroke-linecap:butt;stroke-linejoin:miter;stroke-opacity:1\"/>\n",
       "<path class=\"bond-3 atom-2 atom-4\" d=\"M 57.5,140.4 L 10.0,125.0\" style=\"fill:none;fill-rule:evenodd;stroke:#000000;stroke-width:2.0px;stroke-linecap:butt;stroke-linejoin:miter;stroke-opacity:1\"/>\n",
       "<path class=\"bond-4 atom-3 atom-4\" d=\"M 10.0,75.0 L 10.0,125.0\" style=\"fill:none;fill-rule:evenodd;stroke:#000000;stroke-width:2.0px;stroke-linecap:butt;stroke-linejoin:miter;stroke-opacity:1\"/>\n",
       "<path class=\"bond-5 atom-5 atom-6\" d=\"M 128.4,100.0 L 162.1,100.0\" style=\"fill:none;fill-rule:evenodd;stroke:#FF0000;stroke-width:2.0px;stroke-linecap:butt;stroke-linejoin:miter;stroke-opacity:1\"/>\n",
       "<path d=\"M 85.4,98.0 L 86.9,100.0 L 85.4,102.0\" style=\"fill:none;stroke:#000000;stroke-width:2.0px;stroke-linecap:butt;stroke-linejoin:miter;stroke-miterlimit:10;stroke-opacity:1;\"/>\n",
       "<path d=\"M 59.0,61.6 L 57.5,59.6 L 55.2,60.3\" style=\"fill:none;stroke:#000000;stroke-width:2.0px;stroke-linecap:butt;stroke-linejoin:miter;stroke-miterlimit:10;stroke-opacity:1;\"/>\n",
       "<path d=\"M 59.0,138.4 L 57.5,140.4 L 55.2,139.7\" style=\"fill:none;stroke:#000000;stroke-width:2.0px;stroke-linecap:butt;stroke-linejoin:miter;stroke-miterlimit:10;stroke-opacity:1;\"/>\n",
       "<path d=\"M 12.4,74.2 L 10.0,75.0 L 10.0,77.5\" style=\"fill:none;stroke:#000000;stroke-width:2.0px;stroke-linecap:butt;stroke-linejoin:miter;stroke-miterlimit:10;stroke-opacity:1;\"/>\n",
       "<path d=\"M 12.4,125.8 L 10.0,125.0 L 10.0,122.5\" style=\"fill:none;stroke:#000000;stroke-width:2.0px;stroke-linecap:butt;stroke-linejoin:miter;stroke-miterlimit:10;stroke-opacity:1;\"/>\n",
       "<path class=\"atom-5\" d=\"M 99.8 93.0 L 101.7 93.0 L 101.7 99.0 L 108.9 99.0 L 108.9 93.0 L 110.8 93.0 L 110.8 107.2 L 108.9 107.2 L 108.9 100.6 L 101.7 100.6 L 101.7 107.2 L 99.8 107.2 L 99.8 93.0 \" fill=\"#FF0000\"/>\n",
       "<path class=\"atom-5\" d=\"M 113.7 100.0 Q 113.7 96.6, 115.4 94.7 Q 117.1 92.8, 120.2 92.8 Q 123.4 92.8, 125.1 94.7 Q 126.7 96.6, 126.7 100.0 Q 126.7 103.5, 125.0 105.4 Q 123.3 107.4, 120.2 107.4 Q 117.1 107.4, 115.4 105.4 Q 113.7 103.5, 113.7 100.0 M 120.2 105.8 Q 122.4 105.8, 123.6 104.3 Q 124.7 102.9, 124.7 100.0 Q 124.7 97.3, 123.6 95.9 Q 122.4 94.4, 120.2 94.4 Q 118.1 94.4, 116.9 95.8 Q 115.7 97.2, 115.7 100.0 Q 115.7 102.9, 116.9 104.3 Q 118.1 105.8, 120.2 105.8 \" fill=\"#FF0000\"/>\n",
       "<path class=\"atom-6\" d=\"M 163.7 100.0 Q 163.7 96.6, 165.4 94.7 Q 167.1 92.8, 170.2 92.8 Q 173.4 92.8, 175.0 94.7 Q 176.7 96.6, 176.7 100.0 Q 176.7 103.5, 175.0 105.4 Q 173.3 107.4, 170.2 107.4 Q 167.1 107.4, 165.4 105.4 Q 163.7 103.5, 163.7 100.0 M 170.2 105.8 Q 172.4 105.8, 173.5 104.3 Q 174.7 102.9, 174.7 100.0 Q 174.7 97.3, 173.5 95.9 Q 172.4 94.4, 170.2 94.4 Q 168.1 94.4, 166.9 95.8 Q 165.7 97.2, 165.7 100.0 Q 165.7 102.9, 166.9 104.3 Q 168.1 105.8, 170.2 105.8 \" fill=\"#FF0000\"/>\n",
       "<path class=\"atom-6\" d=\"M 178.9 93.0 L 180.8 93.0 L 180.8 99.0 L 188.1 99.0 L 188.1 93.0 L 190.0 93.0 L 190.0 107.2 L 188.1 107.2 L 188.1 100.6 L 180.8 100.6 L 180.8 107.2 L 178.9 107.2 L 178.9 93.0 \" fill=\"#FF0000\"/>\n",
       "<path class=\"atom-0\" d=\"M 93.9,100.0 L 93.9,100.1 L 93.9,100.2 L 93.9,100.3 L 93.9,100.3 L 93.8,100.4 L 93.8,100.5 L 93.7,100.6 L 93.7,100.6 L 93.6,100.7 L 93.6,100.8 L 93.5,100.8 L 93.4,100.9 L 93.4,100.9 L 93.3,100.9 L 93.2,101.0 L 93.1,101.0 L 93.0,101.0 L 92.9,101.0 L 92.9,101.0 L 92.8,101.0 L 92.7,101.0 L 92.6,100.9 L 92.5,100.9 L 92.4,100.9 L 92.4,100.8 L 92.3,100.8 L 92.2,100.7 L 92.2,100.7 L 92.1,100.6 L 92.1,100.5 L 92.0,100.5 L 92.0,100.4 L 92.0,100.3 L 91.9,100.2 L 91.9,100.1 L 91.9,100.0 L 91.9,100.0 L 91.9,99.9 L 91.9,99.8 L 92.0,99.7 L 92.0,99.6 L 92.0,99.5 L 92.1,99.5 L 92.1,99.4 L 92.2,99.3 L 92.2,99.3 L 92.3,99.2 L 92.4,99.2 L 92.4,99.1 L 92.5,99.1 L 92.6,99.1 L 92.7,99.0 L 92.8,99.0 L 92.9,99.0 L 92.9,99.0 L 93.0,99.0 L 93.1,99.0 L 93.2,99.0 L 93.3,99.1 L 93.4,99.1 L 93.4,99.1 L 93.5,99.2 L 93.6,99.2 L 93.6,99.3 L 93.7,99.4 L 93.7,99.4 L 93.8,99.5 L 93.8,99.6 L 93.9,99.7 L 93.9,99.7 L 93.9,99.8 L 93.9,99.9 L 93.9,100.0 L 92.9,100.0 Z\" style=\"fill:#000000;fill-rule:evenodd;fill-opacity:1;stroke:#000000;stroke-width:0.0px;stroke-linecap:butt;stroke-linejoin:miter;stroke-miterlimit:10;stroke-opacity:1;\"/>\n",
       "</g></svg>"
      ],
      "text/plain": [
       "<IPython.core.display.SVG object>"
      ]
     },
     "metadata": {},
     "output_type": "display_data"
    },
    {
     "data": {
      "text/html": [
       "\n",
       "<style>\n",
       "  #altair-viz-86976efbae474e83b6cf938d078d489c.vega-embed {\n",
       "    width: 100%;\n",
       "    display: flex;\n",
       "  }\n",
       "\n",
       "  #altair-viz-86976efbae474e83b6cf938d078d489c.vega-embed details,\n",
       "  #altair-viz-86976efbae474e83b6cf938d078d489c.vega-embed details summary {\n",
       "    position: relative;\n",
       "  }\n",
       "</style>\n",
       "<div id=\"altair-viz-86976efbae474e83b6cf938d078d489c\"></div>\n",
       "<script type=\"text/javascript\">\n",
       "  var VEGA_DEBUG = (typeof VEGA_DEBUG == \"undefined\") ? {} : VEGA_DEBUG;\n",
       "  (function(spec, embedOpt){\n",
       "    let outputDiv = document.currentScript.previousElementSibling;\n",
       "    if (outputDiv.id !== \"altair-viz-86976efbae474e83b6cf938d078d489c\") {\n",
       "      outputDiv = document.getElementById(\"altair-viz-86976efbae474e83b6cf938d078d489c\");\n",
       "    }\n",
       "\n",
       "    const paths = {\n",
       "      \"vega\": \"https://cdn.jsdelivr.net/npm/vega@5?noext\",\n",
       "      \"vega-lib\": \"https://cdn.jsdelivr.net/npm/vega-lib?noext\",\n",
       "      \"vega-lite\": \"https://cdn.jsdelivr.net/npm/vega-lite@5.20.1?noext\",\n",
       "      \"vega-embed\": \"https://cdn.jsdelivr.net/npm/vega-embed@6?noext\",\n",
       "    };\n",
       "\n",
       "    function maybeLoadScript(lib, version) {\n",
       "      var key = `${lib.replace(\"-\", \"\")}_version`;\n",
       "      return (VEGA_DEBUG[key] == version) ?\n",
       "        Promise.resolve(paths[lib]) :\n",
       "        new Promise(function(resolve, reject) {\n",
       "          var s = document.createElement('script');\n",
       "          document.getElementsByTagName(\"head\")[0].appendChild(s);\n",
       "          s.async = true;\n",
       "          s.onload = () => {\n",
       "            VEGA_DEBUG[key] = version;\n",
       "            return resolve(paths[lib]);\n",
       "          };\n",
       "          s.onerror = () => reject(`Error loading script: ${paths[lib]}`);\n",
       "          s.src = paths[lib];\n",
       "        });\n",
       "    }\n",
       "\n",
       "    function showError(err) {\n",
       "      outputDiv.innerHTML = `<div class=\"error\" style=\"color:red;\">${err}</div>`;\n",
       "      throw err;\n",
       "    }\n",
       "\n",
       "    function displayChart(vegaEmbed) {\n",
       "      vegaEmbed(outputDiv, spec, embedOpt)\n",
       "        .catch(err => showError(`Javascript Error: ${err.message}<br>This usually means there's a typo in your chart specification. See the javascript console for the full traceback.`));\n",
       "    }\n",
       "\n",
       "    if(typeof define === \"function\" && define.amd) {\n",
       "      requirejs.config({paths});\n",
       "      let deps = [\"vega-embed\"];\n",
       "      require(deps, displayChart, err => showError(`Error loading script: ${err.message}`));\n",
       "    } else {\n",
       "      maybeLoadScript(\"vega\", \"5\")\n",
       "        .then(() => maybeLoadScript(\"vega-lite\", \"5.20.1\"))\n",
       "        .then(() => maybeLoadScript(\"vega-embed\", \"6\"))\n",
       "        .catch(showError)\n",
       "        .then(() => displayChart(vegaEmbed));\n",
       "    }\n",
       "  })({\"config\": {\"view\": {\"continuousWidth\": 300, \"continuousHeight\": 300}}, \"layer\": [{\"data\": {\"name\": \"data-8244462360e64f6990990c45b53d67c2\"}, \"mark\": {\"type\": \"line\"}, \"encoding\": {\"color\": {\"field\": \"key\", \"scale\": {\"domain\": [\"Fit\"], \"range\": [\"#0066ff\"]}, \"type\": \"nominal\"}, \"x\": {\"field\": \"x\", \"scale\": {\"zero\": false}, \"title\": \"1000/\\ud835\\udc47 (1/K)\", \"type\": \"quantitative\"}, \"y\": {\"axis\": {\"format\": \".1e\", \"values\": [1, 10, 100, 1000, 10000, 100000, 1000000, 10000000, 100000000, 1000000000]}, \"field\": \"value\", \"scale\": {\"type\": \"log\"}, \"title\": \"\\ud835\\udc58 (cm\\u00b3/mol/s)\", \"type\": \"quantitative\"}}, \"transform\": [{\"fold\": [\"Fit\"]}]}, {\"data\": {\"name\": \"data-295145fe35b0ef321942a5c5d3821264\"}, \"mark\": {\"type\": \"point\", \"filled\": true, \"opacity\": 1}, \"encoding\": {\"color\": {\"field\": \"key\", \"scale\": {\"domain\": [\"Data\"], \"range\": [\"#000000\"]}, \"type\": \"nominal\"}, \"x\": {\"field\": \"x\", \"scale\": {\"zero\": false}, \"title\": \"1000/\\ud835\\udc47 (1/K)\", \"type\": \"quantitative\"}, \"y\": {\"axis\": {\"format\": \".1e\", \"values\": [1, 10, 100, 1000, 10000, 100000, 1000000, 10000000, 100000000, 1000000000]}, \"field\": \"value\", \"scale\": {\"type\": \"log\"}, \"title\": \"\\ud835\\udc58 (cm\\u00b3/mol/s)\", \"type\": \"quantitative\"}}, \"transform\": [{\"fold\": [\"Data\"]}]}], \"resolve\": {\"scale\": {\"color\": \"independent\"}}, \"$schema\": \"https://vega.github.io/schema/vega-lite/v5.20.1.json\", \"datasets\": {\"data-8244462360e64f6990990c45b53d67c2\": [{\"x\": 3.3333333333333335, \"Fit\": 0.8780528600550963}, {\"x\": 3.3233532934131733, \"Fit\": 0.9361927195000155}, {\"x\": 3.3134328358208958, \"Fit\": 0.9978428398285508}, {\"x\": 3.3035714285714284, \"Fit\": 1.0631941621275505}, {\"x\": 3.293768545994065, \"Fit\": 1.132446835016836}, {\"x\": 3.2840236686390534, \"Fit\": 1.20581059933749}, {\"x\": 3.2743362831858405, \"Fit\": 1.2835051862810531}, {\"x\": 3.2647058823529416, \"Fit\": 1.3657607293287826}, {\"x\": 3.2551319648093844, \"Fit\": 1.4528181903769721}, {\"x\": 3.245614035087719, \"Fit\": 1.5449298004311673}, {\"x\": 3.2361516034985423, \"Fit\": 1.6423595152594141}, {\"x\": 3.2267441860465116, \"Fit\": 1.7453834864013982}, {\"x\": 3.2173913043478257, \"Fit\": 1.8542905479377632}, {\"x\": 3.208092485549133, \"Fit\": 1.969382719430741}, {\"x\": 3.1988472622478383, \"Fit\": 2.0909757254547765}, {\"x\": 3.189655172413793, \"Fit\": 2.2193995321426354}, {\"x\": 3.180515759312321, \"Fit\": 2.3549989011801755}, {\"x\": 3.1714285714285713, \"Fit\": 2.498133961689862}, {\"x\": 3.1623931623931627, \"Fit\": 2.6491808004508934}, {\"x\": 3.153409090909091, \"Fit\": 2.8085320709107764}, {\"x\": 3.1444759206798865, \"Fit\": 2.9765976214506997}, {\"x\": 3.135593220338983, \"Fit\": 3.1538051433748007}, {\"x\": 3.1267605633802815, \"Fit\": 3.3406008391004036}, {\"x\": 3.117977528089888, \"Fit\": 3.5374501110340963}, {\"x\": 3.1092436974789917, \"Fit\": 3.744838271626091}, {\"x\": 3.100558659217877, \"Fit\": 3.9632712751025716}, {\"x\": 3.091922005571031, \"Fit\": 4.193276471383568}, {\"x\": 3.0833333333333335, \"Fit\": 4.4354033827014225}, {\"x\": 3.074792243767313, \"Fit\": 4.69022450344234}, {\"x\": 3.0662983425414367, \"Fit\": 4.95833612374143}, {\"x\": 3.0578512396694215, \"Fit\": 5.240359177369192}, {\"x\": 3.0494505494505493, \"Fit\": 5.536940114454687}, {\"x\": 3.041095890410959, \"Fit\": 5.848751799599122}, {\"x\": 3.0327868852459017, \"Fit\": 6.17649443594042}, {\"x\": 3.024523160762943, \"Fit\": 6.520896515737386}, {\"x\": 3.016304347826087, \"Fit\": 6.882715798050106}, {\"x\": 3.0081300813008127, \"Fit\": 7.262740314100131}, {\"x\": 3.0, \"Fit\": 7.661789400902635}, {\"x\": 2.9919137466307277, \"Fit\": 8.080714763769686}, {\"x\": 2.9838709677419355, \"Fit\": 8.520401568292021}, {\"x\": 2.9758713136729225, \"Fit\": 8.981769562413875}, {\"x\": 2.9679144385026737, \"Fit\": 9.465774229224131}, {\"x\": 2.9600000000000004, \"Fit\": 9.973407971093026}, {\"x\": 2.9521276595744683, \"Fit\": 10.505701325793858}, {\"x\": 2.9442970822281165, \"Fit\": 11.063724215253913}, {\"x\": 2.9365079365079367, \"Fit\": 11.648587227589168}, {\"x\": 2.928759894459103, \"Fit\": 12.26144293308364}, {\"x\": 2.9210526315789473, \"Fit\": 12.903487234781398}, {\"x\": 2.9133858267716537, \"Fit\": 13.575960754368712}, {\"x\": 2.905759162303665, \"Fit\": 14.280150254029984}, {\"x\": 2.8981723237597907, \"Fit\": 15.017390094968786}, {\"x\": 2.890625, \"Fit\": 15.789063733293906}, {\"x\": 2.883116883116883, \"Fit\": 16.596605253977103}, {\"x\": 2.8756476683937824, \"Fit\": 17.441500943596854}, {\"x\": 2.868217054263566, \"Fit\": 18.325290902590506}, {\"x\": 2.8608247422680413, \"Fit\": 19.249570697743764}, {\"x\": 2.853470437017995, \"Fit\": 20.215993055655133}, {\"x\": 2.8461538461538463, \"Fit\": 21.22626959791991}, {\"x\": 2.838874680306905, \"Fit\": 22.282172618784692}, {\"x\": 2.8316326530612246, \"Fit\": 23.385536906032762}, {\"x\": 2.8244274809160306, \"Fit\": 24.538261605867312}, {\"x\": 2.8172588832487313, \"Fit\": 25.74231213256479}, {\"x\": 2.810126582278481, \"Fit\": 26.999722123682282}, {\"x\": 2.8030303030303028, \"Fit\": 28.312595441605296}, {\"x\": 2.795969773299748, \"Fit\": 29.683108222233145}, {\"x\": 2.7889447236180906, \"Fit\": 31.1135109716055}, {\"x\": 2.781954887218045, \"Fit\": 32.606130711277636}, {\"x\": 2.775, \"Fit\": 34.16337317326589}, {\"x\": 2.7680798004987532, \"Fit\": 35.78772504538413}, {\"x\": 2.761194029850746, \"Fit\": 37.48175626780421}, {\"x\": 2.7543424317617866, \"Fit\": 39.24812238167886}, {\"x\": 2.7475247524752473, \"Fit\": 41.08956693067281}, {\"x\": 2.7407407407407405, \"Fit\": 43.008923916252286}, {\"x\": 2.7339901477832513, \"Fit\": 45.00912030759455}, {\"x\": 2.727272727272727, \"Fit\": 47.0931786069827}, {\"x\": 2.7205882352941178, \"Fit\": 49.264219471555656}, {\"x\": 2.7139364303178484, \"Fit\": 51.525464392297785}, {\"x\": 2.707317073170732, \"Fit\": 53.88023843114753}, {\"x\": 2.7007299270072993, \"Fit\": 56.331973017124135}, {\"x\": 2.6941747572815533, \"Fit\": 58.884208802365634}, {\"x\": 2.6876513317191284, \"Fit\": 61.540598578987016}, {\"x\": 2.681159420289855, \"Fit\": 64.30491025767043}, {\"x\": 2.674698795180723, \"Fit\": 67.18102990890166}, {\"x\": 2.668269230769231, \"Fit\": 70.17296486778189}, {\"x\": 2.661870503597122, \"Fit\": 73.28484690334335}, {\"x\": 2.6555023923444976, \"Fit\": 76.52093545330374}, {\"x\": 2.649164677804296, \"Fit\": 79.88562092520552}, {\"x\": 2.642857142857143, \"Fit\": 83.38342806488637}, {\"x\": 2.6365795724465557, \"Fit\": 87.01901939323606}, {\"x\": 2.6303317535545023, \"Fit\": 90.79719871220028}, {\"x\": 2.624113475177305, \"Fit\": 94.72291468099935}, {\"x\": 2.6179245283018866, \"Fit\": 98.80126446352917}, {\"x\": 2.611764705882353, \"Fit\": 103.03749744792802}, {\"x\": 2.6056338028169015, \"Fit\": 107.43701903928842}, {\"x\": 2.5995316159250588, \"Fit\": 112.0053945265045}, {\"x\": 2.5934579439252334, \"Fit\": 116.74835302424866}, {\"x\": 2.5874125874125875, \"Fit\": 121.67179149107461}, {\"x\": 2.5813953488372094, \"Fit\": 126.78177882465909}, {\"x\": 2.5754060324825985, \"Fit\": 132.08456003518128}, {\"x\": 2.5694444444444446, \"Fit\": 137.58656049786524}, {\"x\": 2.5635103926097, \"Fit\": 143.29439028569962}, {\"x\": 2.5576036866359444, \"Fit\": 149.2148485833604}, {\"x\": 2.5517241379310347, \"Fit\": 155.35492818337008}, {\"x\": 2.5458715596330275, \"Fit\": 161.72182006552458}, {\"x\": 2.540045766590389, \"Fit\": 168.32291806062753}, {\"x\": 2.5342465753424657, \"Fit\": 175.16582359957803}, {\"x\": 2.5284738041002277, \"Fit\": 182.2583505488637}, {\"x\": 2.5227272727272725, \"Fit\": 189.60853013349907}, {\"x\": 2.5170068027210886, \"Fit\": 197.22461594848673}, {\"x\": 2.51131221719457, \"Fit\": 205.11508905984905}, {\"x\": 2.5056433408577874, \"Fit\": 213.28866319629523}, {\"x\": 2.5, \"Fit\": 221.75429003260564}, {\"x\": 2.49438202247191, \"Fit\": 230.52116456580322}, {\"x\": 2.4887892376681617, \"Fit\": 239.5987305851775}, {\"x\": 2.483221476510067, \"Fit\": 248.99668623726686}, {\"x\": 2.4776785714285716, \"Fit\": 258.72498968686455}, {\"x\": 2.472160356347439, \"Fit\": 268.7938648751511}, {\"x\": 2.466666666666667, \"Fit\": 279.21380737603624}, {\"x\": 2.46119733924612, \"Fit\": 289.9955903518165}, {\"x\": 2.4557522123893807, \"Fit\": 301.1502706092474}, {\"x\": 2.4503311258278146, \"Fit\": 312.6891947571237}, {\"x\": 2.444933920704846, \"Fit\": 324.62400546648496}, {\"x\": 2.4395604395604393, \"Fit\": 336.96664783456345}, {\"x\": 2.4342105263157894, \"Fit\": 349.72937585356084}, {\"x\": 2.428884026258206, \"Fit\": 362.9247589853997}, {\"x\": 2.423580786026201, \"Fit\": 376.56568884355556}, {\"x\": 2.418300653594771, \"Fit\": 390.66538598308296}, {\"x\": 2.4130434782608696, \"Fit\": 405.2374067999799}, {\"x\": 2.407809110629067, \"Fit\": 420.29565054100095}, {\"x\": 2.402597402597402, \"Fit\": 435.8543664250563}, {\"x\": 2.3974082073434126, \"Fit\": 451.9281608773277}, {\"x\": 2.3922413793103448, \"Fit\": 468.5320048772428}, {\"x\": 2.3870967741935485, \"Fit\": 485.6812414214214}, {\"x\": 2.3819742489270386, \"Fit\": 503.39159310276864}, {\"x\": 2.3768736616702357, \"Fit\": 521.6791698068221}, {\"x\": 2.371794871794872, \"Fit\": 540.5604765265205}, {\"x\": 2.366737739872068, \"Fit\": 560.052421296523}, {\"x\": 2.3617021276595747, \"Fit\": 580.1723232482326}, {\"x\": 2.356687898089172, \"Fit\": 600.9379207866799}, {\"x\": 2.351694915254237, \"Fit\": 622.3673798903949}, {\"x\": 2.346723044397463, \"Fit\": 644.4793025354442}, {\"x\": 2.3417721518987342, \"Fit\": 667.2927352447772}, {\"x\": 2.3368421052631576, \"Fit\": 690.8271777640168}, {\"x\": 2.331932773109244, \"Fit\": 715.1025918648903}, {\"x\": 2.3270440251572326, \"Fit\": 740.1394102774238}, {\"x\": 2.322175732217573, \"Fit\": 765.958545752064}, {\"x\": 2.317327766179541, \"Fit\": 792.5814002528981}, {\"x\": 2.3125, \"Fit\": 820.0298742831303}, {\"x\": 2.3076923076923075, \"Fit\": 848.3263763439637}, {\"x\": 2.3029045643153525, \"Fit\": 877.4938325280378}, {\"x\": 2.298136645962733, \"Fit\": 907.5556962486535}, {\"x\": 2.2933884297520657, \"Fit\": 938.5359581058403}, {\"x\": 2.288659793814433, \"Fit\": 970.4591558905068}, {\"x\": 2.2839506172839505, \"Fit\": 1003.3503847278336}, {\"x\": 2.2792607802874745, \"Fit\": 1037.2353073610266}, {\"x\": 2.2745901639344264, \"Fit\": 1072.1401645766346}, {\"x\": 2.2699386503067487, \"Fit\": 1108.0917857725835}, {\"x\": 2.2653061224489797, \"Fit\": 1145.1175996701008}, {\"x\": 2.260692464358452, \"Fit\": 1183.2456451706578}, {\"x\": 2.25609756097561, \"Fit\": 1222.5045823591458}, {\"x\": 2.2515212981744424, \"Fit\": 1262.9237036544157}, {\"x\": 2.246963562753036, \"Fit\": 1304.5329451083426}, {\"x\": 2.2424242424242427, \"Fit\": 1347.362897854605}, {\"x\": 2.2379032258064515, \"Fit\": 1391.4448197083052}, {\"x\": 2.2334004024144867, \"Fit\": 1436.810646917623}, {\"x\": 2.2289156626506026, \"Fit\": 1483.4930060686484}, {\"x\": 2.2244488977955914, \"Fit\": 1531.5252261445642}, {\"x\": 2.2199999999999998, \"Fit\": 1580.941350740315}, {\"x\": 2.215568862275449, \"Fit\": 1631.7761504339242}, {\"x\": 2.211155378486056, \"Fit\": 1684.065135315688}, {\"x\": 2.20675944333996, \"Fit\": 1737.844567676267}, {\"x\": 2.2023809523809526, \"Fit\": 1793.1514748549578}, {\"x\": 2.198019801980198, \"Fit\": 1850.0236622492178}, {\"x\": 2.1936758893280635, \"Fit\": 1908.499726486658}, {\"x\": 2.1893491124260356, \"Fit\": 1968.6190687605786}, {\"x\": 2.1850393700787403, \"Fit\": 2030.421908330269}, {\"x\": 2.180746561886051, \"Fit\": 2093.9492961871842}, {\"x\": 2.176470588235294, \"Fit\": 2159.243128888159}, {\"x\": 2.172211350293542, \"Fit\": 2226.3461625567566}, {\"x\": 2.16796875, \"Fit\": 2295.3020270540114}, {\"x\": 2.1637426900584793, \"Fit\": 2366.155240319535}, {\"x\": 2.159533073929961, \"Fit\": 2438.9512228842814}, {\"x\": 2.1553398058252426, \"Fit\": 2513.7363125560564}, {\"x\": 2.1511627906976742, \"Fit\": 2590.557779278814}, {\"x\": 2.147001934235977, \"Fit\": 2669.4638401670322}, {\"x\": 2.1428571428571432, \"Fit\": 2750.5036747162085}, {\"x\": 2.138728323699422, \"Fit\": 2833.72744019058}, {\"x\": 2.1346153846153846, \"Fit\": 2919.186287189207}, {\"x\": 2.1305182341650672, \"Fit\": 3006.932375391664}, {\"x\": 2.1264367816091956, \"Fit\": 3097.0188894842604}, {\"x\": 2.1223709369024855, \"Fit\": 3189.500055268002}, {\"x\": 2.118320610687023, \"Fit\": 3284.4311559494945}, {\"x\": 2.1142857142857143, \"Fit\": 3381.8685486157588}, {\"x\": 2.110266159695817, \"Fit\": 3481.8696808941118}, {\"x\": 2.106261859582543, \"Fit\": 3584.493107798263}, {\"x\": 2.102272727272727, \"Fit\": 3689.7985087617267}, {\"x\": 2.0982986767485823, \"Fit\": 3797.846704859554}, {\"x\": 2.0943396226415096, \"Fit\": 3908.699676219588}, {\"x\": 2.0903954802259888, \"Fit\": 4022.420579624347}, {\"x\": 2.0864661654135337, \"Fit\": 4139.073766304492}, {\"x\": 2.082551594746717, \"Fit\": 4258.724799925108}, {\"x\": 2.0786516853932584, \"Fit\": 4381.440474765844}, {\"x\": 2.074766355140187, \"Fit\": 4507.288834095898}, {\"x\": 2.0708955223880596, \"Fit\": 4636.3391887451}, {\"x\": 2.0670391061452515, \"Fit\": 4768.662135872}, {\"x\": 2.0631970260223045, \"Fit\": 4904.329577930162}, {\"x\": 2.0593692022263452, \"Fit\": 5043.414741833524}, {\"x\": 2.055555555555556, \"Fit\": 5185.992198322299}, {\"x\": 2.0517560073937156, \"Fit\": 5332.13788152993}, {\"x\": 2.047970479704797, \"Fit\": 5481.929108752573}, {\"x\": 2.044198895027624, \"Fit\": 5635.444600421959}, {\"x\": 2.0404411764705883, \"Fit\": 5792.764500282877}, {\"x\": 2.036697247706422, \"Fit\": 5953.970395775925}, {\"x\": 2.032967032967033, \"Fit\": 6119.145338627099}, {\"x\": 2.0292504570383914, \"Fit\": 6288.373865644826}, {\"x\": 2.0255474452554743, \"Fit\": 6461.742019725605}, {\"x\": 2.021857923497268, \"Fit\": 6639.337371069415}, {\"x\": 2.018181818181818, \"Fit\": 6821.249038605742}, {\"x\": 2.014519056261343, \"Fit\": 7007.567711631246}, {\"x\": 2.010869565217391, \"Fit\": 7198.385671660251}, {\"x\": 2.0072332730560576, \"Fit\": 7393.796814488856}, {\"x\": 2.003610108303249, \"Fit\": 7593.896672473811}, {\"x\": 2.0, \"Fit\": 7798.782437027049}, {\"x\": 1.996402877697842, \"Fit\": 8008.552981327053}, {\"x\": 1.9928186714542189, \"Fit\": 8223.30888324786}, {\"x\": 1.989247311827957, \"Fit\": 8443.15244850656}, {\"x\": 1.9856887298747765, \"Fit\": 8668.187734030906}, {\"x\": 1.9821428571428572, \"Fit\": 8898.520571547213}, {\"x\": 1.9786096256684491, \"Fit\": 9134.258591389847}, {\"x\": 1.9750889679715304, \"Fit\": 9375.511246533593}, {\"x\": 1.9715808170515097, \"Fit\": 9622.38983684931}, {\"x\": 1.9680851063829787, \"Fit\": 9875.00753358415}, {\"x\": 1.9646017699115046, \"Fit\": 10133.479404067246}, {\"x\": 1.96113074204947, \"Fit\": 10397.922436641866}, {\"x\": 1.9576719576719577, \"Fit\": 10668.455565824686}, {\"x\": 1.954225352112676, \"Fit\": 10945.199697693552}, {\"x\": 1.9507908611599298, \"Fit\": 11228.277735504405}, {\"x\": 1.9473684210526314, \"Fit\": 11517.814605538264}, {\"x\": 1.9439579684763573, \"Fit\": 11813.937283179106}, {\"x\": 1.9405594405594406, \"Fit\": 12116.774819224172}, {\"x\": 1.9371727748691099, \"Fit\": 12426.458366426792}, {\"x\": 1.9337979094076656, \"Fit\": 12743.121206272752}, {\"x\": 1.9304347826086958, \"Fit\": 13066.89877599201}, {\"x\": 1.9270833333333333, \"Fit\": 13397.928695805464}, {\"x\": 1.923743500866551, \"Fit\": 13736.350796408135}, {\"x\": 1.920415224913495, \"Fit\": 14082.30714669016}, {\"x\": 1.9170984455958548, \"Fit\": 14435.94208169554}, {\"x\": 1.9137931034482758, \"Fit\": 14797.402230819918}, {\"x\": 1.910499139414802, \"Fit\": 15166.836546248913}, {\"x\": 1.9072164948453607, \"Fit\": 15544.396331636719}, {\"x\": 1.9039451114922812, \"Fit\": 15930.235271026175}, {\"x\": 1.9006849315068495, \"Fit\": 16324.509458012235}, {\"x\": 1.8974358974358971, \"Fit\": 16727.377425147846}, {\"x\": 1.89419795221843, \"Fit\": 17139.000173594464}, {\"x\": 1.890971039182283, \"Fit\": 17559.541203017605}, {\"x\": 1.887755102040816, \"Fit\": 17989.166541728282}, {\"x\": 1.8845500848896433, \"Fit\": 18428.044777070514}, {\"x\": 1.88135593220339, \"Fit\": 18876.347086057387}, {\"x\": 1.878172588832487, \"Fit\": 19334.24726625459}, {\"x\": 1.8749999999999998, \"Fit\": 19801.921766912947}, {\"x\": 1.8718381112984823, \"Fit\": 20279.549720351544}, {\"x\": 1.8686868686868687, \"Fit\": 20767.31297359106}, {\"x\": 1.8655462184873948, \"Fit\": 21265.39612023844}, {\"x\": 1.8624161073825503, \"Fit\": 21773.98653262399}, {\"x\": 1.8592964824120604, \"Fit\": 22293.274394191754}, {\"x\": 1.8561872909699, \"Fit\": 22823.45273214311}, {\"x\": 1.8530884808013355, \"Fit\": 23364.717450335396}, {\"x\": 1.85, \"Fit\": 23917.267362435185}, {\"x\": 1.8469217970049918, \"Fit\": 24481.30422532858}, {\"x\": 1.8438538205980066, \"Fit\": 25057.032772787446}, {\"x\": 1.8407960199004976, \"Fit\": 25644.660749393042}, {\"x\": 1.837748344370861, \"Fit\": 26244.398944719043}, {\"x\": 1.8347107438016528, \"Fit\": 26856.461227772343}, {\"x\": 1.8316831683168318, \"Fit\": 27481.064581693703}, {\"x\": 1.828665568369028, \"Fit\": 28118.42913871952}, {\"x\": 1.825657894736842, \"Fit\": 28768.77821540414}, {\"x\": 1.8226600985221675, \"Fit\": 29432.338348103476}, {\"x\": 1.819672131147541, \"Fit\": 30109.339328722563}, {\"x\": 1.8166939443535186, \"Fit\": 30800.014240724853}, {\"x\": 1.8137254901960784, \"Fit\": 31504.59949540576}, {\"x\": 1.8107667210440457, \"Fit\": 32223.334868431353}, {\"x\": 1.8078175895765471, \"Fit\": 32956.46353664171}, {\"x\": 1.8048780487804879, \"Fit\": 33704.232115119485}, {\"x\": 1.801948051948052, \"Fit\": 34466.890694526875}, {\"x\": 1.79902755267423, \"Fit\": 35244.69287870741}, {\"x\": 1.7961165048543688, \"Fit\": 36037.89582255725}, {\"x\": 1.7932148626817448, \"Fit\": 36846.760270164574}, {\"x\": 1.790322580645161, \"Fit\": 37671.550593217245}, {\"x\": 1.78743961352657, \"Fit\": 38512.53482968092}, {\"x\": 1.784565916398714, \"Fit\": 39369.9847227476}, {\"x\": 1.7817014446227928, \"Fit\": 40244.17576005447}, {\"x\": 1.7788461538461537, \"Fit\": 41135.38721317422}, {\"x\": 1.776, \"Fit\": 42043.90217737858}, {\"x\": 1.7731629392971244, \"Fit\": 42970.00761167324}, {\"x\": 1.7703349282296654, \"Fit\": 43913.99437910656}, {\"x\": 1.767515923566879, \"Fit\": 44876.15728735294}, {\"x\": 1.764705882352941, \"Fit\": 45856.79512956875}, {\"x\": 1.761904761904762, \"Fit\": 46856.21072552506}, {\"x\": 1.7591125198098256, \"Fit\": 47874.71096301582}, {\"x\": 1.7563291139240504, \"Fit\": 48912.606839540626}, {\"x\": 1.7535545023696684, \"Fit\": 49970.21350426517}, {\"x\": 1.750788643533123, \"Fit\": 51047.850300260434}, {\"x\": 1.748031496062992, \"Fit\": 52145.84080701608}, {\"x\": 1.7452830188679247, \"Fit\": 53264.51288323487}, {\"x\": 1.7425431711145996, \"Fit\": 54404.1987099061}, {\"x\": 1.7398119122257054, \"Fit\": 55565.23483365563}, {\"x\": 1.7370892018779345, \"Fit\": 56747.96221037869}, {\"x\": 1.734375, \"Fit\": 57952.72624915154}, {\"x\": 1.7316692667706708, \"Fit\": 59179.87685642357}, {\"x\": 1.7289719626168225, \"Fit\": 60429.768480492035}, {\"x\": 1.7262830482115086, \"Fit\": 61702.76015625787}, {\"x\": 1.7236024844720497, \"Fit\": 62999.2155502627}, {\"x\": 1.7209302325581397, \"Fit\": 64319.50300601077}, {\"x\": 1.718266253869969, \"Fit\": 65663.99558957289}, {\"x\": 1.7156105100463679, \"Fit\": 67033.07113547294}, {\"x\": 1.712962962962963, \"Fit\": 68427.11229286081}, {\"x\": 1.7103235747303542, \"Fit\": 69846.50657196844}, {\"x\": 1.7076923076923076, \"Fit\": 71291.64639085019}, {\"x\": 1.7050691244239633, \"Fit\": 72762.92912241106}, {\"x\": 1.7024539877300613, \"Fit\": 74260.7571417183}, {\"x\": 1.6998468606431854, \"Fit\": 75785.53787359995}, {\"x\": 1.6972477064220184, \"Fit\": 77337.6838405312}, {\"x\": 1.6946564885496183, \"Fit\": 78917.61271080689}, {\"x\": 1.6920731707317074, \"Fit\": 80525.74734700042}, {\"x\": 1.6894977168949772, \"Fit\": 82162.5158547135}, {\"x\": 1.6869300911854102, \"Fit\": 83828.35163161124}, {\"x\": 1.684370257966616, \"Fit\": 85523.69341674709}, {\"x\": 1.6818181818181819, \"Fit\": 87248.98534017753}, {\"x\": 1.679273827534039, \"Fit\": 89004.67697286482}, {\"x\": 1.6767371601208458, \"Fit\": 90791.22337687011}, {\"x\": 1.6742081447963801, \"Fit\": 92609.08515583709}, {\"x\": 1.6716867469879515, \"Fit\": 94458.72850576584}, {\"x\": 1.6691729323308273, \"Fit\": 96340.6252660758}, {\"x\": 1.6666666666666667, \"Fit\": 98255.25297096468}, {\"x\": 1.664167916041979, \"Fit\": 100203.09490105213}, {\"x\": 1.661676646706587, \"Fit\": 102184.64013532066}, {\"x\": 1.6591928251121075, \"Fit\": 104200.38360334768}, {\"x\": 1.6567164179104474, \"Fit\": 106250.82613782698}, {\"x\": 1.6542473919523102, \"Fit\": 108336.47452738618}, {\"x\": 1.6517857142857142, \"Fit\": 110457.84156969718}, {\"x\": 1.649331352154532, \"Fit\": 112615.4461248768}, {\"x\": 1.6468842729970328, \"Fit\": 114809.81316918577}, {\"x\": 1.6444444444444444, \"Fit\": 117041.47384901783}, {\"x\": 1.6420118343195267, \"Fit\": 119310.96553518342}, {\"x\": 1.6395864106351552, \"Fit\": 121618.8318774914}, {\"x\": 1.6371681415929202, \"Fit\": 123965.6228596211}, {\"x\": 1.6347569955817378, \"Fit\": 126351.89485429152}, {\"x\": 1.6323529411764708, \"Fit\": 128778.21067872581}, {\"x\": 1.6299559471365639, \"Fit\": 131245.13965041208}, {\"x\": 1.6275659824046922, \"Fit\": 133753.2576431562}, {\"x\": 1.6251830161054175, \"Fit\": 136303.14714343604}, {\"x\": 1.6228070175438596, \"Fit\": 138895.39730704835}, {\"x\": 1.6204379562043796, \"Fit\": 141530.6040160522}, {\"x\": 1.6180758017492711, \"Fit\": 144209.36993601063}, {\"x\": 1.6157205240174672, \"Fit\": 146932.3045735288}, {\"x\": 1.6133720930232558, \"Fit\": 149700.02433408785}, {\"x\": 1.6110304789550074, \"Fit\": 152513.15258017834}, {\"x\": 1.6086956521739129, \"Fit\": 155372.31968972908}, {\"x\": 1.606367583212735, \"Fit\": 158278.16311483388}, {\"x\": 1.6040462427745665, \"Fit\": 161231.32744077925}, {\"x\": 1.6017316017316017, \"Fit\": 164232.46444536516}, {\"x\": 1.5994236311239192, \"Fit\": 167282.23315852764}, {\"x\": 1.5971223021582734, \"Fit\": 170381.29992225926}, {\"x\": 1.5948275862068964, \"Fit\": 173530.3384508272}, {\"x\": 1.5925394548063128, \"Fit\": 176730.02989128904}, {\"x\": 1.5902578796561604, \"Fit\": 179981.06288431206}, {\"x\": 1.5879828326180256, \"Fit\": 183284.13362528535}, {\"x\": 1.5857142857142856, \"Fit\": 186639.94592573497}, {\"x\": 1.5834522111269616, \"Fit\": 190049.21127503854}, {\"x\": 1.581196581196581, \"Fit\": 193512.64890243774}, {\"x\": 1.5789473684210529, \"Fit\": 197030.9858393481}, {\"x\": 1.5767045454545454, \"Fit\": 200604.95698197722}, {\"x\": 1.5744680851063828, \"Fit\": 204235.30515422975}, {\"x\": 1.5722379603399435, \"Fit\": 207922.78117092283}, {\"x\": 1.57001414427157, \"Fit\": 211668.1439012998}, {\"x\": 1.5677966101694913, \"Fit\": 215472.16033283743}, {\"x\": 1.5655853314527506, \"Fit\": 219335.60563535916}, {\"x\": 1.5633802816901408, \"Fit\": 223259.26322545193}, {\"x\": 1.5611814345991561, \"Fit\": 227243.92483117158}, {\"x\": 1.558988764044944, \"Fit\": 231290.3905570617}, {\"x\": 1.5568022440392706, \"Fit\": 235399.4689494636}, {\"x\": 1.5546218487394958, \"Fit\": 239571.97706213096}, {\"x\": 1.5524475524475525, \"Fit\": 243808.7405221463}, {\"x\": 1.5502793296089385, \"Fit\": 248110.59359613433}, {\"x\": 1.5481171548117154, \"Fit\": 252478.37925677726}, {\"x\": 1.5459610027855155, \"Fit\": 256912.9492496338}, {\"x\": 1.5438108484005562, \"Fit\": 261415.16416025496}, {\"x\": 1.5416666666666667, \"Fit\": 265985.8934816021}, {\"x\": 1.5395284327323162, \"Fit\": 270626.0156817668}, {\"x\": 1.5373961218836565, \"Fit\": 275336.41827199183}, {\"x\": 1.5352697095435686, \"Fit\": 280117.997874988}, {\"x\": 1.5331491712707184, \"Fit\": 284971.6602935609}, {\"x\": 1.5310344827586206, \"Fit\": 289898.32057953096}, {\"x\": 1.5289256198347108, \"Fit\": 294898.90310295613}, {\"x\": 1.5268225584594224, \"Fit\": 299974.3416216577}, {\"x\": 1.5247252747252746, \"Fit\": 305125.57935104653}, {\"x\": 1.522633744855967, \"Fit\": 310353.569034246}, {\"x\": 1.5205479452054795, \"Fit\": 315659.2730125225}, {\"x\": 1.5184678522571817, \"Fit\": 321043.66329601244}, {\"x\": 1.5163934426229508, \"Fit\": 326507.7216347484}, {\"x\": 1.514324693042292, \"Fit\": 332052.43958999275}, {\"x\": 1.5122615803814712, \"Fit\": 337678.818605866}, {\"x\": 1.510204081632653, \"Fit\": 343387.87008127494}, {\"x\": 1.5081521739130435, \"Fit\": 349180.61544215}, {\"x\": 1.5061058344640432, \"Fit\": 355058.0862139746}, {\"x\": 1.5040650406504066, \"Fit\": 361021.3240946137}, {\"x\": 1.5020297699594045, \"Fit\": 367071.38102745806}, {\"x\": 1.4999999999999998, \"Fit\": 373209.31927484623}, {\"x\": 1.4979757085020244, \"Fit\": 379436.2114918027}, {\"x\": 1.4959568733153639, \"Fit\": 385753.14080007887}, {\"x\": 1.4939434724091518, \"Fit\": 392161.20086247794}, {\"x\": 1.491935483870968, \"Fit\": 398661.49595749244}, {\"x\": 1.4899328859060403, \"Fit\": 405255.1410542467}, {\"x\": 1.487935656836461, \"Fit\": 411943.2618877197}, {\"x\": 1.4859437751004017, \"Fit\": 418726.99503428483}, {\"x\": 1.4839572192513368, \"Fit\": 425607.48798755143}, {\"x\": 1.4819759679572764, \"Fit\": 432585.8992344844}, {\"x\": 1.4800000000000002, \"Fit\": 439663.3983318507}, {\"x\": 1.478029294274301, \"Fit\": 446841.16598294635}, {\"x\": 1.4760638297872342, \"Fit\": 454120.3941146275}, {\"x\": 1.4741035856573705, \"Fit\": 461502.28595464595}, {\"x\": 1.4721485411140582, \"Fit\": 468988.0561092799}, {\"x\": 1.4701986754966887, \"Fit\": 476578.9306412561}, {\"x\": 1.4682539682539684, \"Fit\": 484276.1471479885}, {\"x\": 1.4663143989431968, \"Fit\": 492080.95484009985}, {\"x\": 1.4643799472295516, \"Fit\": 499994.61462024465}, {\"x\": 1.4624505928853755, \"Fit\": 508018.3991622394}, {\"x\": 1.4605263157894737, \"Fit\": 516153.59299048147}, {\"x\": 1.4586070959264126, \"Fit\": 524401.4925596659}, {\"x\": 1.4566929133858268, \"Fit\": 532763.4063348105}, {\"x\": 1.4547837483617299, \"Fit\": 541240.654871568}, {\"x\": 1.4528795811518325, \"Fit\": 549834.5708968356}, {\"x\": 1.4509803921568627, \"Fit\": 558546.4993896751}, {\"x\": 1.4490861618798954, \"Fit\": 567377.7976625127}, {\"x\": 1.4471968709256844, \"Fit\": 576329.8354426464}, {\"x\": 1.4453125, \"Fit\": 585403.9949540511}, {\"x\": 1.4434330299089726, \"Fit\": 594601.6709994731}, {\"x\": 1.4415584415584415, \"Fit\": 603924.2710428254}, {\"x\": 1.4396887159533074, \"Fit\": 613373.215291884}, {\"x\": 1.437823834196891, \"Fit\": 622949.9367812714}, {\"x\": 1.4359637774902976, \"Fit\": 632655.881455738}, {\"x\": 1.434108527131783, \"Fit\": 642492.5082537468}, {\"x\": 1.432258064516129, \"Fit\": 652461.2891913457}, {\"x\": 1.4304123711340209, \"Fit\": 662563.7094463317}, {\"x\": 1.4285714285714286, \"Fit\": 672801.267442729}, {\"x\": 1.4267352185089972, \"Fit\": 683175.4749355349}, {\"x\": 1.4249037227214378, \"Fit\": 693687.8570957785}, {\"x\": 1.4230769230769231, \"Fit\": 704339.9525958786}, {\"x\": 1.4212548015364914, \"Fit\": 715133.3136952727}, {\"x\": 1.4194373401534528, \"Fit\": 726069.506326357}, {\"x\": 1.417624521072797, \"Fit\": 737150.1101807308}, {\"x\": 1.415816326530612, \"Fit\": 748376.7187956996}, {\"x\": 1.4140127388535033, \"Fit\": 759750.9396411021}, {\"x\": 1.4122137404580153, \"Fit\": 771274.3942064288}, {\"x\": 1.4104193138500636, \"Fit\": 782948.7180882054}, {\"x\": 1.4086294416243657, \"Fit\": 794775.5610777052}, {\"x\": 1.4068441064638784, \"Fit\": 806756.5872489286}, {\"x\": 1.4050632911392404, \"Fit\": 818893.4750468781}, {\"x\": 1.4032869785082176, \"Fit\": 831187.9173761419}, {\"x\": 1.4015151515151514, \"Fit\": 843641.6216897441}, {\"x\": 1.399747793190416, \"Fit\": 856256.3100783005}, {\"x\": 1.397984886649874, \"Fit\": 869033.7193594691}, {\"x\": 1.3962264150943395, \"Fit\": 881975.6011676805}, {\"x\": 1.3944723618090453, \"Fit\": 895083.7220441543}, {\"x\": 1.3927227101631117, \"Fit\": 908359.8635272301}, {\"x\": 1.3909774436090225, \"Fit\": 921805.8222429628}, {\"x\": 1.3892365456821025, \"Fit\": 935423.4099960144}, {\"x\": 1.3875, \"Fit\": 949214.4538608445}, {\"x\": 1.3857677902621721, \"Fit\": 963180.7962731769}, {\"x\": 1.3840399002493766, \"Fit\": 977324.2951217582}, {\"x\": 1.3823163138231631, \"Fit\": 991646.8238404135}, {\"x\": 1.380597014925373, \"Fit\": 1006150.2715003776}, {\"x\": 1.3788819875776397, \"Fit\": 1020836.5429029177}, {\"x\": 1.3771712158808933, \"Fit\": 1035707.5586722483}, {\"x\": 1.3754646840148699, \"Fit\": 1050765.2553487332}, {\"x\": 1.3737623762376237, \"Fit\": 1066011.5854823557}, {\"x\": 1.3720642768850433, \"Fit\": 1081448.5177265094}, {\"x\": 1.3703703703703702, \"Fit\": 1097078.0369320393}, {\"x\": 1.3686806411837238, \"Fit\": 1112902.1442415921}, {\"x\": 1.3669950738916257, \"Fit\": 1128922.8571842439}, {\"x\": 1.3653136531365313, \"Fit\": 1145142.2097704157}, {\"x\": 1.3636363636363638, \"Fit\": 1161562.2525870602}, {\"x\": 1.361963190184049, \"Fit\": 1178185.0528931653}, {\"x\": 1.3602941176470587, \"Fit\": 1195012.6947154948}, {\"x\": 1.3586291309669525, \"Fit\": 1212047.27894465}, {\"x\": 1.3569682151589242, \"Fit\": 1229290.9234314165}, {\"x\": 1.3553113553113552, \"Fit\": 1246745.7630833562}, {\"x\": 1.353658536585366, \"Fit\": 1264413.949961714}, {\"x\": 1.3520097442143726, \"Fit\": 1282297.6533786163}, {\"x\": 1.3503649635036497, \"Fit\": 1300399.059994503}, {\"x\": 1.3487241798298908, \"Fit\": 1318720.373915898}, {\"x\": 1.3470873786407767, \"Fit\": 1337263.8167934227}, {\"x\": 1.3454545454545455, \"Fit\": 1356031.6279200984}, {\"x\": 1.3438256658595642, \"Fit\": 1375026.0643299462}, {\"x\": 1.3422007255139057, \"Fit\": 1394249.400896847}, {\"x\": 1.3405797101449275, \"Fit\": 1413703.9304336782}, {\"x\": 1.3389626055488542, \"Fit\": 1433391.96379176}, {\"x\": 1.3373493975903614, \"Fit\": 1453315.829960546}, {\"x\": 1.3357400722021662, \"Fit\": 1473477.876167602}, {\"x\": 1.3341346153846154, \"Fit\": 1493880.4679788856}, {\"x\": 1.332533013205282, \"Fit\": 1514525.9893992727}, {\"x\": 1.330935251798561, \"Fit\": 1535416.8429733682}, {\"x\": 1.3293413173652695, \"Fit\": 1556555.449886619}, {\"x\": 1.3277511961722488, \"Fit\": 1577944.2500666743}, {\"x\": 1.3261648745519714, \"Fit\": 1599585.7022850215}, {\"x\": 1.324582338902148, \"Fit\": 1621482.284258926}, {\"x\": 1.3230035756853396, \"Fit\": 1643636.4927536251}, {\"x\": 1.3214285714285714, \"Fit\": 1666050.84368479}, {\"x\": 1.319857312722949, \"Fit\": 1688727.87222129}, {\"x\": 1.3182897862232779, \"Fit\": 1711670.1328882044}, {\"x\": 1.3167259786476868, \"Fit\": 1734880.199670116}, {\"x\": 1.3151658767772512, \"Fit\": 1758360.6661146877}, {\"x\": 1.3136094674556211, \"Fit\": 1782114.145436511}, {\"x\": 1.3120567375886525, \"Fit\": 1806143.2706211912}, {\"x\": 1.3105076741440378, \"Fit\": 1830450.6945297779}, {\"x\": 1.3089622641509433, \"Fit\": 1855039.090003388}, {\"x\": 1.3074204946996466, \"Fit\": 1879911.1499681522}, {\"x\": 1.3058823529411765, \"Fit\": 1905069.587540417}, {\"x\": 1.3043478260869563, \"Fit\": 1930517.1361322117}, {\"x\": 1.3028169014084507, \"Fit\": 1956256.5495569846}, {\"x\": 1.3012895662368114, \"Fit\": 1982290.6021356434}, {\"x\": 1.2997658079625292, \"Fit\": 2008622.088802794}, {\"x\": 1.2982456140350878, \"Fit\": 2035253.825213312}, {\"x\": 1.2967289719626167, \"Fit\": 2062188.647849181}, {\"x\": 1.2952158693115519, \"Fit\": 2089429.4141265373}, {\"x\": 1.2937062937062938, \"Fit\": 2116979.002503048}, {\"x\": 1.2922002328288706, \"Fit\": 2144840.3125855443}, {\"x\": 1.2906976744186047, \"Fit\": 2173016.2652378716}, {\"x\": 1.289198606271777, \"Fit\": 2201509.8026890783}, {\"x\": 1.2877030162412992, \"Fit\": 2230323.888641826}, {\"x\": 1.2862108922363846, \"Fit\": 2259461.5083810543}, {\"x\": 1.2847222222222223, \"Fit\": 2288925.668882962}, {\"x\": 1.283236994219653, \"Fit\": 2318719.3989242045}, {\"x\": 1.28175519630485, \"Fit\": 2348845.749191362}, {\"x\": 1.2802768166089966, \"Fit\": 2379307.792390708}, {\"x\": 1.2788018433179722, \"Fit\": 2410108.623358199}, {\"x\": 1.2773302646720368, \"Fit\": 2441251.3591697332}, {\"x\": 1.2758620689655173, \"Fit\": 2472739.1392516973}, {\"x\": 1.2743972445464982, \"Fit\": 2504575.125491758}, {\"x\": 1.2729357798165137, \"Fit\": 2536762.50234989}, {\"x\": 1.2714776632302407, \"Fit\": 2569304.4769697255}, {\"x\": 1.2700228832951945, \"Fit\": 2602204.279290112}, {\"x\": 1.2685714285714285, \"Fit\": 2635465.162156926}, {\"x\": 1.2671232876712328, \"Fit\": 2669090.401435207}, {\"x\": 1.2656784492588369, \"Fit\": 2703083.2961214865}, {\"x\": 1.2642369020501139, \"Fit\": 2737447.1684563914}, {\"x\": 1.2627986348122868, \"Fit\": 2772185.3640375296}, {\"x\": 1.2613636363636362, \"Fit\": 2807301.25193262}, {\"x\": 1.2599318955732122, \"Fit\": 2842798.2247928525}, {\"x\": 1.2585034013605443, \"Fit\": 2878679.6989665544}, {\"x\": 1.2570781426953566, \"Fit\": 2914949.114613085}, {\"x\": 1.255656108597285, \"Fit\": 2951609.9358169534}, {\"x\": 1.2542372881355932, \"Fit\": 2988665.6507022795}, {\"x\": 1.2528216704288937, \"Fit\": 3026119.771547426}, {\"x\": 1.2514092446448706, \"Fit\": 3063975.834899896}, {\"x\": 1.25, \"Fit\": 3102237.401691563}, {\"x\": 1.24859392575928, \"Fit\": 3140908.0573540386}, {\"x\": 1.2471910112359552, \"Fit\": 3179991.4119343604}, {\"x\": 1.2457912457912457, \"Fit\": 3219491.1002109605}, {\"x\": 1.2443946188340806, \"Fit\": 3259410.781809796}, {\"x\": 1.2430011198208288, \"Fit\": 3299754.14132079}, {\"x\": 1.2416107382550334, \"Fit\": 3340524.888414569}, {\"x\": 1.2402234636871508, \"Fit\": 3381726.7579593216}, {\"x\": 1.2388392857142858, \"Fit\": 3423363.5101380167}, {\"x\": 1.2374581939799332, \"Fit\": 3465438.930565868}, {\"x\": 1.2360801781737194, \"Fit\": 3507956.83040795}, {\"x\": 1.234705228031146, \"Fit\": 3550921.0464971815}, {\"x\": 1.2333333333333334, \"Fit\": 3594335.4414524958}, {\"x\": 1.2319644839067703, \"Fit\": 3638203.9037972307}, {\"x\": 1.23059866962306, \"Fit\": 3682530.3480778527}, {\"x\": 1.2292358803986712, \"Fit\": 3727318.7149828565}, {\"x\": 1.2278761061946903, \"Fit\": 3772572.971461908}, {\"x\": 1.2265193370165746, \"Fit\": 3818297.1108452952}, {\"x\": 1.2251655629139073, \"Fit\": 3864495.1529635694}, {\"x\": 1.2238147739801544, \"Fit\": 3911171.144267413}, {\"x\": 1.222466960352423, \"Fit\": 3958329.1579478397}, {\"x\": 1.221122112211221, \"Fit\": 4005973.2940565683}, {\"x\": 1.2197802197802197, \"Fit\": 4054107.6796266083}, {\"x\": 1.2184412733260155, \"Fit\": 4102736.468793201}, {\"x\": 1.2171052631578947, \"Fit\": 4151863.8429149003}, {\"x\": 1.2157721796276013, \"Fit\": 4201494.010694913}, {\"x\": 1.214442013129103, \"Fit\": 4251631.208302751}, {\"x\": 1.2131147540983607, \"Fit\": 4302279.699496027}, {\"x\": 1.2117903930131004, \"Fit\": 4353443.775742531}, {\"x\": 1.2104689203925845, \"Fit\": 4405127.756342584}, {\"x\": 1.2091503267973855, \"Fit\": 4457335.988551581}, {\"x\": 1.207834602829162, \"Fit\": 4510072.847702761}, {\"x\": 1.2065217391304348, \"Fit\": 4563342.737330292}, {\"x\": 1.205211726384365, \"Fit\": 4617150.089292487}, {\"x\": 1.2039045553145336, \"Fit\": 4671499.363895371}, {\"x\": 1.2026002166847238, \"Fit\": 4726395.050016361}, {\"x\": 1.2012987012987013, \"Fit\": 4781841.665228319}, {\"x\": 1.2, \"Fit\": 4837843.755923718}, {\"x\": 1.1987041036717063, \"Fit\": 4894405.897439093}, {\"x\": 1.197411003236246, \"Fit\": 4951532.694179775}, {\"x\": 1.1961206896551724, \"Fit\": 5009228.779744763}, {\"x\": 1.1948331539289558, \"Fit\": 5067498.817051889}, {\"x\": 1.1935483870967742, \"Fit\": 5126347.498463219}, {\"x\": 1.192266380236305, \"Fit\": 5185779.545910666}, {\"x\": 1.1909871244635193, \"Fit\": 5245799.71102183}, {\"x\": 1.189710610932476, \"Fit\": 5306412.77524609}, {\"x\": 1.1884368308351176, \"Fit\": 5367623.549980927}, {\"x\": 1.1871657754010696, \"Fit\": 5429436.876698428}, {\"x\": 1.185897435897436, \"Fit\": 5491857.627072112}, {\"x\": 1.1846318036286019, \"Fit\": 5554890.703103913}, {\"x\": 1.183368869936034, \"Fit\": 5618541.037251377}, {\"x\": 1.182108626198083, \"Fit\": 5682813.592555167}, {\"x\": 1.1808510638297873, \"Fit\": 5747713.3627667455}, {\"x\": 1.179596174282678, \"Fit\": 5813245.372476261}, {\"x\": 1.178343949044586, \"Fit\": 5879414.677240704}, {\"x\": 1.1770943796394486, \"Fit\": 5946226.363712284}, {\"x\": 1.1758474576271185, \"Fit\": 6013685.549767016}, {\"x\": 1.1746031746031746, \"Fit\": 6081797.384633521}, {\"x\": 1.1733615221987315, \"Fit\": 6150567.049022111}, {\"x\": 1.1721224920802533, \"Fit\": 6219999.755254022}, {\"x\": 1.1708860759493671, \"Fit\": 6290100.747390882}, {\"x\": 1.1696522655426764, \"Fit\": 6360875.301364491}, {\"x\": 1.1684210526315788, \"Fit\": 6432328.725106731}, {\"x\": 1.167192429022082, \"Fit\": 6504466.358679662}, {\"x\": 1.165966386554622, \"Fit\": 6577293.574406011}, {\"x\": 1.1647429171038823, \"Fit\": 6650815.776999688}, {\"x\": 1.1635220125786163, \"Fit\": 6725038.403696629}, {\"x\": 1.162303664921466, \"Fit\": 6799966.924385865}, {\"x\": 1.1610878661087864, \"Fit\": 6875606.841740753}, {\"x\": 1.1598746081504703, \"Fit\": 6951963.691350451}, {\"x\": 1.1586638830897704, \"Fit\": 7029043.041851634}, {\"x\": 1.1574556830031284, \"Fit\": 7106850.495060418}, {\"x\": 1.15625, \"Fit\": 7185391.686104479}, {\"x\": 1.1550468262226847, \"Fit\": 7264672.283555368}, {\"x\": 1.153846153846154, \"Fit\": 7344697.989561142}, {\"x\": 1.1526479750778815, \"Fit\": 7425474.539979124}, {\"x\": 1.1514522821576763, \"Fit\": 7507007.704508852}, {\"x\": 1.150259067357513, \"Fit\": 7589303.286825366}, {\"x\": 1.1490683229813663, \"Fit\": 7672367.124712599}, {\"x\": 1.1478800413650465, \"Fit\": 7756205.090196972}, {\"x\": 1.146694214876033, \"Fit\": 7840823.08968134}, {\"x\": 1.1455108359133126, \"Fit\": 7926227.064078988}, {\"x\": 1.1443298969072164, \"Fit\": 8012422.988947909}, {\"x\": 1.1431513903192585, \"Fit\": 8099416.874625346}, {\"x\": 1.1419753086419753, \"Fit\": 8187214.76636245}, {\"x\": 1.1408016443987667, \"Fit\": 8275822.744459161}, {\"x\": 1.1396303901437372, \"Fit\": 8365246.92439941}, {\"x\": 1.1384615384615384, \"Fit\": 8455493.456986396}, {\"x\": 1.1372950819672132, \"Fit\": 8546568.528478099}, {\"x\": 1.136131013306039, \"Fit\": 8638478.360723104}, {\"x\": 1.1349693251533743, \"Fit\": 8731229.211296493}, {\"x\": 1.1338100102145046, \"Fit\": 8824827.373636045}, {\"x\": 1.1326530612244898, \"Fit\": 8919279.17717854}, {\"x\": 1.1314984709480123, \"Fit\": 9014590.98749644}, {\"x\": 1.130346232179226, \"Fit\": 9110769.206434604}, {\"x\": 1.1291963377416072, \"Fit\": 9207820.272247234}, {\"x\": 1.128048780487805, \"Fit\": 9305750.659735184}, {\"x\": 1.1269035532994924, \"Fit\": 9404566.88038324}, {\"x\": 1.1257606490872212, \"Fit\": 9504275.482497787}, {\"x\": 1.1246200607902737, \"Fit\": 9604883.051344585}, {\"x\": 1.123481781376518, \"Fit\": 9706396.209286796}, {\"x\": 1.122345803842265, \"Fit\": 9808821.615923153}, {\"x\": 1.1212121212121213, \"Fit\": 9912165.968226403}, {\"x\": 1.1200807265388495, \"Fit\": 10016436.000681914}, {\"x\": 1.1189516129032258, \"Fit\": 10121638.485426458}, {\"x\": 1.1178247734138973, \"Fit\": 10227780.232387248}, {\"x\": 1.1167002012072436, \"Fit\": 10334868.089421153}, {\"x\": 1.1155778894472361, \"Fit\": 10442908.942454096}, {\"x\": 1.1144578313253013, \"Fit\": 10551909.715620631}, {\"x\": 1.1133400200601806, \"Fit\": 10661877.3714038}, {\"x\": 1.1122244488977955, \"Fit\": 10772818.910775134}, {\"x\": 1.1111111111111112, \"Fit\": 10884741.37333477}, {\"x\": 1.11, \"Fit\": 10997651.837451953}, {\"x\": 1.1088911088911089, \"Fit\": 11111557.420405606}, {\"x\": 1.1077844311377245, \"Fit\": 11226465.27852503}, {\"x\": 1.106679960119641, \"Fit\": 11342382.607331002}, {\"x\": 1.1055776892430278, \"Fit\": 11459316.64167689}, {\"x\": 1.1044776119402986, \"Fit\": 11577274.655890003}, {\"x\": 1.10337972166998, \"Fit\": 11696263.963913228}, {\"x\": 1.1022840119165838, \"Fit\": 11816291.91944672}, {\"x\": 1.1011904761904763, \"Fit\": 11937365.916089874}, {\"x\": 1.1000991080277502, \"Fit\": 12059493.387483444}, {\"x\": 1.0990099009900989, \"Fit\": 12182681.807451949}, {\"x\": 1.0979228486646884, \"Fit\": 12306938.690146072}, {\"x\": 1.0968379446640317, \"Fit\": 12432271.590185482}, {\"x\": 1.0957551826258638, \"Fit\": 12558688.10280168}, {\"x\": 1.0946745562130178, \"Fit\": 12686195.863981122}, {\"x\": 1.0935960591133005, \"Fit\": 12814802.550608413}, {\"x\": 1.0925196850393701, \"Fit\": 12944515.880609933}, {\"x\": 1.0914454277286134, \"Fit\": 13075343.613097312}, {\"x\": 1.0903732809430255, \"Fit\": 13207293.548511392}, {\"x\": 1.0893032384690873, \"Fit\": 13340373.528766235}, {\"x\": 1.088235294117647, \"Fit\": 13474591.437393334}, {\"x\": 1.0871694417238003, \"Fit\": 13609955.199685914}, {\"x\": 1.086105675146771, \"Fit\": 13746472.782843713}, {\"x\": 1.0850439882697946, \"Fit\": 13884152.196117595}, {\"x\": 1.083984375, \"Fit\": 14023001.49095451}, {\"x\": 1.0829268292682928, \"Fit\": 14163028.761142744}, {\"x\": 1.0818713450292397, \"Fit\": 14304242.14295713}, {\"x\": 1.0808179162609541, \"Fit\": 14446649.81530455}, {\"x\": 1.0797665369649805, \"Fit\": 14590259.999869704}, {\"x\": 1.0787172011661808, \"Fit\": 14735080.961260932}, {\"x\": 1.0776699029126213, \"Fit\": 14881121.007156184}, {\"x\": 1.0766246362754608, \"Fit\": 15028388.488449365}, {\"x\": 1.0755813953488373, \"Fit\": 15176891.799396677}, {\"x\": 1.074540174249758, \"Fit\": 15326639.377763243}, {\"x\": 1.0735009671179885, \"Fit\": 15477639.704969762}, {\"x\": 1.0724637681159421, \"Fit\": 15629901.306239637}, {\"x\": 1.0714285714285714, \"Fit\": 15783432.75074593}, {\"x\": 1.0703953712632595, \"Fit\": 15938242.651758723}, {\"x\": 1.069364161849711, \"Fit\": 16094339.66679261}, {\"x\": 1.0683349374398459, \"Fit\": 16251732.49775433}, {\"x\": 1.0673076923076923, \"Fit\": 16410429.891090564}, {\"x\": 1.0662824207492796, \"Fit\": 16570440.637935989}, {\"x\": 1.0652591170825336, \"Fit\": 16731773.574261433}, {\"x\": 1.0642377756471717, \"Fit\": 16894437.58102217}, {\"x\": 1.0632183908045978, \"Fit\": 17058441.58430657}, {\"x\": 1.062200956937799, \"Fit\": 17223794.55548468}, {\"x\": 1.0611854684512427, \"Fit\": 17390505.511357103}, {\"x\": 1.0601719197707737, \"Fit\": 17558583.51430413}, {\"x\": 1.0591603053435115, \"Fit\": 17728037.67243491}, {\"x\": 1.0581506196377501, \"Fit\": 17898877.139736723}, {\"x\": 1.0571428571428572, \"Fit\": 18071111.11622474}, {\"x\": 1.0561370123691722, \"Fit\": 18244748.848091602}, {\"x\": 1.0551330798479086, \"Fit\": 18419799.62785736}, {\"x\": 1.0541310541310542, \"Fit\": 18596272.794519514}, {\"x\": 1.0531309297912714, \"Fit\": 18774177.733703323}, {\"x\": 1.052132701421801, \"Fit\": 18953523.877812125}, {\"x\": 1.0511363636363635, \"Fit\": 19134320.706177913}, {\"x\": 1.0501419110690635, \"Fit\": 19316577.745212138}, {\"x\": 1.0491493383742911, \"Fit\": 19500304.568556573}, {\"x\": 1.048158640226629, \"Fit\": 19685510.79723431}, {\"x\": 1.0471698113207548, \"Fit\": 19872206.099801138}, {\"x\": 1.0461828463713476, \"Fit\": 20060400.192496862}, {\"x\": 1.0451977401129944, \"Fit\": 20250102.83939683}, {\"x\": 1.044214487300094, \"Fit\": 20441323.852563754}, {\"x\": 1.0432330827067668, \"Fit\": 20634073.092199605}, {\"x\": 1.0422535211267605, \"Fit\": 20828360.46679747}, {\"x\": 1.0412757973733584, \"Fit\": 21024195.9332941}, {\"x\": 1.0402999062792877, \"Fit\": 21221589.497222036}, {\"x\": 1.0393258426966292, \"Fit\": 21420551.21286222}, {\"x\": 1.0383536014967258, \"Fit\": 21621091.183396727}, {\"x\": 1.0373831775700935, \"Fit\": 21823219.56106165}, {\"x\": 1.0364145658263304, \"Fit\": 22026946.547300104}, {\"x\": 1.0354477611940298, \"Fit\": 22232282.392915312}, {\"x\": 1.0344827586206897, \"Fit\": 22439237.398224108}, {\"x\": 1.0335195530726256, \"Fit\": 22647821.913210396}, {\"x\": 1.0325581395348837, \"Fit\": 22858046.3376787}, {\"x\": 1.0315985130111525, \"Fit\": 23069921.121408153}, {\"x\": 1.0306406685236769, \"Fit\": 23283456.764306385}, {\"x\": 1.0296846011131726, \"Fit\": 23498663.81656363}, {\"x\": 1.0287303058387396, \"Fit\": 23715552.878807086}, {\"x\": 1.0277777777777777, \"Fit\": 23934134.60225531}, {\"x\": 1.026827012025902, \"Fit\": 24154419.688872833}, {\"x\": 1.0258780036968578, \"Fit\": 24376418.891524944}, {\"x\": 1.0249307479224377, \"Fit\": 24600143.01413263}, {\"x\": 1.0239852398523985, \"Fit\": 24825602.91182744}, {\"x\": 1.023041474654378, \"Fit\": 25052809.49110701}, {\"x\": 1.022099447513812, \"Fit\": 25281773.709990233}, {\"x\": 1.0211591536338547, \"Fit\": 25512506.578172773}, {\"x\": 1.0202205882352942, \"Fit\": 25745019.157182913}, {\"x\": 1.019283746556474, \"Fit\": 25979322.560537156}, {\"x\": 1.018348623853211, \"Fit\": 26215427.95389644}, {\"x\": 1.0174152153987168, \"Fit\": 26453346.55522203}, {\"x\": 1.0164835164835164, \"Fit\": 26693089.634931978}, {\"x\": 1.0155535224153704, \"Fit\": 26934668.516057555}, {\"x\": 1.0146252285191957, \"Fit\": 27178094.57439959}, {\"x\": 1.0136986301369864, \"Fit\": 27423379.23868554}, {\"x\": 1.0127737226277371, \"Fit\": 27670533.990726173}, {\"x\": 1.0118505013673655, \"Fit\": 27919570.365572523}, {\"x\": 1.010928961748634, \"Fit\": 28170499.95167327}, {\"x\": 1.0100090991810737, \"Fit\": 28423334.391031954}, {\"x\": 1.009090909090909, \"Fit\": 28678085.37936425}, {\"x\": 1.008174386920981, \"Fit\": 28934764.66625598}, {\"x\": 1.0072595281306715, \"Fit\": 29193384.05532059}, {\"x\": 1.0063463281958296, \"Fit\": 29453955.404357046}, {\"x\": 1.0054347826086956, \"Fit\": 29716490.62550798}, {\"x\": 1.004524886877828, \"Fit\": 29981001.685417898}, {\"x\": 1.0036166365280288, \"Fit\": 30247500.60539137}, {\"x\": 1.002710027100271, \"Fit\": 30515999.461551677}, {\"x\": 1.0018050541516246, \"Fit\": 30786510.384999264}, {\"x\": 1.0009017132551847, \"Fit\": 31059045.561970744}, {\"x\": 1.0, \"Fit\": 31333617.233997427}, {\"x\": 0.9990999099909992, \"Fit\": 31610237.698064733}, {\"x\": 0.9982014388489209, \"Fit\": 31888919.306771245}, {\"x\": 0.9973045822102425, \"Fit\": 32169674.468487874}, {\"x\": 0.9964093357271095, \"Fit\": 32452515.647517573}, {\"x\": 0.9955156950672646, \"Fit\": 32737455.36425486}, {\"x\": 0.9946236559139785, \"Fit\": 33024506.195345424}, {\"x\": 0.9937332139659804, \"Fit\": 33313680.773846198}, {\"x\": 0.9928443649373881, \"Fit\": 33604991.78938535}, {\"x\": 0.9919571045576407, \"Fit\": 33898451.98832224}, {\"x\": 0.9910714285714286, \"Fit\": 34194074.17390803}, {\"x\": 0.9901873327386261, \"Fit\": 34491871.20644586}, {\"x\": 0.9893048128342246, \"Fit\": 34791856.003451504}, {\"x\": 0.9884238646482636, \"Fit\": 35094041.53981415}, {\"x\": 0.9875444839857651, \"Fit\": 35398440.84795715}, {\"x\": 0.9866666666666667, \"Fit\": 35705067.01799897}, {\"x\": 0.9857904085257548, \"Fit\": 36013933.197914325}, {\"x\": 0.9849157054125999, \"Fit\": 36325052.59369555}, {\"x\": 0.9840425531914894, \"Fit\": 36638438.469513774}, {\"x\": 0.983170947741364, \"Fit\": 36954104.147880524}, {\"x\": 0.9823008849557523, \"Fit\": 37272063.00980939}, {\"x\": 0.9814323607427056, \"Fit\": 37592328.49497787}, {\"x\": 0.980565371024735, \"Fit\": 37914914.10188894}, {\"x\": 0.9796999117387467, \"Fit\": 38239833.38803356}, {\"x\": 0.9788359788359788, \"Fit\": 38567099.970052525}, {\"x\": 0.9779735682819383, \"Fit\": 38896727.5238988}, {\"x\": 0.977112676056338, \"Fit\": 39228729.78500013}, {\"x\": 0.9762532981530343, \"Fit\": 39563120.54842143}, {\"x\": 0.9753954305799649, \"Fit\": 39899913.66902731}, {\"x\": 0.974539069359087, \"Fit\": 40239123.06164551}, {\"x\": 0.9736842105263157, \"Fit\": 40580762.701229095}, {\"x\": 0.9728308501314635, \"Fit\": 40924846.62301991}, {\"x\": 0.9719789842381786, \"Fit\": 41271388.92271173}, {\"x\": 0.9711286089238846, \"Fit\": 41620403.756613724}, {\"x\": 0.9702797202797203, \"Fit\": 41971905.3418137}, {\"x\": 0.9694323144104804, \"Fit\": 42325907.956341766}, {\"x\": 0.9685863874345549, \"Fit\": 42682425.93933397}, {\"x\": 0.9677419354838708, \"Fit\": 43041473.69119614}, {\"x\": 0.9668989547038328, \"Fit\": 43403065.67376802}, {\"x\": 0.9660574412532639, \"Fit\": 43767216.410487115}, {\"x\": 0.9652173913043479, \"Fit\": 44133940.486553125}, {\"x\": 0.9643788010425717, \"Fit\": 44503252.54909204}, {\"x\": 0.9635416666666666, \"Fit\": 44875167.30732064}, {\"x\": 0.9627059843885515, \"Fit\": 45249699.532711215}, {\"x\": 0.9618717504332756, \"Fit\": 45626864.059155956}, {\"x\": 0.9610389610389611, \"Fit\": 46006675.783132344}, {\"x\": 0.9602076124567475, \"Fit\": 46389149.663867526}, {\"x\": 0.9593777009507346, \"Fit\": 46774300.723503545}, {\"x\": 0.9585492227979274, \"Fit\": 47162144.0472625}, {\"x\": 0.9577221742881793, \"Fit\": 47552694.78361196}, {\"x\": 0.9568965517241379, \"Fit\": 47945968.144430205}, {\"x\": 0.9560723514211887, \"Fit\": 48341979.40517207}, {\"x\": 0.955249569707401, \"Fit\": 48740743.90503436}, {\"x\": 0.9544282029234737, \"Fit\": 49142277.04712161}, {\"x\": 0.9536082474226804, \"Fit\": 49546594.29861194}, {\"x\": 0.9527896995708155, \"Fit\": 49953711.19092313}, {\"x\": 0.9519725557461406, \"Fit\": 50363643.319879204}, {\"x\": 0.9511568123393317, \"Fit\": 50776406.345875695}, {\"x\": 0.9503424657534247, \"Fit\": 51192015.99404699}, {\"x\": 0.9495295124037638, \"Fit\": 51610488.05443214}, {\"x\": 0.9487179487179486, \"Fit\": 52031838.382141784}, {\"x\": 0.9479077711357814, \"Fit\": 52456082.89752462}, {\"x\": 0.947098976109215, \"Fit\": 52883237.58633469}, {\"x\": 0.9462915601023019, \"Fit\": 53313318.499897555}, {\"x\": 0.9454855195911415, \"Fit\": 53746341.75527837}, {\"x\": 0.9446808510638297, \"Fit\": 54182323.53544796}, {\"x\": 0.943877551020408, \"Fit\": 54621280.08945079}, {\"x\": 0.9430756159728122, \"Fit\": 55063227.73257203}, {\"x\": 0.9422750424448216, \"Fit\": 55508182.84650555}, {\"x\": 0.9414758269720103, \"Fit\": 55956161.87952071}, {\"x\": 0.940677966101695, \"Fit\": 56407181.34663112}, {\"x\": 0.9398814563928873, \"Fit\": 56861257.82976145}, {\"x\": 0.9390862944162435, \"Fit\": 57318407.977915995}, {\"x\": 0.9382924767540152, \"Fit\": 57778648.50734639}, {\"x\": 0.9375000000000001, \"Fit\": 58241996.20172038}, {\"x\": 0.9367088607594938, \"Fit\": 58708467.912289426}, {\"x\": 0.9359190556492412, \"Fit\": 59178080.55805728}, {\"x\": 0.9351305812973884, \"Fit\": 59650851.125948675}, {\"x\": 0.9343434343434343, \"Fit\": 60126796.67097769}, {\"x\": 0.9335576114381834, \"Fit\": 60605934.316416495}, {\"x\": 0.9327731092436976, \"Fit\": 61088281.25396454}, {\"x\": 0.9319899244332495, \"Fit\": 61573854.74391705}, {\"x\": 0.9312080536912751, \"Fit\": 62062672.11533398}, {\"x\": 0.9304274937133277, \"Fit\": 62554750.76620956}, {\"x\": 0.92964824120603, \"Fit\": 63050108.16364131}, {\"x\": 0.9288702928870293, \"Fit\": 63548761.84399919}, {\"x\": 0.92809364548495, \"Fit\": 64050729.413095646}, {\"x\": 0.9273182957393484, \"Fit\": 64556028.54635474}, {\"x\": 0.9265442404006677, \"Fit\": 65064676.98898156}, {\"x\": 0.9257714762301917, \"Fit\": 65576692.55613257}, {\"x\": 0.925, \"Fit\": 66092093.13308495}, {\"x\": 0.9242298084929226, \"Fit\": 66610896.67540732}, {\"x\": 0.9234608985024959, \"Fit\": 67133121.2091287}, {\"x\": 0.9226932668329177, \"Fit\": 67658784.83090995}, {\"x\": 0.9219269102990033, \"Fit\": 68187905.70821288}, {\"x\": 0.921161825726141, \"Fit\": 68720502.07947135}, {\"x\": 0.9203980099502488, \"Fit\": 69256592.25426152}, {\"x\": 0.9196354598177299, \"Fit\": 69796194.61347283}, {\"x\": 0.9188741721854305, \"Fit\": 70339327.6094777}, {\"x\": 0.9181141439205955, \"Fit\": 70886009.76630367}, {\"x\": 0.9173553719008264, \"Fit\": 71436259.67980297}, {\"x\": 0.9165978530140378, \"Fit\": 71990096.0178244}, {\"x\": 0.9158415841584159, \"Fit\": 72547537.52038391}, {\"x\": 0.9150865622423743, \"Fit\": 73108602.9998363}, {\"x\": 0.914332784184514, \"Fit\": 73673311.34104581}, {\"x\": 0.9135802469135803, \"Fit\": 74241681.50155829}, {\"x\": 0.912828947368421, \"Fit\": 74813732.5117719}, {\"x\": 0.9120788824979457, \"Fit\": 75389483.47510906}, {\"x\": 0.9113300492610837, \"Fit\": 75968953.56818813}, {\"x\": 0.9105824446267433, \"Fit\": 76552162.04099533}, {\"x\": 0.9098360655737705, \"Fit\": 77139128.2170563}, {\"x\": 0.9090909090909091, \"Fit\": 77729871.49360818}, {\"x\": 0.9083469721767593, \"Fit\": 78324411.3417714}, {\"x\": 0.9076042518397383, \"Fit\": 78922767.30672242}, {\"x\": 0.9068627450980392, \"Fit\": 79524959.00786518}, {\"x\": 0.9061224489795919, \"Fit\": 80131006.13900441}, {\"x\": 0.9053833605220228, \"Fit\": 80740928.46851741}, {\"x\": 0.9046454767726161, \"Fit\": 81354745.8395265}, {\"x\": 0.9039087947882736, \"Fit\": 81972478.17007174}, {\"x\": 0.9031733116354759, \"Fit\": 82594145.45328397}, {\"x\": 0.9024390243902439, \"Fit\": 83219767.75755699}, {\"x\": 0.9017059301380992, \"Fit\": 83849365.22672148}, {\"x\": 0.900974025974026, \"Fit\": 84482958.08021688}, {\"x\": 0.9002433090024331, \"Fit\": 85120566.61326487}, {\"x\": 0.899513776337115, \"Fit\": 85762211.19704266}, {\"x\": 0.8987854251012144, \"Fit\": 86407912.27885625}, {\"x\": 0.8980582524271844, \"Fit\": 87057690.38231337}, {\"x\": 0.8973322554567503, \"Fit\": 87711566.1074978}, {\"x\": 0.8966074313408724, \"Fit\": 88369560.13114212}, {\"x\": 0.8958837772397095, \"Fit\": 89031693.20680119}, {\"x\": 0.8951612903225805, \"Fit\": 89697986.16502655}, {\"x\": 0.8944399677679291, \"Fit\": 90368459.91353959}, {\"x\": 0.893719806763285, \"Fit\": 91043135.43740612}, {\"x\": 0.8930008045052293, \"Fit\": 91722033.79920956}, {\"x\": 0.892282958199357, \"Fit\": 92405176.13922556}, {\"x\": 0.891566265060241, \"Fit\": 93092583.67559588}, {\"x\": 0.8908507223113964, \"Fit\": 93784277.70450252}, {\"x\": 0.8901363271852446, \"Fit\": 94480279.60034224}, {\"x\": 0.8894230769230769, \"Fit\": 95180610.81590122}, {\"x\": 0.8887109687750201, \"Fit\": 95885292.8825288}, {\"x\": 0.888, \"Fit\": 96594347.41031301}, {\"x\": 0.8872901678657074, \"Fit\": 97307796.08825421}, {\"x\": 0.8865814696485622, \"Fit\": 98025660.6844404}, {\"x\": 0.8858739026336792, \"Fit\": 98747963.04622221}, {\"x\": 0.8851674641148325, \"Fit\": 99474725.10038756}, {\"x\": 0.8844621513944224, \"Fit\": 100205968.85333626}, {\"x\": 0.8837579617834395, \"Fit\": 100941716.39125627}, {\"x\": 0.8830548926014319, \"Fit\": 101681989.88029727}, {\"x\": 0.8823529411764705, \"Fit\": 102426811.56674728}, {\"x\": 0.8816521048451151, \"Fit\": 103176203.77720684}, {\"x\": 0.880952380952381, \"Fit\": 103930188.91876552}, {\"x\": 0.8802537668517051, \"Fit\": 104688789.47917692}, {\"x\": 0.8795562599049128, \"Fit\": 105452028.02703387}, {\"x\": 0.8788598574821852, \"Fit\": 106219927.21194461}, {\"x\": 0.8781645569620252, \"Fit\": 106992509.76470804}, {\"x\": 0.8774703557312253, \"Fit\": 107769798.49748991}, {\"x\": 0.8767772511848342, \"Fit\": 108551816.30399893}, {\"x\": 0.8760852407261247, \"Fit\": 109338586.15966238}, {\"x\": 0.8753943217665615, \"Fit\": 110130131.12180187}, {\"x\": 0.8747044917257683, \"Fit\": 110926474.32980993}, {\"x\": 0.874015748031496, \"Fit\": 111727639.00532612}, {\"x\": 0.8733280881195908, \"Fit\": 112533648.45241295}, {\"x\": 0.8726415094339623, \"Fit\": 113344526.05773328}, {\"x\": 0.8719560094265515, \"Fit\": 114160295.29072565}, {\"x\": 0.8712715855572998, \"Fit\": 114980979.70378114}, {\"x\": 0.8705882352941176, \"Fit\": 115806602.93242006}, {\"x\": 0.8699059561128527, \"Fit\": 116637188.69546838}, {\"x\": 0.8692247454972591, \"Fit\": 117472760.79523523}, {\"x\": 0.8685446009389672, \"Fit\": 118313343.11768863}, {\"x\": 0.8678655199374512, \"Fit\": 119158959.63263331}, {\"x\": 0.8671875, \"Fit\": 120009634.39388724}, {\"x\": 0.8665105386416861, \"Fit\": 120865391.53945848}, {\"x\": 0.8658346333853354, \"Fit\": 121726255.2917226}, {\"x\": 0.8651597817614964, \"Fit\": 122592249.9576003}, {\"x\": 0.8644859813084113, \"Fit\": 123463399.92873357}, {\"x\": 0.8638132295719845, \"Fit\": 124339729.6816645}, {\"x\": 0.8631415241057543, \"Fit\": 125221263.77801134}, {\"x\": 0.8624708624708624, \"Fit\": 126108026.8646465}, {\"x\": 0.8618012422360248, \"Fit\": 127000043.67387412}, {\"x\": 0.8611326609775019, \"Fit\": 127897339.02360836}, {\"x\": 0.8604651162790699, \"Fit\": 128799937.81754975}, {\"x\": 0.8597986057319907, \"Fit\": 129707865.04536462}, {\"x\": 0.8591331269349844, \"Fit\": 130621145.78286101}, {\"x\": 0.8584686774941994, \"Fit\": 131539805.19216843}, {\"x\": 0.8578052550231839, \"Fit\": 132463868.52191436}, {\"x\": 0.8571428571428572, \"Fit\": 133393361.1074038}, {\"x\": 0.8564814814814815, \"Fit\": 134328308.37079644}, {\"x\": 0.8558211256746338, \"Fit\": 135268735.82128474}, {\"x\": 0.8551617873651771, \"Fit\": 136214669.0552728}, {\"x\": 0.8545034642032331, \"Fit\": 137166133.7565541}, {\"x\": 0.8538461538461538, \"Fit\": 138123155.6964904}, {\"x\": 0.8531898539584936, \"Fit\": 139085760.73419037}, {\"x\": 0.8525345622119817, \"Fit\": 140053974.81668794}, {\"x\": 0.851880276285495, \"Fit\": 141027823.97912017}, {\"x\": 0.8512269938650306, \"Fit\": 142007334.3449071}, {\"x\": 0.850574712643678, \"Fit\": 142992532.12592968}, {\"x\": 0.8499234303215927, \"Fit\": 143983443.622709}, {\"x\": 0.8492731446059679, \"Fit\": 144980095.2245853}, {\"x\": 0.8486238532110092, \"Fit\": 145982513.40989697}, {\"x\": 0.8479755538579068, \"Fit\": 146990724.7461587}, {\"x\": 0.8473282442748091, \"Fit\": 148004755.8902415}, {\"x\": 0.8466819221967964, \"Fit\": 149024633.58855116}, {\"x\": 0.8460365853658537, \"Fit\": 150050384.6772089}, {\"x\": 0.8453922315308455, \"Fit\": 151082036.08222845}, {\"x\": 0.8447488584474886, \"Fit\": 152119614.81969744}, {\"x\": 0.844106463878327, \"Fit\": 153163147.9959554}, {\"x\": 0.8434650455927051, \"Fit\": 154212662.80777407}, {\"x\": 0.8428246013667426, \"Fit\": 155268186.54253647}, {\"x\": 0.842185128983308, \"Fit\": 156329746.578417}, {\"x\": 0.841546626231994, \"Fit\": 157397370.38456038}, {\"x\": 0.8409090909090909, \"Fit\": 158471085.52126274}, {\"x\": 0.8402725208175624, \"Fit\": 159550919.64014933}, {\"x\": 0.8396369137670195, \"Fit\": 160636900.4843562}, {\"x\": 0.8390022675736961, \"Fit\": 161729055.88870916}, {\"x\": 0.8383685800604229, \"Fit\": 162827413.7799049}, {\"x\": 0.8377358490566038, \"Fit\": 163932002.1766891}, {\"x\": 0.8371040723981901, \"Fit\": 165042849.19003844}, {\"x\": 0.8364732479276563, \"Fit\": 166159983.02333987}, {\"x\": 0.8358433734939757, \"Fit\": 167283431.9725706}, {\"x\": 0.835214446952596, \"Fit\": 168413224.42647883}, {\"x\": 0.8345864661654137, \"Fit\": 169549388.86676446}, {\"x\": 0.8339594290007514, \"Fit\": 170691953.86825913}, {\"x\": 0.8333333333333334, \"Fit\": 171840948.09910595}], \"data-295145fe35b0ef321942a5c5d3821264\": [{\"x\": 3.3333333333333335, \"Data\": 2.3305684741199997}, {\"x\": 2.5, \"Data\": 269.791906048}, {\"x\": 2.0, \"Data\": 7889.0043956}, {\"x\": 1.6666666666666667, \"Data\": 96354.25215999999}, {\"x\": 1.4285714285714286, \"Data\": 668457.62436}, {\"x\": 1.25, \"Data\": 3113446.77292}, {\"x\": 1.1111111111111112, \"Data\": 11020517.5908}, {\"x\": 1.0, \"Data\": 31676460.3976}, {\"x\": 0.9090909090909091, \"Data\": 77685615.804}, {\"x\": 0.8333333333333334, \"Data\": 169824369.43199998}]}}, {\"mode\": \"vega-lite\"});\n",
       "</script>"
      ],
      "text/plain": [
       "alt.LayerChart(...)"
      ]
     },
     "metadata": {},
     "output_type": "display_data"
    },
    {
     "name": "stdout",
     "output_type": "stream",
     "text": [
      "Median branching fraction: 1.0\n",
      "[[1. 1. 1. 1.]\n",
      " [1. 1. 1. 1.]\n",
      " [1. 1. 1. 1.]\n",
      " [1. 1. 1. 1.]\n",
      " [1. 1. 1. 1.]\n",
      " [1. 1. 1. 1.]\n",
      " [1. 1. 1. 1.]]\n",
      "\n"
     ]
    }
   ],
   "source": [
    "label_dct = mess.surf.node_label_dict(surf_out)\n",
    "obj_col = automech.util.df_.c_.temp()\n",
    "\n",
    "print(\"Direct rates:\")\n",
    "for rate_key in mess.surf.rate_keys(\n",
    "    surf_out, P_vals=[1.0], empty=False, well_skipping=False\n",
    "):\n",
    "    eq = mess.surf.edge_chemkin_equation(surf_out, rate_key)\n",
    "    print(rate_key, eq)\n",
    "\n",
    "    rate = surf_out.rates[rate_key]\n",
    "    rate_fit = surf_out.rate_fits[rate_key]\n",
    "\n",
    "    amchis = list(mit.unique_everseen(automech.reaction_amchis(mech, eq=eq)))\n",
    "    for amchi in amchis:\n",
    "        automol.amchi.display_reaction(*amchi)\n",
    "\n",
    "    ref_rates = ref_labels = []\n",
    "    if compare and amchis:\n",
    "        ref_rates = [r.rate for r in automech.reaction_rate_objects(mech, eq)]\n",
    "        ref_labels = [f\"Ref {i}\" for i, _ in enumerate(ref_rates)]\n",
    "\n",
    "    display(\n",
    "        ac.rate.data.display(\n",
    "            [rate, rate_fit, *ref_rates],\n",
    "            T_range=T_range,\n",
    "            label=[\"Data\", \"Fit\", *ref_labels],\n",
    "            check_order=False,\n",
    "        )\n",
    "    )\n",
    "\n",
    "    branch_frac_arr = branch_frac_dct[rate_key]\n",
    "    branch_frac = np.nanmedian(branch_frac_arr)\n",
    "    print(f\"Median branching fraction: {branch_frac}\")\n",
    "    print(branch_frac_arr)\n",
    "    print()"
   ]
  },
  {
   "cell_type": "code",
   "execution_count": 197,
   "id": "742d6284",
   "metadata": {},
   "outputs": [
    {
     "name": "stdout",
     "output_type": "stream",
     "text": [
      "Well-skipping rates:\n"
     ]
    }
   ],
   "source": [
    "print(\"Well-skipping rates:\")\n",
    "for rate_key in mess.surf.rate_keys(surf_out, direct=False):\n",
    "    print(rate_key)\n",
    "    rate = surf_out.rates[rate_key]\n",
    "    rate_fit = surf_out.rate_fits[rate_key]\n",
    "    display(\n",
    "        ac.rate.data.display([rate, rate_fit], T_range=T_range, label=[\"Data\", \"Fit\"])\n",
    "    )\n",
    "\n",
    "    branch_frac_arr = branch_frac_dct[rate_key]\n",
    "    branch_frac = np.nanmedian(branch_frac_arr)\n",
    "    print(f\"Median branching fraction: {branch_frac}\")\n",
    "    print(branch_frac_arr)\n",
    "    print()"
   ]
  }
 ],
 "metadata": {
  "kernelspec": {
   "display_name": "dev",
   "language": "python",
   "name": "python3"
  },
  "language_info": {
   "codemirror_mode": {
    "name": "ipython",
    "version": 3
   },
   "file_extension": ".py",
   "mimetype": "text/x-python",
   "name": "python",
   "nbconvert_exporter": "python",
   "pygments_lexer": "ipython3",
   "version": "3.13.8"
  }
 },
 "nbformat": 4,
 "nbformat_minor": 5
}
