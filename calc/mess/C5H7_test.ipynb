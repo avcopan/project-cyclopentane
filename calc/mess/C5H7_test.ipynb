{
 "cells": [
  {
   "cell_type": "code",
   "execution_count": 1,
   "id": "0409c1f7",
   "metadata": {},
   "outputs": [],
   "source": [
    "from pathlib import Path\n",
    "\n",
    "import autochem as ac\n",
    "import automech\n",
    "import automol\n",
    "import more_itertools as mit\n",
    "import numpy as np\n",
    "from project_utilities import p_\n",
    "from protomech import mess\n",
    "\n",
    "T_range = (300, 1200)\n",
    "T_vals = (600, 700, 800, 900, 1000, 1100, 1200)\n",
    "P_vals = (0.1, 1, 10, 100)\n",
    "T_drop = (300, 400)  # Drop low-T rates for fit\n",
    "A_fill = 1e-20\n",
    "compare = False\n",
    "\n",
    "stoich = \"C5H7\"\n",
    "clear_nodes = []\n",
    "clear_edges = []\n",
    "\n",
    "# stoich = \"C5H7O2\"\n",
    "# clear_nodes = []  # was clearing: [\"C5H6O(645)z+OH(4)\", \"CPND2(626)+OH(4)\"]\n",
    "# clear_edges = []\n",
    "\n",
    "# stoich = \"C5H9\"\n",
    "# clear_nodes = []\n",
    "# clear_edges = []\n",
    "\n",
    "# stoich = \"C5H9O\"\n",
    "# clear_nodes = []\n",
    "# clear_edges = []\n",
    "\n",
    "# stoich = \"C5H9O2\"\n",
    "# clear_nodes = []\n",
    "# clear_edges = [\n",
    "#     # Well-skipping:\n",
    "#     (\"C5H8O(833)+OH(4)\", \"C5H8O(829)rs+OH(4)\")\n",
    "# ]\n",
    "\n",
    "# stoich = \"C5H11O\"  # suspicious -- doesn't seem to compare well with theory\n",
    "# clear_nodes = []\n",
    "# clear_edges = []\n",
    "\n",
    "# stoich = \"C5H11O2\"\n",
    "# clear_nodes = []\n",
    "# clear_edges = []\n",
    "\n",
    "tag = \"Z_mess_v0\"\n",
    "root_path = Path(\"../..\")\n",
    "stoich_path = Path(stoich)"
   ]
  },
  {
   "cell_type": "code",
   "execution_count": 2,
   "id": "be95baa7",
   "metadata": {},
   "outputs": [],
   "source": [
    "mech = automech.io.read(p_.stereo_mechanism(tag, \"json\", p_.data(root_path)))\n",
    "mech.reactions = automech.reaction.select_pes(mech.reactions, stoich)\n",
    "mech = automech.without_unused_species(mech)"
   ]
  },
  {
   "cell_type": "code",
   "execution_count": 3,
   "id": "1cf793aa",
   "metadata": {},
   "outputs": [],
   "source": [
    "mess_inp = stoich_path / \"mess.inp\"\n",
    "surf = mess.surf.from_mess_input(mess_inp)\n",
    "mess.net.display(surf, mech=mech, height=\"1000px\")"
   ]
  },
  {
   "cell_type": "code",
   "execution_count": 4,
   "id": "f39fa6ed",
   "metadata": {},
   "outputs": [
    {
     "data": {
      "text/plain": [
       "[(4, 6),\n",
       " (0, 6),\n",
       " (6, 2),\n",
       " (0, 3),\n",
       " (3, 6),\n",
       " (5, 2),\n",
       " (0, 4),\n",
       " (5, 0),\n",
       " (4, 2),\n",
       " (5, 3)]"
      ]
     },
     "execution_count": 4,
     "metadata": {},
     "output_type": "execute_result"
    }
   ],
   "source": [
    "from importlib import reload\n",
    "from protomech.mess import surf as m_surf_\n",
    "\n",
    "reload(m_surf_)\n",
    "\n",
    "mess_out = stoich_path / \"rate.out\"\n",
    "surf = m_surf_.with_mess_output_rates(surf, mess_out=mess_out)\n",
    "surf = m_surf_.absorb_fake_nodes(surf)\n",
    "m_surf_.forward_rate_keys(surf, mech, direct=True, well_skipping=False)\n",
    "m_surf_.forward_rate_keys(surf, mech, direct=False, well_skipping=True)"
   ]
  },
  {
   "cell_type": "code",
   "execution_count": null,
   "id": "adaaa6e5",
   "metadata": {},
   "outputs": [],
   "source": []
  }
 ],
 "metadata": {
  "kernelspec": {
   "display_name": "dev",
   "language": "python",
   "name": "python3"
  },
  "language_info": {
   "codemirror_mode": {
    "name": "ipython",
    "version": 3
   },
   "file_extension": ".py",
   "mimetype": "text/x-python",
   "name": "python",
   "nbconvert_exporter": "python",
   "pygments_lexer": "ipython3",
   "version": "3.13.8"
  }
 },
 "nbformat": 4,
 "nbformat_minor": 5
}
