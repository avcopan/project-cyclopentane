{
 "cells": [
  {
   "cell_type": "code",
   "execution_count": 1,
   "id": "58ab139c",
   "metadata": {},
   "outputs": [],
   "source": [
    "import automol\n",
    "from pathlib import Path\n",
    "\n",
    "source_dir = Path(\"e\")"
   ]
  },
  {
   "cell_type": "code",
   "execution_count": 2,
   "id": "45baf3b6",
   "metadata": {},
   "outputs": [
    {
     "data": {
      "application/3dmoljs_load.v0": "<div id=\"3dmolviewer_17472562761299767\"  style=\"position: relative; width: 400px; height: 400px;\">\n        <p id=\"3dmolwarning_17472562761299767\" style=\"background-color:#ffcccc;color:black\">3Dmol.js failed to load for some reason.  Please check your browser console for error messages.<br></p>\n        </div>\n<script>\n\nvar loadScriptAsync = function(uri){\n  return new Promise((resolve, reject) => {\n    //this is to ignore the existence of requirejs amd\n    var savedexports, savedmodule;\n    if (typeof exports !== 'undefined') savedexports = exports;\n    else exports = {}\n    if (typeof module !== 'undefined') savedmodule = module;\n    else module = {}\n\n    var tag = document.createElement('script');\n    tag.src = uri;\n    tag.async = true;\n    tag.onload = () => {\n        exports = savedexports;\n        module = savedmodule;\n        resolve();\n    };\n  var firstScriptTag = document.getElementsByTagName('script')[0];\n  firstScriptTag.parentNode.insertBefore(tag, firstScriptTag);\n});\n};\n\nif(typeof $3Dmolpromise === 'undefined') {\n$3Dmolpromise = null;\n  $3Dmolpromise = loadScriptAsync('https://cdnjs.cloudflare.com/ajax/libs/3Dmol/2.4.2/3Dmol-min.js');\n}\n\nvar viewer_17472562761299767 = null;\nvar warn = document.getElementById(\"3dmolwarning_17472562761299767\");\nif(warn) {\n    warn.parentNode.removeChild(warn);\n}\n$3Dmolpromise.then(function() {\nviewer_17472562761299767 = $3Dmol.createViewer(document.getElementById(\"3dmolviewer_17472562761299767\"),{backgroundColor:\"white\"});\nviewer_17472562761299767.zoomTo();\n\tviewer_17472562761299767.addModel(\"\\n  automech\\n\\n  0  0  0  0  0  0  0  0  0  0999 V3000\\nM  V30 BEGIN CTAB\\nM  V30 COUNTS 16 16 0 0 0\\nM  V30 BEGIN ATOM\\nM  V30 1 C 0.399 -1.193 -0.128 RAD=2 VAL=3\\nM  V30 2 C 1.849 -0.886 0.125 RAD=1 VAL=4\\nM  V30 3 H 0.111 -1.994 -0.813 RAD=1 VAL=1\\nM  V30 4 C 1.987 0.637 0.348 RAD=1 VAL=4\\nM  V30 5 H 2.276 -1.454 0.969 RAD=1 VAL=1\\nM  V30 6 H 2.429 -1.188 -0.764 RAD=1 VAL=1\\nM  V30 7 C 0.952 1.343 -0.480 RAD=1 VAL=4\\nM  V30 8 H 1.828 0.876 1.413 RAD=1 VAL=1\\nM  V30 9 H 3.015 0.968 0.116 RAD=1 VAL=1\\nM  V30 10 C -0.516 -0.203 0.146 RAD=1 VAL=4\\nM  V30 11 H 0.997 1.214 -1.567 RAD=1 VAL=1\\nM  V30 12 H 0.576 2.317 -0.152 RAD=1 VAL=1\\nM  V30 13 H -0.519 0.422 1.044 RAD=1 VAL=1\\nM  V30 14 O -1.738 -0.268 -0.459 RAD=1 VAL=2\\nM  V30 15 O -2.701 0.394 0.337 RAD=1 VAL=2\\nM  V30 16 H -3.223 -0.354 0.660 RAD=1 VAL=1\\nM  V30 END ATOM\\nM  V30 BEGIN BOND\\nM  V30 1 1 2 5 CFG=0\\nM  V30 2 1 7 10 CFG=0\\nM  V30 3 1 4 8 CFG=0\\nM  V30 4 1 10 14 CFG=0\\nM  V30 5 1 14 15 CFG=0\\nM  V30 6 1 1 2 CFG=0\\nM  V30 7 1 4 7 CFG=0\\nM  V30 8 1 1 3 CFG=0\\nM  V30 9 1 7 11 CFG=0\\nM  V30 10 1 4 9 CFG=0\\nM  V30 11 1 2 6 CFG=0\\nM  V30 12 1 15 16 CFG=0\\nM  V30 13 1 10 13 CFG=0\\nM  V30 14 1 2 4 CFG=0\\nM  V30 15 1 7 12 CFG=0\\nM  V30 16 1 1 10 CFG=0\\nM  V30 END BOND\\nM  V30 END CTAB\\nM  END\\n\",\"sdf\");\n\tviewer_17472562761299767.setStyle({\"stick\": {}, \"sphere\": {\"radius\": 0.3}});\n\tviewer_17472562761299767.setBackgroundColor(\"0xeeeeee\");\n\tviewer_17472562761299767.zoomTo();\nviewer_17472562761299767.render();\n});\n</script>",
      "text/html": [
       "<div id=\"3dmolviewer_17472562761299767\"  style=\"position: relative; width: 400px; height: 400px;\">\n",
       "        <p id=\"3dmolwarning_17472562761299767\" style=\"background-color:#ffcccc;color:black\">3Dmol.js failed to load for some reason.  Please check your browser console for error messages.<br></p>\n",
       "        </div>\n",
       "<script>\n",
       "\n",
       "var loadScriptAsync = function(uri){\n",
       "  return new Promise((resolve, reject) => {\n",
       "    //this is to ignore the existence of requirejs amd\n",
       "    var savedexports, savedmodule;\n",
       "    if (typeof exports !== 'undefined') savedexports = exports;\n",
       "    else exports = {}\n",
       "    if (typeof module !== 'undefined') savedmodule = module;\n",
       "    else module = {}\n",
       "\n",
       "    var tag = document.createElement('script');\n",
       "    tag.src = uri;\n",
       "    tag.async = true;\n",
       "    tag.onload = () => {\n",
       "        exports = savedexports;\n",
       "        module = savedmodule;\n",
       "        resolve();\n",
       "    };\n",
       "  var firstScriptTag = document.getElementsByTagName('script')[0];\n",
       "  firstScriptTag.parentNode.insertBefore(tag, firstScriptTag);\n",
       "});\n",
       "};\n",
       "\n",
       "if(typeof $3Dmolpromise === 'undefined') {\n",
       "$3Dmolpromise = null;\n",
       "  $3Dmolpromise = loadScriptAsync('https://cdnjs.cloudflare.com/ajax/libs/3Dmol/2.4.2/3Dmol-min.js');\n",
       "}\n",
       "\n",
       "var viewer_17472562761299767 = null;\n",
       "var warn = document.getElementById(\"3dmolwarning_17472562761299767\");\n",
       "if(warn) {\n",
       "    warn.parentNode.removeChild(warn);\n",
       "}\n",
       "$3Dmolpromise.then(function() {\n",
       "viewer_17472562761299767 = $3Dmol.createViewer(document.getElementById(\"3dmolviewer_17472562761299767\"),{backgroundColor:\"white\"});\n",
       "viewer_17472562761299767.zoomTo();\n",
       "\tviewer_17472562761299767.addModel(\"\\n  automech\\n\\n  0  0  0  0  0  0  0  0  0  0999 V3000\\nM  V30 BEGIN CTAB\\nM  V30 COUNTS 16 16 0 0 0\\nM  V30 BEGIN ATOM\\nM  V30 1 C 0.399 -1.193 -0.128 RAD=2 VAL=3\\nM  V30 2 C 1.849 -0.886 0.125 RAD=1 VAL=4\\nM  V30 3 H 0.111 -1.994 -0.813 RAD=1 VAL=1\\nM  V30 4 C 1.987 0.637 0.348 RAD=1 VAL=4\\nM  V30 5 H 2.276 -1.454 0.969 RAD=1 VAL=1\\nM  V30 6 H 2.429 -1.188 -0.764 RAD=1 VAL=1\\nM  V30 7 C 0.952 1.343 -0.480 RAD=1 VAL=4\\nM  V30 8 H 1.828 0.876 1.413 RAD=1 VAL=1\\nM  V30 9 H 3.015 0.968 0.116 RAD=1 VAL=1\\nM  V30 10 C -0.516 -0.203 0.146 RAD=1 VAL=4\\nM  V30 11 H 0.997 1.214 -1.567 RAD=1 VAL=1\\nM  V30 12 H 0.576 2.317 -0.152 RAD=1 VAL=1\\nM  V30 13 H -0.519 0.422 1.044 RAD=1 VAL=1\\nM  V30 14 O -1.738 -0.268 -0.459 RAD=1 VAL=2\\nM  V30 15 O -2.701 0.394 0.337 RAD=1 VAL=2\\nM  V30 16 H -3.223 -0.354 0.660 RAD=1 VAL=1\\nM  V30 END ATOM\\nM  V30 BEGIN BOND\\nM  V30 1 1 2 5 CFG=0\\nM  V30 2 1 7 10 CFG=0\\nM  V30 3 1 4 8 CFG=0\\nM  V30 4 1 10 14 CFG=0\\nM  V30 5 1 14 15 CFG=0\\nM  V30 6 1 1 2 CFG=0\\nM  V30 7 1 4 7 CFG=0\\nM  V30 8 1 1 3 CFG=0\\nM  V30 9 1 7 11 CFG=0\\nM  V30 10 1 4 9 CFG=0\\nM  V30 11 1 2 6 CFG=0\\nM  V30 12 1 15 16 CFG=0\\nM  V30 13 1 10 13 CFG=0\\nM  V30 14 1 2 4 CFG=0\\nM  V30 15 1 7 12 CFG=0\\nM  V30 16 1 1 10 CFG=0\\nM  V30 END BOND\\nM  V30 END CTAB\\nM  END\\n\",\"sdf\");\n",
       "\tviewer_17472562761299767.setStyle({\"stick\": {}, \"sphere\": {\"radius\": 0.3}});\n",
       "\tviewer_17472562761299767.setBackgroundColor(\"0xeeeeee\");\n",
       "\tviewer_17472562761299767.zoomTo();\n",
       "viewer_17472562761299767.render();\n",
       "});\n",
       "</script>"
      ]
     },
     "metadata": {},
     "output_type": "display_data"
    }
   ],
   "source": [
    "rxn0_path = source_dir / \"zmat.r.yaml\"\n",
    "geo0_path = source_dir / \"geom.xyz\"\n",
    "\n",
    "rxn = automol.reac.from_string(rxn0_path.read_text())\n",
    "gra = automol.reac.ts_graph(rxn)\n",
    "geo0 = automol.geom.from_xyz_string(geo0_path.read_text())\n",
    "automol.geom.display(geo0, gra=gra)"
   ]
  },
  {
   "cell_type": "code",
   "execution_count": 3,
   "id": "b6f8d0ce",
   "metadata": {},
   "outputs": [
    {
     "data": {
      "application/3dmoljs_load.v0": "<div id=\"3dmolviewer_17472562771428208\"  style=\"position: relative; width: 400px; height: 400px;\">\n        <p id=\"3dmolwarning_17472562771428208\" style=\"background-color:#ffcccc;color:black\">3Dmol.js failed to load for some reason.  Please check your browser console for error messages.<br></p>\n        </div>\n<script>\n\nvar loadScriptAsync = function(uri){\n  return new Promise((resolve, reject) => {\n    //this is to ignore the existence of requirejs amd\n    var savedexports, savedmodule;\n    if (typeof exports !== 'undefined') savedexports = exports;\n    else exports = {}\n    if (typeof module !== 'undefined') savedmodule = module;\n    else module = {}\n\n    var tag = document.createElement('script');\n    tag.src = uri;\n    tag.async = true;\n    tag.onload = () => {\n        exports = savedexports;\n        module = savedmodule;\n        resolve();\n    };\n  var firstScriptTag = document.getElementsByTagName('script')[0];\n  firstScriptTag.parentNode.insertBefore(tag, firstScriptTag);\n});\n};\n\nif(typeof $3Dmolpromise === 'undefined') {\n$3Dmolpromise = null;\n  $3Dmolpromise = loadScriptAsync('https://cdnjs.cloudflare.com/ajax/libs/3Dmol/2.4.2/3Dmol-min.js');\n}\n\nvar viewer_17472562771428208 = null;\nvar warn = document.getElementById(\"3dmolwarning_17472562771428208\");\nif(warn) {\n    warn.parentNode.removeChild(warn);\n}\n$3Dmolpromise.then(function() {\nviewer_17472562771428208 = $3Dmol.createViewer(document.getElementById(\"3dmolviewer_17472562771428208\"),{backgroundColor:\"white\"});\nviewer_17472562771428208.zoomTo();\n\tviewer_17472562771428208.addModel(\"\\n  automech\\n\\n  0  0  0  0  0  0  0  0  0  0999 V3000\\nM  V30 BEGIN CTAB\\nM  V30 COUNTS 16 16 0 0 0\\nM  V30 BEGIN ATOM\\nM  V30 1 C 0.399 -1.193 -0.128 RAD=2 VAL=3\\nM  V30 2 C -0.122 -2.593 -0.295 RAD=1 VAL=4\\nM  V30 3 H 0.111 -1.994 -0.813 RAD=1 VAL=1\\nM  V30 4 C -1.583 -2.627 0.208 RAD=1 VAL=4\\nM  V30 5 H -0.048 -2.967 -1.331 RAD=1 VAL=1\\nM  V30 6 H 0.499 -3.271 0.314 RAD=1 VAL=1\\nM  V30 7 C -1.730 -1.639 1.331 RAD=1 VAL=4\\nM  V30 8 H -2.269 -2.353 -0.611 RAD=1 VAL=1\\nM  V30 9 H -1.864 -3.652 0.506 RAD=1 VAL=1\\nM  V30 10 C -0.516 -0.203 0.146 RAD=1 VAL=4\\nM  V30 11 H -1.120 -1.795 2.228 RAD=1 VAL=1\\nM  V30 12 H -2.707 -1.181 1.517 RAD=1 VAL=1\\nM  V30 13 H -1.480 -0.080 -0.355 RAD=1 VAL=1\\nM  V30 14 O -0.068 0.949 0.724 RAD=1 VAL=2\\nM  V30 15 O -0.929 2.019 0.387 RAD=1 VAL=2\\nM  V30 16 H -0.368 2.529 -0.215 RAD=1 VAL=1\\nM  V30 END ATOM\\nM  V30 BEGIN BOND\\nM  V30 1 1 2 5 CFG=0\\nM  V30 2 1 7 10 CFG=0\\nM  V30 3 1 4 8 CFG=0\\nM  V30 4 1 10 14 CFG=0\\nM  V30 5 1 14 15 CFG=0\\nM  V30 6 1 1 2 CFG=0\\nM  V30 7 1 4 7 CFG=0\\nM  V30 8 1 1 3 CFG=0\\nM  V30 9 1 7 11 CFG=0\\nM  V30 10 1 4 9 CFG=0\\nM  V30 11 1 2 6 CFG=0\\nM  V30 12 1 15 16 CFG=0\\nM  V30 13 1 10 13 CFG=0\\nM  V30 14 1 2 4 CFG=0\\nM  V30 15 1 7 12 CFG=0\\nM  V30 16 1 1 10 CFG=0\\nM  V30 END BOND\\nM  V30 END CTAB\\nM  END\\n\",\"sdf\");\n\tviewer_17472562771428208.setStyle({\"stick\": {}, \"sphere\": {\"radius\": 0.3}});\n\tviewer_17472562771428208.setBackgroundColor(\"0xeeeeee\");\n\tviewer_17472562771428208.zoomTo();\nviewer_17472562771428208.render();\n});\n</script>",
      "text/html": [
       "<div id=\"3dmolviewer_17472562771428208\"  style=\"position: relative; width: 400px; height: 400px;\">\n",
       "        <p id=\"3dmolwarning_17472562771428208\" style=\"background-color:#ffcccc;color:black\">3Dmol.js failed to load for some reason.  Please check your browser console for error messages.<br></p>\n",
       "        </div>\n",
       "<script>\n",
       "\n",
       "var loadScriptAsync = function(uri){\n",
       "  return new Promise((resolve, reject) => {\n",
       "    //this is to ignore the existence of requirejs amd\n",
       "    var savedexports, savedmodule;\n",
       "    if (typeof exports !== 'undefined') savedexports = exports;\n",
       "    else exports = {}\n",
       "    if (typeof module !== 'undefined') savedmodule = module;\n",
       "    else module = {}\n",
       "\n",
       "    var tag = document.createElement('script');\n",
       "    tag.src = uri;\n",
       "    tag.async = true;\n",
       "    tag.onload = () => {\n",
       "        exports = savedexports;\n",
       "        module = savedmodule;\n",
       "        resolve();\n",
       "    };\n",
       "  var firstScriptTag = document.getElementsByTagName('script')[0];\n",
       "  firstScriptTag.parentNode.insertBefore(tag, firstScriptTag);\n",
       "});\n",
       "};\n",
       "\n",
       "if(typeof $3Dmolpromise === 'undefined') {\n",
       "$3Dmolpromise = null;\n",
       "  $3Dmolpromise = loadScriptAsync('https://cdnjs.cloudflare.com/ajax/libs/3Dmol/2.4.2/3Dmol-min.js');\n",
       "}\n",
       "\n",
       "var viewer_17472562771428208 = null;\n",
       "var warn = document.getElementById(\"3dmolwarning_17472562771428208\");\n",
       "if(warn) {\n",
       "    warn.parentNode.removeChild(warn);\n",
       "}\n",
       "$3Dmolpromise.then(function() {\n",
       "viewer_17472562771428208 = $3Dmol.createViewer(document.getElementById(\"3dmolviewer_17472562771428208\"),{backgroundColor:\"white\"});\n",
       "viewer_17472562771428208.zoomTo();\n",
       "\tviewer_17472562771428208.addModel(\"\\n  automech\\n\\n  0  0  0  0  0  0  0  0  0  0999 V3000\\nM  V30 BEGIN CTAB\\nM  V30 COUNTS 16 16 0 0 0\\nM  V30 BEGIN ATOM\\nM  V30 1 C 0.399 -1.193 -0.128 RAD=2 VAL=3\\nM  V30 2 C -0.122 -2.593 -0.295 RAD=1 VAL=4\\nM  V30 3 H 0.111 -1.994 -0.813 RAD=1 VAL=1\\nM  V30 4 C -1.583 -2.627 0.208 RAD=1 VAL=4\\nM  V30 5 H -0.048 -2.967 -1.331 RAD=1 VAL=1\\nM  V30 6 H 0.499 -3.271 0.314 RAD=1 VAL=1\\nM  V30 7 C -1.730 -1.639 1.331 RAD=1 VAL=4\\nM  V30 8 H -2.269 -2.353 -0.611 RAD=1 VAL=1\\nM  V30 9 H -1.864 -3.652 0.506 RAD=1 VAL=1\\nM  V30 10 C -0.516 -0.203 0.146 RAD=1 VAL=4\\nM  V30 11 H -1.120 -1.795 2.228 RAD=1 VAL=1\\nM  V30 12 H -2.707 -1.181 1.517 RAD=1 VAL=1\\nM  V30 13 H -1.480 -0.080 -0.355 RAD=1 VAL=1\\nM  V30 14 O -0.068 0.949 0.724 RAD=1 VAL=2\\nM  V30 15 O -0.929 2.019 0.387 RAD=1 VAL=2\\nM  V30 16 H -0.368 2.529 -0.215 RAD=1 VAL=1\\nM  V30 END ATOM\\nM  V30 BEGIN BOND\\nM  V30 1 1 2 5 CFG=0\\nM  V30 2 1 7 10 CFG=0\\nM  V30 3 1 4 8 CFG=0\\nM  V30 4 1 10 14 CFG=0\\nM  V30 5 1 14 15 CFG=0\\nM  V30 6 1 1 2 CFG=0\\nM  V30 7 1 4 7 CFG=0\\nM  V30 8 1 1 3 CFG=0\\nM  V30 9 1 7 11 CFG=0\\nM  V30 10 1 4 9 CFG=0\\nM  V30 11 1 2 6 CFG=0\\nM  V30 12 1 15 16 CFG=0\\nM  V30 13 1 10 13 CFG=0\\nM  V30 14 1 2 4 CFG=0\\nM  V30 15 1 7 12 CFG=0\\nM  V30 16 1 1 10 CFG=0\\nM  V30 END BOND\\nM  V30 END CTAB\\nM  END\\n\",\"sdf\");\n",
       "\tviewer_17472562771428208.setStyle({\"stick\": {}, \"sphere\": {\"radius\": 0.3}});\n",
       "\tviewer_17472562771428208.setBackgroundColor(\"0xeeeeee\");\n",
       "\tviewer_17472562771428208.zoomTo();\n",
       "viewer_17472562771428208.render();\n",
       "});\n",
       "</script>"
      ]
     },
     "metadata": {},
     "output_type": "display_data"
    }
   ],
   "source": [
    "geo = automol.graph.stereo_corrected_geometry(gra, geo0)\n",
    "automol.geom.display(geo, gra=gra)"
   ]
  }
 ],
 "metadata": {
  "kernelspec": {
   "display_name": "proto",
   "language": "python",
   "name": "python3"
  },
  "language_info": {
   "codemirror_mode": {
    "name": "ipython",
    "version": 3
   },
   "file_extension": ".py",
   "mimetype": "text/x-python",
   "name": "python",
   "nbconvert_exporter": "python",
   "pygments_lexer": "ipython3",
   "version": "3.11.12"
  }
 },
 "nbformat": 4,
 "nbformat_minor": 5
}
