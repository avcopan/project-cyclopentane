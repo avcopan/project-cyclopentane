{
 "cells": [
  {
   "cell_type": "code",
   "execution_count": 1,
   "id": "0466356e",
   "metadata": {},
   "outputs": [],
   "source": [
    "import automol\n",
    "from pathlib import Path"
   ]
  },
  {
   "cell_type": "code",
   "execution_count": 2,
   "id": "7163c78d",
   "metadata": {},
   "outputs": [
    {
     "data": {
      "application/3dmoljs_load.v0": "<div id=\"3dmolviewer_17472471549188216\"  style=\"position: relative; width: 400px; height: 400px;\">\n        <p id=\"3dmolwarning_17472471549188216\" style=\"background-color:#ffcccc;color:black\">3Dmol.js failed to load for some reason.  Please check your browser console for error messages.<br></p>\n        </div>\n<script>\n\nvar loadScriptAsync = function(uri){\n  return new Promise((resolve, reject) => {\n    //this is to ignore the existence of requirejs amd\n    var savedexports, savedmodule;\n    if (typeof exports !== 'undefined') savedexports = exports;\n    else exports = {}\n    if (typeof module !== 'undefined') savedmodule = module;\n    else module = {}\n\n    var tag = document.createElement('script');\n    tag.src = uri;\n    tag.async = true;\n    tag.onload = () => {\n        exports = savedexports;\n        module = savedmodule;\n        resolve();\n    };\n  var firstScriptTag = document.getElementsByTagName('script')[0];\n  firstScriptTag.parentNode.insertBefore(tag, firstScriptTag);\n});\n};\n\nif(typeof $3Dmolpromise === 'undefined') {\n$3Dmolpromise = null;\n  $3Dmolpromise = loadScriptAsync('https://cdnjs.cloudflare.com/ajax/libs/3Dmol/2.4.2/3Dmol-min.js');\n}\n\nvar viewer_17472471549188216 = null;\nvar warn = document.getElementById(\"3dmolwarning_17472471549188216\");\nif(warn) {\n    warn.parentNode.removeChild(warn);\n}\n$3Dmolpromise.then(function() {\nviewer_17472471549188216 = $3Dmol.createViewer(document.getElementById(\"3dmolviewer_17472471549188216\"),{backgroundColor:\"white\"});\nviewer_17472471549188216.zoomTo();\n\tviewer_17472471549188216.addModel(\"\\n  automech\\n\\n  0  0  0  0  0  0  0  0  0  0999 V3000\\nM  V30 BEGIN CTAB\\nM  V30 COUNTS 16 15 0 0 0\\nM  V30 BEGIN ATOM\\nM  V30 1 C -1.690 0.310 -0.679 RAD=2 VAL=3\\nM  V30 2 C -1.255 -1.109 -0.436 RAD=1 VAL=4\\nM  V30 3 C -1.481 1.219 0.328 RAD=2 VAL=3\\nM  V30 4 H -1.840 0.654 -1.706 RAD=1 VAL=1\\nM  V30 5 C 0.473 0.264 0.734 RAD=2 VAL=3\\nM  V30 6 H -1.532 2.293 0.125 RAD=1 VAL=1\\nM  V30 7 H -1.625 0.948 1.378 RAD=1 VAL=1\\nM  V30 8 O 1.193 0.630 -0.357 RAD=1 VAL=2\\nM  V30 9 H 0.865 0.632 1.696 RAD=1 VAL=1\\nM  V30 10 O 2.431 -0.162 -0.375 RAD=1 VAL=2\\nM  V30 11 C -0.200 -1.082 0.698 RAD=1 VAL=4\\nM  V30 12 H -0.813 -1.507 -1.362 RAD=1 VAL=1\\nM  V30 13 H -2.088 -1.785 -0.178 RAD=1 VAL=1\\nM  V30 14 H -0.670 -1.258 1.679 RAD=1 VAL=1\\nM  V30 15 H 0.550 -1.878 0.560 RAD=1 VAL=1\\nM  V30 16 H 3.075 0.540 -0.207 RAD=1 VAL=1\\nM  V30 END ATOM\\nM  V30 BEGIN BOND\\nM  V30 1 1 5 11 CFG=0\\nM  V30 2 1 1 4 CFG=0\\nM  V30 3 1 2 12 CFG=0\\nM  V30 4 1 1 2 CFG=0\\nM  V30 5 1 1 3 CFG=0\\nM  V30 6 1 3 7 CFG=0\\nM  V30 7 1 3 6 CFG=0\\nM  V30 8 1 8 10 CFG=0\\nM  V30 9 1 11 14 CFG=0\\nM  V30 10 1 2 13 CFG=0\\nM  V30 11 1 11 15 CFG=0\\nM  V30 12 1 2 11 CFG=0\\nM  V30 13 1 10 16 CFG=0\\nM  V30 14 1 5 9 CFG=0\\nM  V30 15 1 5 8 CFG=0\\nM  V30 END BOND\\nM  V30 END CTAB\\nM  END\\n\",\"sdf\");\n\tviewer_17472471549188216.setStyle({\"stick\": {}, \"sphere\": {\"radius\": 0.3}});\n\tviewer_17472471549188216.setBackgroundColor(\"0xeeeeee\");\n\tviewer_17472471549188216.zoomTo();\nviewer_17472471549188216.render();\n});\n</script>",
      "text/html": [
       "<div id=\"3dmolviewer_17472471549188216\"  style=\"position: relative; width: 400px; height: 400px;\">\n",
       "        <p id=\"3dmolwarning_17472471549188216\" style=\"background-color:#ffcccc;color:black\">3Dmol.js failed to load for some reason.  Please check your browser console for error messages.<br></p>\n",
       "        </div>\n",
       "<script>\n",
       "\n",
       "var loadScriptAsync = function(uri){\n",
       "  return new Promise((resolve, reject) => {\n",
       "    //this is to ignore the existence of requirejs amd\n",
       "    var savedexports, savedmodule;\n",
       "    if (typeof exports !== 'undefined') savedexports = exports;\n",
       "    else exports = {}\n",
       "    if (typeof module !== 'undefined') savedmodule = module;\n",
       "    else module = {}\n",
       "\n",
       "    var tag = document.createElement('script');\n",
       "    tag.src = uri;\n",
       "    tag.async = true;\n",
       "    tag.onload = () => {\n",
       "        exports = savedexports;\n",
       "        module = savedmodule;\n",
       "        resolve();\n",
       "    };\n",
       "  var firstScriptTag = document.getElementsByTagName('script')[0];\n",
       "  firstScriptTag.parentNode.insertBefore(tag, firstScriptTag);\n",
       "});\n",
       "};\n",
       "\n",
       "if(typeof $3Dmolpromise === 'undefined') {\n",
       "$3Dmolpromise = null;\n",
       "  $3Dmolpromise = loadScriptAsync('https://cdnjs.cloudflare.com/ajax/libs/3Dmol/2.4.2/3Dmol-min.js');\n",
       "}\n",
       "\n",
       "var viewer_17472471549188216 = null;\n",
       "var warn = document.getElementById(\"3dmolwarning_17472471549188216\");\n",
       "if(warn) {\n",
       "    warn.parentNode.removeChild(warn);\n",
       "}\n",
       "$3Dmolpromise.then(function() {\n",
       "viewer_17472471549188216 = $3Dmol.createViewer(document.getElementById(\"3dmolviewer_17472471549188216\"),{backgroundColor:\"white\"});\n",
       "viewer_17472471549188216.zoomTo();\n",
       "\tviewer_17472471549188216.addModel(\"\\n  automech\\n\\n  0  0  0  0  0  0  0  0  0  0999 V3000\\nM  V30 BEGIN CTAB\\nM  V30 COUNTS 16 15 0 0 0\\nM  V30 BEGIN ATOM\\nM  V30 1 C -1.690 0.310 -0.679 RAD=2 VAL=3\\nM  V30 2 C -1.255 -1.109 -0.436 RAD=1 VAL=4\\nM  V30 3 C -1.481 1.219 0.328 RAD=2 VAL=3\\nM  V30 4 H -1.840 0.654 -1.706 RAD=1 VAL=1\\nM  V30 5 C 0.473 0.264 0.734 RAD=2 VAL=3\\nM  V30 6 H -1.532 2.293 0.125 RAD=1 VAL=1\\nM  V30 7 H -1.625 0.948 1.378 RAD=1 VAL=1\\nM  V30 8 O 1.193 0.630 -0.357 RAD=1 VAL=2\\nM  V30 9 H 0.865 0.632 1.696 RAD=1 VAL=1\\nM  V30 10 O 2.431 -0.162 -0.375 RAD=1 VAL=2\\nM  V30 11 C -0.200 -1.082 0.698 RAD=1 VAL=4\\nM  V30 12 H -0.813 -1.507 -1.362 RAD=1 VAL=1\\nM  V30 13 H -2.088 -1.785 -0.178 RAD=1 VAL=1\\nM  V30 14 H -0.670 -1.258 1.679 RAD=1 VAL=1\\nM  V30 15 H 0.550 -1.878 0.560 RAD=1 VAL=1\\nM  V30 16 H 3.075 0.540 -0.207 RAD=1 VAL=1\\nM  V30 END ATOM\\nM  V30 BEGIN BOND\\nM  V30 1 1 5 11 CFG=0\\nM  V30 2 1 1 4 CFG=0\\nM  V30 3 1 2 12 CFG=0\\nM  V30 4 1 1 2 CFG=0\\nM  V30 5 1 1 3 CFG=0\\nM  V30 6 1 3 7 CFG=0\\nM  V30 7 1 3 6 CFG=0\\nM  V30 8 1 8 10 CFG=0\\nM  V30 9 1 11 14 CFG=0\\nM  V30 10 1 2 13 CFG=0\\nM  V30 11 1 11 15 CFG=0\\nM  V30 12 1 2 11 CFG=0\\nM  V30 13 1 10 16 CFG=0\\nM  V30 14 1 5 9 CFG=0\\nM  V30 15 1 5 8 CFG=0\\nM  V30 END BOND\\nM  V30 END CTAB\\nM  END\\n\",\"sdf\");\n",
       "\tviewer_17472471549188216.setStyle({\"stick\": {}, \"sphere\": {\"radius\": 0.3}});\n",
       "\tviewer_17472471549188216.setBackgroundColor(\"0xeeeeee\");\n",
       "\tviewer_17472471549188216.zoomTo();\n",
       "viewer_17472471549188216.render();\n",
       "});\n",
       "</script>"
      ]
     },
     "metadata": {},
     "output_type": "display_data"
    },
    {
     "data": {
      "application/vnd.jupyter.widget-view+json": {
       "model_id": "d8eabf3179d849e6821920c586173a35",
       "version_major": 2,
       "version_minor": 0
      },
      "text/plain": [
       "HBox(children=(Image(value=b\"<?xml version='1.0' encoding='iso-8859-1...\", format='svg+xml', height='300', wid…"
      ]
     },
     "metadata": {},
     "output_type": "display_data"
    }
   ],
   "source": [
    "dir_path = Path(\"ring-f\")\n",
    "geo_inp_path = dir_path / \"geom.xyz\"\n",
    "rxn_inp_path = dir_path / \"zmat.r.yaml\"\n",
    "ts_geo0 = automol.geom.from_xyz_string(geo_inp_path.read_text())\n",
    "zrxn0 = automol.reac.from_string(rxn_inp_path.read_text())\n",
    "automol.geom.display(ts_geo0)\n",
    "automol.reac.display(zrxn0, label=True)"
   ]
  },
  {
   "cell_type": "code",
   "execution_count": 3,
   "id": "4f3ce8ae",
   "metadata": {},
   "outputs": [
    {
     "data": {
      "application/vnd.jupyter.widget-view+json": {
       "model_id": "093a8bb00690424dbc09e73080409f15",
       "version_major": 2,
       "version_minor": 0
      },
      "text/plain": [
       "HBox(children=(Image(value=b\"<?xml version='1.0' encoding='iso-8859-1...\", format='svg+xml', height='300', wid…"
      ]
     },
     "metadata": {},
     "output_type": "display_data"
    },
    {
     "data": {
      "application/3dmoljs_load.v0": "<div id=\"3dmolviewer_17472471592551334\"  style=\"position: relative; width: 400px; height: 400px;\">\n        <p id=\"3dmolwarning_17472471592551334\" style=\"background-color:#ffcccc;color:black\">3Dmol.js failed to load for some reason.  Please check your browser console for error messages.<br></p>\n        </div>\n<script>\n\nvar loadScriptAsync = function(uri){\n  return new Promise((resolve, reject) => {\n    //this is to ignore the existence of requirejs amd\n    var savedexports, savedmodule;\n    if (typeof exports !== 'undefined') savedexports = exports;\n    else exports = {}\n    if (typeof module !== 'undefined') savedmodule = module;\n    else module = {}\n\n    var tag = document.createElement('script');\n    tag.src = uri;\n    tag.async = true;\n    tag.onload = () => {\n        exports = savedexports;\n        module = savedmodule;\n        resolve();\n    };\n  var firstScriptTag = document.getElementsByTagName('script')[0];\n  firstScriptTag.parentNode.insertBefore(tag, firstScriptTag);\n});\n};\n\nif(typeof $3Dmolpromise === 'undefined') {\n$3Dmolpromise = null;\n  $3Dmolpromise = loadScriptAsync('https://cdnjs.cloudflare.com/ajax/libs/3Dmol/2.4.2/3Dmol-min.js');\n}\n\nvar viewer_17472471592551334 = null;\nvar warn = document.getElementById(\"3dmolwarning_17472471592551334\");\nif(warn) {\n    warn.parentNode.removeChild(warn);\n}\n$3Dmolpromise.then(function() {\nviewer_17472471592551334 = $3Dmol.createViewer(document.getElementById(\"3dmolviewer_17472471592551334\"),{backgroundColor:\"white\"});\nviewer_17472471592551334.zoomTo();\n\tviewer_17472471592551334.addModel(\"\\n  automech\\n\\n  0  0  0  0  0  0  0  0  0  0999 V3000\\nM  V30 BEGIN CTAB\\nM  V30 COUNTS 16 16 0 0 0\\nM  V30 BEGIN ATOM\\nM  V30 1 C -1.690 0.310 -0.679 RAD=2 VAL=3\\nM  V30 2 C -1.255 -1.109 -0.436 RAD=1 VAL=4\\nM  V30 3 C -1.481 1.219 0.328 RAD=1 VAL=4\\nM  V30 4 H -1.840 0.654 -1.706 RAD=1 VAL=1\\nM  V30 5 C 0.473 0.264 0.734 RAD=1 VAL=4\\nM  V30 6 H -1.532 2.293 0.125 RAD=1 VAL=1\\nM  V30 7 H -1.625 0.948 1.378 RAD=1 VAL=1\\nM  V30 8 O 1.193 0.630 -0.357 RAD=1 VAL=2\\nM  V30 9 H 0.865 0.632 1.696 RAD=1 VAL=1\\nM  V30 10 O 2.431 -0.162 -0.375 RAD=1 VAL=2\\nM  V30 11 C -0.200 -1.082 0.698 RAD=1 VAL=4\\nM  V30 12 H -0.813 -1.507 -1.362 RAD=1 VAL=1\\nM  V30 13 H -2.088 -1.785 -0.178 RAD=1 VAL=1\\nM  V30 14 H -0.670 -1.258 1.679 RAD=1 VAL=1\\nM  V30 15 H 0.550 -1.878 0.560 RAD=1 VAL=1\\nM  V30 16 H 3.075 0.540 -0.207 RAD=1 VAL=1\\nM  V30 END ATOM\\nM  V30 BEGIN BOND\\nM  V30 1 1 5 11 CFG=0\\nM  V30 2 1 3 7 CFG=0\\nM  V30 3 1 1 4 CFG=0\\nM  V30 4 1 1 2 CFG=0\\nM  V30 5 1 2 12 CFG=0\\nM  V30 6 1 1 3 CFG=0\\nM  V30 7 1 3 6 CFG=0\\nM  V30 8 1 11 14 CFG=0\\nM  V30 9 1 8 10 CFG=0\\nM  V30 10 1 2 13 CFG=0\\nM  V30 11 1 11 15 CFG=0\\nM  V30 12 1 3 5 CFG=0\\nM  V30 13 1 10 16 CFG=0\\nM  V30 14 1 2 11 CFG=0\\nM  V30 15 1 5 9 CFG=0\\nM  V30 16 1 5 8 CFG=0\\nM  V30 END BOND\\nM  V30 END CTAB\\nM  END\\n\",\"sdf\");\n\tviewer_17472471592551334.setStyle({\"stick\": {}, \"sphere\": {\"radius\": 0.3}});\n\tviewer_17472471592551334.setBackgroundColor(\"0xeeeeee\");\n\tviewer_17472471592551334.zoomTo();\nviewer_17472471592551334.render();\n});\n</script>",
      "text/html": [
       "<div id=\"3dmolviewer_17472471592551334\"  style=\"position: relative; width: 400px; height: 400px;\">\n",
       "        <p id=\"3dmolwarning_17472471592551334\" style=\"background-color:#ffcccc;color:black\">3Dmol.js failed to load for some reason.  Please check your browser console for error messages.<br></p>\n",
       "        </div>\n",
       "<script>\n",
       "\n",
       "var loadScriptAsync = function(uri){\n",
       "  return new Promise((resolve, reject) => {\n",
       "    //this is to ignore the existence of requirejs amd\n",
       "    var savedexports, savedmodule;\n",
       "    if (typeof exports !== 'undefined') savedexports = exports;\n",
       "    else exports = {}\n",
       "    if (typeof module !== 'undefined') savedmodule = module;\n",
       "    else module = {}\n",
       "\n",
       "    var tag = document.createElement('script');\n",
       "    tag.src = uri;\n",
       "    tag.async = true;\n",
       "    tag.onload = () => {\n",
       "        exports = savedexports;\n",
       "        module = savedmodule;\n",
       "        resolve();\n",
       "    };\n",
       "  var firstScriptTag = document.getElementsByTagName('script')[0];\n",
       "  firstScriptTag.parentNode.insertBefore(tag, firstScriptTag);\n",
       "});\n",
       "};\n",
       "\n",
       "if(typeof $3Dmolpromise === 'undefined') {\n",
       "$3Dmolpromise = null;\n",
       "  $3Dmolpromise = loadScriptAsync('https://cdnjs.cloudflare.com/ajax/libs/3Dmol/2.4.2/3Dmol-min.js');\n",
       "}\n",
       "\n",
       "var viewer_17472471592551334 = null;\n",
       "var warn = document.getElementById(\"3dmolwarning_17472471592551334\");\n",
       "if(warn) {\n",
       "    warn.parentNode.removeChild(warn);\n",
       "}\n",
       "$3Dmolpromise.then(function() {\n",
       "viewer_17472471592551334 = $3Dmol.createViewer(document.getElementById(\"3dmolviewer_17472471592551334\"),{backgroundColor:\"white\"});\n",
       "viewer_17472471592551334.zoomTo();\n",
       "\tviewer_17472471592551334.addModel(\"\\n  automech\\n\\n  0  0  0  0  0  0  0  0  0  0999 V3000\\nM  V30 BEGIN CTAB\\nM  V30 COUNTS 16 16 0 0 0\\nM  V30 BEGIN ATOM\\nM  V30 1 C -1.690 0.310 -0.679 RAD=2 VAL=3\\nM  V30 2 C -1.255 -1.109 -0.436 RAD=1 VAL=4\\nM  V30 3 C -1.481 1.219 0.328 RAD=1 VAL=4\\nM  V30 4 H -1.840 0.654 -1.706 RAD=1 VAL=1\\nM  V30 5 C 0.473 0.264 0.734 RAD=1 VAL=4\\nM  V30 6 H -1.532 2.293 0.125 RAD=1 VAL=1\\nM  V30 7 H -1.625 0.948 1.378 RAD=1 VAL=1\\nM  V30 8 O 1.193 0.630 -0.357 RAD=1 VAL=2\\nM  V30 9 H 0.865 0.632 1.696 RAD=1 VAL=1\\nM  V30 10 O 2.431 -0.162 -0.375 RAD=1 VAL=2\\nM  V30 11 C -0.200 -1.082 0.698 RAD=1 VAL=4\\nM  V30 12 H -0.813 -1.507 -1.362 RAD=1 VAL=1\\nM  V30 13 H -2.088 -1.785 -0.178 RAD=1 VAL=1\\nM  V30 14 H -0.670 -1.258 1.679 RAD=1 VAL=1\\nM  V30 15 H 0.550 -1.878 0.560 RAD=1 VAL=1\\nM  V30 16 H 3.075 0.540 -0.207 RAD=1 VAL=1\\nM  V30 END ATOM\\nM  V30 BEGIN BOND\\nM  V30 1 1 5 11 CFG=0\\nM  V30 2 1 3 7 CFG=0\\nM  V30 3 1 1 4 CFG=0\\nM  V30 4 1 1 2 CFG=0\\nM  V30 5 1 2 12 CFG=0\\nM  V30 6 1 1 3 CFG=0\\nM  V30 7 1 3 6 CFG=0\\nM  V30 8 1 11 14 CFG=0\\nM  V30 9 1 8 10 CFG=0\\nM  V30 10 1 2 13 CFG=0\\nM  V30 11 1 11 15 CFG=0\\nM  V30 12 1 3 5 CFG=0\\nM  V30 13 1 10 16 CFG=0\\nM  V30 14 1 2 11 CFG=0\\nM  V30 15 1 5 9 CFG=0\\nM  V30 16 1 5 8 CFG=0\\nM  V30 END BOND\\nM  V30 END CTAB\\nM  END\\n\",\"sdf\");\n",
       "\tviewer_17472471592551334.setStyle({\"stick\": {}, \"sphere\": {\"radius\": 0.3}});\n",
       "\tviewer_17472471592551334.setBackgroundColor(\"0xeeeeee\");\n",
       "\tviewer_17472471592551334.zoomTo();\n",
       "viewer_17472471592551334.render();\n",
       "});\n",
       "</script>"
      ]
     },
     "metadata": {},
     "output_type": "display_data"
    }
   ],
   "source": [
    "ts_gra0 = automol.reac.ts_graph(zrxn0)\n",
    "ts_gra0 = automol.graph.ts.reactants_graph(ts_gra0)\n",
    "ts_gra = automol.graph.ts.graph(ts_gra0, frm_bnd_keys=[], brk_bnd_keys=[(2, 4)])\n",
    "ts_gra = automol.graph.set_stereo_from_geometry(ts_gra, ts_geo0)\n",
    "automol.graph.display(ts_gra, label=True)\n",
    "automol.geom.display(ts_geo0, gra=ts_gra)"
   ]
  },
  {
   "cell_type": "code",
   "execution_count": 4,
   "id": "ea7ee197",
   "metadata": {},
   "outputs": [],
   "source": [
    "rct_gra = automol.graph.ts.reactants_graph(ts_gra)\n",
    "prd_gra = automol.graph.ts.products_graph(ts_gra)\n",
    "\n",
    "rct_geo = automol.graph.geometry(rct_gra)\n",
    "prd_geo = automol.graph.geometry(prd_gra)"
   ]
  },
  {
   "cell_type": "code",
   "execution_count": 5,
   "id": "1511b9cf",
   "metadata": {},
   "outputs": [],
   "source": [
    "grxn = automol.reac.from_data(\n",
    "    tsg=ts_gra,\n",
    "    rcts_keys=[sorted(automol.graph.atom_keys(rct_gra))],\n",
    "    prds_keys=[sorted(automol.graph.atom_keys(prd_gra))],\n",
    "    cla=automol.const.ReactionClass.BETA_SCISSION,\n",
    "    ts_struc=ts_geo0,\n",
    "    rct_strucs=[rct_geo],\n",
    "    prd_strucs=[prd_geo],\n",
    "    struc_typ=\"geom\",\n",
    ")"
   ]
  },
  {
   "cell_type": "code",
   "execution_count": 6,
   "id": "f5c4dc9b",
   "metadata": {},
   "outputs": [
    {
     "data": {
      "application/3dmoljs_load.v0": "<div id=\"3dmolviewer_17472471673920305\"  style=\"position: relative; width: 400px; height: 400px;\">\n        <p id=\"3dmolwarning_17472471673920305\" style=\"background-color:#ffcccc;color:black\">3Dmol.js failed to load for some reason.  Please check your browser console for error messages.<br></p>\n        </div>\n<script>\n\nvar loadScriptAsync = function(uri){\n  return new Promise((resolve, reject) => {\n    //this is to ignore the existence of requirejs amd\n    var savedexports, savedmodule;\n    if (typeof exports !== 'undefined') savedexports = exports;\n    else exports = {}\n    if (typeof module !== 'undefined') savedmodule = module;\n    else module = {}\n\n    var tag = document.createElement('script');\n    tag.src = uri;\n    tag.async = true;\n    tag.onload = () => {\n        exports = savedexports;\n        module = savedmodule;\n        resolve();\n    };\n  var firstScriptTag = document.getElementsByTagName('script')[0];\n  firstScriptTag.parentNode.insertBefore(tag, firstScriptTag);\n});\n};\n\nif(typeof $3Dmolpromise === 'undefined') {\n$3Dmolpromise = null;\n  $3Dmolpromise = loadScriptAsync('https://cdnjs.cloudflare.com/ajax/libs/3Dmol/2.4.2/3Dmol-min.js');\n}\n\nvar viewer_17472471673920305 = null;\nvar warn = document.getElementById(\"3dmolwarning_17472471673920305\");\nif(warn) {\n    warn.parentNode.removeChild(warn);\n}\n$3Dmolpromise.then(function() {\nviewer_17472471673920305 = $3Dmol.createViewer(document.getElementById(\"3dmolviewer_17472471673920305\"),{backgroundColor:\"white\"});\nviewer_17472471673920305.zoomTo();\n\tviewer_17472471673920305.addModel(\"\\n  automech\\n\\n  0  0  0  0  0  0  0  0  0  0999 V3000\\nM  V30 BEGIN CTAB\\nM  V30 COUNTS 16 16 0 0 0\\nM  V30 BEGIN ATOM\\nM  V30 1 C 0.000 0.000 0.000 RAD=2 VAL=3\\nM  V30 2 C 0.000 0.000 1.503 RAD=1 VAL=4\\nM  V30 3 H 0.000 0.954 -0.534 RAD=1 VAL=1\\nM  V30 4 C -0.967 -1.118 1.966 RAD=1 VAL=4\\nM  V30 5 H -0.350 0.982 1.857 RAD=1 VAL=1\\nM  V30 6 H 1.002 -0.145 1.942 RAD=1 VAL=1\\nM  V30 7 C -1.995 -1.376 0.896 RAD=1 VAL=4\\nM  V30 8 H -0.424 -2.058 2.155 RAD=1 VAL=1\\nM  V30 9 H -1.464 -0.846 2.912 RAD=1 VAL=1\\nM  V30 10 C -0.414 -1.144 -0.635 RAD=1 VAL=4\\nM  V30 11 O -2.837 -0.359 0.583 RAD=1 VAL=2\\nM  V30 12 H -2.432 -2.385 0.818 RAD=1 VAL=1\\nM  V30 13 H -0.682 -1.124 -1.696 RAD=1 VAL=1\\nM  V30 14 H -0.152 -2.135 -0.251 RAD=1 VAL=1\\nM  V30 15 O -3.797 -0.203 1.685 RAD=1 VAL=2\\nM  V30 16 H -4.606 -0.484 1.236 RAD=1 VAL=1\\nM  V30 END ATOM\\nM  V30 BEGIN BOND\\nM  V30 1 1 2 5 CFG=0\\nM  V30 2 1 7 10 CFG=0\\nM  V30 3 1 4 8 CFG=0\\nM  V30 4 1 10 14 CFG=0\\nM  V30 5 1 1 2 CFG=0\\nM  V30 6 1 4 7 CFG=0\\nM  V30 7 1 1 3 CFG=0\\nM  V30 8 1 7 11 CFG=0\\nM  V30 9 1 11 15 CFG=0\\nM  V30 10 1 4 9 CFG=0\\nM  V30 11 1 2 6 CFG=0\\nM  V30 12 1 15 16 CFG=0\\nM  V30 13 1 10 13 CFG=0\\nM  V30 14 1 2 4 CFG=0\\nM  V30 15 1 7 12 CFG=0\\nM  V30 16 1 1 10 CFG=0\\nM  V30 END BOND\\nM  V30 END CTAB\\nM  END\\n\",\"sdf\");\n\tviewer_17472471673920305.setStyle({\"stick\": {}, \"sphere\": {\"radius\": 0.3}});\n\tviewer_17472471673920305.setBackgroundColor(\"0xeeeeee\");\n\tviewer_17472471673920305.zoomTo();\nviewer_17472471673920305.render();\n});\n</script>",
      "text/html": [
       "<div id=\"3dmolviewer_17472471673920305\"  style=\"position: relative; width: 400px; height: 400px;\">\n",
       "        <p id=\"3dmolwarning_17472471673920305\" style=\"background-color:#ffcccc;color:black\">3Dmol.js failed to load for some reason.  Please check your browser console for error messages.<br></p>\n",
       "        </div>\n",
       "<script>\n",
       "\n",
       "var loadScriptAsync = function(uri){\n",
       "  return new Promise((resolve, reject) => {\n",
       "    //this is to ignore the existence of requirejs amd\n",
       "    var savedexports, savedmodule;\n",
       "    if (typeof exports !== 'undefined') savedexports = exports;\n",
       "    else exports = {}\n",
       "    if (typeof module !== 'undefined') savedmodule = module;\n",
       "    else module = {}\n",
       "\n",
       "    var tag = document.createElement('script');\n",
       "    tag.src = uri;\n",
       "    tag.async = true;\n",
       "    tag.onload = () => {\n",
       "        exports = savedexports;\n",
       "        module = savedmodule;\n",
       "        resolve();\n",
       "    };\n",
       "  var firstScriptTag = document.getElementsByTagName('script')[0];\n",
       "  firstScriptTag.parentNode.insertBefore(tag, firstScriptTag);\n",
       "});\n",
       "};\n",
       "\n",
       "if(typeof $3Dmolpromise === 'undefined') {\n",
       "$3Dmolpromise = null;\n",
       "  $3Dmolpromise = loadScriptAsync('https://cdnjs.cloudflare.com/ajax/libs/3Dmol/2.4.2/3Dmol-min.js');\n",
       "}\n",
       "\n",
       "var viewer_17472471673920305 = null;\n",
       "var warn = document.getElementById(\"3dmolwarning_17472471673920305\");\n",
       "if(warn) {\n",
       "    warn.parentNode.removeChild(warn);\n",
       "}\n",
       "$3Dmolpromise.then(function() {\n",
       "viewer_17472471673920305 = $3Dmol.createViewer(document.getElementById(\"3dmolviewer_17472471673920305\"),{backgroundColor:\"white\"});\n",
       "viewer_17472471673920305.zoomTo();\n",
       "\tviewer_17472471673920305.addModel(\"\\n  automech\\n\\n  0  0  0  0  0  0  0  0  0  0999 V3000\\nM  V30 BEGIN CTAB\\nM  V30 COUNTS 16 16 0 0 0\\nM  V30 BEGIN ATOM\\nM  V30 1 C 0.000 0.000 0.000 RAD=2 VAL=3\\nM  V30 2 C 0.000 0.000 1.503 RAD=1 VAL=4\\nM  V30 3 H 0.000 0.954 -0.534 RAD=1 VAL=1\\nM  V30 4 C -0.967 -1.118 1.966 RAD=1 VAL=4\\nM  V30 5 H -0.350 0.982 1.857 RAD=1 VAL=1\\nM  V30 6 H 1.002 -0.145 1.942 RAD=1 VAL=1\\nM  V30 7 C -1.995 -1.376 0.896 RAD=1 VAL=4\\nM  V30 8 H -0.424 -2.058 2.155 RAD=1 VAL=1\\nM  V30 9 H -1.464 -0.846 2.912 RAD=1 VAL=1\\nM  V30 10 C -0.414 -1.144 -0.635 RAD=1 VAL=4\\nM  V30 11 O -2.837 -0.359 0.583 RAD=1 VAL=2\\nM  V30 12 H -2.432 -2.385 0.818 RAD=1 VAL=1\\nM  V30 13 H -0.682 -1.124 -1.696 RAD=1 VAL=1\\nM  V30 14 H -0.152 -2.135 -0.251 RAD=1 VAL=1\\nM  V30 15 O -3.797 -0.203 1.685 RAD=1 VAL=2\\nM  V30 16 H -4.606 -0.484 1.236 RAD=1 VAL=1\\nM  V30 END ATOM\\nM  V30 BEGIN BOND\\nM  V30 1 1 2 5 CFG=0\\nM  V30 2 1 7 10 CFG=0\\nM  V30 3 1 4 8 CFG=0\\nM  V30 4 1 10 14 CFG=0\\nM  V30 5 1 1 2 CFG=0\\nM  V30 6 1 4 7 CFG=0\\nM  V30 7 1 1 3 CFG=0\\nM  V30 8 1 7 11 CFG=0\\nM  V30 9 1 11 15 CFG=0\\nM  V30 10 1 4 9 CFG=0\\nM  V30 11 1 2 6 CFG=0\\nM  V30 12 1 15 16 CFG=0\\nM  V30 13 1 10 13 CFG=0\\nM  V30 14 1 2 4 CFG=0\\nM  V30 15 1 7 12 CFG=0\\nM  V30 16 1 1 10 CFG=0\\nM  V30 END BOND\\nM  V30 END CTAB\\nM  END\\n\",\"sdf\");\n",
       "\tviewer_17472471673920305.setStyle({\"stick\": {}, \"sphere\": {\"radius\": 0.3}});\n",
       "\tviewer_17472471673920305.setBackgroundColor(\"0xeeeeee\");\n",
       "\tviewer_17472471673920305.zoomTo();\n",
       "viewer_17472471673920305.render();\n",
       "});\n",
       "</script>"
      ]
     },
     "metadata": {},
     "output_type": "display_data"
    }
   ],
   "source": [
    "zrxn = automol.reac.with_structures(grxn, struc_typ=\"zmat\")\n",
    "automol.zmat.display(\n",
    "    automol.reac.ts_structure(zrxn),\n",
    "    gra=automol.reac.ts_graph(zrxn),\n",
    ")"
   ]
  },
  {
   "cell_type": "code",
   "execution_count": 7,
   "id": "1ee26a38",
   "metadata": {},
   "outputs": [],
   "source": [
    "ts_zma = automol.reac.ts_structure(zrxn)\n",
    "ts_geo = automol.zmat.geometry(ts_zma)\n",
    "\n",
    "zrxn.ts_conversion_info = None\n",
    "zrxn.reactants_conversion_info = None\n",
    "zrxn.products_conversion_info = None"
   ]
  },
  {
   "cell_type": "code",
   "execution_count": 8,
   "id": "220a5ea7",
   "metadata": {},
   "outputs": [
    {
     "data": {
      "text/plain": [
       "4169"
      ]
     },
     "execution_count": 8,
     "metadata": {},
     "output_type": "execute_result"
    }
   ],
   "source": [
    "geo_path = Path(\"geom.xyz\")\n",
    "zma_path = Path(\"geom.zmat\")\n",
    "rxn_path = Path(\"zmat.r.yaml\")\n",
    "\n",
    "geo_path.write_text(automol.geom.xyz_string(ts_geo))\n",
    "zma_path.write_text(automol.zmat.string(ts_zma, one_indexed=True))\n",
    "rxn_path.write_text(automol.reac.string(zrxn))"
   ]
  },
  {
   "cell_type": "code",
   "execution_count": null,
   "id": "3967d0d2",
   "metadata": {},
   "outputs": [],
   "source": []
  }
 ],
 "metadata": {
  "kernelspec": {
   "display_name": "proto",
   "language": "python",
   "name": "python3"
  },
  "language_info": {
   "codemirror_mode": {
    "name": "ipython",
    "version": 3
   },
   "file_extension": ".py",
   "mimetype": "text/x-python",
   "name": "python",
   "nbconvert_exporter": "python",
   "pygments_lexer": "ipython3",
   "version": "3.11.12"
  }
 },
 "nbformat": 4,
 "nbformat_minor": 5
}
