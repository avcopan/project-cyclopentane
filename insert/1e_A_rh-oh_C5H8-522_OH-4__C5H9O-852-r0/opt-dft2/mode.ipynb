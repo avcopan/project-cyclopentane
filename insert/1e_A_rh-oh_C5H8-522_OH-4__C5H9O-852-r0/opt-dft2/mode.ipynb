{
 "cells": [
  {
   "cell_type": "code",
   "execution_count": 1,
   "id": "b0b98b0d",
   "metadata": {},
   "outputs": [],
   "source": [
    "from pathlib import Path\n",
    "\n",
    "import automol\n",
    "import elstruct"
   ]
  },
  {
   "cell_type": "code",
   "execution_count": 3,
   "id": "7fd57025",
   "metadata": {},
   "outputs": [
    {
     "ename": "TypeError",
     "evalue": "unsupported operand type(s) for /: 'NoneType' and 'float'",
     "output_type": "error",
     "traceback": [
      "\u001b[0;31m---------------------------------------------------------------------------\u001b[0m",
      "\u001b[0;31mTypeError\u001b[0m                                 Traceback (most recent call last)",
      "Cell \u001b[0;32mIn[3], line 4\u001b[0m\n\u001b[1;32m      2\u001b[0m hess \u001b[38;5;241m=\u001b[39m elstruct\u001b[38;5;241m.\u001b[39mreader\u001b[38;5;241m.\u001b[39mhessian(\u001b[38;5;124m\"\u001b[39m\u001b[38;5;124mgaussian16\u001b[39m\u001b[38;5;124m\"\u001b[39m, out_str)\n\u001b[1;32m      3\u001b[0m geo \u001b[38;5;241m=\u001b[39m elstruct\u001b[38;5;241m.\u001b[39mreader\u001b[38;5;241m.\u001b[39mopt_geometry(\u001b[38;5;124m\"\u001b[39m\u001b[38;5;124mgaussian16\u001b[39m\u001b[38;5;124m\"\u001b[39m, out_str)\n\u001b[0;32m----> 4\u001b[0m freqs, modes \u001b[38;5;241m=\u001b[39m \u001b[43mautomol\u001b[49m\u001b[38;5;241;43m.\u001b[39;49m\u001b[43mgeom\u001b[49m\u001b[38;5;241;43m.\u001b[39;49m\u001b[43mvibrational_analysis\u001b[49m\u001b[43m(\u001b[49m\u001b[43mgeo\u001b[49m\u001b[43m,\u001b[49m\u001b[43m \u001b[49m\u001b[43mhess\u001b[49m\u001b[43m)\u001b[49m\n\u001b[1;32m      5\u001b[0m \u001b[38;5;28mprint\u001b[39m(freqs)\n\u001b[1;32m      6\u001b[0m automol\u001b[38;5;241m.\u001b[39mgeom\u001b[38;5;241m.\u001b[39mdisplay(geo, mode\u001b[38;5;241m=\u001b[39mmodes[:, \u001b[38;5;241m0\u001b[39m])\n",
      "File \u001b[0;32m~/proj/project-cyclopentane/code/mechdriver/src/_autochem/automol/geom/_2vib.py:51\u001b[0m, in \u001b[0;36mvibrational_analysis\u001b[0;34m(geo, hess, trans, rot, tors, gra, bkeys, with_h_rotors, with_ch_rotors, wavenum)\u001b[0m\n\u001b[1;32m     49\u001b[0m \u001b[38;5;66;03m# 1. Mass-weight the Hessian matrix\u001b[39;00m\n\u001b[1;32m     50\u001b[0m mw_vec \u001b[38;5;241m=\u001b[39m numpy\u001b[38;5;241m.\u001b[39msqrt(numpy\u001b[38;5;241m.\u001b[39mrepeat(masses(geo), \u001b[38;5;241m3\u001b[39m))\n\u001b[0;32m---> 51\u001b[0m hess_mw \u001b[38;5;241m=\u001b[39m \u001b[43mhess\u001b[49m\u001b[43m \u001b[49m\u001b[38;5;241;43m/\u001b[39;49m\u001b[43m \u001b[49m\u001b[43mmw_vec\u001b[49m\u001b[43m[\u001b[49m\u001b[43m:\u001b[49m\u001b[43m,\u001b[49m\u001b[43m \u001b[49m\u001b[43mnumpy\u001b[49m\u001b[38;5;241;43m.\u001b[39;49m\u001b[43mnewaxis\u001b[49m\u001b[43m]\u001b[49m \u001b[38;5;241m/\u001b[39m mw_vec[numpy\u001b[38;5;241m.\u001b[39mnewaxis, :]\n\u001b[1;32m     53\u001b[0m \u001b[38;5;66;03m# 2. Project onto the space of internal motions\u001b[39;00m\n\u001b[1;32m     54\u001b[0m \u001b[38;5;66;03m#       K = Qmwt Hmw Qmw = (PI)t Hmw (PI) = It Hint I\u001b[39;00m\n\u001b[1;32m     55\u001b[0m proj \u001b[38;5;241m=\u001b[39m normal_mode_projection(\n\u001b[1;32m     56\u001b[0m     geo,\n\u001b[1;32m     57\u001b[0m     trans\u001b[38;5;241m=\u001b[39mtrans,\n\u001b[0;32m   (...)\u001b[0m\n\u001b[1;32m     63\u001b[0m     with_ch_rotors\u001b[38;5;241m=\u001b[39mwith_ch_rotors,\n\u001b[1;32m     64\u001b[0m )\n",
      "\u001b[0;31mTypeError\u001b[0m: unsupported operand type(s) for /: 'NoneType' and 'float'"
     ]
    }
   ],
   "source": [
    "out_str = Path(\"run.out\").read_text()\n",
    "hess = elstruct.reader.hessian(\"gaussian16\", out_str)\n",
    "geo = elstruct.reader.opt_geometry(\"gaussian16\", out_str)\n",
    "freqs, modes = automol.geom.vibrational_analysis(geo, hess)\n",
    "print(freqs)\n",
    "automol.geom.display(geo, mode=modes[:, 0])"
   ]
  },
  {
   "cell_type": "code",
   "execution_count": null,
   "id": "d603f0f9",
   "metadata": {},
   "outputs": [],
   "source": []
  }
 ],
 "metadata": {
  "kernelspec": {
   "display_name": "dev2",
   "language": "python",
   "name": "python3"
  },
  "language_info": {
   "codemirror_mode": {
    "name": "ipython",
    "version": 3
   },
   "file_extension": ".py",
   "mimetype": "text/x-python",
   "name": "python",
   "nbconvert_exporter": "python",
   "pygments_lexer": "ipython3",
   "version": "3.11.13"
  }
 },
 "nbformat": 4,
 "nbformat_minor": 5
}
