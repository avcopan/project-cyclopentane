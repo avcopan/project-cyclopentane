{
 "cells": [
  {
   "cell_type": "code",
   "execution_count": 23,
   "id": "385fc558",
   "metadata": {},
   "outputs": [],
   "source": [
    "# %\n",
    "from pathlib import Path\n",
    "import automol\n",
    "import numpy as np"
   ]
  },
  {
   "cell_type": "code",
   "execution_count": 27,
   "id": "d39df08e",
   "metadata": {},
   "outputs": [
    {
     "name": "stdout",
     "output_type": "stream",
     "text": [
      "Count: 3\n",
      "/home/avcopan/proj/project-cyclopentane/save/RXN/C5H9O/ZOCQCVFDVWWLHS/0/2/YFKPBYRVSA-N/C5H8.HO/UGZOASBOAAXKSP/0_0/1_2/UHFFFAOYSA-N/2/u-unGOU/TS/00/CONFS/rj4uSanU6dWtt/cajUkZcMgRoeX/geom.xyz\n",
      "(-115.68979800351835, 82.01580018765503, 100.3724121194992, 141.26603063816617, 189.17406158329146, 377.68343270530596, 575.5932764487131, 611.1665788338057, 737.6382767810281, 782.3083984764668, 829.5715861116993, 888.6696838894535, 926.3515179572041, 927.6439194117414, 967.8055473498218, 988.73356643772, 1052.6956449862062, 1055.2457533151353, 1119.1517160080848, 1147.1693652763354, 1228.7487797445829, 1234.2275178188097, 1300.1168084119486, 1329.2402871136283, 1340.5619556550264, 1388.0176179918817, 1456.0565803664404, 1460.8820677731603, 1487.5561442087544, 1660.0182671331643, 3031.68134559545, 3070.96801785106, 3080.9488614234224, 3104.9412456358873, 3124.231121668118, 3146.472020542133, 3221.261880624879, 3254.3751342078963, 3811.901033334255)\n"
     ]
    },
    {
     "data": {
      "application/3dmoljs_load.v0": "<div id=\"3dmolviewer_175647943409738\"  style=\"position: relative; width: 400px; height: 400px;\">\n        <p id=\"3dmolwarning_175647943409738\" style=\"background-color:#ffcccc;color:black\">3Dmol.js failed to load for some reason.  Please check your browser console for error messages.<br></p>\n        </div>\n<script>\n\nvar loadScriptAsync = function(uri){\n  return new Promise((resolve, reject) => {\n    //this is to ignore the existence of requirejs amd\n    var savedexports, savedmodule;\n    if (typeof exports !== 'undefined') savedexports = exports;\n    else exports = {}\n    if (typeof module !== 'undefined') savedmodule = module;\n    else module = {}\n\n    var tag = document.createElement('script');\n    tag.src = uri;\n    tag.async = true;\n    tag.onload = () => {\n        exports = savedexports;\n        module = savedmodule;\n        resolve();\n    };\n  var firstScriptTag = document.getElementsByTagName('script')[0];\n  firstScriptTag.parentNode.insertBefore(tag, firstScriptTag);\n});\n};\n\nif(typeof $3Dmolpromise === 'undefined') {\n$3Dmolpromise = null;\n  $3Dmolpromise = loadScriptAsync('https://cdn.jsdelivr.net/npm/3dmol@2.5.2/build/3Dmol-min.js');\n}\n\nvar viewer_175647943409738 = null;\nvar warn = document.getElementById(\"3dmolwarning_175647943409738\");\nif(warn) {\n    warn.parentNode.removeChild(warn);\n}\n$3Dmolpromise.then(function() {\nviewer_175647943409738 = $3Dmol.createViewer(document.getElementById(\"3dmolviewer_175647943409738\"),{backgroundColor:\"white\"});\nviewer_175647943409738.zoomTo();\n\tviewer_175647943409738.addModel(\"\\n  automech\\n\\n  0  0  0  0  0  0  0  0  0  0999 V3000\\nM  V30 BEGIN CTAB\\nM  V30 COUNTS 15 14 0 0 0\\nM  V30 BEGIN ATOM\\nM  V30 1 C -0.449 0.388 0.881 RAD=2 VAL=3\\nM  V30 2 C -0.131 -0.913 0.729 RAD=2 VAL=3\\nM  V30 3 H -1.223 0.765 1.550 RAD=1 VAL=1\\nM  V30 4 C 0.981 -1.097 -0.271 RAD=1 VAL=4\\nM  V30 5 H -0.643 -1.740 1.226 RAD=1 VAL=1\\nM  V30 6 C 1.557 0.326 -0.420 RAD=1 VAL=4\\nM  V30 7 H 1.732 -1.834 0.055 RAD=1 VAL=1\\nM  V30 8 H 0.575 -1.477 -1.227 RAD=1 VAL=1\\nM  V30 9 C 0.435 1.277 0.048 RAD=1 VAL=4\\nM  V30 10 H 2.430 0.433 0.243 RAD=1 VAL=1\\nM  V30 11 H 1.901 0.541 -1.442 RAD=1 VAL=1\\nM  V30 12 H 0.817 2.143 0.611 RAD=1 VAL=1\\nM  V30 13 H -0.157 1.673 -0.793 RAD=1 VAL=1\\nM  V30 14 O -2.227 0.052 -0.629 RAD=2 VAL=1\\nM  V30 15 H -1.973 -0.812 -0.992 RAD=1 VAL=1\\nM  V30 END ATOM\\nM  V30 BEGIN BOND\\nM  V30 1 1 2 5 CFG=0\\nM  V30 2 1 9 12 CFG=0\\nM  V30 3 1 4 8 CFG=0\\nM  V30 4 1 14 15 CFG=0\\nM  V30 5 1 1 2 CFG=0\\nM  V30 6 1 1 3 CFG=0\\nM  V30 7 1 4 7 CFG=0\\nM  V30 8 1 4 6 CFG=0\\nM  V30 9 1 6 11 CFG=0\\nM  V30 10 1 2 4 CFG=0\\nM  V30 11 1 6 9 CFG=0\\nM  V30 12 1 9 13 CFG=0\\nM  V30 13 1 6 10 CFG=0\\nM  V30 14 1 1 9 CFG=0\\nM  V30 END BOND\\nM  V30 END CTAB\\nM  END\\n\",\"sdf\");\n\tviewer_175647943409738.setStyle({\"stick\": {}, \"sphere\": {\"radius\": 0.3}});\n\tviewer_175647943409738.setBackgroundColor(\"0xeeeeee\");\n\tviewer_175647943409738.zoomTo();\nviewer_175647943409738.render();\n});\n</script>",
      "text/html": [
       "<div id=\"3dmolviewer_175647943409738\"  style=\"position: relative; width: 400px; height: 400px;\">\n",
       "        <p id=\"3dmolwarning_175647943409738\" style=\"background-color:#ffcccc;color:black\">3Dmol.js failed to load for some reason.  Please check your browser console for error messages.<br></p>\n",
       "        </div>\n",
       "<script>\n",
       "\n",
       "var loadScriptAsync = function(uri){\n",
       "  return new Promise((resolve, reject) => {\n",
       "    //this is to ignore the existence of requirejs amd\n",
       "    var savedexports, savedmodule;\n",
       "    if (typeof exports !== 'undefined') savedexports = exports;\n",
       "    else exports = {}\n",
       "    if (typeof module !== 'undefined') savedmodule = module;\n",
       "    else module = {}\n",
       "\n",
       "    var tag = document.createElement('script');\n",
       "    tag.src = uri;\n",
       "    tag.async = true;\n",
       "    tag.onload = () => {\n",
       "        exports = savedexports;\n",
       "        module = savedmodule;\n",
       "        resolve();\n",
       "    };\n",
       "  var firstScriptTag = document.getElementsByTagName('script')[0];\n",
       "  firstScriptTag.parentNode.insertBefore(tag, firstScriptTag);\n",
       "});\n",
       "};\n",
       "\n",
       "if(typeof $3Dmolpromise === 'undefined') {\n",
       "$3Dmolpromise = null;\n",
       "  $3Dmolpromise = loadScriptAsync('https://cdn.jsdelivr.net/npm/3dmol@2.5.2/build/3Dmol-min.js');\n",
       "}\n",
       "\n",
       "var viewer_175647943409738 = null;\n",
       "var warn = document.getElementById(\"3dmolwarning_175647943409738\");\n",
       "if(warn) {\n",
       "    warn.parentNode.removeChild(warn);\n",
       "}\n",
       "$3Dmolpromise.then(function() {\n",
       "viewer_175647943409738 = $3Dmol.createViewer(document.getElementById(\"3dmolviewer_175647943409738\"),{backgroundColor:\"white\"});\n",
       "viewer_175647943409738.zoomTo();\n",
       "\tviewer_175647943409738.addModel(\"\\n  automech\\n\\n  0  0  0  0  0  0  0  0  0  0999 V3000\\nM  V30 BEGIN CTAB\\nM  V30 COUNTS 15 14 0 0 0\\nM  V30 BEGIN ATOM\\nM  V30 1 C -0.449 0.388 0.881 RAD=2 VAL=3\\nM  V30 2 C -0.131 -0.913 0.729 RAD=2 VAL=3\\nM  V30 3 H -1.223 0.765 1.550 RAD=1 VAL=1\\nM  V30 4 C 0.981 -1.097 -0.271 RAD=1 VAL=4\\nM  V30 5 H -0.643 -1.740 1.226 RAD=1 VAL=1\\nM  V30 6 C 1.557 0.326 -0.420 RAD=1 VAL=4\\nM  V30 7 H 1.732 -1.834 0.055 RAD=1 VAL=1\\nM  V30 8 H 0.575 -1.477 -1.227 RAD=1 VAL=1\\nM  V30 9 C 0.435 1.277 0.048 RAD=1 VAL=4\\nM  V30 10 H 2.430 0.433 0.243 RAD=1 VAL=1\\nM  V30 11 H 1.901 0.541 -1.442 RAD=1 VAL=1\\nM  V30 12 H 0.817 2.143 0.611 RAD=1 VAL=1\\nM  V30 13 H -0.157 1.673 -0.793 RAD=1 VAL=1\\nM  V30 14 O -2.227 0.052 -0.629 RAD=2 VAL=1\\nM  V30 15 H -1.973 -0.812 -0.992 RAD=1 VAL=1\\nM  V30 END ATOM\\nM  V30 BEGIN BOND\\nM  V30 1 1 2 5 CFG=0\\nM  V30 2 1 9 12 CFG=0\\nM  V30 3 1 4 8 CFG=0\\nM  V30 4 1 14 15 CFG=0\\nM  V30 5 1 1 2 CFG=0\\nM  V30 6 1 1 3 CFG=0\\nM  V30 7 1 4 7 CFG=0\\nM  V30 8 1 4 6 CFG=0\\nM  V30 9 1 6 11 CFG=0\\nM  V30 10 1 2 4 CFG=0\\nM  V30 11 1 6 9 CFG=0\\nM  V30 12 1 9 13 CFG=0\\nM  V30 13 1 6 10 CFG=0\\nM  V30 14 1 1 9 CFG=0\\nM  V30 END BOND\\nM  V30 END CTAB\\nM  END\\n\",\"sdf\");\n",
       "\tviewer_175647943409738.setStyle({\"stick\": {}, \"sphere\": {\"radius\": 0.3}});\n",
       "\tviewer_175647943409738.setBackgroundColor(\"0xeeeeee\");\n",
       "\tviewer_175647943409738.zoomTo();\n",
       "viewer_175647943409738.render();\n",
       "});\n",
       "</script>"
      ]
     },
     "metadata": {},
     "output_type": "display_data"
    }
   ],
   "source": [
    "prefix = Path(\"/home/avcopan/proj/project-cyclopentane/save/RXN/C5H9O/ZOCQCVFDVWWLHS/0/2/YFKPBYRVSA-N/C5H8.HO/UGZOASBOAAXKSP/0_0/1_2/UHFFFAOYSA-N/2/u-unGOU/TS/00/CONFS\")\n",
    "geo_files = list(prefix.rglob(\"*/*/geom.xyz\"))\n",
    "print(f\"Count: {len(geo_files)}\")\n",
    "geo_file = geo_files[0]\n",
    "hess_file = geo_file.with_name(\"hess.hess\")\n",
    "print(geo_file)\n",
    "geo = automol.geom.from_xyz_string(geo_file.read_text())\n",
    "hess = np.loadtxt(hess_file)\n",
    "freqs, modes = automol.geom.vibrational_analysis(geo, hess)\n",
    "print(freqs)\n",
    "# automol.geom.display(geo, mode=modes[:,0])\n",
    "automol.geom.display(geo)"
   ]
  },
  {
   "cell_type": "code",
   "execution_count": null,
   "id": "98f3f9f3",
   "metadata": {},
   "outputs": [],
   "source": []
  }
 ],
 "metadata": {
  "jupytext": {
   "cell_metadata_filter": "-all",
   "main_language": "python",
   "notebook_metadata_filter": "-all"
  },
  "kernelspec": {
   "display_name": "dev2",
   "language": "python",
   "name": "python3"
  },
  "language_info": {
   "codemirror_mode": {
    "name": "ipython",
    "version": 3
   },
   "file_extension": ".py",
   "mimetype": "text/x-python",
   "name": "python",
   "nbconvert_exporter": "python",
   "pygments_lexer": "ipython3",
   "version": "3.11.13"
  }
 },
 "nbformat": 4,
 "nbformat_minor": 5
}
