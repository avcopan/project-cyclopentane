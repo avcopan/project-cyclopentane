{
 "cells": [
  {
   "cell_type": "code",
   "execution_count": 1,
   "id": "5e9c303a",
   "metadata": {},
   "outputs": [],
   "source": [
    "from pathlib import Path\n",
    "\n",
    "import automol\n",
    "import elstruct"
   ]
  },
  {
   "cell_type": "code",
   "execution_count": 4,
   "id": "83fecadd",
   "metadata": {},
   "outputs": [
    {
     "data": {
      "application/3dmoljs_load.v0": "<div id=\"3dmolviewer_17564882713803866\"  style=\"position: relative; width: 400px; height: 400px;\">\n        <p id=\"3dmolwarning_17564882713803866\" style=\"background-color:#ffcccc;color:black\">3Dmol.js failed to load for some reason.  Please check your browser console for error messages.<br></p>\n        </div>\n<script>\n\nvar loadScriptAsync = function(uri){\n  return new Promise((resolve, reject) => {\n    //this is to ignore the existence of requirejs amd\n    var savedexports, savedmodule;\n    if (typeof exports !== 'undefined') savedexports = exports;\n    else exports = {}\n    if (typeof module !== 'undefined') savedmodule = module;\n    else module = {}\n\n    var tag = document.createElement('script');\n    tag.src = uri;\n    tag.async = true;\n    tag.onload = () => {\n        exports = savedexports;\n        module = savedmodule;\n        resolve();\n    };\n  var firstScriptTag = document.getElementsByTagName('script')[0];\n  firstScriptTag.parentNode.insertBefore(tag, firstScriptTag);\n});\n};\n\nif(typeof $3Dmolpromise === 'undefined') {\n$3Dmolpromise = null;\n  $3Dmolpromise = loadScriptAsync('https://cdn.jsdelivr.net/npm/3dmol@2.5.2/build/3Dmol-min.js');\n}\n\nvar viewer_17564882713803866 = null;\nvar warn = document.getElementById(\"3dmolwarning_17564882713803866\");\nif(warn) {\n    warn.parentNode.removeChild(warn);\n}\n$3Dmolpromise.then(function() {\nviewer_17564882713803866 = $3Dmol.createViewer(document.getElementById(\"3dmolviewer_17564882713803866\"),{backgroundColor:\"white\"});\nviewer_17564882713803866.zoomTo();\n\tviewer_17564882713803866.addModel(\"\\n  automech\\n\\n  0  0  0  0  0  0  0  0  0  0999 V3000\\nM  V30 BEGIN CTAB\\nM  V30 COUNTS 15 14 0 0 0\\nM  V30 BEGIN ATOM\\nM  V30 1 C 0.355 -0.675 0.904 RAD=2 VAL=3\\nM  V30 2 C 0.355 0.674 0.904 RAD=2 VAL=3\\nM  V30 3 H 1.020 -1.301 1.502 RAD=1 VAL=1\\nM  V30 4 C -0.751 1.229 0.051 RAD=1 VAL=4\\nM  V30 5 H 1.021 1.300 1.502 RAD=1 VAL=1\\nM  V30 6 C -1.226 0.000 -0.753 RAD=1 VAL=4\\nM  V30 7 H -1.548 1.641 0.696 RAD=1 VAL=1\\nM  V30 8 H -0.406 2.050 -0.595 RAD=1 VAL=1\\nM  V30 9 C -0.751 -1.229 0.050 RAD=1 VAL=4\\nM  V30 10 H -2.310 0.001 -0.934 RAD=1 VAL=1\\nM  V30 11 H -0.720 0.000 -1.728 RAD=1 VAL=1\\nM  V30 12 H -1.549 -1.641 0.695 RAD=1 VAL=1\\nM  V30 13 H -0.407 -2.050 -0.596 RAD=1 VAL=1\\nM  V30 14 O 1.806 0.000 -0.899 RAD=2 VAL=1\\nM  V30 15 H 2.563 -0.000 -0.292 RAD=1 VAL=1\\nM  V30 END ATOM\\nM  V30 BEGIN BOND\\nM  V30 1 1 2 5 CFG=0\\nM  V30 2 1 9 12 CFG=0\\nM  V30 3 1 4 8 CFG=0\\nM  V30 4 1 14 15 CFG=0\\nM  V30 5 1 1 2 CFG=0\\nM  V30 6 1 1 3 CFG=0\\nM  V30 7 1 4 7 CFG=0\\nM  V30 8 1 4 6 CFG=0\\nM  V30 9 1 6 11 CFG=0\\nM  V30 10 1 2 4 CFG=0\\nM  V30 11 1 6 9 CFG=0\\nM  V30 12 1 9 13 CFG=0\\nM  V30 13 1 6 10 CFG=0\\nM  V30 14 1 1 9 CFG=0\\nM  V30 END BOND\\nM  V30 END CTAB\\nM  END\\n\",\"sdf\");\n\tviewer_17564882713803866.setStyle({\"stick\": {}, \"sphere\": {\"radius\": 0.3}});\n\tviewer_17564882713803866.setBackgroundColor(\"0xeeeeee\");\n\tviewer_17564882713803866.zoomTo();\nviewer_17564882713803866.render();\n});\n</script>",
      "text/html": [
       "<div id=\"3dmolviewer_17564882713803866\"  style=\"position: relative; width: 400px; height: 400px;\">\n",
       "        <p id=\"3dmolwarning_17564882713803866\" style=\"background-color:#ffcccc;color:black\">3Dmol.js failed to load for some reason.  Please check your browser console for error messages.<br></p>\n",
       "        </div>\n",
       "<script>\n",
       "\n",
       "var loadScriptAsync = function(uri){\n",
       "  return new Promise((resolve, reject) => {\n",
       "    //this is to ignore the existence of requirejs amd\n",
       "    var savedexports, savedmodule;\n",
       "    if (typeof exports !== 'undefined') savedexports = exports;\n",
       "    else exports = {}\n",
       "    if (typeof module !== 'undefined') savedmodule = module;\n",
       "    else module = {}\n",
       "\n",
       "    var tag = document.createElement('script');\n",
       "    tag.src = uri;\n",
       "    tag.async = true;\n",
       "    tag.onload = () => {\n",
       "        exports = savedexports;\n",
       "        module = savedmodule;\n",
       "        resolve();\n",
       "    };\n",
       "  var firstScriptTag = document.getElementsByTagName('script')[0];\n",
       "  firstScriptTag.parentNode.insertBefore(tag, firstScriptTag);\n",
       "});\n",
       "};\n",
       "\n",
       "if(typeof $3Dmolpromise === 'undefined') {\n",
       "$3Dmolpromise = null;\n",
       "  $3Dmolpromise = loadScriptAsync('https://cdn.jsdelivr.net/npm/3dmol@2.5.2/build/3Dmol-min.js');\n",
       "}\n",
       "\n",
       "var viewer_17564882713803866 = null;\n",
       "var warn = document.getElementById(\"3dmolwarning_17564882713803866\");\n",
       "if(warn) {\n",
       "    warn.parentNode.removeChild(warn);\n",
       "}\n",
       "$3Dmolpromise.then(function() {\n",
       "viewer_17564882713803866 = $3Dmol.createViewer(document.getElementById(\"3dmolviewer_17564882713803866\"),{backgroundColor:\"white\"});\n",
       "viewer_17564882713803866.zoomTo();\n",
       "\tviewer_17564882713803866.addModel(\"\\n  automech\\n\\n  0  0  0  0  0  0  0  0  0  0999 V3000\\nM  V30 BEGIN CTAB\\nM  V30 COUNTS 15 14 0 0 0\\nM  V30 BEGIN ATOM\\nM  V30 1 C 0.355 -0.675 0.904 RAD=2 VAL=3\\nM  V30 2 C 0.355 0.674 0.904 RAD=2 VAL=3\\nM  V30 3 H 1.020 -1.301 1.502 RAD=1 VAL=1\\nM  V30 4 C -0.751 1.229 0.051 RAD=1 VAL=4\\nM  V30 5 H 1.021 1.300 1.502 RAD=1 VAL=1\\nM  V30 6 C -1.226 0.000 -0.753 RAD=1 VAL=4\\nM  V30 7 H -1.548 1.641 0.696 RAD=1 VAL=1\\nM  V30 8 H -0.406 2.050 -0.595 RAD=1 VAL=1\\nM  V30 9 C -0.751 -1.229 0.050 RAD=1 VAL=4\\nM  V30 10 H -2.310 0.001 -0.934 RAD=1 VAL=1\\nM  V30 11 H -0.720 0.000 -1.728 RAD=1 VAL=1\\nM  V30 12 H -1.549 -1.641 0.695 RAD=1 VAL=1\\nM  V30 13 H -0.407 -2.050 -0.596 RAD=1 VAL=1\\nM  V30 14 O 1.806 0.000 -0.899 RAD=2 VAL=1\\nM  V30 15 H 2.563 -0.000 -0.292 RAD=1 VAL=1\\nM  V30 END ATOM\\nM  V30 BEGIN BOND\\nM  V30 1 1 2 5 CFG=0\\nM  V30 2 1 9 12 CFG=0\\nM  V30 3 1 4 8 CFG=0\\nM  V30 4 1 14 15 CFG=0\\nM  V30 5 1 1 2 CFG=0\\nM  V30 6 1 1 3 CFG=0\\nM  V30 7 1 4 7 CFG=0\\nM  V30 8 1 4 6 CFG=0\\nM  V30 9 1 6 11 CFG=0\\nM  V30 10 1 2 4 CFG=0\\nM  V30 11 1 6 9 CFG=0\\nM  V30 12 1 9 13 CFG=0\\nM  V30 13 1 6 10 CFG=0\\nM  V30 14 1 1 9 CFG=0\\nM  V30 END BOND\\nM  V30 END CTAB\\nM  END\\n\",\"sdf\");\n",
       "\tviewer_17564882713803866.setStyle({\"stick\": {}, \"sphere\": {\"radius\": 0.3}});\n",
       "\tviewer_17564882713803866.setBackgroundColor(\"0xeeeeee\");\n",
       "\tviewer_17564882713803866.zoomTo();\n",
       "viewer_17564882713803866.render();\n",
       "});\n",
       "</script>"
      ]
     },
     "metadata": {},
     "output_type": "display_data"
    }
   ],
   "source": [
    "out_str = Path(\"run.out\").read_text()\n",
    "geo = elstruct.reader.opt_geometry(\"gaussian16\", out_str)\n",
    "automol.geom.display(geo)"
   ]
  },
  {
   "cell_type": "code",
   "execution_count": null,
   "id": "dd247b7a",
   "metadata": {},
   "outputs": [],
   "source": []
  }
 ],
 "metadata": {
  "kernelspec": {
   "display_name": "dev2",
   "language": "python",
   "name": "python3"
  },
  "language_info": {
   "codemirror_mode": {
    "name": "ipython",
    "version": 3
   },
   "file_extension": ".py",
   "mimetype": "text/x-python",
   "name": "python",
   "nbconvert_exporter": "python",
   "pygments_lexer": "ipython3",
   "version": "3.11.13"
  }
 },
 "nbformat": 4,
 "nbformat_minor": 5
}
