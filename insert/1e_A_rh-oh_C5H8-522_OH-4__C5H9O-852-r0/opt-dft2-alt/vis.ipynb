{
 "cells": [
  {
   "cell_type": "code",
   "execution_count": 1,
   "id": "ab22bdab",
   "metadata": {},
   "outputs": [],
   "source": [
    "from pathlib import Path\n",
    "\n",
    "import automol"
   ]
  },
  {
   "cell_type": "code",
   "execution_count": 2,
   "id": "37c24622",
   "metadata": {},
   "outputs": [
    {
     "data": {
      "application/3dmoljs_load.v0": "<div id=\"3dmolviewer_17567365365485914\"  style=\"position: relative; width: 400px; height: 400px;\">\n        <p id=\"3dmolwarning_17567365365485914\" style=\"background-color:#ffcccc;color:black\">3Dmol.js failed to load for some reason.  Please check your browser console for error messages.<br></p>\n        </div>\n<script>\n\nvar loadScriptAsync = function(uri){\n  return new Promise((resolve, reject) => {\n    //this is to ignore the existence of requirejs amd\n    var savedexports, savedmodule;\n    if (typeof exports !== 'undefined') savedexports = exports;\n    else exports = {}\n    if (typeof module !== 'undefined') savedmodule = module;\n    else module = {}\n\n    var tag = document.createElement('script');\n    tag.src = uri;\n    tag.async = true;\n    tag.onload = () => {\n        exports = savedexports;\n        module = savedmodule;\n        resolve();\n    };\n  var firstScriptTag = document.getElementsByTagName('script')[0];\n  firstScriptTag.parentNode.insertBefore(tag, firstScriptTag);\n});\n};\n\nif(typeof $3Dmolpromise === 'undefined') {\n$3Dmolpromise = null;\n  $3Dmolpromise = loadScriptAsync('https://cdn.jsdelivr.net/npm/3dmol@2.5.2/build/3Dmol-min.js');\n}\n\nvar viewer_17567365365485914 = null;\nvar warn = document.getElementById(\"3dmolwarning_17567365365485914\");\nif(warn) {\n    warn.parentNode.removeChild(warn);\n}\n$3Dmolpromise.then(function() {\nviewer_17567365365485914 = $3Dmol.createViewer(document.getElementById(\"3dmolviewer_17567365365485914\"),{backgroundColor:\"white\"});\nviewer_17567365365485914.zoomTo();\n\tviewer_17567365365485914.addModel(\"\\n  automech\\n\\n  0  0  0  0  0  0  0  0  0  0999 V3000\\nM  V30 BEGIN CTAB\\nM  V30 COUNTS 15 14 0 0 0\\nM  V30 BEGIN ATOM\\nM  V30 1 C 0.000 0.000 0.000 RAD=2 VAL=3\\nM  V30 2 C 0.000 0.000 1.348 RAD=2 VAL=3\\nM  V30 3 H 0.000 0.895 -0.622 RAD=1 VAL=1\\nM  V30 4 C 0.001 -1.402 1.901 RAD=1 VAL=4\\nM  V30 5 H -0.045 0.897 1.969 RAD=1 VAL=1\\nM  V30 6 C 0.393 -2.260 0.679 RAD=1 VAL=4\\nM  V30 7 H 0.688 -1.526 2.752 RAD=1 VAL=1\\nM  V30 8 H -1.005 -1.663 2.279 RAD=1 VAL=1\\nM  V30 9 C 0.055 -1.398 -0.556 RAD=1 VAL=4\\nM  V30 10 H 1.476 -2.453 0.707 RAD=1 VAL=1\\nM  V30 11 H -0.109 -3.238 0.668 RAD=1 VAL=1\\nM  V30 12 H 0.794 -1.504 -1.365 RAD=1 VAL=1\\nM  V30 13 H -0.930 -1.646 -0.982 RAD=1 VAL=1\\nM  V30 14 O -2.334 0.317 0.075 RAD=2 VAL=1\\nM  V30 15 H -2.498 0.111 1.010 RAD=1 VAL=1\\nM  V30 END ATOM\\nM  V30 BEGIN BOND\\nM  V30 1 1 2 5 CFG=0\\nM  V30 2 1 9 12 CFG=0\\nM  V30 3 1 4 8 CFG=0\\nM  V30 4 1 14 15 CFG=0\\nM  V30 5 1 1 2 CFG=0\\nM  V30 6 1 1 3 CFG=0\\nM  V30 7 1 4 7 CFG=0\\nM  V30 8 1 4 6 CFG=0\\nM  V30 9 1 6 11 CFG=0\\nM  V30 10 1 2 4 CFG=0\\nM  V30 11 1 6 9 CFG=0\\nM  V30 12 1 9 13 CFG=0\\nM  V30 13 1 6 10 CFG=0\\nM  V30 14 1 1 9 CFG=0\\nM  V30 END BOND\\nM  V30 END CTAB\\nM  END\\n\",\"sdf\");\n\tviewer_17567365365485914.setStyle({\"stick\": {}, \"sphere\": {\"radius\": 0.3}});\n\tviewer_17567365365485914.setBackgroundColor(\"0xeeeeee\");\n\tviewer_17567365365485914.zoomTo();\nviewer_17567365365485914.render();\n});\n</script>",
      "text/html": [
       "<div id=\"3dmolviewer_17567365365485914\"  style=\"position: relative; width: 400px; height: 400px;\">\n",
       "        <p id=\"3dmolwarning_17567365365485914\" style=\"background-color:#ffcccc;color:black\">3Dmol.js failed to load for some reason.  Please check your browser console for error messages.<br></p>\n",
       "        </div>\n",
       "<script>\n",
       "\n",
       "var loadScriptAsync = function(uri){\n",
       "  return new Promise((resolve, reject) => {\n",
       "    //this is to ignore the existence of requirejs amd\n",
       "    var savedexports, savedmodule;\n",
       "    if (typeof exports !== 'undefined') savedexports = exports;\n",
       "    else exports = {}\n",
       "    if (typeof module !== 'undefined') savedmodule = module;\n",
       "    else module = {}\n",
       "\n",
       "    var tag = document.createElement('script');\n",
       "    tag.src = uri;\n",
       "    tag.async = true;\n",
       "    tag.onload = () => {\n",
       "        exports = savedexports;\n",
       "        module = savedmodule;\n",
       "        resolve();\n",
       "    };\n",
       "  var firstScriptTag = document.getElementsByTagName('script')[0];\n",
       "  firstScriptTag.parentNode.insertBefore(tag, firstScriptTag);\n",
       "});\n",
       "};\n",
       "\n",
       "if(typeof $3Dmolpromise === 'undefined') {\n",
       "$3Dmolpromise = null;\n",
       "  $3Dmolpromise = loadScriptAsync('https://cdn.jsdelivr.net/npm/3dmol@2.5.2/build/3Dmol-min.js');\n",
       "}\n",
       "\n",
       "var viewer_17567365365485914 = null;\n",
       "var warn = document.getElementById(\"3dmolwarning_17567365365485914\");\n",
       "if(warn) {\n",
       "    warn.parentNode.removeChild(warn);\n",
       "}\n",
       "$3Dmolpromise.then(function() {\n",
       "viewer_17567365365485914 = $3Dmol.createViewer(document.getElementById(\"3dmolviewer_17567365365485914\"),{backgroundColor:\"white\"});\n",
       "viewer_17567365365485914.zoomTo();\n",
       "\tviewer_17567365365485914.addModel(\"\\n  automech\\n\\n  0  0  0  0  0  0  0  0  0  0999 V3000\\nM  V30 BEGIN CTAB\\nM  V30 COUNTS 15 14 0 0 0\\nM  V30 BEGIN ATOM\\nM  V30 1 C 0.000 0.000 0.000 RAD=2 VAL=3\\nM  V30 2 C 0.000 0.000 1.348 RAD=2 VAL=3\\nM  V30 3 H 0.000 0.895 -0.622 RAD=1 VAL=1\\nM  V30 4 C 0.001 -1.402 1.901 RAD=1 VAL=4\\nM  V30 5 H -0.045 0.897 1.969 RAD=1 VAL=1\\nM  V30 6 C 0.393 -2.260 0.679 RAD=1 VAL=4\\nM  V30 7 H 0.688 -1.526 2.752 RAD=1 VAL=1\\nM  V30 8 H -1.005 -1.663 2.279 RAD=1 VAL=1\\nM  V30 9 C 0.055 -1.398 -0.556 RAD=1 VAL=4\\nM  V30 10 H 1.476 -2.453 0.707 RAD=1 VAL=1\\nM  V30 11 H -0.109 -3.238 0.668 RAD=1 VAL=1\\nM  V30 12 H 0.794 -1.504 -1.365 RAD=1 VAL=1\\nM  V30 13 H -0.930 -1.646 -0.982 RAD=1 VAL=1\\nM  V30 14 O -2.334 0.317 0.075 RAD=2 VAL=1\\nM  V30 15 H -2.498 0.111 1.010 RAD=1 VAL=1\\nM  V30 END ATOM\\nM  V30 BEGIN BOND\\nM  V30 1 1 2 5 CFG=0\\nM  V30 2 1 9 12 CFG=0\\nM  V30 3 1 4 8 CFG=0\\nM  V30 4 1 14 15 CFG=0\\nM  V30 5 1 1 2 CFG=0\\nM  V30 6 1 1 3 CFG=0\\nM  V30 7 1 4 7 CFG=0\\nM  V30 8 1 4 6 CFG=0\\nM  V30 9 1 6 11 CFG=0\\nM  V30 10 1 2 4 CFG=0\\nM  V30 11 1 6 9 CFG=0\\nM  V30 12 1 9 13 CFG=0\\nM  V30 13 1 6 10 CFG=0\\nM  V30 14 1 1 9 CFG=0\\nM  V30 END BOND\\nM  V30 END CTAB\\nM  END\\n\",\"sdf\");\n",
       "\tviewer_17567365365485914.setStyle({\"stick\": {}, \"sphere\": {\"radius\": 0.3}});\n",
       "\tviewer_17567365365485914.setBackgroundColor(\"0xeeeeee\");\n",
       "\tviewer_17567365365485914.zoomTo();\n",
       "viewer_17567365365485914.render();\n",
       "});\n",
       "</script>"
      ]
     },
     "metadata": {},
     "output_type": "display_data"
    }
   ],
   "source": [
    "zma_file = Path(\"init.zmat\")\n",
    "zma = automol.zmat.from_string(zma_file.read_text())\n",
    "automol.zmat.display(zma)"
   ]
  }
 ],
 "metadata": {
  "kernelspec": {
   "display_name": "dev2",
   "language": "python",
   "name": "python3"
  },
  "language_info": {
   "codemirror_mode": {
    "name": "ipython",
    "version": 3
   },
   "file_extension": ".py",
   "mimetype": "text/x-python",
   "name": "python",
   "nbconvert_exporter": "python",
   "pygments_lexer": "ipython3",
   "version": "3.11.13"
  }
 },
 "nbformat": 4,
 "nbformat_minor": 5
}
