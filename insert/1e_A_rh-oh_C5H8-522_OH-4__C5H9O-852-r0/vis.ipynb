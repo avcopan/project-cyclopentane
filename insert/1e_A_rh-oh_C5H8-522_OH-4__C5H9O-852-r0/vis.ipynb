{
 "cells": [
  {
   "cell_type": "code",
   "execution_count": null,
   "id": "17edd133",
   "metadata": {},
   "outputs": [],
   "source": [
    "# %\n",
    "from pathlib import Path\n",
    "import automol"
   ]
  },
  {
   "cell_type": "code",
   "execution_count": null,
   "id": "7613ed22",
   "metadata": {},
   "outputs": [],
   "source": [
    "geo_file = Path(\"/home/avcopan/proj/project-cyclopentane/save/RXN/C5H9O/ZOCQCVFDVWWLHS/0/2/YFKPBYRVSA-N/C5H8.HO/UGZOASBOAAXKSP/0_0/1_2/UHFFFAOYSA-N/2/u-unGOU/TS/00/CONFS/conf.t.xyz\")\n",
    "geo = automol.geom.from_xyz_string(geo_file.read_text())\n",
    "automol.geom.display(geo)"
   ]
  }
 ],
 "metadata": {
  "jupytext": {
   "cell_metadata_filter": "-all",
   "main_language": "python",
   "notebook_metadata_filter": "-all"
  }
 },
 "nbformat": 4,
 "nbformat_minor": 5
}
