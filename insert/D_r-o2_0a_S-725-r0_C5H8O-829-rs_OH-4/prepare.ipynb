{
 "cells": [
  {
   "cell_type": "code",
   "execution_count": 1,
   "id": "ab37446c",
   "metadata": {},
   "outputs": [],
   "source": [
    "from pathlib import Path\n",
    "import automol\n",
    "\n",
    "ade_path = Path(\"autode\")"
   ]
  },
  {
   "cell_type": "code",
   "execution_count": null,
   "id": "664f36fb",
   "metadata": {},
   "outputs": [
    {
     "data": {
      "application/3dmoljs_load.v0": "<div id=\"3dmolviewer_17480249806686535\"  style=\"position: relative; width: 400px; height: 400px;\">\n        <p id=\"3dmolwarning_17480249806686535\" style=\"background-color:#ffcccc;color:black\">3Dmol.js failed to load for some reason.  Please check your browser console for error messages.<br></p>\n        </div>\n<script>\n\nvar loadScriptAsync = function(uri){\n  return new Promise((resolve, reject) => {\n    //this is to ignore the existence of requirejs amd\n    var savedexports, savedmodule;\n    if (typeof exports !== 'undefined') savedexports = exports;\n    else exports = {}\n    if (typeof module !== 'undefined') savedmodule = module;\n    else module = {}\n\n    var tag = document.createElement('script');\n    tag.src = uri;\n    tag.async = true;\n    tag.onload = () => {\n        exports = savedexports;\n        module = savedmodule;\n        resolve();\n    };\n  var firstScriptTag = document.getElementsByTagName('script')[0];\n  firstScriptTag.parentNode.insertBefore(tag, firstScriptTag);\n});\n};\n\nif(typeof $3Dmolpromise === 'undefined') {\n$3Dmolpromise = null;\n  $3Dmolpromise = loadScriptAsync('https://cdnjs.cloudflare.com/ajax/libs/3Dmol/2.4.2/3Dmol-min.js');\n}\n\nvar viewer_17480249806686535 = null;\nvar warn = document.getElementById(\"3dmolwarning_17480249806686535\");\nif(warn) {\n    warn.parentNode.removeChild(warn);\n}\n$3Dmolpromise.then(function() {\nviewer_17480249806686535 = $3Dmol.createViewer(document.getElementById(\"3dmolviewer_17480249806686535\"),{backgroundColor:\"white\"});\nviewer_17480249806686535.zoomTo();\n\tviewer_17480249806686535.addModel(\"\\n  automech\\n\\n  0  0  0  0  0  0  0  0  0  0999 V3000\\nM  V30 BEGIN CTAB\\nM  V30 COUNTS 16 16 0 0 0\\nM  V30 BEGIN ATOM\\nM  V30 1 O 2.558 -0.147 0.759 RAD=1 VAL=2\\nM  V30 2 O 0.899 -0.580 0.809 RAD=1 VAL=2\\nM  V30 3 C 0.564 -0.498 -0.577 RAD=1 VAL=4\\nM  V30 4 C -0.758 -1.235 -0.428 RAD=1 VAL=4\\nM  V30 5 C -1.087 -0.334 0.726 RAD=2 VAL=3\\nM  V30 6 C -0.947 1.088 0.273 RAD=1 VAL=4\\nM  V30 7 C 0.164 0.959 -0.801 RAD=1 VAL=4\\nM  V30 8 H 2.672 -0.244 1.715 RAD=1 VAL=1\\nM  V30 9 H 1.362 -0.905 -1.214 RAD=1 VAL=1\\nM  V30 10 H -0.620 -2.286 -0.143 RAD=1 VAL=1\\nM  V30 11 H -1.451 -1.160 -1.288 RAD=1 VAL=1\\nM  V30 12 H -1.609 -0.636 1.638 RAD=1 VAL=1\\nM  V30 13 H -0.671 1.754 1.104 RAD=1 VAL=1\\nM  V30 14 H -1.897 1.469 -0.145 RAD=1 VAL=1\\nM  V30 15 H 1.021 1.615 -0.604 RAD=1 VAL=1\\nM  V30 16 H -0.200 1.141 -1.824 RAD=1 VAL=1\\nM  V30 END ATOM\\nM  V30 BEGIN BOND\\nM  V30 1 1 7 16 CFG=0\\nM  V30 2 1 3 9 CFG=0\\nM  V30 3 1 4 5 CFG=0\\nM  V30 4 1 3 4 CFG=0\\nM  V30 5 1 4 10 CFG=0\\nM  V30 6 1 2 3 CFG=0\\nM  V30 7 1 3 7 CFG=0\\nM  V30 8 1 5 6 CFG=0\\nM  V30 9 1 1 2 CFG=0\\nM  V30 10 1 6 13 CFG=0\\nM  V30 11 1 7 15 CFG=0\\nM  V30 12 1 4 11 CFG=0\\nM  V30 13 1 6 7 CFG=0\\nM  V30 14 1 5 12 CFG=0\\nM  V30 15 1 6 14 CFG=0\\nM  V30 16 1 1 8 CFG=0\\nM  V30 END BOND\\nM  V30 END CTAB\\nM  END\\n\",\"sdf\");\n\tviewer_17480249806686535.setStyle({\"stick\": {}, \"sphere\": {\"radius\": 0.3}});\n\tviewer_17480249806686535.setBackgroundColor(\"0xeeeeee\");\n\tviewer_17480249806686535.zoomTo();\n\tviewer_17480249806686535.addArrow({\"start\": {\"x\": 0.89919441545217, \"y\": -0.57981940213396, \"z\": 0.80912472481614}, \"end\": {\"x\": -0.06795601900256054, \"y\": -0.8323620134229937, \"z\": 0.8381465548298002}, \"color\": \"black\"});\n\tviewer_17480249806686535.zoomTo();\n\tviewer_17480249806686535.addArrow({\"start\": {\"x\": -1.08711244668639, \"y\": -0.33396465334985, \"z\": 0.72606241760587}, \"end\": {\"x\": -0.16518194164442124, \"y\": -0.37523808248859747, \"z\": 1.1112125804257622}, \"color\": \"black\"});\n\tviewer_17480249806686535.zoomTo();\nviewer_17480249806686535.render();\n});\n</script>",
      "text/html": [
       "<div id=\"3dmolviewer_17480249806686535\"  style=\"position: relative; width: 400px; height: 400px;\">\n",
       "        <p id=\"3dmolwarning_17480249806686535\" style=\"background-color:#ffcccc;color:black\">3Dmol.js failed to load for some reason.  Please check your browser console for error messages.<br></p>\n",
       "        </div>\n",
       "<script>\n",
       "\n",
       "var loadScriptAsync = function(uri){\n",
       "  return new Promise((resolve, reject) => {\n",
       "    //this is to ignore the existence of requirejs amd\n",
       "    var savedexports, savedmodule;\n",
       "    if (typeof exports !== 'undefined') savedexports = exports;\n",
       "    else exports = {}\n",
       "    if (typeof module !== 'undefined') savedmodule = module;\n",
       "    else module = {}\n",
       "\n",
       "    var tag = document.createElement('script');\n",
       "    tag.src = uri;\n",
       "    tag.async = true;\n",
       "    tag.onload = () => {\n",
       "        exports = savedexports;\n",
       "        module = savedmodule;\n",
       "        resolve();\n",
       "    };\n",
       "  var firstScriptTag = document.getElementsByTagName('script')[0];\n",
       "  firstScriptTag.parentNode.insertBefore(tag, firstScriptTag);\n",
       "});\n",
       "};\n",
       "\n",
       "if(typeof $3Dmolpromise === 'undefined') {\n",
       "$3Dmolpromise = null;\n",
       "  $3Dmolpromise = loadScriptAsync('https://cdnjs.cloudflare.com/ajax/libs/3Dmol/2.4.2/3Dmol-min.js');\n",
       "}\n",
       "\n",
       "var viewer_17480249806686535 = null;\n",
       "var warn = document.getElementById(\"3dmolwarning_17480249806686535\");\n",
       "if(warn) {\n",
       "    warn.parentNode.removeChild(warn);\n",
       "}\n",
       "$3Dmolpromise.then(function() {\n",
       "viewer_17480249806686535 = $3Dmol.createViewer(document.getElementById(\"3dmolviewer_17480249806686535\"),{backgroundColor:\"white\"});\n",
       "viewer_17480249806686535.zoomTo();\n",
       "\tviewer_17480249806686535.addModel(\"\\n  automech\\n\\n  0  0  0  0  0  0  0  0  0  0999 V3000\\nM  V30 BEGIN CTAB\\nM  V30 COUNTS 16 16 0 0 0\\nM  V30 BEGIN ATOM\\nM  V30 1 O 2.558 -0.147 0.759 RAD=1 VAL=2\\nM  V30 2 O 0.899 -0.580 0.809 RAD=1 VAL=2\\nM  V30 3 C 0.564 -0.498 -0.577 RAD=1 VAL=4\\nM  V30 4 C -0.758 -1.235 -0.428 RAD=1 VAL=4\\nM  V30 5 C -1.087 -0.334 0.726 RAD=2 VAL=3\\nM  V30 6 C -0.947 1.088 0.273 RAD=1 VAL=4\\nM  V30 7 C 0.164 0.959 -0.801 RAD=1 VAL=4\\nM  V30 8 H 2.672 -0.244 1.715 RAD=1 VAL=1\\nM  V30 9 H 1.362 -0.905 -1.214 RAD=1 VAL=1\\nM  V30 10 H -0.620 -2.286 -0.143 RAD=1 VAL=1\\nM  V30 11 H -1.451 -1.160 -1.288 RAD=1 VAL=1\\nM  V30 12 H -1.609 -0.636 1.638 RAD=1 VAL=1\\nM  V30 13 H -0.671 1.754 1.104 RAD=1 VAL=1\\nM  V30 14 H -1.897 1.469 -0.145 RAD=1 VAL=1\\nM  V30 15 H 1.021 1.615 -0.604 RAD=1 VAL=1\\nM  V30 16 H -0.200 1.141 -1.824 RAD=1 VAL=1\\nM  V30 END ATOM\\nM  V30 BEGIN BOND\\nM  V30 1 1 7 16 CFG=0\\nM  V30 2 1 3 9 CFG=0\\nM  V30 3 1 4 5 CFG=0\\nM  V30 4 1 3 4 CFG=0\\nM  V30 5 1 4 10 CFG=0\\nM  V30 6 1 2 3 CFG=0\\nM  V30 7 1 3 7 CFG=0\\nM  V30 8 1 5 6 CFG=0\\nM  V30 9 1 1 2 CFG=0\\nM  V30 10 1 6 13 CFG=0\\nM  V30 11 1 7 15 CFG=0\\nM  V30 12 1 4 11 CFG=0\\nM  V30 13 1 6 7 CFG=0\\nM  V30 14 1 5 12 CFG=0\\nM  V30 15 1 6 14 CFG=0\\nM  V30 16 1 1 8 CFG=0\\nM  V30 END BOND\\nM  V30 END CTAB\\nM  END\\n\",\"sdf\");\n",
       "\tviewer_17480249806686535.setStyle({\"stick\": {}, \"sphere\": {\"radius\": 0.3}});\n",
       "\tviewer_17480249806686535.setBackgroundColor(\"0xeeeeee\");\n",
       "\tviewer_17480249806686535.zoomTo();\n",
       "\tviewer_17480249806686535.addArrow({\"start\": {\"x\": 0.89919441545217, \"y\": -0.57981940213396, \"z\": 0.80912472481614}, \"end\": {\"x\": -0.06795601900256054, \"y\": -0.8323620134229937, \"z\": 0.8381465548298002}, \"color\": \"black\"});\n",
       "\tviewer_17480249806686535.zoomTo();\n",
       "\tviewer_17480249806686535.addArrow({\"start\": {\"x\": -1.08711244668639, \"y\": -0.33396465334985, \"z\": 0.72606241760587}, \"end\": {\"x\": -0.16518194164442124, \"y\": -0.37523808248859747, \"z\": 1.1112125804257622}, \"color\": \"black\"});\n",
       "\tviewer_17480249806686535.zoomTo();\n",
       "viewer_17480249806686535.render();\n",
       "});\n",
       "</script>"
      ]
     },
     "metadata": {},
     "output_type": "display_data"
    },
    {
     "data": {
      "application/vnd.jupyter.widget-view+json": {
       "model_id": "b6b84cf09063445ca0964f482366391d",
       "version_major": 2,
       "version_minor": 0
      },
      "text/plain": [
       "HBox(children=(Image(value=b\"<?xml version='1.0' encoding='iso-8859-1...\", format='svg+xml', height='300', wid…"
      ]
     },
     "metadata": {},
     "output_type": "display_data"
    }
   ],
   "source": [
    "# Read geometry and prepare TS graph\n",
    "geo = automol.geom.from_xyz_string((ade_path / \"geom.xyz\").read_text())\n",
    "gra = automol.geom.graph(geo)\n",
    "gra = automol.graph.ts_graph(gra, frm_bnd_keys=[(1, 4)], brk_bnd_keys=[(0, 1)])\n",
    "gra = automol.graph.set_stereo_from_geometry(gra, geo)\n",
    "automol.geom.display(geo, gra=gra)\n",
    "automol.graph.display(gra, label=True)"
   ]
  },
  {
   "cell_type": "code",
   "execution_count": null,
   "id": "c7c9b916",
   "metadata": {},
   "outputs": [
    {
     "data": {
      "application/vnd.jupyter.widget-view+json": {
       "model_id": "17c34cf1c2a64971a46c0adba80f9a5b",
       "version_major": 2,
       "version_minor": 0
      },
      "text/plain": [
       "HBox(children=(Image(value=b\"<?xml version='1.0' encoding='iso-8859-1...\", format='svg+xml', height='300', wid…"
      ]
     },
     "metadata": {},
     "output_type": "display_data"
    }
   ],
   "source": [
    "# Build reaction object\n",
    "rcts_gra = automol.graph.ts.reactants_graph(gra, stereo=False)\n",
    "prds_gra = automol.graph.ts.products_graph(gra, stereo=False)\n",
    "rcts_keys = sorted(list(map(sorted, automol.graph.connected_components_atom_keys(rcts_gra))))\n",
    "prds_keys = sorted(list(map(sorted, automol.graph.connected_components_atom_keys(prds_gra))))\n",
    "rxn = automol.reac.from_data(\n",
    "    tsg=gra,\n",
    "    rcts_keys=rcts_keys,\n",
    "    prds_keys=prds_keys,\n",
    "    cla=automol.const.ReactionClass.RING_FORM_SCISSION,\n",
    ")\n",
    "automol.reac.display(rxn)"
   ]
  },
  {
   "cell_type": "code",
   "execution_count": 4,
   "id": "de28ba3a",
   "metadata": {},
   "outputs": [
    {
     "ename": "AttributeError",
     "evalue": "Cannot set unknown attribute 'maxAttempts'",
     "output_type": "error",
     "traceback": [
      "\u001b[0;31m---------------------------------------------------------------------------\u001b[0m",
      "\u001b[0;31mAttributeError\u001b[0m                            Traceback (most recent call last)",
      "Cell \u001b[0;32mIn[4], line 2\u001b[0m\n\u001b[1;32m      1\u001b[0m \u001b[38;5;66;03m# Update reaction object structure\u001b[39;00m\n\u001b[0;32m----> 2\u001b[0m grxn \u001b[38;5;241m=\u001b[39m \u001b[43mautomol\u001b[49m\u001b[38;5;241;43m.\u001b[39;49m\u001b[43mreac\u001b[49m\u001b[38;5;241;43m.\u001b[39;49m\u001b[43mwith_structures\u001b[49m\u001b[43m(\u001b[49m\u001b[43mrxn\u001b[49m\u001b[43m,\u001b[49m\u001b[43m \u001b[49m\u001b[38;5;124;43m\"\u001b[39;49m\u001b[38;5;124;43mgeom\u001b[39;49m\u001b[38;5;124;43m\"\u001b[39;49m\u001b[43m)\u001b[49m\n\u001b[1;32m      3\u001b[0m grxn \u001b[38;5;241m=\u001b[39m automol\u001b[38;5;241m.\u001b[39mreac\u001b[38;5;241m.\u001b[39mupdate_structures(grxn, ts_struc\u001b[38;5;241m=\u001b[39mgeo)\n\u001b[1;32m      5\u001b[0m geo \u001b[38;5;241m=\u001b[39m automol\u001b[38;5;241m.\u001b[39mreac\u001b[38;5;241m.\u001b[39mts_structure(grxn)\n",
      "File \u001b[0;32m/lcrc/project/PACC/copan/amech-dev/src/autochem/automol/reac/_4struc.py:116\u001b[0m, in \u001b[0;36mwith_structures\u001b[0;34m(rxn, struc_typ, ignore_zc, rct_strucs, prd_strucs, rct_zcs, prd_zcs, log)\u001b[0m\n\u001b[1;32m    113\u001b[0m \u001b[38;5;66;03m# If this Reaction object doesn't have structures, or we are updating a Reaction\u001b[39;00m\n\u001b[1;32m    114\u001b[0m \u001b[38;5;66;03m# object with new reagent structures, add the requested structure type\u001b[39;00m\n\u001b[1;32m    115\u001b[0m \u001b[38;5;28;01melif\u001b[39;00m struc_typ \u001b[38;5;241m==\u001b[39m \u001b[38;5;124m\"\u001b[39m\u001b[38;5;124mgeom\u001b[39m\u001b[38;5;124m\"\u001b[39m \u001b[38;5;129;01mand\u001b[39;00m (orig_struc_typ \u001b[38;5;129;01mis\u001b[39;00m \u001b[38;5;28;01mNone\u001b[39;00m \u001b[38;5;129;01mor\u001b[39;00m new_strucs):\n\u001b[0;32m--> 116\u001b[0m     rxn \u001b[38;5;241m=\u001b[39m \u001b[43m_with_geom_structures\u001b[49m\u001b[43m(\u001b[49m\n\u001b[1;32m    117\u001b[0m \u001b[43m        \u001b[49m\u001b[43mrxn\u001b[49m\u001b[43m,\u001b[49m\n\u001b[1;32m    118\u001b[0m \u001b[43m        \u001b[49m\u001b[43mrct_geos\u001b[49m\u001b[38;5;241;43m=\u001b[39;49m\u001b[43mrct_strucs\u001b[49m\u001b[43m,\u001b[49m\n\u001b[1;32m    119\u001b[0m \u001b[43m        \u001b[49m\u001b[43mprd_geos\u001b[49m\u001b[38;5;241;43m=\u001b[39;49m\u001b[43mprd_strucs\u001b[49m\u001b[43m,\u001b[49m\n\u001b[1;32m    120\u001b[0m \u001b[43m        \u001b[49m\u001b[43mrct_zcs\u001b[49m\u001b[38;5;241;43m=\u001b[39;49m\u001b[43mrct_zcs\u001b[49m\u001b[43m,\u001b[49m\n\u001b[1;32m    121\u001b[0m \u001b[43m        \u001b[49m\u001b[43mprd_zcs\u001b[49m\u001b[38;5;241;43m=\u001b[39;49m\u001b[43mprd_zcs\u001b[49m\u001b[43m,\u001b[49m\n\u001b[1;32m    122\u001b[0m \u001b[43m        \u001b[49m\u001b[43mlog\u001b[49m\u001b[38;5;241;43m=\u001b[39;49m\u001b[43mlog\u001b[49m\u001b[43m,\u001b[49m\n\u001b[1;32m    123\u001b[0m \u001b[43m    \u001b[49m\u001b[43m)\u001b[49m\n\u001b[1;32m    124\u001b[0m \u001b[38;5;28;01melif\u001b[39;00m struc_typ \u001b[38;5;241m==\u001b[39m \u001b[38;5;124m\"\u001b[39m\u001b[38;5;124mzmat\u001b[39m\u001b[38;5;124m\"\u001b[39m \u001b[38;5;129;01mand\u001b[39;00m (orig_struc_typ \u001b[38;5;129;01mis\u001b[39;00m \u001b[38;5;28;01mNone\u001b[39;00m \u001b[38;5;129;01mor\u001b[39;00m new_strucs):\n\u001b[1;32m    125\u001b[0m     rxn \u001b[38;5;241m=\u001b[39m _with_zmat_structures(\n\u001b[1;32m    126\u001b[0m         rxn,\n\u001b[1;32m    127\u001b[0m         rct_zmas\u001b[38;5;241m=\u001b[39mrct_strucs,\n\u001b[0;32m   (...)\u001b[0m\n\u001b[1;32m    131\u001b[0m         log\u001b[38;5;241m=\u001b[39mlog,\n\u001b[1;32m    132\u001b[0m     )\n",
      "File \u001b[0;32m/lcrc/project/PACC/copan/amech-dev/src/autochem/automol/reac/_4struc.py:220\u001b[0m, in \u001b[0;36m_with_geom_structures\u001b[0;34m(rxn, rct_geos, prd_geos, rct_zcs, prd_zcs, log)\u001b[0m\n\u001b[1;32m    217\u001b[0m     \u001b[38;5;28mprint\u001b[39m(\u001b[38;5;124mf\u001b[39m\u001b[38;5;124m\"\u001b[39m\u001b[38;5;124mSupplied product geometries (may be None):\u001b[39m\u001b[38;5;130;01m\\n\u001b[39;00m\u001b[38;5;132;01m{\u001b[39;00mprd_geos\u001b[38;5;132;01m}\u001b[39;00m\u001b[38;5;124m\"\u001b[39m)\n\u001b[1;32m    219\u001b[0m \u001b[38;5;28;01mif\u001b[39;00m rct_geos \u001b[38;5;129;01mis\u001b[39;00m \u001b[38;5;28;01mNone\u001b[39;00m:\n\u001b[0;32m--> 220\u001b[0m     rct_geos \u001b[38;5;241m=\u001b[39m \u001b[38;5;28;43mtuple\u001b[39;49m\u001b[43m(\u001b[49m\u001b[38;5;28;43mmap\u001b[39;49m\u001b[43m(\u001b[49m\u001b[43mgraph\u001b[49m\u001b[38;5;241;43m.\u001b[39;49m\u001b[43mgeometry\u001b[49m\u001b[43m,\u001b[49m\u001b[43m \u001b[49m\u001b[43mreactant_graphs\u001b[49m\u001b[43m(\u001b[49m\u001b[43mrxn\u001b[49m\u001b[43m)\u001b[49m\u001b[43m)\u001b[49m\u001b[43m)\u001b[49m\n\u001b[1;32m    222\u001b[0m \u001b[38;5;28;01mif\u001b[39;00m prd_geos \u001b[38;5;129;01mis\u001b[39;00m \u001b[38;5;28;01mNone\u001b[39;00m:\n\u001b[1;32m    223\u001b[0m     prd_geos \u001b[38;5;241m=\u001b[39m \u001b[38;5;28mtuple\u001b[39m(\u001b[38;5;28mmap\u001b[39m(graph\u001b[38;5;241m.\u001b[39mgeometry, product_graphs(rxn)))\n",
      "File \u001b[0;32m/lcrc/project/PACC/copan/amech-dev/src/autochem/automol/graph/_2conv.py:82\u001b[0m, in \u001b[0;36mgeometry\u001b[0;34m(gra, check, log, rct_geos, geo_idx_dct)\u001b[0m\n\u001b[1;32m     79\u001b[0m gra \u001b[38;5;241m=\u001b[39m explicit(gra)\n\u001b[1;32m     80\u001b[0m gras \u001b[38;5;241m=\u001b[39m connected_components(gra)\n\u001b[0;32m---> 82\u001b[0m geos \u001b[38;5;241m=\u001b[39m \u001b[43m[\u001b[49m\u001b[43m_connected_geometry\u001b[49m\u001b[43m(\u001b[49m\u001b[43mg\u001b[49m\u001b[43m,\u001b[49m\u001b[43m \u001b[49m\u001b[43mcheck\u001b[49m\u001b[38;5;241;43m=\u001b[39;49m\u001b[43mcheck\u001b[49m\u001b[43m,\u001b[49m\u001b[43m \u001b[49m\u001b[43mlog\u001b[49m\u001b[38;5;241;43m=\u001b[39;49m\u001b[43mlog\u001b[49m\u001b[43m)\u001b[49m\u001b[43m \u001b[49m\u001b[38;5;28;43;01mfor\u001b[39;49;00m\u001b[43m \u001b[49m\u001b[43mg\u001b[49m\u001b[43m \u001b[49m\u001b[38;5;129;43;01min\u001b[39;49;00m\u001b[43m \u001b[49m\u001b[43mgras\u001b[49m\u001b[43m]\u001b[49m\n\u001b[1;32m     83\u001b[0m geos \u001b[38;5;241m=\u001b[39m [geom\u001b[38;5;241m.\u001b[39mtranslate(g, [\u001b[38;5;241m50.0\u001b[39m \u001b[38;5;241m*\u001b[39m i, \u001b[38;5;241m0.0\u001b[39m, \u001b[38;5;241m0.0\u001b[39m]) \u001b[38;5;28;01mfor\u001b[39;00m i, g \u001b[38;5;129;01min\u001b[39;00m \u001b[38;5;28menumerate\u001b[39m(geos)]\n\u001b[1;32m     84\u001b[0m geo \u001b[38;5;241m=\u001b[39m functools\u001b[38;5;241m.\u001b[39mreduce(geom\u001b[38;5;241m.\u001b[39mjoin, geos)\n",
      "File \u001b[0;32m/lcrc/project/PACC/copan/amech-dev/src/autochem/automol/graph/_2conv.py:82\u001b[0m, in \u001b[0;36m<listcomp>\u001b[0;34m(.0)\u001b[0m\n\u001b[1;32m     79\u001b[0m gra \u001b[38;5;241m=\u001b[39m explicit(gra)\n\u001b[1;32m     80\u001b[0m gras \u001b[38;5;241m=\u001b[39m connected_components(gra)\n\u001b[0;32m---> 82\u001b[0m geos \u001b[38;5;241m=\u001b[39m [\u001b[43m_connected_geometry\u001b[49m\u001b[43m(\u001b[49m\u001b[43mg\u001b[49m\u001b[43m,\u001b[49m\u001b[43m \u001b[49m\u001b[43mcheck\u001b[49m\u001b[38;5;241;43m=\u001b[39;49m\u001b[43mcheck\u001b[49m\u001b[43m,\u001b[49m\u001b[43m \u001b[49m\u001b[43mlog\u001b[49m\u001b[38;5;241;43m=\u001b[39;49m\u001b[43mlog\u001b[49m\u001b[43m)\u001b[49m \u001b[38;5;28;01mfor\u001b[39;00m g \u001b[38;5;129;01min\u001b[39;00m gras]\n\u001b[1;32m     83\u001b[0m geos \u001b[38;5;241m=\u001b[39m [geom\u001b[38;5;241m.\u001b[39mtranslate(g, [\u001b[38;5;241m50.0\u001b[39m \u001b[38;5;241m*\u001b[39m i, \u001b[38;5;241m0.0\u001b[39m, \u001b[38;5;241m0.0\u001b[39m]) \u001b[38;5;28;01mfor\u001b[39;00m i, g \u001b[38;5;129;01min\u001b[39;00m \u001b[38;5;28menumerate\u001b[39m(geos)]\n\u001b[1;32m     84\u001b[0m geo \u001b[38;5;241m=\u001b[39m functools\u001b[38;5;241m.\u001b[39mreduce(geom\u001b[38;5;241m.\u001b[39mjoin, geos)\n",
      "File \u001b[0;32m/lcrc/project/PACC/copan/amech-dev/src/autochem/automol/graph/_2conv.py:130\u001b[0m, in \u001b[0;36m_connected_geometry\u001b[0;34m(gra, check, log, ntries)\u001b[0m\n\u001b[1;32m    128\u001b[0m \u001b[38;5;28;01mtry\u001b[39;00m:\n\u001b[1;32m    129\u001b[0m     rdm \u001b[38;5;241m=\u001b[39m rdkit_\u001b[38;5;241m.\u001b[39mfrom_graph(gra, stereo\u001b[38;5;241m=\u001b[39mstereo, exp\u001b[38;5;241m=\u001b[39m\u001b[38;5;28;01mTrue\u001b[39;00m, local_stereo\u001b[38;5;241m=\u001b[39m\u001b[38;5;28;01mTrue\u001b[39;00m)\n\u001b[0;32m--> 130\u001b[0m     geo \u001b[38;5;241m=\u001b[39m \u001b[43mrdkit_\u001b[49m\u001b[38;5;241;43m.\u001b[39;49m\u001b[43mto_geometry\u001b[49m\u001b[43m(\u001b[49m\u001b[43mrdm\u001b[49m\u001b[43m,\u001b[49m\u001b[43m \u001b[49m\u001b[43mseed\u001b[49m\u001b[38;5;241;43m=\u001b[39;49m\u001b[43mseed\u001b[49m\u001b[43m)\u001b[49m\n\u001b[1;32m    131\u001b[0m \u001b[38;5;28;01mexcept\u001b[39;00m \u001b[38;5;167;01mValueError\u001b[39;00m:\n\u001b[1;32m    132\u001b[0m     rdm \u001b[38;5;241m=\u001b[39m rdkit_\u001b[38;5;241m.\u001b[39mfrom_graph(gra, stereo\u001b[38;5;241m=\u001b[39m\u001b[38;5;28;01mFalse\u001b[39;00m, exp\u001b[38;5;241m=\u001b[39m\u001b[38;5;28;01mTrue\u001b[39;00m)\n",
      "File \u001b[0;32m/lcrc/project/PACC/copan/amech-dev/src/autochem/automol/extern/rdkit_.py:149\u001b[0m, in \u001b[0;36mto_geometry\u001b[0;34m(rdm, seed)\u001b[0m\n\u001b[1;32m    147\u001b[0m ps \u001b[38;5;241m=\u001b[39m rdDistGeom\u001b[38;5;241m.\u001b[39mETKDGv3()\n\u001b[1;32m    148\u001b[0m ps\u001b[38;5;241m.\u001b[39mrandomSeed \u001b[38;5;241m=\u001b[39m seed\n\u001b[0;32m--> 149\u001b[0m \u001b[43mps\u001b[49m\u001b[38;5;241;43m.\u001b[39;49m\u001b[43mmaxAttempts\u001b[49m \u001b[38;5;241m=\u001b[39m \u001b[38;5;241m10000\u001b[39m\n\u001b[1;32m    151\u001b[0m ret \u001b[38;5;241m=\u001b[39m AllChem\u001b[38;5;241m.\u001b[39mEmbedMolecule(rdm, ps)\n\u001b[1;32m    152\u001b[0m \u001b[38;5;28;01mif\u001b[39;00m ret \u001b[38;5;241m<\u001b[39m \u001b[38;5;241m0\u001b[39m:\n",
      "\u001b[0;31mAttributeError\u001b[0m: Cannot set unknown attribute 'maxAttempts'"
     ]
    }
   ],
   "source": [
    "# Update reaction object structure\n",
    "grxn = automol.reac.with_structures(rxn, \"geom\")\n",
    "grxn = automol.reac.update_structures(grxn, ts_struc=geo)\n",
    "\n",
    "geo = automol.reac.ts_structure(grxn)\n",
    "ggra = automol.reac.ts_graph(grxn)\n",
    "automol.graph.display(ggra, label=True)\n",
    "automol.geom.display(geo, gra=ggra)"
   ]
  },
  {
   "cell_type": "code",
   "execution_count": null,
   "id": "b6d14771",
   "metadata": {},
   "outputs": [],
   "source": []
  }
 ],
 "metadata": {
  "kernelspec": {
   "display_name": "proto",
   "language": "python",
   "name": "python3"
  },
  "language_info": {
   "codemirror_mode": {
    "name": "ipython",
    "version": 3
   },
   "file_extension": ".py",
   "mimetype": "text/x-python",
   "name": "python",
   "nbconvert_exporter": "python",
   "pygments_lexer": "ipython3",
   "version": "3.11.12"
  }
 },
 "nbformat": 4,
 "nbformat_minor": 5
}
