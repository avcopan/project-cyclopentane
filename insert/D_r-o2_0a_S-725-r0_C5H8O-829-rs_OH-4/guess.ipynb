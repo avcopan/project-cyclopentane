{
 "cells": [
  {
   "cell_type": "code",
   "execution_count": 1,
   "id": "ab37446c",
   "metadata": {},
   "outputs": [],
   "source": [
    "from pathlib import Path\n",
    "\n",
    "import automol\n",
    "\n",
    "ade_path = Path(\"autode\")\n",
    "opt_path = Path(\"opt\")\n",
    "geo_name = Path(\"geom.xyz\")\n",
    "zma_name = Path(\"geom.zmat\")\n",
    "ene_name = Path(\"sp.ene\")\n",
    "zrxn_name = Path(\"zmat.r.yaml\")"
   ]
  },
  {
   "cell_type": "code",
   "execution_count": 2,
   "id": "664f36fb",
   "metadata": {},
   "outputs": [],
   "source": [
    "# Read geometry and prepare TS graph\n",
    "geo = automol.geom.from_xyz_string((ade_path / geo_name).read_text())\n",
    "gra = automol.geom.graph(geo)\n",
    "gra = automol.graph.ts_graph(gra, frm_bnd_keys=[(1, 4)], brk_bnd_keys=[(0, 1)])\n",
    "gra = automol.graph.set_stereo_from_geometry(gra, geo)"
   ]
  },
  {
   "cell_type": "code",
   "execution_count": 3,
   "id": "c7c9b916",
   "metadata": {},
   "outputs": [],
   "source": [
    "# Build reaction object\n",
    "rcts_gra = automol.graph.ts.reactants_graph(gra, stereo=False)\n",
    "prds_gra = automol.graph.ts.products_graph(gra, stereo=False)\n",
    "rcts_keys = sorted(map(sorted, automol.graph.connected_components_atom_keys(rcts_gra)))\n",
    "prds_keys = sorted(map(sorted, automol.graph.connected_components_atom_keys(prds_gra)))\n",
    "rxn = automol.reac.from_data(\n",
    "    tsg=gra,\n",
    "    rcts_keys=rcts_keys,\n",
    "    prds_keys=prds_keys,\n",
    "    cla=automol.const.ReactionClass.RING_FORM_SCISSION,\n",
    ")"
   ]
  },
  {
   "cell_type": "code",
   "execution_count": 4,
   "id": "de28ba3a",
   "metadata": {},
   "outputs": [
    {
     "data": {
      "application/vnd.jupyter.widget-view+json": {
       "model_id": "a6b3fa7e613a4bc6b3e71620b3e9f373",
       "version_major": 2,
       "version_minor": 0
      },
      "text/plain": [
       "HBox(children=(Image(value=b\"<?xml version='1.0' encoding='iso-8859-1...\", format='svg+xml', height='300', wid…"
      ]
     },
     "metadata": {},
     "output_type": "display_data"
    },
    {
     "data": {
      "application/3dmoljs_load.v0": "<div id=\"3dmolviewer_17480270964922493\"  style=\"position: relative; width: 400px; height: 400px;\">\n        <p id=\"3dmolwarning_17480270964922493\" style=\"background-color:#ffcccc;color:black\">3Dmol.js failed to load for some reason.  Please check your browser console for error messages.<br></p>\n        </div>\n<script>\n\nvar loadScriptAsync = function(uri){\n  return new Promise((resolve, reject) => {\n    //this is to ignore the existence of requirejs amd\n    var savedexports, savedmodule;\n    if (typeof exports !== 'undefined') savedexports = exports;\n    else exports = {}\n    if (typeof module !== 'undefined') savedmodule = module;\n    else module = {}\n\n    var tag = document.createElement('script');\n    tag.src = uri;\n    tag.async = true;\n    tag.onload = () => {\n        exports = savedexports;\n        module = savedmodule;\n        resolve();\n    };\n  var firstScriptTag = document.getElementsByTagName('script')[0];\n  firstScriptTag.parentNode.insertBefore(tag, firstScriptTag);\n});\n};\n\nif(typeof $3Dmolpromise === 'undefined') {\n$3Dmolpromise = null;\n  $3Dmolpromise = loadScriptAsync('https://cdnjs.cloudflare.com/ajax/libs/3Dmol/2.4.2/3Dmol-min.js');\n}\n\nvar viewer_17480270964922493 = null;\nvar warn = document.getElementById(\"3dmolwarning_17480270964922493\");\nif(warn) {\n    warn.parentNode.removeChild(warn);\n}\n$3Dmolpromise.then(function() {\nviewer_17480270964922493 = $3Dmol.createViewer(document.getElementById(\"3dmolviewer_17480270964922493\"),{backgroundColor:\"white\"});\nviewer_17480270964922493.zoomTo();\n\tviewer_17480270964922493.addModel(\"\\n  automech\\n\\n  0  0  0  0  0  0  0  0  0  0999 V3000\\nM  V30 BEGIN CTAB\\nM  V30 COUNTS 16 16 0 0 0\\nM  V30 BEGIN ATOM\\nM  V30 1 C 0.000 0.000 0.000 RAD=2 VAL=3\\nM  V30 2 C 0.000 0.000 1.501 RAD=1 VAL=4\\nM  V30 3 H 0.000 0.890 -0.634 RAD=1 VAL=1\\nM  V30 4 C 0.928 -1.205 1.462 RAD=1 VAL=4\\nM  V30 5 H 0.480 0.882 1.943 RAD=1 VAL=1\\nM  V30 6 H -0.990 -0.170 1.965 RAD=1 VAL=1\\nM  V30 7 O 1.831 -0.626 0.519 RAD=1 VAL=2\\nM  V30 8 C 0.152 -2.257 0.671 RAD=1 VAL=4\\nM  V30 9 H 1.447 -1.540 2.371 RAD=1 VAL=1\\nM  V30 10 O 3.164 -1.695 0.660 RAD=1 VAL=2\\nM  V30 11 C -0.392 -1.367 -0.475 RAD=1 VAL=4\\nM  V30 12 H 0.838 -3.035 0.314 RAD=1 VAL=1\\nM  V30 13 H -0.644 -2.727 1.269 RAD=1 VAL=1\\nM  V30 14 H 0.053 -1.600 -1.453 RAD=1 VAL=1\\nM  V30 15 H -1.489 -1.449 -0.591 RAD=1 VAL=1\\nM  V30 16 H 3.693 -1.215 0.009 RAD=1 VAL=1\\nM  V30 END ATOM\\nM  V30 BEGIN BOND\\nM  V30 1 1 8 13 CFG=0\\nM  V30 2 1 2 5 CFG=0\\nM  V30 3 1 7 10 CFG=0\\nM  V30 4 1 4 8 CFG=0\\nM  V30 5 1 1 11 CFG=0\\nM  V30 6 1 8 11 CFG=0\\nM  V30 7 1 1 2 CFG=0\\nM  V30 8 1 4 7 CFG=0\\nM  V30 9 1 1 3 CFG=0\\nM  V30 10 1 11 14 CFG=0\\nM  V30 11 1 11 15 CFG=0\\nM  V30 12 1 4 9 CFG=0\\nM  V30 13 1 2 6 CFG=0\\nM  V30 14 1 10 16 CFG=0\\nM  V30 15 1 8 12 CFG=0\\nM  V30 16 1 2 4 CFG=0\\nM  V30 END BOND\\nM  V30 END CTAB\\nM  END\\n\",\"sdf\");\n\tviewer_17480270964922493.setStyle({\"stick\": {}, \"sphere\": {\"radius\": 0.3}});\n\tviewer_17480270964922493.setBackgroundColor(\"0xeeeeee\");\n\tviewer_17480270964922493.zoomTo();\n\tviewer_17480270964922493.addArrow({\"start\": {\"x\": 0.0, \"y\": 0.0, \"z\": 0.0}, \"end\": {\"x\": 0.9809651283627125, \"y\": -0.18136936965015976, \"z\": -0.06937267970195918}, \"color\": \"black\"});\n\tviewer_17480270964922493.zoomTo();\n\tviewer_17480270964922493.addArrow({\"start\": {\"x\": 1.830640810978767, \"y\": -0.6262507589191252, \"z\": 0.5189634506299505}, \"end\": {\"x\": 1.0531512102461713, \"y\": -0.0027886537795790423, \"z\": 0.43647148612652603}, \"color\": \"black\"});\n\tviewer_17480270964922493.zoomTo();\nviewer_17480270964922493.render();\n});\n</script>",
      "text/html": [
       "<div id=\"3dmolviewer_17480270964922493\"  style=\"position: relative; width: 400px; height: 400px;\">\n",
       "        <p id=\"3dmolwarning_17480270964922493\" style=\"background-color:#ffcccc;color:black\">3Dmol.js failed to load for some reason.  Please check your browser console for error messages.<br></p>\n",
       "        </div>\n",
       "<script>\n",
       "\n",
       "var loadScriptAsync = function(uri){\n",
       "  return new Promise((resolve, reject) => {\n",
       "    //this is to ignore the existence of requirejs amd\n",
       "    var savedexports, savedmodule;\n",
       "    if (typeof exports !== 'undefined') savedexports = exports;\n",
       "    else exports = {}\n",
       "    if (typeof module !== 'undefined') savedmodule = module;\n",
       "    else module = {}\n",
       "\n",
       "    var tag = document.createElement('script');\n",
       "    tag.src = uri;\n",
       "    tag.async = true;\n",
       "    tag.onload = () => {\n",
       "        exports = savedexports;\n",
       "        module = savedmodule;\n",
       "        resolve();\n",
       "    };\n",
       "  var firstScriptTag = document.getElementsByTagName('script')[0];\n",
       "  firstScriptTag.parentNode.insertBefore(tag, firstScriptTag);\n",
       "});\n",
       "};\n",
       "\n",
       "if(typeof $3Dmolpromise === 'undefined') {\n",
       "$3Dmolpromise = null;\n",
       "  $3Dmolpromise = loadScriptAsync('https://cdnjs.cloudflare.com/ajax/libs/3Dmol/2.4.2/3Dmol-min.js');\n",
       "}\n",
       "\n",
       "var viewer_17480270964922493 = null;\n",
       "var warn = document.getElementById(\"3dmolwarning_17480270964922493\");\n",
       "if(warn) {\n",
       "    warn.parentNode.removeChild(warn);\n",
       "}\n",
       "$3Dmolpromise.then(function() {\n",
       "viewer_17480270964922493 = $3Dmol.createViewer(document.getElementById(\"3dmolviewer_17480270964922493\"),{backgroundColor:\"white\"});\n",
       "viewer_17480270964922493.zoomTo();\n",
       "\tviewer_17480270964922493.addModel(\"\\n  automech\\n\\n  0  0  0  0  0  0  0  0  0  0999 V3000\\nM  V30 BEGIN CTAB\\nM  V30 COUNTS 16 16 0 0 0\\nM  V30 BEGIN ATOM\\nM  V30 1 C 0.000 0.000 0.000 RAD=2 VAL=3\\nM  V30 2 C 0.000 0.000 1.501 RAD=1 VAL=4\\nM  V30 3 H 0.000 0.890 -0.634 RAD=1 VAL=1\\nM  V30 4 C 0.928 -1.205 1.462 RAD=1 VAL=4\\nM  V30 5 H 0.480 0.882 1.943 RAD=1 VAL=1\\nM  V30 6 H -0.990 -0.170 1.965 RAD=1 VAL=1\\nM  V30 7 O 1.831 -0.626 0.519 RAD=1 VAL=2\\nM  V30 8 C 0.152 -2.257 0.671 RAD=1 VAL=4\\nM  V30 9 H 1.447 -1.540 2.371 RAD=1 VAL=1\\nM  V30 10 O 3.164 -1.695 0.660 RAD=1 VAL=2\\nM  V30 11 C -0.392 -1.367 -0.475 RAD=1 VAL=4\\nM  V30 12 H 0.838 -3.035 0.314 RAD=1 VAL=1\\nM  V30 13 H -0.644 -2.727 1.269 RAD=1 VAL=1\\nM  V30 14 H 0.053 -1.600 -1.453 RAD=1 VAL=1\\nM  V30 15 H -1.489 -1.449 -0.591 RAD=1 VAL=1\\nM  V30 16 H 3.693 -1.215 0.009 RAD=1 VAL=1\\nM  V30 END ATOM\\nM  V30 BEGIN BOND\\nM  V30 1 1 8 13 CFG=0\\nM  V30 2 1 2 5 CFG=0\\nM  V30 3 1 7 10 CFG=0\\nM  V30 4 1 4 8 CFG=0\\nM  V30 5 1 1 11 CFG=0\\nM  V30 6 1 8 11 CFG=0\\nM  V30 7 1 1 2 CFG=0\\nM  V30 8 1 4 7 CFG=0\\nM  V30 9 1 1 3 CFG=0\\nM  V30 10 1 11 14 CFG=0\\nM  V30 11 1 11 15 CFG=0\\nM  V30 12 1 4 9 CFG=0\\nM  V30 13 1 2 6 CFG=0\\nM  V30 14 1 10 16 CFG=0\\nM  V30 15 1 8 12 CFG=0\\nM  V30 16 1 2 4 CFG=0\\nM  V30 END BOND\\nM  V30 END CTAB\\nM  END\\n\",\"sdf\");\n",
       "\tviewer_17480270964922493.setStyle({\"stick\": {}, \"sphere\": {\"radius\": 0.3}});\n",
       "\tviewer_17480270964922493.setBackgroundColor(\"0xeeeeee\");\n",
       "\tviewer_17480270964922493.zoomTo();\n",
       "\tviewer_17480270964922493.addArrow({\"start\": {\"x\": 0.0, \"y\": 0.0, \"z\": 0.0}, \"end\": {\"x\": 0.9809651283627125, \"y\": -0.18136936965015976, \"z\": -0.06937267970195918}, \"color\": \"black\"});\n",
       "\tviewer_17480270964922493.zoomTo();\n",
       "\tviewer_17480270964922493.addArrow({\"start\": {\"x\": 1.830640810978767, \"y\": -0.6262507589191252, \"z\": 0.5189634506299505}, \"end\": {\"x\": 1.0531512102461713, \"y\": -0.0027886537795790423, \"z\": 0.43647148612652603}, \"color\": \"black\"});\n",
       "\tviewer_17480270964922493.zoomTo();\n",
       "viewer_17480270964922493.render();\n",
       "});\n",
       "</script>"
      ]
     },
     "metadata": {},
     "output_type": "display_data"
    },
    {
     "data": {
      "application/3dmoljs_load.v0": "<div id=\"3dmolviewer_17480270980204694\"  style=\"position: relative; width: 400px; height: 400px;\">\n        <p id=\"3dmolwarning_17480270980204694\" style=\"background-color:#ffcccc;color:black\">3Dmol.js failed to load for some reason.  Please check your browser console for error messages.<br></p>\n        </div>\n<script>\n\nvar loadScriptAsync = function(uri){\n  return new Promise((resolve, reject) => {\n    //this is to ignore the existence of requirejs amd\n    var savedexports, savedmodule;\n    if (typeof exports !== 'undefined') savedexports = exports;\n    else exports = {}\n    if (typeof module !== 'undefined') savedmodule = module;\n    else module = {}\n\n    var tag = document.createElement('script');\n    tag.src = uri;\n    tag.async = true;\n    tag.onload = () => {\n        exports = savedexports;\n        module = savedmodule;\n        resolve();\n    };\n  var firstScriptTag = document.getElementsByTagName('script')[0];\n  firstScriptTag.parentNode.insertBefore(tag, firstScriptTag);\n});\n};\n\nif(typeof $3Dmolpromise === 'undefined') {\n$3Dmolpromise = null;\n  $3Dmolpromise = loadScriptAsync('https://cdnjs.cloudflare.com/ajax/libs/3Dmol/2.4.2/3Dmol-min.js');\n}\n\nvar viewer_17480270980204694 = null;\nvar warn = document.getElementById(\"3dmolwarning_17480270980204694\");\nif(warn) {\n    warn.parentNode.removeChild(warn);\n}\n$3Dmolpromise.then(function() {\nviewer_17480270980204694 = $3Dmol.createViewer(document.getElementById(\"3dmolviewer_17480270980204694\"),{backgroundColor:\"white\"});\nviewer_17480270980204694.zoomTo();\n\tviewer_17480270980204694.addModel(\"\\n  automech\\n\\n  0  0  0  0  0  0  0  0  0  0999 V3000\\nM  V30 BEGIN CTAB\\nM  V30 COUNTS 16 16 0 0 0\\nM  V30 BEGIN ATOM\\nM  V30 1 C 0.000 0.000 0.000 RAD=2 VAL=3\\nM  V30 2 C 0.000 0.000 1.501 RAD=1 VAL=4\\nM  V30 3 H 0.000 0.890 -0.634 RAD=1 VAL=1\\nM  V30 4 C 0.928 -1.205 1.462 RAD=1 VAL=4\\nM  V30 5 H 0.480 0.882 1.943 RAD=1 VAL=1\\nM  V30 6 H -0.990 -0.170 1.965 RAD=1 VAL=1\\nM  V30 7 O 1.831 -0.626 0.519 RAD=1 VAL=2\\nM  V30 8 C 0.152 -2.257 0.671 RAD=1 VAL=4\\nM  V30 9 H 1.447 -1.540 2.371 RAD=1 VAL=1\\nM  V30 10 O 3.164 -1.695 0.660 RAD=1 VAL=2\\nM  V30 11 C -0.392 -1.367 -0.475 RAD=1 VAL=4\\nM  V30 12 H 0.838 -3.035 0.314 RAD=1 VAL=1\\nM  V30 13 H -0.644 -2.727 1.269 RAD=1 VAL=1\\nM  V30 14 H 0.053 -1.600 -1.453 RAD=1 VAL=1\\nM  V30 15 H -1.489 -1.449 -0.591 RAD=1 VAL=1\\nM  V30 16 H 3.693 -1.215 0.009 RAD=1 VAL=1\\nM  V30 END ATOM\\nM  V30 BEGIN BOND\\nM  V30 1 1 8 13 CFG=0\\nM  V30 2 1 2 5 CFG=0\\nM  V30 3 1 7 10 CFG=0\\nM  V30 4 1 4 8 CFG=0\\nM  V30 5 1 1 11 CFG=0\\nM  V30 6 1 8 11 CFG=0\\nM  V30 7 1 1 2 CFG=0\\nM  V30 8 1 4 7 CFG=0\\nM  V30 9 1 1 3 CFG=0\\nM  V30 10 1 11 14 CFG=0\\nM  V30 11 1 11 15 CFG=0\\nM  V30 12 1 4 9 CFG=0\\nM  V30 13 1 2 6 CFG=0\\nM  V30 14 1 10 16 CFG=0\\nM  V30 15 1 8 12 CFG=0\\nM  V30 16 1 2 4 CFG=0\\nM  V30 END BOND\\nM  V30 END CTAB\\nM  END\\n\",\"sdf\");\n\tviewer_17480270980204694.setStyle({\"stick\": {}, \"sphere\": {\"radius\": 0.3}});\n\tviewer_17480270980204694.setBackgroundColor(\"0xeeeeee\");\n\tviewer_17480270980204694.zoomTo();\n\tviewer_17480270980204694.addArrow({\"start\": {\"x\": 0.0, \"y\": 0.0, \"z\": 0.0}, \"end\": {\"x\": 0.9809651283627125, \"y\": -0.18136936965015976, \"z\": -0.06937267970195918}, \"color\": \"black\"});\n\tviewer_17480270980204694.zoomTo();\n\tviewer_17480270980204694.addArrow({\"start\": {\"x\": 1.830640810978767, \"y\": -0.6262507589191252, \"z\": 0.5189634506299505}, \"end\": {\"x\": 1.0531512102461713, \"y\": -0.0027886537795790423, \"z\": 0.43647148612652603}, \"color\": \"black\"});\n\tviewer_17480270980204694.zoomTo();\nviewer_17480270980204694.render();\n});\n</script>",
      "text/html": [
       "<div id=\"3dmolviewer_17480270980204694\"  style=\"position: relative; width: 400px; height: 400px;\">\n",
       "        <p id=\"3dmolwarning_17480270980204694\" style=\"background-color:#ffcccc;color:black\">3Dmol.js failed to load for some reason.  Please check your browser console for error messages.<br></p>\n",
       "        </div>\n",
       "<script>\n",
       "\n",
       "var loadScriptAsync = function(uri){\n",
       "  return new Promise((resolve, reject) => {\n",
       "    //this is to ignore the existence of requirejs amd\n",
       "    var savedexports, savedmodule;\n",
       "    if (typeof exports !== 'undefined') savedexports = exports;\n",
       "    else exports = {}\n",
       "    if (typeof module !== 'undefined') savedmodule = module;\n",
       "    else module = {}\n",
       "\n",
       "    var tag = document.createElement('script');\n",
       "    tag.src = uri;\n",
       "    tag.async = true;\n",
       "    tag.onload = () => {\n",
       "        exports = savedexports;\n",
       "        module = savedmodule;\n",
       "        resolve();\n",
       "    };\n",
       "  var firstScriptTag = document.getElementsByTagName('script')[0];\n",
       "  firstScriptTag.parentNode.insertBefore(tag, firstScriptTag);\n",
       "});\n",
       "};\n",
       "\n",
       "if(typeof $3Dmolpromise === 'undefined') {\n",
       "$3Dmolpromise = null;\n",
       "  $3Dmolpromise = loadScriptAsync('https://cdnjs.cloudflare.com/ajax/libs/3Dmol/2.4.2/3Dmol-min.js');\n",
       "}\n",
       "\n",
       "var viewer_17480270980204694 = null;\n",
       "var warn = document.getElementById(\"3dmolwarning_17480270980204694\");\n",
       "if(warn) {\n",
       "    warn.parentNode.removeChild(warn);\n",
       "}\n",
       "$3Dmolpromise.then(function() {\n",
       "viewer_17480270980204694 = $3Dmol.createViewer(document.getElementById(\"3dmolviewer_17480270980204694\"),{backgroundColor:\"white\"});\n",
       "viewer_17480270980204694.zoomTo();\n",
       "\tviewer_17480270980204694.addModel(\"\\n  automech\\n\\n  0  0  0  0  0  0  0  0  0  0999 V3000\\nM  V30 BEGIN CTAB\\nM  V30 COUNTS 16 16 0 0 0\\nM  V30 BEGIN ATOM\\nM  V30 1 C 0.000 0.000 0.000 RAD=2 VAL=3\\nM  V30 2 C 0.000 0.000 1.501 RAD=1 VAL=4\\nM  V30 3 H 0.000 0.890 -0.634 RAD=1 VAL=1\\nM  V30 4 C 0.928 -1.205 1.462 RAD=1 VAL=4\\nM  V30 5 H 0.480 0.882 1.943 RAD=1 VAL=1\\nM  V30 6 H -0.990 -0.170 1.965 RAD=1 VAL=1\\nM  V30 7 O 1.831 -0.626 0.519 RAD=1 VAL=2\\nM  V30 8 C 0.152 -2.257 0.671 RAD=1 VAL=4\\nM  V30 9 H 1.447 -1.540 2.371 RAD=1 VAL=1\\nM  V30 10 O 3.164 -1.695 0.660 RAD=1 VAL=2\\nM  V30 11 C -0.392 -1.367 -0.475 RAD=1 VAL=4\\nM  V30 12 H 0.838 -3.035 0.314 RAD=1 VAL=1\\nM  V30 13 H -0.644 -2.727 1.269 RAD=1 VAL=1\\nM  V30 14 H 0.053 -1.600 -1.453 RAD=1 VAL=1\\nM  V30 15 H -1.489 -1.449 -0.591 RAD=1 VAL=1\\nM  V30 16 H 3.693 -1.215 0.009 RAD=1 VAL=1\\nM  V30 END ATOM\\nM  V30 BEGIN BOND\\nM  V30 1 1 8 13 CFG=0\\nM  V30 2 1 2 5 CFG=0\\nM  V30 3 1 7 10 CFG=0\\nM  V30 4 1 4 8 CFG=0\\nM  V30 5 1 1 11 CFG=0\\nM  V30 6 1 8 11 CFG=0\\nM  V30 7 1 1 2 CFG=0\\nM  V30 8 1 4 7 CFG=0\\nM  V30 9 1 1 3 CFG=0\\nM  V30 10 1 11 14 CFG=0\\nM  V30 11 1 11 15 CFG=0\\nM  V30 12 1 4 9 CFG=0\\nM  V30 13 1 2 6 CFG=0\\nM  V30 14 1 10 16 CFG=0\\nM  V30 15 1 8 12 CFG=0\\nM  V30 16 1 2 4 CFG=0\\nM  V30 END BOND\\nM  V30 END CTAB\\nM  END\\n\",\"sdf\");\n",
       "\tviewer_17480270980204694.setStyle({\"stick\": {}, \"sphere\": {\"radius\": 0.3}});\n",
       "\tviewer_17480270980204694.setBackgroundColor(\"0xeeeeee\");\n",
       "\tviewer_17480270980204694.zoomTo();\n",
       "\tviewer_17480270980204694.addArrow({\"start\": {\"x\": 0.0, \"y\": 0.0, \"z\": 0.0}, \"end\": {\"x\": 0.9809651283627125, \"y\": -0.18136936965015976, \"z\": -0.06937267970195918}, \"color\": \"black\"});\n",
       "\tviewer_17480270980204694.zoomTo();\n",
       "\tviewer_17480270980204694.addArrow({\"start\": {\"x\": 1.830640810978767, \"y\": -0.6262507589191252, \"z\": 0.5189634506299505}, \"end\": {\"x\": 1.0531512102461713, \"y\": -0.0027886537795790423, \"z\": 0.43647148612652603}, \"color\": \"black\"});\n",
       "\tviewer_17480270980204694.zoomTo();\n",
       "viewer_17480270980204694.render();\n",
       "});\n",
       "</script>"
      ]
     },
     "metadata": {},
     "output_type": "display_data"
    }
   ],
   "source": [
    "# Update reaction object structure\n",
    "grxn = automol.reac.with_structures(rxn, \"geom\")\n",
    "grxn = automol.reac.update_structures(grxn, ts_struc=geo)\n",
    "zrxn = automol.reac.with_structures(grxn, \"zmat\")\n",
    "zrxn = automol.reac.reset_conversion_info(zrxn)\n",
    "grxn = automol.reac.with_structures(zrxn, \"geom\", ignore_zc=True)\n",
    "\n",
    "geo = automol.reac.ts_structure(grxn)\n",
    "ggra = automol.reac.ts_graph(grxn)\n",
    "automol.graph.display(ggra, label=True)\n",
    "automol.geom.display(geo, gra=ggra)\n",
    "\n",
    "zma = automol.reac.ts_structure(zrxn)\n",
    "zgra = automol.reac.ts_graph(zrxn)\n",
    "automol.zmat.display(zma, gra=zgra)"
   ]
  },
  {
   "cell_type": "code",
   "execution_count": 5,
   "id": "b6d14771",
   "metadata": {},
   "outputs": [
    {
     "data": {
      "text/plain": [
       "5307"
      ]
     },
     "execution_count": 5,
     "metadata": {},
     "output_type": "execute_result"
    }
   ],
   "source": [
    "geo_path = opt_path / geo_name\n",
    "zma_path = opt_path / zma_name\n",
    "zrxn_path = opt_path / zrxn_name\n",
    "geo_path.write_text(automol.geom.xyz_string(geo))\n",
    "zma_path.write_text(automol.zmat.string(zma, one_indexed=True))\n",
    "zrxn_path.write_text(automol.reac.string(zrxn))"
   ]
  }
 ],
 "metadata": {
  "kernelspec": {
   "display_name": "proto",
   "language": "python",
   "name": "python3"
  },
  "language_info": {
   "codemirror_mode": {
    "name": "ipython",
    "version": 3
   },
   "file_extension": ".py",
   "mimetype": "text/x-python",
   "name": "python",
   "nbconvert_exporter": "python",
   "pygments_lexer": "ipython3",
   "version": "3.11.12"
  }
 },
 "nbformat": 4,
 "nbformat_minor": 5
}
