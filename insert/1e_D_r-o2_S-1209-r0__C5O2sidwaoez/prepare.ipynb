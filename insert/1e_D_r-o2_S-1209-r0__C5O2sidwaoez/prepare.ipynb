{
 "cells": [
  {
   "cell_type": "code",
   "execution_count": 1,
   "id": "35e65ca6",
   "metadata": {},
   "outputs": [],
   "source": [
    "from pathlib import Path\n",
    "\n",
    "import automol\n",
    "\n",
    "rev_path = Path(\"rev\")\n",
    "forw_path = Path(\"forw\")\n",
    "geo_name = Path(\"geom.xyz\")\n",
    "ene_name = Path(\"sp.ene\")\n",
    "zrxn_name = Path(\"zmat.r.yaml\")"
   ]
  },
  {
   "cell_type": "code",
   "execution_count": 2,
   "id": "3d1c2ec6",
   "metadata": {},
   "outputs": [
    {
     "data": {
      "application/vnd.jupyter.widget-view+json": {
       "model_id": "aafd1e3f592847ba89b7070fcff623ac",
       "version_major": 2,
       "version_minor": 0
      },
      "text/plain": [
       "HBox(children=(Image(value=b\"<?xml version='1.0' encoding='iso-8859-1...\", format='svg+xml', height='300', wid…"
      ]
     },
     "metadata": {},
     "output_type": "display_data"
    },
    {
     "data": {
      "application/3dmoljs_load.v0": "<div id=\"3dmolviewer_174741408443469\"  style=\"position: relative; width: 400px; height: 400px;\">\n        <p id=\"3dmolwarning_174741408443469\" style=\"background-color:#ffcccc;color:black\">3Dmol.js failed to load for some reason.  Please check your browser console for error messages.<br></p>\n        </div>\n<script>\n\nvar loadScriptAsync = function(uri){\n  return new Promise((resolve, reject) => {\n    //this is to ignore the existence of requirejs amd\n    var savedexports, savedmodule;\n    if (typeof exports !== 'undefined') savedexports = exports;\n    else exports = {}\n    if (typeof module !== 'undefined') savedmodule = module;\n    else module = {}\n\n    var tag = document.createElement('script');\n    tag.src = uri;\n    tag.async = true;\n    tag.onload = () => {\n        exports = savedexports;\n        module = savedmodule;\n        resolve();\n    };\n  var firstScriptTag = document.getElementsByTagName('script')[0];\n  firstScriptTag.parentNode.insertBefore(tag, firstScriptTag);\n});\n};\n\nif(typeof $3Dmolpromise === 'undefined') {\n$3Dmolpromise = null;\n  $3Dmolpromise = loadScriptAsync('https://cdnjs.cloudflare.com/ajax/libs/3Dmol/2.4.2/3Dmol-min.js');\n}\n\nvar viewer_174741408443469 = null;\nvar warn = document.getElementById(\"3dmolwarning_174741408443469\");\nif(warn) {\n    warn.parentNode.removeChild(warn);\n}\n$3Dmolpromise.then(function() {\nviewer_174741408443469 = $3Dmol.createViewer(document.getElementById(\"3dmolviewer_174741408443469\"),{backgroundColor:\"white\"});\nviewer_174741408443469.zoomTo();\n\tviewer_174741408443469.addModel(\"\\n  automech\\n\\n  0  0  0  0  0  0  0  0  0  0999 V3000\\nM  V30 BEGIN CTAB\\nM  V30 COUNTS 14 14 0 0 0\\nM  V30 BEGIN ATOM\\nM  V30 1 C -2.069 0.698 0.027 RAD=2 VAL=3\\nM  V30 2 C -1.899 -0.797 0.229 RAD=1 VAL=4\\nM  V30 3 H -3.070 1.145 0.108 RAD=1 VAL=1\\nM  V30 4 C -0.489 -1.124 -0.181 RAD=2 VAL=3\\nM  V30 5 H -2.626 -1.361 -0.376 RAD=1 VAL=1\\nM  V30 6 H -2.109 -1.066 1.282 RAD=1 VAL=1\\nM  V30 7 C 0.494 -0.243 0.188 RAD=1 VAL=4\\nM  V30 8 H -0.294 -1.811 -1.009 RAD=1 VAL=1\\nM  V30 9 C -0.987 1.411 -0.235 RAD=2 VAL=3\\nM  V30 10 O 1.685 -0.278 -0.468 RAD=1 VAL=2\\nM  V30 11 H 0.535 0.273 1.151 RAD=1 VAL=1\\nM  V30 12 H -0.814 2.476 -0.400 RAD=1 VAL=1\\nM  V30 13 O 2.699 0.239 0.373 RAD=1 VAL=2\\nM  V30 14 H 3.007 0.988 -0.158 RAD=1 VAL=1\\nM  V30 END ATOM\\nM  V30 BEGIN BOND\\nM  V30 1 1 7 10 CFG=0\\nM  V30 2 1 9 12 CFG=0\\nM  V30 3 1 2 5 CFG=0\\nM  V30 4 1 4 8 CFG=0\\nM  V30 5 1 1 2 CFG=0\\nM  V30 6 1 1 3 CFG=0\\nM  V30 7 1 4 7 CFG=0\\nM  V30 8 1 7 11 CFG=0\\nM  V30 9 1 2 6 CFG=0\\nM  V30 10 1 7 9 CFG=0\\nM  V30 11 1 13 14 CFG=0\\nM  V30 12 1 10 13 CFG=0\\nM  V30 13 1 2 4 CFG=0\\nM  V30 14 1 1 9 CFG=0\\nM  V30 END BOND\\nM  V30 END CTAB\\nM  END\\n\",\"sdf\");\n\tviewer_174741408443469.setStyle({\"stick\": {}, \"sphere\": {\"radius\": 0.3}});\n\tviewer_174741408443469.setBackgroundColor(\"0xeeeeee\");\n\tviewer_174741408443469.zoomTo();\nviewer_174741408443469.render();\n});\n</script>",
      "text/html": [
       "<div id=\"3dmolviewer_174741408443469\"  style=\"position: relative; width: 400px; height: 400px;\">\n",
       "        <p id=\"3dmolwarning_174741408443469\" style=\"background-color:#ffcccc;color:black\">3Dmol.js failed to load for some reason.  Please check your browser console for error messages.<br></p>\n",
       "        </div>\n",
       "<script>\n",
       "\n",
       "var loadScriptAsync = function(uri){\n",
       "  return new Promise((resolve, reject) => {\n",
       "    //this is to ignore the existence of requirejs amd\n",
       "    var savedexports, savedmodule;\n",
       "    if (typeof exports !== 'undefined') savedexports = exports;\n",
       "    else exports = {}\n",
       "    if (typeof module !== 'undefined') savedmodule = module;\n",
       "    else module = {}\n",
       "\n",
       "    var tag = document.createElement('script');\n",
       "    tag.src = uri;\n",
       "    tag.async = true;\n",
       "    tag.onload = () => {\n",
       "        exports = savedexports;\n",
       "        module = savedmodule;\n",
       "        resolve();\n",
       "    };\n",
       "  var firstScriptTag = document.getElementsByTagName('script')[0];\n",
       "  firstScriptTag.parentNode.insertBefore(tag, firstScriptTag);\n",
       "});\n",
       "};\n",
       "\n",
       "if(typeof $3Dmolpromise === 'undefined') {\n",
       "$3Dmolpromise = null;\n",
       "  $3Dmolpromise = loadScriptAsync('https://cdnjs.cloudflare.com/ajax/libs/3Dmol/2.4.2/3Dmol-min.js');\n",
       "}\n",
       "\n",
       "var viewer_174741408443469 = null;\n",
       "var warn = document.getElementById(\"3dmolwarning_174741408443469\");\n",
       "if(warn) {\n",
       "    warn.parentNode.removeChild(warn);\n",
       "}\n",
       "$3Dmolpromise.then(function() {\n",
       "viewer_174741408443469 = $3Dmol.createViewer(document.getElementById(\"3dmolviewer_174741408443469\"),{backgroundColor:\"white\"});\n",
       "viewer_174741408443469.zoomTo();\n",
       "\tviewer_174741408443469.addModel(\"\\n  automech\\n\\n  0  0  0  0  0  0  0  0  0  0999 V3000\\nM  V30 BEGIN CTAB\\nM  V30 COUNTS 14 14 0 0 0\\nM  V30 BEGIN ATOM\\nM  V30 1 C -2.069 0.698 0.027 RAD=2 VAL=3\\nM  V30 2 C -1.899 -0.797 0.229 RAD=1 VAL=4\\nM  V30 3 H -3.070 1.145 0.108 RAD=1 VAL=1\\nM  V30 4 C -0.489 -1.124 -0.181 RAD=2 VAL=3\\nM  V30 5 H -2.626 -1.361 -0.376 RAD=1 VAL=1\\nM  V30 6 H -2.109 -1.066 1.282 RAD=1 VAL=1\\nM  V30 7 C 0.494 -0.243 0.188 RAD=1 VAL=4\\nM  V30 8 H -0.294 -1.811 -1.009 RAD=1 VAL=1\\nM  V30 9 C -0.987 1.411 -0.235 RAD=2 VAL=3\\nM  V30 10 O 1.685 -0.278 -0.468 RAD=1 VAL=2\\nM  V30 11 H 0.535 0.273 1.151 RAD=1 VAL=1\\nM  V30 12 H -0.814 2.476 -0.400 RAD=1 VAL=1\\nM  V30 13 O 2.699 0.239 0.373 RAD=1 VAL=2\\nM  V30 14 H 3.007 0.988 -0.158 RAD=1 VAL=1\\nM  V30 END ATOM\\nM  V30 BEGIN BOND\\nM  V30 1 1 7 10 CFG=0\\nM  V30 2 1 9 12 CFG=0\\nM  V30 3 1 2 5 CFG=0\\nM  V30 4 1 4 8 CFG=0\\nM  V30 5 1 1 2 CFG=0\\nM  V30 6 1 1 3 CFG=0\\nM  V30 7 1 4 7 CFG=0\\nM  V30 8 1 7 11 CFG=0\\nM  V30 9 1 2 6 CFG=0\\nM  V30 10 1 7 9 CFG=0\\nM  V30 11 1 13 14 CFG=0\\nM  V30 12 1 10 13 CFG=0\\nM  V30 13 1 2 4 CFG=0\\nM  V30 14 1 1 9 CFG=0\\nM  V30 END BOND\\nM  V30 END CTAB\\nM  END\\n\",\"sdf\");\n",
       "\tviewer_174741408443469.setStyle({\"stick\": {}, \"sphere\": {\"radius\": 0.3}});\n",
       "\tviewer_174741408443469.setBackgroundColor(\"0xeeeeee\");\n",
       "\tviewer_174741408443469.zoomTo();\n",
       "viewer_174741408443469.render();\n",
       "});\n",
       "</script>"
      ]
     },
     "metadata": {},
     "output_type": "display_data"
    }
   ],
   "source": [
    "# 1. Read in forward direction with bad structure (only to visually check numbering)\n",
    "forw_geo = automol.geom.from_xyz_string((forw_path / geo_name).read_text())\n",
    "forw_zrxn = automol.reac.from_string((forw_path / zrxn_name).read_text())\n",
    "forw_grxn = automol.reac.with_structures(forw_zrxn, \"geom\", ignore_zc=True)\n",
    "forw_grxn = automol.reac.update_structures(forw_grxn, ts_struc=forw_geo)\n",
    "\n",
    "forw_geo = automol.reac.ts_structure(forw_grxn)\n",
    "forw_ggra = automol.reac.ts_graph(forw_grxn)\n",
    "automol.graph.display(forw_ggra, label=True)\n",
    "automol.geom.display(forw_geo, gra=forw_ggra)"
   ]
  },
  {
   "cell_type": "code",
   "execution_count": 3,
   "id": "58833aef",
   "metadata": {},
   "outputs": [
    {
     "data": {
      "application/vnd.jupyter.widget-view+json": {
       "model_id": "45c972282f404ea4b7af80ead6011ae9",
       "version_major": 2,
       "version_minor": 0
      },
      "text/plain": [
       "HBox(children=(Image(value=b\"<?xml version='1.0' encoding='iso-8859-1...\", format='svg+xml', height='300', wid…"
      ]
     },
     "metadata": {},
     "output_type": "display_data"
    },
    {
     "data": {
      "application/3dmoljs_load.v0": "<div id=\"3dmolviewer_1747414095434488\"  style=\"position: relative; width: 400px; height: 400px;\">\n        <p id=\"3dmolwarning_1747414095434488\" style=\"background-color:#ffcccc;color:black\">3Dmol.js failed to load for some reason.  Please check your browser console for error messages.<br></p>\n        </div>\n<script>\n\nvar loadScriptAsync = function(uri){\n  return new Promise((resolve, reject) => {\n    //this is to ignore the existence of requirejs amd\n    var savedexports, savedmodule;\n    if (typeof exports !== 'undefined') savedexports = exports;\n    else exports = {}\n    if (typeof module !== 'undefined') savedmodule = module;\n    else module = {}\n\n    var tag = document.createElement('script');\n    tag.src = uri;\n    tag.async = true;\n    tag.onload = () => {\n        exports = savedexports;\n        module = savedmodule;\n        resolve();\n    };\n  var firstScriptTag = document.getElementsByTagName('script')[0];\n  firstScriptTag.parentNode.insertBefore(tag, firstScriptTag);\n});\n};\n\nif(typeof $3Dmolpromise === 'undefined') {\n$3Dmolpromise = null;\n  $3Dmolpromise = loadScriptAsync('https://cdnjs.cloudflare.com/ajax/libs/3Dmol/2.4.2/3Dmol-min.js');\n}\n\nvar viewer_1747414095434488 = null;\nvar warn = document.getElementById(\"3dmolwarning_1747414095434488\");\nif(warn) {\n    warn.parentNode.removeChild(warn);\n}\n$3Dmolpromise.then(function() {\nviewer_1747414095434488 = $3Dmol.createViewer(document.getElementById(\"3dmolviewer_1747414095434488\"),{backgroundColor:\"white\"});\nviewer_1747414095434488.zoomTo();\n\tviewer_1747414095434488.addModel(\"\\n  automech\\n\\n  0  0  0  0  0  0  0  0  0  0999 V3000\\nM  V30 BEGIN CTAB\\nM  V30 COUNTS 14 13 0 0 0\\nM  V30 BEGIN ATOM\\nM  V30 1 C -1.847 0.518 -0.385 RAD=2 VAL=3\\nM  V30 2 C -1.383 -0.924 -0.543 RAD=1 VAL=4\\nM  V30 3 H -2.719 0.878 -0.947 RAD=1 VAL=1\\nM  V30 4 C -0.430 -1.108 0.600 RAD=2 VAL=3\\nM  V30 5 H -0.886 -1.043 -1.522 RAD=1 VAL=1\\nM  V30 6 H -2.223 -1.633 -0.509 RAD=1 VAL=1\\nM  V30 7 C 0.548 -0.160 0.757 RAD=2 VAL=3\\nM  V30 8 H -0.770 -1.630 1.499 RAD=1 VAL=1\\nM  V30 9 O 1.166 0.446 -0.319 RAD=1 VAL=2\\nM  V30 10 H 1.112 -0.075 1.693 RAD=1 VAL=1\\nM  V30 11 C -1.147 1.299 0.420 RAD=3 VAL=2\\nM  V30 12 H -1.187 2.349 0.708 RAD=1 VAL=1\\nM  V30 13 O 2.486 -0.108 -0.388 RAD=1 VAL=2\\nM  V30 14 H 3.014 0.702 -0.352 RAD=1 VAL=1\\nM  V30 END ATOM\\nM  V30 BEGIN BOND\\nM  V30 1 1 7 10 CFG=0\\nM  V30 2 1 2 5 CFG=0\\nM  V30 3 1 4 8 CFG=0\\nM  V30 4 1 1 11 CFG=0\\nM  V30 5 1 1 2 CFG=0\\nM  V30 6 1 1 3 CFG=0\\nM  V30 7 1 4 7 CFG=0\\nM  V30 8 1 2 6 CFG=0\\nM  V30 9 1 7 9 CFG=0\\nM  V30 10 1 13 14 CFG=0\\nM  V30 11 1 11 12 CFG=0\\nM  V30 12 1 2 4 CFG=0\\nM  V30 13 1 9 13 CFG=0\\nM  V30 END BOND\\nM  V30 END CTAB\\nM  END\\n\",\"sdf\");\n\tviewer_1747414095434488.setStyle({\"stick\": {}, \"sphere\": {\"radius\": 0.3}});\n\tviewer_1747414095434488.setBackgroundColor(\"0xeeeeee\");\n\tviewer_1747414095434488.zoomTo();\n\tviewer_1747414095434488.addArrow({\"start\": {\"x\": -1.147425, \"y\": 1.298978, \"z\": 0.419713}, \"end\": {\"x\": -0.3525649250408478, \"y\": 0.9336308842211006, \"z\": 0.9041910141843084}, \"color\": \"black\"});\n\tviewer_1747414095434488.zoomTo();\n\tviewer_1747414095434488.addArrow({\"start\": {\"x\": 0.548184, \"y\": -0.160102, \"z\": 0.756823}, \"end\": {\"x\": -0.007202120736374162, \"y\": 0.6088121396288879, \"z\": 1.0735520684041617}, \"color\": \"black\"});\n\tviewer_1747414095434488.zoomTo();\nviewer_1747414095434488.render();\n});\n</script>",
      "text/html": [
       "<div id=\"3dmolviewer_1747414095434488\"  style=\"position: relative; width: 400px; height: 400px;\">\n",
       "        <p id=\"3dmolwarning_1747414095434488\" style=\"background-color:#ffcccc;color:black\">3Dmol.js failed to load for some reason.  Please check your browser console for error messages.<br></p>\n",
       "        </div>\n",
       "<script>\n",
       "\n",
       "var loadScriptAsync = function(uri){\n",
       "  return new Promise((resolve, reject) => {\n",
       "    //this is to ignore the existence of requirejs amd\n",
       "    var savedexports, savedmodule;\n",
       "    if (typeof exports !== 'undefined') savedexports = exports;\n",
       "    else exports = {}\n",
       "    if (typeof module !== 'undefined') savedmodule = module;\n",
       "    else module = {}\n",
       "\n",
       "    var tag = document.createElement('script');\n",
       "    tag.src = uri;\n",
       "    tag.async = true;\n",
       "    tag.onload = () => {\n",
       "        exports = savedexports;\n",
       "        module = savedmodule;\n",
       "        resolve();\n",
       "    };\n",
       "  var firstScriptTag = document.getElementsByTagName('script')[0];\n",
       "  firstScriptTag.parentNode.insertBefore(tag, firstScriptTag);\n",
       "});\n",
       "};\n",
       "\n",
       "if(typeof $3Dmolpromise === 'undefined') {\n",
       "$3Dmolpromise = null;\n",
       "  $3Dmolpromise = loadScriptAsync('https://cdnjs.cloudflare.com/ajax/libs/3Dmol/2.4.2/3Dmol-min.js');\n",
       "}\n",
       "\n",
       "var viewer_1747414095434488 = null;\n",
       "var warn = document.getElementById(\"3dmolwarning_1747414095434488\");\n",
       "if(warn) {\n",
       "    warn.parentNode.removeChild(warn);\n",
       "}\n",
       "$3Dmolpromise.then(function() {\n",
       "viewer_1747414095434488 = $3Dmol.createViewer(document.getElementById(\"3dmolviewer_1747414095434488\"),{backgroundColor:\"white\"});\n",
       "viewer_1747414095434488.zoomTo();\n",
       "\tviewer_1747414095434488.addModel(\"\\n  automech\\n\\n  0  0  0  0  0  0  0  0  0  0999 V3000\\nM  V30 BEGIN CTAB\\nM  V30 COUNTS 14 13 0 0 0\\nM  V30 BEGIN ATOM\\nM  V30 1 C -1.847 0.518 -0.385 RAD=2 VAL=3\\nM  V30 2 C -1.383 -0.924 -0.543 RAD=1 VAL=4\\nM  V30 3 H -2.719 0.878 -0.947 RAD=1 VAL=1\\nM  V30 4 C -0.430 -1.108 0.600 RAD=2 VAL=3\\nM  V30 5 H -0.886 -1.043 -1.522 RAD=1 VAL=1\\nM  V30 6 H -2.223 -1.633 -0.509 RAD=1 VAL=1\\nM  V30 7 C 0.548 -0.160 0.757 RAD=2 VAL=3\\nM  V30 8 H -0.770 -1.630 1.499 RAD=1 VAL=1\\nM  V30 9 O 1.166 0.446 -0.319 RAD=1 VAL=2\\nM  V30 10 H 1.112 -0.075 1.693 RAD=1 VAL=1\\nM  V30 11 C -1.147 1.299 0.420 RAD=3 VAL=2\\nM  V30 12 H -1.187 2.349 0.708 RAD=1 VAL=1\\nM  V30 13 O 2.486 -0.108 -0.388 RAD=1 VAL=2\\nM  V30 14 H 3.014 0.702 -0.352 RAD=1 VAL=1\\nM  V30 END ATOM\\nM  V30 BEGIN BOND\\nM  V30 1 1 7 10 CFG=0\\nM  V30 2 1 2 5 CFG=0\\nM  V30 3 1 4 8 CFG=0\\nM  V30 4 1 1 11 CFG=0\\nM  V30 5 1 1 2 CFG=0\\nM  V30 6 1 1 3 CFG=0\\nM  V30 7 1 4 7 CFG=0\\nM  V30 8 1 2 6 CFG=0\\nM  V30 9 1 7 9 CFG=0\\nM  V30 10 1 13 14 CFG=0\\nM  V30 11 1 11 12 CFG=0\\nM  V30 12 1 2 4 CFG=0\\nM  V30 13 1 9 13 CFG=0\\nM  V30 END BOND\\nM  V30 END CTAB\\nM  END\\n\",\"sdf\");\n",
       "\tviewer_1747414095434488.setStyle({\"stick\": {}, \"sphere\": {\"radius\": 0.3}});\n",
       "\tviewer_1747414095434488.setBackgroundColor(\"0xeeeeee\");\n",
       "\tviewer_1747414095434488.zoomTo();\n",
       "\tviewer_1747414095434488.addArrow({\"start\": {\"x\": -1.147425, \"y\": 1.298978, \"z\": 0.419713}, \"end\": {\"x\": -0.3525649250408478, \"y\": 0.9336308842211006, \"z\": 0.9041910141843084}, \"color\": \"black\"});\n",
       "\tviewer_1747414095434488.zoomTo();\n",
       "\tviewer_1747414095434488.addArrow({\"start\": {\"x\": 0.548184, \"y\": -0.160102, \"z\": 0.756823}, \"end\": {\"x\": -0.007202120736374162, \"y\": 0.6088121396288879, \"z\": 1.0735520684041617}, \"color\": \"black\"});\n",
       "\tviewer_1747414095434488.zoomTo();\n",
       "viewer_1747414095434488.render();\n",
       "});\n",
       "</script>"
      ]
     },
     "metadata": {},
     "output_type": "display_data"
    }
   ],
   "source": [
    "# 2. Read in reverse direction with good structure\n",
    "rev_geo = automol.geom.from_xyz_string((rev_path / geo_name).read_text())\n",
    "rev_zrxn = automol.reac.from_string((rev_path / zrxn_name).read_text())\n",
    "rev_grxn = automol.reac.with_structures(rev_zrxn, \"geom\", ignore_zc=True)\n",
    "rev_grxn = automol.reac.update_structures(rev_grxn, ts_struc=rev_geo)\n",
    "\n",
    "rev_geo = automol.reac.ts_structure(rev_grxn)\n",
    "rev_ggra = automol.reac.ts_graph(rev_grxn)\n",
    "automol.graph.display(rev_ggra, label=True)\n",
    "automol.geom.display(rev_geo, gra=rev_ggra)"
   ]
  },
  {
   "cell_type": "code",
   "execution_count": 4,
   "id": "26edd524",
   "metadata": {},
   "outputs": [
    {
     "data": {
      "application/vnd.jupyter.widget-view+json": {
       "model_id": "a85b2cdc1b19492880ef94145ba18986",
       "version_major": 2,
       "version_minor": 0
      },
      "text/plain": [
       "HBox(children=(Image(value=b\"<?xml version='1.0' encoding='iso-8859-1...\", format='svg+xml', height='300', wid…"
      ]
     },
     "metadata": {},
     "output_type": "display_data"
    },
    {
     "data": {
      "application/3dmoljs_load.v0": "<div id=\"3dmolviewer_1747414111558862\"  style=\"position: relative; width: 400px; height: 400px;\">\n        <p id=\"3dmolwarning_1747414111558862\" style=\"background-color:#ffcccc;color:black\">3Dmol.js failed to load for some reason.  Please check your browser console for error messages.<br></p>\n        </div>\n<script>\n\nvar loadScriptAsync = function(uri){\n  return new Promise((resolve, reject) => {\n    //this is to ignore the existence of requirejs amd\n    var savedexports, savedmodule;\n    if (typeof exports !== 'undefined') savedexports = exports;\n    else exports = {}\n    if (typeof module !== 'undefined') savedmodule = module;\n    else module = {}\n\n    var tag = document.createElement('script');\n    tag.src = uri;\n    tag.async = true;\n    tag.onload = () => {\n        exports = savedexports;\n        module = savedmodule;\n        resolve();\n    };\n  var firstScriptTag = document.getElementsByTagName('script')[0];\n  firstScriptTag.parentNode.insertBefore(tag, firstScriptTag);\n});\n};\n\nif(typeof $3Dmolpromise === 'undefined') {\n$3Dmolpromise = null;\n  $3Dmolpromise = loadScriptAsync('https://cdnjs.cloudflare.com/ajax/libs/3Dmol/2.4.2/3Dmol-min.js');\n}\n\nvar viewer_1747414111558862 = null;\nvar warn = document.getElementById(\"3dmolwarning_1747414111558862\");\nif(warn) {\n    warn.parentNode.removeChild(warn);\n}\n$3Dmolpromise.then(function() {\nviewer_1747414111558862 = $3Dmol.createViewer(document.getElementById(\"3dmolviewer_1747414111558862\"),{backgroundColor:\"white\"});\nviewer_1747414111558862.zoomTo();\n\tviewer_1747414111558862.addModel(\"\\n  automech\\n\\n  0  0  0  0  0  0  0  0  0  0999 V3000\\nM  V30 BEGIN CTAB\\nM  V30 COUNTS 14 14 0 0 0\\nM  V30 BEGIN ATOM\\nM  V30 1 C 0.000 0.000 0.000 RAD=2 VAL=3\\nM  V30 2 C 0.000 0.000 1.524 RAD=1 VAL=4\\nM  V30 3 H 0.000 0.952 -0.547 RAD=1 VAL=1\\nM  V30 4 C 0.340 -1.419 1.869 RAD=2 VAL=3\\nM  V30 5 H -1.001 0.289 1.889 RAD=1 VAL=1\\nM  V30 6 H 0.724 0.719 1.935 RAD=1 VAL=1\\nM  V30 7 C -0.390 -2.404 1.254 RAD=1 VAL=4\\nM  V30 8 H 1.362 -1.665 2.166 RAD=1 VAL=1\\nM  V30 9 C -0.029 -1.172 -0.609 RAD=2 VAL=3\\nM  V30 10 O -1.736 -2.262 0.980 RAD=1 VAL=2\\nM  V30 11 H -0.047 -3.445 1.248 RAD=1 VAL=1\\nM  V30 12 H -0.078 -1.506 -1.646 RAD=1 VAL=1\\nM  V30 13 O -2.426 -3.102 1.914 RAD=1 VAL=2\\nM  V30 14 H -2.938 -3.651 1.305 RAD=1 VAL=1\\nM  V30 END ATOM\\nM  V30 BEGIN BOND\\nM  V30 1 1 7 10 CFG=0\\nM  V30 2 1 9 12 CFG=0\\nM  V30 3 1 2 5 CFG=0\\nM  V30 4 1 4 8 CFG=0\\nM  V30 5 1 1 2 CFG=0\\nM  V30 6 1 7 11 CFG=0\\nM  V30 7 1 1 3 CFG=0\\nM  V30 8 1 4 7 CFG=0\\nM  V30 9 1 7 9 CFG=0\\nM  V30 10 1 2 6 CFG=0\\nM  V30 11 1 13 14 CFG=0\\nM  V30 12 1 10 13 CFG=0\\nM  V30 13 1 2 4 CFG=0\\nM  V30 14 1 1 9 CFG=0\\nM  V30 END BOND\\nM  V30 END CTAB\\nM  END\\n\",\"sdf\");\n\tviewer_1747414111558862.setStyle({\"stick\": {}, \"sphere\": {\"radius\": 0.3}});\n\tviewer_1747414111558862.setBackgroundColor(\"0xeeeeee\");\n\tviewer_1747414111558862.zoomTo();\nviewer_1747414111558862.render();\n});\n</script>",
      "text/html": [
       "<div id=\"3dmolviewer_1747414111558862\"  style=\"position: relative; width: 400px; height: 400px;\">\n",
       "        <p id=\"3dmolwarning_1747414111558862\" style=\"background-color:#ffcccc;color:black\">3Dmol.js failed to load for some reason.  Please check your browser console for error messages.<br></p>\n",
       "        </div>\n",
       "<script>\n",
       "\n",
       "var loadScriptAsync = function(uri){\n",
       "  return new Promise((resolve, reject) => {\n",
       "    //this is to ignore the existence of requirejs amd\n",
       "    var savedexports, savedmodule;\n",
       "    if (typeof exports !== 'undefined') savedexports = exports;\n",
       "    else exports = {}\n",
       "    if (typeof module !== 'undefined') savedmodule = module;\n",
       "    else module = {}\n",
       "\n",
       "    var tag = document.createElement('script');\n",
       "    tag.src = uri;\n",
       "    tag.async = true;\n",
       "    tag.onload = () => {\n",
       "        exports = savedexports;\n",
       "        module = savedmodule;\n",
       "        resolve();\n",
       "    };\n",
       "  var firstScriptTag = document.getElementsByTagName('script')[0];\n",
       "  firstScriptTag.parentNode.insertBefore(tag, firstScriptTag);\n",
       "});\n",
       "};\n",
       "\n",
       "if(typeof $3Dmolpromise === 'undefined') {\n",
       "$3Dmolpromise = null;\n",
       "  $3Dmolpromise = loadScriptAsync('https://cdnjs.cloudflare.com/ajax/libs/3Dmol/2.4.2/3Dmol-min.js');\n",
       "}\n",
       "\n",
       "var viewer_1747414111558862 = null;\n",
       "var warn = document.getElementById(\"3dmolwarning_1747414111558862\");\n",
       "if(warn) {\n",
       "    warn.parentNode.removeChild(warn);\n",
       "}\n",
       "$3Dmolpromise.then(function() {\n",
       "viewer_1747414111558862 = $3Dmol.createViewer(document.getElementById(\"3dmolviewer_1747414111558862\"),{backgroundColor:\"white\"});\n",
       "viewer_1747414111558862.zoomTo();\n",
       "\tviewer_1747414111558862.addModel(\"\\n  automech\\n\\n  0  0  0  0  0  0  0  0  0  0999 V3000\\nM  V30 BEGIN CTAB\\nM  V30 COUNTS 14 14 0 0 0\\nM  V30 BEGIN ATOM\\nM  V30 1 C 0.000 0.000 0.000 RAD=2 VAL=3\\nM  V30 2 C 0.000 0.000 1.524 RAD=1 VAL=4\\nM  V30 3 H 0.000 0.952 -0.547 RAD=1 VAL=1\\nM  V30 4 C 0.340 -1.419 1.869 RAD=2 VAL=3\\nM  V30 5 H -1.001 0.289 1.889 RAD=1 VAL=1\\nM  V30 6 H 0.724 0.719 1.935 RAD=1 VAL=1\\nM  V30 7 C -0.390 -2.404 1.254 RAD=1 VAL=4\\nM  V30 8 H 1.362 -1.665 2.166 RAD=1 VAL=1\\nM  V30 9 C -0.029 -1.172 -0.609 RAD=2 VAL=3\\nM  V30 10 O -1.736 -2.262 0.980 RAD=1 VAL=2\\nM  V30 11 H -0.047 -3.445 1.248 RAD=1 VAL=1\\nM  V30 12 H -0.078 -1.506 -1.646 RAD=1 VAL=1\\nM  V30 13 O -2.426 -3.102 1.914 RAD=1 VAL=2\\nM  V30 14 H -2.938 -3.651 1.305 RAD=1 VAL=1\\nM  V30 END ATOM\\nM  V30 BEGIN BOND\\nM  V30 1 1 7 10 CFG=0\\nM  V30 2 1 9 12 CFG=0\\nM  V30 3 1 2 5 CFG=0\\nM  V30 4 1 4 8 CFG=0\\nM  V30 5 1 1 2 CFG=0\\nM  V30 6 1 7 11 CFG=0\\nM  V30 7 1 1 3 CFG=0\\nM  V30 8 1 4 7 CFG=0\\nM  V30 9 1 7 9 CFG=0\\nM  V30 10 1 2 6 CFG=0\\nM  V30 11 1 13 14 CFG=0\\nM  V30 12 1 10 13 CFG=0\\nM  V30 13 1 2 4 CFG=0\\nM  V30 14 1 1 9 CFG=0\\nM  V30 END BOND\\nM  V30 END CTAB\\nM  END\\n\",\"sdf\");\n",
       "\tviewer_1747414111558862.setStyle({\"stick\": {}, \"sphere\": {\"radius\": 0.3}});\n",
       "\tviewer_1747414111558862.setBackgroundColor(\"0xeeeeee\");\n",
       "\tviewer_1747414111558862.zoomTo();\n",
       "viewer_1747414111558862.render();\n",
       "});\n",
       "</script>"
      ]
     },
     "metadata": {},
     "output_type": "display_data"
    },
    {
     "data": {
      "application/3dmoljs_load.v0": "<div id=\"3dmolviewer_17474141115859437\"  style=\"position: relative; width: 400px; height: 400px;\">\n        <p id=\"3dmolwarning_17474141115859437\" style=\"background-color:#ffcccc;color:black\">3Dmol.js failed to load for some reason.  Please check your browser console for error messages.<br></p>\n        </div>\n<script>\n\nvar loadScriptAsync = function(uri){\n  return new Promise((resolve, reject) => {\n    //this is to ignore the existence of requirejs amd\n    var savedexports, savedmodule;\n    if (typeof exports !== 'undefined') savedexports = exports;\n    else exports = {}\n    if (typeof module !== 'undefined') savedmodule = module;\n    else module = {}\n\n    var tag = document.createElement('script');\n    tag.src = uri;\n    tag.async = true;\n    tag.onload = () => {\n        exports = savedexports;\n        module = savedmodule;\n        resolve();\n    };\n  var firstScriptTag = document.getElementsByTagName('script')[0];\n  firstScriptTag.parentNode.insertBefore(tag, firstScriptTag);\n});\n};\n\nif(typeof $3Dmolpromise === 'undefined') {\n$3Dmolpromise = null;\n  $3Dmolpromise = loadScriptAsync('https://cdnjs.cloudflare.com/ajax/libs/3Dmol/2.4.2/3Dmol-min.js');\n}\n\nvar viewer_17474141115859437 = null;\nvar warn = document.getElementById(\"3dmolwarning_17474141115859437\");\nif(warn) {\n    warn.parentNode.removeChild(warn);\n}\n$3Dmolpromise.then(function() {\nviewer_17474141115859437 = $3Dmol.createViewer(document.getElementById(\"3dmolviewer_17474141115859437\"),{backgroundColor:\"white\"});\nviewer_17474141115859437.zoomTo();\n\tviewer_17474141115859437.addModel(\"\\n  automech\\n\\n  0  0  0  0  0  0  0  0  0  0999 V3000\\nM  V30 BEGIN CTAB\\nM  V30 COUNTS 14 14 0 0 0\\nM  V30 BEGIN ATOM\\nM  V30 1 C 0.000 0.000 0.000 RAD=2 VAL=3\\nM  V30 2 C 0.000 0.000 1.524 RAD=1 VAL=4\\nM  V30 3 H 0.000 0.952 -0.547 RAD=1 VAL=1\\nM  V30 4 C 0.340 -1.419 1.869 RAD=2 VAL=3\\nM  V30 5 H -1.001 0.289 1.889 RAD=1 VAL=1\\nM  V30 6 H 0.724 0.719 1.935 RAD=1 VAL=1\\nM  V30 7 C -0.390 -2.404 1.254 RAD=1 VAL=4\\nM  V30 8 H 1.362 -1.665 2.166 RAD=1 VAL=1\\nM  V30 9 C -0.029 -1.172 -0.609 RAD=2 VAL=3\\nM  V30 10 O -1.736 -2.262 0.980 RAD=1 VAL=2\\nM  V30 11 H -0.047 -3.445 1.248 RAD=1 VAL=1\\nM  V30 12 H -0.078 -1.506 -1.646 RAD=1 VAL=1\\nM  V30 13 O -2.426 -3.102 1.914 RAD=1 VAL=2\\nM  V30 14 H -2.938 -3.651 1.305 RAD=1 VAL=1\\nM  V30 END ATOM\\nM  V30 BEGIN BOND\\nM  V30 1 1 7 10 CFG=0\\nM  V30 2 1 9 12 CFG=0\\nM  V30 3 1 2 5 CFG=0\\nM  V30 4 1 4 8 CFG=0\\nM  V30 5 1 1 2 CFG=0\\nM  V30 6 1 7 11 CFG=0\\nM  V30 7 1 1 3 CFG=0\\nM  V30 8 1 4 7 CFG=0\\nM  V30 9 1 7 9 CFG=0\\nM  V30 10 1 2 6 CFG=0\\nM  V30 11 1 13 14 CFG=0\\nM  V30 12 1 10 13 CFG=0\\nM  V30 13 1 2 4 CFG=0\\nM  V30 14 1 1 9 CFG=0\\nM  V30 END BOND\\nM  V30 END CTAB\\nM  END\\n\",\"sdf\");\n\tviewer_17474141115859437.setStyle({\"stick\": {}, \"sphere\": {\"radius\": 0.3}});\n\tviewer_17474141115859437.setBackgroundColor(\"0xeeeeee\");\n\tviewer_17474141115859437.zoomTo();\nviewer_17474141115859437.render();\n});\n</script>",
      "text/html": [
       "<div id=\"3dmolviewer_17474141115859437\"  style=\"position: relative; width: 400px; height: 400px;\">\n",
       "        <p id=\"3dmolwarning_17474141115859437\" style=\"background-color:#ffcccc;color:black\">3Dmol.js failed to load for some reason.  Please check your browser console for error messages.<br></p>\n",
       "        </div>\n",
       "<script>\n",
       "\n",
       "var loadScriptAsync = function(uri){\n",
       "  return new Promise((resolve, reject) => {\n",
       "    //this is to ignore the existence of requirejs amd\n",
       "    var savedexports, savedmodule;\n",
       "    if (typeof exports !== 'undefined') savedexports = exports;\n",
       "    else exports = {}\n",
       "    if (typeof module !== 'undefined') savedmodule = module;\n",
       "    else module = {}\n",
       "\n",
       "    var tag = document.createElement('script');\n",
       "    tag.src = uri;\n",
       "    tag.async = true;\n",
       "    tag.onload = () => {\n",
       "        exports = savedexports;\n",
       "        module = savedmodule;\n",
       "        resolve();\n",
       "    };\n",
       "  var firstScriptTag = document.getElementsByTagName('script')[0];\n",
       "  firstScriptTag.parentNode.insertBefore(tag, firstScriptTag);\n",
       "});\n",
       "};\n",
       "\n",
       "if(typeof $3Dmolpromise === 'undefined') {\n",
       "$3Dmolpromise = null;\n",
       "  $3Dmolpromise = loadScriptAsync('https://cdnjs.cloudflare.com/ajax/libs/3Dmol/2.4.2/3Dmol-min.js');\n",
       "}\n",
       "\n",
       "var viewer_17474141115859437 = null;\n",
       "var warn = document.getElementById(\"3dmolwarning_17474141115859437\");\n",
       "if(warn) {\n",
       "    warn.parentNode.removeChild(warn);\n",
       "}\n",
       "$3Dmolpromise.then(function() {\n",
       "viewer_17474141115859437 = $3Dmol.createViewer(document.getElementById(\"3dmolviewer_17474141115859437\"),{backgroundColor:\"white\"});\n",
       "viewer_17474141115859437.zoomTo();\n",
       "\tviewer_17474141115859437.addModel(\"\\n  automech\\n\\n  0  0  0  0  0  0  0  0  0  0999 V3000\\nM  V30 BEGIN CTAB\\nM  V30 COUNTS 14 14 0 0 0\\nM  V30 BEGIN ATOM\\nM  V30 1 C 0.000 0.000 0.000 RAD=2 VAL=3\\nM  V30 2 C 0.000 0.000 1.524 RAD=1 VAL=4\\nM  V30 3 H 0.000 0.952 -0.547 RAD=1 VAL=1\\nM  V30 4 C 0.340 -1.419 1.869 RAD=2 VAL=3\\nM  V30 5 H -1.001 0.289 1.889 RAD=1 VAL=1\\nM  V30 6 H 0.724 0.719 1.935 RAD=1 VAL=1\\nM  V30 7 C -0.390 -2.404 1.254 RAD=1 VAL=4\\nM  V30 8 H 1.362 -1.665 2.166 RAD=1 VAL=1\\nM  V30 9 C -0.029 -1.172 -0.609 RAD=2 VAL=3\\nM  V30 10 O -1.736 -2.262 0.980 RAD=1 VAL=2\\nM  V30 11 H -0.047 -3.445 1.248 RAD=1 VAL=1\\nM  V30 12 H -0.078 -1.506 -1.646 RAD=1 VAL=1\\nM  V30 13 O -2.426 -3.102 1.914 RAD=1 VAL=2\\nM  V30 14 H -2.938 -3.651 1.305 RAD=1 VAL=1\\nM  V30 END ATOM\\nM  V30 BEGIN BOND\\nM  V30 1 1 7 10 CFG=0\\nM  V30 2 1 9 12 CFG=0\\nM  V30 3 1 2 5 CFG=0\\nM  V30 4 1 4 8 CFG=0\\nM  V30 5 1 1 2 CFG=0\\nM  V30 6 1 7 11 CFG=0\\nM  V30 7 1 1 3 CFG=0\\nM  V30 8 1 4 7 CFG=0\\nM  V30 9 1 7 9 CFG=0\\nM  V30 10 1 2 6 CFG=0\\nM  V30 11 1 13 14 CFG=0\\nM  V30 12 1 10 13 CFG=0\\nM  V30 13 1 2 4 CFG=0\\nM  V30 14 1 1 9 CFG=0\\nM  V30 END BOND\\nM  V30 END CTAB\\nM  END\\n\",\"sdf\");\n",
       "\tviewer_17474141115859437.setStyle({\"stick\": {}, \"sphere\": {\"radius\": 0.3}});\n",
       "\tviewer_17474141115859437.setBackgroundColor(\"0xeeeeee\");\n",
       "\tviewer_17474141115859437.zoomTo();\n",
       "viewer_17474141115859437.render();\n",
       "});\n",
       "</script>"
      ]
     },
     "metadata": {},
     "output_type": "display_data"
    }
   ],
   "source": [
    "# 3. Reverse direction to obtain the forward direction with good structure\n",
    "# (Convert to z-matrix, resetting conversion info to put geometry in z-matrix order)\n",
    "grxn0 = automol.reac.reverse_without_recalculating(rev_grxn, struc=True)\n",
    "zrxn = automol.reac.with_structures(grxn0, \"zmat\", ignore_zc=True)\n",
    "zrxn = automol.reac.reset_conversion_info(zrxn)\n",
    "grxn = automol.reac.with_structures(zrxn, \"geom\", ignore_zc=True)\n",
    "\n",
    "geo = automol.reac.ts_structure(grxn)\n",
    "ggra = automol.reac.ts_graph(grxn)\n",
    "automol.graph.display(ggra, label=True)\n",
    "automol.geom.display(geo, gra=ggra)\n",
    "\n",
    "zma = automol.reac.ts_structure(zrxn)\n",
    "zgra = automol.reac.ts_graph(zrxn)\n",
    "automol.zmat.display(zma, gra=zgra)"
   ]
  },
  {
   "cell_type": "code",
   "execution_count": 5,
   "id": "8cc5f33c",
   "metadata": {},
   "outputs": [
    {
     "data": {
      "text/plain": [
       "4617"
      ]
     },
     "execution_count": 5,
     "metadata": {},
     "output_type": "execute_result"
    }
   ],
   "source": [
    "zma_name = geo_name.with_suffix(\".zmat\")\n",
    "ene = (rev_path / ene_name).read_text().strip()\n",
    "\n",
    "geo_name.write_text(automol.geom.xyz_string(geo, comment=ene))\n",
    "zma_name.write_text(automol.zmat.string(zma, one_indexed=True))\n",
    "zrxn_name.write_text(automol.reac.string(zrxn))"
   ]
  }
 ],
 "metadata": {
  "kernelspec": {
   "display_name": "proto",
   "language": "python",
   "name": "python3"
  },
  "language_info": {
   "codemirror_mode": {
    "name": "ipython",
    "version": 3
   },
   "file_extension": ".py",
   "mimetype": "text/x-python",
   "name": "python",
   "nbconvert_exporter": "python",
   "pygments_lexer": "ipython3",
   "version": "3.11.12"
  }
 },
 "nbformat": 4,
 "nbformat_minor": 5
}
