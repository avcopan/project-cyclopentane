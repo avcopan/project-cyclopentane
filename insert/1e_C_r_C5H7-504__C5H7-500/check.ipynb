{
 "cells": [
  {
   "cell_type": "code",
   "execution_count": 1,
   "id": "8544c7fb",
   "metadata": {},
   "outputs": [
    {
     "name": "stdout",
     "output_type": "stream",
     "text": [
      "----\n",
      "/home/avcopan/proj/project-cyclopentane/insert/1e_C_r_C5H7-504__C5H7-500/save/RXN/C5H7/DABYZUWMLUGAGP/0/2/UHFFFAOYSA-N/C5H7/MNLVCBKWEVXHGE/0/2/UHFFFAOYSA-N/2/wvs8QKU/TS/00/CONFS/rTsyKqYWMKQnZ/cM6J0UM8Jhjh_\n",
      "Lowest frequency mode:\n",
      "  frequency: -2048.6393751844703\n",
      "\n"
     ]
    },
    {
     "data": {
      "application/3dmoljs_load.v0": "<div id=\"3dmolviewer_17581367573149571\"  style=\"position: relative; width: 400px; height: 400px;\">\n        <p id=\"3dmolwarning_17581367573149571\" style=\"background-color:#ffcccc;color:black\">3Dmol.js failed to load for some reason.  Please check your browser console for error messages.<br></p>\n        </div>\n<script>\n\nvar loadScriptAsync = function(uri){\n  return new Promise((resolve, reject) => {\n    //this is to ignore the existence of requirejs amd\n    var savedexports, savedmodule;\n    if (typeof exports !== 'undefined') savedexports = exports;\n    else exports = {}\n    if (typeof module !== 'undefined') savedmodule = module;\n    else module = {}\n\n    var tag = document.createElement('script');\n    tag.src = uri;\n    tag.async = true;\n    tag.onload = () => {\n        exports = savedexports;\n        module = savedmodule;\n        resolve();\n    };\n  var firstScriptTag = document.getElementsByTagName('script')[0];\n  firstScriptTag.parentNode.insertBefore(tag, firstScriptTag);\n});\n};\n\nif(typeof $3Dmolpromise === 'undefined') {\n$3Dmolpromise = null;\n  $3Dmolpromise = loadScriptAsync('https://cdn.jsdelivr.net/npm/3dmol@2.5.0/build/3Dmol-min.js');\n}\n\nvar viewer_17581367573149571 = null;\nvar warn = document.getElementById(\"3dmolwarning_17581367573149571\");\nif(warn) {\n    warn.parentNode.removeChild(warn);\n}\n$3Dmolpromise.then(function() {\nviewer_17581367573149571 = $3Dmol.createViewer(document.getElementById(\"3dmolviewer_17581367573149571\"),{backgroundColor:\"white\"});\nviewer_17581367573149571.zoomTo();\n\tviewer_17581367573149571.addModel(\" 12\\n\\nC   -1.161720  -0.492402  -0.022130   -0.004030   0.014169  -0.021046\\nC   -0.838189   0.927591  -0.016851   -0.005183  -0.005211  -0.000069\\nC    0.147669  -1.212230   0.001786   -0.012803   0.001172   0.018510\\nH   -2.084447  -0.936303  -0.365525   -0.037150  -0.002856   0.085508\\nH    0.248017  -2.251118  -0.272063   -0.028601   0.020894  -0.027654\\nH   -0.706646  -1.034967   1.018168    0.892039  -0.435848  -0.017199\\nC    0.487438   1.122320  -0.002616    0.002744   0.000195   0.001137\\nH   -1.585219   1.709298   0.005030   -0.006950  -0.007811   0.003782\\nC    1.253056  -0.183045  -0.017786   -0.000239   0.000874   0.000913\\nH    0.973717   2.087125   0.047023    0.002835  -0.000355   0.001602\\nH    1.943686  -0.269158   0.831130    0.007089  -0.005775  -0.012332\\nH    1.881366  -0.278286  -0.918184   -0.027599  -0.028366  -0.010903\",\"xyz\",{\"vibrate\": {\"frames\": 10, \"amplitude\": 1}});\n\tviewer_17581367573149571.setStyle({\"stick\": {}, \"sphere\": {\"radius\": 0.3}});\n\tviewer_17581367573149571.setBackgroundColor(\"0xeeeeee\");\n\tviewer_17581367573149571.animate({\"loop\": \"backAndForth\"});\n\tviewer_17581367573149571.zoomTo();\nviewer_17581367573149571.render();\n});\n</script>",
      "text/html": [
       "<div id=\"3dmolviewer_17581367573149571\"  style=\"position: relative; width: 400px; height: 400px;\">\n",
       "        <p id=\"3dmolwarning_17581367573149571\" style=\"background-color:#ffcccc;color:black\">3Dmol.js failed to load for some reason.  Please check your browser console for error messages.<br></p>\n",
       "        </div>\n",
       "<script>\n",
       "\n",
       "var loadScriptAsync = function(uri){\n",
       "  return new Promise((resolve, reject) => {\n",
       "    //this is to ignore the existence of requirejs amd\n",
       "    var savedexports, savedmodule;\n",
       "    if (typeof exports !== 'undefined') savedexports = exports;\n",
       "    else exports = {}\n",
       "    if (typeof module !== 'undefined') savedmodule = module;\n",
       "    else module = {}\n",
       "\n",
       "    var tag = document.createElement('script');\n",
       "    tag.src = uri;\n",
       "    tag.async = true;\n",
       "    tag.onload = () => {\n",
       "        exports = savedexports;\n",
       "        module = savedmodule;\n",
       "        resolve();\n",
       "    };\n",
       "  var firstScriptTag = document.getElementsByTagName('script')[0];\n",
       "  firstScriptTag.parentNode.insertBefore(tag, firstScriptTag);\n",
       "});\n",
       "};\n",
       "\n",
       "if(typeof $3Dmolpromise === 'undefined') {\n",
       "$3Dmolpromise = null;\n",
       "  $3Dmolpromise = loadScriptAsync('https://cdn.jsdelivr.net/npm/3dmol@2.5.0/build/3Dmol-min.js');\n",
       "}\n",
       "\n",
       "var viewer_17581367573149571 = null;\n",
       "var warn = document.getElementById(\"3dmolwarning_17581367573149571\");\n",
       "if(warn) {\n",
       "    warn.parentNode.removeChild(warn);\n",
       "}\n",
       "$3Dmolpromise.then(function() {\n",
       "viewer_17581367573149571 = $3Dmol.createViewer(document.getElementById(\"3dmolviewer_17581367573149571\"),{backgroundColor:\"white\"});\n",
       "viewer_17581367573149571.zoomTo();\n",
       "\tviewer_17581367573149571.addModel(\" 12\\n\\nC   -1.161720  -0.492402  -0.022130   -0.004030   0.014169  -0.021046\\nC   -0.838189   0.927591  -0.016851   -0.005183  -0.005211  -0.000069\\nC    0.147669  -1.212230   0.001786   -0.012803   0.001172   0.018510\\nH   -2.084447  -0.936303  -0.365525   -0.037150  -0.002856   0.085508\\nH    0.248017  -2.251118  -0.272063   -0.028601   0.020894  -0.027654\\nH   -0.706646  -1.034967   1.018168    0.892039  -0.435848  -0.017199\\nC    0.487438   1.122320  -0.002616    0.002744   0.000195   0.001137\\nH   -1.585219   1.709298   0.005030   -0.006950  -0.007811   0.003782\\nC    1.253056  -0.183045  -0.017786   -0.000239   0.000874   0.000913\\nH    0.973717   2.087125   0.047023    0.002835  -0.000355   0.001602\\nH    1.943686  -0.269158   0.831130    0.007089  -0.005775  -0.012332\\nH    1.881366  -0.278286  -0.918184   -0.027599  -0.028366  -0.010903\",\"xyz\",{\"vibrate\": {\"frames\": 10, \"amplitude\": 1}});\n",
       "\tviewer_17581367573149571.setStyle({\"stick\": {}, \"sphere\": {\"radius\": 0.3}});\n",
       "\tviewer_17581367573149571.setBackgroundColor(\"0xeeeeee\");\n",
       "\tviewer_17581367573149571.animate({\"loop\": \"backAndForth\"});\n",
       "\tviewer_17581367573149571.zoomTo();\n",
       "viewer_17581367573149571.render();\n",
       "});\n",
       "</script>"
      ]
     },
     "metadata": {},
     "output_type": "display_data"
    }
   ],
   "source": [
    "from mechdriver.subtasks import display as display_\n",
    "\n",
    "display_(\"conf_opt\", \"74: 1\")\n",
    "# display_(\"find_ts\", \"30: 1\")"
   ]
  }
 ],
 "metadata": {
  "kernelspec": {
   "display_name": "dev",
   "language": "python",
   "name": "python3"
  },
  "language_info": {
   "codemirror_mode": {
    "name": "ipython",
    "version": 3
   },
   "file_extension": ".py",
   "mimetype": "text/x-python",
   "name": "python",
   "nbconvert_exporter": "python",
   "pygments_lexer": "ipython3",
   "version": "3.11.13"
  }
 },
 "nbformat": 4,
 "nbformat_minor": 5
}
