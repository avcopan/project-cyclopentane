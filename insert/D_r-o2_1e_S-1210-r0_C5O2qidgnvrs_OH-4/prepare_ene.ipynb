{
 "cells": [
  {
   "cell_type": "code",
   "execution_count": 1,
   "id": "35e65ca6",
   "metadata": {},
   "outputs": [],
   "source": [
    "from pathlib import Path\n",
    "\n",
    "import automol\n",
    "\n",
    "ane_path = Path(\"ane\")\n",
    "ene_path = Path(\"ene\")\n",
    "geo_name = Path(\"geom.xyz\")\n",
    "ene_name = Path(\"sp.ene\")\n",
    "zrxn_name = Path(\"zmat.r.yaml\")"
   ]
  },
  {
   "cell_type": "code",
   "execution_count": 2,
   "id": "58833aef",
   "metadata": {},
   "outputs": [
    {
     "data": {
      "application/vnd.jupyter.widget-view+json": {
       "model_id": "53e97964a2734e59bb2d9dd0b18643ea",
       "version_major": 2,
       "version_minor": 0
      },
      "text/plain": [
       "HBox(children=(Image(value=b\"<?xml version='1.0' encoding='iso-8859-1...\", format='svg+xml', height='300', wid…"
      ]
     },
     "metadata": {},
     "output_type": "display_data"
    },
    {
     "data": {
      "application/3dmoljs_load.v0": "<div id=\"3dmolviewer_1748273370300833\"  style=\"position: relative; width: 400px; height: 400px;\">\n        <p id=\"3dmolwarning_1748273370300833\" style=\"background-color:#ffcccc;color:black\">3Dmol.js failed to load for some reason.  Please check your browser console for error messages.<br></p>\n        </div>\n<script>\n\nvar loadScriptAsync = function(uri){\n  return new Promise((resolve, reject) => {\n    //this is to ignore the existence of requirejs amd\n    var savedexports, savedmodule;\n    if (typeof exports !== 'undefined') savedexports = exports;\n    else exports = {}\n    if (typeof module !== 'undefined') savedmodule = module;\n    else module = {}\n\n    var tag = document.createElement('script');\n    tag.src = uri;\n    tag.async = true;\n    tag.onload = () => {\n        exports = savedexports;\n        module = savedmodule;\n        resolve();\n    };\n  var firstScriptTag = document.getElementsByTagName('script')[0];\n  firstScriptTag.parentNode.insertBefore(tag, firstScriptTag);\n});\n};\n\nif(typeof $3Dmolpromise === 'undefined') {\n$3Dmolpromise = null;\n  $3Dmolpromise = loadScriptAsync('https://cdnjs.cloudflare.com/ajax/libs/3Dmol/2.4.2/3Dmol-min.js');\n}\n\nvar viewer_1748273370300833 = null;\nvar warn = document.getElementById(\"3dmolwarning_1748273370300833\");\nif(warn) {\n    warn.parentNode.removeChild(warn);\n}\n$3Dmolpromise.then(function() {\nviewer_1748273370300833 = $3Dmol.createViewer(document.getElementById(\"3dmolviewer_1748273370300833\"),{backgroundColor:\"white\"});\nviewer_1748273370300833.zoomTo();\n\tviewer_1748273370300833.addModel(\"\\n  automech\\n\\n  0  0  0  0  0  0  0  0  0  0999 V3000\\nM  V30 BEGIN CTAB\\nM  V30 COUNTS 16 16 0 0 0\\nM  V30 BEGIN ATOM\\nM  V30 1 C 1.132 -0.513 -0.817 RAD=2 VAL=3\\nM  V30 2 C 0.961 -1.203 0.508 RAD=1 VAL=4\\nM  V30 3 C 1.283 0.962 -0.568 RAD=1 VAL=4\\nM  V30 4 H 1.404 -1.002 -1.755 RAD=1 VAL=1\\nM  V30 5 C -0.194 -0.255 0.804 RAD=1 VAL=4\\nM  V30 6 H 0.635 -2.247 0.425 RAD=1 VAL=1\\nM  V30 7 H 1.831 -1.126 1.187 RAD=1 VAL=1\\nM  V30 8 O -0.839 -0.452 -0.457 RAD=1 VAL=2\\nM  V30 9 H -0.873 -0.451 1.644 RAD=1 VAL=1\\nM  V30 10 O -2.395 0.187 -0.130 RAD=1 VAL=2\\nM  V30 11 C 0.427 1.142 0.716 RAD=1 VAL=4\\nM  V30 12 H 0.918 1.556 -1.418 RAD=1 VAL=1\\nM  V30 13 H 2.342 1.233 -0.412 RAD=1 VAL=1\\nM  V30 14 H -0.361 1.896 0.600 RAD=1 VAL=1\\nM  V30 15 H 1.028 1.387 1.605 RAD=1 VAL=1\\nM  V30 16 H -2.702 0.081 -1.040 RAD=1 VAL=1\\nM  V30 END ATOM\\nM  V30 BEGIN BOND\\nM  V30 1 1 5 11 CFG=0\\nM  V30 2 1 2 5 CFG=0\\nM  V30 3 1 3 11 CFG=0\\nM  V30 4 1 1 4 CFG=0\\nM  V30 5 1 1 2 CFG=0\\nM  V30 6 1 1 3 CFG=0\\nM  V30 7 1 8 10 CFG=0\\nM  V30 8 1 11 14 CFG=0\\nM  V30 9 1 3 13 CFG=0\\nM  V30 10 1 11 15 CFG=0\\nM  V30 11 1 2 6 CFG=0\\nM  V30 12 1 3 12 CFG=0\\nM  V30 13 1 2 7 CFG=0\\nM  V30 14 1 10 16 CFG=0\\nM  V30 15 1 5 9 CFG=0\\nM  V30 16 1 5 8 CFG=0\\nM  V30 END BOND\\nM  V30 END CTAB\\nM  END\\n\",\"sdf\");\n\tviewer_1748273370300833.setStyle({\"stick\": {}, \"sphere\": {\"radius\": 0.3}});\n\tviewer_1748273370300833.setBackgroundColor(\"0xeeeeee\");\n\tviewer_1748273370300833.zoomTo();\n\tviewer_1748273370300833.addArrow({\"start\": {\"x\": 1.132004, \"y\": -0.512773, \"z\": -0.81666}, \"end\": {\"x\": 0.1500753320889361, \"y\": -0.4565686425118707, \"z\": -0.9973729251983661}, \"color\": \"black\"});\n\tviewer_1748273370300833.zoomTo();\n\tviewer_1748273370300833.addArrow({\"start\": {\"x\": -0.839089, \"y\": -0.45214799999999994, \"z\": -0.457299}, \"end\": {\"x\": 0.06899369035403435, \"y\": -0.8248955872489049, \"z\": -0.6482049026837537}, \"color\": \"black\"});\n\tviewer_1748273370300833.zoomTo();\nviewer_1748273370300833.render();\n});\n</script>",
      "text/html": [
       "<div id=\"3dmolviewer_1748273370300833\"  style=\"position: relative; width: 400px; height: 400px;\">\n",
       "        <p id=\"3dmolwarning_1748273370300833\" style=\"background-color:#ffcccc;color:black\">3Dmol.js failed to load for some reason.  Please check your browser console for error messages.<br></p>\n",
       "        </div>\n",
       "<script>\n",
       "\n",
       "var loadScriptAsync = function(uri){\n",
       "  return new Promise((resolve, reject) => {\n",
       "    //this is to ignore the existence of requirejs amd\n",
       "    var savedexports, savedmodule;\n",
       "    if (typeof exports !== 'undefined') savedexports = exports;\n",
       "    else exports = {}\n",
       "    if (typeof module !== 'undefined') savedmodule = module;\n",
       "    else module = {}\n",
       "\n",
       "    var tag = document.createElement('script');\n",
       "    tag.src = uri;\n",
       "    tag.async = true;\n",
       "    tag.onload = () => {\n",
       "        exports = savedexports;\n",
       "        module = savedmodule;\n",
       "        resolve();\n",
       "    };\n",
       "  var firstScriptTag = document.getElementsByTagName('script')[0];\n",
       "  firstScriptTag.parentNode.insertBefore(tag, firstScriptTag);\n",
       "});\n",
       "};\n",
       "\n",
       "if(typeof $3Dmolpromise === 'undefined') {\n",
       "$3Dmolpromise = null;\n",
       "  $3Dmolpromise = loadScriptAsync('https://cdnjs.cloudflare.com/ajax/libs/3Dmol/2.4.2/3Dmol-min.js');\n",
       "}\n",
       "\n",
       "var viewer_1748273370300833 = null;\n",
       "var warn = document.getElementById(\"3dmolwarning_1748273370300833\");\n",
       "if(warn) {\n",
       "    warn.parentNode.removeChild(warn);\n",
       "}\n",
       "$3Dmolpromise.then(function() {\n",
       "viewer_1748273370300833 = $3Dmol.createViewer(document.getElementById(\"3dmolviewer_1748273370300833\"),{backgroundColor:\"white\"});\n",
       "viewer_1748273370300833.zoomTo();\n",
       "\tviewer_1748273370300833.addModel(\"\\n  automech\\n\\n  0  0  0  0  0  0  0  0  0  0999 V3000\\nM  V30 BEGIN CTAB\\nM  V30 COUNTS 16 16 0 0 0\\nM  V30 BEGIN ATOM\\nM  V30 1 C 1.132 -0.513 -0.817 RAD=2 VAL=3\\nM  V30 2 C 0.961 -1.203 0.508 RAD=1 VAL=4\\nM  V30 3 C 1.283 0.962 -0.568 RAD=1 VAL=4\\nM  V30 4 H 1.404 -1.002 -1.755 RAD=1 VAL=1\\nM  V30 5 C -0.194 -0.255 0.804 RAD=1 VAL=4\\nM  V30 6 H 0.635 -2.247 0.425 RAD=1 VAL=1\\nM  V30 7 H 1.831 -1.126 1.187 RAD=1 VAL=1\\nM  V30 8 O -0.839 -0.452 -0.457 RAD=1 VAL=2\\nM  V30 9 H -0.873 -0.451 1.644 RAD=1 VAL=1\\nM  V30 10 O -2.395 0.187 -0.130 RAD=1 VAL=2\\nM  V30 11 C 0.427 1.142 0.716 RAD=1 VAL=4\\nM  V30 12 H 0.918 1.556 -1.418 RAD=1 VAL=1\\nM  V30 13 H 2.342 1.233 -0.412 RAD=1 VAL=1\\nM  V30 14 H -0.361 1.896 0.600 RAD=1 VAL=1\\nM  V30 15 H 1.028 1.387 1.605 RAD=1 VAL=1\\nM  V30 16 H -2.702 0.081 -1.040 RAD=1 VAL=1\\nM  V30 END ATOM\\nM  V30 BEGIN BOND\\nM  V30 1 1 5 11 CFG=0\\nM  V30 2 1 2 5 CFG=0\\nM  V30 3 1 3 11 CFG=0\\nM  V30 4 1 1 4 CFG=0\\nM  V30 5 1 1 2 CFG=0\\nM  V30 6 1 1 3 CFG=0\\nM  V30 7 1 8 10 CFG=0\\nM  V30 8 1 11 14 CFG=0\\nM  V30 9 1 3 13 CFG=0\\nM  V30 10 1 11 15 CFG=0\\nM  V30 11 1 2 6 CFG=0\\nM  V30 12 1 3 12 CFG=0\\nM  V30 13 1 2 7 CFG=0\\nM  V30 14 1 10 16 CFG=0\\nM  V30 15 1 5 9 CFG=0\\nM  V30 16 1 5 8 CFG=0\\nM  V30 END BOND\\nM  V30 END CTAB\\nM  END\\n\",\"sdf\");\n",
       "\tviewer_1748273370300833.setStyle({\"stick\": {}, \"sphere\": {\"radius\": 0.3}});\n",
       "\tviewer_1748273370300833.setBackgroundColor(\"0xeeeeee\");\n",
       "\tviewer_1748273370300833.zoomTo();\n",
       "\tviewer_1748273370300833.addArrow({\"start\": {\"x\": 1.132004, \"y\": -0.512773, \"z\": -0.81666}, \"end\": {\"x\": 0.1500753320889361, \"y\": -0.4565686425118707, \"z\": -0.9973729251983661}, \"color\": \"black\"});\n",
       "\tviewer_1748273370300833.zoomTo();\n",
       "\tviewer_1748273370300833.addArrow({\"start\": {\"x\": -0.839089, \"y\": -0.45214799999999994, \"z\": -0.457299}, \"end\": {\"x\": 0.06899369035403435, \"y\": -0.8248955872489049, \"z\": -0.6482049026837537}, \"color\": \"black\"});\n",
       "\tviewer_1748273370300833.zoomTo();\n",
       "viewer_1748273370300833.render();\n",
       "});\n",
       "</script>"
      ]
     },
     "metadata": {},
     "output_type": "display_data"
    }
   ],
   "source": [
    "# 2. Read in cyclopentane geometry\n",
    "ane_geo = automol.geom.from_xyz_string((ane_path / geo_name).read_text())\n",
    "ane_zrxn = automol.reac.from_string((ane_path / zrxn_name).read_text())\n",
    "ane_grxn = automol.reac.with_structures(ane_zrxn, \"geom\", ignore_zc=True)\n",
    "ane_grxn = automol.reac.update_structures(ane_grxn, ts_struc=ane_geo)\n",
    "\n",
    "ane_geo = automol.reac.ts_structure(ane_grxn)\n",
    "ane_ggra = automol.reac.ts_graph(ane_grxn)\n",
    "automol.graph.display(ane_ggra, label=True, exp=True)\n",
    "automol.geom.display(ane_geo, gra=ane_ggra)"
   ]
  },
  {
   "cell_type": "code",
   "execution_count": 3,
   "id": "6606055e",
   "metadata": {},
   "outputs": [
    {
     "data": {
      "application/3dmoljs_load.v0": "<div id=\"3dmolviewer_1748273371568613\"  style=\"position: relative; width: 400px; height: 400px;\">\n        <p id=\"3dmolwarning_1748273371568613\" style=\"background-color:#ffcccc;color:black\">3Dmol.js failed to load for some reason.  Please check your browser console for error messages.<br></p>\n        </div>\n<script>\n\nvar loadScriptAsync = function(uri){\n  return new Promise((resolve, reject) => {\n    //this is to ignore the existence of requirejs amd\n    var savedexports, savedmodule;\n    if (typeof exports !== 'undefined') savedexports = exports;\n    else exports = {}\n    if (typeof module !== 'undefined') savedmodule = module;\n    else module = {}\n\n    var tag = document.createElement('script');\n    tag.src = uri;\n    tag.async = true;\n    tag.onload = () => {\n        exports = savedexports;\n        module = savedmodule;\n        resolve();\n    };\n  var firstScriptTag = document.getElementsByTagName('script')[0];\n  firstScriptTag.parentNode.insertBefore(tag, firstScriptTag);\n});\n};\n\nif(typeof $3Dmolpromise === 'undefined') {\n$3Dmolpromise = null;\n  $3Dmolpromise = loadScriptAsync('https://cdnjs.cloudflare.com/ajax/libs/3Dmol/2.4.2/3Dmol-min.js');\n}\n\nvar viewer_1748273371568613 = null;\nvar warn = document.getElementById(\"3dmolwarning_1748273371568613\");\nif(warn) {\n    warn.parentNode.removeChild(warn);\n}\n$3Dmolpromise.then(function() {\nviewer_1748273371568613 = $3Dmol.createViewer(document.getElementById(\"3dmolviewer_1748273371568613\"),{backgroundColor:\"white\"});\nviewer_1748273371568613.zoomTo();\n\tviewer_1748273371568613.addModel(\"\\n  automech\\n\\n  0  0  0  0  0  0  0  0  0  0999 V3000\\nM  V30 BEGIN CTAB\\nM  V30 COUNTS 14 14 0 0 0\\nM  V30 BEGIN ATOM\\nM  V30 1 C 1.132 -0.513 -0.817 RAD=2 VAL=3\\nM  V30 2 C 0.961 -1.203 0.508 RAD=1 VAL=4\\nM  V30 3 C 1.283 0.962 -0.568 RAD=2 VAL=3\\nM  V30 4 H 1.404 -1.002 -1.755 RAD=1 VAL=1\\nM  V30 5 C -0.194 -0.255 0.804 RAD=1 VAL=4\\nM  V30 6 H 0.635 -2.247 0.425 RAD=1 VAL=1\\nM  V30 7 H 1.831 -1.126 1.187 RAD=1 VAL=1\\nM  V30 8 O -0.839 -0.452 -0.457 RAD=1 VAL=2\\nM  V30 9 H -0.873 -0.451 1.644 RAD=1 VAL=1\\nM  V30 10 O -2.395 0.187 -0.130 RAD=1 VAL=2\\nM  V30 11 C 0.427 1.142 0.716 RAD=2 VAL=3\\nM  V30 12 H 0.918 1.556 -1.418 RAD=1 VAL=1\\nM  V30 13 H -0.361 1.896 0.600 RAD=1 VAL=1\\nM  V30 14 H -2.702 0.081 -1.040 RAD=1 VAL=1\\nM  V30 END ATOM\\nM  V30 BEGIN BOND\\nM  V30 1 1 5 11 CFG=0\\nM  V30 2 1 2 5 CFG=0\\nM  V30 3 1 3 11 CFG=0\\nM  V30 4 1 10 14 CFG=0\\nM  V30 5 1 1 4 CFG=0\\nM  V30 6 1 1 2 CFG=0\\nM  V30 7 1 1 3 CFG=0\\nM  V30 8 1 8 10 CFG=0\\nM  V30 9 1 11 13 CFG=0\\nM  V30 10 1 2 6 CFG=0\\nM  V30 11 1 3 12 CFG=0\\nM  V30 12 1 2 7 CFG=0\\nM  V30 13 1 5 9 CFG=0\\nM  V30 14 1 5 8 CFG=0\\nM  V30 END BOND\\nM  V30 END CTAB\\nM  END\\n\",\"sdf\");\n\tviewer_1748273371568613.setStyle({\"stick\": {}, \"sphere\": {\"radius\": 0.3}});\n\tviewer_1748273371568613.setBackgroundColor(\"0xeeeeee\");\n\tviewer_1748273371568613.zoomTo();\n\tviewer_1748273371568613.addArrow({\"start\": {\"x\": 1.132004, \"y\": -0.512773, \"z\": -0.81666}, \"end\": {\"x\": 0.16916964099384546, \"y\": -0.6380609325758415, \"z\": -1.0559358472309306}, \"color\": \"black\"});\n\tviewer_1748273371568613.zoomTo();\n\tviewer_1748273371568613.addArrow({\"start\": {\"x\": -0.839089, \"y\": -0.45214799999999994, \"z\": -0.457299}, \"end\": {\"x\": 0.06899369035403435, \"y\": -0.8248955872489049, \"z\": -0.6482049026837537}, \"color\": \"black\"});\n\tviewer_1748273371568613.zoomTo();\nviewer_1748273371568613.render();\n});\n</script>",
      "text/html": [
       "<div id=\"3dmolviewer_1748273371568613\"  style=\"position: relative; width: 400px; height: 400px;\">\n",
       "        <p id=\"3dmolwarning_1748273371568613\" style=\"background-color:#ffcccc;color:black\">3Dmol.js failed to load for some reason.  Please check your browser console for error messages.<br></p>\n",
       "        </div>\n",
       "<script>\n",
       "\n",
       "var loadScriptAsync = function(uri){\n",
       "  return new Promise((resolve, reject) => {\n",
       "    //this is to ignore the existence of requirejs amd\n",
       "    var savedexports, savedmodule;\n",
       "    if (typeof exports !== 'undefined') savedexports = exports;\n",
       "    else exports = {}\n",
       "    if (typeof module !== 'undefined') savedmodule = module;\n",
       "    else module = {}\n",
       "\n",
       "    var tag = document.createElement('script');\n",
       "    tag.src = uri;\n",
       "    tag.async = true;\n",
       "    tag.onload = () => {\n",
       "        exports = savedexports;\n",
       "        module = savedmodule;\n",
       "        resolve();\n",
       "    };\n",
       "  var firstScriptTag = document.getElementsByTagName('script')[0];\n",
       "  firstScriptTag.parentNode.insertBefore(tag, firstScriptTag);\n",
       "});\n",
       "};\n",
       "\n",
       "if(typeof $3Dmolpromise === 'undefined') {\n",
       "$3Dmolpromise = null;\n",
       "  $3Dmolpromise = loadScriptAsync('https://cdnjs.cloudflare.com/ajax/libs/3Dmol/2.4.2/3Dmol-min.js');\n",
       "}\n",
       "\n",
       "var viewer_1748273371568613 = null;\n",
       "var warn = document.getElementById(\"3dmolwarning_1748273371568613\");\n",
       "if(warn) {\n",
       "    warn.parentNode.removeChild(warn);\n",
       "}\n",
       "$3Dmolpromise.then(function() {\n",
       "viewer_1748273371568613 = $3Dmol.createViewer(document.getElementById(\"3dmolviewer_1748273371568613\"),{backgroundColor:\"white\"});\n",
       "viewer_1748273371568613.zoomTo();\n",
       "\tviewer_1748273371568613.addModel(\"\\n  automech\\n\\n  0  0  0  0  0  0  0  0  0  0999 V3000\\nM  V30 BEGIN CTAB\\nM  V30 COUNTS 14 14 0 0 0\\nM  V30 BEGIN ATOM\\nM  V30 1 C 1.132 -0.513 -0.817 RAD=2 VAL=3\\nM  V30 2 C 0.961 -1.203 0.508 RAD=1 VAL=4\\nM  V30 3 C 1.283 0.962 -0.568 RAD=2 VAL=3\\nM  V30 4 H 1.404 -1.002 -1.755 RAD=1 VAL=1\\nM  V30 5 C -0.194 -0.255 0.804 RAD=1 VAL=4\\nM  V30 6 H 0.635 -2.247 0.425 RAD=1 VAL=1\\nM  V30 7 H 1.831 -1.126 1.187 RAD=1 VAL=1\\nM  V30 8 O -0.839 -0.452 -0.457 RAD=1 VAL=2\\nM  V30 9 H -0.873 -0.451 1.644 RAD=1 VAL=1\\nM  V30 10 O -2.395 0.187 -0.130 RAD=1 VAL=2\\nM  V30 11 C 0.427 1.142 0.716 RAD=2 VAL=3\\nM  V30 12 H 0.918 1.556 -1.418 RAD=1 VAL=1\\nM  V30 13 H -0.361 1.896 0.600 RAD=1 VAL=1\\nM  V30 14 H -2.702 0.081 -1.040 RAD=1 VAL=1\\nM  V30 END ATOM\\nM  V30 BEGIN BOND\\nM  V30 1 1 5 11 CFG=0\\nM  V30 2 1 2 5 CFG=0\\nM  V30 3 1 3 11 CFG=0\\nM  V30 4 1 10 14 CFG=0\\nM  V30 5 1 1 4 CFG=0\\nM  V30 6 1 1 2 CFG=0\\nM  V30 7 1 1 3 CFG=0\\nM  V30 8 1 8 10 CFG=0\\nM  V30 9 1 11 13 CFG=0\\nM  V30 10 1 2 6 CFG=0\\nM  V30 11 1 3 12 CFG=0\\nM  V30 12 1 2 7 CFG=0\\nM  V30 13 1 5 9 CFG=0\\nM  V30 14 1 5 8 CFG=0\\nM  V30 END BOND\\nM  V30 END CTAB\\nM  END\\n\",\"sdf\");\n",
       "\tviewer_1748273371568613.setStyle({\"stick\": {}, \"sphere\": {\"radius\": 0.3}});\n",
       "\tviewer_1748273371568613.setBackgroundColor(\"0xeeeeee\");\n",
       "\tviewer_1748273371568613.zoomTo();\n",
       "\tviewer_1748273371568613.addArrow({\"start\": {\"x\": 1.132004, \"y\": -0.512773, \"z\": -0.81666}, \"end\": {\"x\": 0.16916964099384546, \"y\": -0.6380609325758415, \"z\": -1.0559358472309306}, \"color\": \"black\"});\n",
       "\tviewer_1748273371568613.zoomTo();\n",
       "\tviewer_1748273371568613.addArrow({\"start\": {\"x\": -0.839089, \"y\": -0.45214799999999994, \"z\": -0.457299}, \"end\": {\"x\": 0.06899369035403435, \"y\": -0.8248955872489049, \"z\": -0.6482049026837537}, \"color\": \"black\"});\n",
       "\tviewer_1748273371568613.zoomTo();\n",
       "viewer_1748273371568613.render();\n",
       "});\n",
       "</script>"
      ]
     },
     "metadata": {},
     "output_type": "display_data"
    },
    {
     "data": {
      "application/3dmoljs_load.v0": "<div id=\"3dmolviewer_1748273372884875\"  style=\"position: relative; width: 400px; height: 400px;\">\n        <p id=\"3dmolwarning_1748273372884875\" style=\"background-color:#ffcccc;color:black\">3Dmol.js failed to load for some reason.  Please check your browser console for error messages.<br></p>\n        </div>\n<script>\n\nvar loadScriptAsync = function(uri){\n  return new Promise((resolve, reject) => {\n    //this is to ignore the existence of requirejs amd\n    var savedexports, savedmodule;\n    if (typeof exports !== 'undefined') savedexports = exports;\n    else exports = {}\n    if (typeof module !== 'undefined') savedmodule = module;\n    else module = {}\n\n    var tag = document.createElement('script');\n    tag.src = uri;\n    tag.async = true;\n    tag.onload = () => {\n        exports = savedexports;\n        module = savedmodule;\n        resolve();\n    };\n  var firstScriptTag = document.getElementsByTagName('script')[0];\n  firstScriptTag.parentNode.insertBefore(tag, firstScriptTag);\n});\n};\n\nif(typeof $3Dmolpromise === 'undefined') {\n$3Dmolpromise = null;\n  $3Dmolpromise = loadScriptAsync('https://cdnjs.cloudflare.com/ajax/libs/3Dmol/2.4.2/3Dmol-min.js');\n}\n\nvar viewer_1748273372884875 = null;\nvar warn = document.getElementById(\"3dmolwarning_1748273372884875\");\nif(warn) {\n    warn.parentNode.removeChild(warn);\n}\n$3Dmolpromise.then(function() {\nviewer_1748273372884875 = $3Dmol.createViewer(document.getElementById(\"3dmolviewer_1748273372884875\"),{backgroundColor:\"white\"});\nviewer_1748273372884875.zoomTo();\n\tviewer_1748273372884875.addModel(\"\\n  automech\\n\\n  0  0  0  0  0  0  0  0  0  0999 V3000\\nM  V30 BEGIN CTAB\\nM  V30 COUNTS 14 14 0 0 0\\nM  V30 BEGIN ATOM\\nM  V30 1 C 1.132 -0.513 -0.817 RAD=2 VAL=3\\nM  V30 2 C 0.961 -1.203 0.508 RAD=1 VAL=4\\nM  V30 3 C 1.283 0.962 -0.568 RAD=2 VAL=3\\nM  V30 4 H 1.404 -1.002 -1.755 RAD=1 VAL=1\\nM  V30 5 C -0.194 -0.255 0.804 RAD=1 VAL=4\\nM  V30 6 H 0.635 -2.247 0.425 RAD=1 VAL=1\\nM  V30 7 H 1.831 -1.126 1.187 RAD=1 VAL=1\\nM  V30 8 O -0.839 -0.452 -0.457 RAD=1 VAL=2\\nM  V30 9 H -0.873 -0.451 1.644 RAD=1 VAL=1\\nM  V30 10 O -2.395 0.187 -0.130 RAD=1 VAL=2\\nM  V30 11 C 0.427 1.142 0.716 RAD=2 VAL=3\\nM  V30 12 H 0.918 1.556 -1.418 RAD=1 VAL=1\\nM  V30 13 H -0.361 1.896 0.600 RAD=1 VAL=1\\nM  V30 14 H -2.702 0.081 -1.040 RAD=1 VAL=1\\nM  V30 END ATOM\\nM  V30 BEGIN BOND\\nM  V30 1 1 5 11 CFG=0\\nM  V30 2 1 2 5 CFG=0\\nM  V30 3 1 3 11 CFG=0\\nM  V30 4 1 10 14 CFG=0\\nM  V30 5 1 1 4 CFG=0\\nM  V30 6 1 1 2 CFG=0\\nM  V30 7 1 1 3 CFG=0\\nM  V30 8 1 8 10 CFG=0\\nM  V30 9 1 11 13 CFG=0\\nM  V30 10 1 2 6 CFG=0\\nM  V30 11 1 3 12 CFG=0\\nM  V30 12 1 2 7 CFG=0\\nM  V30 13 1 5 9 CFG=0\\nM  V30 14 1 5 8 CFG=0\\nM  V30 END BOND\\nM  V30 END CTAB\\nM  END\\n\",\"sdf\");\n\tviewer_1748273372884875.setStyle({\"stick\": {}, \"sphere\": {\"radius\": 0.3}});\n\tviewer_1748273372884875.setBackgroundColor(\"0xeeeeee\");\n\tviewer_1748273372884875.zoomTo();\n\tviewer_1748273372884875.addArrow({\"start\": {\"x\": 1.132004, \"y\": -0.512773, \"z\": -0.81666}, \"end\": {\"x\": 0.16916964099384546, \"y\": -0.6380609325758415, \"z\": -1.0559358472309306}, \"color\": \"black\"});\n\tviewer_1748273372884875.zoomTo();\n\tviewer_1748273372884875.addArrow({\"start\": {\"x\": -0.839089, \"y\": -0.45214799999999994, \"z\": -0.457299}, \"end\": {\"x\": 0.06899369035403435, \"y\": -0.8248955872489049, \"z\": -0.6482049026837537}, \"color\": \"black\"});\n\tviewer_1748273372884875.zoomTo();\nviewer_1748273372884875.render();\n});\n</script>",
      "text/html": [
       "<div id=\"3dmolviewer_1748273372884875\"  style=\"position: relative; width: 400px; height: 400px;\">\n",
       "        <p id=\"3dmolwarning_1748273372884875\" style=\"background-color:#ffcccc;color:black\">3Dmol.js failed to load for some reason.  Please check your browser console for error messages.<br></p>\n",
       "        </div>\n",
       "<script>\n",
       "\n",
       "var loadScriptAsync = function(uri){\n",
       "  return new Promise((resolve, reject) => {\n",
       "    //this is to ignore the existence of requirejs amd\n",
       "    var savedexports, savedmodule;\n",
       "    if (typeof exports !== 'undefined') savedexports = exports;\n",
       "    else exports = {}\n",
       "    if (typeof module !== 'undefined') savedmodule = module;\n",
       "    else module = {}\n",
       "\n",
       "    var tag = document.createElement('script');\n",
       "    tag.src = uri;\n",
       "    tag.async = true;\n",
       "    tag.onload = () => {\n",
       "        exports = savedexports;\n",
       "        module = savedmodule;\n",
       "        resolve();\n",
       "    };\n",
       "  var firstScriptTag = document.getElementsByTagName('script')[0];\n",
       "  firstScriptTag.parentNode.insertBefore(tag, firstScriptTag);\n",
       "});\n",
       "};\n",
       "\n",
       "if(typeof $3Dmolpromise === 'undefined') {\n",
       "$3Dmolpromise = null;\n",
       "  $3Dmolpromise = loadScriptAsync('https://cdnjs.cloudflare.com/ajax/libs/3Dmol/2.4.2/3Dmol-min.js');\n",
       "}\n",
       "\n",
       "var viewer_1748273372884875 = null;\n",
       "var warn = document.getElementById(\"3dmolwarning_1748273372884875\");\n",
       "if(warn) {\n",
       "    warn.parentNode.removeChild(warn);\n",
       "}\n",
       "$3Dmolpromise.then(function() {\n",
       "viewer_1748273372884875 = $3Dmol.createViewer(document.getElementById(\"3dmolviewer_1748273372884875\"),{backgroundColor:\"white\"});\n",
       "viewer_1748273372884875.zoomTo();\n",
       "\tviewer_1748273372884875.addModel(\"\\n  automech\\n\\n  0  0  0  0  0  0  0  0  0  0999 V3000\\nM  V30 BEGIN CTAB\\nM  V30 COUNTS 14 14 0 0 0\\nM  V30 BEGIN ATOM\\nM  V30 1 C 1.132 -0.513 -0.817 RAD=2 VAL=3\\nM  V30 2 C 0.961 -1.203 0.508 RAD=1 VAL=4\\nM  V30 3 C 1.283 0.962 -0.568 RAD=2 VAL=3\\nM  V30 4 H 1.404 -1.002 -1.755 RAD=1 VAL=1\\nM  V30 5 C -0.194 -0.255 0.804 RAD=1 VAL=4\\nM  V30 6 H 0.635 -2.247 0.425 RAD=1 VAL=1\\nM  V30 7 H 1.831 -1.126 1.187 RAD=1 VAL=1\\nM  V30 8 O -0.839 -0.452 -0.457 RAD=1 VAL=2\\nM  V30 9 H -0.873 -0.451 1.644 RAD=1 VAL=1\\nM  V30 10 O -2.395 0.187 -0.130 RAD=1 VAL=2\\nM  V30 11 C 0.427 1.142 0.716 RAD=2 VAL=3\\nM  V30 12 H 0.918 1.556 -1.418 RAD=1 VAL=1\\nM  V30 13 H -0.361 1.896 0.600 RAD=1 VAL=1\\nM  V30 14 H -2.702 0.081 -1.040 RAD=1 VAL=1\\nM  V30 END ATOM\\nM  V30 BEGIN BOND\\nM  V30 1 1 5 11 CFG=0\\nM  V30 2 1 2 5 CFG=0\\nM  V30 3 1 3 11 CFG=0\\nM  V30 4 1 10 14 CFG=0\\nM  V30 5 1 1 4 CFG=0\\nM  V30 6 1 1 2 CFG=0\\nM  V30 7 1 1 3 CFG=0\\nM  V30 8 1 8 10 CFG=0\\nM  V30 9 1 11 13 CFG=0\\nM  V30 10 1 2 6 CFG=0\\nM  V30 11 1 3 12 CFG=0\\nM  V30 12 1 2 7 CFG=0\\nM  V30 13 1 5 9 CFG=0\\nM  V30 14 1 5 8 CFG=0\\nM  V30 END BOND\\nM  V30 END CTAB\\nM  END\\n\",\"sdf\");\n",
       "\tviewer_1748273372884875.setStyle({\"stick\": {}, \"sphere\": {\"radius\": 0.3}});\n",
       "\tviewer_1748273372884875.setBackgroundColor(\"0xeeeeee\");\n",
       "\tviewer_1748273372884875.zoomTo();\n",
       "\tviewer_1748273372884875.addArrow({\"start\": {\"x\": 1.132004, \"y\": -0.512773, \"z\": -0.81666}, \"end\": {\"x\": 0.16916964099384546, \"y\": -0.6380609325758415, \"z\": -1.0559358472309306}, \"color\": \"black\"});\n",
       "\tviewer_1748273372884875.zoomTo();\n",
       "\tviewer_1748273372884875.addArrow({\"start\": {\"x\": -0.839089, \"y\": -0.45214799999999994, \"z\": -0.457299}, \"end\": {\"x\": 0.06899369035403435, \"y\": -0.8248955872489049, \"z\": -0.6482049026837537}, \"color\": \"black\"});\n",
       "\tviewer_1748273372884875.zoomTo();\n",
       "viewer_1748273372884875.render();\n",
       "});\n",
       "</script>"
      ]
     },
     "metadata": {},
     "output_type": "display_data"
    }
   ],
   "source": [
    "grxn0 = automol.reac.remove_atoms(ane_grxn, [12, 14])\n",
    "geo0 = automol.reac.ts_structure(grxn0)\n",
    "ggra0 = automol.reac.ts_graph(grxn0)\n",
    "geo0 = automol.graph.geometry_correct_nonplanar_pi_bonds(ggra0, geo0)\n",
    "automol.geom.display(geo0, gra=ggra0)\n",
    "\n",
    "# zrxn = automol.reac.with_structures(grxn0, \"zmat\", ignore_zc=True)\n",
    "# zrxn = automol.reac.reset_conversion_info(zrxn)\n",
    "# grxn = automol.reac.with_structures(zrxn, \"geom\", ignore_zc=True)\n",
    "\n",
    "# geo = automol.reac.ts_structure(grxn)\n",
    "# ggra = automol.reac.ts_graph(grxn)\n",
    "# automol.graph.display(ggra, label=True)\n",
    "# automol.geom.display(geo, gra=ggra)\n",
    "\n",
    "# zma = automol.reac.ts_structure(zrxn)\n",
    "# zgra = automol.reac.ts_graph(zrxn)\n",
    "# automol.zmat.display(zma, gra=zgra)"
   ]
  },
  {
   "cell_type": "code",
   "execution_count": 4,
   "id": "7116faf8",
   "metadata": {},
   "outputs": [],
   "source": [
    "# zma_name = geo_name.with_suffix(\".zmat\")\n",
    "\n",
    "# (ene_path / geo_name).write_text(automol.geom.xyz_string(geo))\n",
    "# (ene_path / zma_name).write_text(automol.zmat.string(zma, one_indexed=True))\n",
    "# (ene_path / zrxn_name).write_text(automol.reac.string(zrxn))"
   ]
  },
  {
   "cell_type": "code",
   "execution_count": 5,
   "id": "294a1465",
   "metadata": {},
   "outputs": [],
   "source": [
    "# automol.graph.display(zgra, exp=True, label=True)"
   ]
  }
 ],
 "metadata": {
  "kernelspec": {
   "display_name": "proto",
   "language": "python",
   "name": "python3"
  },
  "language_info": {
   "codemirror_mode": {
    "name": "ipython",
    "version": 3
   },
   "file_extension": ".py",
   "mimetype": "text/x-python",
   "name": "python",
   "nbconvert_exporter": "python",
   "pygments_lexer": "ipython3",
   "version": "3.11.12"
  }
 },
 "nbformat": 4,
 "nbformat_minor": 5
}
