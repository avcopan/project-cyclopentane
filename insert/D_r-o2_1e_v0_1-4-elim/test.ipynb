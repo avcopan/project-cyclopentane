{
 "cells": [
  {
   "cell_type": "code",
   "execution_count": null,
   "id": "723fd0fa",
   "metadata": {},
   "outputs": [],
   "source": [
    "from mechdriver.subtasks import display, fs"
   ]
  },
  {
   "cell_type": "code",
   "execution_count": null,
   "id": "e69261d7",
   "metadata": {},
   "outputs": [],
   "source": [
    "display(\"find_ts\", \"14: 1\")"
   ]
  }
 ],
 "metadata": {
  "kernelspec": {
   "display_name": "proto",
   "language": "python",
   "name": "python3"
  },
  "language_info": {
   "codemirror_mode": {
    "name": "ipython",
    "version": 3
   },
   "file_extension": ".py",
   "mimetype": "text/x-python",
   "name": "python",
   "nbconvert_exporter": "python",
   "pygments_lexer": "ipython3",
   "version": "3.11.12"
  }
 },
 "nbformat": 4,
 "nbformat_minor": 5
}
