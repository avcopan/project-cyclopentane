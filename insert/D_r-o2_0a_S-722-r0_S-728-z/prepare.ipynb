{
 "cells": [
  {
   "cell_type": "code",
   "execution_count": 1,
   "id": "35e65ca6",
   "metadata": {},
   "outputs": [],
   "source": [
    "from pathlib import Path\n",
    "\n",
    "import automol\n",
    "\n",
    "rev_path = Path(\"rev\")\n",
    "forw_path = Path(\"forw\")\n",
    "geo_name = Path(\"geom.xyz\")\n",
    "ene_name = Path(\"sp.ene\")\n",
    "zrxn_name = Path(\"zmat.r.yaml\")"
   ]
  },
  {
   "cell_type": "code",
   "execution_count": 2,
   "id": "3d1c2ec6",
   "metadata": {},
   "outputs": [
    {
     "data": {
      "application/vnd.jupyter.widget-view+json": {
       "model_id": "51aa36f104104ff586e8b7dbfa043768",
       "version_major": 2,
       "version_minor": 0
      },
      "text/plain": [
       "HBox(children=(Image(value=b\"<?xml version='1.0' encoding='iso-8859-1...\", format='svg+xml', height='300', wid…"
      ]
     },
     "metadata": {},
     "output_type": "display_data"
    },
    {
     "data": {
      "application/3dmoljs_load.v0": "<div id=\"3dmolviewer_1747407835744739\"  style=\"position: relative; width: 400px; height: 400px;\">\n        <p id=\"3dmolwarning_1747407835744739\" style=\"background-color:#ffcccc;color:black\">3Dmol.js failed to load for some reason.  Please check your browser console for error messages.<br></p>\n        </div>\n<script>\n\nvar loadScriptAsync = function(uri){\n  return new Promise((resolve, reject) => {\n    //this is to ignore the existence of requirejs amd\n    var savedexports, savedmodule;\n    if (typeof exports !== 'undefined') savedexports = exports;\n    else exports = {}\n    if (typeof module !== 'undefined') savedmodule = module;\n    else module = {}\n\n    var tag = document.createElement('script');\n    tag.src = uri;\n    tag.async = true;\n    tag.onload = () => {\n        exports = savedexports;\n        module = savedmodule;\n        resolve();\n    };\n  var firstScriptTag = document.getElementsByTagName('script')[0];\n  firstScriptTag.parentNode.insertBefore(tag, firstScriptTag);\n});\n};\n\nif(typeof $3Dmolpromise === 'undefined') {\n$3Dmolpromise = null;\n  $3Dmolpromise = loadScriptAsync('https://cdnjs.cloudflare.com/ajax/libs/3Dmol/2.4.2/3Dmol-min.js');\n}\n\nvar viewer_1747407835744739 = null;\nvar warn = document.getElementById(\"3dmolwarning_1747407835744739\");\nif(warn) {\n    warn.parentNode.removeChild(warn);\n}\n$3Dmolpromise.then(function() {\nviewer_1747407835744739 = $3Dmol.createViewer(document.getElementById(\"3dmolviewer_1747407835744739\"),{backgroundColor:\"white\"});\nviewer_1747407835744739.zoomTo();\n\tviewer_1747407835744739.addModel(\"\\n  automech\\n\\n  0  0  0  0  0  0  0  0  0  0999 V3000\\nM  V30 BEGIN CTAB\\nM  V30 COUNTS 16 16 0 0 0\\nM  V30 BEGIN ATOM\\nM  V30 1 C 0.399 -1.193 -0.128 RAD=2 VAL=3\\nM  V30 2 C 1.849 -0.886 0.125 RAD=1 VAL=4\\nM  V30 3 H 0.111 -1.994 -0.813 RAD=1 VAL=1\\nM  V30 4 C 1.987 0.637 0.348 RAD=1 VAL=4\\nM  V30 5 H 2.276 -1.454 0.969 RAD=1 VAL=1\\nM  V30 6 H 2.429 -1.188 -0.764 RAD=1 VAL=1\\nM  V30 7 C 0.952 1.343 -0.480 RAD=1 VAL=4\\nM  V30 8 H 1.828 0.876 1.413 RAD=1 VAL=1\\nM  V30 9 H 3.015 0.968 0.116 RAD=1 VAL=1\\nM  V30 10 C -0.516 -0.203 0.146 RAD=1 VAL=4\\nM  V30 11 H 0.997 1.214 -1.567 RAD=1 VAL=1\\nM  V30 12 H 0.576 2.317 -0.152 RAD=1 VAL=1\\nM  V30 13 H -0.519 0.422 1.044 RAD=1 VAL=1\\nM  V30 14 O -1.738 -0.268 -0.459 RAD=1 VAL=2\\nM  V30 15 O -2.701 0.394 0.337 RAD=1 VAL=2\\nM  V30 16 H -3.223 -0.354 0.660 RAD=1 VAL=1\\nM  V30 END ATOM\\nM  V30 BEGIN BOND\\nM  V30 1 1 2 5 CFG=0\\nM  V30 2 1 7 10 CFG=0\\nM  V30 3 1 4 8 CFG=0\\nM  V30 4 1 10 14 CFG=0\\nM  V30 5 1 14 15 CFG=0\\nM  V30 6 1 1 2 CFG=0\\nM  V30 7 1 4 7 CFG=0\\nM  V30 8 1 1 3 CFG=0\\nM  V30 9 1 7 11 CFG=0\\nM  V30 10 1 4 9 CFG=0\\nM  V30 11 1 2 6 CFG=0\\nM  V30 12 1 15 16 CFG=0\\nM  V30 13 1 10 13 CFG=0\\nM  V30 14 1 2 4 CFG=0\\nM  V30 15 1 7 12 CFG=0\\nM  V30 16 1 1 10 CFG=0\\nM  V30 END BOND\\nM  V30 END CTAB\\nM  END\\n\",\"sdf\");\n\tviewer_1747407835744739.setStyle({\"stick\": {}, \"sphere\": {\"radius\": 0.3}});\n\tviewer_1747407835744739.setBackgroundColor(\"0xeeeeee\");\n\tviewer_1747407835744739.zoomTo();\nviewer_1747407835744739.render();\n});\n</script>",
      "text/html": [
       "<div id=\"3dmolviewer_1747407835744739\"  style=\"position: relative; width: 400px; height: 400px;\">\n",
       "        <p id=\"3dmolwarning_1747407835744739\" style=\"background-color:#ffcccc;color:black\">3Dmol.js failed to load for some reason.  Please check your browser console for error messages.<br></p>\n",
       "        </div>\n",
       "<script>\n",
       "\n",
       "var loadScriptAsync = function(uri){\n",
       "  return new Promise((resolve, reject) => {\n",
       "    //this is to ignore the existence of requirejs amd\n",
       "    var savedexports, savedmodule;\n",
       "    if (typeof exports !== 'undefined') savedexports = exports;\n",
       "    else exports = {}\n",
       "    if (typeof module !== 'undefined') savedmodule = module;\n",
       "    else module = {}\n",
       "\n",
       "    var tag = document.createElement('script');\n",
       "    tag.src = uri;\n",
       "    tag.async = true;\n",
       "    tag.onload = () => {\n",
       "        exports = savedexports;\n",
       "        module = savedmodule;\n",
       "        resolve();\n",
       "    };\n",
       "  var firstScriptTag = document.getElementsByTagName('script')[0];\n",
       "  firstScriptTag.parentNode.insertBefore(tag, firstScriptTag);\n",
       "});\n",
       "};\n",
       "\n",
       "if(typeof $3Dmolpromise === 'undefined') {\n",
       "$3Dmolpromise = null;\n",
       "  $3Dmolpromise = loadScriptAsync('https://cdnjs.cloudflare.com/ajax/libs/3Dmol/2.4.2/3Dmol-min.js');\n",
       "}\n",
       "\n",
       "var viewer_1747407835744739 = null;\n",
       "var warn = document.getElementById(\"3dmolwarning_1747407835744739\");\n",
       "if(warn) {\n",
       "    warn.parentNode.removeChild(warn);\n",
       "}\n",
       "$3Dmolpromise.then(function() {\n",
       "viewer_1747407835744739 = $3Dmol.createViewer(document.getElementById(\"3dmolviewer_1747407835744739\"),{backgroundColor:\"white\"});\n",
       "viewer_1747407835744739.zoomTo();\n",
       "\tviewer_1747407835744739.addModel(\"\\n  automech\\n\\n  0  0  0  0  0  0  0  0  0  0999 V3000\\nM  V30 BEGIN CTAB\\nM  V30 COUNTS 16 16 0 0 0\\nM  V30 BEGIN ATOM\\nM  V30 1 C 0.399 -1.193 -0.128 RAD=2 VAL=3\\nM  V30 2 C 1.849 -0.886 0.125 RAD=1 VAL=4\\nM  V30 3 H 0.111 -1.994 -0.813 RAD=1 VAL=1\\nM  V30 4 C 1.987 0.637 0.348 RAD=1 VAL=4\\nM  V30 5 H 2.276 -1.454 0.969 RAD=1 VAL=1\\nM  V30 6 H 2.429 -1.188 -0.764 RAD=1 VAL=1\\nM  V30 7 C 0.952 1.343 -0.480 RAD=1 VAL=4\\nM  V30 8 H 1.828 0.876 1.413 RAD=1 VAL=1\\nM  V30 9 H 3.015 0.968 0.116 RAD=1 VAL=1\\nM  V30 10 C -0.516 -0.203 0.146 RAD=1 VAL=4\\nM  V30 11 H 0.997 1.214 -1.567 RAD=1 VAL=1\\nM  V30 12 H 0.576 2.317 -0.152 RAD=1 VAL=1\\nM  V30 13 H -0.519 0.422 1.044 RAD=1 VAL=1\\nM  V30 14 O -1.738 -0.268 -0.459 RAD=1 VAL=2\\nM  V30 15 O -2.701 0.394 0.337 RAD=1 VAL=2\\nM  V30 16 H -3.223 -0.354 0.660 RAD=1 VAL=1\\nM  V30 END ATOM\\nM  V30 BEGIN BOND\\nM  V30 1 1 2 5 CFG=0\\nM  V30 2 1 7 10 CFG=0\\nM  V30 3 1 4 8 CFG=0\\nM  V30 4 1 10 14 CFG=0\\nM  V30 5 1 14 15 CFG=0\\nM  V30 6 1 1 2 CFG=0\\nM  V30 7 1 4 7 CFG=0\\nM  V30 8 1 1 3 CFG=0\\nM  V30 9 1 7 11 CFG=0\\nM  V30 10 1 4 9 CFG=0\\nM  V30 11 1 2 6 CFG=0\\nM  V30 12 1 15 16 CFG=0\\nM  V30 13 1 10 13 CFG=0\\nM  V30 14 1 2 4 CFG=0\\nM  V30 15 1 7 12 CFG=0\\nM  V30 16 1 1 10 CFG=0\\nM  V30 END BOND\\nM  V30 END CTAB\\nM  END\\n\",\"sdf\");\n",
       "\tviewer_1747407835744739.setStyle({\"stick\": {}, \"sphere\": {\"radius\": 0.3}});\n",
       "\tviewer_1747407835744739.setBackgroundColor(\"0xeeeeee\");\n",
       "\tviewer_1747407835744739.zoomTo();\n",
       "viewer_1747407835744739.render();\n",
       "});\n",
       "</script>"
      ]
     },
     "metadata": {},
     "output_type": "display_data"
    }
   ],
   "source": [
    "# 1. Read in forward direction with bad structure (only to visually check numbering)\n",
    "forw_geo = automol.geom.from_xyz_string((forw_path / geo_name).read_text())\n",
    "forw_zrxn = automol.reac.from_string((forw_path / zrxn_name).read_text())\n",
    "forw_grxn = automol.reac.with_structures(forw_zrxn, \"geom\", ignore_zc=True)\n",
    "forw_grxn = automol.reac.update_structures(forw_grxn, ts_struc=forw_geo)\n",
    "\n",
    "forw_geo = automol.reac.ts_structure(forw_grxn)\n",
    "forw_ggra = automol.reac.ts_graph(forw_grxn)\n",
    "automol.graph.display(forw_ggra, label=True)\n",
    "automol.geom.display(forw_geo, gra=forw_ggra)"
   ]
  },
  {
   "cell_type": "code",
   "execution_count": 3,
   "id": "58833aef",
   "metadata": {},
   "outputs": [
    {
     "data": {
      "application/vnd.jupyter.widget-view+json": {
       "model_id": "1ecdfeaacc014ed68431082bb5a1f888",
       "version_major": 2,
       "version_minor": 0
      },
      "text/plain": [
       "HBox(children=(Image(value=b\"<?xml version='1.0' encoding='iso-8859-1...\", format='svg+xml', height='300', wid…"
      ]
     },
     "metadata": {},
     "output_type": "display_data"
    },
    {
     "data": {
      "application/3dmoljs_load.v0": "<div id=\"3dmolviewer_17474078464409206\"  style=\"position: relative; width: 400px; height: 400px;\">\n        <p id=\"3dmolwarning_17474078464409206\" style=\"background-color:#ffcccc;color:black\">3Dmol.js failed to load for some reason.  Please check your browser console for error messages.<br></p>\n        </div>\n<script>\n\nvar loadScriptAsync = function(uri){\n  return new Promise((resolve, reject) => {\n    //this is to ignore the existence of requirejs amd\n    var savedexports, savedmodule;\n    if (typeof exports !== 'undefined') savedexports = exports;\n    else exports = {}\n    if (typeof module !== 'undefined') savedmodule = module;\n    else module = {}\n\n    var tag = document.createElement('script');\n    tag.src = uri;\n    tag.async = true;\n    tag.onload = () => {\n        exports = savedexports;\n        module = savedmodule;\n        resolve();\n    };\n  var firstScriptTag = document.getElementsByTagName('script')[0];\n  firstScriptTag.parentNode.insertBefore(tag, firstScriptTag);\n});\n};\n\nif(typeof $3Dmolpromise === 'undefined') {\n$3Dmolpromise = null;\n  $3Dmolpromise = loadScriptAsync('https://cdnjs.cloudflare.com/ajax/libs/3Dmol/2.4.2/3Dmol-min.js');\n}\n\nvar viewer_17474078464409206 = null;\nvar warn = document.getElementById(\"3dmolwarning_17474078464409206\");\nif(warn) {\n    warn.parentNode.removeChild(warn);\n}\n$3Dmolpromise.then(function() {\nviewer_17474078464409206 = $3Dmol.createViewer(document.getElementById(\"3dmolviewer_17474078464409206\"),{backgroundColor:\"white\"});\nviewer_17474078464409206.zoomTo();\n\tviewer_17474078464409206.addModel(\"\\n  automech\\n\\n  0  0  0  0  0  0  0  0  0  0999 V3000\\nM  V30 BEGIN CTAB\\nM  V30 COUNTS 16 15 0 0 0\\nM  V30 BEGIN ATOM\\nM  V30 1 C 0.359 1.292 -0.284 RAD=2 VAL=3\\nM  V30 2 C 1.157 0.699 0.840 RAD=1 VAL=4\\nM  V30 3 H 0.914 1.914 -0.995 RAD=1 VAL=1\\nM  V30 4 C 1.770 -0.579 0.198 RAD=1 VAL=4\\nM  V30 5 H 0.521 0.427 1.692 RAD=1 VAL=1\\nM  V30 6 H 1.939 1.383 1.200 RAD=1 VAL=1\\nM  V30 7 C 0.762 -1.197 -0.741 RAD=2 VAL=3\\nM  V30 8 H 2.091 -1.293 0.977 RAD=1 VAL=1\\nM  V30 9 H 2.674 -0.296 -0.364 RAD=1 VAL=1\\nM  V30 10 H 0.021 -1.879 -0.316 RAD=1 VAL=1\\nM  V30 11 H 1.068 -1.434 -1.764 RAD=1 VAL=1\\nM  V30 12 C -0.646 0.551 -0.880 RAD=2 VAL=3\\nM  V30 13 H -0.930 0.771 -1.915 RAD=1 VAL=1\\nM  V30 14 O -1.754 -0.036 -0.336 RAD=1 VAL=2\\nM  V30 15 O -1.570 -0.346 1.034 RAD=1 VAL=2\\nM  V30 16 H -2.120 -1.137 1.096 RAD=1 VAL=1\\nM  V30 END ATOM\\nM  V30 BEGIN BOND\\nM  V30 1 1 12 14 CFG=0\\nM  V30 2 1 7 10 CFG=0\\nM  V30 3 1 2 5 CFG=0\\nM  V30 4 1 12 13 CFG=0\\nM  V30 5 1 4 8 CFG=0\\nM  V30 6 1 14 15 CFG=0\\nM  V30 7 1 1 2 CFG=0\\nM  V30 8 1 4 7 CFG=0\\nM  V30 9 1 1 3 CFG=0\\nM  V30 10 1 7 11 CFG=0\\nM  V30 11 1 4 9 CFG=0\\nM  V30 12 1 2 6 CFG=0\\nM  V30 13 1 1 12 CFG=0\\nM  V30 14 1 15 16 CFG=0\\nM  V30 15 1 2 4 CFG=0\\nM  V30 END BOND\\nM  V30 END CTAB\\nM  END\\n\",\"sdf\");\n\tviewer_17474078464409206.setStyle({\"stick\": {}, \"sphere\": {\"radius\": 0.3}});\n\tviewer_17474078464409206.setBackgroundColor(\"0xeeeeee\");\n\tviewer_17474078464409206.zoomTo();\n\tviewer_17474078464409206.addArrow({\"start\": {\"x\": -0.645596, \"y\": 0.550834, \"z\": -0.880377}, \"end\": {\"x\": -0.15563565397335954, \"y\": -0.22670230919130097, \"z\": -1.274554811667051}, \"color\": \"black\"});\n\tviewer_17474078464409206.zoomTo();\n\tviewer_17474078464409206.addArrow({\"start\": {\"x\": 0.762466, \"y\": -1.196866, \"z\": -0.740624}, \"end\": {\"x\": 0.20702730946185344, \"y\": -0.3789039911760739, \"z\": -0.8903771741700206}, \"color\": \"black\"});\n\tviewer_17474078464409206.zoomTo();\nviewer_17474078464409206.render();\n});\n</script>",
      "text/html": [
       "<div id=\"3dmolviewer_17474078464409206\"  style=\"position: relative; width: 400px; height: 400px;\">\n",
       "        <p id=\"3dmolwarning_17474078464409206\" style=\"background-color:#ffcccc;color:black\">3Dmol.js failed to load for some reason.  Please check your browser console for error messages.<br></p>\n",
       "        </div>\n",
       "<script>\n",
       "\n",
       "var loadScriptAsync = function(uri){\n",
       "  return new Promise((resolve, reject) => {\n",
       "    //this is to ignore the existence of requirejs amd\n",
       "    var savedexports, savedmodule;\n",
       "    if (typeof exports !== 'undefined') savedexports = exports;\n",
       "    else exports = {}\n",
       "    if (typeof module !== 'undefined') savedmodule = module;\n",
       "    else module = {}\n",
       "\n",
       "    var tag = document.createElement('script');\n",
       "    tag.src = uri;\n",
       "    tag.async = true;\n",
       "    tag.onload = () => {\n",
       "        exports = savedexports;\n",
       "        module = savedmodule;\n",
       "        resolve();\n",
       "    };\n",
       "  var firstScriptTag = document.getElementsByTagName('script')[0];\n",
       "  firstScriptTag.parentNode.insertBefore(tag, firstScriptTag);\n",
       "});\n",
       "};\n",
       "\n",
       "if(typeof $3Dmolpromise === 'undefined') {\n",
       "$3Dmolpromise = null;\n",
       "  $3Dmolpromise = loadScriptAsync('https://cdnjs.cloudflare.com/ajax/libs/3Dmol/2.4.2/3Dmol-min.js');\n",
       "}\n",
       "\n",
       "var viewer_17474078464409206 = null;\n",
       "var warn = document.getElementById(\"3dmolwarning_17474078464409206\");\n",
       "if(warn) {\n",
       "    warn.parentNode.removeChild(warn);\n",
       "}\n",
       "$3Dmolpromise.then(function() {\n",
       "viewer_17474078464409206 = $3Dmol.createViewer(document.getElementById(\"3dmolviewer_17474078464409206\"),{backgroundColor:\"white\"});\n",
       "viewer_17474078464409206.zoomTo();\n",
       "\tviewer_17474078464409206.addModel(\"\\n  automech\\n\\n  0  0  0  0  0  0  0  0  0  0999 V3000\\nM  V30 BEGIN CTAB\\nM  V30 COUNTS 16 15 0 0 0\\nM  V30 BEGIN ATOM\\nM  V30 1 C 0.359 1.292 -0.284 RAD=2 VAL=3\\nM  V30 2 C 1.157 0.699 0.840 RAD=1 VAL=4\\nM  V30 3 H 0.914 1.914 -0.995 RAD=1 VAL=1\\nM  V30 4 C 1.770 -0.579 0.198 RAD=1 VAL=4\\nM  V30 5 H 0.521 0.427 1.692 RAD=1 VAL=1\\nM  V30 6 H 1.939 1.383 1.200 RAD=1 VAL=1\\nM  V30 7 C 0.762 -1.197 -0.741 RAD=2 VAL=3\\nM  V30 8 H 2.091 -1.293 0.977 RAD=1 VAL=1\\nM  V30 9 H 2.674 -0.296 -0.364 RAD=1 VAL=1\\nM  V30 10 H 0.021 -1.879 -0.316 RAD=1 VAL=1\\nM  V30 11 H 1.068 -1.434 -1.764 RAD=1 VAL=1\\nM  V30 12 C -0.646 0.551 -0.880 RAD=2 VAL=3\\nM  V30 13 H -0.930 0.771 -1.915 RAD=1 VAL=1\\nM  V30 14 O -1.754 -0.036 -0.336 RAD=1 VAL=2\\nM  V30 15 O -1.570 -0.346 1.034 RAD=1 VAL=2\\nM  V30 16 H -2.120 -1.137 1.096 RAD=1 VAL=1\\nM  V30 END ATOM\\nM  V30 BEGIN BOND\\nM  V30 1 1 12 14 CFG=0\\nM  V30 2 1 7 10 CFG=0\\nM  V30 3 1 2 5 CFG=0\\nM  V30 4 1 12 13 CFG=0\\nM  V30 5 1 4 8 CFG=0\\nM  V30 6 1 14 15 CFG=0\\nM  V30 7 1 1 2 CFG=0\\nM  V30 8 1 4 7 CFG=0\\nM  V30 9 1 1 3 CFG=0\\nM  V30 10 1 7 11 CFG=0\\nM  V30 11 1 4 9 CFG=0\\nM  V30 12 1 2 6 CFG=0\\nM  V30 13 1 1 12 CFG=0\\nM  V30 14 1 15 16 CFG=0\\nM  V30 15 1 2 4 CFG=0\\nM  V30 END BOND\\nM  V30 END CTAB\\nM  END\\n\",\"sdf\");\n",
       "\tviewer_17474078464409206.setStyle({\"stick\": {}, \"sphere\": {\"radius\": 0.3}});\n",
       "\tviewer_17474078464409206.setBackgroundColor(\"0xeeeeee\");\n",
       "\tviewer_17474078464409206.zoomTo();\n",
       "\tviewer_17474078464409206.addArrow({\"start\": {\"x\": -0.645596, \"y\": 0.550834, \"z\": -0.880377}, \"end\": {\"x\": -0.15563565397335954, \"y\": -0.22670230919130097, \"z\": -1.274554811667051}, \"color\": \"black\"});\n",
       "\tviewer_17474078464409206.zoomTo();\n",
       "\tviewer_17474078464409206.addArrow({\"start\": {\"x\": 0.762466, \"y\": -1.196866, \"z\": -0.740624}, \"end\": {\"x\": 0.20702730946185344, \"y\": -0.3789039911760739, \"z\": -0.8903771741700206}, \"color\": \"black\"});\n",
       "\tviewer_17474078464409206.zoomTo();\n",
       "viewer_17474078464409206.render();\n",
       "});\n",
       "</script>"
      ]
     },
     "metadata": {},
     "output_type": "display_data"
    }
   ],
   "source": [
    "# 2. Read in reverse direction with good structure\n",
    "rev_geo = automol.geom.from_xyz_string((rev_path / geo_name).read_text())\n",
    "rev_zrxn = automol.reac.from_string((rev_path / zrxn_name).read_text())\n",
    "rev_grxn = automol.reac.with_structures(rev_zrxn, \"geom\", ignore_zc=True)\n",
    "rev_grxn = automol.reac.update_structures(rev_grxn, ts_struc=rev_geo)\n",
    "\n",
    "rev_geo = automol.reac.ts_structure(rev_grxn)\n",
    "rev_ggra = automol.reac.ts_graph(rev_grxn)\n",
    "automol.graph.display(rev_ggra, label=True)\n",
    "automol.geom.display(rev_geo, gra=rev_ggra)"
   ]
  },
  {
   "cell_type": "code",
   "execution_count": 4,
   "id": "26edd524",
   "metadata": {},
   "outputs": [
    {
     "data": {
      "application/vnd.jupyter.widget-view+json": {
       "model_id": "908fc6bc04164f329fdd98be2b29f7f0",
       "version_major": 2,
       "version_minor": 0
      },
      "text/plain": [
       "HBox(children=(Image(value=b\"<?xml version='1.0' encoding='iso-8859-1...\", format='svg+xml', height='300', wid…"
      ]
     },
     "metadata": {},
     "output_type": "display_data"
    },
    {
     "data": {
      "application/3dmoljs_load.v0": "<div id=\"3dmolviewer_17474078628604527\"  style=\"position: relative; width: 400px; height: 400px;\">\n        <p id=\"3dmolwarning_17474078628604527\" style=\"background-color:#ffcccc;color:black\">3Dmol.js failed to load for some reason.  Please check your browser console for error messages.<br></p>\n        </div>\n<script>\n\nvar loadScriptAsync = function(uri){\n  return new Promise((resolve, reject) => {\n    //this is to ignore the existence of requirejs amd\n    var savedexports, savedmodule;\n    if (typeof exports !== 'undefined') savedexports = exports;\n    else exports = {}\n    if (typeof module !== 'undefined') savedmodule = module;\n    else module = {}\n\n    var tag = document.createElement('script');\n    tag.src = uri;\n    tag.async = true;\n    tag.onload = () => {\n        exports = savedexports;\n        module = savedmodule;\n        resolve();\n    };\n  var firstScriptTag = document.getElementsByTagName('script')[0];\n  firstScriptTag.parentNode.insertBefore(tag, firstScriptTag);\n});\n};\n\nif(typeof $3Dmolpromise === 'undefined') {\n$3Dmolpromise = null;\n  $3Dmolpromise = loadScriptAsync('https://cdnjs.cloudflare.com/ajax/libs/3Dmol/2.4.2/3Dmol-min.js');\n}\n\nvar viewer_17474078628604527 = null;\nvar warn = document.getElementById(\"3dmolwarning_17474078628604527\");\nif(warn) {\n    warn.parentNode.removeChild(warn);\n}\n$3Dmolpromise.then(function() {\nviewer_17474078628604527 = $3Dmol.createViewer(document.getElementById(\"3dmolviewer_17474078628604527\"),{backgroundColor:\"white\"});\nviewer_17474078628604527.zoomTo();\n\tviewer_17474078628604527.addModel(\"\\n  automech\\n\\n  0  0  0  0  0  0  0  0  0  0999 V3000\\nM  V30 BEGIN CTAB\\nM  V30 COUNTS 16 16 0 0 0\\nM  V30 BEGIN ATOM\\nM  V30 1 C 0.000 0.000 0.000 RAD=2 VAL=3\\nM  V30 2 C 0.000 0.000 1.501 RAD=1 VAL=4\\nM  V30 3 H 0.000 0.984 -0.483 RAD=1 VAL=1\\nM  V30 4 C 1.507 0.173 1.851 RAD=1 VAL=4\\nM  V30 5 H -0.377 -0.947 1.909 RAD=1 VAL=1\\nM  V30 6 H -0.605 0.818 1.917 RAD=1 VAL=1\\nM  V30 7 C 2.340 -0.597 0.856 RAD=1 VAL=4\\nM  V30 8 H 1.708 -0.152 2.886 RAD=1 VAL=1\\nM  V30 9 H 1.763 1.243 1.798 RAD=1 VAL=1\\nM  V30 10 C 0.742 -0.943 -0.688 RAD=1 VAL=4\\nM  V30 11 H 2.513 -1.660 1.049 RAD=1 VAL=1\\nM  V30 12 H 3.162 -0.087 0.345 RAD=1 VAL=1\\nM  V30 13 H 1.089 -0.715 -1.701 RAD=1 VAL=1\\nM  V30 14 O 0.702 -2.309 -0.637 RAD=1 VAL=2\\nM  V30 15 O 0.220 -2.779 0.610 RAD=1 VAL=2\\nM  V30 16 H 0.720 -3.602 0.676 RAD=1 VAL=1\\nM  V30 END ATOM\\nM  V30 BEGIN BOND\\nM  V30 1 1 2 5 CFG=0\\nM  V30 2 1 7 10 CFG=0\\nM  V30 3 1 4 8 CFG=0\\nM  V30 4 1 10 14 CFG=0\\nM  V30 5 1 14 15 CFG=0\\nM  V30 6 1 1 2 CFG=0\\nM  V30 7 1 4 7 CFG=0\\nM  V30 8 1 7 11 CFG=0\\nM  V30 9 1 1 3 CFG=0\\nM  V30 10 1 4 9 CFG=0\\nM  V30 11 1 2 6 CFG=0\\nM  V30 12 1 15 16 CFG=0\\nM  V30 13 1 10 13 CFG=0\\nM  V30 14 1 2 4 CFG=0\\nM  V30 15 1 7 12 CFG=0\\nM  V30 16 1 1 10 CFG=0\\nM  V30 END BOND\\nM  V30 END CTAB\\nM  END\\n\",\"sdf\");\n\tviewer_17474078628604527.setStyle({\"stick\": {}, \"sphere\": {\"radius\": 0.3}});\n\tviewer_17474078628604527.setBackgroundColor(\"0xeeeeee\");\n\tviewer_17474078628604527.zoomTo();\nviewer_17474078628604527.render();\n});\n</script>",
      "text/html": [
       "<div id=\"3dmolviewer_17474078628604527\"  style=\"position: relative; width: 400px; height: 400px;\">\n",
       "        <p id=\"3dmolwarning_17474078628604527\" style=\"background-color:#ffcccc;color:black\">3Dmol.js failed to load for some reason.  Please check your browser console for error messages.<br></p>\n",
       "        </div>\n",
       "<script>\n",
       "\n",
       "var loadScriptAsync = function(uri){\n",
       "  return new Promise((resolve, reject) => {\n",
       "    //this is to ignore the existence of requirejs amd\n",
       "    var savedexports, savedmodule;\n",
       "    if (typeof exports !== 'undefined') savedexports = exports;\n",
       "    else exports = {}\n",
       "    if (typeof module !== 'undefined') savedmodule = module;\n",
       "    else module = {}\n",
       "\n",
       "    var tag = document.createElement('script');\n",
       "    tag.src = uri;\n",
       "    tag.async = true;\n",
       "    tag.onload = () => {\n",
       "        exports = savedexports;\n",
       "        module = savedmodule;\n",
       "        resolve();\n",
       "    };\n",
       "  var firstScriptTag = document.getElementsByTagName('script')[0];\n",
       "  firstScriptTag.parentNode.insertBefore(tag, firstScriptTag);\n",
       "});\n",
       "};\n",
       "\n",
       "if(typeof $3Dmolpromise === 'undefined') {\n",
       "$3Dmolpromise = null;\n",
       "  $3Dmolpromise = loadScriptAsync('https://cdnjs.cloudflare.com/ajax/libs/3Dmol/2.4.2/3Dmol-min.js');\n",
       "}\n",
       "\n",
       "var viewer_17474078628604527 = null;\n",
       "var warn = document.getElementById(\"3dmolwarning_17474078628604527\");\n",
       "if(warn) {\n",
       "    warn.parentNode.removeChild(warn);\n",
       "}\n",
       "$3Dmolpromise.then(function() {\n",
       "viewer_17474078628604527 = $3Dmol.createViewer(document.getElementById(\"3dmolviewer_17474078628604527\"),{backgroundColor:\"white\"});\n",
       "viewer_17474078628604527.zoomTo();\n",
       "\tviewer_17474078628604527.addModel(\"\\n  automech\\n\\n  0  0  0  0  0  0  0  0  0  0999 V3000\\nM  V30 BEGIN CTAB\\nM  V30 COUNTS 16 16 0 0 0\\nM  V30 BEGIN ATOM\\nM  V30 1 C 0.000 0.000 0.000 RAD=2 VAL=3\\nM  V30 2 C 0.000 0.000 1.501 RAD=1 VAL=4\\nM  V30 3 H 0.000 0.984 -0.483 RAD=1 VAL=1\\nM  V30 4 C 1.507 0.173 1.851 RAD=1 VAL=4\\nM  V30 5 H -0.377 -0.947 1.909 RAD=1 VAL=1\\nM  V30 6 H -0.605 0.818 1.917 RAD=1 VAL=1\\nM  V30 7 C 2.340 -0.597 0.856 RAD=1 VAL=4\\nM  V30 8 H 1.708 -0.152 2.886 RAD=1 VAL=1\\nM  V30 9 H 1.763 1.243 1.798 RAD=1 VAL=1\\nM  V30 10 C 0.742 -0.943 -0.688 RAD=1 VAL=4\\nM  V30 11 H 2.513 -1.660 1.049 RAD=1 VAL=1\\nM  V30 12 H 3.162 -0.087 0.345 RAD=1 VAL=1\\nM  V30 13 H 1.089 -0.715 -1.701 RAD=1 VAL=1\\nM  V30 14 O 0.702 -2.309 -0.637 RAD=1 VAL=2\\nM  V30 15 O 0.220 -2.779 0.610 RAD=1 VAL=2\\nM  V30 16 H 0.720 -3.602 0.676 RAD=1 VAL=1\\nM  V30 END ATOM\\nM  V30 BEGIN BOND\\nM  V30 1 1 2 5 CFG=0\\nM  V30 2 1 7 10 CFG=0\\nM  V30 3 1 4 8 CFG=0\\nM  V30 4 1 10 14 CFG=0\\nM  V30 5 1 14 15 CFG=0\\nM  V30 6 1 1 2 CFG=0\\nM  V30 7 1 4 7 CFG=0\\nM  V30 8 1 7 11 CFG=0\\nM  V30 9 1 1 3 CFG=0\\nM  V30 10 1 4 9 CFG=0\\nM  V30 11 1 2 6 CFG=0\\nM  V30 12 1 15 16 CFG=0\\nM  V30 13 1 10 13 CFG=0\\nM  V30 14 1 2 4 CFG=0\\nM  V30 15 1 7 12 CFG=0\\nM  V30 16 1 1 10 CFG=0\\nM  V30 END BOND\\nM  V30 END CTAB\\nM  END\\n\",\"sdf\");\n",
       "\tviewer_17474078628604527.setStyle({\"stick\": {}, \"sphere\": {\"radius\": 0.3}});\n",
       "\tviewer_17474078628604527.setBackgroundColor(\"0xeeeeee\");\n",
       "\tviewer_17474078628604527.zoomTo();\n",
       "viewer_17474078628604527.render();\n",
       "});\n",
       "</script>"
      ]
     },
     "metadata": {},
     "output_type": "display_data"
    },
    {
     "data": {
      "application/3dmoljs_load.v0": "<div id=\"3dmolviewer_17474078628917854\"  style=\"position: relative; width: 400px; height: 400px;\">\n        <p id=\"3dmolwarning_17474078628917854\" style=\"background-color:#ffcccc;color:black\">3Dmol.js failed to load for some reason.  Please check your browser console for error messages.<br></p>\n        </div>\n<script>\n\nvar loadScriptAsync = function(uri){\n  return new Promise((resolve, reject) => {\n    //this is to ignore the existence of requirejs amd\n    var savedexports, savedmodule;\n    if (typeof exports !== 'undefined') savedexports = exports;\n    else exports = {}\n    if (typeof module !== 'undefined') savedmodule = module;\n    else module = {}\n\n    var tag = document.createElement('script');\n    tag.src = uri;\n    tag.async = true;\n    tag.onload = () => {\n        exports = savedexports;\n        module = savedmodule;\n        resolve();\n    };\n  var firstScriptTag = document.getElementsByTagName('script')[0];\n  firstScriptTag.parentNode.insertBefore(tag, firstScriptTag);\n});\n};\n\nif(typeof $3Dmolpromise === 'undefined') {\n$3Dmolpromise = null;\n  $3Dmolpromise = loadScriptAsync('https://cdnjs.cloudflare.com/ajax/libs/3Dmol/2.4.2/3Dmol-min.js');\n}\n\nvar viewer_17474078628917854 = null;\nvar warn = document.getElementById(\"3dmolwarning_17474078628917854\");\nif(warn) {\n    warn.parentNode.removeChild(warn);\n}\n$3Dmolpromise.then(function() {\nviewer_17474078628917854 = $3Dmol.createViewer(document.getElementById(\"3dmolviewer_17474078628917854\"),{backgroundColor:\"white\"});\nviewer_17474078628917854.zoomTo();\n\tviewer_17474078628917854.addModel(\"\\n  automech\\n\\n  0  0  0  0  0  0  0  0  0  0999 V3000\\nM  V30 BEGIN CTAB\\nM  V30 COUNTS 16 16 0 0 0\\nM  V30 BEGIN ATOM\\nM  V30 1 C 0.000 0.000 0.000 RAD=2 VAL=3\\nM  V30 2 C 0.000 0.000 1.501 RAD=1 VAL=4\\nM  V30 3 H 0.000 0.984 -0.483 RAD=1 VAL=1\\nM  V30 4 C 1.507 0.173 1.851 RAD=1 VAL=4\\nM  V30 5 H -0.377 -0.947 1.909 RAD=1 VAL=1\\nM  V30 6 H -0.605 0.818 1.917 RAD=1 VAL=1\\nM  V30 7 C 2.340 -0.597 0.856 RAD=1 VAL=4\\nM  V30 8 H 1.708 -0.152 2.886 RAD=1 VAL=1\\nM  V30 9 H 1.763 1.243 1.798 RAD=1 VAL=1\\nM  V30 10 C 0.742 -0.943 -0.688 RAD=1 VAL=4\\nM  V30 11 H 2.513 -1.660 1.049 RAD=1 VAL=1\\nM  V30 12 H 3.162 -0.087 0.345 RAD=1 VAL=1\\nM  V30 13 H 1.089 -0.715 -1.701 RAD=1 VAL=1\\nM  V30 14 O 0.702 -2.309 -0.637 RAD=1 VAL=2\\nM  V30 15 O 0.220 -2.779 0.610 RAD=1 VAL=2\\nM  V30 16 H 0.720 -3.602 0.676 RAD=1 VAL=1\\nM  V30 END ATOM\\nM  V30 BEGIN BOND\\nM  V30 1 1 2 5 CFG=0\\nM  V30 2 1 7 10 CFG=0\\nM  V30 3 1 4 8 CFG=0\\nM  V30 4 1 10 14 CFG=0\\nM  V30 5 1 14 15 CFG=0\\nM  V30 6 1 1 2 CFG=0\\nM  V30 7 1 4 7 CFG=0\\nM  V30 8 1 7 11 CFG=0\\nM  V30 9 1 1 3 CFG=0\\nM  V30 10 1 4 9 CFG=0\\nM  V30 11 1 2 6 CFG=0\\nM  V30 12 1 15 16 CFG=0\\nM  V30 13 1 10 13 CFG=0\\nM  V30 14 1 2 4 CFG=0\\nM  V30 15 1 7 12 CFG=0\\nM  V30 16 1 1 10 CFG=0\\nM  V30 END BOND\\nM  V30 END CTAB\\nM  END\\n\",\"sdf\");\n\tviewer_17474078628917854.setStyle({\"stick\": {}, \"sphere\": {\"radius\": 0.3}});\n\tviewer_17474078628917854.setBackgroundColor(\"0xeeeeee\");\n\tviewer_17474078628917854.zoomTo();\nviewer_17474078628917854.render();\n});\n</script>",
      "text/html": [
       "<div id=\"3dmolviewer_17474078628917854\"  style=\"position: relative; width: 400px; height: 400px;\">\n",
       "        <p id=\"3dmolwarning_17474078628917854\" style=\"background-color:#ffcccc;color:black\">3Dmol.js failed to load for some reason.  Please check your browser console for error messages.<br></p>\n",
       "        </div>\n",
       "<script>\n",
       "\n",
       "var loadScriptAsync = function(uri){\n",
       "  return new Promise((resolve, reject) => {\n",
       "    //this is to ignore the existence of requirejs amd\n",
       "    var savedexports, savedmodule;\n",
       "    if (typeof exports !== 'undefined') savedexports = exports;\n",
       "    else exports = {}\n",
       "    if (typeof module !== 'undefined') savedmodule = module;\n",
       "    else module = {}\n",
       "\n",
       "    var tag = document.createElement('script');\n",
       "    tag.src = uri;\n",
       "    tag.async = true;\n",
       "    tag.onload = () => {\n",
       "        exports = savedexports;\n",
       "        module = savedmodule;\n",
       "        resolve();\n",
       "    };\n",
       "  var firstScriptTag = document.getElementsByTagName('script')[0];\n",
       "  firstScriptTag.parentNode.insertBefore(tag, firstScriptTag);\n",
       "});\n",
       "};\n",
       "\n",
       "if(typeof $3Dmolpromise === 'undefined') {\n",
       "$3Dmolpromise = null;\n",
       "  $3Dmolpromise = loadScriptAsync('https://cdnjs.cloudflare.com/ajax/libs/3Dmol/2.4.2/3Dmol-min.js');\n",
       "}\n",
       "\n",
       "var viewer_17474078628917854 = null;\n",
       "var warn = document.getElementById(\"3dmolwarning_17474078628917854\");\n",
       "if(warn) {\n",
       "    warn.parentNode.removeChild(warn);\n",
       "}\n",
       "$3Dmolpromise.then(function() {\n",
       "viewer_17474078628917854 = $3Dmol.createViewer(document.getElementById(\"3dmolviewer_17474078628917854\"),{backgroundColor:\"white\"});\n",
       "viewer_17474078628917854.zoomTo();\n",
       "\tviewer_17474078628917854.addModel(\"\\n  automech\\n\\n  0  0  0  0  0  0  0  0  0  0999 V3000\\nM  V30 BEGIN CTAB\\nM  V30 COUNTS 16 16 0 0 0\\nM  V30 BEGIN ATOM\\nM  V30 1 C 0.000 0.000 0.000 RAD=2 VAL=3\\nM  V30 2 C 0.000 0.000 1.501 RAD=1 VAL=4\\nM  V30 3 H 0.000 0.984 -0.483 RAD=1 VAL=1\\nM  V30 4 C 1.507 0.173 1.851 RAD=1 VAL=4\\nM  V30 5 H -0.377 -0.947 1.909 RAD=1 VAL=1\\nM  V30 6 H -0.605 0.818 1.917 RAD=1 VAL=1\\nM  V30 7 C 2.340 -0.597 0.856 RAD=1 VAL=4\\nM  V30 8 H 1.708 -0.152 2.886 RAD=1 VAL=1\\nM  V30 9 H 1.763 1.243 1.798 RAD=1 VAL=1\\nM  V30 10 C 0.742 -0.943 -0.688 RAD=1 VAL=4\\nM  V30 11 H 2.513 -1.660 1.049 RAD=1 VAL=1\\nM  V30 12 H 3.162 -0.087 0.345 RAD=1 VAL=1\\nM  V30 13 H 1.089 -0.715 -1.701 RAD=1 VAL=1\\nM  V30 14 O 0.702 -2.309 -0.637 RAD=1 VAL=2\\nM  V30 15 O 0.220 -2.779 0.610 RAD=1 VAL=2\\nM  V30 16 H 0.720 -3.602 0.676 RAD=1 VAL=1\\nM  V30 END ATOM\\nM  V30 BEGIN BOND\\nM  V30 1 1 2 5 CFG=0\\nM  V30 2 1 7 10 CFG=0\\nM  V30 3 1 4 8 CFG=0\\nM  V30 4 1 10 14 CFG=0\\nM  V30 5 1 14 15 CFG=0\\nM  V30 6 1 1 2 CFG=0\\nM  V30 7 1 4 7 CFG=0\\nM  V30 8 1 7 11 CFG=0\\nM  V30 9 1 1 3 CFG=0\\nM  V30 10 1 4 9 CFG=0\\nM  V30 11 1 2 6 CFG=0\\nM  V30 12 1 15 16 CFG=0\\nM  V30 13 1 10 13 CFG=0\\nM  V30 14 1 2 4 CFG=0\\nM  V30 15 1 7 12 CFG=0\\nM  V30 16 1 1 10 CFG=0\\nM  V30 END BOND\\nM  V30 END CTAB\\nM  END\\n\",\"sdf\");\n",
       "\tviewer_17474078628917854.setStyle({\"stick\": {}, \"sphere\": {\"radius\": 0.3}});\n",
       "\tviewer_17474078628917854.setBackgroundColor(\"0xeeeeee\");\n",
       "\tviewer_17474078628917854.zoomTo();\n",
       "viewer_17474078628917854.render();\n",
       "});\n",
       "</script>"
      ]
     },
     "metadata": {},
     "output_type": "display_data"
    }
   ],
   "source": [
    "# 3. Reverse direction to obtain the forward direction with good structure\n",
    "# (Convert to z-matrix, resetting conversion info to put geometry in z-matrix order)\n",
    "grxn0 = automol.reac.reverse_without_recalculating(rev_grxn, struc=True)\n",
    "zrxn = automol.reac.with_structures(grxn0, \"zmat\", ignore_zc=True)\n",
    "zrxn = automol.reac.reset_conversion_info(zrxn)\n",
    "grxn = automol.reac.with_structures(zrxn, \"geom\", ignore_zc=True)\n",
    "\n",
    "geo = automol.reac.ts_structure(grxn)\n",
    "ggra = automol.reac.ts_graph(grxn)\n",
    "automol.graph.display(ggra, label=True)\n",
    "automol.geom.display(geo, gra=ggra)\n",
    "\n",
    "zma = automol.reac.ts_structure(zrxn)\n",
    "zgra = automol.reac.ts_graph(zrxn)\n",
    "automol.zmat.display(zma, gra=zgra)"
   ]
  },
  {
   "cell_type": "code",
   "execution_count": 5,
   "id": "8cc5f33c",
   "metadata": {},
   "outputs": [
    {
     "data": {
      "text/plain": [
       "5260"
      ]
     },
     "execution_count": 5,
     "metadata": {},
     "output_type": "execute_result"
    }
   ],
   "source": [
    "zma_name = geo_name.with_suffix(\".zmat\")\n",
    "ene = (rev_path / ene_name).read_text().strip()\n",
    "\n",
    "geo_name.write_text(automol.geom.xyz_string(geo, comment=ene))\n",
    "zma_name.write_text(automol.zmat.string(zma, one_indexed=True))\n",
    "zrxn_name.write_text(automol.reac.string(zrxn))"
   ]
  }
 ],
 "metadata": {
  "kernelspec": {
   "display_name": "proto",
   "language": "python",
   "name": "python3"
  },
  "language_info": {
   "codemirror_mode": {
    "name": "ipython",
    "version": 3
   },
   "file_extension": ".py",
   "mimetype": "text/x-python",
   "name": "python",
   "nbconvert_exporter": "python",
   "pygments_lexer": "ipython3",
   "version": "3.11.11"
  }
 },
 "nbformat": 4,
 "nbformat_minor": 5
}
