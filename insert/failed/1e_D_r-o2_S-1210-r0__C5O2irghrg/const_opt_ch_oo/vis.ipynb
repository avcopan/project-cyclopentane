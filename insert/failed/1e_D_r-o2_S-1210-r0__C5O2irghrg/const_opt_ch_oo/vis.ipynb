{
 "cells": [
  {
   "cell_type": "code",
   "execution_count": 2,
   "id": "ce68a029",
   "metadata": {},
   "outputs": [
    {
     "data": {
      "application/3dmoljs_load.v0": "<div id=\"3dmolviewer_17583092926303353\"  style=\"position: relative; width: 400px; height: 400px;\">\n        <p id=\"3dmolwarning_17583092926303353\" style=\"background-color:#ffcccc;color:black\">3Dmol.js failed to load for some reason.  Please check your browser console for error messages.<br></p>\n        </div>\n<script>\n\nvar loadScriptAsync = function(uri){\n  return new Promise((resolve, reject) => {\n    //this is to ignore the existence of requirejs amd\n    var savedexports, savedmodule;\n    if (typeof exports !== 'undefined') savedexports = exports;\n    else exports = {}\n    if (typeof module !== 'undefined') savedmodule = module;\n    else module = {}\n\n    var tag = document.createElement('script');\n    tag.src = uri;\n    tag.async = true;\n    tag.onload = () => {\n        exports = savedexports;\n        module = savedmodule;\n        resolve();\n    };\n  var firstScriptTag = document.getElementsByTagName('script')[0];\n  firstScriptTag.parentNode.insertBefore(tag, firstScriptTag);\n});\n};\n\nif(typeof $3Dmolpromise === 'undefined') {\n$3Dmolpromise = null;\n  $3Dmolpromise = loadScriptAsync('https://cdn.jsdelivr.net/npm/3dmol@2.5.2/build/3Dmol-min.js');\n}\n\nvar viewer_17583092926303353 = null;\nvar warn = document.getElementById(\"3dmolwarning_17583092926303353\");\nif(warn) {\n    warn.parentNode.removeChild(warn);\n}\n$3Dmolpromise.then(function() {\nviewer_17583092926303353 = $3Dmol.createViewer(document.getElementById(\"3dmolviewer_17583092926303353\"),{backgroundColor:\"white\"});\nviewer_17583092926303353.zoomTo();\n\tviewer_17583092926303353.addModel(\"\\n  automech\\n\\n  0  0  0  0  0  0  0  0  0  0999 V3000\\nM  V30 BEGIN CTAB\\nM  V30 COUNTS 14 14 0 0 0\\nM  V30 BEGIN ATOM\\nM  V30 1 C 0.278 -0.057 0.531 RAD=1 VAL=4\\nM  V30 2 C -0.459 1.168 0.174 RAD=2 VAL=3\\nM  V30 3 O 1.639 -0.098 0.574 RAD=1 VAL=2\\nM  V30 4 C -1.756 0.801 -0.243 RAD=2 VAL=3\\nM  V30 5 H -0.053 2.173 0.291 RAD=1 VAL=1\\nM  V30 6 H -0.195 0.572 1.347 RAD=1 VAL=1\\nM  V30 7 C -1.877 -0.571 -0.278 RAD=2 VAL=3\\nM  V30 8 H -2.558 1.509 -0.451 RAD=1 VAL=1\\nM  V30 9 C -0.576 -1.233 0.093 RAD=1 VAL=4\\nM  V30 10 H -2.780 -1.120 -0.545 RAD=1 VAL=1\\nM  V30 11 H -0.087 -1.709 -0.780 RAD=1 VAL=1\\nM  V30 12 H -0.677 -2.018 0.862 RAD=1 VAL=1\\nM  V30 13 O 2.146 -0.022 -0.769 RAD=1 VAL=2\\nM  V30 14 H 2.404 0.909 -0.821 RAD=1 VAL=1\\nM  V30 END ATOM\\nM  V30 BEGIN BOND\\nM  V30 1 1 7 10 CFG=0\\nM  V30 2 1 9 12 CFG=0\\nM  V30 3 1 2 5 CFG=0\\nM  V30 4 1 4 8 CFG=0\\nM  V30 5 1 1 2 CFG=0\\nM  V30 6 1 1 3 CFG=0\\nM  V30 7 1 4 7 CFG=0\\nM  V30 8 1 1 6 CFG=0\\nM  V30 9 1 3 13 CFG=0\\nM  V30 10 1 9 11 CFG=0\\nM  V30 11 1 7 9 CFG=0\\nM  V30 12 1 13 14 CFG=0\\nM  V30 13 1 2 4 CFG=0\\nM  V30 14 1 1 9 CFG=0\\nM  V30 END BOND\\nM  V30 END CTAB\\nM  END\\n\",\"sdf\");\n\tviewer_17583092926303353.setStyle({\"stick\": {}, \"sphere\": {\"radius\": 0.3}});\n\tviewer_17583092926303353.setBackgroundColor(\"0xeeeeee\");\n\tviewer_17583092926303353.zoomTo();\nviewer_17583092926303353.render();\n});\n</script>",
      "text/html": [
       "<div id=\"3dmolviewer_17583092926303353\"  style=\"position: relative; width: 400px; height: 400px;\">\n",
       "        <p id=\"3dmolwarning_17583092926303353\" style=\"background-color:#ffcccc;color:black\">3Dmol.js failed to load for some reason.  Please check your browser console for error messages.<br></p>\n",
       "        </div>\n",
       "<script>\n",
       "\n",
       "var loadScriptAsync = function(uri){\n",
       "  return new Promise((resolve, reject) => {\n",
       "    //this is to ignore the existence of requirejs amd\n",
       "    var savedexports, savedmodule;\n",
       "    if (typeof exports !== 'undefined') savedexports = exports;\n",
       "    else exports = {}\n",
       "    if (typeof module !== 'undefined') savedmodule = module;\n",
       "    else module = {}\n",
       "\n",
       "    var tag = document.createElement('script');\n",
       "    tag.src = uri;\n",
       "    tag.async = true;\n",
       "    tag.onload = () => {\n",
       "        exports = savedexports;\n",
       "        module = savedmodule;\n",
       "        resolve();\n",
       "    };\n",
       "  var firstScriptTag = document.getElementsByTagName('script')[0];\n",
       "  firstScriptTag.parentNode.insertBefore(tag, firstScriptTag);\n",
       "});\n",
       "};\n",
       "\n",
       "if(typeof $3Dmolpromise === 'undefined') {\n",
       "$3Dmolpromise = null;\n",
       "  $3Dmolpromise = loadScriptAsync('https://cdn.jsdelivr.net/npm/3dmol@2.5.2/build/3Dmol-min.js');\n",
       "}\n",
       "\n",
       "var viewer_17583092926303353 = null;\n",
       "var warn = document.getElementById(\"3dmolwarning_17583092926303353\");\n",
       "if(warn) {\n",
       "    warn.parentNode.removeChild(warn);\n",
       "}\n",
       "$3Dmolpromise.then(function() {\n",
       "viewer_17583092926303353 = $3Dmol.createViewer(document.getElementById(\"3dmolviewer_17583092926303353\"),{backgroundColor:\"white\"});\n",
       "viewer_17583092926303353.zoomTo();\n",
       "\tviewer_17583092926303353.addModel(\"\\n  automech\\n\\n  0  0  0  0  0  0  0  0  0  0999 V3000\\nM  V30 BEGIN CTAB\\nM  V30 COUNTS 14 14 0 0 0\\nM  V30 BEGIN ATOM\\nM  V30 1 C 0.278 -0.057 0.531 RAD=1 VAL=4\\nM  V30 2 C -0.459 1.168 0.174 RAD=2 VAL=3\\nM  V30 3 O 1.639 -0.098 0.574 RAD=1 VAL=2\\nM  V30 4 C -1.756 0.801 -0.243 RAD=2 VAL=3\\nM  V30 5 H -0.053 2.173 0.291 RAD=1 VAL=1\\nM  V30 6 H -0.195 0.572 1.347 RAD=1 VAL=1\\nM  V30 7 C -1.877 -0.571 -0.278 RAD=2 VAL=3\\nM  V30 8 H -2.558 1.509 -0.451 RAD=1 VAL=1\\nM  V30 9 C -0.576 -1.233 0.093 RAD=1 VAL=4\\nM  V30 10 H -2.780 -1.120 -0.545 RAD=1 VAL=1\\nM  V30 11 H -0.087 -1.709 -0.780 RAD=1 VAL=1\\nM  V30 12 H -0.677 -2.018 0.862 RAD=1 VAL=1\\nM  V30 13 O 2.146 -0.022 -0.769 RAD=1 VAL=2\\nM  V30 14 H 2.404 0.909 -0.821 RAD=1 VAL=1\\nM  V30 END ATOM\\nM  V30 BEGIN BOND\\nM  V30 1 1 7 10 CFG=0\\nM  V30 2 1 9 12 CFG=0\\nM  V30 3 1 2 5 CFG=0\\nM  V30 4 1 4 8 CFG=0\\nM  V30 5 1 1 2 CFG=0\\nM  V30 6 1 1 3 CFG=0\\nM  V30 7 1 4 7 CFG=0\\nM  V30 8 1 1 6 CFG=0\\nM  V30 9 1 3 13 CFG=0\\nM  V30 10 1 9 11 CFG=0\\nM  V30 11 1 7 9 CFG=0\\nM  V30 12 1 13 14 CFG=0\\nM  V30 13 1 2 4 CFG=0\\nM  V30 14 1 1 9 CFG=0\\nM  V30 END BOND\\nM  V30 END CTAB\\nM  END\\n\",\"sdf\");\n",
       "\tviewer_17583092926303353.setStyle({\"stick\": {}, \"sphere\": {\"radius\": 0.3}});\n",
       "\tviewer_17583092926303353.setBackgroundColor(\"0xeeeeee\");\n",
       "\tviewer_17583092926303353.zoomTo();\n",
       "viewer_17583092926303353.render();\n",
       "});\n",
       "</script>"
      ]
     },
     "metadata": {},
     "output_type": "display_data"
    }
   ],
   "source": [
    "import automol\n",
    "import elstruct\n",
    "from pathlib import Path\n",
    "\n",
    "out_file = Path(\"run.out\")\n",
    "geo = elstruct.reader.opt_geometry(\"gaussian16\", out_file.read_text())\n",
    "automol.geom.display(geo)"
   ]
  },
  {
   "cell_type": "code",
   "execution_count": null,
   "id": "22402aeb",
   "metadata": {},
   "outputs": [],
   "source": []
  }
 ],
 "metadata": {
  "kernelspec": {
   "display_name": "dev2",
   "language": "python",
   "name": "python3"
  },
  "language_info": {
   "codemirror_mode": {
    "name": "ipython",
    "version": 3
   },
   "file_extension": ".py",
   "mimetype": "text/x-python",
   "name": "python",
   "nbconvert_exporter": "python",
   "pygments_lexer": "ipython3",
   "version": "3.11.13"
  }
 },
 "nbformat": 4,
 "nbformat_minor": 5
}
