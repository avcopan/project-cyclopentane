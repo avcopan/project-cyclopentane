{
 "cells": [
  {
   "cell_type": "code",
   "execution_count": 3,
   "id": "02a57402",
   "metadata": {},
   "outputs": [
    {
     "data": {
      "application/3dmoljs_load.v0": "<div id=\"3dmolviewer_1758308052378742\"  style=\"position: relative; width: 400px; height: 400px;\">\n        <p id=\"3dmolwarning_1758308052378742\" style=\"background-color:#ffcccc;color:black\">3Dmol.js failed to load for some reason.  Please check your browser console for error messages.<br></p>\n        </div>\n<script>\n\nvar loadScriptAsync = function(uri){\n  return new Promise((resolve, reject) => {\n    //this is to ignore the existence of requirejs amd\n    var savedexports, savedmodule;\n    if (typeof exports !== 'undefined') savedexports = exports;\n    else exports = {}\n    if (typeof module !== 'undefined') savedmodule = module;\n    else module = {}\n\n    var tag = document.createElement('script');\n    tag.src = uri;\n    tag.async = true;\n    tag.onload = () => {\n        exports = savedexports;\n        module = savedmodule;\n        resolve();\n    };\n  var firstScriptTag = document.getElementsByTagName('script')[0];\n  firstScriptTag.parentNode.insertBefore(tag, firstScriptTag);\n});\n};\n\nif(typeof $3Dmolpromise === 'undefined') {\n$3Dmolpromise = null;\n  $3Dmolpromise = loadScriptAsync('https://cdn.jsdelivr.net/npm/3dmol@2.5.2/build/3Dmol-min.js');\n}\n\nvar viewer_1758308052378742 = null;\nvar warn = document.getElementById(\"3dmolwarning_1758308052378742\");\nif(warn) {\n    warn.parentNode.removeChild(warn);\n}\n$3Dmolpromise.then(function() {\nviewer_1758308052378742 = $3Dmol.createViewer(document.getElementById(\"3dmolviewer_1758308052378742\"),{backgroundColor:\"white\"});\nviewer_1758308052378742.zoomTo();\n\tviewer_1758308052378742.addModel(\"\\n  automech\\n\\n  0  0  0  0  0  0  0  0  0  0999 V3000\\nM  V30 BEGIN CTAB\\nM  V30 COUNTS 14 14 0 0 0\\nM  V30 BEGIN ATOM\\nM  V30 1 C 0.000 0.000 0.000 RAD=1 VAL=4\\nM  V30 2 C 0.000 0.000 1.445 RAD=2 VAL=3\\nM  V30 3 O 0.000 1.153 -0.729 RAD=1 VAL=2\\nM  V30 4 C -0.468 -1.251 1.902 RAD=2 VAL=3\\nM  V30 5 H 0.368 0.830 2.048 RAD=1 VAL=1\\nM  V30 6 H 0.973 -0.198 0.541 RAD=1 VAL=1\\nM  V30 7 C -0.864 -2.026 0.833 RAD=2 VAL=3\\nM  V30 8 H -0.460 -1.568 2.945 RAD=1 VAL=1\\nM  V30 9 C -0.711 -1.263 -0.457 RAD=1 VAL=4\\nM  V30 10 H -1.249 -3.044 0.894 RAD=1 VAL=1\\nM  V30 11 H -1.690 -0.971 -0.888 RAD=1 VAL=1\\nM  V30 12 H -0.173 -1.815 -1.246 RAD=1 VAL=1\\nM  V30 13 O -1.291 1.790 -0.577 RAD=1 VAL=2\\nM  V30 14 H -1.068 2.509 0.030 RAD=1 VAL=1\\nM  V30 END ATOM\\nM  V30 BEGIN BOND\\nM  V30 1 1 7 10 CFG=0\\nM  V30 2 1 9 12 CFG=0\\nM  V30 3 1 2 5 CFG=0\\nM  V30 4 1 4 8 CFG=0\\nM  V30 5 1 1 2 CFG=0\\nM  V30 6 1 1 3 CFG=0\\nM  V30 7 1 4 7 CFG=0\\nM  V30 8 1 1 6 CFG=0\\nM  V30 9 1 3 13 CFG=0\\nM  V30 10 1 9 11 CFG=0\\nM  V30 11 1 7 9 CFG=0\\nM  V30 12 1 13 14 CFG=0\\nM  V30 13 1 2 4 CFG=0\\nM  V30 14 1 1 9 CFG=0\\nM  V30 END BOND\\nM  V30 END CTAB\\nM  END\\n\",\"sdf\");\n\tviewer_1758308052378742.setStyle({\"stick\": {}, \"sphere\": {\"radius\": 0.3}});\n\tviewer_1758308052378742.setBackgroundColor(\"0xeeeeee\");\n\tviewer_1758308052378742.zoomTo();\nviewer_1758308052378742.render();\n});\n</script>",
      "text/html": [
       "<div id=\"3dmolviewer_1758308052378742\"  style=\"position: relative; width: 400px; height: 400px;\">\n",
       "        <p id=\"3dmolwarning_1758308052378742\" style=\"background-color:#ffcccc;color:black\">3Dmol.js failed to load for some reason.  Please check your browser console for error messages.<br></p>\n",
       "        </div>\n",
       "<script>\n",
       "\n",
       "var loadScriptAsync = function(uri){\n",
       "  return new Promise((resolve, reject) => {\n",
       "    //this is to ignore the existence of requirejs amd\n",
       "    var savedexports, savedmodule;\n",
       "    if (typeof exports !== 'undefined') savedexports = exports;\n",
       "    else exports = {}\n",
       "    if (typeof module !== 'undefined') savedmodule = module;\n",
       "    else module = {}\n",
       "\n",
       "    var tag = document.createElement('script');\n",
       "    tag.src = uri;\n",
       "    tag.async = true;\n",
       "    tag.onload = () => {\n",
       "        exports = savedexports;\n",
       "        module = savedmodule;\n",
       "        resolve();\n",
       "    };\n",
       "  var firstScriptTag = document.getElementsByTagName('script')[0];\n",
       "  firstScriptTag.parentNode.insertBefore(tag, firstScriptTag);\n",
       "});\n",
       "};\n",
       "\n",
       "if(typeof $3Dmolpromise === 'undefined') {\n",
       "$3Dmolpromise = null;\n",
       "  $3Dmolpromise = loadScriptAsync('https://cdn.jsdelivr.net/npm/3dmol@2.5.2/build/3Dmol-min.js');\n",
       "}\n",
       "\n",
       "var viewer_1758308052378742 = null;\n",
       "var warn = document.getElementById(\"3dmolwarning_1758308052378742\");\n",
       "if(warn) {\n",
       "    warn.parentNode.removeChild(warn);\n",
       "}\n",
       "$3Dmolpromise.then(function() {\n",
       "viewer_1758308052378742 = $3Dmol.createViewer(document.getElementById(\"3dmolviewer_1758308052378742\"),{backgroundColor:\"white\"});\n",
       "viewer_1758308052378742.zoomTo();\n",
       "\tviewer_1758308052378742.addModel(\"\\n  automech\\n\\n  0  0  0  0  0  0  0  0  0  0999 V3000\\nM  V30 BEGIN CTAB\\nM  V30 COUNTS 14 14 0 0 0\\nM  V30 BEGIN ATOM\\nM  V30 1 C 0.000 0.000 0.000 RAD=1 VAL=4\\nM  V30 2 C 0.000 0.000 1.445 RAD=2 VAL=3\\nM  V30 3 O 0.000 1.153 -0.729 RAD=1 VAL=2\\nM  V30 4 C -0.468 -1.251 1.902 RAD=2 VAL=3\\nM  V30 5 H 0.368 0.830 2.048 RAD=1 VAL=1\\nM  V30 6 H 0.973 -0.198 0.541 RAD=1 VAL=1\\nM  V30 7 C -0.864 -2.026 0.833 RAD=2 VAL=3\\nM  V30 8 H -0.460 -1.568 2.945 RAD=1 VAL=1\\nM  V30 9 C -0.711 -1.263 -0.457 RAD=1 VAL=4\\nM  V30 10 H -1.249 -3.044 0.894 RAD=1 VAL=1\\nM  V30 11 H -1.690 -0.971 -0.888 RAD=1 VAL=1\\nM  V30 12 H -0.173 -1.815 -1.246 RAD=1 VAL=1\\nM  V30 13 O -1.291 1.790 -0.577 RAD=1 VAL=2\\nM  V30 14 H -1.068 2.509 0.030 RAD=1 VAL=1\\nM  V30 END ATOM\\nM  V30 BEGIN BOND\\nM  V30 1 1 7 10 CFG=0\\nM  V30 2 1 9 12 CFG=0\\nM  V30 3 1 2 5 CFG=0\\nM  V30 4 1 4 8 CFG=0\\nM  V30 5 1 1 2 CFG=0\\nM  V30 6 1 1 3 CFG=0\\nM  V30 7 1 4 7 CFG=0\\nM  V30 8 1 1 6 CFG=0\\nM  V30 9 1 3 13 CFG=0\\nM  V30 10 1 9 11 CFG=0\\nM  V30 11 1 7 9 CFG=0\\nM  V30 12 1 13 14 CFG=0\\nM  V30 13 1 2 4 CFG=0\\nM  V30 14 1 1 9 CFG=0\\nM  V30 END BOND\\nM  V30 END CTAB\\nM  END\\n\",\"sdf\");\n",
       "\tviewer_1758308052378742.setStyle({\"stick\": {}, \"sphere\": {\"radius\": 0.3}});\n",
       "\tviewer_1758308052378742.setBackgroundColor(\"0xeeeeee\");\n",
       "\tviewer_1758308052378742.zoomTo();\n",
       "viewer_1758308052378742.render();\n",
       "});\n",
       "</script>"
      ]
     },
     "metadata": {},
     "output_type": "display_data"
    },
    {
     "data": {
      "image/svg+xml": [
       "<svg xmlns=\"http://www.w3.org/2000/svg\" xmlns:rdkit=\"http://www.rdkit.org/xml\" xmlns:xlink=\"http://www.w3.org/1999/xlink\" version=\"1.1\" baseProfile=\"full\" xml:space=\"preserve\" width=\"200px\" height=\"200px\" viewBox=\"0 0 200 200\">\n",
       "<!-- END OF HEADER -->\n",
       "<rect style=\"opacity:1.0;fill:#FFFFFF;stroke:none\" width=\"200.0\" height=\"200.0\" x=\"0.0\" y=\"0.0\"> </rect>\n",
       "<path class=\"bond-0 atom-0 atom-1\" d=\"M 116.8,109.0 L 133.0,122.7\" style=\"fill:none;fill-rule:evenodd;stroke:#000000;stroke-width:2.0px;stroke-linecap:butt;stroke-linejoin:miter;stroke-opacity:1\"/>\n",
       "<path class=\"bond-1 atom-0 atom-2\" d=\"M 93.2,109.0 L 89.8,109.9\" style=\"fill:none;fill-rule:evenodd;stroke:#000000;stroke-width:2.0px;stroke-linecap:butt;stroke-linejoin:miter;stroke-opacity:1\"/>\n",
       "<path class=\"bond-1 atom-0 atom-2\" d=\"M 89.8,109.9 L 86.3,110.7\" style=\"fill:none;fill-rule:evenodd;stroke:#FF0000;stroke-width:2.0px;stroke-linecap:butt;stroke-linejoin:miter;stroke-opacity:1\"/>\n",
       "<path class=\"bond-2 atom-0 atom-5\" d=\"M 114.3,97.7 L 123.2,75.7\" style=\"fill:none;fill-rule:evenodd;stroke:#000000;stroke-width:2.0px;stroke-linecap:butt;stroke-linejoin:miter;stroke-opacity:1\"/>\n",
       "<path class=\"bond-3 atom-1 atom-3\" d=\"M 151.9,122.7 L 168.4,112.5\" style=\"fill:none;fill-rule:evenodd;stroke:#000000;stroke-width:2.0px;stroke-linecap:butt;stroke-linejoin:miter;stroke-opacity:1\"/>\n",
       "<path class=\"bond-4 atom-2 atom-6\" d=\"M 67.4,107.0 L 52.1,91.0\" style=\"fill:none;fill-rule:evenodd;stroke:#FF0000;stroke-width:2.0px;stroke-linecap:butt;stroke-linejoin:miter;stroke-opacity:1\"/>\n",
       "<path class=\"bond-5 atom-3 atom-4\" d=\"M 172.2,102.3 L 166.4,78.5\" style=\"fill:none;fill-rule:evenodd;stroke:#000000;stroke-width:2.0px;stroke-linecap:butt;stroke-linejoin:miter;stroke-opacity:1\"/>\n",
       "<path class=\"bond-5 atom-3 atom-4\" d=\"M 166.6,103.7 L 160.8,79.9\" style=\"fill:none;fill-rule:evenodd;stroke:#000000;stroke-width:2.0px;stroke-linecap:butt;stroke-linejoin:miter;stroke-opacity:1\"/>\n",
       "<path class=\"bond-6 atom-5 atom-4\" d=\"M 131.2,69.1 L 159.2,71.1\" style=\"fill:none;fill-rule:evenodd;stroke:#000000;stroke-width:2.0px;stroke-linecap:butt;stroke-linejoin:miter;stroke-opacity:1\"/>\n",
       "<path class=\"atom-0\" d=\"M 94.5 104.6 Q 94.5 101.9, 95.8 100.4 Q 97.0 99.0, 99.5 99.0 Q 101.7 99.0, 102.9 100.6 L 101.9 101.4 Q 101.0 100.3, 99.5 100.3 Q 97.8 100.3, 96.9 101.4 Q 96.1 102.5, 96.1 104.6 Q 96.1 106.7, 97.0 107.9 Q 97.9 109.0, 99.6 109.0 Q 100.9 109.0, 102.3 108.2 L 102.7 109.4 Q 102.1 109.8, 101.3 110.0 Q 100.4 110.2, 99.4 110.2 Q 97.0 110.2, 95.8 108.8 Q 94.5 107.3, 94.5 104.6 \" fill=\"#000000\"/>\n",
       "<path class=\"atom-0\" d=\"M 104.2 108.3 L 105.7 108.3 L 105.7 109.8 L 104.2 109.8 L 104.2 108.3 M 104.2 102.9 L 105.7 102.9 L 105.7 104.5 L 104.2 104.5 L 104.2 102.9 \" fill=\"#000000\"/>\n",
       "<path class=\"atom-0\" d=\"M 111.5 110.2 Q 109.5 110.2, 108.5 108.7 Q 107.5 107.2, 107.5 104.6 Q 107.5 101.9, 108.5 100.5 Q 109.5 99.0, 111.5 99.0 Q 113.5 99.0, 114.5 100.5 Q 115.5 101.9, 115.5 104.6 Q 115.5 107.2, 114.5 108.7 Q 113.5 110.2, 111.5 110.2 M 111.5 109.0 Q 112.7 109.0, 113.3 107.9 Q 113.9 106.7, 113.9 104.6 Q 113.9 102.4, 113.3 101.3 Q 112.7 100.2, 111.5 100.2 Q 110.3 100.2, 109.7 101.3 Q 109.0 102.4, 109.0 104.6 Q 109.0 106.7, 109.7 107.9 Q 110.3 109.0, 111.5 109.0 \" fill=\"#000000\"/>\n",
       "<path class=\"atom-1\" d=\"M 131.3 129.5 Q 131.3 126.8, 132.6 125.4 Q 133.9 123.9, 136.3 123.9 Q 138.5 123.9, 139.8 125.5 L 138.7 126.4 Q 137.8 125.2, 136.3 125.2 Q 134.6 125.2, 133.7 126.3 Q 132.9 127.4, 132.9 129.5 Q 132.9 131.7, 133.8 132.8 Q 134.7 133.9, 136.5 133.9 Q 137.7 133.9, 139.1 133.2 L 139.5 134.4 Q 138.9 134.7, 138.1 135.0 Q 137.2 135.2, 136.2 135.2 Q 133.9 135.2, 132.6 133.7 Q 131.3 132.3, 131.3 129.5 \" fill=\"#000000\"/>\n",
       "<path class=\"atom-1\" d=\"M 140.9 133.2 L 142.5 133.2 L 142.5 134.8 L 140.9 134.8 L 140.9 133.2 M 140.9 127.9 L 142.5 127.9 L 142.5 129.4 L 140.9 129.4 L 140.9 127.9 \" fill=\"#000000\"/>\n",
       "<path class=\"atom-1\" d=\"M 144.8 133.8 L 147.2 133.8 L 147.2 125.6 L 144.5 126.4 L 144.2 125.5 L 147.5 124.0 L 148.6 124.2 L 148.6 133.8 L 150.8 133.8 L 150.8 135.0 L 144.8 135.0 L 144.8 133.8 \" fill=\"#000000\"/>\n",
       "<path class=\"atom-2\" d=\"M 62.8 113.8 Q 62.8 111.2, 64.1 109.7 Q 65.4 108.2, 67.8 108.2 Q 70.3 108.2, 71.6 109.7 Q 72.9 111.2, 72.9 113.8 Q 72.9 116.5, 71.6 118.0 Q 70.2 119.5, 67.8 119.5 Q 65.4 119.5, 64.1 118.0 Q 62.8 116.5, 62.8 113.8 M 67.8 118.3 Q 69.5 118.3, 70.4 117.1 Q 71.3 116.0, 71.3 113.8 Q 71.3 111.7, 70.4 110.6 Q 69.5 109.5, 67.8 109.5 Q 66.2 109.5, 65.3 110.6 Q 64.4 111.6, 64.4 113.8 Q 64.4 116.0, 65.3 117.1 Q 66.2 118.3, 67.8 118.3 \" fill=\"#FF0000\"/>\n",
       "<path class=\"atom-2\" d=\"M 74.3 117.5 L 75.8 117.5 L 75.8 119.1 L 74.3 119.1 L 74.3 117.5 M 74.3 112.2 L 75.8 112.2 L 75.8 113.7 L 74.3 113.7 L 74.3 112.2 \" fill=\"#FF0000\"/>\n",
       "<path class=\"atom-2\" d=\"M 77.7 110.4 Q 78.1 109.4, 79.0 108.8 Q 80.0 108.2, 81.3 108.2 Q 83.0 108.2, 83.9 109.1 Q 84.8 110.0, 84.8 111.6 Q 84.8 113.3, 83.6 114.8 Q 82.4 116.3, 79.9 118.1 L 85.0 118.1 L 85.0 119.3 L 77.6 119.3 L 77.6 118.3 Q 79.7 116.8, 80.9 115.7 Q 82.1 114.7, 82.7 113.7 Q 83.3 112.7, 83.3 111.7 Q 83.3 110.7, 82.7 110.1 Q 82.2 109.5, 81.3 109.5 Q 80.4 109.5, 79.8 109.8 Q 79.2 110.2, 78.8 111.0 L 77.7 110.4 \" fill=\"#FF0000\"/>\n",
       "<path class=\"atom-3\" d=\"M 169.7 109.1 Q 169.7 106.4, 171.0 105.0 Q 172.3 103.5, 174.7 103.5 Q 176.9 103.5, 178.1 105.1 L 177.1 106.0 Q 176.2 104.8, 174.7 104.8 Q 173.0 104.8, 172.1 105.9 Q 171.3 107.0, 171.3 109.1 Q 171.3 111.3, 172.2 112.4 Q 173.1 113.5, 174.9 113.5 Q 176.1 113.5, 177.5 112.8 L 177.9 114.0 Q 177.3 114.3, 176.5 114.5 Q 175.6 114.8, 174.6 114.8 Q 172.3 114.8, 171.0 113.3 Q 169.7 111.9, 169.7 109.1 \" fill=\"#000000\"/>\n",
       "<path class=\"atom-3\" d=\"M 179.3 112.8 L 180.9 112.8 L 180.9 114.4 L 179.3 114.4 L 179.3 112.8 M 179.3 107.5 L 180.9 107.5 L 180.9 109.0 L 179.3 109.0 L 179.3 107.5 \" fill=\"#000000\"/>\n",
       "<path class=\"atom-3\" d=\"M 187.9 108.9 Q 189.0 109.2, 189.5 109.9 Q 190.0 110.5, 190.0 111.6 Q 190.0 112.6, 189.5 113.3 Q 189.1 114.0, 188.2 114.4 Q 187.4 114.8, 186.3 114.8 Q 185.1 114.8, 184.2 114.4 Q 183.3 114.0, 182.6 113.1 L 183.5 112.2 Q 184.2 113.0, 184.8 113.3 Q 185.3 113.5, 186.3 113.5 Q 187.2 113.5, 187.8 113.0 Q 188.5 112.5, 188.5 111.6 Q 188.5 110.5, 187.8 110.0 Q 187.2 109.5, 185.9 109.5 L 185.1 109.5 L 185.1 108.4 L 185.8 108.4 Q 187.0 108.4, 187.6 107.8 Q 188.2 107.3, 188.2 106.3 Q 188.2 105.6, 187.7 105.2 Q 187.2 104.8, 186.3 104.8 Q 185.4 104.8, 184.8 105.1 Q 184.2 105.4, 183.8 106.3 L 182.7 105.7 Q 183.1 104.8, 184.0 104.2 Q 185.0 103.5, 186.3 103.5 Q 187.9 103.5, 188.8 104.3 Q 189.8 105.1, 189.8 106.3 Q 189.8 107.2, 189.3 107.9 Q 188.8 108.5, 187.9 108.9 \" fill=\"#000000\"/>\n",
       "<path class=\"atom-4\" d=\"M 160.4 71.6 Q 160.4 68.8, 161.7 67.4 Q 163.0 66.0, 165.4 66.0 Q 167.7 66.0, 168.9 67.6 L 167.9 68.4 Q 167.0 67.2, 165.4 67.2 Q 163.8 67.2, 162.9 68.4 Q 162.0 69.5, 162.0 71.6 Q 162.0 73.7, 162.9 74.8 Q 163.8 76.0, 165.6 76.0 Q 166.8 76.0, 168.2 75.2 L 168.7 76.4 Q 168.1 76.8, 167.2 77.0 Q 166.3 77.2, 165.4 77.2 Q 163.0 77.2, 161.7 75.7 Q 160.4 74.3, 160.4 71.6 \" fill=\"#000000\"/>\n",
       "<path class=\"atom-4\" d=\"M 170.1 75.2 L 171.7 75.2 L 171.7 76.8 L 170.1 76.8 L 170.1 75.2 M 170.1 69.9 L 171.7 69.9 L 171.7 71.5 L 170.1 71.5 L 170.1 69.9 \" fill=\"#000000\"/>\n",
       "<path class=\"atom-4\" d=\"M 177.7 70.2 Q 178.6 70.2, 179.4 70.6 Q 180.2 71.0, 180.6 71.8 Q 181.0 72.6, 181.0 73.5 Q 181.0 74.6, 180.5 75.4 Q 180.1 76.3, 179.2 76.7 Q 178.4 77.2, 177.3 77.2 Q 175.4 77.2, 174.4 75.9 Q 173.4 74.5, 173.4 71.9 Q 173.4 69.0, 174.6 67.5 Q 175.8 66.0, 178.2 66.0 Q 178.8 66.0, 179.4 66.1 Q 180.0 66.3, 180.6 66.6 L 180.0 67.6 Q 179.2 67.2, 178.2 67.2 Q 176.6 67.2, 175.8 68.2 Q 175.1 69.2, 175.0 71.3 Q 175.5 70.8, 176.2 70.5 Q 176.9 70.2, 177.7 70.2 M 177.3 75.9 Q 177.9 75.9, 178.4 75.6 Q 178.9 75.3, 179.2 74.7 Q 179.5 74.2, 179.5 73.5 Q 179.5 72.6, 178.9 72.0 Q 178.4 71.5, 177.4 71.5 Q 176.7 71.5, 176.1 71.7 Q 175.4 72.0, 175.0 72.5 Q 175.0 74.3, 175.6 75.1 Q 176.2 75.9, 177.3 75.9 \" fill=\"#000000\"/>\n",
       "<path class=\"atom-5\" d=\"M 109.3 68.7 Q 109.3 66.0, 110.5 64.6 Q 111.8 63.2, 114.2 63.2 Q 116.5 63.2, 117.7 64.8 L 116.7 65.6 Q 115.8 64.4, 114.2 64.4 Q 112.6 64.4, 111.7 65.5 Q 110.8 66.6, 110.8 68.7 Q 110.8 70.9, 111.7 72.0 Q 112.6 73.1, 114.4 73.1 Q 115.6 73.1, 117.0 72.4 L 117.5 73.6 Q 116.9 73.9, 116.0 74.2 Q 115.2 74.4, 114.2 74.4 Q 111.8 74.4, 110.5 72.9 Q 109.3 71.5, 109.3 68.7 \" fill=\"#000000\"/>\n",
       "<path class=\"atom-5\" d=\"M 118.9 72.4 L 120.5 72.4 L 120.5 74.0 L 118.9 74.0 L 118.9 72.4 M 118.9 67.1 L 120.5 67.1 L 120.5 68.7 L 118.9 68.7 L 118.9 67.1 \" fill=\"#000000\"/>\n",
       "<path class=\"atom-5\" d=\"M 127.8 68.4 Q 128.8 68.9, 129.4 69.5 Q 130.0 70.2, 130.0 71.2 Q 130.0 72.2, 129.5 72.9 Q 129.0 73.6, 128.1 74.0 Q 127.3 74.4, 126.1 74.4 Q 124.3 74.4, 123.3 73.6 Q 122.2 72.7, 122.2 71.2 Q 122.2 70.3, 122.7 69.7 Q 123.1 69.0, 124.1 68.5 Q 123.4 68.1, 123.0 67.5 Q 122.6 66.9, 122.6 66.0 Q 122.6 64.7, 123.5 63.9 Q 124.5 63.2, 126.1 63.2 Q 127.7 63.2, 128.6 63.9 Q 129.6 64.7, 129.6 66.0 Q 129.6 66.8, 129.1 67.4 Q 128.7 68.0, 127.8 68.4 M 126.1 64.3 Q 125.2 64.3, 124.7 64.8 Q 124.2 65.2, 124.2 66.0 Q 124.2 66.5, 124.5 66.9 Q 124.8 67.3, 125.3 67.5 Q 125.8 67.7, 126.8 68.0 Q 127.4 67.6, 127.7 67.1 Q 128.0 66.6, 128.0 66.0 Q 128.0 65.2, 127.5 64.8 Q 127.0 64.3, 126.1 64.3 M 126.1 73.2 Q 127.2 73.2, 127.8 72.7 Q 128.4 72.1, 128.4 71.2 Q 128.4 70.6, 128.1 70.3 Q 127.8 69.9, 127.3 69.7 Q 126.8 69.5, 125.9 69.2 L 125.2 68.9 Q 124.4 69.4, 124.1 70.0 Q 123.8 70.5, 123.8 71.2 Q 123.8 72.1, 124.4 72.7 Q 125.1 73.2, 126.1 73.2 \" fill=\"#000000\"/>\n",
       "<path class=\"atom-6\" d=\"M 10.0 80.4 L 11.5 80.4 L 11.5 85.1 L 17.1 85.1 L 17.1 80.4 L 18.6 80.4 L 18.6 91.4 L 17.1 91.4 L 17.1 86.3 L 11.5 86.3 L 11.5 91.4 L 10.0 91.4 L 10.0 80.4 \" fill=\"#FF0000\"/>\n",
       "<path class=\"atom-6\" d=\"M 20.6 85.9 Q 20.6 83.3, 21.9 81.8 Q 23.2 80.3, 25.6 80.3 Q 28.0 80.3, 29.3 81.8 Q 30.6 83.3, 30.6 85.9 Q 30.6 88.6, 29.3 90.1 Q 28.0 91.6, 25.6 91.6 Q 23.2 91.6, 21.9 90.1 Q 20.6 88.6, 20.6 85.9 M 25.6 90.3 Q 27.3 90.3, 28.2 89.2 Q 29.1 88.1, 29.1 85.9 Q 29.1 83.7, 28.2 82.7 Q 27.3 81.6, 25.6 81.6 Q 23.9 81.6, 23.0 82.6 Q 22.1 83.7, 22.1 85.9 Q 22.1 88.1, 23.0 89.2 Q 23.9 90.3, 25.6 90.3 \" fill=\"#FF0000\"/>\n",
       "<path class=\"atom-6\" d=\"M 32.1 89.6 L 33.6 89.6 L 33.6 91.1 L 32.1 91.1 L 32.1 89.6 M 32.1 84.3 L 33.6 84.3 L 33.6 85.8 L 32.1 85.8 L 32.1 84.3 \" fill=\"#FF0000\"/>\n",
       "<path class=\"atom-6\" d=\"M 36.1 90.2 L 38.5 90.2 L 38.5 82.0 L 35.8 82.8 L 35.5 81.9 L 38.8 80.4 L 39.9 80.6 L 39.9 90.2 L 42.1 90.2 L 42.1 91.4 L 36.1 91.4 L 36.1 90.2 \" fill=\"#FF0000\"/>\n",
       "<path class=\"atom-6\" d=\"M 43.5 82.5 Q 43.9 81.5, 44.8 80.9 Q 45.8 80.3, 47.1 80.3 Q 48.8 80.3, 49.7 81.2 Q 50.6 82.1, 50.6 83.7 Q 50.6 85.3, 49.4 86.9 Q 48.2 88.4, 45.7 90.2 L 50.8 90.2 L 50.8 91.4 L 43.4 91.4 L 43.4 90.4 Q 45.5 88.9, 46.7 87.8 Q 47.9 86.7, 48.5 85.8 Q 49.1 84.8, 49.1 83.8 Q 49.1 82.7, 48.5 82.1 Q 48.0 81.6, 47.1 81.6 Q 46.2 81.6, 45.6 81.9 Q 45.1 82.3, 44.6 83.1 L 43.5 82.5 \" fill=\"#FF0000\"/>\n",
       "<path class=\"atom-1\" d=\"M 153.9,129.5 L 153.9,129.6 L 153.9,129.6 L 153.9,129.7 L 153.8,129.8 L 153.8,129.8 L 153.8,129.9 L 153.8,129.9 L 153.7,130.0 L 153.7,130.0 L 153.6,130.1 L 153.6,130.1 L 153.5,130.2 L 153.5,130.2 L 153.4,130.2 L 153.3,130.2 L 153.3,130.2 L 153.2,130.3 L 153.1,130.3 L 153.1,130.3 L 153.0,130.3 L 152.9,130.2 L 152.9,130.2 L 152.8,130.2 L 152.7,130.2 L 152.7,130.1 L 152.6,130.1 L 152.6,130.1 L 152.5,130.0 L 152.5,130.0 L 152.5,129.9 L 152.4,129.8 L 152.4,129.8 L 152.4,129.7 L 152.4,129.7 L 152.3,129.6 L 152.3,129.5 L 152.3,129.5 L 152.3,129.4 L 152.4,129.3 L 152.4,129.3 L 152.4,129.2 L 152.4,129.1 L 152.5,129.1 L 152.5,129.0 L 152.5,129.0 L 152.6,128.9 L 152.6,128.9 L 152.7,128.8 L 152.7,128.8 L 152.8,128.8 L 152.9,128.8 L 152.9,128.7 L 153.0,128.7 L 153.1,128.7 L 153.1,128.7 L 153.2,128.7 L 153.3,128.7 L 153.3,128.7 L 153.4,128.8 L 153.5,128.8 L 153.5,128.8 L 153.6,128.9 L 153.6,128.9 L 153.7,128.9 L 153.7,129.0 L 153.8,129.1 L 153.8,129.1 L 153.8,129.2 L 153.8,129.2 L 153.9,129.3 L 153.9,129.4 L 153.9,129.4 L 153.9,129.5 L 153.1,129.5 Z\" style=\"fill:#000000;fill-rule:evenodd;fill-opacity:1;stroke:#000000;stroke-width:0.0px;stroke-linecap:butt;stroke-linejoin:miter;stroke-miterlimit:10;stroke-opacity:1;\"/>\n",
       "</svg>"
      ],
      "text/plain": [
       "<IPython.core.display.SVG object>"
      ]
     },
     "metadata": {},
     "output_type": "display_data"
    }
   ],
   "source": [
    "import automol\n",
    "from pathlib import Path\n",
    "\n",
    "zma_file = Path(\"geom.zmat\")\n",
    "zma = automol.zmat.from_string(zma_file.read_text())\n",
    "gra = automol.zmat.graph(zma, stereo=False)\n",
    "automol.zmat.display(zma)\n",
    "automol.graph.display(gra, label=True)"
   ]
  },
  {
   "cell_type": "code",
   "execution_count": null,
   "id": "ab9f4ce3",
   "metadata": {},
   "outputs": [],
   "source": []
  }
 ],
 "metadata": {
  "kernelspec": {
   "display_name": "dev2",
   "language": "python",
   "name": "python3"
  },
  "language_info": {
   "codemirror_mode": {
    "name": "ipython",
    "version": 3
   },
   "file_extension": ".py",
   "mimetype": "text/x-python",
   "name": "python",
   "nbconvert_exporter": "python",
   "pygments_lexer": "ipython3",
   "version": "3.11.13"
  }
 },
 "nbformat": 4,
 "nbformat_minor": 5
}
