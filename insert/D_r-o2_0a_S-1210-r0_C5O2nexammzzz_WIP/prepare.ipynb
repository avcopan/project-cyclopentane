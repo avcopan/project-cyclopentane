{
 "cells": [
  {
   "cell_type": "code",
   "execution_count": 1,
   "id": "35e65ca6",
   "metadata": {},
   "outputs": [],
   "source": [
    "from pathlib import Path\n",
    "\n",
    "import automol\n",
    "\n",
    "ane_path = Path(\"ane\")\n",
    "geo_name = Path(\"geom.xyz\")\n",
    "ene_name = Path(\"sp.ene\")\n",
    "zrxn_name = Path(\"zmat.r.yaml\")"
   ]
  },
  {
   "cell_type": "code",
   "execution_count": 4,
   "id": "58833aef",
   "metadata": {},
   "outputs": [
    {
     "data": {
      "application/vnd.jupyter.widget-view+json": {
       "model_id": "0c76fab4c3884b86a3845c788b1834e4",
       "version_major": 2,
       "version_minor": 0
      },
      "text/plain": [
       "HBox(children=(Image(value=b\"<?xml version='1.0' encoding='iso-8859-1...\", format='svg+xml', height='300', wid…"
      ]
     },
     "metadata": {},
     "output_type": "display_data"
    },
    {
     "data": {
      "application/3dmoljs_load.v0": "<div id=\"3dmolviewer_17476886755557075\"  style=\"position: relative; width: 400px; height: 400px;\">\n        <p id=\"3dmolwarning_17476886755557075\" style=\"background-color:#ffcccc;color:black\">3Dmol.js failed to load for some reason.  Please check your browser console for error messages.<br></p>\n        </div>\n<script>\n\nvar loadScriptAsync = function(uri){\n  return new Promise((resolve, reject) => {\n    //this is to ignore the existence of requirejs amd\n    var savedexports, savedmodule;\n    if (typeof exports !== 'undefined') savedexports = exports;\n    else exports = {}\n    if (typeof module !== 'undefined') savedmodule = module;\n    else module = {}\n\n    var tag = document.createElement('script');\n    tag.src = uri;\n    tag.async = true;\n    tag.onload = () => {\n        exports = savedexports;\n        module = savedmodule;\n        resolve();\n    };\n  var firstScriptTag = document.getElementsByTagName('script')[0];\n  firstScriptTag.parentNode.insertBefore(tag, firstScriptTag);\n});\n};\n\nif(typeof $3Dmolpromise === 'undefined') {\n$3Dmolpromise = null;\n  $3Dmolpromise = loadScriptAsync('https://cdnjs.cloudflare.com/ajax/libs/3Dmol/2.4.2/3Dmol-min.js');\n}\n\nvar viewer_17476886755557075 = null;\nvar warn = document.getElementById(\"3dmolwarning_17476886755557075\");\nif(warn) {\n    warn.parentNode.removeChild(warn);\n}\n$3Dmolpromise.then(function() {\nviewer_17476886755557075 = $3Dmol.createViewer(document.getElementById(\"3dmolviewer_17476886755557075\"),{backgroundColor:\"white\"});\nviewer_17476886755557075.zoomTo();\n\tviewer_17476886755557075.addModel(\"\\n  automech\\n\\n  0  0  0  0  0  0  0  0  0  0999 V3000\\nM  V30 BEGIN CTAB\\nM  V30 COUNTS 16 16 0 0 0\\nM  V30 BEGIN ATOM\\nM  V30 1 C 0.699 -1.212 0.483 RAD=2 VAL=3\\nM  V30 2 C 1.539 -0.659 -0.629 RAD=1 VAL=4\\nM  V30 3 H 1.189 -1.595 1.381 RAD=1 VAL=1\\nM  V30 4 C 1.752 0.825 -0.203 RAD=1 VAL=4\\nM  V30 5 H 1.007 -0.704 -1.591 RAD=1 VAL=1\\nM  V30 6 H 2.496 -1.186 -0.752 RAD=1 VAL=1\\nM  V30 7 C 0.495 1.353 0.448 RAD=1 VAL=4\\nM  V30 8 H 2.044 1.440 -1.071 RAD=1 VAL=1\\nM  V30 9 H 2.588 0.868 0.512 RAD=1 VAL=1\\nM  V30 10 C -0.538 -0.632 0.650 RAD=1 VAL=4\\nM  V30 11 H -0.280 1.794 -0.184 RAD=1 VAL=1\\nM  V30 12 H 0.565 1.781 1.452 RAD=1 VAL=1\\nM  V30 13 H -1.106 -0.690 1.587 RAD=1 VAL=1\\nM  V30 14 O -1.328 -0.487 -0.463 RAD=1 VAL=2\\nM  V30 15 O -2.310 0.506 -0.190 RAD=1 VAL=2\\nM  V30 16 H -3.082 0.091 -0.598 RAD=1 VAL=1\\nM  V30 END ATOM\\nM  V30 BEGIN BOND\\nM  V30 1 1 2 5 CFG=0\\nM  V30 2 1 7 10 CFG=0\\nM  V30 3 1 4 8 CFG=0\\nM  V30 4 1 10 14 CFG=0\\nM  V30 5 1 14 15 CFG=0\\nM  V30 6 1 1 2 CFG=0\\nM  V30 7 1 4 7 CFG=0\\nM  V30 8 1 1 3 CFG=0\\nM  V30 9 1 7 11 CFG=0\\nM  V30 10 1 4 9 CFG=0\\nM  V30 11 1 2 6 CFG=0\\nM  V30 12 1 15 16 CFG=0\\nM  V30 13 1 10 13 CFG=0\\nM  V30 14 1 2 4 CFG=0\\nM  V30 15 1 7 12 CFG=0\\nM  V30 16 1 1 10 CFG=0\\nM  V30 END BOND\\nM  V30 END CTAB\\nM  END\\n\",\"sdf\");\n\tviewer_17476886755557075.setStyle({\"stick\": {}, \"sphere\": {\"radius\": 0.3}});\n\tviewer_17476886755557075.setBackgroundColor(\"0xeeeeee\");\n\tviewer_17476886755557075.zoomTo();\nviewer_17476886755557075.render();\n});\n</script>",
      "text/html": [
       "<div id=\"3dmolviewer_17476886755557075\"  style=\"position: relative; width: 400px; height: 400px;\">\n",
       "        <p id=\"3dmolwarning_17476886755557075\" style=\"background-color:#ffcccc;color:black\">3Dmol.js failed to load for some reason.  Please check your browser console for error messages.<br></p>\n",
       "        </div>\n",
       "<script>\n",
       "\n",
       "var loadScriptAsync = function(uri){\n",
       "  return new Promise((resolve, reject) => {\n",
       "    //this is to ignore the existence of requirejs amd\n",
       "    var savedexports, savedmodule;\n",
       "    if (typeof exports !== 'undefined') savedexports = exports;\n",
       "    else exports = {}\n",
       "    if (typeof module !== 'undefined') savedmodule = module;\n",
       "    else module = {}\n",
       "\n",
       "    var tag = document.createElement('script');\n",
       "    tag.src = uri;\n",
       "    tag.async = true;\n",
       "    tag.onload = () => {\n",
       "        exports = savedexports;\n",
       "        module = savedmodule;\n",
       "        resolve();\n",
       "    };\n",
       "  var firstScriptTag = document.getElementsByTagName('script')[0];\n",
       "  firstScriptTag.parentNode.insertBefore(tag, firstScriptTag);\n",
       "});\n",
       "};\n",
       "\n",
       "if(typeof $3Dmolpromise === 'undefined') {\n",
       "$3Dmolpromise = null;\n",
       "  $3Dmolpromise = loadScriptAsync('https://cdnjs.cloudflare.com/ajax/libs/3Dmol/2.4.2/3Dmol-min.js');\n",
       "}\n",
       "\n",
       "var viewer_17476886755557075 = null;\n",
       "var warn = document.getElementById(\"3dmolwarning_17476886755557075\");\n",
       "if(warn) {\n",
       "    warn.parentNode.removeChild(warn);\n",
       "}\n",
       "$3Dmolpromise.then(function() {\n",
       "viewer_17476886755557075 = $3Dmol.createViewer(document.getElementById(\"3dmolviewer_17476886755557075\"),{backgroundColor:\"white\"});\n",
       "viewer_17476886755557075.zoomTo();\n",
       "\tviewer_17476886755557075.addModel(\"\\n  automech\\n\\n  0  0  0  0  0  0  0  0  0  0999 V3000\\nM  V30 BEGIN CTAB\\nM  V30 COUNTS 16 16 0 0 0\\nM  V30 BEGIN ATOM\\nM  V30 1 C 0.699 -1.212 0.483 RAD=2 VAL=3\\nM  V30 2 C 1.539 -0.659 -0.629 RAD=1 VAL=4\\nM  V30 3 H 1.189 -1.595 1.381 RAD=1 VAL=1\\nM  V30 4 C 1.752 0.825 -0.203 RAD=1 VAL=4\\nM  V30 5 H 1.007 -0.704 -1.591 RAD=1 VAL=1\\nM  V30 6 H 2.496 -1.186 -0.752 RAD=1 VAL=1\\nM  V30 7 C 0.495 1.353 0.448 RAD=1 VAL=4\\nM  V30 8 H 2.044 1.440 -1.071 RAD=1 VAL=1\\nM  V30 9 H 2.588 0.868 0.512 RAD=1 VAL=1\\nM  V30 10 C -0.538 -0.632 0.650 RAD=1 VAL=4\\nM  V30 11 H -0.280 1.794 -0.184 RAD=1 VAL=1\\nM  V30 12 H 0.565 1.781 1.452 RAD=1 VAL=1\\nM  V30 13 H -1.106 -0.690 1.587 RAD=1 VAL=1\\nM  V30 14 O -1.328 -0.487 -0.463 RAD=1 VAL=2\\nM  V30 15 O -2.310 0.506 -0.190 RAD=1 VAL=2\\nM  V30 16 H -3.082 0.091 -0.598 RAD=1 VAL=1\\nM  V30 END ATOM\\nM  V30 BEGIN BOND\\nM  V30 1 1 2 5 CFG=0\\nM  V30 2 1 7 10 CFG=0\\nM  V30 3 1 4 8 CFG=0\\nM  V30 4 1 10 14 CFG=0\\nM  V30 5 1 14 15 CFG=0\\nM  V30 6 1 1 2 CFG=0\\nM  V30 7 1 4 7 CFG=0\\nM  V30 8 1 1 3 CFG=0\\nM  V30 9 1 7 11 CFG=0\\nM  V30 10 1 4 9 CFG=0\\nM  V30 11 1 2 6 CFG=0\\nM  V30 12 1 15 16 CFG=0\\nM  V30 13 1 10 13 CFG=0\\nM  V30 14 1 2 4 CFG=0\\nM  V30 15 1 7 12 CFG=0\\nM  V30 16 1 1 10 CFG=0\\nM  V30 END BOND\\nM  V30 END CTAB\\nM  END\\n\",\"sdf\");\n",
       "\tviewer_17476886755557075.setStyle({\"stick\": {}, \"sphere\": {\"radius\": 0.3}});\n",
       "\tviewer_17476886755557075.setBackgroundColor(\"0xeeeeee\");\n",
       "\tviewer_17476886755557075.zoomTo();\n",
       "viewer_17476886755557075.render();\n",
       "});\n",
       "</script>"
      ]
     },
     "metadata": {},
     "output_type": "display_data"
    }
   ],
   "source": [
    "# 2. Read in cyclopentane geometry\n",
    "ane_geo = automol.geom.from_xyz_string((ane_path / geo_name).read_text())\n",
    "ane_zrxn = automol.reac.from_string((ane_path / zrxn_name).read_text())\n",
    "ane_grxn = automol.reac.with_structures(ane_zrxn, \"geom\", ignore_zc=True)\n",
    "ane_grxn = automol.reac.update_structures(ane_grxn, ts_struc=ane_geo)\n",
    "\n",
    "ane_geo = automol.reac.ts_structure(ane_grxn)\n",
    "ane_ggra = automol.reac.ts_graph(ane_grxn)\n",
    "automol.graph.display(ane_ggra, label=True, exp=True)\n",
    "automol.geom.display(ane_geo, gra=ane_ggra)"
   ]
  }
 ],
 "metadata": {
  "kernelspec": {
   "display_name": "proto",
   "language": "python",
   "name": "python3"
  },
  "language_info": {
   "codemirror_mode": {
    "name": "ipython",
    "version": 3
   },
   "file_extension": ".py",
   "mimetype": "text/x-python",
   "name": "python",
   "nbconvert_exporter": "python",
   "pygments_lexer": "ipython3",
   "version": "3.11.12"
  }
 },
 "nbformat": 4,
 "nbformat_minor": 5
}
