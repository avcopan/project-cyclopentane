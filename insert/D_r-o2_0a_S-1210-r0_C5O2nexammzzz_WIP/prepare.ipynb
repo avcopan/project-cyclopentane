{
 "cells": [
  {
   "cell_type": "code",
   "execution_count": 1,
   "id": "35e65ca6",
   "metadata": {},
   "outputs": [],
   "source": [
    "from pathlib import Path\n",
    "\n",
    "import automol\n",
    "\n",
    "ane_path = Path(\"ane_high\")\n",
    "ene_path = Path(\"ene\")\n",
    "geo_name = Path(\"geom.xyz\")\n",
    "ene_name = Path(\"sp.ene\")\n",
    "zrxn_name = Path(\"zmat.r.yaml\")"
   ]
  },
  {
   "cell_type": "code",
   "execution_count": 2,
   "id": "58833aef",
   "metadata": {},
   "outputs": [
    {
     "data": {
      "application/vnd.jupyter.widget-view+json": {
       "model_id": "7efbe6315d2940b7954d81a4321c6820",
       "version_major": 2,
       "version_minor": 0
      },
      "text/plain": [
       "HBox(children=(Image(value=b\"<?xml version='1.0' encoding='iso-8859-1...\", format='svg+xml', height='300', wid…"
      ]
     },
     "metadata": {},
     "output_type": "display_data"
    },
    {
     "data": {
      "application/3dmoljs_load.v0": "<div id=\"3dmolviewer_17477551161705189\"  style=\"position: relative; width: 400px; height: 400px;\">\n        <p id=\"3dmolwarning_17477551161705189\" style=\"background-color:#ffcccc;color:black\">3Dmol.js failed to load for some reason.  Please check your browser console for error messages.<br></p>\n        </div>\n<script>\n\nvar loadScriptAsync = function(uri){\n  return new Promise((resolve, reject) => {\n    //this is to ignore the existence of requirejs amd\n    var savedexports, savedmodule;\n    if (typeof exports !== 'undefined') savedexports = exports;\n    else exports = {}\n    if (typeof module !== 'undefined') savedmodule = module;\n    else module = {}\n\n    var tag = document.createElement('script');\n    tag.src = uri;\n    tag.async = true;\n    tag.onload = () => {\n        exports = savedexports;\n        module = savedmodule;\n        resolve();\n    };\n  var firstScriptTag = document.getElementsByTagName('script')[0];\n  firstScriptTag.parentNode.insertBefore(tag, firstScriptTag);\n});\n};\n\nif(typeof $3Dmolpromise === 'undefined') {\n$3Dmolpromise = null;\n  $3Dmolpromise = loadScriptAsync('https://cdnjs.cloudflare.com/ajax/libs/3Dmol/2.4.2/3Dmol-min.js');\n}\n\nvar viewer_17477551161705189 = null;\nvar warn = document.getElementById(\"3dmolwarning_17477551161705189\");\nif(warn) {\n    warn.parentNode.removeChild(warn);\n}\n$3Dmolpromise.then(function() {\nviewer_17477551161705189 = $3Dmol.createViewer(document.getElementById(\"3dmolviewer_17477551161705189\"),{backgroundColor:\"white\"});\nviewer_17477551161705189.zoomTo();\n\tviewer_17477551161705189.addModel(\"\\n  automech\\n\\n  0  0  0  0  0  0  0  0  0  0999 V3000\\nM  V30 BEGIN CTAB\\nM  V30 COUNTS 16 16 0 0 0\\nM  V30 BEGIN ATOM\\nM  V30 1 C 0.707 -1.191 0.495 RAD=2 VAL=3\\nM  V30 2 C 1.547 -0.656 -0.626 RAD=1 VAL=4\\nM  V30 3 H 1.195 -1.543 1.396 RAD=1 VAL=1\\nM  V30 4 C 1.750 0.831 -0.195 RAD=1 VAL=4\\nM  V30 5 H 1.020 -0.702 -1.579 RAD=1 VAL=1\\nM  V30 6 H 2.498 -1.176 -0.736 RAD=1 VAL=1\\nM  V30 7 C 0.475 1.343 0.433 RAD=1 VAL=4\\nM  V30 8 H 2.051 1.442 -1.051 RAD=1 VAL=1\\nM  V30 9 H 2.563 0.870 0.534 RAD=1 VAL=1\\nM  V30 10 C -0.525 -0.633 0.647 RAD=1 VAL=4\\nM  V30 11 H -0.286 1.764 -0.211 RAD=1 VAL=1\\nM  V30 12 H 0.522 1.770 1.427 RAD=1 VAL=1\\nM  V30 13 H -1.097 -0.679 1.568 RAD=1 VAL=1\\nM  V30 14 O -1.314 -0.500 -0.486 RAD=1 VAL=2\\nM  V30 15 O -2.322 0.510 -0.192 RAD=1 VAL=2\\nM  V30 16 H -3.112 0.012 -0.441 RAD=1 VAL=1\\nM  V30 END ATOM\\nM  V30 BEGIN BOND\\nM  V30 1 1 2 5 CFG=0\\nM  V30 2 1 7 10 CFG=0\\nM  V30 3 1 4 8 CFG=0\\nM  V30 4 1 10 14 CFG=0\\nM  V30 5 1 14 15 CFG=0\\nM  V30 6 1 1 2 CFG=0\\nM  V30 7 1 4 7 CFG=0\\nM  V30 8 1 1 3 CFG=0\\nM  V30 9 1 7 11 CFG=0\\nM  V30 10 1 4 9 CFG=0\\nM  V30 11 1 2 6 CFG=0\\nM  V30 12 1 15 16 CFG=0\\nM  V30 13 1 10 13 CFG=0\\nM  V30 14 1 2 4 CFG=0\\nM  V30 15 1 7 12 CFG=0\\nM  V30 16 1 1 10 CFG=0\\nM  V30 END BOND\\nM  V30 END CTAB\\nM  END\\n\",\"sdf\");\n\tviewer_17477551161705189.setStyle({\"stick\": {}, \"sphere\": {\"radius\": 0.3}});\n\tviewer_17477551161705189.setBackgroundColor(\"0xeeeeee\");\n\tviewer_17477551161705189.zoomTo();\nviewer_17477551161705189.render();\n});\n</script>",
      "text/html": [
       "<div id=\"3dmolviewer_17477551161705189\"  style=\"position: relative; width: 400px; height: 400px;\">\n",
       "        <p id=\"3dmolwarning_17477551161705189\" style=\"background-color:#ffcccc;color:black\">3Dmol.js failed to load for some reason.  Please check your browser console for error messages.<br></p>\n",
       "        </div>\n",
       "<script>\n",
       "\n",
       "var loadScriptAsync = function(uri){\n",
       "  return new Promise((resolve, reject) => {\n",
       "    //this is to ignore the existence of requirejs amd\n",
       "    var savedexports, savedmodule;\n",
       "    if (typeof exports !== 'undefined') savedexports = exports;\n",
       "    else exports = {}\n",
       "    if (typeof module !== 'undefined') savedmodule = module;\n",
       "    else module = {}\n",
       "\n",
       "    var tag = document.createElement('script');\n",
       "    tag.src = uri;\n",
       "    tag.async = true;\n",
       "    tag.onload = () => {\n",
       "        exports = savedexports;\n",
       "        module = savedmodule;\n",
       "        resolve();\n",
       "    };\n",
       "  var firstScriptTag = document.getElementsByTagName('script')[0];\n",
       "  firstScriptTag.parentNode.insertBefore(tag, firstScriptTag);\n",
       "});\n",
       "};\n",
       "\n",
       "if(typeof $3Dmolpromise === 'undefined') {\n",
       "$3Dmolpromise = null;\n",
       "  $3Dmolpromise = loadScriptAsync('https://cdnjs.cloudflare.com/ajax/libs/3Dmol/2.4.2/3Dmol-min.js');\n",
       "}\n",
       "\n",
       "var viewer_17477551161705189 = null;\n",
       "var warn = document.getElementById(\"3dmolwarning_17477551161705189\");\n",
       "if(warn) {\n",
       "    warn.parentNode.removeChild(warn);\n",
       "}\n",
       "$3Dmolpromise.then(function() {\n",
       "viewer_17477551161705189 = $3Dmol.createViewer(document.getElementById(\"3dmolviewer_17477551161705189\"),{backgroundColor:\"white\"});\n",
       "viewer_17477551161705189.zoomTo();\n",
       "\tviewer_17477551161705189.addModel(\"\\n  automech\\n\\n  0  0  0  0  0  0  0  0  0  0999 V3000\\nM  V30 BEGIN CTAB\\nM  V30 COUNTS 16 16 0 0 0\\nM  V30 BEGIN ATOM\\nM  V30 1 C 0.707 -1.191 0.495 RAD=2 VAL=3\\nM  V30 2 C 1.547 -0.656 -0.626 RAD=1 VAL=4\\nM  V30 3 H 1.195 -1.543 1.396 RAD=1 VAL=1\\nM  V30 4 C 1.750 0.831 -0.195 RAD=1 VAL=4\\nM  V30 5 H 1.020 -0.702 -1.579 RAD=1 VAL=1\\nM  V30 6 H 2.498 -1.176 -0.736 RAD=1 VAL=1\\nM  V30 7 C 0.475 1.343 0.433 RAD=1 VAL=4\\nM  V30 8 H 2.051 1.442 -1.051 RAD=1 VAL=1\\nM  V30 9 H 2.563 0.870 0.534 RAD=1 VAL=1\\nM  V30 10 C -0.525 -0.633 0.647 RAD=1 VAL=4\\nM  V30 11 H -0.286 1.764 -0.211 RAD=1 VAL=1\\nM  V30 12 H 0.522 1.770 1.427 RAD=1 VAL=1\\nM  V30 13 H -1.097 -0.679 1.568 RAD=1 VAL=1\\nM  V30 14 O -1.314 -0.500 -0.486 RAD=1 VAL=2\\nM  V30 15 O -2.322 0.510 -0.192 RAD=1 VAL=2\\nM  V30 16 H -3.112 0.012 -0.441 RAD=1 VAL=1\\nM  V30 END ATOM\\nM  V30 BEGIN BOND\\nM  V30 1 1 2 5 CFG=0\\nM  V30 2 1 7 10 CFG=0\\nM  V30 3 1 4 8 CFG=0\\nM  V30 4 1 10 14 CFG=0\\nM  V30 5 1 14 15 CFG=0\\nM  V30 6 1 1 2 CFG=0\\nM  V30 7 1 4 7 CFG=0\\nM  V30 8 1 1 3 CFG=0\\nM  V30 9 1 7 11 CFG=0\\nM  V30 10 1 4 9 CFG=0\\nM  V30 11 1 2 6 CFG=0\\nM  V30 12 1 15 16 CFG=0\\nM  V30 13 1 10 13 CFG=0\\nM  V30 14 1 2 4 CFG=0\\nM  V30 15 1 7 12 CFG=0\\nM  V30 16 1 1 10 CFG=0\\nM  V30 END BOND\\nM  V30 END CTAB\\nM  END\\n\",\"sdf\");\n",
       "\tviewer_17477551161705189.setStyle({\"stick\": {}, \"sphere\": {\"radius\": 0.3}});\n",
       "\tviewer_17477551161705189.setBackgroundColor(\"0xeeeeee\");\n",
       "\tviewer_17477551161705189.zoomTo();\n",
       "viewer_17477551161705189.render();\n",
       "});\n",
       "</script>"
      ]
     },
     "metadata": {},
     "output_type": "display_data"
    }
   ],
   "source": [
    "# 2. Read in cyclopentane geometry\n",
    "ane_geo = automol.geom.from_xyz_string((ane_path / geo_name).read_text())\n",
    "ane_zrxn = automol.reac.from_string((ane_path / zrxn_name).read_text())\n",
    "ane_grxn = automol.reac.with_structures(ane_zrxn, \"geom\", ignore_zc=True)\n",
    "ane_grxn = automol.reac.update_structures(ane_grxn, ts_struc=ane_geo)\n",
    "\n",
    "ane_geo = automol.reac.ts_structure(ane_grxn)\n",
    "ane_ggra = automol.reac.ts_graph(ane_grxn)\n",
    "automol.graph.display(ane_ggra, label=True, exp=True)\n",
    "automol.geom.display(ane_geo, gra=ane_ggra)"
   ]
  },
  {
   "cell_type": "code",
   "execution_count": 3,
   "id": "6606055e",
   "metadata": {},
   "outputs": [
    {
     "data": {
      "application/3dmoljs_load.v0": "<div id=\"3dmolviewer_17477551169989033\"  style=\"position: relative; width: 400px; height: 400px;\">\n        <p id=\"3dmolwarning_17477551169989033\" style=\"background-color:#ffcccc;color:black\">3Dmol.js failed to load for some reason.  Please check your browser console for error messages.<br></p>\n        </div>\n<script>\n\nvar loadScriptAsync = function(uri){\n  return new Promise((resolve, reject) => {\n    //this is to ignore the existence of requirejs amd\n    var savedexports, savedmodule;\n    if (typeof exports !== 'undefined') savedexports = exports;\n    else exports = {}\n    if (typeof module !== 'undefined') savedmodule = module;\n    else module = {}\n\n    var tag = document.createElement('script');\n    tag.src = uri;\n    tag.async = true;\n    tag.onload = () => {\n        exports = savedexports;\n        module = savedmodule;\n        resolve();\n    };\n  var firstScriptTag = document.getElementsByTagName('script')[0];\n  firstScriptTag.parentNode.insertBefore(tag, firstScriptTag);\n});\n};\n\nif(typeof $3Dmolpromise === 'undefined') {\n$3Dmolpromise = null;\n  $3Dmolpromise = loadScriptAsync('https://cdnjs.cloudflare.com/ajax/libs/3Dmol/2.4.2/3Dmol-min.js');\n}\n\nvar viewer_17477551169989033 = null;\nvar warn = document.getElementById(\"3dmolwarning_17477551169989033\");\nif(warn) {\n    warn.parentNode.removeChild(warn);\n}\n$3Dmolpromise.then(function() {\nviewer_17477551169989033 = $3Dmol.createViewer(document.getElementById(\"3dmolviewer_17477551169989033\"),{backgroundColor:\"white\"});\nviewer_17477551169989033.zoomTo();\n\tviewer_17477551169989033.addModel(\"\\n  automech\\n\\n  0  0  0  0  0  0  0  0  0  0999 V3000\\nM  V30 BEGIN CTAB\\nM  V30 COUNTS 14 14 0 0 0\\nM  V30 BEGIN ATOM\\nM  V30 1 C 0.707 -1.191 0.495 RAD=2 VAL=3\\nM  V30 2 C 1.547 -0.656 -0.626 RAD=2 VAL=3\\nM  V30 3 H 1.195 -1.543 1.396 RAD=1 VAL=1\\nM  V30 4 C 1.750 0.831 -0.195 RAD=2 VAL=3\\nM  V30 5 H 2.498 -1.176 -0.736 RAD=1 VAL=1\\nM  V30 6 C 0.475 1.343 0.433 RAD=1 VAL=4\\nM  V30 7 H 2.563 0.870 0.534 RAD=1 VAL=1\\nM  V30 8 C -0.525 -0.633 0.647 RAD=1 VAL=4\\nM  V30 9 H -0.286 1.764 -0.211 RAD=1 VAL=1\\nM  V30 10 H 0.522 1.770 1.427 RAD=1 VAL=1\\nM  V30 11 H -1.097 -0.679 1.568 RAD=1 VAL=1\\nM  V30 12 O -1.314 -0.500 -0.486 RAD=1 VAL=2\\nM  V30 13 O -2.322 0.510 -0.192 RAD=1 VAL=2\\nM  V30 14 H -3.112 0.012 -0.441 RAD=1 VAL=1\\nM  V30 END ATOM\\nM  V30 BEGIN BOND\\nM  V30 1 1 2 5 CFG=0\\nM  V30 2 1 12 13 CFG=0\\nM  V30 3 1 8 11 CFG=0\\nM  V30 4 1 1 2 CFG=0\\nM  V30 5 1 1 3 CFG=0\\nM  V30 6 1 4 7 CFG=0\\nM  V30 7 1 6 8 CFG=0\\nM  V30 8 1 4 6 CFG=0\\nM  V30 9 1 6 10 CFG=0\\nM  V30 10 1 1 8 CFG=0\\nM  V30 11 1 13 14 CFG=0\\nM  V30 12 1 2 4 CFG=0\\nM  V30 13 1 8 12 CFG=0\\nM  V30 14 1 6 9 CFG=0\\nM  V30 END BOND\\nM  V30 END CTAB\\nM  END\\n\",\"sdf\");\n\tviewer_17477551169989033.setStyle({\"stick\": {}, \"sphere\": {\"radius\": 0.3}});\n\tviewer_17477551169989033.setBackgroundColor(\"0xeeeeee\");\n\tviewer_17477551169989033.zoomTo();\nviewer_17477551169989033.render();\n});\n</script>",
      "text/html": [
       "<div id=\"3dmolviewer_17477551169989033\"  style=\"position: relative; width: 400px; height: 400px;\">\n",
       "        <p id=\"3dmolwarning_17477551169989033\" style=\"background-color:#ffcccc;color:black\">3Dmol.js failed to load for some reason.  Please check your browser console for error messages.<br></p>\n",
       "        </div>\n",
       "<script>\n",
       "\n",
       "var loadScriptAsync = function(uri){\n",
       "  return new Promise((resolve, reject) => {\n",
       "    //this is to ignore the existence of requirejs amd\n",
       "    var savedexports, savedmodule;\n",
       "    if (typeof exports !== 'undefined') savedexports = exports;\n",
       "    else exports = {}\n",
       "    if (typeof module !== 'undefined') savedmodule = module;\n",
       "    else module = {}\n",
       "\n",
       "    var tag = document.createElement('script');\n",
       "    tag.src = uri;\n",
       "    tag.async = true;\n",
       "    tag.onload = () => {\n",
       "        exports = savedexports;\n",
       "        module = savedmodule;\n",
       "        resolve();\n",
       "    };\n",
       "  var firstScriptTag = document.getElementsByTagName('script')[0];\n",
       "  firstScriptTag.parentNode.insertBefore(tag, firstScriptTag);\n",
       "});\n",
       "};\n",
       "\n",
       "if(typeof $3Dmolpromise === 'undefined') {\n",
       "$3Dmolpromise = null;\n",
       "  $3Dmolpromise = loadScriptAsync('https://cdnjs.cloudflare.com/ajax/libs/3Dmol/2.4.2/3Dmol-min.js');\n",
       "}\n",
       "\n",
       "var viewer_17477551169989033 = null;\n",
       "var warn = document.getElementById(\"3dmolwarning_17477551169989033\");\n",
       "if(warn) {\n",
       "    warn.parentNode.removeChild(warn);\n",
       "}\n",
       "$3Dmolpromise.then(function() {\n",
       "viewer_17477551169989033 = $3Dmol.createViewer(document.getElementById(\"3dmolviewer_17477551169989033\"),{backgroundColor:\"white\"});\n",
       "viewer_17477551169989033.zoomTo();\n",
       "\tviewer_17477551169989033.addModel(\"\\n  automech\\n\\n  0  0  0  0  0  0  0  0  0  0999 V3000\\nM  V30 BEGIN CTAB\\nM  V30 COUNTS 14 14 0 0 0\\nM  V30 BEGIN ATOM\\nM  V30 1 C 0.707 -1.191 0.495 RAD=2 VAL=3\\nM  V30 2 C 1.547 -0.656 -0.626 RAD=2 VAL=3\\nM  V30 3 H 1.195 -1.543 1.396 RAD=1 VAL=1\\nM  V30 4 C 1.750 0.831 -0.195 RAD=2 VAL=3\\nM  V30 5 H 2.498 -1.176 -0.736 RAD=1 VAL=1\\nM  V30 6 C 0.475 1.343 0.433 RAD=1 VAL=4\\nM  V30 7 H 2.563 0.870 0.534 RAD=1 VAL=1\\nM  V30 8 C -0.525 -0.633 0.647 RAD=1 VAL=4\\nM  V30 9 H -0.286 1.764 -0.211 RAD=1 VAL=1\\nM  V30 10 H 0.522 1.770 1.427 RAD=1 VAL=1\\nM  V30 11 H -1.097 -0.679 1.568 RAD=1 VAL=1\\nM  V30 12 O -1.314 -0.500 -0.486 RAD=1 VAL=2\\nM  V30 13 O -2.322 0.510 -0.192 RAD=1 VAL=2\\nM  V30 14 H -3.112 0.012 -0.441 RAD=1 VAL=1\\nM  V30 END ATOM\\nM  V30 BEGIN BOND\\nM  V30 1 1 2 5 CFG=0\\nM  V30 2 1 12 13 CFG=0\\nM  V30 3 1 8 11 CFG=0\\nM  V30 4 1 1 2 CFG=0\\nM  V30 5 1 1 3 CFG=0\\nM  V30 6 1 4 7 CFG=0\\nM  V30 7 1 6 8 CFG=0\\nM  V30 8 1 4 6 CFG=0\\nM  V30 9 1 6 10 CFG=0\\nM  V30 10 1 1 8 CFG=0\\nM  V30 11 1 13 14 CFG=0\\nM  V30 12 1 2 4 CFG=0\\nM  V30 13 1 8 12 CFG=0\\nM  V30 14 1 6 9 CFG=0\\nM  V30 END BOND\\nM  V30 END CTAB\\nM  END\\n\",\"sdf\");\n",
       "\tviewer_17477551169989033.setStyle({\"stick\": {}, \"sphere\": {\"radius\": 0.3}});\n",
       "\tviewer_17477551169989033.setBackgroundColor(\"0xeeeeee\");\n",
       "\tviewer_17477551169989033.zoomTo();\n",
       "viewer_17477551169989033.render();\n",
       "});\n",
       "</script>"
      ]
     },
     "metadata": {},
     "output_type": "display_data"
    },
    {
     "data": {
      "application/vnd.jupyter.widget-view+json": {
       "model_id": "036afefbd29c4e78ad5524e256dfb1e2",
       "version_major": 2,
       "version_minor": 0
      },
      "text/plain": [
       "HBox(children=(Image(value=b\"<?xml version='1.0' encoding='iso-8859-1...\", format='svg+xml', height='300', wid…"
      ]
     },
     "metadata": {},
     "output_type": "display_data"
    },
    {
     "data": {
      "application/3dmoljs_load.v0": "<div id=\"3dmolviewer_17477551210748456\"  style=\"position: relative; width: 400px; height: 400px;\">\n        <p id=\"3dmolwarning_17477551210748456\" style=\"background-color:#ffcccc;color:black\">3Dmol.js failed to load for some reason.  Please check your browser console for error messages.<br></p>\n        </div>\n<script>\n\nvar loadScriptAsync = function(uri){\n  return new Promise((resolve, reject) => {\n    //this is to ignore the existence of requirejs amd\n    var savedexports, savedmodule;\n    if (typeof exports !== 'undefined') savedexports = exports;\n    else exports = {}\n    if (typeof module !== 'undefined') savedmodule = module;\n    else module = {}\n\n    var tag = document.createElement('script');\n    tag.src = uri;\n    tag.async = true;\n    tag.onload = () => {\n        exports = savedexports;\n        module = savedmodule;\n        resolve();\n    };\n  var firstScriptTag = document.getElementsByTagName('script')[0];\n  firstScriptTag.parentNode.insertBefore(tag, firstScriptTag);\n});\n};\n\nif(typeof $3Dmolpromise === 'undefined') {\n$3Dmolpromise = null;\n  $3Dmolpromise = loadScriptAsync('https://cdnjs.cloudflare.com/ajax/libs/3Dmol/2.4.2/3Dmol-min.js');\n}\n\nvar viewer_17477551210748456 = null;\nvar warn = document.getElementById(\"3dmolwarning_17477551210748456\");\nif(warn) {\n    warn.parentNode.removeChild(warn);\n}\n$3Dmolpromise.then(function() {\nviewer_17477551210748456 = $3Dmol.createViewer(document.getElementById(\"3dmolviewer_17477551210748456\"),{backgroundColor:\"white\"});\nviewer_17477551210748456.zoomTo();\n\tviewer_17477551210748456.addModel(\"\\n  automech\\n\\n  0  0  0  0  0  0  0  0  0  0999 V3000\\nM  V30 BEGIN CTAB\\nM  V30 COUNTS 14 14 0 0 0\\nM  V30 BEGIN ATOM\\nM  V30 1 C 0.000 0.000 0.000 RAD=2 VAL=3\\nM  V30 2 C 0.000 0.000 1.499 RAD=2 VAL=3\\nM  V30 3 H 0.000 0.947 -0.527 RAD=1 VAL=1\\nM  V30 4 C 1.521 0.141 1.821 RAD=2 VAL=3\\nM  V30 5 H -0.579 0.817 1.929 RAD=1 VAL=1\\nM  V30 6 C 2.316 -0.665 0.821 RAD=1 VAL=4\\nM  V30 7 H 1.793 1.196 1.746 RAD=1 VAL=1\\nM  V30 8 C 0.647 -1.033 -0.604 RAD=1 VAL=4\\nM  V30 9 H 2.497 -1.712 1.026 RAD=1 VAL=1\\nM  V30 10 H 3.095 -0.167 0.256 RAD=1 VAL=1\\nM  V30 11 H 1.001 -1.004 -1.630 RAD=1 VAL=1\\nM  V30 12 O 0.374 -2.316 -0.152 RAD=1 VAL=2\\nM  V30 13 O 1.479 -3.166 -0.576 RAD=1 VAL=2\\nM  V30 14 H 0.972 -3.866 -1.011 RAD=1 VAL=1\\nM  V30 END ATOM\\nM  V30 BEGIN BOND\\nM  V30 1 1 13 14 CFG=0\\nM  V30 2 1 2 5 CFG=0\\nM  V30 3 1 12 13 CFG=0\\nM  V30 4 1 8 11 CFG=0\\nM  V30 5 1 1 2 CFG=0\\nM  V30 6 1 1 3 CFG=0\\nM  V30 7 1 4 7 CFG=0\\nM  V30 8 1 4 6 CFG=0\\nM  V30 9 1 1 8 CFG=0\\nM  V30 10 1 6 9 CFG=0\\nM  V30 11 1 8 12 CFG=0\\nM  V30 12 1 2 4 CFG=0\\nM  V30 13 1 6 10 CFG=0\\nM  V30 14 1 6 8 CFG=0\\nM  V30 END BOND\\nM  V30 END CTAB\\nM  END\\n\",\"sdf\");\n\tviewer_17477551210748456.setStyle({\"stick\": {}, \"sphere\": {\"radius\": 0.3}});\n\tviewer_17477551210748456.setBackgroundColor(\"0xeeeeee\");\n\tviewer_17477551210748456.zoomTo();\nviewer_17477551210748456.render();\n});\n</script>",
      "text/html": [
       "<div id=\"3dmolviewer_17477551210748456\"  style=\"position: relative; width: 400px; height: 400px;\">\n",
       "        <p id=\"3dmolwarning_17477551210748456\" style=\"background-color:#ffcccc;color:black\">3Dmol.js failed to load for some reason.  Please check your browser console for error messages.<br></p>\n",
       "        </div>\n",
       "<script>\n",
       "\n",
       "var loadScriptAsync = function(uri){\n",
       "  return new Promise((resolve, reject) => {\n",
       "    //this is to ignore the existence of requirejs amd\n",
       "    var savedexports, savedmodule;\n",
       "    if (typeof exports !== 'undefined') savedexports = exports;\n",
       "    else exports = {}\n",
       "    if (typeof module !== 'undefined') savedmodule = module;\n",
       "    else module = {}\n",
       "\n",
       "    var tag = document.createElement('script');\n",
       "    tag.src = uri;\n",
       "    tag.async = true;\n",
       "    tag.onload = () => {\n",
       "        exports = savedexports;\n",
       "        module = savedmodule;\n",
       "        resolve();\n",
       "    };\n",
       "  var firstScriptTag = document.getElementsByTagName('script')[0];\n",
       "  firstScriptTag.parentNode.insertBefore(tag, firstScriptTag);\n",
       "});\n",
       "};\n",
       "\n",
       "if(typeof $3Dmolpromise === 'undefined') {\n",
       "$3Dmolpromise = null;\n",
       "  $3Dmolpromise = loadScriptAsync('https://cdnjs.cloudflare.com/ajax/libs/3Dmol/2.4.2/3Dmol-min.js');\n",
       "}\n",
       "\n",
       "var viewer_17477551210748456 = null;\n",
       "var warn = document.getElementById(\"3dmolwarning_17477551210748456\");\n",
       "if(warn) {\n",
       "    warn.parentNode.removeChild(warn);\n",
       "}\n",
       "$3Dmolpromise.then(function() {\n",
       "viewer_17477551210748456 = $3Dmol.createViewer(document.getElementById(\"3dmolviewer_17477551210748456\"),{backgroundColor:\"white\"});\n",
       "viewer_17477551210748456.zoomTo();\n",
       "\tviewer_17477551210748456.addModel(\"\\n  automech\\n\\n  0  0  0  0  0  0  0  0  0  0999 V3000\\nM  V30 BEGIN CTAB\\nM  V30 COUNTS 14 14 0 0 0\\nM  V30 BEGIN ATOM\\nM  V30 1 C 0.000 0.000 0.000 RAD=2 VAL=3\\nM  V30 2 C 0.000 0.000 1.499 RAD=2 VAL=3\\nM  V30 3 H 0.000 0.947 -0.527 RAD=1 VAL=1\\nM  V30 4 C 1.521 0.141 1.821 RAD=2 VAL=3\\nM  V30 5 H -0.579 0.817 1.929 RAD=1 VAL=1\\nM  V30 6 C 2.316 -0.665 0.821 RAD=1 VAL=4\\nM  V30 7 H 1.793 1.196 1.746 RAD=1 VAL=1\\nM  V30 8 C 0.647 -1.033 -0.604 RAD=1 VAL=4\\nM  V30 9 H 2.497 -1.712 1.026 RAD=1 VAL=1\\nM  V30 10 H 3.095 -0.167 0.256 RAD=1 VAL=1\\nM  V30 11 H 1.001 -1.004 -1.630 RAD=1 VAL=1\\nM  V30 12 O 0.374 -2.316 -0.152 RAD=1 VAL=2\\nM  V30 13 O 1.479 -3.166 -0.576 RAD=1 VAL=2\\nM  V30 14 H 0.972 -3.866 -1.011 RAD=1 VAL=1\\nM  V30 END ATOM\\nM  V30 BEGIN BOND\\nM  V30 1 1 13 14 CFG=0\\nM  V30 2 1 2 5 CFG=0\\nM  V30 3 1 12 13 CFG=0\\nM  V30 4 1 8 11 CFG=0\\nM  V30 5 1 1 2 CFG=0\\nM  V30 6 1 1 3 CFG=0\\nM  V30 7 1 4 7 CFG=0\\nM  V30 8 1 4 6 CFG=0\\nM  V30 9 1 1 8 CFG=0\\nM  V30 10 1 6 9 CFG=0\\nM  V30 11 1 8 12 CFG=0\\nM  V30 12 1 2 4 CFG=0\\nM  V30 13 1 6 10 CFG=0\\nM  V30 14 1 6 8 CFG=0\\nM  V30 END BOND\\nM  V30 END CTAB\\nM  END\\n\",\"sdf\");\n",
       "\tviewer_17477551210748456.setStyle({\"stick\": {}, \"sphere\": {\"radius\": 0.3}});\n",
       "\tviewer_17477551210748456.setBackgroundColor(\"0xeeeeee\");\n",
       "\tviewer_17477551210748456.zoomTo();\n",
       "viewer_17477551210748456.render();\n",
       "});\n",
       "</script>"
      ]
     },
     "metadata": {},
     "output_type": "display_data"
    },
    {
     "data": {
      "application/3dmoljs_load.v0": "<div id=\"3dmolviewer_17477551211707666\"  style=\"position: relative; width: 400px; height: 400px;\">\n        <p id=\"3dmolwarning_17477551211707666\" style=\"background-color:#ffcccc;color:black\">3Dmol.js failed to load for some reason.  Please check your browser console for error messages.<br></p>\n        </div>\n<script>\n\nvar loadScriptAsync = function(uri){\n  return new Promise((resolve, reject) => {\n    //this is to ignore the existence of requirejs amd\n    var savedexports, savedmodule;\n    if (typeof exports !== 'undefined') savedexports = exports;\n    else exports = {}\n    if (typeof module !== 'undefined') savedmodule = module;\n    else module = {}\n\n    var tag = document.createElement('script');\n    tag.src = uri;\n    tag.async = true;\n    tag.onload = () => {\n        exports = savedexports;\n        module = savedmodule;\n        resolve();\n    };\n  var firstScriptTag = document.getElementsByTagName('script')[0];\n  firstScriptTag.parentNode.insertBefore(tag, firstScriptTag);\n});\n};\n\nif(typeof $3Dmolpromise === 'undefined') {\n$3Dmolpromise = null;\n  $3Dmolpromise = loadScriptAsync('https://cdnjs.cloudflare.com/ajax/libs/3Dmol/2.4.2/3Dmol-min.js');\n}\n\nvar viewer_17477551211707666 = null;\nvar warn = document.getElementById(\"3dmolwarning_17477551211707666\");\nif(warn) {\n    warn.parentNode.removeChild(warn);\n}\n$3Dmolpromise.then(function() {\nviewer_17477551211707666 = $3Dmol.createViewer(document.getElementById(\"3dmolviewer_17477551211707666\"),{backgroundColor:\"white\"});\nviewer_17477551211707666.zoomTo();\n\tviewer_17477551211707666.addModel(\"\\n  automech\\n\\n  0  0  0  0  0  0  0  0  0  0999 V3000\\nM  V30 BEGIN CTAB\\nM  V30 COUNTS 14 14 0 0 0\\nM  V30 BEGIN ATOM\\nM  V30 1 C 0.000 0.000 0.000 RAD=2 VAL=3\\nM  V30 2 C 0.000 0.000 1.499 RAD=2 VAL=3\\nM  V30 3 H 0.000 0.947 -0.527 RAD=1 VAL=1\\nM  V30 4 C 1.521 0.141 1.821 RAD=2 VAL=3\\nM  V30 5 H -0.579 0.817 1.929 RAD=1 VAL=1\\nM  V30 6 C 2.316 -0.665 0.821 RAD=1 VAL=4\\nM  V30 7 H 1.793 1.196 1.746 RAD=1 VAL=1\\nM  V30 8 C 0.647 -1.033 -0.604 RAD=1 VAL=4\\nM  V30 9 H 2.497 -1.712 1.026 RAD=1 VAL=1\\nM  V30 10 H 3.095 -0.167 0.256 RAD=1 VAL=1\\nM  V30 11 H 1.001 -1.004 -1.630 RAD=1 VAL=1\\nM  V30 12 O 0.374 -2.316 -0.152 RAD=1 VAL=2\\nM  V30 13 O 1.479 -3.166 -0.576 RAD=1 VAL=2\\nM  V30 14 H 0.972 -3.866 -1.011 RAD=1 VAL=1\\nM  V30 END ATOM\\nM  V30 BEGIN BOND\\nM  V30 1 1 2 5 CFG=0\\nM  V30 2 1 12 13 CFG=0\\nM  V30 3 1 8 11 CFG=0\\nM  V30 4 1 1 2 CFG=0\\nM  V30 5 1 1 3 CFG=0\\nM  V30 6 1 4 7 CFG=0\\nM  V30 7 1 6 8 CFG=0\\nM  V30 8 1 4 6 CFG=0\\nM  V30 9 1 6 10 CFG=0\\nM  V30 10 1 1 8 CFG=0\\nM  V30 11 1 13 14 CFG=0\\nM  V30 12 1 2 4 CFG=0\\nM  V30 13 1 8 12 CFG=0\\nM  V30 14 1 6 9 CFG=0\\nM  V30 END BOND\\nM  V30 END CTAB\\nM  END\\n\",\"sdf\");\n\tviewer_17477551211707666.setStyle({\"stick\": {}, \"sphere\": {\"radius\": 0.3}});\n\tviewer_17477551211707666.setBackgroundColor(\"0xeeeeee\");\n\tviewer_17477551211707666.zoomTo();\nviewer_17477551211707666.render();\n});\n</script>",
      "text/html": [
       "<div id=\"3dmolviewer_17477551211707666\"  style=\"position: relative; width: 400px; height: 400px;\">\n",
       "        <p id=\"3dmolwarning_17477551211707666\" style=\"background-color:#ffcccc;color:black\">3Dmol.js failed to load for some reason.  Please check your browser console for error messages.<br></p>\n",
       "        </div>\n",
       "<script>\n",
       "\n",
       "var loadScriptAsync = function(uri){\n",
       "  return new Promise((resolve, reject) => {\n",
       "    //this is to ignore the existence of requirejs amd\n",
       "    var savedexports, savedmodule;\n",
       "    if (typeof exports !== 'undefined') savedexports = exports;\n",
       "    else exports = {}\n",
       "    if (typeof module !== 'undefined') savedmodule = module;\n",
       "    else module = {}\n",
       "\n",
       "    var tag = document.createElement('script');\n",
       "    tag.src = uri;\n",
       "    tag.async = true;\n",
       "    tag.onload = () => {\n",
       "        exports = savedexports;\n",
       "        module = savedmodule;\n",
       "        resolve();\n",
       "    };\n",
       "  var firstScriptTag = document.getElementsByTagName('script')[0];\n",
       "  firstScriptTag.parentNode.insertBefore(tag, firstScriptTag);\n",
       "});\n",
       "};\n",
       "\n",
       "if(typeof $3Dmolpromise === 'undefined') {\n",
       "$3Dmolpromise = null;\n",
       "  $3Dmolpromise = loadScriptAsync('https://cdnjs.cloudflare.com/ajax/libs/3Dmol/2.4.2/3Dmol-min.js');\n",
       "}\n",
       "\n",
       "var viewer_17477551211707666 = null;\n",
       "var warn = document.getElementById(\"3dmolwarning_17477551211707666\");\n",
       "if(warn) {\n",
       "    warn.parentNode.removeChild(warn);\n",
       "}\n",
       "$3Dmolpromise.then(function() {\n",
       "viewer_17477551211707666 = $3Dmol.createViewer(document.getElementById(\"3dmolviewer_17477551211707666\"),{backgroundColor:\"white\"});\n",
       "viewer_17477551211707666.zoomTo();\n",
       "\tviewer_17477551211707666.addModel(\"\\n  automech\\n\\n  0  0  0  0  0  0  0  0  0  0999 V3000\\nM  V30 BEGIN CTAB\\nM  V30 COUNTS 14 14 0 0 0\\nM  V30 BEGIN ATOM\\nM  V30 1 C 0.000 0.000 0.000 RAD=2 VAL=3\\nM  V30 2 C 0.000 0.000 1.499 RAD=2 VAL=3\\nM  V30 3 H 0.000 0.947 -0.527 RAD=1 VAL=1\\nM  V30 4 C 1.521 0.141 1.821 RAD=2 VAL=3\\nM  V30 5 H -0.579 0.817 1.929 RAD=1 VAL=1\\nM  V30 6 C 2.316 -0.665 0.821 RAD=1 VAL=4\\nM  V30 7 H 1.793 1.196 1.746 RAD=1 VAL=1\\nM  V30 8 C 0.647 -1.033 -0.604 RAD=1 VAL=4\\nM  V30 9 H 2.497 -1.712 1.026 RAD=1 VAL=1\\nM  V30 10 H 3.095 -0.167 0.256 RAD=1 VAL=1\\nM  V30 11 H 1.001 -1.004 -1.630 RAD=1 VAL=1\\nM  V30 12 O 0.374 -2.316 -0.152 RAD=1 VAL=2\\nM  V30 13 O 1.479 -3.166 -0.576 RAD=1 VAL=2\\nM  V30 14 H 0.972 -3.866 -1.011 RAD=1 VAL=1\\nM  V30 END ATOM\\nM  V30 BEGIN BOND\\nM  V30 1 1 2 5 CFG=0\\nM  V30 2 1 12 13 CFG=0\\nM  V30 3 1 8 11 CFG=0\\nM  V30 4 1 1 2 CFG=0\\nM  V30 5 1 1 3 CFG=0\\nM  V30 6 1 4 7 CFG=0\\nM  V30 7 1 6 8 CFG=0\\nM  V30 8 1 4 6 CFG=0\\nM  V30 9 1 6 10 CFG=0\\nM  V30 10 1 1 8 CFG=0\\nM  V30 11 1 13 14 CFG=0\\nM  V30 12 1 2 4 CFG=0\\nM  V30 13 1 8 12 CFG=0\\nM  V30 14 1 6 9 CFG=0\\nM  V30 END BOND\\nM  V30 END CTAB\\nM  END\\n\",\"sdf\");\n",
       "\tviewer_17477551211707666.setStyle({\"stick\": {}, \"sphere\": {\"radius\": 0.3}});\n",
       "\tviewer_17477551211707666.setBackgroundColor(\"0xeeeeee\");\n",
       "\tviewer_17477551211707666.zoomTo();\n",
       "viewer_17477551211707666.render();\n",
       "});\n",
       "</script>"
      ]
     },
     "metadata": {},
     "output_type": "display_data"
    }
   ],
   "source": [
    "grxn0 = automol.reac.remove_atoms(ane_grxn, [7, 4])\n",
    "zrxn = automol.reac.with_structures(grxn0, \"zmat\", ignore_zc=True)\n",
    "zrxn = automol.reac.reset_conversion_info(zrxn)\n",
    "grxn = automol.reac.with_structures(zrxn, \"geom\", ignore_zc=True)\n",
    "\n",
    "geo = automol.reac.ts_structure(grxn)\n",
    "ggra = automol.reac.ts_graph(grxn)\n",
    "automol.graph.display(ggra, label=True)\n",
    "automol.geom.display(geo, gra=ggra)\n",
    "\n",
    "zma = automol.reac.ts_structure(zrxn)\n",
    "zgra = automol.reac.ts_graph(zrxn)\n",
    "automol.zmat.display(zma, gra=zgra)"
   ]
  },
  {
   "cell_type": "code",
   "execution_count": 4,
   "id": "7116faf8",
   "metadata": {},
   "outputs": [
    {
     "data": {
      "text/plain": [
       "4616"
      ]
     },
     "execution_count": 4,
     "metadata": {},
     "output_type": "execute_result"
    }
   ],
   "source": [
    "zma_name = geo_name.with_suffix(\".zmat\")\n",
    "\n",
    "(ene_path / geo_name).write_text(automol.geom.xyz_string(geo))\n",
    "(ene_path / zma_name).write_text(automol.zmat.string(zma, one_indexed=True))\n",
    "(ene_path / zrxn_name).write_text(automol.reac.string(zrxn))"
   ]
  },
  {
   "cell_type": "code",
   "execution_count": 5,
   "id": "294a1465",
   "metadata": {},
   "outputs": [
    {
     "data": {
      "application/vnd.jupyter.widget-view+json": {
       "model_id": "0d04e48788f3457f9380c6cd5f03deb1",
       "version_major": 2,
       "version_minor": 0
      },
      "text/plain": [
       "HBox(children=(Image(value=b\"<?xml version='1.0' encoding='iso-8859-1...\", format='svg+xml', height='300', wid…"
      ]
     },
     "metadata": {},
     "output_type": "display_data"
    }
   ],
   "source": [
    "automol.graph.display(zgra, exp=True, label=True)"
   ]
  }
 ],
 "metadata": {
  "kernelspec": {
   "display_name": "proto",
   "language": "python",
   "name": "python3"
  },
  "language_info": {
   "codemirror_mode": {
    "name": "ipython",
    "version": 3
   },
   "file_extension": ".py",
   "mimetype": "text/x-python",
   "name": "python",
   "nbconvert_exporter": "python",
   "pygments_lexer": "ipython3",
   "version": "3.11.12"
  }
 },
 "nbformat": 4,
 "nbformat_minor": 5
}
