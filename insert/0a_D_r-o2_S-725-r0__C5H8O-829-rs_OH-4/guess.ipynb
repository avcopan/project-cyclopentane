{
 "cells": [
  {
   "cell_type": "code",
   "execution_count": 1,
   "id": "ab37446c",
   "metadata": {},
   "outputs": [],
   "source": [
    "from pathlib import Path\n",
    "\n",
    "import automol\n",
    "\n",
    "ade_path = Path(\"autode\")\n",
    "opt_path = Path(\"opt\")\n",
    "geo_name = Path(\"geom.xyz\")\n",
    "zma_name = Path(\"geom.zmat\")\n",
    "ene_name = Path(\"sp.ene\")\n",
    "zrxn_name = Path(\"zmat.r.yaml\")"
   ]
  },
  {
   "cell_type": "code",
   "execution_count": 2,
   "id": "664f36fb",
   "metadata": {},
   "outputs": [],
   "source": [
    "# Read geometry and prepare TS graph\n",
    "geo = automol.geom.from_xyz_string((ade_path / geo_name).read_text())\n",
    "gra = automol.geom.graph(geo)\n",
    "gra = automol.graph.ts_graph(gra, frm_bnd_keys=[(1, 4)], brk_bnd_keys=[(0, 1)])\n",
    "gra = automol.graph.set_stereo_from_geometry(gra, geo)"
   ]
  },
  {
   "cell_type": "code",
   "execution_count": 3,
   "id": "c7c9b916",
   "metadata": {},
   "outputs": [],
   "source": [
    "# Build reaction object\n",
    "rcts_gra = automol.graph.ts.reactants_graph(gra, stereo=False)\n",
    "prds_gra = automol.graph.ts.products_graph(gra, stereo=False)\n",
    "rcts_keys = sorted(map(sorted, automol.graph.connected_components_atom_keys(rcts_gra)))\n",
    "prds_keys = sorted(map(sorted, automol.graph.connected_components_atom_keys(prds_gra)))\n",
    "rxn = automol.reac.from_data(\n",
    "    tsg=gra,\n",
    "    rcts_keys=rcts_keys,\n",
    "    prds_keys=prds_keys,\n",
    "    cla=automol.const.ReactionClass.RING_FORM_SCISSION,\n",
    ")"
   ]
  },
  {
   "cell_type": "code",
   "execution_count": null,
   "id": "de28ba3a",
   "metadata": {},
   "outputs": [
    {
     "data": {
      "application/vnd.jupyter.widget-view+json": {
       "model_id": "72f83a3dafe743af8913d835cca3c97a",
       "version_major": 2,
       "version_minor": 0
      },
      "text/plain": [
       "HBox(children=(Image(value=b\"<?xml version='1.0' encoding='iso-8859-1...\", format='svg+xml', height='300', wid…"
      ]
     },
     "metadata": {},
     "output_type": "display_data"
    },
    {
     "data": {
      "application/3dmoljs_load.v0": "<div id=\"3dmolviewer_17480314190222414\"  style=\"position: relative; width: 400px; height: 400px;\">\n        <p id=\"3dmolwarning_17480314190222414\" style=\"background-color:#ffcccc;color:black\">3Dmol.js failed to load for some reason.  Please check your browser console for error messages.<br></p>\n        </div>\n<script>\n\nvar loadScriptAsync = function(uri){\n  return new Promise((resolve, reject) => {\n    //this is to ignore the existence of requirejs amd\n    var savedexports, savedmodule;\n    if (typeof exports !== 'undefined') savedexports = exports;\n    else exports = {}\n    if (typeof module !== 'undefined') savedmodule = module;\n    else module = {}\n\n    var tag = document.createElement('script');\n    tag.src = uri;\n    tag.async = true;\n    tag.onload = () => {\n        exports = savedexports;\n        module = savedmodule;\n        resolve();\n    };\n  var firstScriptTag = document.getElementsByTagName('script')[0];\n  firstScriptTag.parentNode.insertBefore(tag, firstScriptTag);\n});\n};\n\nif(typeof $3Dmolpromise === 'undefined') {\n$3Dmolpromise = null;\n  $3Dmolpromise = loadScriptAsync('https://cdnjs.cloudflare.com/ajax/libs/3Dmol/2.4.2/3Dmol-min.js');\n}\n\nvar viewer_17480314190222414 = null;\nvar warn = document.getElementById(\"3dmolwarning_17480314190222414\");\nif(warn) {\n    warn.parentNode.removeChild(warn);\n}\n$3Dmolpromise.then(function() {\nviewer_17480314190222414 = $3Dmol.createViewer(document.getElementById(\"3dmolviewer_17480314190222414\"),{backgroundColor:\"white\"});\nviewer_17480314190222414.zoomTo();\n\tviewer_17480314190222414.addModel(\"\\n  automech\\n\\n  0  0  0  0  0  0  0  0  0  0999 V3000\\nM  V30 BEGIN CTAB\\nM  V30 COUNTS 16 16 0 0 0\\nM  V30 BEGIN ATOM\\nM  V30 1 C 0.000 0.000 0.000 RAD=2 VAL=3\\nM  V30 2 C 0.000 0.000 1.501 RAD=1 VAL=4\\nM  V30 3 C 0.000 1.422 -0.475 RAD=1 VAL=4\\nM  V30 4 H 0.245 -0.856 -0.634 RAD=1 VAL=1\\nM  V30 5 C -1.224 0.903 1.462 RAD=1 VAL=4\\nM  V30 6 H -0.219 -0.980 1.943 RAD=1 VAL=1\\nM  V30 7 H 0.905 0.436 1.965 RAD=1 VAL=1\\nM  V30 8 O -1.932 0.097 0.519 RAD=1 VAL=2\\nM  V30 9 H -1.815 1.081 2.371 RAD=1 VAL=1\\nM  V30 10 O -3.509 0.757 0.660 RAD=1 VAL=2\\nM  V30 11 C -0.768 2.127 0.671 RAD=1 VAL=4\\nM  V30 12 H -0.492 1.524 -1.453 RAD=1 VAL=1\\nM  V30 13 H 1.031 1.803 -0.591 RAD=1 VAL=1\\nM  V30 14 H -1.643 2.687 0.314 RAD=1 VAL=1\\nM  V30 15 H -0.133 2.799 1.269 RAD=1 VAL=1\\nM  V30 16 H -3.885 0.149 0.009 RAD=1 VAL=1\\nM  V30 END ATOM\\nM  V30 BEGIN BOND\\nM  V30 1 1 5 11 CFG=0\\nM  V30 2 1 2 5 CFG=0\\nM  V30 3 1 3 11 CFG=0\\nM  V30 4 1 1 4 CFG=0\\nM  V30 5 1 1 2 CFG=0\\nM  V30 6 1 1 3 CFG=0\\nM  V30 7 1 8 10 CFG=0\\nM  V30 8 1 11 14 CFG=0\\nM  V30 9 1 11 15 CFG=0\\nM  V30 10 1 3 13 CFG=0\\nM  V30 11 1 2 6 CFG=0\\nM  V30 12 1 3 12 CFG=0\\nM  V30 13 1 2 7 CFG=0\\nM  V30 14 1 10 16 CFG=0\\nM  V30 15 1 5 9 CFG=0\\nM  V30 16 1 5 8 CFG=0\\nM  V30 END BOND\\nM  V30 END CTAB\\nM  END\\n\",\"sdf\");\n\tviewer_17480314190222414.setStyle({\"stick\": {}, \"sphere\": {\"radius\": 0.3}});\n\tviewer_17480314190222414.setBackgroundColor(\"0xeeeeee\");\n\tviewer_17480314190222414.zoomTo();\n\tviewer_17480314190222414.addArrow({\"start\": {\"x\": 0.0, \"y\": 0.0, \"z\": 0.0}, \"end\": {\"x\": -0.9929509315455851, \"y\": -0.09610347992515325, \"z\": -0.06937267970195915}, \"color\": \"black\"});\n\tviewer_17480314190222414.zoomTo();\n\tviewer_17480314190222414.addArrow({\"start\": {\"x\": -1.9323485106080829, \"y\": 0.09728836219457328, \"z\": 0.5189634506299505}, \"end\": {\"x\": -1.01310627440757, \"y\": -0.28766460503317315, \"z\": 0.4364714861265263}, \"color\": \"black\"});\n\tviewer_17480314190222414.zoomTo();\nviewer_17480314190222414.render();\n});\n</script>",
      "text/html": [
       "<div id=\"3dmolviewer_17480314190222414\"  style=\"position: relative; width: 400px; height: 400px;\">\n",
       "        <p id=\"3dmolwarning_17480314190222414\" style=\"background-color:#ffcccc;color:black\">3Dmol.js failed to load for some reason.  Please check your browser console for error messages.<br></p>\n",
       "        </div>\n",
       "<script>\n",
       "\n",
       "var loadScriptAsync = function(uri){\n",
       "  return new Promise((resolve, reject) => {\n",
       "    //this is to ignore the existence of requirejs amd\n",
       "    var savedexports, savedmodule;\n",
       "    if (typeof exports !== 'undefined') savedexports = exports;\n",
       "    else exports = {}\n",
       "    if (typeof module !== 'undefined') savedmodule = module;\n",
       "    else module = {}\n",
       "\n",
       "    var tag = document.createElement('script');\n",
       "    tag.src = uri;\n",
       "    tag.async = true;\n",
       "    tag.onload = () => {\n",
       "        exports = savedexports;\n",
       "        module = savedmodule;\n",
       "        resolve();\n",
       "    };\n",
       "  var firstScriptTag = document.getElementsByTagName('script')[0];\n",
       "  firstScriptTag.parentNode.insertBefore(tag, firstScriptTag);\n",
       "});\n",
       "};\n",
       "\n",
       "if(typeof $3Dmolpromise === 'undefined') {\n",
       "$3Dmolpromise = null;\n",
       "  $3Dmolpromise = loadScriptAsync('https://cdnjs.cloudflare.com/ajax/libs/3Dmol/2.4.2/3Dmol-min.js');\n",
       "}\n",
       "\n",
       "var viewer_17480314190222414 = null;\n",
       "var warn = document.getElementById(\"3dmolwarning_17480314190222414\");\n",
       "if(warn) {\n",
       "    warn.parentNode.removeChild(warn);\n",
       "}\n",
       "$3Dmolpromise.then(function() {\n",
       "viewer_17480314190222414 = $3Dmol.createViewer(document.getElementById(\"3dmolviewer_17480314190222414\"),{backgroundColor:\"white\"});\n",
       "viewer_17480314190222414.zoomTo();\n",
       "\tviewer_17480314190222414.addModel(\"\\n  automech\\n\\n  0  0  0  0  0  0  0  0  0  0999 V3000\\nM  V30 BEGIN CTAB\\nM  V30 COUNTS 16 16 0 0 0\\nM  V30 BEGIN ATOM\\nM  V30 1 C 0.000 0.000 0.000 RAD=2 VAL=3\\nM  V30 2 C 0.000 0.000 1.501 RAD=1 VAL=4\\nM  V30 3 C 0.000 1.422 -0.475 RAD=1 VAL=4\\nM  V30 4 H 0.245 -0.856 -0.634 RAD=1 VAL=1\\nM  V30 5 C -1.224 0.903 1.462 RAD=1 VAL=4\\nM  V30 6 H -0.219 -0.980 1.943 RAD=1 VAL=1\\nM  V30 7 H 0.905 0.436 1.965 RAD=1 VAL=1\\nM  V30 8 O -1.932 0.097 0.519 RAD=1 VAL=2\\nM  V30 9 H -1.815 1.081 2.371 RAD=1 VAL=1\\nM  V30 10 O -3.509 0.757 0.660 RAD=1 VAL=2\\nM  V30 11 C -0.768 2.127 0.671 RAD=1 VAL=4\\nM  V30 12 H -0.492 1.524 -1.453 RAD=1 VAL=1\\nM  V30 13 H 1.031 1.803 -0.591 RAD=1 VAL=1\\nM  V30 14 H -1.643 2.687 0.314 RAD=1 VAL=1\\nM  V30 15 H -0.133 2.799 1.269 RAD=1 VAL=1\\nM  V30 16 H -3.885 0.149 0.009 RAD=1 VAL=1\\nM  V30 END ATOM\\nM  V30 BEGIN BOND\\nM  V30 1 1 5 11 CFG=0\\nM  V30 2 1 2 5 CFG=0\\nM  V30 3 1 3 11 CFG=0\\nM  V30 4 1 1 4 CFG=0\\nM  V30 5 1 1 2 CFG=0\\nM  V30 6 1 1 3 CFG=0\\nM  V30 7 1 8 10 CFG=0\\nM  V30 8 1 11 14 CFG=0\\nM  V30 9 1 11 15 CFG=0\\nM  V30 10 1 3 13 CFG=0\\nM  V30 11 1 2 6 CFG=0\\nM  V30 12 1 3 12 CFG=0\\nM  V30 13 1 2 7 CFG=0\\nM  V30 14 1 10 16 CFG=0\\nM  V30 15 1 5 9 CFG=0\\nM  V30 16 1 5 8 CFG=0\\nM  V30 END BOND\\nM  V30 END CTAB\\nM  END\\n\",\"sdf\");\n",
       "\tviewer_17480314190222414.setStyle({\"stick\": {}, \"sphere\": {\"radius\": 0.3}});\n",
       "\tviewer_17480314190222414.setBackgroundColor(\"0xeeeeee\");\n",
       "\tviewer_17480314190222414.zoomTo();\n",
       "\tviewer_17480314190222414.addArrow({\"start\": {\"x\": 0.0, \"y\": 0.0, \"z\": 0.0}, \"end\": {\"x\": -0.9929509315455851, \"y\": -0.09610347992515325, \"z\": -0.06937267970195915}, \"color\": \"black\"});\n",
       "\tviewer_17480314190222414.zoomTo();\n",
       "\tviewer_17480314190222414.addArrow({\"start\": {\"x\": -1.9323485106080829, \"y\": 0.09728836219457328, \"z\": 0.5189634506299505}, \"end\": {\"x\": -1.01310627440757, \"y\": -0.28766460503317315, \"z\": 0.4364714861265263}, \"color\": \"black\"});\n",
       "\tviewer_17480314190222414.zoomTo();\n",
       "viewer_17480314190222414.render();\n",
       "});\n",
       "</script>"
      ]
     },
     "metadata": {},
     "output_type": "display_data"
    },
    {
     "data": {
      "application/vnd.jupyter.widget-view+json": {
       "model_id": "dc7dfb39274443ef8d3712b2011d8afb",
       "version_major": 2,
       "version_minor": 0
      },
      "text/plain": [
       "HBox(children=(Image(value=b\"<?xml version='1.0' encoding='iso-8859-1...\", format='svg+xml', height='300', wid…"
      ]
     },
     "metadata": {},
     "output_type": "display_data"
    },
    {
     "data": {
      "application/3dmoljs_load.v0": "<div id=\"3dmolviewer_1748031422544382\"  style=\"position: relative; width: 400px; height: 400px;\">\n        <p id=\"3dmolwarning_1748031422544382\" style=\"background-color:#ffcccc;color:black\">3Dmol.js failed to load for some reason.  Please check your browser console for error messages.<br></p>\n        </div>\n<script>\n\nvar loadScriptAsync = function(uri){\n  return new Promise((resolve, reject) => {\n    //this is to ignore the existence of requirejs amd\n    var savedexports, savedmodule;\n    if (typeof exports !== 'undefined') savedexports = exports;\n    else exports = {}\n    if (typeof module !== 'undefined') savedmodule = module;\n    else module = {}\n\n    var tag = document.createElement('script');\n    tag.src = uri;\n    tag.async = true;\n    tag.onload = () => {\n        exports = savedexports;\n        module = savedmodule;\n        resolve();\n    };\n  var firstScriptTag = document.getElementsByTagName('script')[0];\n  firstScriptTag.parentNode.insertBefore(tag, firstScriptTag);\n});\n};\n\nif(typeof $3Dmolpromise === 'undefined') {\n$3Dmolpromise = null;\n  $3Dmolpromise = loadScriptAsync('https://cdnjs.cloudflare.com/ajax/libs/3Dmol/2.4.2/3Dmol-min.js');\n}\n\nvar viewer_1748031422544382 = null;\nvar warn = document.getElementById(\"3dmolwarning_1748031422544382\");\nif(warn) {\n    warn.parentNode.removeChild(warn);\n}\n$3Dmolpromise.then(function() {\nviewer_1748031422544382 = $3Dmol.createViewer(document.getElementById(\"3dmolviewer_1748031422544382\"),{backgroundColor:\"white\"});\nviewer_1748031422544382.zoomTo();\n\tviewer_1748031422544382.addModel(\"\\n  automech\\n\\n  0  0  0  0  0  0  0  0  0  0999 V3000\\nM  V30 BEGIN CTAB\\nM  V30 COUNTS 16 16 0 0 0\\nM  V30 BEGIN ATOM\\nM  V30 1 C 0.000 0.000 0.000 RAD=2 VAL=3\\nM  V30 2 C 0.000 0.000 1.501 RAD=1 VAL=4\\nM  V30 3 C 0.000 1.422 -0.475 RAD=1 VAL=4\\nM  V30 4 H 0.245 -0.856 -0.634 RAD=1 VAL=1\\nM  V30 5 C -1.224 0.903 1.462 RAD=1 VAL=4\\nM  V30 6 H -0.219 -0.980 1.943 RAD=1 VAL=1\\nM  V30 7 H 0.905 0.436 1.965 RAD=1 VAL=1\\nM  V30 8 O -1.932 0.097 0.519 RAD=1 VAL=2\\nM  V30 9 H -1.815 1.081 2.371 RAD=1 VAL=1\\nM  V30 10 O -3.509 0.757 0.660 RAD=1 VAL=2\\nM  V30 11 C -0.768 2.127 0.671 RAD=1 VAL=4\\nM  V30 12 H -0.492 1.524 -1.453 RAD=1 VAL=1\\nM  V30 13 H 1.031 1.803 -0.591 RAD=1 VAL=1\\nM  V30 14 H -1.643 2.687 0.314 RAD=1 VAL=1\\nM  V30 15 H -0.133 2.799 1.269 RAD=1 VAL=1\\nM  V30 16 H -3.885 0.149 0.009 RAD=1 VAL=1\\nM  V30 END ATOM\\nM  V30 BEGIN BOND\\nM  V30 1 1 5 11 CFG=0\\nM  V30 2 1 2 5 CFG=0\\nM  V30 3 1 3 11 CFG=0\\nM  V30 4 1 1 4 CFG=0\\nM  V30 5 1 1 2 CFG=0\\nM  V30 6 1 1 3 CFG=0\\nM  V30 7 1 8 10 CFG=0\\nM  V30 8 1 11 14 CFG=0\\nM  V30 9 1 11 15 CFG=0\\nM  V30 10 1 3 13 CFG=0\\nM  V30 11 1 2 6 CFG=0\\nM  V30 12 1 3 12 CFG=0\\nM  V30 13 1 2 7 CFG=0\\nM  V30 14 1 10 16 CFG=0\\nM  V30 15 1 5 9 CFG=0\\nM  V30 16 1 5 8 CFG=0\\nM  V30 END BOND\\nM  V30 END CTAB\\nM  END\\n\",\"sdf\");\n\tviewer_1748031422544382.setStyle({\"stick\": {}, \"sphere\": {\"radius\": 0.3}});\n\tviewer_1748031422544382.setBackgroundColor(\"0xeeeeee\");\n\tviewer_1748031422544382.zoomTo();\n\tviewer_1748031422544382.addArrow({\"start\": {\"x\": 0.0, \"y\": 0.0, \"z\": 0.0}, \"end\": {\"x\": -0.9929509315455851, \"y\": -0.09610347992515325, \"z\": -0.06937267970195915}, \"color\": \"black\"});\n\tviewer_1748031422544382.zoomTo();\n\tviewer_1748031422544382.addArrow({\"start\": {\"x\": -1.9323485106080829, \"y\": 0.09728836219457328, \"z\": 0.5189634506299505}, \"end\": {\"x\": -1.01310627440757, \"y\": -0.28766460503317315, \"z\": 0.4364714861265263}, \"color\": \"black\"});\n\tviewer_1748031422544382.zoomTo();\nviewer_1748031422544382.render();\n});\n</script>",
      "text/html": [
       "<div id=\"3dmolviewer_1748031422544382\"  style=\"position: relative; width: 400px; height: 400px;\">\n",
       "        <p id=\"3dmolwarning_1748031422544382\" style=\"background-color:#ffcccc;color:black\">3Dmol.js failed to load for some reason.  Please check your browser console for error messages.<br></p>\n",
       "        </div>\n",
       "<script>\n",
       "\n",
       "var loadScriptAsync = function(uri){\n",
       "  return new Promise((resolve, reject) => {\n",
       "    //this is to ignore the existence of requirejs amd\n",
       "    var savedexports, savedmodule;\n",
       "    if (typeof exports !== 'undefined') savedexports = exports;\n",
       "    else exports = {}\n",
       "    if (typeof module !== 'undefined') savedmodule = module;\n",
       "    else module = {}\n",
       "\n",
       "    var tag = document.createElement('script');\n",
       "    tag.src = uri;\n",
       "    tag.async = true;\n",
       "    tag.onload = () => {\n",
       "        exports = savedexports;\n",
       "        module = savedmodule;\n",
       "        resolve();\n",
       "    };\n",
       "  var firstScriptTag = document.getElementsByTagName('script')[0];\n",
       "  firstScriptTag.parentNode.insertBefore(tag, firstScriptTag);\n",
       "});\n",
       "};\n",
       "\n",
       "if(typeof $3Dmolpromise === 'undefined') {\n",
       "$3Dmolpromise = null;\n",
       "  $3Dmolpromise = loadScriptAsync('https://cdnjs.cloudflare.com/ajax/libs/3Dmol/2.4.2/3Dmol-min.js');\n",
       "}\n",
       "\n",
       "var viewer_1748031422544382 = null;\n",
       "var warn = document.getElementById(\"3dmolwarning_1748031422544382\");\n",
       "if(warn) {\n",
       "    warn.parentNode.removeChild(warn);\n",
       "}\n",
       "$3Dmolpromise.then(function() {\n",
       "viewer_1748031422544382 = $3Dmol.createViewer(document.getElementById(\"3dmolviewer_1748031422544382\"),{backgroundColor:\"white\"});\n",
       "viewer_1748031422544382.zoomTo();\n",
       "\tviewer_1748031422544382.addModel(\"\\n  automech\\n\\n  0  0  0  0  0  0  0  0  0  0999 V3000\\nM  V30 BEGIN CTAB\\nM  V30 COUNTS 16 16 0 0 0\\nM  V30 BEGIN ATOM\\nM  V30 1 C 0.000 0.000 0.000 RAD=2 VAL=3\\nM  V30 2 C 0.000 0.000 1.501 RAD=1 VAL=4\\nM  V30 3 C 0.000 1.422 -0.475 RAD=1 VAL=4\\nM  V30 4 H 0.245 -0.856 -0.634 RAD=1 VAL=1\\nM  V30 5 C -1.224 0.903 1.462 RAD=1 VAL=4\\nM  V30 6 H -0.219 -0.980 1.943 RAD=1 VAL=1\\nM  V30 7 H 0.905 0.436 1.965 RAD=1 VAL=1\\nM  V30 8 O -1.932 0.097 0.519 RAD=1 VAL=2\\nM  V30 9 H -1.815 1.081 2.371 RAD=1 VAL=1\\nM  V30 10 O -3.509 0.757 0.660 RAD=1 VAL=2\\nM  V30 11 C -0.768 2.127 0.671 RAD=1 VAL=4\\nM  V30 12 H -0.492 1.524 -1.453 RAD=1 VAL=1\\nM  V30 13 H 1.031 1.803 -0.591 RAD=1 VAL=1\\nM  V30 14 H -1.643 2.687 0.314 RAD=1 VAL=1\\nM  V30 15 H -0.133 2.799 1.269 RAD=1 VAL=1\\nM  V30 16 H -3.885 0.149 0.009 RAD=1 VAL=1\\nM  V30 END ATOM\\nM  V30 BEGIN BOND\\nM  V30 1 1 5 11 CFG=0\\nM  V30 2 1 2 5 CFG=0\\nM  V30 3 1 3 11 CFG=0\\nM  V30 4 1 1 4 CFG=0\\nM  V30 5 1 1 2 CFG=0\\nM  V30 6 1 1 3 CFG=0\\nM  V30 7 1 8 10 CFG=0\\nM  V30 8 1 11 14 CFG=0\\nM  V30 9 1 11 15 CFG=0\\nM  V30 10 1 3 13 CFG=0\\nM  V30 11 1 2 6 CFG=0\\nM  V30 12 1 3 12 CFG=0\\nM  V30 13 1 2 7 CFG=0\\nM  V30 14 1 10 16 CFG=0\\nM  V30 15 1 5 9 CFG=0\\nM  V30 16 1 5 8 CFG=0\\nM  V30 END BOND\\nM  V30 END CTAB\\nM  END\\n\",\"sdf\");\n",
       "\tviewer_1748031422544382.setStyle({\"stick\": {}, \"sphere\": {\"radius\": 0.3}});\n",
       "\tviewer_1748031422544382.setBackgroundColor(\"0xeeeeee\");\n",
       "\tviewer_1748031422544382.zoomTo();\n",
       "\tviewer_1748031422544382.addArrow({\"start\": {\"x\": 0.0, \"y\": 0.0, \"z\": 0.0}, \"end\": {\"x\": -0.9929509315455851, \"y\": -0.09610347992515325, \"z\": -0.06937267970195915}, \"color\": \"black\"});\n",
       "\tviewer_1748031422544382.zoomTo();\n",
       "\tviewer_1748031422544382.addArrow({\"start\": {\"x\": -1.9323485106080829, \"y\": 0.09728836219457328, \"z\": 0.5189634506299505}, \"end\": {\"x\": -1.01310627440757, \"y\": -0.28766460503317315, \"z\": 0.4364714861265263}, \"color\": \"black\"});\n",
       "\tviewer_1748031422544382.zoomTo();\n",
       "viewer_1748031422544382.render();\n",
       "});\n",
       "</script>"
      ]
     },
     "metadata": {},
     "output_type": "display_data"
    }
   ],
   "source": [
    "# Update reaction object structure\n",
    "grxn0 = automol.reac.with_structures(rxn, \"geom\")\n",
    "grxn = automol.reac.update_structures(grxn0, ts_struc=geo)\n",
    "# Ugly loop to ensure z-matrix/geometry compatibility\n",
    "for _ in range(2):\n",
    "    zrxn = automol.reac.with_structures(grxn, \"zmat\", ignore_zc=True)\n",
    "    zrxn = automol.reac.reset_conversion_info(zrxn)\n",
    "    grxn = automol.reac.with_structures(zrxn, \"geom\", ignore_zc=True)\n",
    "\n",
    "geo = automol.reac.ts_structure(grxn)\n",
    "ggra = automol.reac.ts_graph(grxn)\n",
    "automol.graph.display(ggra, label=True)\n",
    "automol.geom.display(geo, gra=ggra)\n",
    "\n",
    "zma = automol.reac.ts_structure(zrxn)\n",
    "zgra = automol.reac.ts_graph(zrxn)\n",
    "automol.graph.display(zgra, label=True)\n",
    "automol.zmat.display(zma, gra=zgra)"
   ]
  },
  {
   "cell_type": "code",
   "execution_count": 5,
   "id": "b6d14771",
   "metadata": {},
   "outputs": [
    {
     "data": {
      "text/plain": [
       "5306"
      ]
     },
     "execution_count": 5,
     "metadata": {},
     "output_type": "execute_result"
    }
   ],
   "source": [
    "geo_path = opt_path / geo_name\n",
    "zma_path = opt_path / zma_name\n",
    "zrxn_path = opt_path / zrxn_name\n",
    "geo_path.write_text(automol.geom.xyz_string(geo))\n",
    "zma_path.write_text(automol.zmat.string(zma, one_indexed=True))\n",
    "zrxn_path.write_text(automol.reac.string(zrxn))"
   ]
  },
  {
   "cell_type": "code",
   "execution_count": null,
   "id": "ab8101e6",
   "metadata": {},
   "outputs": [
    {
     "data": {
      "application/vnd.jupyter.widget-view+json": {
       "model_id": "ec7dd62becf6413eaab6da0ee2b4207d",
       "version_major": 2,
       "version_minor": 0
      },
      "text/plain": [
       "HBox(children=(Image(value=b\"<?xml version='1.0' encoding='iso-8859-1...\", format='svg+xml', height='300', wid…"
      ]
     },
     "metadata": {},
     "output_type": "display_data"
    },
    {
     "data": {
      "application/3dmoljs_load.v0": "<div id=\"3dmolviewer_17480314371858268\"  style=\"position: relative; width: 400px; height: 400px;\">\n        <p id=\"3dmolwarning_17480314371858268\" style=\"background-color:#ffcccc;color:black\">3Dmol.js failed to load for some reason.  Please check your browser console for error messages.<br></p>\n        </div>\n<script>\n\nvar loadScriptAsync = function(uri){\n  return new Promise((resolve, reject) => {\n    //this is to ignore the existence of requirejs amd\n    var savedexports, savedmodule;\n    if (typeof exports !== 'undefined') savedexports = exports;\n    else exports = {}\n    if (typeof module !== 'undefined') savedmodule = module;\n    else module = {}\n\n    var tag = document.createElement('script');\n    tag.src = uri;\n    tag.async = true;\n    tag.onload = () => {\n        exports = savedexports;\n        module = savedmodule;\n        resolve();\n    };\n  var firstScriptTag = document.getElementsByTagName('script')[0];\n  firstScriptTag.parentNode.insertBefore(tag, firstScriptTag);\n});\n};\n\nif(typeof $3Dmolpromise === 'undefined') {\n$3Dmolpromise = null;\n  $3Dmolpromise = loadScriptAsync('https://cdnjs.cloudflare.com/ajax/libs/3Dmol/2.4.2/3Dmol-min.js');\n}\n\nvar viewer_17480314371858268 = null;\nvar warn = document.getElementById(\"3dmolwarning_17480314371858268\");\nif(warn) {\n    warn.parentNode.removeChild(warn);\n}\n$3Dmolpromise.then(function() {\nviewer_17480314371858268 = $3Dmol.createViewer(document.getElementById(\"3dmolviewer_17480314371858268\"),{backgroundColor:\"white\"});\nviewer_17480314371858268.zoomTo();\n\tviewer_17480314371858268.addModel(\"\\n  automech\\n\\n  0  0  0  0  0  0  0  0  0  0999 V3000\\nM  V30 BEGIN CTAB\\nM  V30 COUNTS 16 16 0 0 0\\nM  V30 BEGIN ATOM\\nM  V30 1 C 0.000 0.000 0.000 RAD=2 VAL=3\\nM  V30 2 C 0.000 0.000 1.501 RAD=1 VAL=4\\nM  V30 3 C 0.000 1.422 -0.475 RAD=1 VAL=4\\nM  V30 4 H 0.245 -0.856 -0.634 RAD=1 VAL=1\\nM  V30 5 C -1.224 0.903 1.462 RAD=1 VAL=4\\nM  V30 6 H -0.219 -0.980 1.943 RAD=1 VAL=1\\nM  V30 7 H 0.905 0.436 1.965 RAD=1 VAL=1\\nM  V30 8 O -1.932 0.097 0.519 RAD=1 VAL=2\\nM  V30 9 H -1.815 1.081 2.371 RAD=1 VAL=1\\nM  V30 10 O -3.509 0.757 0.660 RAD=1 VAL=2\\nM  V30 11 C -0.768 2.127 0.671 RAD=1 VAL=4\\nM  V30 12 H -0.492 1.524 -1.453 RAD=1 VAL=1\\nM  V30 13 H 1.031 1.803 -0.591 RAD=1 VAL=1\\nM  V30 14 H -1.643 2.687 0.314 RAD=1 VAL=1\\nM  V30 15 H -0.133 2.799 1.269 RAD=1 VAL=1\\nM  V30 16 H -3.885 0.149 0.009 RAD=1 VAL=1\\nM  V30 END ATOM\\nM  V30 BEGIN BOND\\nM  V30 1 1 5 11 CFG=0\\nM  V30 2 1 2 5 CFG=0\\nM  V30 3 1 3 11 CFG=0\\nM  V30 4 1 1 4 CFG=0\\nM  V30 5 1 1 2 CFG=0\\nM  V30 6 1 1 3 CFG=0\\nM  V30 7 1 8 10 CFG=0\\nM  V30 8 1 11 14 CFG=0\\nM  V30 9 1 11 15 CFG=0\\nM  V30 10 1 3 13 CFG=0\\nM  V30 11 1 2 6 CFG=0\\nM  V30 12 1 3 12 CFG=0\\nM  V30 13 1 2 7 CFG=0\\nM  V30 14 1 10 16 CFG=0\\nM  V30 15 1 5 9 CFG=0\\nM  V30 16 1 5 8 CFG=0\\nM  V30 END BOND\\nM  V30 END CTAB\\nM  END\\n\",\"sdf\");\n\tviewer_17480314371858268.setStyle({\"stick\": {}, \"sphere\": {\"radius\": 0.3}});\n\tviewer_17480314371858268.setBackgroundColor(\"0xeeeeee\");\n\tviewer_17480314371858268.zoomTo();\n\tviewer_17480314371858268.addArrow({\"start\": {\"x\": 0.0, \"y\": 0.0, \"z\": 0.0}, \"end\": {\"x\": -0.9929509315455851, \"y\": -0.09610347992515325, \"z\": -0.06937267970195915}, \"color\": \"black\"});\n\tviewer_17480314371858268.zoomTo();\n\tviewer_17480314371858268.addArrow({\"start\": {\"x\": -1.9323485106080829, \"y\": 0.09728836219457328, \"z\": 0.5189634506299505}, \"end\": {\"x\": -1.01310627440757, \"y\": -0.28766460503317315, \"z\": 0.4364714861265263}, \"color\": \"black\"});\n\tviewer_17480314371858268.zoomTo();\nviewer_17480314371858268.render();\n});\n</script>",
      "text/html": [
       "<div id=\"3dmolviewer_17480314371858268\"  style=\"position: relative; width: 400px; height: 400px;\">\n",
       "        <p id=\"3dmolwarning_17480314371858268\" style=\"background-color:#ffcccc;color:black\">3Dmol.js failed to load for some reason.  Please check your browser console for error messages.<br></p>\n",
       "        </div>\n",
       "<script>\n",
       "\n",
       "var loadScriptAsync = function(uri){\n",
       "  return new Promise((resolve, reject) => {\n",
       "    //this is to ignore the existence of requirejs amd\n",
       "    var savedexports, savedmodule;\n",
       "    if (typeof exports !== 'undefined') savedexports = exports;\n",
       "    else exports = {}\n",
       "    if (typeof module !== 'undefined') savedmodule = module;\n",
       "    else module = {}\n",
       "\n",
       "    var tag = document.createElement('script');\n",
       "    tag.src = uri;\n",
       "    tag.async = true;\n",
       "    tag.onload = () => {\n",
       "        exports = savedexports;\n",
       "        module = savedmodule;\n",
       "        resolve();\n",
       "    };\n",
       "  var firstScriptTag = document.getElementsByTagName('script')[0];\n",
       "  firstScriptTag.parentNode.insertBefore(tag, firstScriptTag);\n",
       "});\n",
       "};\n",
       "\n",
       "if(typeof $3Dmolpromise === 'undefined') {\n",
       "$3Dmolpromise = null;\n",
       "  $3Dmolpromise = loadScriptAsync('https://cdnjs.cloudflare.com/ajax/libs/3Dmol/2.4.2/3Dmol-min.js');\n",
       "}\n",
       "\n",
       "var viewer_17480314371858268 = null;\n",
       "var warn = document.getElementById(\"3dmolwarning_17480314371858268\");\n",
       "if(warn) {\n",
       "    warn.parentNode.removeChild(warn);\n",
       "}\n",
       "$3Dmolpromise.then(function() {\n",
       "viewer_17480314371858268 = $3Dmol.createViewer(document.getElementById(\"3dmolviewer_17480314371858268\"),{backgroundColor:\"white\"});\n",
       "viewer_17480314371858268.zoomTo();\n",
       "\tviewer_17480314371858268.addModel(\"\\n  automech\\n\\n  0  0  0  0  0  0  0  0  0  0999 V3000\\nM  V30 BEGIN CTAB\\nM  V30 COUNTS 16 16 0 0 0\\nM  V30 BEGIN ATOM\\nM  V30 1 C 0.000 0.000 0.000 RAD=2 VAL=3\\nM  V30 2 C 0.000 0.000 1.501 RAD=1 VAL=4\\nM  V30 3 C 0.000 1.422 -0.475 RAD=1 VAL=4\\nM  V30 4 H 0.245 -0.856 -0.634 RAD=1 VAL=1\\nM  V30 5 C -1.224 0.903 1.462 RAD=1 VAL=4\\nM  V30 6 H -0.219 -0.980 1.943 RAD=1 VAL=1\\nM  V30 7 H 0.905 0.436 1.965 RAD=1 VAL=1\\nM  V30 8 O -1.932 0.097 0.519 RAD=1 VAL=2\\nM  V30 9 H -1.815 1.081 2.371 RAD=1 VAL=1\\nM  V30 10 O -3.509 0.757 0.660 RAD=1 VAL=2\\nM  V30 11 C -0.768 2.127 0.671 RAD=1 VAL=4\\nM  V30 12 H -0.492 1.524 -1.453 RAD=1 VAL=1\\nM  V30 13 H 1.031 1.803 -0.591 RAD=1 VAL=1\\nM  V30 14 H -1.643 2.687 0.314 RAD=1 VAL=1\\nM  V30 15 H -0.133 2.799 1.269 RAD=1 VAL=1\\nM  V30 16 H -3.885 0.149 0.009 RAD=1 VAL=1\\nM  V30 END ATOM\\nM  V30 BEGIN BOND\\nM  V30 1 1 5 11 CFG=0\\nM  V30 2 1 2 5 CFG=0\\nM  V30 3 1 3 11 CFG=0\\nM  V30 4 1 1 4 CFG=0\\nM  V30 5 1 1 2 CFG=0\\nM  V30 6 1 1 3 CFG=0\\nM  V30 7 1 8 10 CFG=0\\nM  V30 8 1 11 14 CFG=0\\nM  V30 9 1 11 15 CFG=0\\nM  V30 10 1 3 13 CFG=0\\nM  V30 11 1 2 6 CFG=0\\nM  V30 12 1 3 12 CFG=0\\nM  V30 13 1 2 7 CFG=0\\nM  V30 14 1 10 16 CFG=0\\nM  V30 15 1 5 9 CFG=0\\nM  V30 16 1 5 8 CFG=0\\nM  V30 END BOND\\nM  V30 END CTAB\\nM  END\\n\",\"sdf\");\n",
       "\tviewer_17480314371858268.setStyle({\"stick\": {}, \"sphere\": {\"radius\": 0.3}});\n",
       "\tviewer_17480314371858268.setBackgroundColor(\"0xeeeeee\");\n",
       "\tviewer_17480314371858268.zoomTo();\n",
       "\tviewer_17480314371858268.addArrow({\"start\": {\"x\": 0.0, \"y\": 0.0, \"z\": 0.0}, \"end\": {\"x\": -0.9929509315455851, \"y\": -0.09610347992515325, \"z\": -0.06937267970195915}, \"color\": \"black\"});\n",
       "\tviewer_17480314371858268.zoomTo();\n",
       "\tviewer_17480314371858268.addArrow({\"start\": {\"x\": -1.9323485106080829, \"y\": 0.09728836219457328, \"z\": 0.5189634506299505}, \"end\": {\"x\": -1.01310627440757, \"y\": -0.28766460503317315, \"z\": 0.4364714861265263}, \"color\": \"black\"});\n",
       "\tviewer_17480314371858268.zoomTo();\n",
       "viewer_17480314371858268.render();\n",
       "});\n",
       "</script>"
      ]
     },
     "metadata": {},
     "output_type": "display_data"
    }
   ],
   "source": [
    "# Check that the automated insert code will run\n",
    "rxn_ = zrxn\n",
    "\n",
    "# Get geometry and z-matrix views\n",
    "grxn_ = automol.reac.with_structures(rxn_, \"geom\")\n",
    "zrxn_ = automol.reac.with_structures(rxn_, \"zmat\")\n",
    "\n",
    "# Add given structure and update other view\n",
    "grxn_ = automol.reac.update_structures(grxn_, ts_struc=geo)\n",
    "zrxn_ = automol.reac.with_structures(grxn_, \"zmat\")\n",
    "\n",
    "geo_ = automol.reac.ts_structure(grxn_)\n",
    "ggra_ = automol.reac.ts_graph(grxn_)\n",
    "automol.graph.display(ggra_, label=True)\n",
    "automol.geom.display(geo_, gra=ggra)"
   ]
  },
  {
   "cell_type": "code",
   "execution_count": null,
   "id": "19d253bb",
   "metadata": {},
   "outputs": [],
   "source": []
  }
 ],
 "metadata": {
  "kernelspec": {
   "display_name": "default",
   "language": "python",
   "name": "python3"
  },
  "language_info": {
   "codemirror_mode": {
    "name": "ipython",
    "version": 3
   },
   "file_extension": ".py",
   "mimetype": "text/x-python",
   "name": "python",
   "nbconvert_exporter": "python",
   "pygments_lexer": "ipython3",
   "version": "3.11.11"
  }
 },
 "nbformat": 4,
 "nbformat_minor": 5
}
