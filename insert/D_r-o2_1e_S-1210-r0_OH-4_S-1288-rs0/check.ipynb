{
 "cells": [
  {
   "cell_type": "code",
   "execution_count": null,
   "id": "64d2ac2f",
   "metadata": {},
   "outputs": [],
   "source": [
    "from mechdriver.subtasks import display\n",
    "\n",
    "display(\"find_ts\", \"63: 1\")"
   ]
  },
  {
   "cell_type": "code",
   "execution_count": null,
   "id": "e5ad1389",
   "metadata": {},
   "outputs": [],
   "source": []
  }
 ],
 "metadata": {
  "kernelspec": {
   "display_name": "proto",
   "language": "python",
   "name": "python3"
  },
  "language_info": {
   "codemirror_mode": {
    "name": "ipython",
    "version": 3
   },
   "file_extension": ".py",
   "mimetype": "text/x-python",
   "name": "python",
   "nbconvert_exporter": "python",
   "pygments_lexer": "ipython3",
   "version": "3.11.12"
  }
 },
 "nbformat": 4,
 "nbformat_minor": 5
}
