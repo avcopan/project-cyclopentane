{
 "cells": [
  {
   "cell_type": "code",
   "execution_count": 1,
   "id": "681d0ff8",
   "metadata": {},
   "outputs": [],
   "source": [
    "from pathlib import Path\n",
    "\n",
    "from util import p_\n",
    "\n",
    "import automech\n",
    "\n",
    "\n",
    "class Eq:\n",
    "    allyl = \"C5H8(522) + OH(4) = C5H7(500) + H2O(5)\"\n",
    "    alkyl = \"C5H8(522) + OH(4) = C5H7(504) + H2O(5)\"\n",
    "    vinyl = \"C5H8(522) + OH(4) = C5H7(1202) + H2O(5)\"\n",
    "\n",
    "tag = \"A_rh-oh_1e-1_v0\"\n",
    "root_path = Path(\"..\") / Path(\"..\")"
   ]
  },
  {
   "cell_type": "code",
   "execution_count": 2,
   "id": "847882e0",
   "metadata": {},
   "outputs": [],
   "source": [
    "par_mech = automech.io.read(p_.parent_mechanism(\"json\", path=p_.data(root_path)))\n",
    "cal_mech = automech.io.read(\n",
    "    p_.calculated_mechanism(tag, \"json\", path=p_.data(root_path))\n",
    ")"
   ]
  },
  {
   "cell_type": "code",
   "execution_count": 3,
   "id": "d90f2781",
   "metadata": {},
   "outputs": [],
   "source": [
    "par_allyl_rate = automech.reaction_rate_objects(par_mech, Eq.allyl)"
   ]
  },
  {
   "cell_type": "code",
   "execution_count": 4,
   "id": "e5038e01",
   "metadata": {},
   "outputs": [
    {
     "data": {
      "text/plain": [
       "[Reaction(reactants=['C5H8(522)', 'OH(4)'], products=['C5H7(500)', 'H2O(5)'], reversible=True, rate=ArrheniusRateFit(order=2, efficiencies={}, A=2675000.0, b=2.041, E=-2679.0, type='arrhenius'))]"
      ]
     },
     "execution_count": 4,
     "metadata": {},
     "output_type": "execute_result"
    }
   ],
   "source": [
    "cal_allyl_rate = automech.reaction_rate_objects(cal_mech, Eq.allyl)\n",
    "cal_allyl_rate"
   ]
  },
  {
   "cell_type": "code",
   "execution_count": null,
   "id": "1a6884c7",
   "metadata": {},
   "outputs": [],
   "source": []
  }
 ],
 "metadata": {
  "kernelspec": {
   "display_name": "proto",
   "language": "python",
   "name": "python3"
  },
  "language_info": {
   "codemirror_mode": {
    "name": "ipython",
    "version": 3
   },
   "file_extension": ".py",
   "mimetype": "text/x-python",
   "name": "python",
   "nbconvert_exporter": "python",
   "pygments_lexer": "ipython3",
   "version": "3.11.12"
  }
 },
 "nbformat": 4,
 "nbformat_minor": 5
}
