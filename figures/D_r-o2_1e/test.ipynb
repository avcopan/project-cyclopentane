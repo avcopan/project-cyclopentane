{
 "cells": [
  {
   "cell_type": "code",
   "execution_count": 1,
   "id": "681d0ff8",
   "metadata": {},
   "outputs": [],
   "source": [
    "from pathlib import Path\n",
    "\n",
    "import pint\n",
    "from util import p_\n",
    "\n",
    "import autochem\n",
    "import automech\n",
    "from autochem.util import plot\n",
    "\n",
    "tag = \"D_r-o2_1e_v1\"\n",
    "root_path = Path(\"..\") / Path(\"..\")"
   ]
  },
  {
   "cell_type": "code",
   "execution_count": 2,
   "id": "847882e0",
   "metadata": {},
   "outputs": [],
   "source": [
    "par_mech = automech.io.read(p_.parent_mechanism(\"json\", path=p_.data(root_path)))\n",
    "cal_mech = automech.io.read(\n",
    "    p_.calculated_mechanism(tag, \"json\", path=p_.data(root_path))\n",
    ")"
   ]
  },
  {
   "cell_type": "code",
   "execution_count": 3,
   "id": "eea71e19",
   "metadata": {},
   "outputs": [],
   "source": [
    "eq = \"S(1206)r0 = C5H6(478) + HO2(8)\"\n",
    "cal_rxn, *_ = automech.reaction_rate_objects(cal_mech, eq)\n",
    "assert not _, _"
   ]
  },
  {
   "cell_type": "code",
   "execution_count": null,
   "id": "e3e4c30f",
   "metadata": {},
   "outputs": [],
   "source": [
    "import numpy\n",
    "\n",
    "import autochem as ac\n",
    "\n",
    "T_str = \"500       600       700       800       900     1e+03   1.1e+03   1.2e+03   1.3e+03   1.4e+03   1.5e+03   1.6e+03   1.7e+03   1.8e+03   1.9e+03     2e+03\"\n",
    "T_vals = list(map(float, T_str.split()))\n",
    "P_vals = [1]\n",
    "nT = len(T_vals)\n",
    "nP = len(P_vals)\n",
    "print(numpy.shape(T_vals))\n",
    "k_str = \"16.9  1.13e+03  2.35e+04  2.34e+05  1.42e+06  6.09e+06  2.02e+07  5.53e+07  1.31e+08  2.74e+08  5.22e+08  9.23e+08  1.53e+09   2.4e+09   3.6e+09   5.2e+09\"\n",
    "k_vals = numpy.reshape(list(map(float, k_str.split())), (nT, nP))\n",
    "print(numpy.shape(k_vals))\n",
    "\n",
    "rate = ac.rate.data.Rate(order=1, T=T_vals, P=[1], data=k_vals)\n",
    "\n",
    "rate.display(T_range=(600, 1200))\n"
   ]
  }
 ],
 "metadata": {
  "kernelspec": {
   "display_name": "proto",
   "language": "python",
   "name": "python3"
  },
  "language_info": {
   "codemirror_mode": {
    "name": "ipython",
    "version": 3
   },
   "file_extension": ".py",
   "mimetype": "text/x-python",
   "name": "python",
   "nbconvert_exporter": "python",
   "pygments_lexer": "ipython3",
   "version": "3.11.12"
  }
 },
 "nbformat": 4,
 "nbformat_minor": 5
}
