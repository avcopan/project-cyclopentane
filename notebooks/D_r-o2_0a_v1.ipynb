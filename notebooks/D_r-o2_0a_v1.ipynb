{
 "cells": [
  {
   "cell_type": "code",
   "execution_count": 1,
   "metadata": {},
   "outputs": [],
   "source": [
    "from pathlib import Path\n",
    "\n",
    "import util\n",
    "from util import p_, workflow\n",
    "\n",
    "import automech\n",
    "\n",
    "file = util.notebook_file() if util.is_notebook() else __file__\n",
    "tag = util.file_tag(file)\n",
    "root_path = Path(\"..\")\n",
    "par_mech = workflow.read_parent_mechanism(root_path=root_path)"
   ]
  },
  {
   "cell_type": "code",
   "execution_count": 2,
   "metadata": {},
   "outputs": [],
   "source": [
    "# Generate submechanism\n",
    "from automol.graph import enum\n",
    "\n",
    "tag0 = util.previous_tag(tag)\n",
    "mech = automech.io.read(p_.generated_mechanism(tag0, \"json\", path=p_.data(root_path)))\n",
    "#  - Migrations\n",
    "mech = automech.enumerate_reactions(\n",
    "    mech,\n",
    "    enum.ReactionSmarts.qooh_formation,\n",
    "    src_mech=par_mech,\n",
    ")\n",
    "#   - Ring-forming scissions\n",
    "mech = automech.enumerate_reactions(\n",
    "    mech,\n",
    "    enum.ReactionSmarts.qooh_ring_forming_scission,\n",
    "    src_mech=par_mech,\n",
    ")\n",
    "automech.display(mech)"
   ]
  },
  {
   "cell_type": "code",
   "execution_count": 3,
   "metadata": {},
   "outputs": [
    {
     "name": "stdout",
     "output_type": "stream",
     "text": [
      "\n",
      "Finalizing build for...\n",
      "reactions=shape: (6, 5)\n",
      "┌───────────────┬─────────────────────────┬───────────┬────────────┬───────────────────────────────┐\n",
      "│ reactants     ┆ products                ┆ formula   ┆ reversible ┆ rate                          │\n",
      "│ ---           ┆ ---                     ┆ ---       ┆ ---        ┆ ---                           │\n",
      "│ list[str]     ┆ list[str]               ┆ struct[3] ┆ bool       ┆ struct[18]                    │\n",
      "╞═══════════════╪═════════════════════════╪═══════════╪════════════╪═══════════════════════════════╡\n",
      "│ [\"C5H9(553)\", ┆ [\"S(719)\"]              ┆ {5,9,2}   ┆ true       ┆ {2,{null,null,null,null,null, │\n",
      "│ \"O2(6)\"]      ┆                         ┆           ┆            ┆ n…                            │\n",
      "│ [\"S(719)\"]    ┆ [\"C5H8(522)\", \"HO2(8)\"] ┆ {5,9,2}   ┆ true       ┆ {1,{null,null,null,null,null, │\n",
      "│               ┆                         ┆           ┆            ┆ n…                            │\n",
      "│ [\"S(719)\"]    ┆ [\"S(725)\"]              ┆ {5,9,2}   ┆ true       ┆ {1,{null,null,null,null,null, │\n",
      "│               ┆                         ┆           ┆            ┆ n…                            │\n",
      "│ [\"S(719)\"]    ┆ [\"S(722)\"]              ┆ {5,9,2}   ┆ true       ┆ {1,{null,null,null,null,null, │\n",
      "│               ┆                         ┆           ┆            ┆ n…                            │\n",
      "│ [\"S(722)\"]    ┆ [\"C5H8O(825)\", \"OH(4)\"] ┆ {5,9,2}   ┆ true       ┆ {1,{null,null,null,null,null, │\n",
      "│               ┆                         ┆           ┆            ┆ n…                            │\n",
      "│ [\"S(725)\"]    ┆ [\"C5H8O(829)\", \"OH(4)\"] ┆ {5,9,2}   ┆ true       ┆ {1,{null,null,null,null,null, │\n",
      "│               ┆                         ┆           ┆            ┆ n…                            │\n",
      "└───────────────┴─────────────────────────┴───────────┴────────────┴───────────────────────────────┘ species=shape: (10, 7)\n",
      "┌────────────┬──────────────┬──────────────────┬──────┬────────┬─────────────────┬─────────────────┐\n",
      "│ name       ┆ smiles       ┆ amchi            ┆ spin ┆ charge ┆ formula         ┆ therm           │\n",
      "│ ---        ┆ ---          ┆ ---              ┆ ---  ┆ ---    ┆ ---             ┆ ---             │\n",
      "│ str        ┆ str          ┆ str              ┆ i64  ┆ i64    ┆ struct[7]       ┆ struct[8]       │\n",
      "╞════════════╪══════════════╪══════════════════╪══════╪════════╪═════════════════╪═════════════════╡\n",
      "│ C5H9(553)  ┆ C1CC[CH]C1   ┆ AMChI=1/C5H9/c1- ┆ 1    ┆ 0      ┆ {9,null,null,nu ┆ {298.0,5000.0,{ │\n",
      "│            ┆              ┆ 2-4-5-3-1/h1H,…  ┆      ┆        ┆ ll,null,5,null} ┆ null,null,9,nul │\n",
      "│            ┆              ┆                  ┆      ┆        ┆                 ┆ …               │\n",
      "│ O2(6)      ┆ O=O          ┆ AMChI=1/O2/c1-2  ┆ 2    ┆ 0      ┆ {null,2,null,nu ┆ {200.0,6000.0,{ │\n",
      "│            ┆              ┆                  ┆      ┆        ┆ ll,null,null,nu ┆ null,null,null, │\n",
      "│            ┆              ┆                  ┆      ┆        ┆ …               ┆ …               │\n",
      "│ S(719)     ┆ [O]OC1CCCC1  ┆ AMChI=1/C5H9O2/c ┆ 1    ┆ 0      ┆ {9,2,null,null, ┆ {300.0,5000.0,{ │\n",
      "│            ┆              ┆ 6-7-5-3-1-2-4-…  ┆      ┆        ┆ null,5,null}    ┆ null,null,9,2,n │\n",
      "│            ┆              ┆                  ┆      ┆        ┆                 ┆ …               │\n",
      "│ C5H8(522)  ┆ C1CC=CC1     ┆ AMChI=1/C5H8/c1- ┆ 0    ┆ 0      ┆ {8,null,null,nu ┆ {298.0,5000.0,{ │\n",
      "│            ┆              ┆ 2-4-5-3-1/h1-2…  ┆      ┆        ┆ ll,null,5,null} ┆ null,null,8,nul │\n",
      "│            ┆              ┆                  ┆      ┆        ┆                 ┆ …               │\n",
      "│ HO2(8)     ┆ O[O]         ┆ AMChI=1/HO2/c1-2 ┆ 1    ┆ 0      ┆ {1,2,null,null, ┆ {200.0,5000.0,{ │\n",
      "│            ┆              ┆ /h2H             ┆      ┆        ┆ null,null,null} ┆ null,null,1,2,n │\n",
      "│            ┆              ┆                  ┆      ┆        ┆                 ┆ …               │\n",
      "│ S(725)     ┆ OOC1CC[CH]C1 ┆ AMChI=1/C5H9O2/c ┆ 1    ┆ 0      ┆ {9,2,null,null, ┆ {300.0,5000.0,{ │\n",
      "│            ┆              ┆ 6-7-5-3-1-2-4-…  ┆      ┆        ┆ null,5,null}    ┆ null,null,9,2,n │\n",
      "│            ┆              ┆                  ┆      ┆        ┆                 ┆ …               │\n",
      "│ S(722)     ┆ OOC1CCC[CH]1 ┆ AMChI=1/C5H9O2/c ┆ 1    ┆ 0      ┆ {9,2,null,null, ┆ {300.0,5000.0,{ │\n",
      "│            ┆              ┆ 6-7-5-1-2-3-4-…  ┆      ┆        ┆ null,5,null}    ┆ null,null,9,2,n │\n",
      "│            ┆              ┆                  ┆      ┆        ┆                 ┆ …               │\n",
      "│ OH(4)      ┆ [OH]         ┆ AMChI=1/HO/h1H   ┆ 1    ┆ 0      ┆ {1,1,null,null, ┆ {200.0,6000.0,{ │\n",
      "│            ┆              ┆                  ┆      ┆        ┆ null,null,null} ┆ null,null,1,1,n │\n",
      "│            ┆              ┆                  ┆      ┆        ┆                 ┆ …               │\n",
      "│ C5H8O(829) ┆ O1C2CC1CC2   ┆ AMChI=1/C5H8O/c1 ┆ 0    ┆ 0      ┆ {8,1,null,null, ┆ {300.0,5000.0,{ │\n",
      "│            ┆              ┆ -2-5-3-4(1)6-5…  ┆      ┆        ┆ null,5,null}    ┆ null,null,8,1,n │\n",
      "│            ┆              ┆                  ┆      ┆        ┆                 ┆ …               │\n",
      "│ C5H8O(825) ┆ O1C2C1CCC2   ┆ AMChI=1/C5H8O/c1 ┆ 0    ┆ 0      ┆ {8,1,null,null, ┆ {300.0,5000.0,{ │\n",
      "│            ┆              ┆ -2-4-5(6-4)3-1…  ┆      ┆        ┆ null,5,null}    ┆ null,null,8,1,n │\n",
      "│            ┆              ┆                  ┆      ┆        ┆                 ┆ …               │\n",
      "└────────────┴──────────────┴──────────────────┴──────┴────────┴─────────────────┴─────────────────┘\n",
      "\n",
      "Expanding stereochemistry...\n"
     ]
    },
    {
     "data": {
      "application/vnd.jupyter.widget-view+json": {
       "model_id": "f3eb61f012804d55af5227c8b7027430",
       "version_major": 2,
       "version_minor": 0
      },
      "text/plain": [
       "  0%|          | 0/10 [00:00<?, ?it/s]"
      ]
     },
     "metadata": {},
     "output_type": "display_data"
    },
    {
     "data": {
      "application/vnd.jupyter.widget-view+json": {
       "model_id": "7de011b622b44ef1b7f918b5af836ff0",
       "version_major": 2,
       "version_minor": 0
      },
      "text/plain": [
       "  0%|          | 0/12 [00:00<?, ?it/s]"
      ]
     },
     "metadata": {},
     "output_type": "display_data"
    },
    {
     "data": {
      "application/vnd.jupyter.widget-view+json": {
       "model_id": "6efa98898dcc467ea99201dfaa12ada8",
       "version_major": 2,
       "version_minor": 0
      },
      "text/plain": [
       "  0%|          | 0/6 [00:00<?, ?it/s]"
      ]
     },
     "metadata": {},
     "output_type": "display_data"
    },
    {
     "name": "stdout",
     "output_type": "stream",
     "text": [
      "\n",
      "Writing mechanism...\n",
      "../data/D_r-o2_0a_v1_gen.json\n",
      "../data/D_r-o2_0a_v1_ste.json\n",
      "../data/mechanalyzer/D_r-o2_0a_v1_ste.dat\n",
      "../data/mechanalyzer/D_r-o2_0a_v1_ste.csv\n"
     ]
    },
    {
     "data": {
      "application/vnd.jupyter.widget-view+json": {
       "model_id": "9fa0fcfd888946bf9fdb817bc3a1ee80",
       "version_major": 2,
       "version_minor": 0
      },
      "text/plain": [
       "  0%|          | 0/12 [00:00<?, ?it/s]"
      ]
     },
     "metadata": {},
     "output_type": "display_data"
    },
    {
     "data": {
      "application/vnd.jupyter.widget-view+json": {
       "model_id": "e721a53efbf0450ba91155b81dfa81c2",
       "version_major": 2,
       "version_minor": 0
      },
      "text/plain": [
       "  0%|          | 0/12 [00:00<?, ?it/s]"
      ]
     },
     "metadata": {},
     "output_type": "display_data"
    },
    {
     "data": {
      "application/vnd.jupyter.widget-view+json": {
       "model_id": "b616f1e49c8240b68ee31d7868b63c95",
       "version_major": 2,
       "version_minor": 0
      },
      "text/plain": [
       "  0%|          | 0/12 [00:00<?, ?it/s]"
      ]
     },
     "metadata": {},
     "output_type": "display_data"
    },
    {
     "name": "stdout",
     "output_type": "stream",
     "text": [
      "\n",
      "Stereoexpansion errors:\n"
     ]
    }
   ],
   "source": [
    "# Prepare calculation\n",
    "workflow.prepare_calculation(mech=mech, tag=tag, root_path=root_path)"
   ]
  },
  {
   "cell_type": "code",
   "execution_count": 4,
   "metadata": {},
   "outputs": [],
   "source": [
    "# # Prepare simulation\n",
    "# workflow.prepare_simulation(tag=tag, root_path=root_path)\n",
    "# workflow.prepare_simulation_species(tag=tag, root_path=root_path)"
   ]
  },
  {
   "cell_type": "code",
   "execution_count": 5,
   "metadata": {},
   "outputs": [],
   "source": [
    "# # Check rates\n",
    "# workflow.plot_rates(tag=tag, root_path=root_path)"
   ]
  },
  {
   "cell_type": "code",
   "execution_count": 6,
   "metadata": {},
   "outputs": [],
   "source": [
    "# # Plot simulation\n",
    "# chart_dct = workflow.plot_simulation(\n",
    "#     tag=tag,\n",
    "#     x_col=\"O2_molecules\",\n",
    "#     root_path=root_path,\n",
    "#     line_source_=[\"Hill\", \"Lokachari\"],\n",
    "#     point_source=\"Experiment\",\n",
    "#     control=False,\n",
    "# )\n",
    "# mech = automech.io.read(\n",
    "#     p_.full_calculated_mechanism(tag, \"json\", path=p_.data(root_path))\n",
    "# )\n",
    "# for name, chart in chart_dct.items():\n",
    "#     automech.display_species(mech, [name])\n",
    "#     chart.show()"
   ]
  }
 ],
 "metadata": {
  "kernelspec": {
   "display_name": "proto",
   "language": "python",
   "name": "python3"
  },
  "language_info": {
   "codemirror_mode": {
    "name": "ipython",
    "version": 3
   },
   "file_extension": ".py",
   "mimetype": "text/x-python",
   "name": "python",
   "nbconvert_exporter": "python",
   "pygments_lexer": "ipython3",
   "version": "3.11.12"
  }
 },
 "nbformat": 4,
 "nbformat_minor": 2
}
