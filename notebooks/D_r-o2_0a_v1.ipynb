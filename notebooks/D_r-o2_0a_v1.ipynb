{
 "cells": [
  {
   "cell_type": "code",
   "execution_count": 1,
   "metadata": {},
   "outputs": [],
   "source": [
    "from pathlib import Path\n",
    "\n",
    "import util\n",
    "from util import p_, workflow\n",
    "\n",
    "import automech\n",
    "\n",
    "file = util.notebook_file() if util.is_notebook() else __file__\n",
    "tag = util.file_tag(file)\n",
    "root_path = Path(\"..\")\n",
    "par_mech = workflow.read_parent_mechanism(root_path=root_path)"
   ]
  },
  {
   "cell_type": "code",
   "execution_count": 2,
   "metadata": {},
   "outputs": [],
   "source": [
    "# # Generate submechanism\n",
    "# from automol.graph import enum\n",
    "\n",
    "# gen_mech1 = workflow.previous_version_species(tag=tag, root_path=root_path)\n",
    "# #  - Migrations\n",
    "# gen_mech1 = automech.enumerate_reactions(\n",
    "#     gen_mech1, enum.ReactionSmarts.qooh_formation, src_mech=par_mech\n",
    "# )\n",
    "# #   - Ring-forming scissions\n",
    "# gen_mech1 = automech.enumerate_reactions(\n",
    "#     gen_mech1,\n",
    "#     enum.ReactionSmarts.qooh_ring_forming_scission,\n",
    "#     src_mech=par_mech,\n",
    "#     excl_rcts=automech.unstable_species_names(gen_mech1),\n",
    "# )\n",
    "# #  - Ring-opening scissions\n",
    "# gen_mech1 = automech.enumerate_reactions(\n",
    "#     gen_mech1,\n",
    "#     enum.ReactionSmarts.ring_beta_scission,\n",
    "#     src_mech=par_mech,\n",
    "#     rcts_=[automech.species.names(gen_mech1.species, fml=\"C*H*O2\")],\n",
    "#     excl_rcts=automech.unstable_species_names(gen_mech1),\n",
    "# )\n",
    "# #  - Beta scissions\n",
    "# gen_mech1 = automech.enumerate_reactions(\n",
    "#     gen_mech1,\n",
    "#     enum.ReactionSmarts.beta_scission,\n",
    "#     src_mech=par_mech,\n",
    "#     rcts_=[automech.species.names(gen_mech1.species, fml=\"C*H*O2\")],\n",
    "#     excl_rcts=automech.unstable_species_names(gen_mech1),\n",
    "# )\n",
    "# #  - Beta scissions\n",
    "# gen_mech1 = automech.enumerate_reactions(\n",
    "#     gen_mech1,\n",
    "#     enum.ReactionSmarts.beta_scission,\n",
    "#     src_mech=par_mech,\n",
    "#     rcts_=[automech.species.names(gen_mech1.species, fml=\"C*H*O2\")],\n",
    "#     excl_rcts=automech.unstable_species_names(gen_mech1),\n",
    "# )\n",
    "# #  - Vinyl beta scissions\n",
    "# gen_mech1 = automech.enumerate_reactions(\n",
    "#     gen_mech1,\n",
    "#     enum.ReactionSmarts.vinyl_beta_scission,\n",
    "#     src_mech=par_mech,\n",
    "#     rcts_=[automech.species.names(gen_mech1.species, fml=\"C*H*O2\")],\n",
    "#     excl_rcts=automech.unstable_species_names(gen_mech1),\n",
    "# )\n",
    "# #  - Instabilities\n",
    "# gen_mech1 = automech.enumerate_products(\n",
    "#     gen_mech1,\n",
    "#     enum.ReactionSmarts.qooh_instability,\n",
    "#     src_mech=par_mech,\n",
    "#     rcts_=[automech.species.names(gen_mech1.species, fml=\"C*H*O2\")],\n",
    "# )\n",
    "# automech.display(gen_mech1, height=\"1000px\")"
   ]
  },
  {
   "cell_type": "code",
   "execution_count": 3,
   "metadata": {},
   "outputs": [],
   "source": [
    "# # Expand stereochemistry\n",
    "# ste_mech1, *_, gen_mech1 = workflow.expand_stereo(\n",
    "#     mech=gen_mech1, tag=tag, root_path=root_path\n",
    "# )"
   ]
  },
  {
   "cell_type": "code",
   "execution_count": 4,
   "metadata": {},
   "outputs": [],
   "source": [
    "# # Update previous version\n",
    "# gen_mech, ste_mech = workflow.update_previous_version(\n",
    "#     gen_mech=gen_mech1, ste_mech=ste_mech1, tag=tag, root_path=root_path\n",
    "# )\n",
    "# automech.display(gen_mech, height=\"1000px\")"
   ]
  },
  {
   "cell_type": "code",
   "execution_count": 5,
   "metadata": {},
   "outputs": [],
   "source": [
    "# # Prepare calculation\n",
    "# workflow.prepare_calculation(\n",
    "#     gen_mech=gen_mech, ste_mech=ste_mech, tag=tag, root_path=root_path\n",
    "# )"
   ]
  },
  {
   "cell_type": "code",
   "execution_count": 6,
   "metadata": {},
   "outputs": [
    {
     "name": "stdout",
     "output_type": "stream",
     "text": [
      "New species and reactions:\n",
      "\n",
      "SPECIES\n",
      "\n",
      "C5O2qarhfr  ! SMILES: C=CCC[CH]OO  AMChI: AMChI=1/C5H9O2/c1-2-4-5-3-7-6/h2-3,6H,1,4-5H2\n",
      "\n",
      "END\n",
      "\n",
      "\n",
      "REACTIONS    CAL/MOL   MOL\n",
      "\n",
      "S(731) = C2H4(52) + S(2258)              1.000      0.000      0.000\n",
      "S(728) = C2H4(52) + S(2258)              1.000      0.000      0.000\n",
      "S(725) = C5O2qarhfr                      1.000      0.000      0.000\n",
      "\n",
      "END\n",
      "\n",
      "\n",
      "\n",
      "Statistics summary:\n",
      "\n",
      "shape: (5, 3)\n",
      "┌────────────────────┬───────────────┬────────────────┐\n",
      "│ Mechanism          ┆ Species Count ┆ Reaction Count │\n",
      "│ ---                ┆ ---           ┆ ---            │\n",
      "│ str                ┆ i64           ┆ i64            │\n",
      "╞════════════════════╪═══════════════╪════════════════╡\n",
      "│ Parent             ┆ 2534          ┆ 10002          │\n",
      "│ Generated          ┆ 21            ┆ 16             │\n",
      "│ Stereo             ┆ 27            ┆ 34             │\n",
      "│ Generated - Parent ┆ 1             ┆ 3              │\n",
      "│ Stereo - Parent    ┆ 1             ┆ 8              │\n",
      "└────────────────────┴───────────────┴────────────────┘\n"
     ]
    }
   ],
   "source": [
    "# Gather statistics\n",
    "workflow.gather_statistics(tag=tag, root_path=root_path)"
   ]
  },
  {
   "cell_type": "code",
   "execution_count": 7,
   "metadata": {},
   "outputs": [
    {
     "name": "stdout",
     "output_type": "stream",
     "text": [
      "\n",
      "Reading mechanisms...\n",
      "\n",
      "Adding calculated thermo...\n",
      "\n",
      "Adding calculated rates...\n"
     ]
    },
    {
     "ename": "InvalidOperationError",
     "evalue": "`old` input for `replace` must not contain duplicates",
     "output_type": "error",
     "traceback": [
      "\u001b[0;31m---------------------------------------------------------------------------\u001b[0m",
      "\u001b[0;31mInvalidOperationError\u001b[0m                     Traceback (most recent call last)",
      "Cell \u001b[0;32mIn[7], line 2\u001b[0m\n\u001b[1;32m      1\u001b[0m \u001b[38;5;66;03m# Prepare simulation\u001b[39;00m\n\u001b[0;32m----> 2\u001b[0m \u001b[43mworkflow\u001b[49m\u001b[38;5;241;43m.\u001b[39;49m\u001b[43mprepare_simulation\u001b[49m\u001b[43m(\u001b[49m\u001b[43mtag\u001b[49m\u001b[38;5;241;43m=\u001b[39;49m\u001b[43mtag\u001b[49m\u001b[43m,\u001b[49m\u001b[43m \u001b[49m\u001b[43mroot_path\u001b[49m\u001b[38;5;241;43m=\u001b[39;49m\u001b[43mroot_path\u001b[49m\u001b[43m)\u001b[49m\n\u001b[1;32m      3\u001b[0m workflow\u001b[38;5;241m.\u001b[39mprepare_simulation_species(tag\u001b[38;5;241m=\u001b[39mtag, root_path\u001b[38;5;241m=\u001b[39mroot_path)\n",
      "File \u001b[0;32m~/code/amech-dev/work/project-cyclopentane/src/util/workflow.py:302\u001b[0m, in \u001b[0;36mprepare_simulation\u001b[0;34m(tag, root_path)\u001b[0m\n\u001b[1;32m    300\u001b[0m \u001b[38;5;28mprint\u001b[39m(\u001b[38;5;124m\"\u001b[39m\u001b[38;5;130;01m\\n\u001b[39;00m\u001b[38;5;124mAdding calculated rates...\u001b[39m\u001b[38;5;124m\"\u001b[39m)\n\u001b[1;32m    301\u001b[0m rate_files \u001b[38;5;241m=\u001b[39m \u001b[38;5;28mlist\u001b[39m(ckin_path\u001b[38;5;241m.\u001b[39mglob(\u001b[38;5;124m\"\u001b[39m\u001b[38;5;124m*.ckin\u001b[39m\u001b[38;5;124m\"\u001b[39m))\n\u001b[0;32m--> 302\u001b[0m cal_sub_mech \u001b[38;5;241m=\u001b[39m \u001b[43mautomech\u001b[49m\u001b[38;5;241;43m.\u001b[39;49m\u001b[43mio\u001b[49m\u001b[38;5;241;43m.\u001b[39;49m\u001b[43mchemkin\u001b[49m\u001b[38;5;241;43m.\u001b[39;49m\u001b[43mupdate\u001b[49m\u001b[38;5;241;43m.\u001b[39;49m\u001b[43mrates\u001b[49m\u001b[43m(\u001b[49m\u001b[43mcal_sub_mech\u001b[49m\u001b[43m,\u001b[49m\u001b[43m \u001b[49m\u001b[43mrate_files\u001b[49m\u001b[43m)\u001b[49m\n\u001b[1;32m    304\u001b[0m \u001b[38;5;66;03m# Merge updated rates and thermo into parent mechanism\u001b[39;00m\n\u001b[1;32m    305\u001b[0m \u001b[38;5;28mprint\u001b[39m(\u001b[38;5;124m\"\u001b[39m\u001b[38;5;130;01m\\n\u001b[39;00m\u001b[38;5;124mExpanding and updating parent...\u001b[39m\u001b[38;5;124m\"\u001b[39m)\n",
      "File \u001b[0;32m~/code/amech-dev/src/automech/io/chemkin/update.py:38\u001b[0m, in \u001b[0;36mrates\u001b[0;34m(mech, inp_)\u001b[0m\n\u001b[1;32m     35\u001b[0m inp_ \u001b[38;5;241m=\u001b[39m [inp_] \u001b[38;5;28;01mif\u001b[39;00m \u001b[38;5;28misinstance\u001b[39m(inp_, TextInput) \u001b[38;5;28;01melse\u001b[39;00m inp_\n\u001b[1;32m     37\u001b[0m mech \u001b[38;5;241m=\u001b[39m mech\u001b[38;5;241m.\u001b[39mmodel_copy()\n\u001b[0;32m---> 38\u001b[0m rxn_dfs \u001b[38;5;241m=\u001b[39m \u001b[43m[\u001b[49m\u001b[43mread\u001b[49m\u001b[38;5;241;43m.\u001b[39;49m\u001b[43mreactions\u001b[49m\u001b[43m(\u001b[49m\u001b[43minp\u001b[49m\u001b[43m,\u001b[49m\u001b[43m \u001b[49m\u001b[43mspc_df\u001b[49m\u001b[38;5;241;43m=\u001b[39;49m\u001b[43mmech\u001b[49m\u001b[38;5;241;43m.\u001b[39;49m\u001b[43mspecies\u001b[49m\u001b[43m)\u001b[49m\u001b[43m \u001b[49m\u001b[38;5;28;43;01mfor\u001b[39;49;00m\u001b[43m \u001b[49m\u001b[43minp\u001b[49m\u001b[43m \u001b[49m\u001b[38;5;129;43;01min\u001b[39;49;00m\u001b[43m \u001b[49m\u001b[43minp_\u001b[49m\u001b[43m]\u001b[49m\n\u001b[1;32m     39\u001b[0m mech\u001b[38;5;241m.\u001b[39mreactions \u001b[38;5;241m=\u001b[39m reaction\u001b[38;5;241m.\u001b[39mupdate(\n\u001b[1;32m     40\u001b[0m     mech\u001b[38;5;241m.\u001b[39mreactions, polars\u001b[38;5;241m.\u001b[39mconcat(rxn_dfs, how\u001b[38;5;241m=\u001b[39m\u001b[38;5;124m\"\u001b[39m\u001b[38;5;124mvertical_relaxed\u001b[39m\u001b[38;5;124m\"\u001b[39m)\n\u001b[1;32m     41\u001b[0m )\n\u001b[1;32m     42\u001b[0m \u001b[38;5;28;01mreturn\u001b[39;00m mech\n",
      "File \u001b[0;32m~/code/amech-dev/src/automech/io/chemkin/update.py:38\u001b[0m, in \u001b[0;36m<listcomp>\u001b[0;34m(.0)\u001b[0m\n\u001b[1;32m     35\u001b[0m inp_ \u001b[38;5;241m=\u001b[39m [inp_] \u001b[38;5;28;01mif\u001b[39;00m \u001b[38;5;28misinstance\u001b[39m(inp_, TextInput) \u001b[38;5;28;01melse\u001b[39;00m inp_\n\u001b[1;32m     37\u001b[0m mech \u001b[38;5;241m=\u001b[39m mech\u001b[38;5;241m.\u001b[39mmodel_copy()\n\u001b[0;32m---> 38\u001b[0m rxn_dfs \u001b[38;5;241m=\u001b[39m [\u001b[43mread\u001b[49m\u001b[38;5;241;43m.\u001b[39;49m\u001b[43mreactions\u001b[49m\u001b[43m(\u001b[49m\u001b[43minp\u001b[49m\u001b[43m,\u001b[49m\u001b[43m \u001b[49m\u001b[43mspc_df\u001b[49m\u001b[38;5;241;43m=\u001b[39;49m\u001b[43mmech\u001b[49m\u001b[38;5;241;43m.\u001b[39;49m\u001b[43mspecies\u001b[49m\u001b[43m)\u001b[49m \u001b[38;5;28;01mfor\u001b[39;00m inp \u001b[38;5;129;01min\u001b[39;00m inp_]\n\u001b[1;32m     39\u001b[0m mech\u001b[38;5;241m.\u001b[39mreactions \u001b[38;5;241m=\u001b[39m reaction\u001b[38;5;241m.\u001b[39mupdate(\n\u001b[1;32m     40\u001b[0m     mech\u001b[38;5;241m.\u001b[39mreactions, polars\u001b[38;5;241m.\u001b[39mconcat(rxn_dfs, how\u001b[38;5;241m=\u001b[39m\u001b[38;5;124m\"\u001b[39m\u001b[38;5;124mvertical_relaxed\u001b[39m\u001b[38;5;124m\"\u001b[39m)\n\u001b[1;32m     41\u001b[0m )\n\u001b[1;32m     42\u001b[0m \u001b[38;5;28;01mreturn\u001b[39;00m mech\n",
      "File \u001b[0;32m~/code/amech-dev/src/automech/io/chemkin/read.py:113\u001b[0m, in \u001b[0;36mreactions\u001b[0;34m(inp, spc_df, out)\u001b[0m\n\u001b[1;32m    105\u001b[0m rxns \u001b[38;5;241m=\u001b[39m [ac\u001b[38;5;241m.\u001b[39mrate\u001b[38;5;241m.\u001b[39mfrom_chemkin_string(r, units\u001b[38;5;241m=\u001b[39munits0) \u001b[38;5;28;01mfor\u001b[39;00m r \u001b[38;5;129;01min\u001b[39;00m rxn_strs]\n\u001b[1;32m    107\u001b[0m data \u001b[38;5;241m=\u001b[39m {\n\u001b[1;32m    108\u001b[0m     Reaction\u001b[38;5;241m.\u001b[39mreactants: [r\u001b[38;5;241m.\u001b[39mreactants \u001b[38;5;28;01mfor\u001b[39;00m r \u001b[38;5;129;01min\u001b[39;00m rxns],\n\u001b[1;32m    109\u001b[0m     Reaction\u001b[38;5;241m.\u001b[39mproducts: [r\u001b[38;5;241m.\u001b[39mproducts \u001b[38;5;28;01mfor\u001b[39;00m r \u001b[38;5;129;01min\u001b[39;00m rxns],\n\u001b[1;32m    110\u001b[0m     ReactionRate\u001b[38;5;241m.\u001b[39mreversible: [r\u001b[38;5;241m.\u001b[39mreversible \u001b[38;5;28;01mfor\u001b[39;00m r \u001b[38;5;129;01min\u001b[39;00m rxns],\n\u001b[1;32m    111\u001b[0m     ReactionRate\u001b[38;5;241m.\u001b[39mrate: [r\u001b[38;5;241m.\u001b[39mrate\u001b[38;5;241m.\u001b[39mmodel_dump() \u001b[38;5;28;01mfor\u001b[39;00m r \u001b[38;5;129;01min\u001b[39;00m rxns],\n\u001b[1;32m    112\u001b[0m }\n\u001b[0;32m--> 113\u001b[0m rxn_df \u001b[38;5;241m=\u001b[39m \u001b[43mreaction\u001b[49m\u001b[38;5;241;43m.\u001b[39;49m\u001b[43mbootstrap\u001b[49m\u001b[43m(\u001b[49m\u001b[43mdata\u001b[49m\u001b[43m,\u001b[49m\u001b[43m \u001b[49m\u001b[43mspc_df\u001b[49m\u001b[38;5;241;43m=\u001b[39;49m\u001b[43mspc_df\u001b[49m\u001b[43m)\u001b[49m\n\u001b[1;32m    115\u001b[0m df_\u001b[38;5;241m.\u001b[39mto_csv(rxn_df, out)\n\u001b[1;32m    117\u001b[0m \u001b[38;5;28;01mreturn\u001b[39;00m rxn_df\n",
      "File \u001b[0;32m~/code/amech-dev/src/automech/reaction.py:622\u001b[0m, in \u001b[0;36mbootstrap\u001b[0;34m(data, name_dct, spc_df)\u001b[0m\n\u001b[1;32m    620\u001b[0m     df \u001b[38;5;241m=\u001b[39m df\u001b[38;5;241m.\u001b[39mwith_columns(polars\u001b[38;5;241m.\u001b[39mlit(\u001b[38;5;28;01mNone\u001b[39;00m, dtype\u001b[38;5;241m=\u001b[39mdtype)\u001b[38;5;241m.\u001b[39malias(Reaction\u001b[38;5;241m.\u001b[39mformula))\n\u001b[1;32m    621\u001b[0m \u001b[38;5;28;01melse\u001b[39;00m:\n\u001b[0;32m--> 622\u001b[0m     df \u001b[38;5;241m=\u001b[39m \u001b[43mwith_formula\u001b[49m\u001b[43m(\u001b[49m\u001b[43mdf\u001b[49m\u001b[43m,\u001b[49m\u001b[43m \u001b[49m\u001b[43mspc_df\u001b[49m\u001b[38;5;241;43m=\u001b[39;49m\u001b[43mspc_df\u001b[49m\u001b[43m)\u001b[49m\n\u001b[1;32m    624\u001b[0m \u001b[38;5;28;01mreturn\u001b[39;00m validate(df)\n",
      "File \u001b[0;32m~/code/amech-dev/src/automech/reaction.py:688\u001b[0m, in \u001b[0;36mwith_formula\u001b[0;34m(df, spc_df, col_in, col_out)\u001b[0m\n\u001b[1;32m    686\u001b[0m formulas \u001b[38;5;241m=\u001b[39m spc_df[Species\u001b[38;5;241m.\u001b[39mformula]\n\u001b[1;32m    687\u001b[0m expr \u001b[38;5;241m=\u001b[39m polars\u001b[38;5;241m.\u001b[39melement()\u001b[38;5;241m.\u001b[39mreplace_strict(names, formulas, default\u001b[38;5;241m=\u001b[39m{\u001b[38;5;124m\"\u001b[39m\u001b[38;5;124mH\u001b[39m\u001b[38;5;124m\"\u001b[39m: \u001b[38;5;28;01mNone\u001b[39;00m})\n\u001b[0;32m--> 688\u001b[0m df \u001b[38;5;241m=\u001b[39m \u001b[43mdf\u001b[49m\u001b[38;5;241;43m.\u001b[39;49m\u001b[43mwith_columns\u001b[49m\u001b[43m(\u001b[49m\u001b[43mpolars\u001b[49m\u001b[38;5;241;43m.\u001b[39;49m\u001b[43mcol\u001b[49m\u001b[43m(\u001b[49m\u001b[43mcol_in\u001b[49m\u001b[43m)\u001b[49m\u001b[38;5;241;43m.\u001b[39;49m\u001b[43mlist\u001b[49m\u001b[38;5;241;43m.\u001b[39;49m\u001b[43meval\u001b[49m\u001b[43m(\u001b[49m\u001b[43mexpr\u001b[49m\u001b[43m)\u001b[49m\u001b[38;5;241;43m.\u001b[39;49m\u001b[43malias\u001b[49m\u001b[43m(\u001b[49m\u001b[43mtmp_col\u001b[49m\u001b[43m)\u001b[49m\u001b[43m)\u001b[49m\n\u001b[1;32m    689\u001b[0m df \u001b[38;5;241m=\u001b[39m df_\u001b[38;5;241m.\u001b[39mmap_(df, tmp_col, col_out, automol\u001b[38;5;241m.\u001b[39mform\u001b[38;5;241m.\u001b[39mjoin_sequence, dtype_\u001b[38;5;241m=\u001b[39mdtype)\n\u001b[1;32m    690\u001b[0m df \u001b[38;5;241m=\u001b[39m df\u001b[38;5;241m.\u001b[39mdrop(tmp_col)\n",
      "File \u001b[0;32m~/code/amech-dev/.pixi/envs/proto/lib/python3.11/site-packages/polars/dataframe/frame.py:9806\u001b[0m, in \u001b[0;36mDataFrame.with_columns\u001b[0;34m(self, *exprs, **named_exprs)\u001b[0m\n\u001b[1;32m   9660\u001b[0m \u001b[38;5;28;01mdef\u001b[39;00m\u001b[38;5;250m \u001b[39m\u001b[38;5;21mwith_columns\u001b[39m(\n\u001b[1;32m   9661\u001b[0m     \u001b[38;5;28mself\u001b[39m,\n\u001b[1;32m   9662\u001b[0m     \u001b[38;5;241m*\u001b[39mexprs: IntoExpr \u001b[38;5;241m|\u001b[39m Iterable[IntoExpr],\n\u001b[1;32m   9663\u001b[0m     \u001b[38;5;241m*\u001b[39m\u001b[38;5;241m*\u001b[39mnamed_exprs: IntoExpr,\n\u001b[1;32m   9664\u001b[0m ) \u001b[38;5;241m-\u001b[39m\u001b[38;5;241m>\u001b[39m DataFrame:\n\u001b[1;32m   9665\u001b[0m \u001b[38;5;250m    \u001b[39m\u001b[38;5;124;03m\"\"\"\u001b[39;00m\n\u001b[1;32m   9666\u001b[0m \u001b[38;5;124;03m    Add columns to this DataFrame.\u001b[39;00m\n\u001b[1;32m   9667\u001b[0m \n\u001b[0;32m   (...)\u001b[0m\n\u001b[1;32m   9804\u001b[0m \u001b[38;5;124;03m    └─────┴──────┴─────────────┘\u001b[39;00m\n\u001b[1;32m   9805\u001b[0m \u001b[38;5;124;03m    \"\"\"\u001b[39;00m\n\u001b[0;32m-> 9806\u001b[0m     \u001b[38;5;28;01mreturn\u001b[39;00m \u001b[38;5;28;43mself\u001b[39;49m\u001b[38;5;241;43m.\u001b[39;49m\u001b[43mlazy\u001b[49m\u001b[43m(\u001b[49m\u001b[43m)\u001b[49m\u001b[38;5;241;43m.\u001b[39;49m\u001b[43mwith_columns\u001b[49m\u001b[43m(\u001b[49m\u001b[38;5;241;43m*\u001b[39;49m\u001b[43mexprs\u001b[49m\u001b[43m,\u001b[49m\u001b[43m \u001b[49m\u001b[38;5;241;43m*\u001b[39;49m\u001b[38;5;241;43m*\u001b[39;49m\u001b[43mnamed_exprs\u001b[49m\u001b[43m)\u001b[49m\u001b[38;5;241;43m.\u001b[39;49m\u001b[43mcollect\u001b[49m\u001b[43m(\u001b[49m\u001b[43m_eager\u001b[49m\u001b[38;5;241;43m=\u001b[39;49m\u001b[38;5;28;43;01mTrue\u001b[39;49;00m\u001b[43m)\u001b[49m\n",
      "File \u001b[0;32m~/code/amech-dev/.pixi/envs/proto/lib/python3.11/site-packages/polars/_utils/deprecation.py:93\u001b[0m, in \u001b[0;36mdeprecate_streaming_parameter.<locals>.decorate.<locals>.wrapper\u001b[0;34m(*args, **kwargs)\u001b[0m\n\u001b[1;32m     89\u001b[0m         kwargs[\u001b[38;5;124m\"\u001b[39m\u001b[38;5;124mengine\u001b[39m\u001b[38;5;124m\"\u001b[39m] \u001b[38;5;241m=\u001b[39m \u001b[38;5;124m\"\u001b[39m\u001b[38;5;124min-memory\u001b[39m\u001b[38;5;124m\"\u001b[39m\n\u001b[1;32m     91\u001b[0m     \u001b[38;5;28;01mdel\u001b[39;00m kwargs[\u001b[38;5;124m\"\u001b[39m\u001b[38;5;124mstreaming\u001b[39m\u001b[38;5;124m\"\u001b[39m]\n\u001b[0;32m---> 93\u001b[0m \u001b[38;5;28;01mreturn\u001b[39;00m \u001b[43mfunction\u001b[49m\u001b[43m(\u001b[49m\u001b[38;5;241;43m*\u001b[39;49m\u001b[43margs\u001b[49m\u001b[43m,\u001b[49m\u001b[43m \u001b[49m\u001b[38;5;241;43m*\u001b[39;49m\u001b[38;5;241;43m*\u001b[39;49m\u001b[43mkwargs\u001b[49m\u001b[43m)\u001b[49m\n",
      "File \u001b[0;32m~/code/amech-dev/.pixi/envs/proto/lib/python3.11/site-packages/polars/lazyframe/frame.py:2206\u001b[0m, in \u001b[0;36mLazyFrame.collect\u001b[0;34m(self, type_coercion, _type_check, predicate_pushdown, projection_pushdown, simplify_expression, slice_pushdown, comm_subplan_elim, comm_subexpr_elim, cluster_with_columns, collapse_joins, no_optimization, engine, background, _check_order, _eager, **_kwargs)\u001b[0m\n\u001b[1;32m   2204\u001b[0m \u001b[38;5;66;03m# Only for testing purposes\u001b[39;00m\n\u001b[1;32m   2205\u001b[0m callback \u001b[38;5;241m=\u001b[39m _kwargs\u001b[38;5;241m.\u001b[39mget(\u001b[38;5;124m\"\u001b[39m\u001b[38;5;124mpost_opt_callback\u001b[39m\u001b[38;5;124m\"\u001b[39m, callback)\n\u001b[0;32m-> 2206\u001b[0m \u001b[38;5;28;01mreturn\u001b[39;00m wrap_df(\u001b[43mldf\u001b[49m\u001b[38;5;241;43m.\u001b[39;49m\u001b[43mcollect\u001b[49m\u001b[43m(\u001b[49m\u001b[43mengine\u001b[49m\u001b[43m,\u001b[49m\u001b[43m \u001b[49m\u001b[43mcallback\u001b[49m\u001b[43m)\u001b[49m)\n",
      "\u001b[0;31mInvalidOperationError\u001b[0m: `old` input for `replace` must not contain duplicates"
     ]
    }
   ],
   "source": [
    "# Prepare simulation\n",
    "workflow.prepare_simulation(tag=tag, root_path=root_path)\n",
    "workflow.prepare_simulation_species(tag=tag, root_path=root_path)"
   ]
  },
  {
   "cell_type": "code",
   "execution_count": null,
   "metadata": {},
   "outputs": [],
   "source": [
    "# Check rates\n",
    "workflow.plot_rates(tag=tag, root_path=root_path)"
   ]
  },
  {
   "cell_type": "code",
   "execution_count": null,
   "metadata": {},
   "outputs": [],
   "source": [
    "# # Plot simulation\n",
    "# chart_dct = workflow.plot_simulation(\n",
    "#     tag=tag,\n",
    "#     x_col=\"O2_molecules\",\n",
    "#     root_path=root_path,\n",
    "#     line_source_=[\"Hill\", \"Lokachari\"],\n",
    "#     point_source=\"Experiment\",\n",
    "#     control=False,\n",
    "# )\n",
    "# mech = automech.io.read(\n",
    "#     p_.full_calculated_mechanism(tag, \"json\", path=p_.data(root_path))\n",
    "# )\n",
    "# for name, chart in chart_dct.items():\n",
    "#     automech.display_species(mech, [name])\n",
    "#     chart.show()"
   ]
  }
 ],
 "metadata": {
  "kernelspec": {
   "display_name": "proto",
   "language": "python",
   "name": "python3"
  },
  "language_info": {
   "codemirror_mode": {
    "name": "ipython",
    "version": 3
   },
   "file_extension": ".py",
   "mimetype": "text/x-python",
   "name": "python",
   "nbconvert_exporter": "python",
   "pygments_lexer": "ipython3",
   "version": "3.11.12"
  }
 },
 "nbformat": 4,
 "nbformat_minor": 2
}
