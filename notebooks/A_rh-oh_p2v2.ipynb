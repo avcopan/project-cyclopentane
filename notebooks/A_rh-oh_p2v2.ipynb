{
 "cells": [
  {
   "cell_type": "code",
   "execution_count": null,
   "metadata": {},
   "outputs": [],
   "source": [
    "from pathlib import Path\n",
    "\n",
    "import util\n",
    "from util import workflow\n",
    "\n",
    "browser = True\n",
    "file = util.notebook_file() if util.is_notebook() else __file__\n",
    "tag = util.file_tag(file)\n",
    "root_path = Path(\"..\")\n",
    "data_path = util.data_path(root_path)"
   ]
  },
  {
   "cell_type": "code",
   "execution_count": null,
   "metadata": {},
   "outputs": [],
   "source": [
    "# Build\n",
    "from automol.graph import enum\n",
    "\n",
    "import automech\n",
    "from automech.species import Species\n",
    "\n",
    "mech0 = automech.io.read(data_path / \"full_raw.json\")\n",
    "mech = automech.from_smiles(spc_smis=[\"C1=CCCC1\"], src_mech=mech0)\n",
    "#  - add OH addition to *ene*\n",
    "mech = automech.enumerate_reactions(\n",
    "    mech,\n",
    "    enum.ReactionSmarts.pi2_addition,\n",
    "    rcts_=[None, \"[OH]\"],\n",
    "    spc_col_=Species.smiles,\n",
    "    src_mech=mech0,\n",
    ")\n",
    "#  - add H-migrations\n",
    "mech = automech.enumerate_reactions(\n",
    "    mech,\n",
    "    enum.ReactionSmarts.h_migration,\n",
    "    spc_col_=Species.smiles,\n",
    "    src_mech=mech0,\n",
    "    repeat=2\n",
    ")\n",
    "#  - add ring beta scissions\n",
    "mech = automech.enumerate_reactions(\n",
    "    mech,\n",
    "    enum.ReactionSmarts.ring_beta_scission,\n",
    "    src_mech=mech0,\n",
    ")\n",
    "#  - add beta scissions\n",
    "mech = automech.enumerate_reactions(\n",
    "    mech,\n",
    "    enum.ReactionSmarts.beta_scission,\n",
    "    src_mech=mech0,\n",
    ")"
   ]
  },
  {
   "cell_type": "code",
   "execution_count": null,
   "metadata": {},
   "outputs": [],
   "source": [
    "# Write\n",
    "workflow.write(mech=mech, tag=tag, root_path=root_path, browser=browser)"
   ]
  },
  {
   "cell_type": "code",
   "execution_count": null,
   "metadata": {},
   "outputs": [],
   "source": [
    "# # Read\n",
    "# workflow.read(tag=tag, root_path=root_path)"
   ]
  },
  {
   "cell_type": "code",
   "execution_count": null,
   "metadata": {},
   "outputs": [],
   "source": [
    "# # Simulate\n",
    "# workflow.simulate(full_tag=f\"full_{tag}_calc\", root_path=root_path)\n",
    "# workflow.simulate(full_tag=f\"full_{tag}_control\", root_path=root_path)"
   ]
  }
 ],
 "metadata": {
  "kernelspec": {
   "display_name": "proto",
   "language": "python",
   "name": "python3"
  },
  "language_info": {
   "codemirror_mode": {
    "name": "ipython",
    "version": 3
   },
   "file_extension": ".py",
   "mimetype": "text/x-python",
   "name": "python",
   "nbconvert_exporter": "python",
   "pygments_lexer": "ipython3",
   "version": "3.11.11"
  }
 },
 "nbformat": 4,
 "nbformat_minor": 2
}
