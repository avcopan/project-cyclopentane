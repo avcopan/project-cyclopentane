{
 "cells": [
  {
   "cell_type": "code",
   "execution_count": 1,
   "metadata": {},
   "outputs": [],
   "source": [
    "from pathlib import Path\n",
    "\n",
    "import util\n",
    "from util import p_, workflow\n",
    "\n",
    "import automech\n",
    "\n",
    "file = util.notebook_file() if util.is_notebook() else __file__\n",
    "tag = util.file_tag(file)\n",
    "root_path = Path(\"..\")\n",
    "par_mech = workflow.read_parent_mechanism(root_path=root_path)"
   ]
  },
  {
   "cell_type": "code",
   "execution_count": 2,
   "metadata": {},
   "outputs": [],
   "source": [
    "# Generate submechanism\n",
    "sub_tags = [\n",
    "    \"A_rh-oh_1e-1_v0\",\n",
    "    \"A_rh-oh_1e-2_v0\",\n",
    "    \"A_rh-oh_2x_v0\",\n",
    "    \"B_rh-ho2_1e-1_v0\",\n",
    "    \"B_rh-ho2_1e-2_v0\",\n",
    "    \"B_rh-ho2_2x_v0\",\n",
    "    \"C_r_1e_v0\",\n",
    "    \"C_r_2x_v0\",\n",
    "    \"C_r_3o_v0\",\n",
    "    \"D_r-o2_1e_v0\",\n",
    "    \"D_r-o2_2x_v0\",\n",
    "    \"D_r-o2_3o_v0\",\n",
    "]\n",
    "sub_paths = [p_.generated_mechanism(t, \"json\", p_.data(root_path)) for t in sub_tags]\n",
    "sub_mechs = [automech.io.read(p) for p in sub_paths]\n",
    "mech = automech.combine_all(sub_mechs)\n",
    "mech = automech.without_reactions(mech)\n",
    "automech.display(mech)"
   ]
  },
  {
   "cell_type": "code",
   "execution_count": 3,
   "metadata": {},
   "outputs": [
    {
     "name": "stdout",
     "output_type": "stream",
     "text": [
      "\n",
      "Finalizing build for...\n",
      "reactions=shape: (0, 5)\n",
      "┌───────────┬───────────┬───────────┬────────────┬────────────┐\n",
      "│ reactants ┆ products  ┆ formula   ┆ reversible ┆ rate       │\n",
      "│ ---       ┆ ---       ┆ ---       ┆ ---        ┆ ---        │\n",
      "│ list[str] ┆ list[str] ┆ struct[3] ┆ bool       ┆ struct[18] │\n",
      "╞═══════════╪═══════════╪═══════════╪════════════╪════════════╡\n",
      "└───────────┴───────────┴───────────┴────────────┴────────────┘ species=shape: (34, 7)\n",
      "┌────────────┬────────────────┬─────────────────┬──────┬────────┬─────────────────┬────────────────┐\n",
      "│ name       ┆ smiles         ┆ amchi           ┆ spin ┆ charge ┆ formula         ┆ therm          │\n",
      "│ ---        ┆ ---            ┆ ---             ┆ ---  ┆ ---    ┆ ---             ┆ ---            │\n",
      "│ str        ┆ str            ┆ str             ┆ i64  ┆ i64    ┆ struct[7]       ┆ struct[8]      │\n",
      "╞════════════╪════════════════╪═════════════════╪══════╪════════╪═════════════════╪════════════════╡\n",
      "│ C5H8(522)  ┆ C1CC=CC1       ┆ AMChI=1/C5H8/c1 ┆ 0    ┆ 0      ┆ {8,null,null,nu ┆ {298.0,5000.0, │\n",
      "│            ┆                ┆ -2-4-5-3-1/h1-2 ┆      ┆        ┆ ll,null,5,null} ┆ {null,null,8,n │\n",
      "│            ┆                ┆ …               ┆      ┆        ┆                 ┆ ul…            │\n",
      "│ OH(4)      ┆ [OH]           ┆ AMChI=1/HO/h1H  ┆ 1    ┆ 0      ┆ {1,1,null,null, ┆ {200.0,6000.0, │\n",
      "│            ┆                ┆                 ┆      ┆        ┆ null,null,null} ┆ {null,null,1,1 │\n",
      "│            ┆                ┆                 ┆      ┆        ┆                 ┆ ,n…            │\n",
      "│ C5H7(1202) ┆ C1CC=[C]C1     ┆ AMChI=1/C5H7/c1 ┆ 1    ┆ 0      ┆ {7,null,null,nu ┆ {100.0,5000.0, │\n",
      "│            ┆                ┆ -2-4-5-3-1/h2H, ┆      ┆        ┆ ll,null,5,null} ┆ {null,null,7,n │\n",
      "│            ┆                ┆ …               ┆      ┆        ┆                 ┆ ul…            │\n",
      "│ H2O(5)     ┆ O              ┆ AMChI=1/H2O/h1H ┆ 0    ┆ 0      ┆ {2,1,null,null, ┆ {200.0,6000.0, │\n",
      "│            ┆                ┆ 2               ┆      ┆        ┆ null,null,null} ┆ {null,null,2,1 │\n",
      "│            ┆                ┆                 ┆      ┆        ┆                 ┆ ,n…            │\n",
      "│ C5H7(500)  ┆ C1C[CH]C=C1    ┆ AMChI=1/C5H7/c1 ┆ 1    ┆ 0      ┆ {7,null,null,nu ┆ {298.0,5000.0, │\n",
      "│            ┆                ┆ -2-4-5-3-1/h1-3 ┆      ┆        ┆ ll,null,5,null} ┆ {null,null,7,n │\n",
      "│            ┆                ┆ …               ┆      ┆        ┆                 ┆ ul…            │\n",
      "│ …          ┆ …              ┆ …               ┆ …    ┆ …      ┆ …               ┆ …              │\n",
      "│ S(1688)    ┆ O1C2CCC=C12    ┆ AMChI=1/C5H6O/c ┆ 0    ┆ 0      ┆ {6,1,null,null, ┆ {100.0,5000.0, │\n",
      "│            ┆                ┆ 1-2-3-5-4(1)6-5 ┆      ┆        ┆ null,5,null}    ┆ {null,null,6,1 │\n",
      "│            ┆                ┆ …               ┆      ┆        ┆                 ┆ ,n…            │\n",
      "│ S(1288)    ┆ O1C2C1C=CC2    ┆ AMChI=1/C5H6O/c ┆ 0    ┆ 0      ┆ {6,1,null,null, ┆ {100.0,5000.0, │\n",
      "│            ┆                ┆ 1-2-4-5(6-4)3-1 ┆      ┆        ┆ null,5,null}    ┆ {null,null,6,1 │\n",
      "│            ┆                ┆ …               ┆      ┆        ┆                 ┆ ,n…            │\n",
      "│ S(594)     ┆ OC1C(O[O])CCC1 ┆ AMChI=1/C5H9O3/ ┆ 1    ┆ 0      ┆ {9,3,null,null, ┆ {298.0,5000.0, │\n",
      "│            ┆                ┆ c6-8-5-3-1-2-4( ┆      ┆        ┆ null,5,null}    ┆ {null,null,9,3 │\n",
      "│            ┆                ┆ …               ┆      ┆        ┆                 ┆ ,n…            │\n",
      "│ S(1228)    ┆ OC1CCC=C1      ┆ AMChI=1/C5H8O/c ┆ 0    ┆ 0      ┆ {8,1,null,null, ┆ {100.0,5000.0, │\n",
      "│            ┆                ┆ 6-5-2-1-3-4-5/h ┆      ┆        ┆ null,5,null}    ┆ {null,null,8,1 │\n",
      "│            ┆                ┆ …               ┆      ┆        ┆                 ┆ ,n…            │\n",
      "│ S(1227)    ┆ OC=1CCCC=1     ┆ AMChI=1/C5H8O/c ┆ 0    ┆ 0      ┆ {8,1,null,null, ┆ {100.0,5000.0, │\n",
      "│            ┆                ┆ 6-5-1-2-3-4-5/h ┆      ┆        ┆ null,5,null}    ┆ {null,null,8,1 │\n",
      "│            ┆                ┆ …               ┆      ┆        ┆                 ┆ ,n…            │\n",
      "└────────────┴────────────────┴─────────────────┴──────┴────────┴─────────────────┴────────────────┘\n",
      "\n",
      "Expanding stereochemistry...\n"
     ]
    },
    {
     "data": {
      "application/vnd.jupyter.widget-view+json": {
       "model_id": "cfb6d673b4874de097efb92cd3d4f9cf",
       "version_major": 2,
       "version_minor": 0
      },
      "text/plain": [
       "  0%|          | 0/34 [00:00<?, ?it/s]"
      ]
     },
     "metadata": {},
     "output_type": "display_data"
    },
    {
     "data": {
      "application/vnd.jupyter.widget-view+json": {
       "model_id": "20a3c6fe7b8443ab84b5516e1fe6efb3",
       "version_major": 2,
       "version_minor": 0
      },
      "text/plain": [
       "  0%|          | 0/59 [00:00<?, ?it/s]"
      ]
     },
     "metadata": {},
     "output_type": "display_data"
    },
    {
     "name": "stdout",
     "output_type": "stream",
     "text": [
      "\n",
      "Writing mechanism...\n",
      "../data/Y_v0_1s_gen.json\n",
      "../data/Y_v0_1s_ste.json\n",
      "../data/mechanalyzer/Y_v0_1s_ste.dat\n",
      "../data/mechanalyzer/Y_v0_1s_ste.csv\n"
     ]
    },
    {
     "data": {
      "application/vnd.jupyter.widget-view+json": {
       "model_id": "4e8d3188ed724b64839cb530ed2b083f",
       "version_major": 2,
       "version_minor": 0
      },
      "text/plain": [
       "  0%|          | 0/42 [00:00<?, ?it/s]"
      ]
     },
     "metadata": {},
     "output_type": "display_data"
    },
    {
     "data": {
      "application/vnd.jupyter.widget-view+json": {
       "model_id": "e6998ffa221b4976bf07cc78806acc1e",
       "version_major": 2,
       "version_minor": 0
      },
      "text/plain": [
       "  0%|          | 0/42 [00:00<?, ?it/s]"
      ]
     },
     "metadata": {},
     "output_type": "display_data"
    },
    {
     "data": {
      "application/vnd.jupyter.widget-view+json": {
       "model_id": "241ee263fa334352844eb5c10f23c31f",
       "version_major": 2,
       "version_minor": 0
      },
      "text/plain": [
       "  0%|          | 0/42 [00:00<?, ?it/s]"
      ]
     },
     "metadata": {},
     "output_type": "display_data"
    },
    {
     "name": "stdout",
     "output_type": "stream",
     "text": [
      "\n",
      "Stereoexpansion errors:\n"
     ]
    }
   ],
   "source": [
    "# Prepare calculation\n",
    "workflow.prepare_calculation(mech=mech, enant=False, tag=tag, root_path=root_path)"
   ]
  },
  {
   "cell_type": "code",
   "execution_count": 4,
   "metadata": {},
   "outputs": [],
   "source": [
    "# # Prepare simulation\n",
    "# workflow.prepare_simulation(tag=tag, root_path=root_path)\n",
    "# workflow.prepare_simulation_species(tag=tag, root_path=root_path)"
   ]
  },
  {
   "cell_type": "code",
   "execution_count": 5,
   "metadata": {},
   "outputs": [],
   "source": [
    "# # Check rates\n",
    "# workflow.plot_rates(tag=tag, root_path=root_path)"
   ]
  },
  {
   "cell_type": "code",
   "execution_count": 6,
   "metadata": {},
   "outputs": [],
   "source": [
    "# # Plot simulation\n",
    "# chart_dct = workflow.plot_simulation(\n",
    "#     tag=tag,\n",
    "#     x_col=\"O2_molecules\",\n",
    "#     root_path=root_path,\n",
    "#     line_source_=[\"Hill\", \"Lokachari\"],\n",
    "#     point_source=\"Experiment\",\n",
    "#     control=False,\n",
    "# )\n",
    "# mech = automech.io.read(\n",
    "#     p_.full_calculated_mechanism(tag, \"json\", path=p_.data(root_path))\n",
    "# )\n",
    "# for name, chart in chart_dct.items():\n",
    "#     automech.display_species(mech, [name])\n",
    "#     chart.show()"
   ]
  },
  {
   "cell_type": "code",
   "execution_count": 7,
   "metadata": {},
   "outputs": [],
   "source": [
    "# # Check TS\n",
    "# from mechdriver.subtasks import display\n",
    "\n",
    "# chan = \"2: 5\"\n",
    "\n",
    "# #   - Read in expanded mechanism\n",
    "# mech_path = p_.mechanism(tag, ext=\"json\", path=p_.data(root_path))\n",
    "# mech = automech.io.read(mech_path)\n",
    "\n",
    "# #   - Display the reaction\n",
    "# automech.display_reactions(mech, chans=[chan])"
   ]
  },
  {
   "cell_type": "code",
   "execution_count": 8,
   "metadata": {},
   "outputs": [],
   "source": [
    "# #   - Display the TS mode\n",
    "# calc_path = p_.calc(root_path, tag)\n",
    "# display(\"conf_opt\", chan, path=calc_path)"
   ]
  },
  {
   "cell_type": "code",
   "execution_count": 9,
   "metadata": {},
   "outputs": [],
   "source": [
    "# #   - Display the TS mode\n",
    "# calc_path = p_.calc(root_path, tag)\n",
    "# display(\"find_ts\", chan, path=calc_path)"
   ]
  }
 ],
 "metadata": {
  "kernelspec": {
   "display_name": "proto",
   "language": "python",
   "name": "python3"
  },
  "language_info": {
   "codemirror_mode": {
    "name": "ipython",
    "version": 3
   },
   "file_extension": ".py",
   "mimetype": "text/x-python",
   "name": "python",
   "nbconvert_exporter": "python",
   "pygments_lexer": "ipython3",
   "version": "3.11.12"
  }
 },
 "nbformat": 4,
 "nbformat_minor": 2
}
