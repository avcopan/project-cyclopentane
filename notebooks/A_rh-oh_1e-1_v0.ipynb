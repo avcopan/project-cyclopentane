{
 "cells": [
  {
   "cell_type": "code",
   "execution_count": 1,
   "metadata": {},
   "outputs": [],
   "source": [
    "from pathlib import Path\n",
    "\n",
    "import util\n",
    "from util import p_, workflow\n",
    "\n",
    "import automech\n",
    "\n",
    "file = util.notebook_file() if util.is_notebook() else __file__\n",
    "tag = util.file_tag(file)\n",
    "root_path = Path(\"..\")\n",
    "par_mech = workflow.read_parent_mechanism(root_path=root_path)"
   ]
  },
  {
   "cell_type": "code",
   "execution_count": 2,
   "metadata": {},
   "outputs": [],
   "source": [
    "# # Generate submechanism\n",
    "# from automol.graph import enum\n",
    "\n",
    "# from automech.species import Species\n",
    "\n",
    "# mech = automech.from_smiles(spc_smis=[\"C1=CCCC1\"], src_mech=par_mech)\n",
    "# #  - Abstractions\n",
    "# mech = automech.enumerate_reactions(\n",
    "#     mech,\n",
    "#     enum.ReactionSmarts.abstraction,\n",
    "#     rcts_=[None, \"[OH]\"],\n",
    "#     spc_col_=Species.smiles,\n",
    "#     src_mech=par_mech,\n",
    "# )\n",
    "# automech.display(mech)"
   ]
  },
  {
   "cell_type": "code",
   "execution_count": 3,
   "metadata": {},
   "outputs": [],
   "source": [
    "# # Prepare calculation\n",
    "# workflow.prepare_calculation(mech=mech, tag=tag, root_path=root_path)"
   ]
  },
  {
   "cell_type": "code",
   "execution_count": 4,
   "metadata": {},
   "outputs": [
    {
     "name": "stdout",
     "output_type": "stream",
     "text": [
      "Added species and reactions:\n",
      "SPECIES\n",
      "\n",
      "END\n",
      "\n",
      "\n",
      "REACTIONS    CAL/MOL   MOL\n",
      "\n",
      "C5H8(522) + OH(4) = C5H7(1202) + H2O(5)              1.000      0.000      0.000\n",
      "\n",
      "END\n",
      "\n",
      "\n",
      "\n",
      "\n",
      "Statistics:\n",
      "shape: (5, 3)\n",
      "┌────────────────────┬───────────────┬────────────────┐\n",
      "│ Mechanism          ┆ Species Count ┆ Reaction Count │\n",
      "│ ---                ┆ ---           ┆ ---            │\n",
      "│ str                ┆ i64           ┆ i64            │\n",
      "╞════════════════════╪═══════════════╪════════════════╡\n",
      "│ Parent             ┆ 2534          ┆ 10002          │\n",
      "│ Generated          ┆ 6             ┆ 3              │\n",
      "│ Stereo             ┆ 6             ┆ 3              │\n",
      "│ Generated - Parent ┆ 0             ┆ 1              │\n",
      "│ Stereo - Parent    ┆ 0             ┆ 1              │\n",
      "└────────────────────┴───────────────┴────────────────┘\n"
     ]
    }
   ],
   "source": [
    "# Gather statistics\n",
    "workflow.gather_statistics(tag=tag, root_path=root_path)"
   ]
  },
  {
   "cell_type": "code",
   "execution_count": 5,
   "metadata": {},
   "outputs": [],
   "source": [
    "# # Prepare simulation\n",
    "# workflow.prepare_simulation(tag=tag, root_path=root_path)\n",
    "# workflow.prepare_simulation_species(tag=tag, root_path=root_path)"
   ]
  },
  {
   "cell_type": "code",
   "execution_count": 6,
   "metadata": {},
   "outputs": [],
   "source": [
    "# # Check rates\n",
    "# workflow.plot_rates(tag=tag, root_path=root_path)"
   ]
  },
  {
   "cell_type": "code",
   "execution_count": 7,
   "metadata": {},
   "outputs": [],
   "source": [
    "# # Plot simulation\n",
    "# chart_dct = workflow.plot_simulation(\n",
    "#     tag=tag,\n",
    "#     x_col=\"O2_molecules\",\n",
    "#     root_path=root_path,\n",
    "#     line_source_=[\"Hill\", \"Lokachari\"],\n",
    "#     point_source=\"Experiment\",\n",
    "#     control=False,\n",
    "# )\n",
    "# mech = automech.io.read(\n",
    "#     p_.full_calculated_mechanism(tag, \"json\", path=p_.data(root_path))\n",
    "# )\n",
    "# for name, chart in chart_dct.items():\n",
    "#     automech.display_species(mech, [name])\n",
    "#     chart.show()"
   ]
  }
 ],
 "metadata": {
  "kernelspec": {
   "display_name": "proto",
   "language": "python",
   "name": "python3"
  },
  "language_info": {
   "codemirror_mode": {
    "name": "ipython",
    "version": 3
   },
   "file_extension": ".py",
   "mimetype": "text/x-python",
   "name": "python",
   "nbconvert_exporter": "python",
   "pygments_lexer": "ipython3",
   "version": "3.11.12"
  }
 },
 "nbformat": 4,
 "nbformat_minor": 2
}
