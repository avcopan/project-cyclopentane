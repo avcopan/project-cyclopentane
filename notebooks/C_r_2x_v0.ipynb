{
 "cells": [
  {
   "cell_type": "code",
   "execution_count": 1,
   "metadata": {},
   "outputs": [],
   "source": [
    "from pathlib import Path\n",
    "\n",
    "import util\n",
    "from util import p_, workflow\n",
    "\n",
    "import automech\n",
    "\n",
    "file = util.notebook_file() if util.is_notebook() else __file__\n",
    "tag = util.file_tag(file)\n",
    "root_path = Path(\"..\")\n",
    "par_mech = workflow.read_parent_mechanism(root_path=root_path)"
   ]
  },
  {
   "cell_type": "code",
   "execution_count": 2,
   "metadata": {},
   "outputs": [
    {
     "data": {
      "application/vnd.jupyter.widget-view+json": {
       "model_id": "250c49f356174caeb20011af04662d3e",
       "version_major": 2,
       "version_minor": 0
      },
      "text/plain": [
       "  0%|          | 0/2 [00:00<?, ?it/s]"
      ]
     },
     "metadata": {},
     "output_type": "display_data"
    }
   ],
   "source": [
    "# Generate submechanism\n",
    "from automol.graph import enum\n",
    "\n",
    "mech = automech.from_smiles(\n",
    "    spc_smis=[\"C12C(O2)[CH]CC1\", \"C12C(O2)C[CH]C1\"],\n",
    "    src_mech=par_mech,\n",
    ")\n",
    "#  - Ring-opening scissions\n",
    "mech = automech.enumerate_reactions(\n",
    "    mech,\n",
    "    enum.ReactionSmarts.ring_beta_scission,\n",
    "    src_mech=par_mech,\n",
    ")\n",
    "automech.display(mech)"
   ]
  },
  {
   "cell_type": "code",
   "execution_count": null,
   "metadata": {},
   "outputs": [
    {
     "name": "stdout",
     "output_type": "stream",
     "text": [
      "\n",
      "Finalizing build for...\n",
      "reactions=shape: (4, 5)\n",
      "┌────────────────┬────────────────┬───────────┬────────────┬─────────────────────────────────┐\n",
      "│ reactants      ┆ products       ┆ formula   ┆ reversible ┆ rate                            │\n",
      "│ ---            ┆ ---            ┆ ---       ┆ ---        ┆ ---                             │\n",
      "│ list[str]      ┆ list[str]      ┆ struct[3] ┆ bool       ┆ struct[18]                      │\n",
      "╞════════════════╪════════════════╪═══════════╪════════════╪═════════════════════════════════╡\n",
      "│ [\"S(1565)\"]    ┆ [\"C5H7O(758)\"] ┆ {5,7,1}   ┆ true       ┆ {1,{null,null,null,null,null,n… │\n",
      "│ [\"C5H7O(758)\"] ┆ [\"C5H7O(762)\"] ┆ {5,7,1}   ┆ true       ┆ {1,{null,null,null,null,null,n… │\n",
      "│ [\"C5H7O(758)\"] ┆ [\"C5H7O(746)\"] ┆ {5,7,1}   ┆ true       ┆ {1,{null,null,null,null,null,n… │\n",
      "│ [\"S(1512)\"]    ┆ [\"S(1289)\"]    ┆ {5,7,1}   ┆ true       ┆ {1,{null,null,null,null,null,n… │\n",
      "└────────────────┴────────────────┴───────────┴────────────┴─────────────────────────────────┘ species=shape: (6, 7)\n",
      "┌────────────┬───────────────┬─────────────────┬──────┬────────┬─────────────────┬─────────────────┐\n",
      "│ name       ┆ smiles        ┆ amchi           ┆ spin ┆ charge ┆ formula         ┆ therm           │\n",
      "│ ---        ┆ ---           ┆ ---             ┆ ---  ┆ ---    ┆ ---             ┆ ---             │\n",
      "│ str        ┆ str           ┆ str             ┆ i64  ┆ i64    ┆ struct[7]       ┆ struct[8]       │\n",
      "╞════════════╪═══════════════╪═════════════════╪══════╪════════╪═════════════════╪═════════════════╡\n",
      "│ C5H7O(758) ┆ O1C2C1[CH]CC2 ┆ AMChI=1/C5H7O/c ┆ 1    ┆ 0      ┆ {7,1,null,null, ┆ {298.0,5000.0,{ │\n",
      "│            ┆               ┆ 1-2-3-5-4(1)6-5 ┆      ┆        ┆ null,5,null}    ┆ null,null,7,1,n │\n",
      "│            ┆               ┆ …               ┆      ┆        ┆                 ┆ …               │\n",
      "│ S(1565)    ┆ [CH2]C1OC1C=C ┆ AMChI=1/C5H7O/c ┆ 1    ┆ 0      ┆ {7,1,null,null, ┆ {100.0,5000.0,{ │\n",
      "│            ┆               ┆ 1-3-5-4(2)6-5/h ┆      ┆        ┆ null,5,null}    ┆ null,null,7,1,n │\n",
      "│            ┆               ┆ …               ┆      ┆        ┆                 ┆ …               │\n",
      "│ C5H7O(762) ┆ O1[CH]CCC=C1  ┆ AMChI=1/C5H7O/c ┆ 1    ┆ 0      ┆ {7,1,null,null, ┆ {300.0,5000.0,{ │\n",
      "│            ┆               ┆ 1-2-6-3-5-4-1/h ┆      ┆        ┆ null,5,null}    ┆ null,null,7,1,n │\n",
      "│            ┆               ┆ …               ┆      ┆        ┆                 ┆ …               │\n",
      "│ C5H7O(746) ┆ [O]C1CCC=C1   ┆ AMChI=1/C5H7O/c ┆ 1    ┆ 0      ┆ {7,1,null,null, ┆ {298.0,5000.0,{ │\n",
      "│            ┆               ┆ 6-5-2-1-3-4-5/h ┆      ┆        ┆ null,5,null}    ┆ null,null,7,1,n │\n",
      "│            ┆               ┆ …               ┆      ┆        ┆                 ┆ …               │\n",
      "│ S(1289)    ┆ O1C2C1C[CH]C2 ┆ AMChI=1/C5H7O/c ┆ 1    ┆ 0      ┆ {7,1,null,null, ┆ {100.0,5000.0,{ │\n",
      "│            ┆               ┆ 1-2-4-5(6-4)3-1 ┆      ┆        ┆ null,5,null}    ┆ null,null,7,1,n │\n",
      "│            ┆               ┆ …               ┆      ┆        ┆                 ┆ …               │\n",
      "│ S(1512)    ┆ C=CCC1O[CH]1  ┆ AMChI=1/C5H7O/c ┆ 1    ┆ 0      ┆ {7,1,null,null, ┆ {100.0,5000.0,{ │\n",
      "│            ┆               ┆ 1-2-4-5-3-6-5/h ┆      ┆        ┆ null,5,null}    ┆ null,null,7,1,n │\n",
      "│            ┆               ┆ …               ┆      ┆        ┆                 ┆ …               │\n",
      "└────────────┴───────────────┴─────────────────┴──────┴────────┴─────────────────┴─────────────────┘\n",
      "\n",
      "Expanding stereochemistry...\n"
     ]
    },
    {
     "data": {
      "application/vnd.jupyter.widget-view+json": {
       "model_id": "0fc83f65632f494b9c3587bbfde51e92",
       "version_major": 2,
       "version_minor": 0
      },
      "text/plain": [
       "  0%|          | 0/6 [00:00<?, ?it/s]"
      ]
     },
     "metadata": {},
     "output_type": "display_data"
    },
    {
     "data": {
      "application/vnd.jupyter.widget-view+json": {
       "model_id": "8c6b44bd981d44c496479e2a99c39adb",
       "version_major": 2,
       "version_minor": 0
      },
      "text/plain": [
       "  0%|          | 0/12 [00:00<?, ?it/s]"
      ]
     },
     "metadata": {},
     "output_type": "display_data"
    },
    {
     "data": {
      "application/vnd.jupyter.widget-view+json": {
       "model_id": "9b2b6dd78b0c469a80636d0fb6df513a",
       "version_major": 2,
       "version_minor": 0
      },
      "text/plain": [
       "  0%|          | 0/4 [00:00<?, ?it/s]"
      ]
     },
     "metadata": {},
     "output_type": "display_data"
    },
    {
     "name": "stdout",
     "output_type": "stream",
     "text": [
      "\n",
      "Writing mechanism...\n",
      "../data/C_r_2x_v0_gen.json\n",
      "../data/C_r_2x_v0_ste.json\n",
      "../data/mechanalyzer/C_r_2x_v0_ste.dat\n",
      "../data/mechanalyzer/C_r_2x_v0_ste.csv\n"
     ]
    },
    {
     "data": {
      "application/vnd.jupyter.widget-view+json": {
       "model_id": "a5cc37ba6bbf4cf2a05a02fd8398c478",
       "version_major": 2,
       "version_minor": 0
      },
      "text/plain": [
       "  0%|          | 0/12 [00:00<?, ?it/s]"
      ]
     },
     "metadata": {},
     "output_type": "display_data"
    },
    {
     "data": {
      "application/vnd.jupyter.widget-view+json": {
       "model_id": "a007f78a464448948c6a47ee18c5e6d5",
       "version_major": 2,
       "version_minor": 0
      },
      "text/plain": [
       "  0%|          | 0/12 [00:00<?, ?it/s]"
      ]
     },
     "metadata": {},
     "output_type": "display_data"
    },
    {
     "data": {
      "application/vnd.jupyter.widget-view+json": {
       "model_id": "acccf29494a442d9aa31338dda34ff43",
       "version_major": 2,
       "version_minor": 0
      },
      "text/plain": [
       "  0%|          | 0/12 [00:00<?, ?it/s]"
      ]
     },
     "metadata": {},
     "output_type": "display_data"
    }
   ],
   "source": [
    "# Prepare calculation\n",
    "workflow.prepare_calculation(mech=mech, tag=tag, root_path=root_path)"
   ]
  },
  {
   "cell_type": "code",
   "execution_count": null,
   "metadata": {},
   "outputs": [],
   "source": [
    "# # Prepare simulation\n",
    "# workflow.prepare_simulation(tag=tag, root_path=root_path)\n",
    "# workflow.prepare_simulation_species(tag=tag, root_path=root_path)"
   ]
  },
  {
   "cell_type": "code",
   "execution_count": null,
   "metadata": {},
   "outputs": [],
   "source": [
    "# # Check rates\n",
    "# workflow.plot_rates(tag=tag, root_path=root_path)"
   ]
  },
  {
   "cell_type": "code",
   "execution_count": null,
   "metadata": {},
   "outputs": [],
   "source": [
    "# # Plot simulation\n",
    "# chart_dct = workflow.plot_simulation(\n",
    "#     tag=tag,\n",
    "#     x_col=\"O2_molecules\",\n",
    "#     root_path=root_path,\n",
    "#     line_source_=[\"Hill\", \"Lokachari\"],\n",
    "#     point_source=\"Experiment\",\n",
    "#     control=False,\n",
    "# )\n",
    "# mech = automech.io.read(\n",
    "#     p_.full_calculated_mechanism(tag, \"json\", path=p_.data(root_path))\n",
    "# )\n",
    "# for name, chart in chart_dct.items():\n",
    "#     automech.display_species(mech, [name])\n",
    "#     chart.show()"
   ]
  },
  {
   "cell_type": "code",
   "execution_count": null,
   "metadata": {},
   "outputs": [],
   "source": [
    "# # Check TS\n",
    "# from mechdriver.subtasks import display\n",
    "\n",
    "# chan = \"2: 5\"\n",
    "\n",
    "# #   - Read in expanded mechanism\n",
    "# mech_path = p_.mechanism(tag, ext=\"json\", path=p_.data(root_path))\n",
    "# mech = automech.io.read(mech_path)\n",
    "\n",
    "# #   - Display the reaction\n",
    "# automech.display_reactions(mech, chans=[chan])"
   ]
  },
  {
   "cell_type": "code",
   "execution_count": null,
   "metadata": {},
   "outputs": [],
   "source": [
    "# #   - Display the TS mode\n",
    "# calc_path = p_.calc(root_path, tag)\n",
    "# display(\"conf_opt\", chan, path=calc_path)"
   ]
  },
  {
   "cell_type": "code",
   "execution_count": null,
   "metadata": {},
   "outputs": [],
   "source": [
    "# #   - Display the TS mode\n",
    "# calc_path = p_.calc(root_path, tag)\n",
    "# display(\"find_ts\", chan, path=calc_path)"
   ]
  }
 ],
 "metadata": {
  "kernelspec": {
   "display_name": "proto",
   "language": "python",
   "name": "python3"
  },
  "language_info": {
   "codemirror_mode": {
    "name": "ipython",
    "version": 3
   },
   "file_extension": ".py",
   "mimetype": "text/x-python",
   "name": "python",
   "nbconvert_exporter": "python",
   "pygments_lexer": "ipython3",
   "version": "3.11.12"
  }
 },
 "nbformat": 4,
 "nbformat_minor": 2
}
