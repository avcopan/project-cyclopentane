{
 "cells": [
  {
   "cell_type": "code",
   "execution_count": 1,
   "id": "137a4f53",
   "metadata": {},
   "outputs": [],
   "source": [
    "from pathlib import Path\n",
    "\n",
    "import automech\n",
    "from project_utilities import p_, util, workflow\n",
    "from protomech import mess\n",
    "\n",
    "file = util.notebook_file() if util.is_notebook() else __file__\n",
    "tag = util.file_tag(file)\n",
    "root_path = Path(\"..\")\n",
    "tag0 = \"Z_combined_v0\""
   ]
  },
  {
   "cell_type": "code",
   "execution_count": 2,
   "id": "2d6bca33",
   "metadata": {},
   "outputs": [
    {
     "name": "stderr",
     "output_type": "stream",
     "text": [
      "/home/avcopan/proj/project-cyclopentane/code/protomech/src/automech/_mech.py:1305: UserWarning: This function ignores stereochemistry.\n",
      "  warnings.warn(\"This function ignores stereochemistry.\", stacklevel=1)\n"
     ]
    }
   ],
   "source": [
    "mech0 = automech.io.read(p_.stereo_mechanism(tag0, \"json\", p_.data(root_path)))\n",
    "mech0, _ = automech.replace_unstable_products(mech0)"
   ]
  },
  {
   "cell_type": "code",
   "execution_count": 3,
   "id": "7163a4ee",
   "metadata": {},
   "outputs": [
    {
     "data": {
      "text/plain": [
       "['S(2258)z',\n",
       " 'S(2258)e',\n",
       " 'C5O2nexammzzz',\n",
       " 'C5O2nexammzze',\n",
       " 'C5O2nexammzez',\n",
       " 'C5O2nexammzee',\n",
       " 'C5O2nexammezz',\n",
       " 'C5O2nexammeze',\n",
       " 'C5O2nexammeez',\n",
       " 'C5O2nexammeee',\n",
       " 'C5O2jrscln']"
      ]
     },
     "execution_count": 3,
     "metadata": {},
     "output_type": "execute_result"
    }
   ],
   "source": [
    "automech.resonant_unstable_species_names(mech0)"
   ]
  },
  {
   "cell_type": "code",
   "execution_count": 4,
   "id": "f5b3adb0",
   "metadata": {},
   "outputs": [
    {
     "name": "stdout",
     "output_type": "stream",
     "text": [
      "[PosixPath('../data/mess/source/04_1-2/mess.inp'), PosixPath('../data/mess/source/06_37/mess.inp'), PosixPath('../data/mess/source/05_1-14/mess.inp'), PosixPath('../data/mess/source/03_50-51/mess.inp'), PosixPath('../data/mess/source/06_35/mess.inp'), PosixPath('../data/mess/source/02_05/mess.inp'), PosixPath('../data/mess/source/03_46/mess.inp'), PosixPath('../data/mess/source/05_15/mess.inp'), PosixPath('../data/mess/source/01_01/mess.inp'), PosixPath('../data/mess/source/03_49/mess.inp'), PosixPath('../data/mess/source/07_01/mess.inp'), PosixPath('../data/mess/source/05_16/mess.inp'), PosixPath('../data/mess/source/03_48/mess.inp'), PosixPath('../data/mess/source/05_17/mess.inp'), PosixPath('../data/mess/source/02_1-4/mess.inp'), PosixPath('../data/mess/source/03_1-42/mess.inp'), PosixPath('../data/mess/source/03_54/mess.inp'), PosixPath('../data/mess/source/03_44/mess.inp'), PosixPath('../data/mess/source/06_1-34/mess.inp'), PosixPath('../data/mess/source/08_01/mess.inp'), PosixPath('../data/mess/source/03_47/mess.inp'), PosixPath('../data/mess/source/03_45/mess.inp'), PosixPath('../data/mess/source/03_55/mess.inp'), PosixPath('../data/mess/source/03_52-53/mess.inp'), PosixPath('../data/mess/source/03_43/mess.inp'), PosixPath('../data/mess/source/01_02/mess.inp'), PosixPath('../data/mess/source/06_36/mess.inp')]\n"
     ]
    }
   ],
   "source": [
    "mess_source_path = p_.mess_source(root_path)\n",
    "mess_inp_files = list(mess_source_path.glob(\"*/mess.inp\"))\n",
    "surfs = [mess.surf.from_mess_input(f) for f in mess_inp_files]\n",
    "surf = mess.surf.combine(surfs)\n",
    "print(mess_inp_files)"
   ]
  },
  {
   "cell_type": "code",
   "execution_count": 5,
   "id": "5340b433",
   "metadata": {},
   "outputs": [],
   "source": [
    "surf = mess.surf.set_mess_header_temperature_list(\n",
    "    surf, [300, 400, 500, 600, 700, 800, 900, 1000]\n",
    ")"
   ]
  },
  {
   "cell_type": "code",
   "execution_count": 6,
   "id": "ee7b3721",
   "metadata": {},
   "outputs": [
    {
     "name": "stdout",
     "output_type": "stream",
     "text": [
      "[20, 81, 116, 117]\n"
     ]
    }
   ],
   "source": [
    "# Drop species that result in unconnected wells\n",
    "# (These species are not formed in ring-opening reactions and, without\n",
    "# stereoisomerization rates, do not affect the model.)\n",
    "drop_labels = [\"C5O2pkpfsdzr0\", \"C5O2sidwaoze\", \"C5O2sidwaozz\", \"C5O2pkpfsdzr1\"]\n",
    "drop_keys = mess.surf.node_keys(surf, labels=drop_labels)\n",
    "print(drop_keys)\n",
    "surf = mess.surf.remove_nodes(surf, keys=drop_keys)\n",
    "mech0 = automech.without_species(mech0, spc_names=drop_labels)"
   ]
  },
  {
   "cell_type": "code",
   "execution_count": 7,
   "id": "03312b50",
   "metadata": {},
   "outputs": [],
   "source": [
    "surf = mess.surf.correct_fake_well_energies(surf)"
   ]
  },
  {
   "cell_type": "code",
   "execution_count": 8,
   "id": "7a36d871",
   "metadata": {},
   "outputs": [],
   "source": [
    "surf = mess.surf.merge_resonant_instabilities(surf, mech0)\n",
    "mech = automech.merge_resonant_instabilities(mech0, remove=True)\n",
    "# mess.net.display(surf, mech=mech0)"
   ]
  },
  {
   "cell_type": "code",
   "execution_count": 9,
   "id": "682c77c0",
   "metadata": {},
   "outputs": [
    {
     "name": "stdout",
     "output_type": "stream",
     "text": [
      "\n",
      "Writing mechanism...\n",
      "../data/Z_mess_v0_ste.json\n"
     ]
    }
   ],
   "source": [
    "# Write\n",
    "print(\"\\nWriting mechanism...\")\n",
    "mech_path = p_.stereo_mechanism(tag, ext=\"json\", path=p_.data(root_path))\n",
    "print(mech_path)\n",
    "automech.io.write(mech, mech_path)"
   ]
  },
  {
   "cell_type": "code",
   "execution_count": 10,
   "id": "067756a8",
   "metadata": {},
   "outputs": [
    {
     "name": "stdout",
     "output_type": "stream",
     "text": [
      "\n",
      "Reading parent mechanism...\n",
      "\n",
      "Reading stereo mechanism...\n",
      "../data/Z_mess_v0_ste.json\n",
      "\n",
      "Writing mechanism...\n",
      "../data/Z_mess_v0_comp.json\n"
     ]
    }
   ],
   "source": [
    "workflow.prepare_comparison(tag=tag, root_path=root_path)"
   ]
  },
  {
   "cell_type": "code",
   "execution_count": 11,
   "id": "58616ebe",
   "metadata": {},
   "outputs": [],
   "source": [
    "# Print reagents that are not on the MESS surface\n",
    "for rgt_names in automech.reaction.reagents(mech.reactions):\n",
    "    node = next((n for n in surf.nodes if n.names_list == rgt_names), None)\n",
    "    if node is None:\n",
    "        print(rgt_names)"
   ]
  },
  {
   "cell_type": "code",
   "execution_count": 12,
   "id": "f035ca1e",
   "metadata": {},
   "outputs": [
    {
     "name": "stdout",
     "output_type": "stream",
     "text": [
      "C5H9 4 3\n",
      "C5H9O2 32 45\n",
      "C5H9O 18 23\n",
      "C5H7 7 6\n",
      "C5H7O2 28 46\n",
      "C5H11O 4 3\n",
      "C5H11O2 4 3\n"
     ]
    }
   ],
   "source": [
    "surf_dct = mess.surf.split_stoichiometries(surf, mech)\n",
    "for stoich, stoich_surf in surf_dct.items():\n",
    "    print(stoich, len(stoich_surf.nodes), len(stoich_surf.edges))"
   ]
  },
  {
   "cell_type": "code",
   "execution_count": 13,
   "id": "77934b1c",
   "metadata": {},
   "outputs": [
    {
     "name": "stdout",
     "output_type": "stream",
     "text": [
      "C5H9 4 3\n",
      "C5H9O2 32 45\n",
      "C5H9O 18 23\n",
      "C5H7 7 6\n",
      "C5H7O2 28 46\n",
      "C5H11O 4 3\n",
      "C5H11O2 4 3\n"
     ]
    }
   ],
   "source": [
    "mess_calc_path = p_.mess_calc(root_path)\n",
    "mess_calc_path.mkdir(exist_ok=True)\n",
    "\n",
    "for stoich, stoich_surf in surf_dct.items():\n",
    "    print(stoich, len(stoich_surf.nodes), len(stoich_surf.edges))\n",
    "    stoich_path = mess_calc_path / stoich\n",
    "    stoich_path.mkdir(exist_ok=True)\n",
    "    mess_inp_file = stoich_path / \"mess.inp\"\n",
    "    mess_inp_file.write_text(mess.surf.mess_input(stoich_surf))\n",
    "\n",
    "    # Test that it can be read back in\n",
    "    mess.surf.from_mess_input(mess_inp_file)"
   ]
  },
  {
   "cell_type": "code",
   "execution_count": 14,
   "id": "f806f84b",
   "metadata": {},
   "outputs": [],
   "source": [
    "stoich = \"C5H9O\"\n",
    "stoich_surf = surf_dct[stoich]\n",
    "\n",
    "mess.net.display(stoich_surf, mech=mech, height=\"1000px\")"
   ]
  },
  {
   "cell_type": "code",
   "execution_count": 15,
   "id": "675b89b1",
   "metadata": {},
   "outputs": [
    {
     "name": "stdout",
     "output_type": "stream",
     "text": [
      "!===================================================\n",
      "!  GLOBAL KEYWORDS\n",
      "!===================================================\n",
      "TemperatureList[K]                     300.0  400.0  500.0  600.0  700.0  800.0  900.0  1000.0\n",
      "PressureList[atm]                      0.1  1.0  10.0  100.0\n",
      "!\n",
      "ModelEnergyLimit[kcal/mol]             800.00\n",
      "EnergyStepOverTemperature              0.20\n",
      "!\n",
      "CalculationMethod                      direct\n",
      "!\n",
      "WellCutoff                             10\n",
      "WellExtension                          0.0010\n",
      "!\n",
      "ChemicalEigenvalueMax                  0.20\n",
      "!\n",
      "ReductionMethod                        diagonalization\n",
      "!\n",
      "AtomDistanceMin[angstrom]              0.68793\n",
      "!\n",
      "RateOutput                             rate.out\n",
      "!\n",
      "!\n",
      "!===================================================\n",
      "!  BEGIN MASTER EQUATION MODEL\n",
      "!===================================================\n",
      "!\n",
      "ExtensionCorrection    0.6\n",
      "Model\n",
      "!\n",
      "GroundEnergyShiftMax[kcal/mol]  10\n",
      "!\n",
      "UseShortNames\n",
      "!\n",
      "!---------------------------------------------------\n",
      "!  ENERGY TRANSFER SECTION\n",
      "!---------------------------------------------------\n",
      "  EnergyRelaxation\n",
      "    Exponential\n",
      "       Factor[1/cm]                     312.117\n",
      "       Power                            0.647\n",
      "       ExponentCutoff                   15.000\n",
      "  End  ! EneRelax\n",
      "  CollisionFrequency\n",
      "    LennardJones\n",
      "       Epsilons[1/cm]                   165.902    165.902\n",
      "       Sigmas[angstrom]                 4.601      4.601\n",
      "       Masses[amu]                      69.070     39.962\n",
      "  End  ! CollidFreq\n",
      "!---------------------------------------------------\n",
      "!  REACTION CHANNELS SECTION\n",
      "!---------------------------------------------------\n"
     ]
    }
   ],
   "source": [
    "print(surf.mess_header)"
   ]
  }
 ],
 "metadata": {
  "kernelspec": {
   "display_name": "dev",
   "language": "python",
   "name": "python3"
  },
  "language_info": {
   "codemirror_mode": {
    "name": "ipython",
    "version": 3
   },
   "file_extension": ".py",
   "mimetype": "text/x-python",
   "name": "python",
   "nbconvert_exporter": "python",
   "pygments_lexer": "ipython3",
   "version": "3.13.8"
  }
 },
 "nbformat": 4,
 "nbformat_minor": 5
}
