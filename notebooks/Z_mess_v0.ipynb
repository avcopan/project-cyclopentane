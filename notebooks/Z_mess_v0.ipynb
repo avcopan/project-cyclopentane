{
 "cells": [
  {
   "cell_type": "code",
   "execution_count": 1,
   "id": "137a4f53",
   "metadata": {},
   "outputs": [],
   "source": [
    "from pathlib import Path\n",
    "\n",
    "import automech\n",
    "from project_utilities import p_, util, workflow\n",
    "from protomech import mess\n",
    "\n",
    "file = util.notebook_file() if util.is_notebook() else __file__\n",
    "tag = util.file_tag(file)\n",
    "root_path = Path(\"..\")\n",
    "tag0 = \"Z_combined_v0\""
   ]
  },
  {
   "cell_type": "code",
   "execution_count": 2,
   "id": "2d6bca33",
   "metadata": {},
   "outputs": [
    {
     "name": "stderr",
     "output_type": "stream",
     "text": [
      "/home/avcopan/proj/project-cyclopentane/code/protomech/src/automech/_mech.py:1307: UserWarning: This function ignores stereochemistry.\n",
      "  warnings.warn(\"This function ignores stereochemistry.\", stacklevel=1)\n"
     ]
    }
   ],
   "source": [
    "mech0 = automech.io.read(p_.stereo_mechanism(tag0, \"json\", p_.data(root_path)))\n",
    "mech0, _ = automech.replace_unstable_products(mech0)"
   ]
  },
  {
   "cell_type": "code",
   "execution_count": 3,
   "id": "7163a4ee",
   "metadata": {},
   "outputs": [
    {
     "data": {
      "text/plain": [
       "['S(2258)z',\n",
       " 'S(2258)e',\n",
       " 'C5O2nexammzzz',\n",
       " 'C5O2nexammzze',\n",
       " 'C5O2nexammzez',\n",
       " 'C5O2nexammzee',\n",
       " 'C5O2nexammezz',\n",
       " 'C5O2nexammeze',\n",
       " 'C5O2nexammeez',\n",
       " 'C5O2nexammeee',\n",
       " 'C5O2jrscln']"
      ]
     },
     "execution_count": 3,
     "metadata": {},
     "output_type": "execute_result"
    }
   ],
   "source": [
    "automech.resonant_unstable_species_names(mech0)"
   ]
  },
  {
   "cell_type": "code",
   "execution_count": 4,
   "id": "f5b3adb0",
   "metadata": {},
   "outputs": [],
   "source": [
    "mess_init_path = p_.mess_initial(root_path)\n",
    "mess_inp_files = list(mess_init_path.glob(\"*/mess.inp\"))\n",
    "surfs = [mess.surf.from_mess_input(f) for f in mess_inp_files]\n",
    "surf = mess.surf.combine(surfs)\n",
    "# mess.net.display(surf, mech=mech0)"
   ]
  },
  {
   "cell_type": "code",
   "execution_count": 5,
   "id": "5340b433",
   "metadata": {},
   "outputs": [],
   "source": [
    "# Set MESS header lines\n",
    "surf = mess.surf.set_mess_header_temperature_list(\n",
    "    surf,\n",
    "    [300, 400, 500, 600, 700, 725, 750, 775, 800, 825, 850, 875, 900, 1000, 1100, 1200],\n",
    ")\n",
    "surf = mess.surf.set_mess_header_pressure_list(\n",
    "    surf, [0.1, 0.32, 1.0, 3.2, 10.0, 32.0, 100.0]\n",
    ")\n",
    "surf = mess.surf.set_mess_header_line(\n",
    "    surf, \"WellExtension\", \"WellExtension      0.0010\"\n",
    ")\n",
    "surf = mess.surf.set_mess_header_line(\n",
    "    surf, \"ExtensionCorrection\", \"ExtensionCorrection      0.6\"\n",
    ")"
   ]
  },
  {
   "cell_type": "code",
   "execution_count": 6,
   "id": "e674f682",
   "metadata": {},
   "outputs": [],
   "source": [
    "# Turn off fake well extension and unset well extension caps\n",
    "# (Since the well extension caps are not for the full mechanism, I don't trust them)\n",
    "surf = mess.surf.set_no_fake_well_extension(surf)\n",
    "surf = mess.surf.unset_well_extension_cap(surf)"
   ]
  },
  {
   "cell_type": "code",
   "execution_count": 7,
   "id": "ee7b3721",
   "metadata": {},
   "outputs": [
    {
     "name": "stdout",
     "output_type": "stream",
     "text": [
      "[16, 85, 120, 121]\n"
     ]
    }
   ],
   "source": [
    "# Drop species that result in unconnected wells\n",
    "# (These species are not formed in ring-opening reactions and, without\n",
    "# stereoisomerization rates, do not affect the model.)\n",
    "drop_labels = [\"C5O2pkpfsdzr0\", \"C5O2sidwaoze\", \"C5O2sidwaozz\", \"C5O2pkpfsdzr1\"]\n",
    "drop_keys = mess.surf.node_keys(surf, labels=drop_labels)\n",
    "print(drop_keys)\n",
    "surf = mess.surf.remove_nodes(surf, keys=drop_keys)\n",
    "mech0 = automech.without_species(mech0, spc_names=drop_labels)"
   ]
  },
  {
   "cell_type": "code",
   "execution_count": 8,
   "id": "03312b50",
   "metadata": {},
   "outputs": [],
   "source": [
    "surf = mess.surf.correct_fake_well_energies(surf)"
   ]
  },
  {
   "cell_type": "code",
   "execution_count": 9,
   "id": "7a36d871",
   "metadata": {},
   "outputs": [],
   "source": [
    "surf = mess.surf.merge_resonant_instabilities(surf, mech0)\n",
    "mech = automech.merge_resonant_instabilities(mech0, remove=True)\n",
    "# mess.net.display(surf, mech=mech0)"
   ]
  },
  {
   "cell_type": "code",
   "execution_count": 10,
   "id": "682c77c0",
   "metadata": {},
   "outputs": [
    {
     "name": "stdout",
     "output_type": "stream",
     "text": [
      "\n",
      "Writing mechanism...\n",
      "../data/Z_mess_v0_ste.json\n"
     ]
    }
   ],
   "source": [
    "# Write\n",
    "print(\"\\nWriting mechanism...\")\n",
    "mech_path = p_.stereo_mechanism(tag, ext=\"json\", path=p_.data(root_path))\n",
    "print(mech_path)\n",
    "automech.io.write(mech, mech_path)"
   ]
  },
  {
   "cell_type": "code",
   "execution_count": 11,
   "id": "067756a8",
   "metadata": {},
   "outputs": [
    {
     "name": "stdout",
     "output_type": "stream",
     "text": [
      "\n",
      "Reading parent mechanism...\n",
      "\n",
      "Reading stereo mechanism...\n",
      "../data/Z_mess_v0_ste.json\n",
      "\n",
      "Writing mechanism...\n",
      "../data/Z_mess_v0_comp.json\n"
     ]
    }
   ],
   "source": [
    "workflow.prepare_comparison(tag=tag, root_path=root_path)"
   ]
  },
  {
   "cell_type": "code",
   "execution_count": 12,
   "id": "58616ebe",
   "metadata": {},
   "outputs": [],
   "source": [
    "# Print reagents that are not on the MESS surface\n",
    "for rgt_names in automech.reaction.reagents(mech.reactions):\n",
    "    node = next((n for n in surf.nodes if n.names_list == rgt_names), None)\n",
    "    if node is None:\n",
    "        print(rgt_names)"
   ]
  },
  {
   "cell_type": "code",
   "execution_count": 13,
   "id": "f035ca1e",
   "metadata": {},
   "outputs": [
    {
     "name": "stdout",
     "output_type": "stream",
     "text": [
      "C5H9O2 32 45\n",
      "C5H9O 18 23\n",
      "C5H9 6 5\n",
      "C5H7 9 9\n",
      "C5H7O2 28 46\n",
      "C5H11O 4 3\n",
      "C5H11O2 4 3\n"
     ]
    }
   ],
   "source": [
    "surf_dct = mess.surf.split_stoichiometries(surf, mech)\n",
    "for stoich, stoich_surf in surf_dct.items():\n",
    "    print(stoich, len(stoich_surf.nodes), len(stoich_surf.edges))"
   ]
  },
  {
   "cell_type": "code",
   "execution_count": 14,
   "id": "77934b1c",
   "metadata": {},
   "outputs": [
    {
     "name": "stdout",
     "output_type": "stream",
     "text": [
      "C5H9O2 32 45\n",
      "../data/mess/final/C5H9O2/mess.inp\n",
      "C5H9O 18 23\n",
      "../data/mess/final/C5H9O/mess.inp\n",
      "C5H9 6 5\n",
      "../data/mess/final/C5H9/mess.inp\n",
      "C5H7 9 9\n",
      "../data/mess/final/C5H7/mess.inp\n",
      "C5H7O2 28 46\n",
      "../data/mess/final/C5H7O2/mess.inp\n",
      "C5H11O 4 3\n",
      "../data/mess/final/C5H11O/mess.inp\n",
      "C5H11O2 4 3\n",
      "../data/mess/final/C5H11O2/mess.inp\n"
     ]
    }
   ],
   "source": [
    "mess_final_path = p_.mess_final(root_path)\n",
    "mess_final_path.mkdir(exist_ok=True)\n",
    "\n",
    "for stoich, stoich_surf in surf_dct.items():\n",
    "    print(stoich, len(stoich_surf.nodes), len(stoich_surf.edges))\n",
    "    stoich_path = mess_final_path / stoich\n",
    "    stoich_path.mkdir(exist_ok=True)\n",
    "    mess_inp_file = stoich_path / \"mess.inp\"\n",
    "    print(mess_inp_file)\n",
    "    mess_inp_file.write_text(mess.surf.mess_input(stoich_surf))\n",
    "\n",
    "    # Test that it can be read back in\n",
    "    mess.surf.from_mess_input(mess_inp_file)"
   ]
  },
  {
   "cell_type": "code",
   "execution_count": 15,
   "id": "f806f84b",
   "metadata": {},
   "outputs": [],
   "source": [
    "stoich = \"C5H7\"\n",
    "stoich_surf = surf_dct[stoich]\n",
    "\n",
    "mess.net.display(stoich_surf, mech=mech, height=\"1000px\")"
   ]
  },
  {
   "cell_type": "code",
   "execution_count": 16,
   "id": "675b89b1",
   "metadata": {},
   "outputs": [
    {
     "name": "stdout",
     "output_type": "stream",
     "text": [
      "!===================================================\n",
      "!  GLOBAL KEYWORDS\n",
      "!===================================================\n",
      "TemperatureList[K]                     300.0  400.0  500.0  600.0  700.0  725.0  750.0  775.0  800.0  825.0  850.0  875.0  900.0  1000.0  1100.0  1200.0\n",
      "PressureList[atm]                     0.10  0.32  1.00  3.20  10.00  32.00  100.00\n",
      "!\n",
      "ModelEnergyLimit[kcal/mol]             800.00\n",
      "EnergyStepOverTemperature              0.20\n",
      "!\n",
      "CalculationMethod                      direct\n",
      "!\n",
      "WellCutoff                             10\n",
      "!\n",
      "ChemicalEigenvalueMax                  0.20\n",
      "!\n",
      "ReductionMethod                        diagonalization\n",
      "!\n",
      "AtomDistanceMin[angstrom]              0.68793\n",
      "!\n",
      "RateOutput                             rate.out\n",
      "!\n",
      "WellExtension      0.0010\n",
      "!\n",
      "ExtensionCorrection      0.6\n",
      "!\n",
      "!\n",
      "!===================================================\n",
      "!  BEGIN MASTER EQUATION MODEL\n",
      "!===================================================\n",
      "!\n",
      "Model\n",
      "!\n",
      "GroundEnergyShiftMax[kcal/mol]  10\n",
      "!\n",
      "UseShortNames\n",
      "!\n",
      "!---------------------------------------------------\n",
      "!  ENERGY TRANSFER SECTION\n",
      "!---------------------------------------------------\n",
      "  EnergyRelaxation\n",
      "    Exponential\n",
      "       Factor[1/cm]                     387.861\n",
      "       Power                            0.590\n",
      "       ExponentCutoff                   15.000\n",
      "  End  ! EneRelax\n",
      "  CollisionFrequency\n",
      "    LennardJones\n",
      "       Epsilons[1/cm]                   186.105    186.105\n",
      "       Sigmas[angstrom]                 4.542      4.542\n",
      "       Masses[amu]                      68.063     39.962\n",
      "  End  ! CollidFreq\n",
      "!---------------------------------------------------\n",
      "!  REACTION CHANNELS SECTION\n",
      "!---------------------------------------------------\n"
     ]
    }
   ],
   "source": [
    "print(surf.mess_header)"
   ]
  }
 ],
 "metadata": {
  "kernelspec": {
   "display_name": "dev",
   "language": "python",
   "name": "python3"
  },
  "language_info": {
   "codemirror_mode": {
    "name": "ipython",
    "version": 3
   },
   "file_extension": ".py",
   "mimetype": "text/x-python",
   "name": "python",
   "nbconvert_exporter": "python",
   "pygments_lexer": "ipython3",
   "version": "3.13.7"
  }
 },
 "nbformat": 4,
 "nbformat_minor": 5
}
