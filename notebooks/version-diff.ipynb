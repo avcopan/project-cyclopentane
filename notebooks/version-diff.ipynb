{
 "cells": [
  {
   "cell_type": "code",
   "execution_count": 1,
   "metadata": {},
   "outputs": [],
   "source": [
    "from pathlib import Path\n",
    "\n",
    "import util\n",
    "\n",
    "import automech\n",
    "\n",
    "root_path = Path(\"..\")\n",
    "data_path = util.data_path(root_path)"
   ]
  },
  {
   "cell_type": "code",
   "execution_count": 5,
   "metadata": {},
   "outputs": [
    {
     "data": {
      "text/plain": [
       "Mechanism(\n",
       "  reactions=DataFrame(\n",
       "    shape: (6, 11)\n",
       "    ┌──────────────┬──────────────┬───────────┬─────────────┬───┬─────────────┬─────┬────────┬─────────┐\n",
       "    │ reactants    ┆ products     ┆ formula   ┆ orig_reacta ┆ … ┆ amchi       ┆ pes ┆ subpes ┆ channel │\n",
       "    │ ---          ┆ ---          ┆ ---       ┆ nts         ┆   ┆ ---         ┆ --- ┆ ---    ┆ ---     │\n",
       "    │ list[str]    ┆ list[str]    ┆ struct[3] ┆ ---         ┆   ┆ str         ┆ i64 ┆ i64    ┆ i64     │\n",
       "    │              ┆              ┆           ┆ list[str]   ┆   ┆             ┆     ┆        ┆         │\n",
       "    ╞══════════════╪══════════════╪═══════════╪═════════════╪═══╪═════════════╪═════╪════════╪═════════╡\n",
       "    │ [\"CPTOJ(880) ┆ [\"C5H9O(852) ┆ {5,9,1}   ┆ [\"CPTOJ(880 ┆ … ┆ AMChI=1/C5H ┆ 1   ┆ 1      ┆ 14      │\n",
       "    │ \"]           ┆ r0\"]         ┆           ┆ )\"]         ┆   ┆ 9O/c1-2-3-4 ┆     ┆        ┆         │\n",
       "    │              ┆              ┆           ┆             ┆   ┆ -5(1)6-7…   ┆     ┆        ┆         │\n",
       "    │ [\"CPTOJ(880) ┆ [\"C5H9O(852) ┆ {5,9,1}   ┆ [\"CPTOJ(880 ┆ … ┆ AMChI=1/C5H ┆ 1   ┆ 1      ┆ 15      │\n",
       "    │ \"]           ┆ r1\"]         ┆           ┆ )\"]         ┆   ┆ 9O/c1-2-3-4 ┆     ┆        ┆         │\n",
       "    │              ┆              ┆           ┆             ┆   ┆ -5(1)6-7…   ┆     ┆        ┆         │\n",
       "    │ [\"S(1248)r0\" ┆ [\"CPTOJ(880) ┆ {5,9,1}   ┆ [\"S(1248)\"] ┆ … ┆ AMChI=1/C5H ┆ 1   ┆ 1      ┆ 17      │\n",
       "    │ ]            ┆ \"]           ┆           ┆             ┆   ┆ 9O/c1-2-4-5 ┆     ┆        ┆         │\n",
       "    │              ┆              ┆           ┆             ┆   ┆ (6-7-1)3…   ┆     ┆        ┆         │\n",
       "    │ [\"S(1248)r0\" ┆ [\"S(1247)\"]  ┆ {5,9,1}   ┆ [\"S(1248)\"] ┆ … ┆ AMChI=1/C5H ┆ 1   ┆ 1      ┆ 18      │\n",
       "    │ ]            ┆              ┆           ┆             ┆   ┆ 9O/c6-5-3-1 ┆     ┆        ┆         │\n",
       "    │              ┆              ┆           ┆             ┆   ┆ (7-5)2-4…   ┆     ┆        ┆         │\n",
       "    │ [\"S(1248)r1\" ┆ [\"CPTOJ(880) ┆ {5,9,1}   ┆ [\"S(1248)\"] ┆ … ┆ AMChI=1/C5H ┆ 1   ┆ 1      ┆ 19      │\n",
       "    │ ]            ┆ \"]           ┆           ┆             ┆   ┆ 9O/c1-2-4-5 ┆     ┆        ┆         │\n",
       "    │              ┆              ┆           ┆             ┆   ┆ (6-7-1)3…   ┆     ┆        ┆         │\n",
       "    │ [\"S(1248)r1\" ┆ [\"S(1247)\"]  ┆ {5,9,1}   ┆ [\"S(1248)\"] ┆ … ┆ AMChI=1/C5H ┆ 1   ┆ 1      ┆ 20      │\n",
       "    │ ]            ┆              ┆           ┆             ┆   ┆ 9O/c6-5-3-1 ┆     ┆        ┆         │\n",
       "    │              ┆              ┆           ┆             ┆   ┆ (7-5)2-4…   ┆     ┆        ┆         │\n",
       "    └──────────────┴──────────────┴───────────┴─────────────┴───┴─────────────┴─────┴────────┴─────────┘\n",
       "  ),\n",
       "  species=DataFrame(\n",
       "    shape: (6, 11)\n",
       "    ┌────────────┬────────────┬────────────┬──────┬───┬────────────┬───────────┬───────────┬───────────┐\n",
       "    │ name       ┆ smiles     ┆ amchi      ┆ spin ┆ … ┆ orig_smile ┆ orig_amch ┆ thermo_st ┆ intersect │\n",
       "    │ ---        ┆ ---        ┆ ---        ┆ ---  ┆   ┆ s          ┆ i         ┆ ring      ┆ ion       │\n",
       "    │ str        ┆ str        ┆ str        ┆ i64  ┆   ┆ ---        ┆ ---       ┆ ---       ┆ ---       │\n",
       "    │            ┆            ┆            ┆      ┆   ┆ str        ┆ str       ┆ str       ┆ bool      │\n",
       "    ╞════════════╪════════════╪════════════╪══════╪═══╪════════════╪═══════════╪═══════════╪═══════════╡\n",
       "    │ C5H9O(852) ┆ O[C@H]1[CH ┆ AMChI=1/C5 ┆ 1    ┆ … ┆ OC1CCC[CH] ┆ AMChI=1/C ┆ C   5H    ┆ true      │\n",
       "    │ r0         ┆ ]CCC1      ┆ H9O/c6-5-1 ┆      ┆   ┆ 1          ┆ 5H9O/c6-5 ┆ 9O   1    ┆           │\n",
       "    │            ┆            ┆ -2-3-4-5/h ┆      ┆   ┆            ┆ -1-2-3-4- ┆ G         ┆           │\n",
       "    │            ┆            ┆ …          ┆      ┆   ┆            ┆ 5/h…      ┆ 298.00…   ┆           │\n",
       "    │ C5H9O(852) ┆ O[C@@H]1[C ┆ AMChI=1/C5 ┆ 1    ┆ … ┆ OC1CCC[CH] ┆ AMChI=1/C ┆ C   5H    ┆ true      │\n",
       "    │ r1         ┆ H]CCC1     ┆ H9O/c6-5-1 ┆      ┆   ┆ 1          ┆ 5H9O/c6-5 ┆ 9O   1    ┆           │\n",
       "    │            ┆            ┆ -2-3-4-5/h ┆      ┆   ┆            ┆ -1-2-3-4- ┆ G         ┆           │\n",
       "    │            ┆            ┆ …          ┆      ┆   ┆            ┆ 5/h…      ┆ 298.00…   ┆           │\n",
       "    │ S(1248)r0  ┆ O[C@H]1C[C ┆ AMChI=1/C5 ┆ 1    ┆ … ┆ OC1CC[CH]C ┆ AMChI=1/C ┆ C   5H    ┆ true      │\n",
       "    │            ┆ H]CC1      ┆ H9O/c6-5-3 ┆      ┆   ┆ 1          ┆ 5H9O/c6-5 ┆ 9O   1    ┆           │\n",
       "    │            ┆            ┆ -1-2-4-5/h ┆      ┆   ┆            ┆ -3-1-2-4- ┆ G         ┆           │\n",
       "    │            ┆            ┆ …          ┆      ┆   ┆            ┆ 5/h…      ┆ 100.00…   ┆           │\n",
       "    │ S(1248)r1  ┆ O[C@@H]1C[ ┆ AMChI=1/C5 ┆ 1    ┆ … ┆ OC1CC[CH]C ┆ AMChI=1/C ┆ C   5H    ┆ true      │\n",
       "    │            ┆ CH]CC1     ┆ H9O/c6-5-3 ┆      ┆   ┆ 1          ┆ 5H9O/c6-5 ┆ 9O   1    ┆           │\n",
       "    │            ┆            ┆ -1-2-4-5/h ┆      ┆   ┆            ┆ -3-1-2-4- ┆ G         ┆           │\n",
       "    │            ┆            ┆ …          ┆      ┆   ┆            ┆ 5/h…      ┆ 100.00…   ┆           │\n",
       "    │ S(1247)    ┆ O[C]1CCCC1 ┆ AMChI=1/C5 ┆ 1    ┆ … ┆ O[C]1CCCC1 ┆ AMChI=1/C ┆ C   5H    ┆ true      │\n",
       "    │            ┆            ┆ H9O/c6-5-3 ┆      ┆   ┆            ┆ 5H9O/c6-5 ┆ 9O   1    ┆           │\n",
       "    │            ┆            ┆ -1-2-4-5/h ┆      ┆   ┆            ┆ -3-1-2-4- ┆ G         ┆           │\n",
       "    │            ┆            ┆ …          ┆      ┆   ┆            ┆ 5/h…      ┆ 100.00…   ┆           │\n",
       "    │ CPTOJ(880) ┆ [O]C1CCCC1 ┆ AMChI=1/C5 ┆ 1    ┆ … ┆ [O]C1CCCC1 ┆ AMChI=1/C ┆ C   5H    ┆ true      │\n",
       "    │            ┆            ┆ H9O/c6-5-3 ┆      ┆   ┆            ┆ 5H9O/c6-5 ┆ 9O   1    ┆           │\n",
       "    │            ┆            ┆ -1-2-4-5/h ┆      ┆   ┆            ┆ -3-1-2-4- ┆ G         ┆           │\n",
       "    │            ┆            ┆ …          ┆      ┆   ┆            ┆ 5/h…      ┆ 300.00…   ┆           │\n",
       "    └────────────┴────────────┴────────────┴──────┴───┴────────────┴───────────┴───────────┴───────────┘\n",
       "  ),\n",
       "  rate_units=('KCAL/MOLE', 'MOLES'),\n",
       "  thermo_temps=None,\n",
       ")"
      ]
     },
     "execution_count": 5,
     "metadata": {},
     "output_type": "execute_result"
    }
   ],
   "source": [
    "tag = \"A_rh-oh_p2v2\"\n",
    "tag0 = tag.replace(\"v2\", \"v1\")\n",
    "\n",
    "mech = automech.io.read(data_path / f\"{tag}.json\")\n",
    "mech0 = automech.io.read(data_path / f\"{tag0}.json\")\n",
    "\n",
    "diff = automech.difference(mech, mech0)\n",
    "diff"
   ]
  },
  {
   "cell_type": "code",
   "execution_count": 7,
   "metadata": {},
   "outputs": [
    {
     "name": "stdout",
     "output_type": "stream",
     "text": [
      "pes: 1\n",
      "subpes: 1\n",
      "channel: 14\n",
      "Species `name`=>`smiles` translation\n",
      "  reactants = ('[O]C1CCCC1',)\n",
      "  products = ('O[C@H]1[CH]CCC1',)\n"
     ]
    },
    {
     "data": {
      "application/vnd.jupyter.widget-view+json": {
       "model_id": "c15528054fea4bb391ae16dccba7567e",
       "version_major": 2,
       "version_minor": 0
      },
      "text/plain": [
       "HBox(children=(Image(value=b\"<?xml version='1.0' encoding='iso-8859-1...\", format='svg+xml', height='300', wid…"
      ]
     },
     "metadata": {},
     "output_type": "display_data"
    },
    {
     "name": "stdout",
     "output_type": "stream",
     "text": [
      "pes: 1\n",
      "subpes: 1\n",
      "channel: 15\n",
      "Species `name`=>`smiles` translation\n",
      "  reactants = ('[O]C1CCCC1',)\n",
      "  products = ('O[C@@H]1[CH]CCC1',)\n"
     ]
    },
    {
     "data": {
      "application/vnd.jupyter.widget-view+json": {
       "model_id": "23d1cf2268be42279499ca60c811a02c",
       "version_major": 2,
       "version_minor": 0
      },
      "text/plain": [
       "HBox(children=(Image(value=b\"<?xml version='1.0' encoding='iso-8859-1...\", format='svg+xml', height='300', wid…"
      ]
     },
     "metadata": {},
     "output_type": "display_data"
    },
    {
     "name": "stdout",
     "output_type": "stream",
     "text": [
      "pes: 1\n",
      "subpes: 1\n",
      "channel: 17\n",
      "Species `name`=>`smiles` translation\n",
      "  reactants = ('O[C@H]1C[CH]CC1',)\n",
      "  products = ('[O]C1CCCC1',)\n"
     ]
    },
    {
     "data": {
      "application/vnd.jupyter.widget-view+json": {
       "model_id": "5719b33d243547b79e36742ca20d9672",
       "version_major": 2,
       "version_minor": 0
      },
      "text/plain": [
       "HBox(children=(Image(value=b\"<?xml version='1.0' encoding='iso-8859-1...\", format='svg+xml', height='300', wid…"
      ]
     },
     "metadata": {},
     "output_type": "display_data"
    },
    {
     "name": "stdout",
     "output_type": "stream",
     "text": [
      "pes: 1\n",
      "subpes: 1\n",
      "channel: 18\n",
      "Species `name`=>`smiles` translation\n",
      "  reactants = ('O[C@H]1C[CH]CC1',)\n",
      "  products = ('O[C]1CCCC1',)\n"
     ]
    },
    {
     "data": {
      "application/vnd.jupyter.widget-view+json": {
       "model_id": "47744bbc28fb4787b2289abacd89aa15",
       "version_major": 2,
       "version_minor": 0
      },
      "text/plain": [
       "HBox(children=(Image(value=b\"<?xml version='1.0' encoding='iso-8859-1...\", format='svg+xml', height='300', wid…"
      ]
     },
     "metadata": {},
     "output_type": "display_data"
    },
    {
     "name": "stdout",
     "output_type": "stream",
     "text": [
      "pes: 1\n",
      "subpes: 1\n",
      "channel: 19\n",
      "Species `name`=>`smiles` translation\n",
      "  reactants = ('O[C@@H]1C[CH]CC1',)\n",
      "  products = ('[O]C1CCCC1',)\n"
     ]
    },
    {
     "data": {
      "application/vnd.jupyter.widget-view+json": {
       "model_id": "73b2b2811bdb411e88c4bb3173276810",
       "version_major": 2,
       "version_minor": 0
      },
      "text/plain": [
       "HBox(children=(Image(value=b\"<?xml version='1.0' encoding='iso-8859-1...\", format='svg+xml', height='300', wid…"
      ]
     },
     "metadata": {},
     "output_type": "display_data"
    },
    {
     "name": "stdout",
     "output_type": "stream",
     "text": [
      "pes: 1\n",
      "subpes: 1\n",
      "channel: 20\n",
      "Species `name`=>`smiles` translation\n",
      "  reactants = ('O[C@@H]1C[CH]CC1',)\n",
      "  products = ('O[C]1CCCC1',)\n"
     ]
    },
    {
     "data": {
      "application/vnd.jupyter.widget-view+json": {
       "model_id": "1e89933faf394c4abd39ca64516dbf7b",
       "version_major": 2,
       "version_minor": 0
      },
      "text/plain": [
       "HBox(children=(Image(value=b\"<?xml version='1.0' encoding='iso-8859-1...\", format='svg+xml', height='300', wid…"
      ]
     },
     "metadata": {},
     "output_type": "display_data"
    }
   ],
   "source": [
    "automech.display_reactions(diff, keys=(\"pes\", \"subpes\", \"channel\"))"
   ]
  },
  {
   "cell_type": "code",
   "execution_count": null,
   "metadata": {},
   "outputs": [],
   "source": []
  }
 ],
 "metadata": {
  "kernelspec": {
   "display_name": "proto",
   "language": "python",
   "name": "python3"
  },
  "language_info": {
   "codemirror_mode": {
    "name": "ipython",
    "version": 3
   },
   "file_extension": ".py",
   "mimetype": "text/x-python",
   "name": "python",
   "nbconvert_exporter": "python",
   "pygments_lexer": "ipython3",
   "version": "3.11.11"
  }
 },
 "nbformat": 4,
 "nbformat_minor": 2
}
