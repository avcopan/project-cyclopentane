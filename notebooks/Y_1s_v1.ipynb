{
 "cells": [
  {
   "cell_type": "code",
   "execution_count": 1,
   "metadata": {},
   "outputs": [],
   "source": [
    "from pathlib import Path\n",
    "\n",
    "import util\n",
    "from util import p_, workflow\n",
    "\n",
    "import automech\n",
    "\n",
    "file = util.notebook_file() if util.is_notebook() else __file__\n",
    "tag = util.file_tag(file)\n",
    "root_path = Path(\"..\")\n",
    "par_mech = workflow.read_parent_mechanism(root_path=root_path)"
   ]
  },
  {
   "cell_type": "code",
   "execution_count": 2,
   "metadata": {},
   "outputs": [],
   "source": [
    "# Generate submechanism\n",
    "tag0 = util.previous_tag(tag)\n",
    "mech0 = automech.io.read(p_.generated_mechanism(tag0, \"json\", path=p_.data(root_path)))\n",
    "\n",
    "sub_tags = [\n",
    "    \"D_r-o2_1e_v1\",\n",
    "]\n",
    "sub_paths = [p_.generated_mechanism(t, \"json\", p_.data(root_path)) for t in sub_tags]\n",
    "sub_mechs = [automech.io.read(p) for p in sub_paths]\n",
    "mech = automech.combine_all(sub_mechs)\n",
    "mech = automech.without_reactions(mech)\n",
    "mech = automech.species_difference(mech, mech0)\n",
    "automech.display(mech)"
   ]
  },
  {
   "cell_type": "code",
   "execution_count": 3,
   "metadata": {},
   "outputs": [
    {
     "name": "stdout",
     "output_type": "stream",
     "text": [
      "\n",
      "Finalizing build for...\n",
      "reactions=shape: (0, 5)\n",
      "┌───────────┬───────────┬───────────┬────────────┬────────────┐\n",
      "│ reactants ┆ products  ┆ formula   ┆ reversible ┆ rate       │\n",
      "│ ---       ┆ ---       ┆ ---       ┆ ---        ┆ ---        │\n",
      "│ list[str] ┆ list[str] ┆ struct[3] ┆ bool       ┆ struct[18] │\n",
      "╞═══════════╪═══════════╪═══════════╪════════════╪════════════╡\n",
      "└───────────┴───────────┴───────────┴────────────┴────────────┘ species=shape: (2, 7)\n",
      "┌─────────┬───────────────┬──────────────────┬──────┬────────┬──────────────────┬──────────────────┐\n",
      "│ name    ┆ smiles        ┆ amchi            ┆ spin ┆ charge ┆ formula          ┆ therm            │\n",
      "│ ---     ┆ ---           ┆ ---              ┆ ---  ┆ ---    ┆ ---              ┆ ---              │\n",
      "│ str     ┆ str           ┆ str              ┆ i64  ┆ i64    ┆ struct[7]        ┆ struct[8]        │\n",
      "╞═════════╪═══════════════╪══════════════════╪══════╪════════╪══════════════════╪══════════════════╡\n",
      "│ S(1210) ┆ OOC1CC=C[CH]1 ┆ AMChI=1/C5H7O2/c ┆ 1    ┆ 0      ┆ {7,2,null,null,n ┆ {100.0,5000.0,{n │\n",
      "│         ┆               ┆ 6-7-5-3-1-2-4-…  ┆      ┆        ┆ ull,5,null}      ┆ ull,null,7,2,n…  │\n",
      "│ S(1209) ┆ OOC1[CH]CC=C1 ┆ AMChI=1/C5H7O2/c ┆ 1    ┆ 0      ┆ {7,2,null,null,n ┆ {100.0,5000.0,{n │\n",
      "│         ┆               ┆ 6-7-5-2-1-4-3-…  ┆      ┆        ┆ ull,5,null}      ┆ ull,null,7,2,n…  │\n",
      "└─────────┴───────────────┴──────────────────┴──────┴────────┴──────────────────┴──────────────────┘\n",
      "\n",
      "Expanding stereochemistry...\n"
     ]
    },
    {
     "data": {
      "application/vnd.jupyter.widget-view+json": {
       "model_id": "44dd6699bc8740bea53c9a7a199c0b50",
       "version_major": 2,
       "version_minor": 0
      },
      "text/plain": [
       "  0%|          | 0/2 [00:00<?, ?it/s]"
      ]
     },
     "metadata": {},
     "output_type": "display_data"
    },
    {
     "data": {
      "application/vnd.jupyter.widget-view+json": {
       "model_id": "9bb9bed731914d899835a433086f7ea0",
       "version_major": 2,
       "version_minor": 0
      },
      "text/plain": [
       "  0%|          | 0/4 [00:00<?, ?it/s]"
      ]
     },
     "metadata": {},
     "output_type": "display_data"
    },
    {
     "name": "stdout",
     "output_type": "stream",
     "text": [
      "\n",
      "Writing mechanism...\n",
      "../data/Y_1s_v1_gen.json\n",
      "../data/Y_1s_v1_ste.json\n",
      "../data/mechanalyzer/Y_1s_v1_ste.dat\n",
      "../data/mechanalyzer/Y_1s_v1_ste.csv\n"
     ]
    },
    {
     "data": {
      "application/vnd.jupyter.widget-view+json": {
       "model_id": "a2635a0cc0e349d59da0919fbb50f516",
       "version_major": 2,
       "version_minor": 0
      },
      "text/plain": [
       "  0%|          | 0/2 [00:00<?, ?it/s]"
      ]
     },
     "metadata": {},
     "output_type": "display_data"
    },
    {
     "data": {
      "application/vnd.jupyter.widget-view+json": {
       "model_id": "2137f9c17efb418487db81145000900f",
       "version_major": 2,
       "version_minor": 0
      },
      "text/plain": [
       "  0%|          | 0/2 [00:00<?, ?it/s]"
      ]
     },
     "metadata": {},
     "output_type": "display_data"
    },
    {
     "data": {
      "application/vnd.jupyter.widget-view+json": {
       "model_id": "15280463c0074b6e9a5c09ce2d352d09",
       "version_major": 2,
       "version_minor": 0
      },
      "text/plain": [
       "  0%|          | 0/2 [00:00<?, ?it/s]"
      ]
     },
     "metadata": {},
     "output_type": "display_data"
    },
    {
     "name": "stdout",
     "output_type": "stream",
     "text": [
      "\n",
      "Stereoexpansion errors:\n"
     ]
    }
   ],
   "source": [
    "# Prepare calculation\n",
    "workflow.prepare_calculation(mech=mech, enant=False, tag=tag, root_path=root_path)"
   ]
  },
  {
   "cell_type": "code",
   "execution_count": 4,
   "metadata": {},
   "outputs": [],
   "source": [
    "# # Prepare simulation\n",
    "# workflow.prepare_simulation(tag=tag, root_path=root_path)\n",
    "# workflow.prepare_simulation_species(tag=tag, root_path=root_path)"
   ]
  },
  {
   "cell_type": "code",
   "execution_count": 5,
   "metadata": {},
   "outputs": [],
   "source": [
    "# # Check rates\n",
    "# workflow.plot_rates(tag=tag, root_path=root_path)"
   ]
  },
  {
   "cell_type": "code",
   "execution_count": 6,
   "metadata": {},
   "outputs": [],
   "source": [
    "# # Plot simulation\n",
    "# chart_dct = workflow.plot_simulation(\n",
    "#     tag=tag,\n",
    "#     x_col=\"O2_molecules\",\n",
    "#     root_path=root_path,\n",
    "#     line_source_=[\"Hill\", \"Lokachari\"],\n",
    "#     point_source=\"Experiment\",\n",
    "#     control=False,\n",
    "# )\n",
    "# mech = automech.io.read(\n",
    "#     p_.full_calculated_mechanism(tag, \"json\", path=p_.data(root_path))\n",
    "# )\n",
    "# for name, chart in chart_dct.items():\n",
    "#     automech.display_species(mech, [name])\n",
    "#     chart.show()"
   ]
  },
  {
   "cell_type": "code",
   "execution_count": 7,
   "metadata": {},
   "outputs": [],
   "source": [
    "# # Check TS\n",
    "# from mechdriver.subtasks import display\n",
    "\n",
    "# chan = \"2: 5\"\n",
    "\n",
    "# #   - Read in expanded mechanism\n",
    "# mech_path = p_.mechanism(tag, ext=\"json\", path=p_.data(root_path))\n",
    "# mech = automech.io.read(mech_path)\n",
    "\n",
    "# #   - Display the reaction\n",
    "# automech.display_reactions(mech, chans=[chan])"
   ]
  },
  {
   "cell_type": "code",
   "execution_count": 8,
   "metadata": {},
   "outputs": [],
   "source": [
    "# #   - Display the TS mode\n",
    "# calc_path = p_.calc(root_path, tag)\n",
    "# display(\"conf_opt\", chan, path=calc_path)"
   ]
  },
  {
   "cell_type": "code",
   "execution_count": 9,
   "metadata": {},
   "outputs": [],
   "source": [
    "# #   - Display the TS mode\n",
    "# calc_path = p_.calc(root_path, tag)\n",
    "# display(\"find_ts\", chan, path=calc_path)"
   ]
  }
 ],
 "metadata": {
  "kernelspec": {
   "display_name": "proto",
   "language": "python",
   "name": "python3"
  },
  "language_info": {
   "codemirror_mode": {
    "name": "ipython",
    "version": 3
   },
   "file_extension": ".py",
   "mimetype": "text/x-python",
   "name": "python",
   "nbconvert_exporter": "python",
   "pygments_lexer": "ipython3",
   "version": "3.11.12"
  }
 },
 "nbformat": 4,
 "nbformat_minor": 2
}
