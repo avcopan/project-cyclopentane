{
 "cells": [
  {
   "cell_type": "code",
   "execution_count": 1,
   "metadata": {},
   "outputs": [
    {
     "ename": "ImportError",
     "evalue": "libRDKitRDBoost.so.1: cannot open shared object file: No such file or directory",
     "output_type": "error",
     "traceback": [
      "\u001b[0;31m---------------------------------------------------------------------------\u001b[0m",
      "\u001b[0;31mImportError\u001b[0m                               Traceback (most recent call last)",
      "Cell \u001b[0;32mIn[1], line 4\u001b[0m\n\u001b[1;32m      1\u001b[0m \u001b[38;5;28;01mfrom\u001b[39;00m\u001b[38;5;250m \u001b[39m\u001b[38;5;21;01mpathlib\u001b[39;00m\u001b[38;5;250m \u001b[39m\u001b[38;5;28;01mimport\u001b[39;00m Path\n\u001b[1;32m      3\u001b[0m \u001b[38;5;28;01mimport\u001b[39;00m\u001b[38;5;250m \u001b[39m\u001b[38;5;21;01mutil\u001b[39;00m\n\u001b[0;32m----> 4\u001b[0m \u001b[38;5;28;01mfrom\u001b[39;00m\u001b[38;5;250m \u001b[39m\u001b[38;5;21;01mutil\u001b[39;00m\u001b[38;5;250m \u001b[39m\u001b[38;5;28;01mimport\u001b[39;00m p_, workflow\n\u001b[1;32m      6\u001b[0m \u001b[38;5;28;01mimport\u001b[39;00m\u001b[38;5;250m \u001b[39m\u001b[38;5;21;01mautomech\u001b[39;00m\n\u001b[1;32m      8\u001b[0m file \u001b[38;5;241m=\u001b[39m util\u001b[38;5;241m.\u001b[39mnotebook_file() \u001b[38;5;28;01mif\u001b[39;00m util\u001b[38;5;241m.\u001b[39mis_notebook() \u001b[38;5;28;01melse\u001b[39;00m \u001b[38;5;18m__file__\u001b[39m\n",
      "File \u001b[0;32m/lcrc/project/PACC/copan/amech-dev/work/project-cyclopentane/notebooks/util/workflow.py:15\u001b[0m\n\u001b[1;32m     12\u001b[0m \u001b[38;5;28;01mimport\u001b[39;00m\u001b[38;5;250m \u001b[39m\u001b[38;5;21;01mpolars\u001b[39;00m\n\u001b[1;32m     13\u001b[0m \u001b[38;5;28;01mfrom\u001b[39;00m\u001b[38;5;250m \u001b[39m\u001b[38;5;21;01mcantera\u001b[39;00m\u001b[38;5;21;01m.\u001b[39;00m\u001b[38;5;21;01mck2yaml\u001b[39;00m\u001b[38;5;250m \u001b[39m\u001b[38;5;28;01mimport\u001b[39;00m Parser\n\u001b[0;32m---> 15\u001b[0m \u001b[38;5;28;01mimport\u001b[39;00m\u001b[38;5;250m \u001b[39m\u001b[38;5;21;01mautomech\u001b[39;00m\n\u001b[1;32m     16\u001b[0m \u001b[38;5;28;01mfrom\u001b[39;00m\u001b[38;5;250m \u001b[39m\u001b[38;5;21;01mautomech\u001b[39;00m\u001b[38;5;250m \u001b[39m\u001b[38;5;28;01mimport\u001b[39;00m Mechanism\n\u001b[1;32m     17\u001b[0m \u001b[38;5;28;01mfrom\u001b[39;00m\u001b[38;5;250m \u001b[39m\u001b[38;5;21;01mautomech\u001b[39;00m\u001b[38;5;21;01m.\u001b[39;00m\u001b[38;5;21;01mspecies\u001b[39;00m\u001b[38;5;250m \u001b[39m\u001b[38;5;28;01mimport\u001b[39;00m Species\n",
      "File \u001b[0;32m/lcrc/project/PACC/copan/amech-dev/src/automech/__init__.py:3\u001b[0m\n\u001b[1;32m      1\u001b[0m \u001b[38;5;124;03m\"\"\"Data processing at the level of whole mechanisms.\"\"\"\u001b[39;00m\n\u001b[0;32m----> 3\u001b[0m \u001b[38;5;28;01mfrom\u001b[39;00m\u001b[38;5;250m \u001b[39m\u001b[38;5;21;01m.\u001b[39;00m\u001b[38;5;250m \u001b[39m\u001b[38;5;28;01mimport\u001b[39;00m io, net, reaction, species, util\n\u001b[1;32m      4\u001b[0m \u001b[38;5;28;01mfrom\u001b[39;00m\u001b[38;5;250m \u001b[39m\u001b[38;5;21;01m.\u001b[39;00m\u001b[38;5;21;01m_mech\u001b[39;00m\u001b[38;5;250m \u001b[39m\u001b[38;5;28;01mimport\u001b[39;00m (\n\u001b[1;32m      5\u001b[0m     Mechanism,\n\u001b[1;32m      6\u001b[0m     are_equivalent,\n\u001b[0;32m   (...)\u001b[0m\n\u001b[1;32m     35\u001b[0m     without_unused_species,\n\u001b[1;32m     36\u001b[0m )\n\u001b[1;32m     38\u001b[0m __all__ \u001b[38;5;241m=\u001b[39m [\n\u001b[1;32m     39\u001b[0m     \u001b[38;5;66;03m# types\u001b[39;00m\n\u001b[1;32m     40\u001b[0m     \u001b[38;5;124m\"\u001b[39m\u001b[38;5;124mMechanism\u001b[39m\u001b[38;5;124m\"\u001b[39m,\n\u001b[0;32m   (...)\u001b[0m\n\u001b[1;32m     88\u001b[0m     \u001b[38;5;124m\"\u001b[39m\u001b[38;5;124mspecies\u001b[39m\u001b[38;5;124m\"\u001b[39m,\n\u001b[1;32m     89\u001b[0m ]\n",
      "File \u001b[0;32m/lcrc/project/PACC/copan/amech-dev/src/automech/io/__init__.py:3\u001b[0m\n\u001b[1;32m      1\u001b[0m \u001b[38;5;124;03m\"\"\"Mechanism I/O in different formats.\"\"\"\u001b[39;00m\n\u001b[0;32m----> 3\u001b[0m \u001b[38;5;28;01mfrom\u001b[39;00m\u001b[38;5;250m \u001b[39m\u001b[38;5;21;01m.\u001b[39;00m\u001b[38;5;250m \u001b[39m\u001b[38;5;28;01mimport\u001b[39;00m chemkin, mechanalyzer, rmg\n\u001b[1;32m      4\u001b[0m \u001b[38;5;28;01mfrom\u001b[39;00m\u001b[38;5;250m \u001b[39m\u001b[38;5;21;01m.\u001b[39;00m\u001b[38;5;21;01m_io\u001b[39;00m\u001b[38;5;250m \u001b[39m\u001b[38;5;28;01mimport\u001b[39;00m read, write\n\u001b[1;32m      6\u001b[0m __all__ \u001b[38;5;241m=\u001b[39m [\u001b[38;5;124m\"\u001b[39m\u001b[38;5;124mchemkin\u001b[39m\u001b[38;5;124m\"\u001b[39m, \u001b[38;5;124m\"\u001b[39m\u001b[38;5;124mmechanalyzer\u001b[39m\u001b[38;5;124m\"\u001b[39m, \u001b[38;5;124m\"\u001b[39m\u001b[38;5;124mrmg\u001b[39m\u001b[38;5;124m\"\u001b[39m, \u001b[38;5;124m\"\u001b[39m\u001b[38;5;124mread\u001b[39m\u001b[38;5;124m\"\u001b[39m, \u001b[38;5;124m\"\u001b[39m\u001b[38;5;124mwrite\u001b[39m\u001b[38;5;124m\"\u001b[39m]\n",
      "File \u001b[0;32m/lcrc/project/PACC/copan/amech-dev/src/automech/io/chemkin/__init__.py:3\u001b[0m\n\u001b[1;32m      1\u001b[0m \u001b[38;5;124;03m\"\"\"Functions for reading and writing CHEMKIN-formatted files.\"\"\"\u001b[39;00m\n\u001b[0;32m----> 3\u001b[0m \u001b[38;5;28;01mfrom\u001b[39;00m\u001b[38;5;250m \u001b[39m\u001b[38;5;21;01m.\u001b[39;00m\u001b[38;5;250m \u001b[39m\u001b[38;5;28;01mimport\u001b[39;00m read, update, write\n\u001b[1;32m      5\u001b[0m __all__ \u001b[38;5;241m=\u001b[39m [\u001b[38;5;124m\"\u001b[39m\u001b[38;5;124mread\u001b[39m\u001b[38;5;124m\"\u001b[39m, \u001b[38;5;124m\"\u001b[39m\u001b[38;5;124mwrite\u001b[39m\u001b[38;5;124m\"\u001b[39m, \u001b[38;5;124m\"\u001b[39m\u001b[38;5;124mupdate\u001b[39m\u001b[38;5;124m\"\u001b[39m]\n",
      "File \u001b[0;32m/lcrc/project/PACC/copan/amech-dev/src/automech/io/chemkin/read.py:15\u001b[0m\n\u001b[1;32m     12\u001b[0m \u001b[38;5;28;01mfrom\u001b[39;00m\u001b[38;5;250m \u001b[39m\u001b[38;5;21;01mautochem\u001b[39;00m\u001b[38;5;250m \u001b[39m\u001b[38;5;28;01mimport\u001b[39;00m unit_\n\u001b[1;32m     13\u001b[0m \u001b[38;5;28;01mfrom\u001b[39;00m\u001b[38;5;250m \u001b[39m\u001b[38;5;21;01mautochem\u001b[39;00m\u001b[38;5;21;01m.\u001b[39;00m\u001b[38;5;21;01munit_\u001b[39;00m\u001b[38;5;250m \u001b[39m\u001b[38;5;28;01mimport\u001b[39;00m Units\n\u001b[0;32m---> 15\u001b[0m \u001b[38;5;28;01mfrom\u001b[39;00m\u001b[38;5;250m \u001b[39m\u001b[38;5;21;01m.\u001b[39;00m\u001b[38;5;21;01m.\u001b[39;00m\u001b[38;5;21;01m.\u001b[39;00m\u001b[38;5;250m \u001b[39m\u001b[38;5;28;01mimport\u001b[39;00m reaction\n\u001b[1;32m     16\u001b[0m \u001b[38;5;28;01mfrom\u001b[39;00m\u001b[38;5;250m \u001b[39m\u001b[38;5;21;01m.\u001b[39;00m\u001b[38;5;21;01m.\u001b[39;00m\u001b[38;5;21;01m.\u001b[39;00m\u001b[38;5;250m \u001b[39m\u001b[38;5;28;01mimport\u001b[39;00m species \u001b[38;5;28;01mas\u001b[39;00m m_species\n\u001b[1;32m     17\u001b[0m \u001b[38;5;28;01mfrom\u001b[39;00m\u001b[38;5;250m \u001b[39m\u001b[38;5;21;01m.\u001b[39;00m\u001b[38;5;21;01m.\u001b[39;00m\u001b[38;5;21;01m.\u001b[39;00m\u001b[38;5;21;01m_mech\u001b[39;00m\u001b[38;5;250m \u001b[39m\u001b[38;5;28;01mimport\u001b[39;00m Mechanism\n",
      "File \u001b[0;32m/lcrc/project/PACC/copan/amech-dev/src/automech/reaction.py:8\u001b[0m\n\u001b[1;32m      5\u001b[0m \u001b[38;5;28;01mfrom\u001b[39;00m\u001b[38;5;250m \u001b[39m\u001b[38;5;21;01mcollections\u001b[39;00m\u001b[38;5;21;01m.\u001b[39;00m\u001b[38;5;21;01mabc\u001b[39;00m\u001b[38;5;250m \u001b[39m\u001b[38;5;28;01mimport\u001b[39;00m Mapping, Sequence\n\u001b[1;32m      6\u001b[0m \u001b[38;5;28;01mfrom\u001b[39;00m\u001b[38;5;250m \u001b[39m\u001b[38;5;21;01mtyping\u001b[39;00m\u001b[38;5;250m \u001b[39m\u001b[38;5;28;01mimport\u001b[39;00m Annotated\n\u001b[0;32m----> 8\u001b[0m \u001b[38;5;28;01mimport\u001b[39;00m\u001b[38;5;250m \u001b[39m\u001b[38;5;21;01mautomol\u001b[39;00m\n\u001b[1;32m      9\u001b[0m \u001b[38;5;28;01mimport\u001b[39;00m\u001b[38;5;250m \u001b[39m\u001b[38;5;21;01mmore_itertools\u001b[39;00m\u001b[38;5;250m \u001b[39m\u001b[38;5;28;01mas\u001b[39;00m\u001b[38;5;250m \u001b[39m\u001b[38;5;21;01mmit\u001b[39;00m\n\u001b[1;32m     10\u001b[0m \u001b[38;5;28;01mimport\u001b[39;00m\u001b[38;5;250m \u001b[39m\u001b[38;5;21;01mpolars\u001b[39;00m\n",
      "File \u001b[0;32m/lcrc/project/PACC/copan/amech-dev/src/autochem/automol/__init__.py:68\u001b[0m\n\u001b[1;32m      1\u001b[0m \u001b[38;5;124;03m\"\"\" molecular descriptor libraries\u001b[39;00m\n\u001b[1;32m      2\u001b[0m \n\u001b[1;32m      3\u001b[0m \u001b[38;5;124;03mautomol module hierarchy\u001b[39;00m\n\u001b[0;32m   (...)\u001b[0m\n\u001b[1;32m     60\u001b[0m \u001b[38;5;124;03m - symm         [L5 dependencies: reac, rotor]\u001b[39;00m\n\u001b[1;32m     61\u001b[0m \u001b[38;5;124;03m\"\"\"\u001b[39;00m\n\u001b[1;32m     63\u001b[0m \u001b[38;5;66;03m# L1\u001b[39;00m\n\u001b[1;32m     64\u001b[0m \u001b[38;5;66;03m# L2\u001b[39;00m\n\u001b[1;32m     65\u001b[0m \u001b[38;5;66;03m# L3\u001b[39;00m\n\u001b[1;32m     66\u001b[0m \u001b[38;5;66;03m# L4\u001b[39;00m\n\u001b[1;32m     67\u001b[0m \u001b[38;5;66;03m# L5\u001b[39;00m\n\u001b[0;32m---> 68\u001b[0m \u001b[38;5;28;01mfrom\u001b[39;00m\u001b[38;5;250m \u001b[39m\u001b[38;5;21;01m.\u001b[39;00m\u001b[38;5;250m \u001b[39m\u001b[38;5;28;01mimport\u001b[39;00m (\n\u001b[1;32m     69\u001b[0m     _deprecated,\n\u001b[1;32m     70\u001b[0m     amchi,\n\u001b[1;32m     71\u001b[0m     combine,\n\u001b[1;32m     72\u001b[0m     const,\n\u001b[1;32m     73\u001b[0m     data,\n\u001b[1;32m     74\u001b[0m     embed,\n\u001b[1;32m     75\u001b[0m     error,\n\u001b[1;32m     76\u001b[0m     etrans,\n\u001b[1;32m     77\u001b[0m     extern,\n\u001b[1;32m     78\u001b[0m     form,\n\u001b[1;32m     79\u001b[0m     geom,\n\u001b[1;32m     80\u001b[0m     graph,\n\u001b[1;32m     81\u001b[0m     inchi,\n\u001b[1;32m     82\u001b[0m     inchi_key,\n\u001b[1;32m     83\u001b[0m     mult,\n\u001b[1;32m     84\u001b[0m     prop,\n\u001b[1;32m     85\u001b[0m     reac,\n\u001b[1;32m     86\u001b[0m     smarts,\n\u001b[1;32m     87\u001b[0m     smiles,\n\u001b[1;32m     88\u001b[0m     symm,\n\u001b[1;32m     89\u001b[0m     util,\n\u001b[1;32m     90\u001b[0m     vmat,\n\u001b[1;32m     91\u001b[0m     zmat,\n\u001b[1;32m     92\u001b[0m )\n\u001b[1;32m     94\u001b[0m \u001b[38;5;66;03m# type imports\u001b[39;00m\n\u001b[1;32m     95\u001b[0m \u001b[38;5;28;01mfrom\u001b[39;00m\u001b[38;5;250m \u001b[39m\u001b[38;5;21;01m.\u001b[39;00m\u001b[38;5;21;01mconst\u001b[39;00m\u001b[38;5;250m \u001b[39m\u001b[38;5;28;01mimport\u001b[39;00m ReactionClass, ReactionInfo, ReactionSpin\n",
      "File \u001b[0;32m/lcrc/project/PACC/copan/amech-dev/src/autochem/automol/amchi/__init__.py:88\u001b[0m\n\u001b[1;32m     85\u001b[0m \u001b[38;5;28;01mfrom\u001b[39;00m\u001b[38;5;250m \u001b[39m\u001b[38;5;21;01m.\u001b[39;00m\u001b[38;5;21;01mbase\u001b[39;00m\u001b[38;5;21;01m.\u001b[39;00m\u001b[38;5;21;01m_core\u001b[39;00m\u001b[38;5;250m \u001b[39m\u001b[38;5;28;01mimport\u001b[39;00m _split_layer_string\n\u001b[1;32m     86\u001b[0m \u001b[38;5;66;03m# L4\u001b[39;00m\n\u001b[1;32m     87\u001b[0m \u001b[38;5;66;03m# # conversions\u001b[39;00m\n\u001b[0;32m---> 88\u001b[0m \u001b[38;5;28;01mfrom\u001b[39;00m\u001b[38;5;250m \u001b[39m\u001b[38;5;21;01m.\u001b[39;00m\u001b[38;5;21;01m_conv\u001b[39;00m\u001b[38;5;250m \u001b[39m\u001b[38;5;28;01mimport\u001b[39;00m amchi_key\n\u001b[1;32m     89\u001b[0m \u001b[38;5;28;01mfrom\u001b[39;00m\u001b[38;5;250m \u001b[39m\u001b[38;5;21;01m.\u001b[39;00m\u001b[38;5;21;01m_conv\u001b[39;00m\u001b[38;5;250m \u001b[39m\u001b[38;5;28;01mimport\u001b[39;00m chemkin_name\n\u001b[1;32m     90\u001b[0m \u001b[38;5;28;01mfrom\u001b[39;00m\u001b[38;5;250m \u001b[39m\u001b[38;5;21;01m.\u001b[39;00m\u001b[38;5;21;01m_conv\u001b[39;00m\u001b[38;5;250m \u001b[39m\u001b[38;5;28;01mimport\u001b[39;00m connectivity_digest\n",
      "File \u001b[0;32m/lcrc/project/PACC/copan/amech-dev/src/autochem/automol/amchi/_conv.py:7\u001b[0m\n\u001b[1;32m      4\u001b[0m \u001b[38;5;28;01mimport\u001b[39;00m\u001b[38;5;250m \u001b[39m\u001b[38;5;21;01mitertools\u001b[39;00m\n\u001b[1;32m      5\u001b[0m \u001b[38;5;28;01mimport\u001b[39;00m\u001b[38;5;250m \u001b[39m\u001b[38;5;21;01mnumbers\u001b[39;00m\n\u001b[0;32m----> 7\u001b[0m \u001b[38;5;28;01mfrom\u001b[39;00m\u001b[38;5;250m \u001b[39m\u001b[38;5;21;01m.\u001b[39;00m\u001b[38;5;21;01m.\u001b[39;00m\u001b[38;5;250m \u001b[39m\u001b[38;5;28;01mimport\u001b[39;00m form, geom, inchi_key\n\u001b[1;32m      8\u001b[0m \u001b[38;5;28;01mfrom\u001b[39;00m\u001b[38;5;250m \u001b[39m\u001b[38;5;21;01m.\u001b[39;00m\u001b[38;5;21;01m.\u001b[39;00m\u001b[38;5;250m \u001b[39m\u001b[38;5;28;01mimport\u001b[39;00m graph \u001b[38;5;28;01mas\u001b[39;00m graph_\n\u001b[1;32m      9\u001b[0m \u001b[38;5;28;01mfrom\u001b[39;00m\u001b[38;5;250m \u001b[39m\u001b[38;5;21;01m.\u001b[39;00m\u001b[38;5;21;01m.\u001b[39;00m\u001b[38;5;21;01mextern\u001b[39;00m\u001b[38;5;250m \u001b[39m\u001b[38;5;28;01mimport\u001b[39;00m rdkit_\n",
      "File \u001b[0;32m/lcrc/project/PACC/copan/amech-dev/src/autochem/automol/geom/__init__.py:110\u001b[0m\n\u001b[1;32m    107\u001b[0m \u001b[38;5;28;01mfrom\u001b[39;00m\u001b[38;5;250m \u001b[39m\u001b[38;5;21;01m.\u001b[39;00m\u001b[38;5;21;01m_0molsym\u001b[39;00m\u001b[38;5;250m \u001b[39m\u001b[38;5;28;01mimport\u001b[39;00m point_group_from_geometry\n\u001b[1;32m    108\u001b[0m \u001b[38;5;66;03m# conversion functions:\u001b[39;00m\n\u001b[1;32m    109\u001b[0m \u001b[38;5;66;03m# # conversions\u001b[39;00m\n\u001b[0;32m--> 110\u001b[0m \u001b[38;5;28;01mfrom\u001b[39;00m\u001b[38;5;250m \u001b[39m\u001b[38;5;21;01m.\u001b[39;00m\u001b[38;5;21;01m_1conv\u001b[39;00m\u001b[38;5;250m \u001b[39m\u001b[38;5;28;01mimport\u001b[39;00m graph\n\u001b[1;32m    111\u001b[0m \u001b[38;5;28;01mfrom\u001b[39;00m\u001b[38;5;250m \u001b[39m\u001b[38;5;21;01m.\u001b[39;00m\u001b[38;5;21;01m_1conv\u001b[39;00m\u001b[38;5;250m \u001b[39m\u001b[38;5;28;01mimport\u001b[39;00m graph_without_stereo\n\u001b[1;32m    112\u001b[0m \u001b[38;5;28;01mfrom\u001b[39;00m\u001b[38;5;250m \u001b[39m\u001b[38;5;21;01m.\u001b[39;00m\u001b[38;5;21;01m_1conv\u001b[39;00m\u001b[38;5;250m \u001b[39m\u001b[38;5;28;01mimport\u001b[39;00m connectivity_graph_deprecated\n",
      "File \u001b[0;32m/lcrc/project/PACC/copan/amech-dev/src/autochem/automol/geom/_1conv.py:17\u001b[0m\n\u001b[1;32m     14\u001b[0m \u001b[38;5;28;01mfrom\u001b[39;00m\u001b[38;5;250m \u001b[39m\u001b[38;5;21;01mphydat\u001b[39;00m\u001b[38;5;250m \u001b[39m\u001b[38;5;28;01mimport\u001b[39;00m phycon\n\u001b[1;32m     16\u001b[0m \u001b[38;5;28;01mfrom\u001b[39;00m\u001b[38;5;250m \u001b[39m\u001b[38;5;21;01m.\u001b[39;00m\u001b[38;5;21;01m.\u001b[39;00m\u001b[38;5;250m \u001b[39m\u001b[38;5;28;01mimport\u001b[39;00m vmat\n\u001b[0;32m---> 17\u001b[0m \u001b[38;5;28;01mfrom\u001b[39;00m\u001b[38;5;250m \u001b[39m\u001b[38;5;21;01m.\u001b[39;00m\u001b[38;5;21;01m.\u001b[39;00m\u001b[38;5;21;01mextern\u001b[39;00m\u001b[38;5;250m \u001b[39m\u001b[38;5;28;01mimport\u001b[39;00m molfile, py3dmol_, rdkit_\n\u001b[1;32m     18\u001b[0m \u001b[38;5;28;01mfrom\u001b[39;00m\u001b[38;5;250m \u001b[39m\u001b[38;5;21;01m.\u001b[39;00m\u001b[38;5;21;01m.\u001b[39;00m\u001b[38;5;21;01mgraph\u001b[39;00m\u001b[38;5;250m \u001b[39m\u001b[38;5;28;01mimport\u001b[39;00m base \u001b[38;5;28;01mas\u001b[39;00m graph_base\n\u001b[1;32m     19\u001b[0m \u001b[38;5;28;01mfrom\u001b[39;00m\u001b[38;5;250m \u001b[39m\u001b[38;5;21;01m.\u001b[39;00m\u001b[38;5;21;01m.\u001b[39;00m\u001b[38;5;21;01minchi\u001b[39;00m\u001b[38;5;250m \u001b[39m\u001b[38;5;28;01mimport\u001b[39;00m base \u001b[38;5;28;01mas\u001b[39;00m inchi_base\n",
      "File \u001b[0;32m/lcrc/project/PACC/copan/amech-dev/src/autochem/automol/extern/rdkit_.py:6\u001b[0m\n\u001b[1;32m      1\u001b[0m \u001b[38;5;124;03m\"\"\" RDKit interface\u001b[39;00m\n\u001b[1;32m      2\u001b[0m \u001b[38;5;124;03m\"\"\"\u001b[39;00m\n\u001b[1;32m      4\u001b[0m \u001b[38;5;28;01mimport\u001b[39;00m\u001b[38;5;250m \u001b[39m\u001b[38;5;21;01mnumbers\u001b[39;00m\n\u001b[0;32m----> 6\u001b[0m \u001b[38;5;28;01mimport\u001b[39;00m\u001b[38;5;250m \u001b[39m\u001b[38;5;21;01mrdkit\u001b[39;00m\n\u001b[1;32m      7\u001b[0m \u001b[38;5;28;01mfrom\u001b[39;00m\u001b[38;5;250m \u001b[39m\u001b[38;5;21;01mrdkit\u001b[39;00m\u001b[38;5;250m \u001b[39m\u001b[38;5;28;01mimport\u001b[39;00m RDLogger\n\u001b[1;32m      8\u001b[0m \u001b[38;5;28;01mfrom\u001b[39;00m\u001b[38;5;250m \u001b[39m\u001b[38;5;21;01mrdkit\u001b[39;00m\u001b[38;5;21;01m.\u001b[39;00m\u001b[38;5;21;01mChem\u001b[39;00m\u001b[38;5;250m \u001b[39m\u001b[38;5;28;01mimport\u001b[39;00m AllChem, Draw, rdDistGeom\n",
      "File \u001b[0;32m/lcrc/project/PACC/copan/amech-dev/.pixi/envs/proto/lib/python3.11/site-packages/rdkit/__init__.py:6\u001b[0m\n\u001b[1;32m      2\u001b[0m \u001b[38;5;28;01mimport\u001b[39;00m\u001b[38;5;250m \u001b[39m\u001b[38;5;21;01msys\u001b[39;00m\n\u001b[1;32m      4\u001b[0m \u001b[38;5;66;03m# Need to import rdBase to properly wrap exceptions\u001b[39;00m\n\u001b[1;32m      5\u001b[0m \u001b[38;5;66;03m# otherwise they will leak memory\u001b[39;00m\n\u001b[0;32m----> 6\u001b[0m \u001b[38;5;28;01mfrom\u001b[39;00m\u001b[38;5;250m \u001b[39m\u001b[38;5;21;01m.\u001b[39;00m\u001b[38;5;250m \u001b[39m\u001b[38;5;28;01mimport\u001b[39;00m rdBase\n\u001b[1;32m      8\u001b[0m \u001b[38;5;28;01mtry\u001b[39;00m:\n\u001b[1;32m      9\u001b[0m   \u001b[38;5;28;01mfrom\u001b[39;00m\u001b[38;5;250m \u001b[39m\u001b[38;5;21;01m.\u001b[39;00m\u001b[38;5;21;01mrdBase\u001b[39;00m\u001b[38;5;250m \u001b[39m\u001b[38;5;28;01mimport\u001b[39;00m rdkitVersion \u001b[38;5;28;01mas\u001b[39;00m __version__\n",
      "\u001b[0;31mImportError\u001b[0m: libRDKitRDBoost.so.1: cannot open shared object file: No such file or directory"
     ]
    }
   ],
   "source": [
    "from pathlib import Path\n",
    "\n",
    "import util\n",
    "from util import p_, workflow\n",
    "\n",
    "import automech\n",
    "\n",
    "file = util.notebook_file() if util.is_notebook() else __file__\n",
    "tag = util.file_tag(file)\n",
    "root_path = Path(\"..\")\n",
    "par_mech = workflow.read_parent_mechanism(root_path=root_path)"
   ]
  },
  {
   "cell_type": "code",
   "execution_count": null,
   "metadata": {},
   "outputs": [],
   "source": [
    "# # Generate submechanism\n",
    "# from automol.graph import enum\n",
    "\n",
    "# from automech.species import Species\n",
    "\n",
    "# mech = automech.from_smiles(\n",
    "#     spc_smis=[\"C1(O)[CH]CCC1\"],\n",
    "#     src_mech=par_mech,\n",
    "# )\n",
    "# #  - Additions\n",
    "# mech = automech.enumerate_reactions(\n",
    "#     mech,\n",
    "#     enum.ReactionSmarts.o2_addition,\n",
    "#     rcts_=[None, \"[O][O]\"],\n",
    "#     spc_col_=Species.smiles,\n",
    "#     src_mech=par_mech,\n",
    "# )\n",
    "# #  - Eliminations\n",
    "# mech = automech.enumerate_reactions(\n",
    "#     mech,\n",
    "#     enum.ReactionSmarts.ho2_elimination,\n",
    "#     spc_col_=Species.smiles,\n",
    "#     src_mech=par_mech,\n",
    "# )\n",
    "# automech.display(mech)"
   ]
  },
  {
   "cell_type": "code",
   "execution_count": null,
   "metadata": {},
   "outputs": [],
   "source": [
    "# # Prepare calculation\n",
    "# workflow.prepare_calculation(mech=mech, tag=tag, root_path=root_path)"
   ]
  },
  {
   "cell_type": "code",
   "execution_count": null,
   "metadata": {},
   "outputs": [],
   "source": [
    "# # Prepare simulation\n",
    "# workflow.prepare_simulation(tag=tag, root_path=root_path)\n",
    "# workflow.prepare_simulation_species(tag=tag, root_path=root_path)"
   ]
  },
  {
   "cell_type": "code",
   "execution_count": null,
   "metadata": {},
   "outputs": [],
   "source": [
    "# # Check rates\n",
    "# workflow.plot_rates(tag=tag, root_path=root_path)"
   ]
  },
  {
   "cell_type": "code",
   "execution_count": null,
   "metadata": {},
   "outputs": [],
   "source": [
    "# # Plot simulation\n",
    "# chart_dct = workflow.plot_simulation(\n",
    "#     tag=tag,\n",
    "#     x_col=\"O2_molecules\",\n",
    "#     root_path=root_path,\n",
    "#     line_source_=[\"Hill\", \"Lokachari\"],\n",
    "#     point_source=\"Experiment\",\n",
    "#     control=False,\n",
    "# )\n",
    "# mech = automech.io.read(\n",
    "#     p_.full_calculated_mechanism(tag, \"json\", path=p_.data(root_path))\n",
    "# )\n",
    "# for name, chart in chart_dct.items():\n",
    "#     automech.display_species(mech, [name])\n",
    "#     chart.show()"
   ]
  },
  {
   "cell_type": "code",
   "execution_count": null,
   "metadata": {},
   "outputs": [
    {
     "data": {
      "text/html": [
       "<div><style>\n",
       ".dataframe > thead > tr,\n",
       ".dataframe > tbody > tr {\n",
       "  text-align: right;\n",
       "  white-space: pre-wrap;\n",
       "}\n",
       "</style>\n",
       "<small>shape: (11, 10)</small><table border=\"1\" class=\"dataframe\"><thead><tr><th>name</th><th>smiles</th><th>amchi</th><th>spin</th><th>charge</th><th>formula</th><th>orig_name</th><th>orig_smiles</th><th>orig_amchi</th><th>therm</th></tr><tr><td>str</td><td>str</td><td>str</td><td>i64</td><td>i64</td><td>struct[7]</td><td>str</td><td>str</td><td>str</td><td>struct[8]</td></tr></thead><tbody><tr><td>&quot;O2(6)&quot;</td><td>&quot;O=O&quot;</td><td>&quot;AMChI=1/O2/c1-2&quot;</td><td>2</td><td>0</td><td>{null,2,null,null,null,null,null}</td><td>&quot;O2(6)&quot;</td><td>&quot;O=O&quot;</td><td>&quot;AMChI=1/O2/c1-2&quot;</td><td>{200.0,6000.0,{null,null,null,2,null,null,null},0,1000.0,[3.654933, -0.001918, … 4.172613],[3.660961, 0.000656, … 3.416709],&quot;nasa7&quot;}</td></tr><tr><td>&quot;HO2(8)&quot;</td><td>&quot;[O]O&quot;</td><td>&quot;AMChI=1/HO2/c1-2/h2H&quot;</td><td>1</td><td>0</td><td>{1,2,null,null,null,null,null}</td><td>&quot;HO2(8)&quot;</td><td>&quot;O[O]&quot;</td><td>&quot;AMChI=1/HO2/c1-2/h2H&quot;</td><td>{200.0,5000.0,{null,null,1,2,null,null,null},0,1000.0,[3.877615, -0.00116, … 5.429505],[4.172287, 0.001881, … 2.962155],&quot;nasa7&quot;}</td></tr><tr><td>&quot;S(1228)r0&quot;</td><td>&quot;O[C@H]1C=CCC1&quot;</td><td>&quot;AMChI=1/C5H8O/c6-5-2-1-3-4-5/h…</td><td>0</td><td>0</td><td>{8,1,null,null,null,5,null}</td><td>&quot;S(1228)&quot;</td><td>&quot;OC1CCC=C1&quot;</td><td>&quot;AMChI=1/C5H8O/c6-5-2-1-3-4-5/h…</td><td>{100.0,5000.0,{null,null,8,1,null,null,5},0,960.1,[2.263708, 0.017746, … 19.470937],[14.178797, 0.019688, … -49.908516],&quot;nasa7&quot;}</td></tr><tr><td>&quot;S(1228)r1&quot;</td><td>&quot;O[C@@H]1C=CCC1&quot;</td><td>&quot;AMChI=1/C5H8O/c6-5-2-1-3-4-5/h…</td><td>0</td><td>0</td><td>{8,1,null,null,null,5,null}</td><td>&quot;S(1228)&quot;</td><td>&quot;OC1CCC=C1&quot;</td><td>&quot;AMChI=1/C5H8O/c6-5-2-1-3-4-5/h…</td><td>{100.0,5000.0,{null,null,8,1,null,null,5},0,960.1,[2.263708, 0.017746, … 19.470937],[14.178797, 0.019688, … -49.908516],&quot;nasa7&quot;}</td></tr><tr><td>&quot;S(1227)&quot;</td><td>&quot;OC1=CCCC1&quot;</td><td>&quot;AMChI=1/C5H8O/c6-5-1-2-3-4-5/h…</td><td>0</td><td>0</td><td>{8,1,null,null,null,5,null}</td><td>&quot;S(1227)&quot;</td><td>&quot;OC=1CCCC=1&quot;</td><td>&quot;AMChI=1/C5H8O/c6-5-1-2-3-4-5/h…</td><td>{100.0,5000.0,{null,null,8,1,null,null,5},0,939.88,[1.953992, 0.021973, … 18.065944],[17.710471, 0.013489, … -70.736268],&quot;nasa7&quot;}</td></tr><tr><td>&hellip;</td><td>&hellip;</td><td>&hellip;</td><td>&hellip;</td><td>&hellip;</td><td>&hellip;</td><td>&hellip;</td><td>&hellip;</td><td>&hellip;</td><td>&hellip;</td></tr><tr><td>&quot;C5H9O(852)r1&quot;</td><td>&quot;O[C@@H]1[CH]CCC1&quot;</td><td>&quot;AMChI=1/C5H9O/c6-5-1-2-3-4-5/h…</td><td>1</td><td>0</td><td>{9,1,null,null,null,5,null}</td><td>&quot;C5H9O(852)&quot;</td><td>&quot;OC1CCC[CH]1&quot;</td><td>&quot;AMChI=1/C5H9O/c6-5-1-2-3-4-5/h…</td><td>{298.0,5000.0,{null,null,9,1,null,null,5},0,1408.85,[-8.726702, 0.09075, … 65.98891],[10.547661, 0.02999, … -31.60232],&quot;nasa7&quot;}</td></tr><tr><td>&quot;S(594)rr0&quot;</td><td>&quot;[O]O[C@H]1CCC[C@@H]1O&quot;</td><td>&quot;AMChI=1/C5H9O3/c6-8-5-3-1-2-4(…</td><td>1</td><td>0</td><td>{9,3,null,null,null,5,null}</td><td>&quot;S(594)&quot;</td><td>&quot;OC1C(O[O])CCC1&quot;</td><td>&quot;AMChI=1/C5H9O3/c6-8-5-3-1-2-4(…</td><td>{298.0,5000.0,{null,null,9,3,null,null,5},0,1410.83,[-6.923766, 0.099158, … 59.952399],[14.193822, 0.032356, … -46.91131],&quot;nasa7&quot;}</td></tr><tr><td>&quot;S(594)rs0&quot;</td><td>&quot;[O]O[C@@H]1CCC[C@@H]1O&quot;</td><td>&quot;AMChI=1/C5H9O3/c6-8-5-3-1-2-4(…</td><td>1</td><td>0</td><td>{9,3,null,null,null,5,null}</td><td>&quot;S(594)&quot;</td><td>&quot;OC1C(O[O])CCC1&quot;</td><td>&quot;AMChI=1/C5H9O3/c6-8-5-3-1-2-4(…</td><td>{298.0,5000.0,{null,null,9,3,null,null,5},0,1410.83,[-6.923766, 0.099158, … 59.952399],[14.193822, 0.032356, … -46.91131],&quot;nasa7&quot;}</td></tr><tr><td>&quot;S(594)rs1&quot;</td><td>&quot;[O]O[C@H]1CCC[C@H]1O&quot;</td><td>&quot;AMChI=1/C5H9O3/c6-8-5-3-1-2-4(…</td><td>1</td><td>0</td><td>{9,3,null,null,null,5,null}</td><td>&quot;S(594)&quot;</td><td>&quot;OC1C(O[O])CCC1&quot;</td><td>&quot;AMChI=1/C5H9O3/c6-8-5-3-1-2-4(…</td><td>{298.0,5000.0,{null,null,9,3,null,null,5},0,1410.83,[-6.923766, 0.099158, … 59.952399],[14.193822, 0.032356, … -46.91131],&quot;nasa7&quot;}</td></tr><tr><td>&quot;S(594)rr1&quot;</td><td>&quot;[O]O[C@@H]1CCC[C@H]1O&quot;</td><td>&quot;AMChI=1/C5H9O3/c6-8-5-3-1-2-4(…</td><td>1</td><td>0</td><td>{9,3,null,null,null,5,null}</td><td>&quot;S(594)&quot;</td><td>&quot;OC1C(O[O])CCC1&quot;</td><td>&quot;AMChI=1/C5H9O3/c6-8-5-3-1-2-4(…</td><td>{298.0,5000.0,{null,null,9,3,null,null,5},0,1410.83,[-6.923766, 0.099158, … 59.952399],[14.193822, 0.032356, … -46.91131],&quot;nasa7&quot;}</td></tr></tbody></table></div>"
      ],
      "text/plain": [
       "shape: (11, 10)\n",
       "┌────────────┬────────────┬────────────┬──────┬───┬────────────┬───────────┬───────────┬───────────┐\n",
       "│ name       ┆ smiles     ┆ amchi      ┆ spin ┆ … ┆ orig_name  ┆ orig_smil ┆ orig_amch ┆ therm     │\n",
       "│ ---        ┆ ---        ┆ ---        ┆ ---  ┆   ┆ ---        ┆ es        ┆ i         ┆ ---       │\n",
       "│ str        ┆ str        ┆ str        ┆ i64  ┆   ┆ str        ┆ ---       ┆ ---       ┆ struct[8] │\n",
       "│            ┆            ┆            ┆      ┆   ┆            ┆ str       ┆ str       ┆           │\n",
       "╞════════════╪════════════╪════════════╪══════╪═══╪════════════╪═══════════╪═══════════╪═══════════╡\n",
       "│ O2(6)      ┆ O=O        ┆ AMChI=1/O2 ┆ 2    ┆ … ┆ O2(6)      ┆ O=O       ┆ AMChI=1/O ┆ {200.0,60 │\n",
       "│            ┆            ┆ /c1-2      ┆      ┆   ┆            ┆           ┆ 2/c1-2    ┆ 00.0,{nul │\n",
       "│            ┆            ┆            ┆      ┆   ┆            ┆           ┆           ┆ l,null,nu │\n",
       "│            ┆            ┆            ┆      ┆   ┆            ┆           ┆           ┆ ll,…      │\n",
       "│ HO2(8)     ┆ [O]O       ┆ AMChI=1/HO ┆ 1    ┆ … ┆ HO2(8)     ┆ O[O]      ┆ AMChI=1/H ┆ {200.0,50 │\n",
       "│            ┆            ┆ 2/c1-2/h2H ┆      ┆   ┆            ┆           ┆ O2/c1-2/h ┆ 00.0,{nul │\n",
       "│            ┆            ┆            ┆      ┆   ┆            ┆           ┆ 2H        ┆ l,null,1, │\n",
       "│            ┆            ┆            ┆      ┆   ┆            ┆           ┆           ┆ 2,n…      │\n",
       "│ S(1228)r0  ┆ O[C@H]1C=C ┆ AMChI=1/C5 ┆ 0    ┆ … ┆ S(1228)    ┆ OC1CCC=C1 ┆ AMChI=1/C ┆ {100.0,50 │\n",
       "│            ┆ CC1        ┆ H8O/c6-5-2 ┆      ┆   ┆            ┆           ┆ 5H8O/c6-5 ┆ 00.0,{nul │\n",
       "│            ┆            ┆ -1-3-4-5/h ┆      ┆   ┆            ┆           ┆ -2-1-3-4- ┆ l,null,8, │\n",
       "│            ┆            ┆ …          ┆      ┆   ┆            ┆           ┆ 5/h…      ┆ 1,n…      │\n",
       "│ S(1228)r1  ┆ O[C@@H]1C= ┆ AMChI=1/C5 ┆ 0    ┆ … ┆ S(1228)    ┆ OC1CCC=C1 ┆ AMChI=1/C ┆ {100.0,50 │\n",
       "│            ┆ CCC1       ┆ H8O/c6-5-2 ┆      ┆   ┆            ┆           ┆ 5H8O/c6-5 ┆ 00.0,{nul │\n",
       "│            ┆            ┆ -1-3-4-5/h ┆      ┆   ┆            ┆           ┆ -2-1-3-4- ┆ l,null,8, │\n",
       "│            ┆            ┆ …          ┆      ┆   ┆            ┆           ┆ 5/h…      ┆ 1,n…      │\n",
       "│ S(1227)    ┆ OC1=CCCC1  ┆ AMChI=1/C5 ┆ 0    ┆ … ┆ S(1227)    ┆ OC=1CCCC= ┆ AMChI=1/C ┆ {100.0,50 │\n",
       "│            ┆            ┆ H8O/c6-5-1 ┆      ┆   ┆            ┆ 1         ┆ 5H8O/c6-5 ┆ 00.0,{nul │\n",
       "│            ┆            ┆ -2-3-4-5/h ┆      ┆   ┆            ┆           ┆ -1-2-3-4- ┆ l,null,8, │\n",
       "│            ┆            ┆ …          ┆      ┆   ┆            ┆           ┆ 5/h…      ┆ 1,n…      │\n",
       "│ …          ┆ …          ┆ …          ┆ …    ┆ … ┆ …          ┆ …         ┆ …         ┆ …         │\n",
       "│ C5H9O(852) ┆ O[C@@H]1[C ┆ AMChI=1/C5 ┆ 1    ┆ … ┆ C5H9O(852) ┆ OC1CCC[CH ┆ AMChI=1/C ┆ {298.0,50 │\n",
       "│ r1         ┆ H]CCC1     ┆ H9O/c6-5-1 ┆      ┆   ┆            ┆ ]1        ┆ 5H9O/c6-5 ┆ 00.0,{nul │\n",
       "│            ┆            ┆ -2-3-4-5/h ┆      ┆   ┆            ┆           ┆ -1-2-3-4- ┆ l,null,9, │\n",
       "│            ┆            ┆ …          ┆      ┆   ┆            ┆           ┆ 5/h…      ┆ 1,n…      │\n",
       "│ S(594)rr0  ┆ [O]O[C@H]1 ┆ AMChI=1/C5 ┆ 1    ┆ … ┆ S(594)     ┆ OC1C(O[O] ┆ AMChI=1/C ┆ {298.0,50 │\n",
       "│            ┆ CCC[C@@H]1 ┆ H9O3/c6-8- ┆      ┆   ┆            ┆ )CCC1     ┆ 5H9O3/c6- ┆ 00.0,{nul │\n",
       "│            ┆ O          ┆ 5-3-1-2-4( ┆      ┆   ┆            ┆           ┆ 8-5-3-1-2 ┆ l,null,9, │\n",
       "│            ┆            ┆ …          ┆      ┆   ┆            ┆           ┆ -4(…      ┆ 3,n…      │\n",
       "│ S(594)rs0  ┆ [O]O[C@@H] ┆ AMChI=1/C5 ┆ 1    ┆ … ┆ S(594)     ┆ OC1C(O[O] ┆ AMChI=1/C ┆ {298.0,50 │\n",
       "│            ┆ 1CCC[C@@H] ┆ H9O3/c6-8- ┆      ┆   ┆            ┆ )CCC1     ┆ 5H9O3/c6- ┆ 00.0,{nul │\n",
       "│            ┆ 1O         ┆ 5-3-1-2-4( ┆      ┆   ┆            ┆           ┆ 8-5-3-1-2 ┆ l,null,9, │\n",
       "│            ┆            ┆ …          ┆      ┆   ┆            ┆           ┆ -4(…      ┆ 3,n…      │\n",
       "│ S(594)rs1  ┆ [O]O[C@H]1 ┆ AMChI=1/C5 ┆ 1    ┆ … ┆ S(594)     ┆ OC1C(O[O] ┆ AMChI=1/C ┆ {298.0,50 │\n",
       "│            ┆ CCC[C@H]1O ┆ H9O3/c6-8- ┆      ┆   ┆            ┆ )CCC1     ┆ 5H9O3/c6- ┆ 00.0,{nul │\n",
       "│            ┆            ┆ 5-3-1-2-4( ┆      ┆   ┆            ┆           ┆ 8-5-3-1-2 ┆ l,null,9, │\n",
       "│            ┆            ┆ …          ┆      ┆   ┆            ┆           ┆ -4(…      ┆ 3,n…      │\n",
       "│ S(594)rr1  ┆ [O]O[C@@H] ┆ AMChI=1/C5 ┆ 1    ┆ … ┆ S(594)     ┆ OC1C(O[O] ┆ AMChI=1/C ┆ {298.0,50 │\n",
       "│            ┆ 1CCC[C@H]1 ┆ H9O3/c6-8- ┆      ┆   ┆            ┆ )CCC1     ┆ 5H9O3/c6- ┆ 00.0,{nul │\n",
       "│            ┆ O          ┆ 5-3-1-2-4( ┆      ┆   ┆            ┆           ┆ 8-5-3-1-2 ┆ l,null,9, │\n",
       "│            ┆            ┆ …          ┆      ┆   ┆            ┆           ┆ -4(…      ┆ 3,n…      │\n",
       "└────────────┴────────────┴────────────┴──────┴───┴────────────┴───────────┴───────────┴───────────┘"
      ]
     },
     "execution_count": 7,
     "metadata": {},
     "output_type": "execute_result"
    }
   ],
   "source": [
    "# Check TS / Species\n",
    "from mechdriver.subtasks import display\n",
    "\n",
    "id_ = \"5\"\n",
    "\n",
    "#   - Read in expanded mechanism\n",
    "mech_path = p_.stereo_mechanism(tag, ext=\"json\", path=p_.data(root_path))\n",
    "mech = automech.io.read(mech_path)\n",
    "\n",
    "#   - Display the reaction\n",
    "if \":\" in id_:\n",
    "    automech.display_reactions(mech, chans=[id_])\n",
    "else:\n",
    "    automech.display_species(mech, ids=[id_])"
   ]
  },
  {
   "cell_type": "code",
   "execution_count": null,
   "metadata": {},
   "outputs": [
    {
     "ename": "StopIteration",
     "evalue": "",
     "output_type": "error",
     "traceback": [
      "\u001b[0;31m---------------------------------------------------------------------------\u001b[0m",
      "\u001b[0;31mStopIteration\u001b[0m                             Traceback (most recent call last)",
      "Cell \u001b[0;32mIn[8], line 3\u001b[0m\n\u001b[1;32m      1\u001b[0m \u001b[38;5;66;03m#   - Display the TS mode\u001b[39;00m\n\u001b[1;32m      2\u001b[0m calc_path \u001b[38;5;241m=\u001b[39m p_\u001b[38;5;241m.\u001b[39mcalc(root_path, tag)\n\u001b[0;32m----> 3\u001b[0m \u001b[43mdisplay\u001b[49m\u001b[43m(\u001b[49m\u001b[38;5;124;43m\"\u001b[39;49m\u001b[38;5;124;43mconf_opt\u001b[39;49m\u001b[38;5;124;43m\"\u001b[39;49m\u001b[43m,\u001b[49m\u001b[43m \u001b[49m\u001b[43mid_\u001b[49m\u001b[43m,\u001b[49m\u001b[43m \u001b[49m\u001b[43mpath\u001b[49m\u001b[38;5;241;43m=\u001b[39;49m\u001b[43mcalc_path\u001b[49m\u001b[43m)\u001b[49m\n",
      "File \u001b[0;32m/lcrc/project/PACC/copan/amech-dev/src/mechdriver/mechdriver/subtasks/_3view.py:35\u001b[0m, in \u001b[0;36mdisplay\u001b[0;34m(task_key, subtask_key, path, runlvl, animate)\u001b[0m\n\u001b[1;32m     31\u001b[0m     \u001b[38;5;28;01mraise\u001b[39;00m \u001b[38;5;167;01mNotImplementedError\u001b[39;00m(\u001b[38;5;124mf\u001b[39m\u001b[38;5;124m\"\u001b[39m\u001b[38;5;124mDisplay for \u001b[39m\u001b[38;5;132;01m{\u001b[39;00mtask_key\u001b[38;5;132;01m}\u001b[39;00m\u001b[38;5;124m is not yet implemented...\u001b[39m\u001b[38;5;124m\"\u001b[39m)\n\u001b[1;32m     33\u001b[0m disp_ \u001b[38;5;241m=\u001b[39m task_display_function(task_key)\n\u001b[0;32m---> 35\u001b[0m \u001b[38;5;28;01mfor\u001b[39;00m task_path \u001b[38;5;129;01min\u001b[39;00m \u001b[43mfs\u001b[49m\u001b[38;5;241;43m.\u001b[39;49m\u001b[43mtask_paths\u001b[49m\u001b[43m(\u001b[49m\u001b[43mtask_key\u001b[49m\u001b[43m,\u001b[49m\u001b[43m \u001b[49m\u001b[43msubtask_key\u001b[49m\u001b[43m,\u001b[49m\u001b[43m \u001b[49m\u001b[43mpath\u001b[49m\u001b[38;5;241;43m=\u001b[39;49m\u001b[43mpath\u001b[49m\u001b[43m,\u001b[49m\u001b[43m \u001b[49m\u001b[43mrunlvl\u001b[49m\u001b[38;5;241;43m=\u001b[39;49m\u001b[43mrunlvl\u001b[49m\u001b[43m)\u001b[49m:\n\u001b[1;32m     36\u001b[0m     disp_(task_path)\n",
      "File \u001b[0;32m/lcrc/project/PACC/copan/amech-dev/src/mechdriver/mechdriver/subtasks/fs.py:47\u001b[0m, in \u001b[0;36mtask_paths\u001b[0;34m(task_key, subtask_key, path, runlvl, run)\u001b[0m\n\u001b[1;32m     42\u001b[0m method, basis \u001b[38;5;241m=\u001b[39m util\u001b[38;5;241m.\u001b[39mtask_method_and_basis(\n\u001b[1;32m     43\u001b[0m     file_dct, task_key, key_type, runlvl\u001b[38;5;241m=\u001b[39mrunlvl\n\u001b[1;32m     44\u001b[0m )\n\u001b[1;32m     46\u001b[0m thy_fs \u001b[38;5;241m=\u001b[39m autofile\u001b[38;5;241m.\u001b[39mfs\u001b[38;5;241m.\u001b[39mtheory(sub_path)\n\u001b[0;32m---> 47\u001b[0m thy_loc \u001b[38;5;241m=\u001b[39m \u001b[38;5;28;43mnext\u001b[39;49m\u001b[43m(\u001b[49m\n\u001b[1;32m     48\u001b[0m \u001b[43m    \u001b[49m\u001b[43mloc\u001b[49m\n\u001b[1;32m     49\u001b[0m \u001b[43m    \u001b[49m\u001b[38;5;28;43;01mfor\u001b[39;49;00m\u001b[43m \u001b[49m\u001b[43mloc\u001b[49m\u001b[43m \u001b[49m\u001b[38;5;129;43;01min\u001b[39;49;00m\u001b[43m \u001b[49m\u001b[43mthy_fs\u001b[49m\u001b[43m[\u001b[49m\u001b[38;5;241;43m-\u001b[39;49m\u001b[38;5;241;43m1\u001b[39;49m\u001b[43m]\u001b[49m\u001b[38;5;241;43m.\u001b[39;49m\u001b[43mexisting\u001b[49m\u001b[43m(\u001b[49m\u001b[43m)\u001b[49m\n\u001b[1;32m     50\u001b[0m \u001b[43m    \u001b[49m\u001b[38;5;28;43;01mif\u001b[39;49;00m\u001b[43m \u001b[49m\u001b[43mloc\u001b[49m\u001b[43m[\u001b[49m\u001b[38;5;241;43m0\u001b[39;49m\u001b[43m]\u001b[49m\u001b[38;5;241;43m.\u001b[39;49m\u001b[43mlower\u001b[49m\u001b[43m(\u001b[49m\u001b[43m)\u001b[49m\u001b[43m \u001b[49m\u001b[38;5;241;43m==\u001b[39;49m\u001b[43m \u001b[49m\u001b[43mmethod\u001b[49m\u001b[38;5;241;43m.\u001b[39;49m\u001b[43mlower\u001b[49m\u001b[43m(\u001b[49m\u001b[43m)\u001b[49m\u001b[43m \u001b[49m\u001b[38;5;129;43;01mand\u001b[39;49;00m\u001b[43m \u001b[49m\u001b[43mloc\u001b[49m\u001b[43m[\u001b[49m\u001b[38;5;241;43m1\u001b[39;49m\u001b[43m]\u001b[49m\u001b[38;5;241;43m.\u001b[39;49m\u001b[43mlower\u001b[49m\u001b[43m(\u001b[49m\u001b[43m)\u001b[49m\u001b[43m \u001b[49m\u001b[38;5;241;43m==\u001b[39;49m\u001b[43m \u001b[49m\u001b[43mbasis\u001b[49m\u001b[38;5;241;43m.\u001b[39;49m\u001b[43mlower\u001b[49m\u001b[43m(\u001b[49m\u001b[43m)\u001b[49m\n\u001b[1;32m     51\u001b[0m \u001b[43m\u001b[49m\u001b[43m)\u001b[49m\n\u001b[1;32m     52\u001b[0m thy_path \u001b[38;5;241m=\u001b[39m Path(thy_fs[\u001b[38;5;241m-\u001b[39m\u001b[38;5;241m1\u001b[39m]\u001b[38;5;241m.\u001b[39mpath(thy_loc))\n\u001b[1;32m     54\u001b[0m \u001b[38;5;28;01mif\u001b[39;00m util\u001b[38;5;241m.\u001b[39mis_species_subtask_key(subtask_key):\n",
      "\u001b[0;31mStopIteration\u001b[0m: "
     ]
    }
   ],
   "source": [
    "#   - Display the TS mode\n",
    "calc_path = p_.calc(root_path, tag)\n",
    "display(\"conf_opt\", id_, path=calc_path)"
   ]
  },
  {
   "cell_type": "code",
   "execution_count": null,
   "metadata": {},
   "outputs": [],
   "source": [
    "#   - Display the TS mode\n",
    "calc_path = p_.calc(root_path, tag)\n",
    "display(\"find_ts\", id_, path=calc_path)"
   ]
  }
 ],
 "metadata": {
  "kernelspec": {
   "display_name": "proto",
   "language": "python",
   "name": "python3"
  },
  "language_info": {
   "codemirror_mode": {
    "name": "ipython",
    "version": 3
   },
   "file_extension": ".py",
   "mimetype": "text/x-python",
   "name": "python",
   "nbconvert_exporter": "python",
   "pygments_lexer": "ipython3",
   "version": "3.11.12"
  }
 },
 "nbformat": 4,
 "nbformat_minor": 2
}
