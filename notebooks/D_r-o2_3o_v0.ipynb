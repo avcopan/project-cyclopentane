{
 "cells": [
  {
   "cell_type": "code",
   "execution_count": 1,
   "metadata": {},
   "outputs": [],
   "source": [
    "from pathlib import Path\n",
    "\n",
    "import util\n",
    "from util import p_, workflow\n",
    "\n",
    "import automech\n",
    "\n",
    "file = util.notebook_file() if util.is_notebook() else __file__\n",
    "tag = util.file_tag(file)\n",
    "root_path = Path(\"..\")\n",
    "par_mech = workflow.read_parent_mechanism(root_path=root_path)"
   ]
  },
  {
   "cell_type": "code",
   "execution_count": 2,
   "metadata": {},
   "outputs": [
    {
     "data": {
      "application/vnd.jupyter.widget-view+json": {
       "model_id": "f67785c30f694d829c530f07df4cf026",
       "version_major": 2,
       "version_minor": 0
      },
      "text/plain": [
       "  0%|          | 0/1 [00:00<?, ?it/s]"
      ]
     },
     "metadata": {},
     "output_type": "display_data"
    }
   ],
   "source": [
    "# Generate submechanism\n",
    "from automol.graph import enum\n",
    "\n",
    "from automech.species import Species\n",
    "\n",
    "mech = automech.from_smiles(\n",
    "    spc_smis=[\"C1(O)[CH]CCC1\"],\n",
    "    src_mech=par_mech,\n",
    ")\n",
    "#  - Additions\n",
    "mech = automech.enumerate_reactions(\n",
    "    mech,\n",
    "    enum.ReactionSmarts.o2_addition,\n",
    "    rcts_=[None, \"[O][O]\"],\n",
    "    spc_col_=Species.smiles,\n",
    "    src_mech=par_mech,\n",
    ")\n",
    "#  - Eliminations\n",
    "mech = automech.enumerate_reactions(\n",
    "    mech,\n",
    "    enum.ReactionSmarts.ho2_elimination,\n",
    "    spc_col_=Species.smiles,\n",
    "    src_mech=par_mech,\n",
    ")\n",
    "automech.display(mech)"
   ]
  },
  {
   "cell_type": "code",
   "execution_count": 3,
   "metadata": {},
   "outputs": [
    {
     "name": "stdout",
     "output_type": "stream",
     "text": [
      "\n",
      "Finalizing build for...\n",
      "reactions=shape: (3, 5)\n",
      "┌────────────────┬───────────────────────┬───────────┬────────────┬────────────────────────────────┐\n",
      "│ reactants      ┆ products              ┆ formula   ┆ reversible ┆ rate                           │\n",
      "│ ---            ┆ ---                   ┆ ---       ┆ ---        ┆ ---                            │\n",
      "│ list[str]      ┆ list[str]             ┆ struct[3] ┆ bool       ┆ struct[18]                     │\n",
      "╞════════════════╪═══════════════════════╪═══════════╪════════════╪════════════════════════════════╡\n",
      "│ [\"S(594)\"]     ┆ [\"HO2(8)\", \"S(1228)\"] ┆ {5,9,3}   ┆ true       ┆ {1,{null,null,null,null,null,n │\n",
      "│                ┆                       ┆           ┆            ┆ …                              │\n",
      "│ [\"S(594)\"]     ┆ [\"HO2(8)\", \"S(1227)\"] ┆ {5,9,3}   ┆ true       ┆ {1,{null,null,null,null,null,n │\n",
      "│                ┆                       ┆           ┆            ┆ …                              │\n",
      "│ [\"C5H9O(852)\", ┆ [\"S(594)\"]            ┆ {5,9,3}   ┆ true       ┆ {2,{null,null,null,null,null,n │\n",
      "│ \"O2(6)\"]       ┆                       ┆           ┆            ┆ …                              │\n",
      "└────────────────┴───────────────────────┴───────────┴────────────┴────────────────────────────────┘ species=shape: (6, 7)\n",
      "┌────────────┬────────────────┬─────────────────┬──────┬────────┬─────────────────┬────────────────┐\n",
      "│ name       ┆ smiles         ┆ amchi           ┆ spin ┆ charge ┆ formula         ┆ therm          │\n",
      "│ ---        ┆ ---            ┆ ---             ┆ ---  ┆ ---    ┆ ---             ┆ ---            │\n",
      "│ str        ┆ str            ┆ str             ┆ i64  ┆ i64    ┆ struct[7]       ┆ struct[8]      │\n",
      "╞════════════╪════════════════╪═════════════════╪══════╪════════╪═════════════════╪════════════════╡\n",
      "│ S(594)     ┆ OC1C(O[O])CCC1 ┆ AMChI=1/C5H9O3/ ┆ 1    ┆ 0      ┆ {9,3,null,null, ┆ {298.0,5000.0, │\n",
      "│            ┆                ┆ c6-8-5-3-1-2-4( ┆      ┆        ┆ null,5,null}    ┆ {null,null,9,3 │\n",
      "│            ┆                ┆ …               ┆      ┆        ┆                 ┆ ,n…            │\n",
      "│ S(1228)    ┆ OC1CCC=C1      ┆ AMChI=1/C5H8O/c ┆ 0    ┆ 0      ┆ {8,1,null,null, ┆ {100.0,5000.0, │\n",
      "│            ┆                ┆ 6-5-2-1-3-4-5/h ┆      ┆        ┆ null,5,null}    ┆ {null,null,8,1 │\n",
      "│            ┆                ┆ …               ┆      ┆        ┆                 ┆ ,n…            │\n",
      "│ HO2(8)     ┆ O[O]           ┆ AMChI=1/HO2/c1- ┆ 1    ┆ 0      ┆ {1,2,null,null, ┆ {200.0,5000.0, │\n",
      "│            ┆                ┆ 2/h2H           ┆      ┆        ┆ null,null,null} ┆ {null,null,1,2 │\n",
      "│            ┆                ┆                 ┆      ┆        ┆                 ┆ ,n…            │\n",
      "│ S(1227)    ┆ OC=1CCCC=1     ┆ AMChI=1/C5H8O/c ┆ 0    ┆ 0      ┆ {8,1,null,null, ┆ {100.0,5000.0, │\n",
      "│            ┆                ┆ 6-5-1-2-3-4-5/h ┆      ┆        ┆ null,5,null}    ┆ {null,null,8,1 │\n",
      "│            ┆                ┆ …               ┆      ┆        ┆                 ┆ ,n…            │\n",
      "│ C5H9O(852) ┆ OC1CCC[CH]1    ┆ AMChI=1/C5H9O/c ┆ 1    ┆ 0      ┆ {9,1,null,null, ┆ {298.0,5000.0, │\n",
      "│            ┆                ┆ 6-5-1-2-3-4-5/h ┆      ┆        ┆ null,5,null}    ┆ {null,null,9,1 │\n",
      "│            ┆                ┆ …               ┆      ┆        ┆                 ┆ ,n…            │\n",
      "│ O2(6)      ┆ O=O            ┆ AMChI=1/O2/c1-2 ┆ 2    ┆ 0      ┆ {null,2,null,nu ┆ {200.0,6000.0, │\n",
      "│            ┆                ┆                 ┆      ┆        ┆ ll,null,null,nu ┆ {null,null,nul │\n",
      "│            ┆                ┆                 ┆      ┆        ┆ …               ┆ l,…            │\n",
      "└────────────┴────────────────┴─────────────────┴──────┴────────┴─────────────────┴────────────────┘\n",
      "\n",
      "Expanding stereochemistry...\n"
     ]
    },
    {
     "data": {
      "application/vnd.jupyter.widget-view+json": {
       "model_id": "997bc9a831394d68b46d3adeed720e8e",
       "version_major": 2,
       "version_minor": 0
      },
      "text/plain": [
       "  0%|          | 0/6 [00:00<?, ?it/s]"
      ]
     },
     "metadata": {},
     "output_type": "display_data"
    },
    {
     "data": {
      "application/vnd.jupyter.widget-view+json": {
       "model_id": "2c18a91f42f4474a99795cc6bb951daf",
       "version_major": 2,
       "version_minor": 0
      },
      "text/plain": [
       "  0%|          | 0/11 [00:00<?, ?it/s]"
      ]
     },
     "metadata": {},
     "output_type": "display_data"
    },
    {
     "data": {
      "application/vnd.jupyter.widget-view+json": {
       "model_id": "808a9f7cc03d454d886c6399550a296b",
       "version_major": 2,
       "version_minor": 0
      },
      "text/plain": [
       "  0%|          | 0/3 [00:00<?, ?it/s]"
      ]
     },
     "metadata": {},
     "output_type": "display_data"
    },
    {
     "name": "stdout",
     "output_type": "stream",
     "text": [
      "\n",
      "Writing mechanism...\n",
      "../data/D_r-o2_3o_v0_gen.json\n",
      "../data/D_r-o2_3o_v0_ste.json\n",
      "../data/mechanalyzer/D_r-o2_3o_v0_ste.dat\n",
      "../data/mechanalyzer/D_r-o2_3o_v0_ste.csv\n"
     ]
    },
    {
     "data": {
      "application/vnd.jupyter.widget-view+json": {
       "model_id": "04ed67827d4e494ca4fc6f6f544c735b",
       "version_major": 2,
       "version_minor": 0
      },
      "text/plain": [
       "  0%|          | 0/11 [00:00<?, ?it/s]"
      ]
     },
     "metadata": {},
     "output_type": "display_data"
    },
    {
     "data": {
      "application/vnd.jupyter.widget-view+json": {
       "model_id": "35cb09caa35b432c9efba5c167193480",
       "version_major": 2,
       "version_minor": 0
      },
      "text/plain": [
       "  0%|          | 0/11 [00:00<?, ?it/s]"
      ]
     },
     "metadata": {},
     "output_type": "display_data"
    },
    {
     "data": {
      "application/vnd.jupyter.widget-view+json": {
       "model_id": "2d01318e7b0e4512a6a0e9956b8f3d58",
       "version_major": 2,
       "version_minor": 0
      },
      "text/plain": [
       "  0%|          | 0/11 [00:00<?, ?it/s]"
      ]
     },
     "metadata": {},
     "output_type": "display_data"
    },
    {
     "name": "stdout",
     "output_type": "stream",
     "text": [
      "\n",
      "Stereoexpansion errors:\n"
     ]
    }
   ],
   "source": [
    "# Prepare calculation\n",
    "workflow.prepare_calculation(mech=mech, tag=tag, root_path=root_path)"
   ]
  },
  {
   "cell_type": "code",
   "execution_count": 4,
   "metadata": {},
   "outputs": [],
   "source": [
    "# # Prepare simulation\n",
    "# workflow.prepare_simulation(tag=tag, root_path=root_path)\n",
    "# workflow.prepare_simulation_species(tag=tag, root_path=root_path)"
   ]
  },
  {
   "cell_type": "code",
   "execution_count": 5,
   "metadata": {},
   "outputs": [],
   "source": [
    "# # Check rates\n",
    "# workflow.plot_rates(tag=tag, root_path=root_path)"
   ]
  },
  {
   "cell_type": "code",
   "execution_count": 6,
   "metadata": {},
   "outputs": [],
   "source": [
    "# # Plot simulation\n",
    "# chart_dct = workflow.plot_simulation(\n",
    "#     tag=tag,\n",
    "#     x_col=\"O2_molecules\",\n",
    "#     root_path=root_path,\n",
    "#     line_source_=[\"Hill\", \"Lokachari\"],\n",
    "#     point_source=\"Experiment\",\n",
    "#     control=False,\n",
    "# )\n",
    "# mech = automech.io.read(\n",
    "#     p_.full_calculated_mechanism(tag, \"json\", path=p_.data(root_path))\n",
    "# )\n",
    "# for name, chart in chart_dct.items():\n",
    "#     automech.display_species(mech, [name])\n",
    "#     chart.show()"
   ]
  },
  {
   "cell_type": "code",
   "execution_count": 7,
   "metadata": {},
   "outputs": [],
   "source": [
    "# # Check TS\n",
    "# from mechdriver.subtasks import display\n",
    "\n",
    "# chan = \"2: 5\"\n",
    "\n",
    "# #   - Read in expanded mechanism\n",
    "# mech_path = p_.mechanism(tag, ext=\"json\", path=p_.data(root_path))\n",
    "# mech = automech.io.read(mech_path)\n",
    "\n",
    "# #   - Display the reaction\n",
    "# automech.display_reactions(mech, chans=[chan])"
   ]
  },
  {
   "cell_type": "code",
   "execution_count": 8,
   "metadata": {},
   "outputs": [],
   "source": [
    "# #   - Display the TS mode\n",
    "# calc_path = p_.calc(root_path, tag)\n",
    "# display(\"conf_opt\", chan, path=calc_path)"
   ]
  },
  {
   "cell_type": "code",
   "execution_count": 9,
   "metadata": {},
   "outputs": [],
   "source": [
    "# #   - Display the TS mode\n",
    "# calc_path = p_.calc(root_path, tag)\n",
    "# display(\"find_ts\", chan, path=calc_path)"
   ]
  }
 ],
 "metadata": {
  "kernelspec": {
   "display_name": "proto",
   "language": "python",
   "name": "python3"
  },
  "language_info": {
   "codemirror_mode": {
    "name": "ipython",
    "version": 3
   },
   "file_extension": ".py",
   "mimetype": "text/x-python",
   "name": "python",
   "nbconvert_exporter": "python",
   "pygments_lexer": "ipython3",
   "version": "3.11.12"
  }
 },
 "nbformat": 4,
 "nbformat_minor": 2
}
