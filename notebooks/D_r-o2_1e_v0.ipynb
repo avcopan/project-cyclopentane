{
 "cells": [
  {
   "cell_type": "code",
   "execution_count": 1,
   "metadata": {},
   "outputs": [],
   "source": [
    "from pathlib import Path\n",
    "\n",
    "import util\n",
    "from util import p_, workflow\n",
    "\n",
    "import automech\n",
    "\n",
    "file = util.notebook_file() if util.is_notebook() else __file__\n",
    "tag = util.file_tag(file)\n",
    "root_path = Path(\"..\")\n",
    "par_mech = workflow.read_parent_mechanism(root_path=root_path)"
   ]
  },
  {
   "cell_type": "code",
   "execution_count": 2,
   "metadata": {},
   "outputs": [
    {
     "data": {
      "application/vnd.jupyter.widget-view+json": {
       "model_id": "b3d621bd4bd940a49f013d25b00d49ab",
       "version_major": 2,
       "version_minor": 0
      },
      "text/plain": [
       "  0%|          | 0/2 [00:00<?, ?it/s]"
      ]
     },
     "metadata": {},
     "output_type": "display_data"
    },
    {
     "data": {
      "application/vnd.jupyter.widget-view+json": {
       "model_id": "81a67c180d2345cf837b3a53f45da7d6",
       "version_major": 2,
       "version_minor": 0
      },
      "text/plain": [
       "  0%|          | 0/3 [00:00<?, ?it/s]"
      ]
     },
     "metadata": {},
     "output_type": "display_data"
    }
   ],
   "source": [
    "# Generate submechanism\n",
    "from automol.graph import enum\n",
    "\n",
    "from automech.species import Species\n",
    "\n",
    "gen_mech = automech.from_smiles(\n",
    "    spc_smis=[\"C1=C[CH]CC1\", \"C1=CC[CH]C1\"],\n",
    "    src_mech=par_mech,\n",
    ")\n",
    "#  - Additions\n",
    "gen_mech = automech.enumerate_reactions(\n",
    "    gen_mech,\n",
    "    enum.ReactionSmarts.o2_addition,\n",
    "    rcts_=[None, \"[O][O]\"],\n",
    "    spc_col_=Species.smiles,\n",
    "    src_mech=par_mech,\n",
    ")\n",
    "#  - Eliminations\n",
    "gen_mech = automech.enumerate_reactions(\n",
    "    gen_mech,\n",
    "    enum.ReactionSmarts.ho2_elimination,\n",
    "    spc_col_=Species.smiles,\n",
    "    src_mech=par_mech,\n",
    ")\n",
    "#  - Drop reactions:\n",
    "gen_mech = automech.drop_reactions_by_smiles(\n",
    "    # >> Beta elimination: all TSs converge to VDW SPs:\n",
    "    gen_mech, rxn_smis=[\"[O]OC1C=CCC1>>C=1=CCCC=1.[O]O\"]\n",
    ")\n",
    "automech.display(gen_mech)"
   ]
  },
  {
   "cell_type": "code",
   "execution_count": 3,
   "metadata": {},
   "outputs": [
    {
     "name": "stdout",
     "output_type": "stream",
     "text": [
      "\n",
      "Expanding stereochemistry...\n"
     ]
    },
    {
     "data": {
      "application/vnd.jupyter.widget-view+json": {
       "model_id": "00b6237ecd39465c91fdeef44a9d9bf8",
       "version_major": 2,
       "version_minor": 0
      },
      "text/plain": [
       "  0%|          | 0/8 [00:00<?, ?it/s]"
      ]
     },
     "metadata": {},
     "output_type": "display_data"
    },
    {
     "data": {
      "application/vnd.jupyter.widget-view+json": {
       "model_id": "6ad818a610464eaaa6e41f677b4625b2",
       "version_major": 2,
       "version_minor": 0
      },
      "text/plain": [
       "  0%|          | 0/9 [00:00<?, ?it/s]"
      ]
     },
     "metadata": {},
     "output_type": "display_data"
    },
    {
     "data": {
      "application/vnd.jupyter.widget-view+json": {
       "model_id": "023a1d50665f4b5388234b0574422573",
       "version_major": 2,
       "version_minor": 0
      },
      "text/plain": [
       "  0%|          | 0/4 [00:00<?, ?it/s]"
      ]
     },
     "metadata": {},
     "output_type": "display_data"
    },
    {
     "name": "stdout",
     "output_type": "stream",
     "text": [
      "\n",
      "Stereoexpansion errors:\n",
      "\n",
      "Writing generated mechanism...\n",
      "../data/D_r-o2_1e_v0_gen.json\n"
     ]
    }
   ],
   "source": [
    "# Prepare calculation\n",
    "ste_mech = workflow.expand_stereo(mech=gen_mech, tag=tag, root_path=root_path)"
   ]
  },
  {
   "cell_type": "code",
   "execution_count": 4,
   "metadata": {},
   "outputs": [
    {
     "name": "stdout",
     "output_type": "stream",
     "text": [
      "\n",
      "Sorting mechanism...\n",
      "\n",
      "Writing mechanism...\n",
      "../data/D_r-o2_1e_v0_ste.json\n",
      "../data/mechanalyzer/D_r-o2_1e_v0_ste.dat\n",
      "../data/mechanalyzer/D_r-o2_1e_v0_ste.csv\n"
     ]
    },
    {
     "data": {
      "application/vnd.jupyter.widget-view+json": {
       "model_id": "c7d28d34dd51446ea6037be0b053bfff",
       "version_major": 2,
       "version_minor": 0
      },
      "text/plain": [
       "  0%|          | 0/9 [00:00<?, ?it/s]"
      ]
     },
     "metadata": {},
     "output_type": "display_data"
    },
    {
     "data": {
      "application/vnd.jupyter.widget-view+json": {
       "model_id": "a0e7e1d47ccc451aafb6772f6958a744",
       "version_major": 2,
       "version_minor": 0
      },
      "text/plain": [
       "  0%|          | 0/9 [00:00<?, ?it/s]"
      ]
     },
     "metadata": {},
     "output_type": "display_data"
    },
    {
     "data": {
      "application/vnd.jupyter.widget-view+json": {
       "model_id": "ef28a422ec784765b60ce145e8ecabe6",
       "version_major": 2,
       "version_minor": 0
      },
      "text/plain": [
       "  0%|          | 0/9 [00:00<?, ?it/s]"
      ]
     },
     "metadata": {},
     "output_type": "display_data"
    }
   ],
   "source": [
    "# Prepare calculation\n",
    "workflow.prepare_calculation(ste_mech=ste_mech, tag=tag, root_path=root_path)"
   ]
  },
  {
   "cell_type": "code",
   "execution_count": 5,
   "metadata": {},
   "outputs": [],
   "source": [
    "# # Gather statistics\n",
    "# workflow.gather_statistics(tag=tag, root_path=root_path)"
   ]
  },
  {
   "cell_type": "code",
   "execution_count": 6,
   "metadata": {},
   "outputs": [],
   "source": [
    "# # Prepare simulation\n",
    "# workflow.prepare_simulation(tag=tag, root_path=root_path)\n",
    "# workflow.prepare_simulation_species(tag=tag, root_path=root_path)"
   ]
  },
  {
   "cell_type": "code",
   "execution_count": 7,
   "metadata": {},
   "outputs": [],
   "source": [
    "# # Check rates\n",
    "# workflow.plot_rates(tag=tag, root_path=root_path)"
   ]
  },
  {
   "cell_type": "code",
   "execution_count": 8,
   "metadata": {},
   "outputs": [],
   "source": [
    "# # Plot simulation\n",
    "# chart_dct = workflow.plot_simulation(\n",
    "#     tag=tag,\n",
    "#     x_col=\"O2_molecules\",\n",
    "#     root_path=root_path,\n",
    "#     line_source_=[\"Hill\", \"Lokachari\"],\n",
    "#     point_source=\"Experiment\",\n",
    "#     control=False,\n",
    "# )\n",
    "# mech = automech.io.read(\n",
    "#     p_.full_calculated_mechanism(tag, \"json\", path=p_.data(root_path))\n",
    "# )\n",
    "# for name, chart in chart_dct.items():\n",
    "#     automech.display_species(mech, [name])\n",
    "#     chart.show()"
   ]
  },
  {
   "cell_type": "code",
   "execution_count": 9,
   "metadata": {},
   "outputs": [],
   "source": [
    "# # Check TS\n",
    "# from mechdriver.subtasks import display\n",
    "\n",
    "# chan = \"2: 5\"\n",
    "\n",
    "# #   - Read in expanded mechanism\n",
    "# mech_path = p_.mechanism(tag, ext=\"json\", path=p_.data(root_path))\n",
    "# mech = automech.io.read(mech_path)\n",
    "\n",
    "# #   - Display the reaction\n",
    "# automech.display_reactions(mech, chans=[chan])"
   ]
  },
  {
   "cell_type": "code",
   "execution_count": 10,
   "metadata": {},
   "outputs": [],
   "source": [
    "# #   - Display the TS mode\n",
    "# calc_path = p_.calc(root_path, tag)\n",
    "# display(\"conf_opt\", chan, path=calc_path)"
   ]
  },
  {
   "cell_type": "code",
   "execution_count": 11,
   "metadata": {},
   "outputs": [],
   "source": [
    "# #   - Display the TS mode\n",
    "# calc_path = p_.calc(root_path, tag)\n",
    "# display(\"find_ts\", chan, path=calc_path)"
   ]
  }
 ],
 "metadata": {
  "kernelspec": {
   "display_name": "proto",
   "language": "python",
   "name": "python3"
  },
  "language_info": {
   "codemirror_mode": {
    "name": "ipython",
    "version": 3
   },
   "file_extension": ".py",
   "mimetype": "text/x-python",
   "name": "python",
   "nbconvert_exporter": "python",
   "pygments_lexer": "ipython3",
   "version": "3.11.12"
  }
 },
 "nbformat": 4,
 "nbformat_minor": 2
}
