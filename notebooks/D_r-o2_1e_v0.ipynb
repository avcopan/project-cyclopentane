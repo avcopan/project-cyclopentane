{
 "cells": [
  {
   "cell_type": "code",
   "execution_count": 1,
   "metadata": {},
   "outputs": [],
   "source": [
    "from pathlib import Path\n",
    "\n",
    "import util\n",
    "from util import p_, workflow\n",
    "\n",
    "import automech\n",
    "\n",
    "file = util.notebook_file() if util.is_notebook() else __file__\n",
    "tag = util.file_tag(file)\n",
    "root_path = Path(\"..\")\n",
    "par_mech = workflow.read_parent_mechanism(root_path=root_path)"
   ]
  },
  {
   "cell_type": "code",
   "execution_count": 2,
   "metadata": {},
   "outputs": [
    {
     "data": {
      "application/vnd.jupyter.widget-view+json": {
       "model_id": "5a971f93b87e4c94a6ea89829c6e2d61",
       "version_major": 2,
       "version_minor": 0
      },
      "text/plain": [
       "  0%|          | 0/2 [00:00<?, ?it/s]"
      ]
     },
     "metadata": {},
     "output_type": "display_data"
    },
    {
     "data": {
      "application/vnd.jupyter.widget-view+json": {
       "model_id": "65e8e27f4bff4a93a5e8dd3d95a70660",
       "version_major": 2,
       "version_minor": 0
      },
      "text/plain": [
       "  0%|          | 0/3 [00:00<?, ?it/s]"
      ]
     },
     "metadata": {},
     "output_type": "display_data"
    }
   ],
   "source": [
    "# Generate submechanism\n",
    "from automol.graph import enum\n",
    "\n",
    "from automech.species import Species\n",
    "\n",
    "mech = automech.from_smiles(\n",
    "    spc_smis=[\"C1=C[CH]CC1\", \"C1=CC[CH]C1\"],\n",
    "    src_mech=par_mech,\n",
    ")\n",
    "#  - Additions\n",
    "mech = automech.enumerate_reactions(\n",
    "    mech,\n",
    "    enum.ReactionSmarts.o2_addition,\n",
    "    rcts_=[None, \"[O][O]\"],\n",
    "    spc_col_=Species.smiles,\n",
    "    src_mech=par_mech,\n",
    ")\n",
    "#  - Eliminations\n",
    "mech = automech.enumerate_reactions(\n",
    "    mech,\n",
    "    enum.ReactionSmarts.ho2_elimination,\n",
    "    spc_col_=Species.smiles,\n",
    "    src_mech=par_mech,\n",
    ")\n",
    "#  - Drop reactions:\n",
    "mech = automech.drop_reactions_by_smiles(\n",
    "    # >> Beta elimination: all TSs converge to VDW SPs:\n",
    "    mech, rxn_smis=[\"[O]OC1C=CCC1>>C=1=CCCC=1.[O]O\"]\n",
    ")\n",
    "automech.display(mech)"
   ]
  },
  {
   "cell_type": "code",
   "execution_count": 3,
   "metadata": {},
   "outputs": [
    {
     "name": "stdout",
     "output_type": "stream",
     "text": [
      "\n",
      "Finalizing build for...\n",
      "reactions=shape: (4, 5)\n",
      "┌───────────────┬─────────────────────────┬───────────┬────────────┬───────────────────────────────┐\n",
      "│ reactants     ┆ products                ┆ formula   ┆ reversible ┆ rate                          │\n",
      "│ ---           ┆ ---                     ┆ ---       ┆ ---        ┆ ---                           │\n",
      "│ list[str]     ┆ list[str]               ┆ struct[3] ┆ bool       ┆ struct[18]                    │\n",
      "╞═══════════════╪═════════════════════════╪═══════════╪════════════╪═══════════════════════════════╡\n",
      "│ [\"S(1206)\"]   ┆ [\"HO2(8)\", \"C5H6(478)\"] ┆ {5,7,2}   ┆ true       ┆ {1,{null,null,null,null,null, │\n",
      "│               ┆                         ┆           ┆            ┆ n…                            │\n",
      "│ [\"S(602)\"]    ┆ [\"C5H6(478)\", \"HO2(8)\"] ┆ {5,7,2}   ┆ true       ┆ {1,{null,null,null,null,null, │\n",
      "│               ┆                         ┆           ┆            ┆ n…                            │\n",
      "│ [\"C5H7(504)\", ┆ [\"S(602)\"]              ┆ {5,7,2}   ┆ true       ┆ {2,{null,null,null,null,null, │\n",
      "│ \"O2(6)\"]      ┆                         ┆           ┆            ┆ n…                            │\n",
      "│ [\"O2(6)\",     ┆ [\"S(1206)\"]             ┆ {5,7,2}   ┆ true       ┆ {2,{null,null,null,null,null, │\n",
      "│ \"C5H7(500)\"]  ┆                         ┆           ┆            ┆ n…                            │\n",
      "└───────────────┴─────────────────────────┴───────────┴────────────┴───────────────────────────────┘ species=shape: (8, 7)\n",
      "┌────────────┬──────────────┬──────────────────┬──────┬────────┬─────────────────┬─────────────────┐\n",
      "│ name       ┆ smiles       ┆ amchi            ┆ spin ┆ charge ┆ formula         ┆ therm           │\n",
      "│ ---        ┆ ---          ┆ ---              ┆ ---  ┆ ---    ┆ ---             ┆ ---             │\n",
      "│ str        ┆ str          ┆ str              ┆ i64  ┆ i64    ┆ struct[7]       ┆ struct[8]       │\n",
      "╞════════════╪══════════════╪══════════════════╪══════╪════════╪═════════════════╪═════════════════╡\n",
      "│ C5H7(500)  ┆ C1C[CH]C=C1  ┆ AMChI=1/C5H7/c1- ┆ 1    ┆ 0      ┆ {7,null,null,nu ┆ {298.0,5000.0,{ │\n",
      "│            ┆              ┆ 2-4-5-3-1/h1-3…  ┆      ┆        ┆ ll,null,5,null} ┆ null,null,7,nul │\n",
      "│            ┆              ┆                  ┆      ┆        ┆                 ┆ …               │\n",
      "│ O2(6)      ┆ O=O          ┆ AMChI=1/O2/c1-2  ┆ 2    ┆ 0      ┆ {null,2,null,nu ┆ {200.0,6000.0,{ │\n",
      "│            ┆              ┆                  ┆      ┆        ┆ ll,null,null,nu ┆ null,null,null, │\n",
      "│            ┆              ┆                  ┆      ┆        ┆ …               ┆ …               │\n",
      "│ S(1206)    ┆ [O]OC1CCC=C1 ┆ AMChI=1/C5H7O2/c ┆ 1    ┆ 0      ┆ {7,2,null,null, ┆ {100.0,5000.0,{ │\n",
      "│            ┆              ┆ 6-7-5-2-1-3-4-…  ┆      ┆        ┆ null,5,null}    ┆ null,null,7,2,n │\n",
      "│            ┆              ┆                  ┆      ┆        ┆                 ┆ …               │\n",
      "│ C5H7(504)  ┆ C1[CH]CC=C1  ┆ AMChI=1/C5H7/c1- ┆ 1    ┆ 0      ┆ {7,null,null,nu ┆ {298.0,5000.0,{ │\n",
      "│            ┆              ┆ 2-5-3-4-1/h1-3…  ┆      ┆        ┆ ll,null,5,null} ┆ null,null,7,nul │\n",
      "│            ┆              ┆                  ┆      ┆        ┆                 ┆ …               │\n",
      "│ S(602)     ┆ [O]OC1CC=CC1 ┆ AMChI=1/C5H7O2/c ┆ 1    ┆ 0      ┆ {7,2,null,null, ┆ {298.0,5000.0,{ │\n",
      "│            ┆              ┆ 6-7-5-3-1-2-4-…  ┆      ┆        ┆ null,5,null}    ┆ null,null,7,2,n │\n",
      "│            ┆              ┆                  ┆      ┆        ┆                 ┆ …               │\n",
      "│ C5H6alwnib ┆ C=1=CCCC=1   ┆ AMChI=1/C5H6/c1- ┆ 0    ┆ 0      ┆ {6,null,null,nu ┆ null            │\n",
      "│            ┆              ┆ 2-4-5-3-1/h2-3…  ┆      ┆        ┆ ll,null,5,null} ┆                 │\n",
      "│ HO2(8)     ┆ O[O]         ┆ AMChI=1/HO2/c1-2 ┆ 1    ┆ 0      ┆ {1,2,null,null, ┆ {200.0,5000.0,{ │\n",
      "│            ┆              ┆ /h2H             ┆      ┆        ┆ null,null,null} ┆ null,null,1,2,n │\n",
      "│            ┆              ┆                  ┆      ┆        ┆                 ┆ …               │\n",
      "│ C5H6(478)  ┆ C1C=CC=C1    ┆ AMChI=1/C5H6/c1- ┆ 0    ┆ 0      ┆ {6,null,null,nu ┆ {200.0,6000.0,{ │\n",
      "│            ┆              ┆ 2-4-5-3-1/h1-4…  ┆      ┆        ┆ ll,null,5,null} ┆ null,null,6,nul │\n",
      "│            ┆              ┆                  ┆      ┆        ┆                 ┆ …               │\n",
      "└────────────┴──────────────┴──────────────────┴──────┴────────┴─────────────────┴─────────────────┘\n",
      "\n",
      "Expanding stereochemistry...\n"
     ]
    },
    {
     "data": {
      "application/vnd.jupyter.widget-view+json": {
       "model_id": "ba5ff1d4880f4bf581649a09c4ef1de4",
       "version_major": 2,
       "version_minor": 0
      },
      "text/plain": [
       "  0%|          | 0/8 [00:00<?, ?it/s]"
      ]
     },
     "metadata": {},
     "output_type": "display_data"
    },
    {
     "data": {
      "application/vnd.jupyter.widget-view+json": {
       "model_id": "1f89e8545e954449a9d529151df7df9e",
       "version_major": 2,
       "version_minor": 0
      },
      "text/plain": [
       "  0%|          | 0/9 [00:00<?, ?it/s]"
      ]
     },
     "metadata": {},
     "output_type": "display_data"
    },
    {
     "data": {
      "application/vnd.jupyter.widget-view+json": {
       "model_id": "3aca1e4766bd486daebfdf3d0c6ec185",
       "version_major": 2,
       "version_minor": 0
      },
      "text/plain": [
       "  0%|          | 0/4 [00:00<?, ?it/s]"
      ]
     },
     "metadata": {},
     "output_type": "display_data"
    },
    {
     "name": "stdout",
     "output_type": "stream",
     "text": [
      "\n",
      "Writing mechanism...\n",
      "../data/D_r-o2_1e_v0_gen.json\n",
      "../data/D_r-o2_1e_v0_ste.json\n",
      "../data/mechanalyzer/D_r-o2_1e_v0_ste.dat\n",
      "../data/mechanalyzer/D_r-o2_1e_v0_ste.csv\n"
     ]
    },
    {
     "data": {
      "application/vnd.jupyter.widget-view+json": {
       "model_id": "dcba473aa929411393368f2f1eb1967a",
       "version_major": 2,
       "version_minor": 0
      },
      "text/plain": [
       "  0%|          | 0/9 [00:00<?, ?it/s]"
      ]
     },
     "metadata": {},
     "output_type": "display_data"
    },
    {
     "data": {
      "application/vnd.jupyter.widget-view+json": {
       "model_id": "7f6beb0b244e4485b82537fa1535b44c",
       "version_major": 2,
       "version_minor": 0
      },
      "text/plain": [
       "  0%|          | 0/9 [00:00<?, ?it/s]"
      ]
     },
     "metadata": {},
     "output_type": "display_data"
    },
    {
     "data": {
      "application/vnd.jupyter.widget-view+json": {
       "model_id": "c9e3b437ccc14363a0b59f76efa32c1f",
       "version_major": 2,
       "version_minor": 0
      },
      "text/plain": [
       "  0%|          | 0/9 [00:00<?, ?it/s]"
      ]
     },
     "metadata": {},
     "output_type": "display_data"
    },
    {
     "name": "stdout",
     "output_type": "stream",
     "text": [
      "\n",
      "Stereoexpansion errors:\n"
     ]
    }
   ],
   "source": [
    "# Prepare calculation\n",
    "workflow.prepare_calculation(mech=mech, tag=tag, root_path=root_path)"
   ]
  },
  {
   "cell_type": "code",
   "execution_count": 4,
   "metadata": {},
   "outputs": [],
   "source": [
    "# # Prepare simulation\n",
    "# workflow.prepare_simulation(tag=tag, root_path=root_path)\n",
    "# workflow.prepare_simulation_species(tag=tag, root_path=root_path)"
   ]
  },
  {
   "cell_type": "code",
   "execution_count": 5,
   "metadata": {},
   "outputs": [],
   "source": [
    "# # Check rates\n",
    "# workflow.plot_rates(tag=tag, root_path=root_path)"
   ]
  },
  {
   "cell_type": "code",
   "execution_count": 6,
   "metadata": {},
   "outputs": [],
   "source": [
    "# # Plot simulation\n",
    "# chart_dct = workflow.plot_simulation(\n",
    "#     tag=tag,\n",
    "#     x_col=\"O2_molecules\",\n",
    "#     root_path=root_path,\n",
    "#     line_source_=[\"Hill\", \"Lokachari\"],\n",
    "#     point_source=\"Experiment\",\n",
    "#     control=False,\n",
    "# )\n",
    "# mech = automech.io.read(\n",
    "#     p_.full_calculated_mechanism(tag, \"json\", path=p_.data(root_path))\n",
    "# )\n",
    "# for name, chart in chart_dct.items():\n",
    "#     automech.display_species(mech, [name])\n",
    "#     chart.show()"
   ]
  },
  {
   "cell_type": "code",
   "execution_count": 7,
   "metadata": {},
   "outputs": [],
   "source": [
    "# # Check TS\n",
    "# from mechdriver.subtasks import display\n",
    "\n",
    "# chan = \"2: 5\"\n",
    "\n",
    "# #   - Read in expanded mechanism\n",
    "# mech_path = p_.mechanism(tag, ext=\"json\", path=p_.data(root_path))\n",
    "# mech = automech.io.read(mech_path)\n",
    "\n",
    "# #   - Display the reaction\n",
    "# automech.display_reactions(mech, chans=[chan])"
   ]
  },
  {
   "cell_type": "code",
   "execution_count": 8,
   "metadata": {},
   "outputs": [],
   "source": [
    "# #   - Display the TS mode\n",
    "# calc_path = p_.calc(root_path, tag)\n",
    "# display(\"conf_opt\", chan, path=calc_path)"
   ]
  },
  {
   "cell_type": "code",
   "execution_count": 9,
   "metadata": {},
   "outputs": [],
   "source": [
    "# #   - Display the TS mode\n",
    "# calc_path = p_.calc(root_path, tag)\n",
    "# display(\"find_ts\", chan, path=calc_path)"
   ]
  }
 ],
 "metadata": {
  "kernelspec": {
   "display_name": "proto",
   "language": "python",
   "name": "python3"
  },
  "language_info": {
   "codemirror_mode": {
    "name": "ipython",
    "version": 3
   },
   "file_extension": ".py",
   "mimetype": "text/x-python",
   "name": "python",
   "nbconvert_exporter": "python",
   "pygments_lexer": "ipython3",
   "version": "3.11.11"
  }
 },
 "nbformat": 4,
 "nbformat_minor": 2
}
