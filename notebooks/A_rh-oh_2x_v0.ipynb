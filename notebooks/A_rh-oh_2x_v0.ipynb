{
 "cells": [
  {
   "cell_type": "code",
   "execution_count": 1,
   "metadata": {},
   "outputs": [],
   "source": [
    "from pathlib import Path\n",
    "\n",
    "import util\n",
    "from util import p_, workflow\n",
    "\n",
    "import automech\n",
    "\n",
    "file = util.notebook_file() if util.is_notebook() else __file__\n",
    "tag = util.file_tag(file)\n",
    "root_path = Path(\"..\")\n",
    "par_mech = workflow.read_parent_mechanism(root_path=root_path)"
   ]
  },
  {
   "cell_type": "code",
   "execution_count": 2,
   "metadata": {},
   "outputs": [
    {
     "data": {
      "application/vnd.jupyter.widget-view+json": {
       "model_id": "fdcde1b060374eb6b03862bbbd416158",
       "version_major": 2,
       "version_minor": 0
      },
      "text/plain": [
       "  0%|          | 0/1 [00:00<?, ?it/s]"
      ]
     },
     "metadata": {},
     "output_type": "display_data"
    }
   ],
   "source": [
    "# Generate submechanism\n",
    "from automol.graph import enum\n",
    "\n",
    "from automech.species import Species\n",
    "\n",
    "mech = automech.from_smiles(spc_smis=[\"C12C(O2)CCC1\"], src_mech=par_mech)\n",
    "#  - Abstractions\n",
    "mech = automech.enumerate_reactions(\n",
    "    mech,\n",
    "    enum.ReactionSmarts.abstraction,\n",
    "    rcts_=[None, \"[OH]\"],\n",
    "    spc_col_=Species.smiles,\n",
    "    src_mech=par_mech,\n",
    ")\n",
    "automech.display(mech)"
   ]
  },
  {
   "cell_type": "code",
   "execution_count": 3,
   "metadata": {},
   "outputs": [
    {
     "name": "stdout",
     "output_type": "stream",
     "text": [
      "\n",
      "Finalizing build for...\n",
      "reactions=shape: (3, 5)\n",
      "┌────────────────┬────────────────────────────┬───────────┬────────────┬───────────────────────────┐\n",
      "│ reactants      ┆ products                   ┆ formula   ┆ reversible ┆ rate                      │\n",
      "│ ---            ┆ ---                        ┆ ---       ┆ ---        ┆ ---                       │\n",
      "│ list[str]      ┆ list[str]                  ┆ struct[3] ┆ bool       ┆ struct[18]                │\n",
      "╞════════════════╪════════════════════════════╪═══════════╪════════════╪═══════════════════════════╡\n",
      "│ [\"C5H8O(825)\", ┆ [\"S(1289)\", \"H2O(5)\"]      ┆ {5,9,2}   ┆ null       ┆ null                      │\n",
      "│ \"OH(4)\"]       ┆                            ┆           ┆            ┆                           │\n",
      "│ [\"C5H8O(825)\", ┆ [\"C5H7O(758)\", \"H2O(5)\"]   ┆ {5,9,2}   ┆ true       ┆ {2,{null,null,null,null,n │\n",
      "│ \"OH(4)\"]       ┆                            ┆           ┆            ┆ ull,n…                    │\n",
      "│ [\"C5H8O(825)\", ┆ [\"S(1314)\", \"H2O(5)\"]      ┆ {5,9,2}   ┆ null       ┆ null                      │\n",
      "│ \"OH(4)\"]       ┆                            ┆           ┆            ┆                           │\n",
      "└────────────────┴────────────────────────────┴───────────┴────────────┴───────────────────────────┘ species=shape: (6, 7)\n",
      "┌────────────┬───────────────┬─────────────────┬──────┬────────┬─────────────────┬─────────────────┐\n",
      "│ name       ┆ smiles        ┆ amchi           ┆ spin ┆ charge ┆ formula         ┆ therm           │\n",
      "│ ---        ┆ ---           ┆ ---             ┆ ---  ┆ ---    ┆ ---             ┆ ---             │\n",
      "│ str        ┆ str           ┆ str             ┆ i64  ┆ i64    ┆ struct[7]       ┆ struct[8]       │\n",
      "╞════════════╪═══════════════╪═════════════════╪══════╪════════╪═════════════════╪═════════════════╡\n",
      "│ C5H8O(825) ┆ O1C2C1CCC2    ┆ AMChI=1/C5H8O/c ┆ 0    ┆ 0      ┆ {8,1,null,null, ┆ {300.0,5000.0,{ │\n",
      "│            ┆               ┆ 1-2-4-5(6-4)3-1 ┆      ┆        ┆ null,5,null}    ┆ null,null,8,1,n │\n",
      "│            ┆               ┆ …               ┆      ┆        ┆                 ┆ …               │\n",
      "│ OH(4)      ┆ [OH]          ┆ AMChI=1/HO/h1H  ┆ 1    ┆ 0      ┆ {1,1,null,null, ┆ {200.0,6000.0,{ │\n",
      "│            ┆               ┆                 ┆      ┆        ┆ null,null,null} ┆ null,null,1,1,n │\n",
      "│            ┆               ┆                 ┆      ┆        ┆                 ┆ …               │\n",
      "│ S(1289)    ┆ O1C2C1C[CH]C2 ┆ AMChI=1/C5H7O/c ┆ 1    ┆ 0      ┆ {7,1,null,null, ┆ {100.0,5000.0,{ │\n",
      "│            ┆               ┆ 1-2-4-5(6-4)3-1 ┆      ┆        ┆ null,5,null}    ┆ null,null,7,1,n │\n",
      "│            ┆               ┆ …               ┆      ┆        ┆                 ┆ …               │\n",
      "│ H2O(5)     ┆ O             ┆ AMChI=1/H2O/h1H ┆ 0    ┆ 0      ┆ {2,1,null,null, ┆ {200.0,6000.0,{ │\n",
      "│            ┆               ┆ 2               ┆      ┆        ┆ null,null,null} ┆ null,null,2,1,n │\n",
      "│            ┆               ┆                 ┆      ┆        ┆                 ┆ …               │\n",
      "│ C5H7O(758) ┆ O1C2C1[CH]CC2 ┆ AMChI=1/C5H7O/c ┆ 1    ┆ 0      ┆ {7,1,null,null, ┆ {298.0,5000.0,{ │\n",
      "│            ┆               ┆ 1-2-3-5-4(1)6-5 ┆      ┆        ┆ null,5,null}    ┆ null,null,7,1,n │\n",
      "│            ┆               ┆ …               ┆      ┆        ┆                 ┆ …               │\n",
      "│ S(1314)    ┆ O1C2CCC[C]12  ┆ AMChI=1/C5H7O/c ┆ 1    ┆ 0      ┆ {7,1,null,null, ┆ {100.0,5000.0,{ │\n",
      "│            ┆               ┆ 1-2-4-5(6-4)3-1 ┆      ┆        ┆ null,5,null}    ┆ null,null,7,1,n │\n",
      "│            ┆               ┆ …               ┆      ┆        ┆                 ┆ …               │\n",
      "└────────────┴───────────────┴─────────────────┴──────┴────────┴─────────────────┴─────────────────┘\n",
      "\n",
      "Expanding stereochemistry...\n"
     ]
    },
    {
     "data": {
      "application/vnd.jupyter.widget-view+json": {
       "model_id": "8b1163b5b3944b1491ecf2d8a4a4a541",
       "version_major": 2,
       "version_minor": 0
      },
      "text/plain": [
       "  0%|          | 0/6 [00:00<?, ?it/s]"
      ]
     },
     "metadata": {},
     "output_type": "display_data"
    },
    {
     "data": {
      "application/vnd.jupyter.widget-view+json": {
       "model_id": "4d87482138e2486eac3344e980a57820",
       "version_major": 2,
       "version_minor": 0
      },
      "text/plain": [
       "  0%|          | 0/8 [00:00<?, ?it/s]"
      ]
     },
     "metadata": {},
     "output_type": "display_data"
    },
    {
     "data": {
      "application/vnd.jupyter.widget-view+json": {
       "model_id": "29d39d6eec864bcdbe23a2e88aba2611",
       "version_major": 2,
       "version_minor": 0
      },
      "text/plain": [
       "  0%|          | 0/3 [00:00<?, ?it/s]"
      ]
     },
     "metadata": {},
     "output_type": "display_data"
    },
    {
     "name": "stdout",
     "output_type": "stream",
     "text": [
      "\n",
      "Writing mechanism...\n",
      "../data/A_rh-oh_2x_v0_gen.json\n",
      "../data/A_rh-oh_2x_v0_ste.json\n",
      "../data/mechanalyzer/A_rh-oh_2x_v0_ste.dat\n",
      "../data/mechanalyzer/A_rh-oh_2x_v0_ste.csv\n"
     ]
    },
    {
     "data": {
      "application/vnd.jupyter.widget-view+json": {
       "model_id": "17ad76ae349944e397913c07e9421436",
       "version_major": 2,
       "version_minor": 0
      },
      "text/plain": [
       "  0%|          | 0/8 [00:00<?, ?it/s]"
      ]
     },
     "metadata": {},
     "output_type": "display_data"
    },
    {
     "data": {
      "application/vnd.jupyter.widget-view+json": {
       "model_id": "d3c60638a76a460c841a9298ab8a58af",
       "version_major": 2,
       "version_minor": 0
      },
      "text/plain": [
       "  0%|          | 0/8 [00:00<?, ?it/s]"
      ]
     },
     "metadata": {},
     "output_type": "display_data"
    },
    {
     "data": {
      "application/vnd.jupyter.widget-view+json": {
       "model_id": "bc831322c9b54812ad78d05094088c71",
       "version_major": 2,
       "version_minor": 0
      },
      "text/plain": [
       "  0%|          | 0/8 [00:00<?, ?it/s]"
      ]
     },
     "metadata": {},
     "output_type": "display_data"
    },
    {
     "name": "stdout",
     "output_type": "stream",
     "text": [
      "\n",
      "Stereoexpansion errors:\n"
     ]
    }
   ],
   "source": [
    "# Prepare calculation\n",
    "workflow.prepare_calculation(mech=mech, tag=tag, root_path=root_path)"
   ]
  },
  {
   "cell_type": "code",
   "execution_count": 4,
   "metadata": {},
   "outputs": [],
   "source": [
    "# # Prepare simulation\n",
    "# workflow.prepare_simulation(tag=tag, root_path=root_path)\n",
    "# workflow.prepare_simulation_species(tag=tag, root_path=root_path)"
   ]
  },
  {
   "cell_type": "code",
   "execution_count": 5,
   "metadata": {},
   "outputs": [],
   "source": [
    "# # Check rates\n",
    "# workflow.plot_rates(tag=tag, root_path=root_path)"
   ]
  },
  {
   "cell_type": "code",
   "execution_count": 6,
   "metadata": {},
   "outputs": [],
   "source": [
    "# # Plot simulation\n",
    "# chart_dct = workflow.plot_simulation(\n",
    "#     tag=tag,\n",
    "#     x_col=\"O2_molecules\",\n",
    "#     root_path=root_path,\n",
    "#     line_source_=[\"Hill\", \"Lokachari\"],\n",
    "#     point_source=\"Experiment\",\n",
    "#     control=False,\n",
    "# )\n",
    "# mech = automech.io.read(\n",
    "#     p_.full_calculated_mechanism(tag, \"json\", path=p_.data(root_path))\n",
    "# )\n",
    "# for name, chart in chart_dct.items():\n",
    "#     automech.display_species(mech, [name])\n",
    "#     chart.show()"
   ]
  },
  {
   "cell_type": "code",
   "execution_count": 7,
   "metadata": {},
   "outputs": [],
   "source": [
    "# # Check TS\n",
    "# from mechdriver.subtasks import display\n",
    "\n",
    "# chan = \"2: 5\"\n",
    "\n",
    "# #   - Read in expanded mechanism\n",
    "# mech_path = p_.mechanism(tag, ext=\"json\", path=p_.data(root_path))\n",
    "# mech = automech.io.read(mech_path)\n",
    "\n",
    "# #   - Display the reaction\n",
    "# automech.display_reactions(mech, chans=[chan])"
   ]
  },
  {
   "cell_type": "code",
   "execution_count": 8,
   "metadata": {},
   "outputs": [],
   "source": [
    "# #   - Display the TS mode\n",
    "# calc_path = p_.calc(root_path, tag)\n",
    "# display(\"conf_opt\", chan, path=calc_path)"
   ]
  },
  {
   "cell_type": "code",
   "execution_count": 9,
   "metadata": {},
   "outputs": [],
   "source": [
    "# #   - Display the TS mode\n",
    "# calc_path = p_.calc(root_path, tag)\n",
    "# display(\"find_ts\", chan, path=calc_path)"
   ]
  }
 ],
 "metadata": {
  "kernelspec": {
   "display_name": "proto",
   "language": "python",
   "name": "python3"
  },
  "language_info": {
   "codemirror_mode": {
    "name": "ipython",
    "version": 3
   },
   "file_extension": ".py",
   "mimetype": "text/x-python",
   "name": "python",
   "nbconvert_exporter": "python",
   "pygments_lexer": "ipython3",
   "version": "3.11.12"
  }
 },
 "nbformat": 4,
 "nbformat_minor": 2
}
