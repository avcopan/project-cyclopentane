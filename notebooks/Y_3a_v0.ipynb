{
 "cells": [
  {
   "cell_type": "code",
   "execution_count": 1,
   "metadata": {},
   "outputs": [],
   "source": [
    "from pathlib import Path\n",
    "\n",
    "import util\n",
    "from util import p_, workflow\n",
    "\n",
    "import automech\n",
    "\n",
    "file = util.notebook_file() if util.is_notebook() else __file__\n",
    "tag = util.file_tag(file)\n",
    "root_path = Path(\"..\")\n",
    "par_mech = workflow.read_parent_mechanism(root_path=root_path)"
   ]
  },
  {
   "cell_type": "code",
   "execution_count": 2,
   "metadata": {},
   "outputs": [],
   "source": [
    "# # Generate submechanism\n",
    "# sub_tags = [\n",
    "#     # 0a\n",
    "#     \"A_rh-oh_0a_v0\",\n",
    "#     \"B_rh-ho2_0a_v0\",\n",
    "#     \"C_r_0a_v0\",\n",
    "#     \"D_r-o2_0a_v0\",\n",
    "#     # 1e\n",
    "#     \"A_rh-oh_1e-1_v0\",\n",
    "#     \"B_rh-ho2_1e-1_v0\",\n",
    "#     \"B_rh-ho2_1e-2_v0\",\n",
    "#     \"C_r_1e_v0\",\n",
    "#     \"D_r-o2_1e_v0\",\n",
    "#     # 2x\n",
    "#     \"A_rh-oh_2x_v0\",\n",
    "#     \"B_rh-ho2_2x_v0\",\n",
    "#     \"C_r_2x_v0\",\n",
    "#     \"D_r-o2_2x_v0\",\n",
    "#     # 3o\n",
    "#     # \"C_r_3o_v0\",  # has numerical problems\n",
    "#     \"D_r-o2_3o_v0\",\n",
    "# ]\n",
    "# gen_paths = [p_.generated_mechanism(t, \"json\", p_.data(root_path)) for t in sub_tags]\n",
    "# ste_paths = [p_.stereo_mechanism(t, \"json\", p_.data(root_path)) for t in sub_tags]\n",
    "# gen_mechs = [automech.io.read(p) for p in gen_paths]\n",
    "# ste_mechs = [automech.io.read(p) for p in ste_paths]\n",
    "# gen_mech = automech.combine_all(gen_mechs)\n",
    "# ste_mech = automech.combine_all(ste_mechs)\n",
    "# gen_mech = automech.drop_duplicate_reactions(gen_mech)\n",
    "# ste_mech = automech.drop_duplicate_reactions(ste_mech)\n",
    "# automech.display(gen_mech)"
   ]
  },
  {
   "cell_type": "code",
   "execution_count": 3,
   "metadata": {},
   "outputs": [],
   "source": [
    "# # Prepare calculation\n",
    "# workflow.prepare_calculation(\n",
    "#     gen_mech=gen_mech, ste_mech=ste_mech, tag=tag, root_path=root_path\n",
    "# )"
   ]
  },
  {
   "cell_type": "code",
   "execution_count": 4,
   "metadata": {},
   "outputs": [
    {
     "name": "stdout",
     "output_type": "stream",
     "text": [
      "New species and reactions:\n",
      "\n",
      "SPECIES\n",
      "\n",
      "C5H6alwnib  ! SMILES: C=1=CCCC=1  AMChI: AMChI=1/C5H6/c1-2-4-5-3-1/h2-3H,4-5H2\n",
      "\n",
      "END\n",
      "\n",
      "\n",
      "REACTIONS    CAL/MOL   MOL\n",
      "\n",
      "C5H8(522) + OH(4) = C5H7(1202) + H2O(5)                 1.000      0.000      0.000\n",
      "C5H8(522) + HO2(8) = C5H7(1202) + H2O2(10)              1.000      0.000      0.000\n",
      "C5H8O(825) + OH(4) = H2O(5) + S(1289)                   1.000      0.000      0.000\n",
      "C5H8O(825) + OH(4) = H2O(5) + S(1314)                   1.000      0.000      0.000\n",
      "C5H8O(825) + HO2(8) = H2O2(10) + S(1289)                1.000      0.000      0.000\n",
      "\n",
      "END\n",
      "\n",
      "\n",
      "\n",
      "Statistics summary:\n",
      "\n",
      "shape: (5, 3)\n",
      "┌────────────────────┬───────────────┬────────────────┐\n",
      "│ Mechanism          ┆ Species Count ┆ Reaction Count │\n",
      "│ ---                ┆ ---           ┆ ---            │\n",
      "│ str                ┆ i64           ┆ i64            │\n",
      "╞════════════════════╪═══════════════╪════════════════╡\n",
      "│ Parent             ┆ 2534          ┆ 10002          │\n",
      "│ Generated          ┆ 36            ┆ 35             │\n",
      "│ Stereo             ┆ 59            ┆ 63             │\n",
      "│ Generated - Parent ┆ 1             ┆ 5              │\n",
      "│ Stereo - Parent    ┆ 1             ┆ 6              │\n",
      "└────────────────────┴───────────────┴────────────────┘\n"
     ]
    }
   ],
   "source": [
    "# Gather statistics\n",
    "workflow.gather_statistics(tag=tag, root_path=root_path)"
   ]
  },
  {
   "cell_type": "code",
   "execution_count": 5,
   "metadata": {},
   "outputs": [
    {
     "name": "stdout",
     "output_type": "stream",
     "text": [
      "\n",
      "Reading mechanisms...\n",
      "\n",
      "Adding calculated thermo...\n",
      "\n",
      "Adding calculated rates...\n",
      "\n",
      "Expanding and updating parent...\n"
     ]
    },
    {
     "data": {
      "application/vnd.jupyter.widget-view+json": {
       "model_id": "18a8899d52b74727b3838f8d4f3ae114",
       "version_major": 2,
       "version_minor": 0
      },
      "text/plain": [
       "  0%|          | 0/3871 [00:00<?, ?it/s]"
      ]
     },
     "metadata": {},
     "output_type": "display_data"
    },
    {
     "name": "stdout",
     "output_type": "stream",
     "text": [
      "\n",
      "Writing mechanism to JSON...\n",
      "\n",
      "Writing mechanism to Chemkin...\n",
      "Control: ../data/chemkin/full_Y_3a_v0_control.dat\n",
      "Calculated: ../data/chemkin/full_Y_3a_v0_calc.dat\n",
      "\n",
      "Converting ChemKin mechanism to Cantera YAML...\n",
      "Wrote YAML mechanism file to '../data/cantera/full_Y_3a_v0_control.yaml'.\n",
      "Mechanism contains 2557 species and 10307 reactions.\n",
      "Wrote YAML mechanism file to '../data/cantera/full_Y_3a_v0_calc.yaml'.\n",
      "Mechanism contains 2558 species and 10340 reactions.\n",
      "\n",
      "Validating Cantera model...\n",
      "\n",
      "Reading in species...\n",
      "\n",
      "Writing simulation species names to CSV...\n",
      "../data/cantera/Y_3a_v0_species.csv\n"
     ]
    },
    {
     "data": {
      "text/html": [
       "<div><style>\n",
       ".dataframe > thead > tr,\n",
       ".dataframe > tbody > tr {\n",
       "  text-align: right;\n",
       "  white-space: pre-wrap;\n",
       "}\n",
       "</style>\n",
       "<small>shape: (20, 6)</small><table border=\"1\" class=\"dataframe\"><thead><tr><th>orig_name</th><th>Experiment</th><th>Lokachari</th><th>Hill</th><th>concentration</th><th>name</th></tr><tr><td>str</td><td>str</td><td>str</td><td>str</td><td>str</td><td>str</td></tr></thead><tbody><tr><td>&quot;C5H8(522)&quot;</td><td>&quot;cyclopentene&quot;</td><td>&quot;CYC5H8&quot;</td><td>&quot;C5H8(522)&quot;</td><td>null</td><td>&quot;C5H8(522)&quot;</td></tr><tr><td>&quot;C5H8O(825)&quot;</td><td>&quot;1,2-epoxycyclopentane&quot;</td><td>&quot;CPTYO12&quot;</td><td>&quot;C5H8O(825)&quot;</td><td>null</td><td>&quot;C5H8O(825)rs&quot;</td></tr><tr><td>&quot;CPT(563)&quot;</td><td>&quot;cyclopentane&quot;</td><td>&quot;CPT&quot;</td><td>&quot;CPT(563)&quot;</td><td>&quot;CPT_frac&quot;</td><td>&quot;CPT(563)&quot;</td></tr><tr><td>&quot;O2(6)&quot;</td><td>&quot;O2&quot;</td><td>&quot;O2&quot;</td><td>&quot;O2(6)&quot;</td><td>&quot;O2_frac&quot;</td><td>&quot;O2(6)&quot;</td></tr><tr><td>&quot;N2&quot;</td><td>null</td><td>&quot;N2&quot;</td><td>&quot;N2&quot;</td><td>&quot;N2_frac&quot;</td><td>&quot;N2&quot;</td></tr><tr><td>&hellip;</td><td>&hellip;</td><td>&hellip;</td><td>&hellip;</td><td>&hellip;</td><td>&hellip;</td></tr><tr><td>&quot;C4H8(253)&quot;</td><td>&quot;1-butene&quot;</td><td>&quot;C4H8-1&quot;</td><td>&quot;C4H8(253)&quot;</td><td>null</td><td>&quot;C4H8(253)&quot;</td></tr><tr><td>&quot;C5H6(478)&quot;</td><td>&quot;cyclopentadiene&quot;</td><td>&quot;C5H6&quot;</td><td>&quot;C5H6(478)&quot;</td><td>null</td><td>&quot;C5H6(478)&quot;</td></tr><tr><td>&quot;C6H6(970)&quot;</td><td>&quot;benzene&quot;</td><td>&quot;C6H6&quot;</td><td>&quot;C6H6(970)&quot;</td><td>null</td><td>&quot;C6H6(970)&quot;</td></tr><tr><td>&quot;HO2(8)&quot;</td><td>null</td><td>&quot;HO2&quot;</td><td>&quot;HO2(8)&quot;</td><td>null</td><td>&quot;HO2(8)&quot;</td></tr><tr><td>&quot;OH(4)&quot;</td><td>null</td><td>&quot;OH&quot;</td><td>&quot;OH(4)&quot;</td><td>null</td><td>&quot;OH(4)&quot;</td></tr></tbody></table></div>"
      ],
      "text/plain": [
       "shape: (20, 6)\n",
       "┌────────────┬───────────────────────┬───────────┬────────────┬───────────────┬──────────────┐\n",
       "│ orig_name  ┆ Experiment            ┆ Lokachari ┆ Hill       ┆ concentration ┆ name         │\n",
       "│ ---        ┆ ---                   ┆ ---       ┆ ---        ┆ ---           ┆ ---          │\n",
       "│ str        ┆ str                   ┆ str       ┆ str        ┆ str           ┆ str          │\n",
       "╞════════════╪═══════════════════════╪═══════════╪════════════╪═══════════════╪══════════════╡\n",
       "│ C5H8(522)  ┆ cyclopentene          ┆ CYC5H8    ┆ C5H8(522)  ┆ null          ┆ C5H8(522)    │\n",
       "│ C5H8O(825) ┆ 1,2-epoxycyclopentane ┆ CPTYO12   ┆ C5H8O(825) ┆ null          ┆ C5H8O(825)rs │\n",
       "│ CPT(563)   ┆ cyclopentane          ┆ CPT       ┆ CPT(563)   ┆ CPT_frac      ┆ CPT(563)     │\n",
       "│ O2(6)      ┆ O2                    ┆ O2        ┆ O2(6)      ┆ O2_frac       ┆ O2(6)        │\n",
       "│ N2         ┆ null                  ┆ N2        ┆ N2         ┆ N2_frac       ┆ N2           │\n",
       "│ …          ┆ …                     ┆ …         ┆ …          ┆ …             ┆ …            │\n",
       "│ C4H8(253)  ┆ 1-butene              ┆ C4H8-1    ┆ C4H8(253)  ┆ null          ┆ C4H8(253)    │\n",
       "│ C5H6(478)  ┆ cyclopentadiene       ┆ C5H6      ┆ C5H6(478)  ┆ null          ┆ C5H6(478)    │\n",
       "│ C6H6(970)  ┆ benzene               ┆ C6H6      ┆ C6H6(970)  ┆ null          ┆ C6H6(970)    │\n",
       "│ HO2(8)     ┆ null                  ┆ HO2       ┆ HO2(8)     ┆ null          ┆ HO2(8)       │\n",
       "│ OH(4)      ┆ null                  ┆ OH        ┆ OH(4)      ┆ null          ┆ OH(4)        │\n",
       "└────────────┴───────────────────────┴───────────┴────────────┴───────────────┴──────────────┘"
      ]
     },
     "execution_count": 5,
     "metadata": {},
     "output_type": "execute_result"
    }
   ],
   "source": [
    "# Prepare simulation\n",
    "workflow.prepare_simulation(tag=tag, root_path=root_path)\n",
    "workflow.prepare_simulation_species(tag=tag, root_path=root_path)"
   ]
  },
  {
   "cell_type": "code",
   "execution_count": 6,
   "metadata": {},
   "outputs": [],
   "source": [
    "# # Check rates\n",
    "# workflow.plot_rates(tag=tag, root_path=root_path)"
   ]
  },
  {
   "cell_type": "code",
   "execution_count": 7,
   "metadata": {},
   "outputs": [],
   "source": [
    "# # Plot simulation\n",
    "# chart_dct = workflow.plot_simulation(\n",
    "#     tag=tag,\n",
    "#     x_col=\"O2_molecules\",\n",
    "#     root_path=root_path,\n",
    "#     line_source_=[\"Hill\", \"Lokachari\"],\n",
    "#     point_source=\"Experiment\",\n",
    "#     control=False,\n",
    "# )\n",
    "# mech = automech.io.read(\n",
    "#     p_.full_calculated_mechanism(tag, \"json\", path=p_.data(root_path))\n",
    "# )\n",
    "# for name, chart in chart_dct.items():\n",
    "#     automech.display_species(mech, [name])\n",
    "#     chart.show()"
   ]
  },
  {
   "cell_type": "code",
   "execution_count": null,
   "metadata": {},
   "outputs": [],
   "source": []
  }
 ],
 "metadata": {
  "kernelspec": {
   "display_name": "proto",
   "language": "python",
   "name": "python3"
  },
  "language_info": {
   "codemirror_mode": {
    "name": "ipython",
    "version": 3
   },
   "file_extension": ".py",
   "mimetype": "text/x-python",
   "name": "python",
   "nbconvert_exporter": "python",
   "pygments_lexer": "ipython3",
   "version": "3.11.12"
  }
 },
 "nbformat": 4,
 "nbformat_minor": 2
}
