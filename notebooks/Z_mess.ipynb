{
 "cells": [
  {
   "cell_type": "code",
   "execution_count": 1,
   "id": "137a4f53",
   "metadata": {},
   "outputs": [],
   "source": [
    "from pathlib import Path\n",
    "\n",
    "import automech\n",
    "from project_utilities import p_, util, workflow\n",
    "from protomech import mess\n",
    "\n",
    "root_path = Path(\"..\")\n",
    "tag = \"Z_combined_v0\"\n",
    "\n",
    "mech0 = automech.io.read(p_.stereo_mechanism(tag, \"json\", p_.data(root_path)))"
   ]
  },
  {
   "cell_type": "code",
   "execution_count": 2,
   "id": "2d6bca33",
   "metadata": {},
   "outputs": [
    {
     "name": "stderr",
     "output_type": "stream",
     "text": [
      "/home/avcopan/proj/project-cyclopentane/code/protomech/src/automech/_mech.py:1279: UserWarning: This function ignores stereochemistry.\n",
      "  warnings.warn(\"This function ignores stereochemistry.\", stacklevel=1)\n"
     ]
    }
   ],
   "source": [
    "mech0, _ = automech.replace_unstable_products(mech0)"
   ]
  },
  {
   "cell_type": "code",
   "execution_count": 3,
   "id": "7163a4ee",
   "metadata": {},
   "outputs": [
    {
     "data": {
      "text/plain": [
       "['S(2258)z',\n",
       " 'S(2258)e',\n",
       " 'C5O2nexammzzz',\n",
       " 'C5O2nexammzze',\n",
       " 'C5O2nexammzez',\n",
       " 'C5O2nexammzee',\n",
       " 'C5O2nexammezz',\n",
       " 'C5O2nexammeze',\n",
       " 'C5O2nexammeez',\n",
       " 'C5O2nexammeee',\n",
       " 'C5O2jrscln']"
      ]
     },
     "execution_count": 3,
     "metadata": {},
     "output_type": "execute_result"
    }
   ],
   "source": [
    "automech.resonant_unstable_species_names(mech0)"
   ]
  },
  {
   "cell_type": "code",
   "execution_count": 4,
   "id": "74c164c3",
   "metadata": {},
   "outputs": [],
   "source": [
    "# import polars as pl\n",
    "# from automech.reaction import Reaction\n",
    "\n",
    "# instab_names = automech.resonant_unstable_species_names(mech0)\n",
    "# mech0.reactions.filter(\n",
    "#     # pl.col(Reaction.products).list.set_intersection(instab_names).list.len() > 0\n",
    "#     pl.col(Reaction.reactants).list.set_intersection(instab_names).list.len() > 0\n",
    "# )"
   ]
  },
  {
   "cell_type": "code",
   "execution_count": 5,
   "id": "f5b3adb0",
   "metadata": {},
   "outputs": [
    {
     "name": "stdout",
     "output_type": "stream",
     "text": [
      "[PosixPath('../data/mess/source/04_1-2/mess.inp'), PosixPath('../data/mess/source/06_37/mess.inp'), PosixPath('../data/mess/source/05_1-14/mess.inp'), PosixPath('../data/mess/source/03_50-51/mess.inp'), PosixPath('../data/mess/source/06_35/mess.inp'), PosixPath('../data/mess/source/02_05/mess.inp'), PosixPath('../data/mess/source/03_46/mess.inp'), PosixPath('../data/mess/source/05_15/mess.inp'), PosixPath('../data/mess/source/01_01/mess.inp'), PosixPath('../data/mess/source/03_49/mess.inp'), PosixPath('../data/mess/source/07_01/mess.inp'), PosixPath('../data/mess/source/05_16/mess.inp'), PosixPath('../data/mess/source/03_48/mess.inp'), PosixPath('../data/mess/source/05_17/mess.inp'), PosixPath('../data/mess/source/02_1-4/mess.inp'), PosixPath('../data/mess/source/03_1-42/mess.inp'), PosixPath('../data/mess/source/03_54/mess.inp'), PosixPath('../data/mess/source/03_44/mess.inp'), PosixPath('../data/mess/source/06_1-34/mess.inp'), PosixPath('../data/mess/source/08_01/mess.inp'), PosixPath('../data/mess/source/03_47/mess.inp'), PosixPath('../data/mess/source/03_45/mess.inp'), PosixPath('../data/mess/source/03_55/mess.inp'), PosixPath('../data/mess/source/03_52-53/mess.inp'), PosixPath('../data/mess/source/03_43/mess.inp'), PosixPath('../data/mess/source/01_02/mess.inp'), PosixPath('../data/mess/source/06_36/mess.inp')]\n"
     ]
    }
   ],
   "source": [
    "mess_source_path = p_.mess_source(root_path)\n",
    "mess_inp_files = list(mess_source_path.glob(\"*/mess.inp\"))\n",
    "surfs = [mess.surf.from_mess_input(f) for f in mess_inp_files]\n",
    "surf = mess.surf.combine(surfs)\n",
    "print(mess_inp_files)\n",
    "# mess.net.display(surf, mech=mech0)"
   ]
  },
  {
   "cell_type": "code",
   "execution_count": 6,
   "id": "ee7b3721",
   "metadata": {},
   "outputs": [
    {
     "name": "stdout",
     "output_type": "stream",
     "text": [
      "[20, 81, 116, 117]\n"
     ]
    }
   ],
   "source": [
    "# Drop species that result in unconnected wells\n",
    "# (These species are not formed in ring-opening reactions and, without\n",
    "# stereoisomerization rates, do not affect the model.)\n",
    "drop_labels = [\"C5O2pkpfsdzr0\", \"C5O2sidwaoze\", \"C5O2sidwaozz\", \"C5O2pkpfsdzr1\"]\n",
    "drop_keys = mess.surf.node_keys(surf, labels=drop_labels)\n",
    "print(drop_keys)\n",
    "surf = mess.surf.remove_nodes(surf, keys=drop_keys)\n",
    "mech0 = automech.without_species(mech0, spc_names=drop_labels)"
   ]
  },
  {
   "cell_type": "code",
   "execution_count": 7,
   "id": "17e3ee25",
   "metadata": {},
   "outputs": [
    {
     "name": "stdout",
     "output_type": "stream",
     "text": [
      "10.346816\n"
     ]
    }
   ],
   "source": [
    "# Adjust OH addition fake well energy to be 0.1 kcal/mol below the barrier\n",
    "bimol = mess.surf.node_object_from_label(surf, \"C5H8(522)+OH(4)\")\n",
    "complex = mess.surf.node_object_from_label(surf, \"FakeW-C5H8(522)+OH(4)\")\n",
    "complex.energy = bimol.energy - 4.133184\n",
    "complex.update_mess_body_energy()\n",
    "print(complex.energy)"
   ]
  },
  {
   "cell_type": "code",
   "execution_count": 8,
   "id": "63d7b2e2",
   "metadata": {},
   "outputs": [
    {
     "name": "stdout",
     "output_type": "stream",
     "text": [
      "3.55\n",
      "-2.03\n",
      "-0.94\n"
     ]
    }
   ],
   "source": [
    "# Drop tunneling from abstraction barriers\n",
    "labels = [\"ts_5_15\", \"ts_5_16\", \"ts_5_17\"]\n",
    "for label in labels:\n",
    "    abstraction = mess.surf.edge_object_from_label(surf, label)\n",
    "    abstraction.remove_mess_body_tunneling()\n",
    "    print(abstraction.energy)"
   ]
  },
  {
   "cell_type": "code",
   "execution_count": 9,
   "id": "7a36d871",
   "metadata": {},
   "outputs": [],
   "source": [
    "surf = mess.surf.merge_resonant_instabilities(surf, mech0)\n",
    "mech = automech.merge_resonant_instabilities(mech0, remove=True)\n",
    "# mess.net.display(surf, mech=mech0)"
   ]
  },
  {
   "cell_type": "code",
   "execution_count": 10,
   "id": "58616ebe",
   "metadata": {},
   "outputs": [],
   "source": [
    "# Print reagents that are not on the MESS surface\n",
    "for rgt_names in automech.reaction.reagents(mech.reactions):\n",
    "    node = next((n for n in surf.nodes if n.names_list == rgt_names), None)\n",
    "    if node is None:\n",
    "        print(rgt_names)"
   ]
  },
  {
   "cell_type": "code",
   "execution_count": 11,
   "id": "f035ca1e",
   "metadata": {},
   "outputs": [
    {
     "name": "stdout",
     "output_type": "stream",
     "text": [
      "C5H9 4 3\n",
      "C5H9O2 32 45\n",
      "C5H9O 18 23\n",
      "C5H7 7 6\n",
      "C5H7O2 28 46\n",
      "C5H11O 4 3\n",
      "C5H11O2 4 3\n"
     ]
    }
   ],
   "source": [
    "surf_dct = mess.surf.split_stoichiometries(surf, mech)\n",
    "for stoich, stoich_surf in surf_dct.items():\n",
    "    print(stoich, len(stoich_surf.nodes), len(stoich_surf.edges))"
   ]
  },
  {
   "cell_type": "code",
   "execution_count": 12,
   "id": "77934b1c",
   "metadata": {},
   "outputs": [
    {
     "name": "stdout",
     "output_type": "stream",
     "text": [
      "C5H9 4 3\n",
      "C5H9O2 32 45\n",
      "C5H9O 18 23\n",
      "C5H7 7 6\n",
      "C5H7O2 28 46\n",
      "C5H11O 4 3\n",
      "C5H11O2 4 3\n"
     ]
    }
   ],
   "source": [
    "mess_calc_path = p_.mess_calc(root_path)\n",
    "mess_calc_path.mkdir(exist_ok=True)\n",
    "\n",
    "for stoich, stoich_surf in surf_dct.items():\n",
    "    print(stoich, len(stoich_surf.nodes), len(stoich_surf.edges))\n",
    "    stoich_path = mess_calc_path / stoich\n",
    "    stoich_path.mkdir(exist_ok=True)\n",
    "    mess_inp_file = stoich_path / \"mess.inp\"\n",
    "    mess_inp_file.write_text(mess.surf.mess_input(stoich_surf))\n",
    "\n",
    "    # Test that it can be read back in\n",
    "    mess.surf.from_mess_input(mess_inp_file)"
   ]
  },
  {
   "cell_type": "code",
   "execution_count": 13,
   "id": "f806f84b",
   "metadata": {},
   "outputs": [],
   "source": [
    "stoich = \"C5H9O\"\n",
    "stoich_surf = surf_dct[stoich]\n",
    "\n",
    "mess.net.display(stoich_surf, mech=mech, height=\"1000px\")"
   ]
  }
 ],
 "metadata": {
  "kernelspec": {
   "display_name": "all",
   "language": "python",
   "name": "python3"
  },
  "language_info": {
   "codemirror_mode": {
    "name": "ipython",
    "version": 3
   },
   "file_extension": ".py",
   "mimetype": "text/x-python",
   "name": "python",
   "nbconvert_exporter": "python",
   "pygments_lexer": "ipython3",
   "version": "3.12.11"
  }
 },
 "nbformat": 4,
 "nbformat_minor": 5
}
