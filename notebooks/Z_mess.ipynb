{
 "cells": [
  {
   "cell_type": "code",
   "execution_count": 1,
   "id": "137a4f53",
   "metadata": {},
   "outputs": [],
   "source": [
    "from pathlib import Path\n",
    "\n",
    "import automech\n",
    "from project_utilities import p_, util, workflow\n",
    "from protomech import mess\n",
    "\n",
    "root_path = Path(\"..\")\n",
    "tag = \"Z_combined_v0\"\n",
    "\n",
    "mech0 = automech.io.read(p_.stereo_mechanism(tag, \"json\", p_.data(root_path)))"
   ]
  },
  {
   "cell_type": "code",
   "execution_count": 2,
   "id": "2d6bca33",
   "metadata": {},
   "outputs": [
    {
     "name": "stderr",
     "output_type": "stream",
     "text": [
      "/home/avcopan/proj/project-cyclopentane/code/protomech/src/automech/_mech.py:1279: UserWarning: This function ignores stereochemistry.\n",
      "  warnings.warn(\"This function ignores stereochemistry.\", stacklevel=1)\n"
     ]
    }
   ],
   "source": [
    "mech0, _ = automech.replace_unstable_products(mech0)"
   ]
  },
  {
   "cell_type": "code",
   "execution_count": 3,
   "id": "8d6b7071",
   "metadata": {},
   "outputs": [],
   "source": [
    "# mech = automech.merge_resonant_instabilities(mech0, remove=True)\n",
    "# instab_mech = automech.resonant_instability_reactions(mech0)"
   ]
  },
  {
   "cell_type": "code",
   "execution_count": 4,
   "id": "5a5c0f07",
   "metadata": {},
   "outputs": [],
   "source": [
    "# automech.resonant_unstable_species_names(mech0)"
   ]
  },
  {
   "cell_type": "code",
   "execution_count": 5,
   "id": "db49ceca",
   "metadata": {},
   "outputs": [],
   "source": [
    "subpes_lst = [\"01_01\", \"test\"]\n",
    "# subpes_lst = [\"test\"]\n",
    "inp_name = \"mess.inp\"\n",
    "mess0_path = p_.mess_source(root_path)\n",
    "# mess.io.split_input(mess0_path / \"example\" / inp_name)\n",
    "surfs = [mess.surf.from_mess_input(mess0_path / s / inp_name) for s in subpes_lst]\n",
    "surf = mess.surf.combine(surfs)\n",
    "# mess.net.display(surf, mech=mech0)"
   ]
  },
  {
   "cell_type": "code",
   "execution_count": 6,
   "id": "8ef8d7b6",
   "metadata": {},
   "outputs": [],
   "source": [
    "surf = mess.surf.merge_nmol_node_resonant_instabilities(surf, mech0)\n",
    "mess.net.display(surf, mech=mech0)"
   ]
  },
  {
   "cell_type": "code",
   "execution_count": 9,
   "id": "0d3653b7",
   "metadata": {},
   "outputs": [
    {
     "name": "stdout",
     "output_type": "stream",
     "text": [
      "/home/avcopan/proj/project-cyclopentane/data/mess/test\n"
     ]
    },
    {
     "data": {
      "text/plain": [
       "34182"
      ]
     },
     "execution_count": 9,
     "metadata": {},
     "output_type": "execute_result"
    }
   ],
   "source": [
    "subpes = \"test\"\n",
    "\n",
    "mess_path = p_.mess(root_path)\n",
    "out_dir = mess_path / subpes\n",
    "out_dir.mkdir(exist_ok=True)\n",
    "print(out_dir.resolve())\n",
    "\n",
    "inp_file = out_dir / inp_name\n",
    "inp_file.write_text(mess.surf.mess_input(surf))"
   ]
  },
  {
   "cell_type": "code",
   "execution_count": 7,
   "id": "f5130c1f",
   "metadata": {},
   "outputs": [],
   "source": [
    "# subpes = \"test\"\n",
    "\n",
    "# mess_path = p_.mess(root_path)\n",
    "# out_dir = mess_path / subpes\n",
    "# out_dir.mkdir(exist_ok=True)\n",
    "# print(out_dir.resolve())\n",
    "\n",
    "# inp_file = out_dir / inp_name\n",
    "# inp_file.write_text(mess.surf.mess_input(surf))"
   ]
  }
 ],
 "metadata": {
  "kernelspec": {
   "display_name": "all",
   "language": "python",
   "name": "python3"
  },
  "language_info": {
   "codemirror_mode": {
    "name": "ipython",
    "version": 3
   },
   "file_extension": ".py",
   "mimetype": "text/x-python",
   "name": "python",
   "nbconvert_exporter": "python",
   "pygments_lexer": "ipython3",
   "version": "3.12.11"
  }
 },
 "nbformat": 4,
 "nbformat_minor": 5
}
