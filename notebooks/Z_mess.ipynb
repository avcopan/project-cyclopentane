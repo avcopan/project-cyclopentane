{
 "cells": [
  {
   "cell_type": "code",
   "execution_count": 1,
   "id": "137a4f53",
   "metadata": {},
   "outputs": [],
   "source": [
    "from pathlib import Path\n",
    "\n",
    "import automech\n",
    "from project_utilities import p_, util, workflow\n",
    "from protomech import mess\n",
    "\n",
    "root_path = Path(\"..\")\n",
    "tag = \"Z_combined_v0\"\n",
    "\n",
    "ste_mech = automech.io.read(p_.stereo_mechanism(tag, \"json\", p_.data(root_path)))"
   ]
  },
  {
   "cell_type": "code",
   "execution_count": 2,
   "id": "db49ceca",
   "metadata": {},
   "outputs": [],
   "source": [
    "subpes_lst = [\"05_16\", \"05_17\"]\n",
    "inp_name = \"mess.inp\"\n",
    "mess0_path = p_.mess_source(root_path)\n",
    "\n",
    "surfs = [mess.surf.from_mess_input(mess0_path / s / inp_name) for s in subpes_lst]\n",
    "surf = mess.surf.combine(surfs)\n",
    "mess.net.display(surf, mech=ste_mech)"
   ]
  },
  {
   "cell_type": "code",
   "execution_count": null,
   "id": "37ac580e",
   "metadata": {},
   "outputs": [],
   "source": []
  }
 ],
 "metadata": {
  "kernelspec": {
   "display_name": "all",
   "language": "python",
   "name": "python3"
  },
  "language_info": {
   "codemirror_mode": {
    "name": "ipython",
    "version": 3
   },
   "file_extension": ".py",
   "mimetype": "text/x-python",
   "name": "python",
   "nbconvert_exporter": "python",
   "pygments_lexer": "ipython3",
   "version": "3.12.11"
  }
 },
 "nbformat": 4,
 "nbformat_minor": 5
}
