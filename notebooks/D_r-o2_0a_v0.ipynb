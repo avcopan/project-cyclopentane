{
 "cells": [
  {
   "cell_type": "code",
   "execution_count": 1,
   "metadata": {},
   "outputs": [],
   "source": [
    "from pathlib import Path\n",
    "\n",
    "import util\n",
    "from util import p_, workflow\n",
    "\n",
    "import automech\n",
    "\n",
    "file = util.notebook_file() if util.is_notebook() else __file__\n",
    "tag = util.file_tag(file)\n",
    "root_path = Path(\"..\")\n",
    "par_mech = workflow.read_parent_mechanism(root_path=root_path)"
   ]
  },
  {
   "cell_type": "code",
   "execution_count": 2,
   "metadata": {},
   "outputs": [
    {
     "data": {
      "application/vnd.jupyter.widget-view+json": {
       "model_id": "c4482f6e978843c281e6f5c01687a602",
       "version_major": 2,
       "version_minor": 0
      },
      "text/plain": [
       "  0%|          | 0/1 [00:00<?, ?it/s]"
      ]
     },
     "metadata": {},
     "output_type": "display_data"
    }
   ],
   "source": [
    "# Generate submechanism\n",
    "from automol.graph import enum\n",
    "\n",
    "from automech.species import Species\n",
    "\n",
    "mech = automech.from_smiles(\n",
    "    spc_smis=[\"[CH]1CCCC1\"],\n",
    "    src_mech=par_mech,\n",
    ")\n",
    "#  - Additions\n",
    "mech = automech.enumerate_reactions(\n",
    "    mech,\n",
    "    enum.ReactionSmarts.o2_addition,\n",
    "    rcts_=[None, \"[O][O]\"],\n",
    "    spc_col_=Species.smiles,\n",
    "    src_mech=par_mech,\n",
    ")\n",
    "#  - Eliminations\n",
    "mech = automech.enumerate_reactions(\n",
    "    mech,\n",
    "    enum.ReactionSmarts.ho2_elimination,\n",
    "    spc_col_=Species.smiles,\n",
    "    src_mech=par_mech,\n",
    ")\n",
    "automech.display(mech)"
   ]
  },
  {
   "cell_type": "code",
   "execution_count": 3,
   "metadata": {},
   "outputs": [
    {
     "name": "stdout",
     "output_type": "stream",
     "text": [
      "\n",
      "Finalizing build for...\n",
      "reactions=shape: (2, 5)\n",
      "┌───────────────┬─────────────────────────┬───────────┬────────────┬───────────────────────────────┐\n",
      "│ reactants     ┆ products                ┆ formula   ┆ reversible ┆ rate                          │\n",
      "│ ---           ┆ ---                     ┆ ---       ┆ ---        ┆ ---                           │\n",
      "│ list[str]     ┆ list[str]               ┆ struct[3] ┆ bool       ┆ struct[18]                    │\n",
      "╞═══════════════╪═════════════════════════╪═══════════╪════════════╪═══════════════════════════════╡\n",
      "│ [\"C5H9(553)\", ┆ [\"S(719)\"]              ┆ {5,9,2}   ┆ true       ┆ {2,{null,null,null,null,null, │\n",
      "│ \"O2(6)\"]      ┆                         ┆           ┆            ┆ n…                            │\n",
      "│ [\"S(719)\"]    ┆ [\"C5H8(522)\", \"HO2(8)\"] ┆ {5,9,2}   ┆ true       ┆ {1,{null,null,null,null,null, │\n",
      "│               ┆                         ┆           ┆            ┆ n…                            │\n",
      "└───────────────┴─────────────────────────┴───────────┴────────────┴───────────────────────────────┘ species=shape: (5, 7)\n",
      "┌───────────┬─────────────┬──────────────────┬──────┬────────┬──────────────────┬──────────────────┐\n",
      "│ name      ┆ smiles      ┆ amchi            ┆ spin ┆ charge ┆ formula          ┆ therm            │\n",
      "│ ---       ┆ ---         ┆ ---              ┆ ---  ┆ ---    ┆ ---              ┆ ---              │\n",
      "│ str       ┆ str         ┆ str              ┆ i64  ┆ i64    ┆ struct[7]        ┆ struct[8]        │\n",
      "╞═══════════╪═════════════╪══════════════════╪══════╪════════╪══════════════════╪══════════════════╡\n",
      "│ C5H9(553) ┆ C1CC[CH]C1  ┆ AMChI=1/C5H9/c1- ┆ 1    ┆ 0      ┆ {9,null,null,nul ┆ {298.0,5000.0,{n │\n",
      "│           ┆             ┆ 2-4-5-3-1/h1H,…  ┆      ┆        ┆ l,null,5,null}   ┆ ull,null,9,nul…  │\n",
      "│ O2(6)     ┆ O=O         ┆ AMChI=1/O2/c1-2  ┆ 2    ┆ 0      ┆ {null,2,null,nul ┆ {200.0,6000.0,{n │\n",
      "│           ┆             ┆                  ┆      ┆        ┆ l,null,null,nu…  ┆ ull,null,null,…  │\n",
      "│ S(719)    ┆ [O]OC1CCCC1 ┆ AMChI=1/C5H9O2/c ┆ 1    ┆ 0      ┆ {9,2,null,null,n ┆ {300.0,5000.0,{n │\n",
      "│           ┆             ┆ 6-7-5-3-1-2-4-…  ┆      ┆        ┆ ull,5,null}      ┆ ull,null,9,2,n…  │\n",
      "│ C5H8(522) ┆ C1CC=CC1    ┆ AMChI=1/C5H8/c1- ┆ 0    ┆ 0      ┆ {8,null,null,nul ┆ {298.0,5000.0,{n │\n",
      "│           ┆             ┆ 2-4-5-3-1/h1-2…  ┆      ┆        ┆ l,null,5,null}   ┆ ull,null,8,nul…  │\n",
      "│ HO2(8)    ┆ O[O]        ┆ AMChI=1/HO2/c1-2 ┆ 1    ┆ 0      ┆ {1,2,null,null,n ┆ {200.0,5000.0,{n │\n",
      "│           ┆             ┆ /h2H             ┆      ┆        ┆ ull,null,null}   ┆ ull,null,1,2,n…  │\n",
      "└───────────┴─────────────┴──────────────────┴──────┴────────┴──────────────────┴──────────────────┘\n",
      "\n",
      "Expanding stereochemistry...\n"
     ]
    },
    {
     "data": {
      "application/vnd.jupyter.widget-view+json": {
       "model_id": "3eada583f88b431fb875a015b7ed5abf",
       "version_major": 2,
       "version_minor": 0
      },
      "text/plain": [
       "  0%|          | 0/5 [00:00<?, ?it/s]"
      ]
     },
     "metadata": {},
     "output_type": "display_data"
    },
    {
     "data": {
      "application/vnd.jupyter.widget-view+json": {
       "model_id": "bdfe3f5e9eec40c4a46ed757e8a60f88",
       "version_major": 2,
       "version_minor": 0
      },
      "text/plain": [
       "  0%|          | 0/5 [00:00<?, ?it/s]"
      ]
     },
     "metadata": {},
     "output_type": "display_data"
    },
    {
     "data": {
      "application/vnd.jupyter.widget-view+json": {
       "model_id": "910ff8d8f58547ae8d2d8df4bad33022",
       "version_major": 2,
       "version_minor": 0
      },
      "text/plain": [
       "  0%|          | 0/2 [00:00<?, ?it/s]"
      ]
     },
     "metadata": {},
     "output_type": "display_data"
    },
    {
     "name": "stdout",
     "output_type": "stream",
     "text": [
      "\n",
      "Writing mechanism...\n",
      "../data/D_r-o2_0a_v0_gen.json\n",
      "../data/D_r-o2_0a_v0_ste.json\n",
      "../data/mechanalyzer/D_r-o2_0a_v0_ste.dat\n",
      "../data/mechanalyzer/D_r-o2_0a_v0_ste.csv\n"
     ]
    },
    {
     "data": {
      "application/vnd.jupyter.widget-view+json": {
       "model_id": "a026b9f253c6410ea5b3dcf83e11fa6e",
       "version_major": 2,
       "version_minor": 0
      },
      "text/plain": [
       "  0%|          | 0/5 [00:00<?, ?it/s]"
      ]
     },
     "metadata": {},
     "output_type": "display_data"
    },
    {
     "data": {
      "application/vnd.jupyter.widget-view+json": {
       "model_id": "1275da1ecd3d4e2daf536493437a7c8f",
       "version_major": 2,
       "version_minor": 0
      },
      "text/plain": [
       "  0%|          | 0/5 [00:00<?, ?it/s]"
      ]
     },
     "metadata": {},
     "output_type": "display_data"
    },
    {
     "data": {
      "application/vnd.jupyter.widget-view+json": {
       "model_id": "81c3450c88fb47d3a29b33a8753a466d",
       "version_major": 2,
       "version_minor": 0
      },
      "text/plain": [
       "  0%|          | 0/5 [00:00<?, ?it/s]"
      ]
     },
     "metadata": {},
     "output_type": "display_data"
    },
    {
     "name": "stdout",
     "output_type": "stream",
     "text": [
      "\n",
      "Stereoexpansion errors:\n"
     ]
    }
   ],
   "source": [
    "# Prepare calculation\n",
    "workflow.prepare_calculation(mech=mech, tag=tag, root_path=root_path)"
   ]
  },
  {
   "cell_type": "code",
   "execution_count": 4,
   "metadata": {},
   "outputs": [],
   "source": [
    "# # Prepare simulation\n",
    "# workflow.prepare_simulation(tag=tag, root_path=root_path)\n",
    "# workflow.prepare_simulation_species(tag=tag, root_path=root_path)"
   ]
  },
  {
   "cell_type": "code",
   "execution_count": 5,
   "metadata": {},
   "outputs": [],
   "source": [
    "# # Check rates\n",
    "# workflow.plot_rates(tag=tag, root_path=root_path)"
   ]
  },
  {
   "cell_type": "code",
   "execution_count": 6,
   "metadata": {},
   "outputs": [],
   "source": [
    "# # Plot simulation\n",
    "# chart_dct = workflow.plot_simulation(\n",
    "#     tag=tag,\n",
    "#     x_col=\"O2_molecules\",\n",
    "#     root_path=root_path,\n",
    "#     line_source_=[\"Hill\", \"Lokachari\"],\n",
    "#     point_source=\"Experiment\",\n",
    "#     control=False,\n",
    "# )\n",
    "# mech = automech.io.read(\n",
    "#     p_.full_calculated_mechanism(tag, \"json\", path=p_.data(root_path))\n",
    "# )\n",
    "# for name, chart in chart_dct.items():\n",
    "#     automech.display_species(mech, [name])\n",
    "#     chart.show()"
   ]
  }
 ],
 "metadata": {
  "kernelspec": {
   "display_name": "proto",
   "language": "python",
   "name": "python3"
  },
  "language_info": {
   "codemirror_mode": {
    "name": "ipython",
    "version": 3
   },
   "file_extension": ".py",
   "mimetype": "text/x-python",
   "name": "python",
   "nbconvert_exporter": "python",
   "pygments_lexer": "ipython3",
   "version": "3.11.12"
  }
 },
 "nbformat": 4,
 "nbformat_minor": 2
}
