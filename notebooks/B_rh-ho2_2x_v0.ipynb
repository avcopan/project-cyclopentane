{
 "cells": [
  {
   "cell_type": "code",
   "execution_count": 1,
   "metadata": {},
   "outputs": [],
   "source": [
    "from pathlib import Path\n",
    "\n",
    "import util\n",
    "from util import p_, workflow\n",
    "\n",
    "import automech\n",
    "\n",
    "file = util.notebook_file() if util.is_notebook() else __file__\n",
    "tag = util.file_tag(file)\n",
    "root_path = Path(\"..\")\n",
    "par_mech = workflow.read_parent_mechanism(root_path=root_path)"
   ]
  },
  {
   "cell_type": "code",
   "execution_count": 2,
   "metadata": {},
   "outputs": [
    {
     "data": {
      "application/vnd.jupyter.widget-view+json": {
       "model_id": "39f53574a3bb46f286058d2ee038adfe",
       "version_major": 2,
       "version_minor": 0
      },
      "text/plain": [
       "  0%|          | 0/1 [00:00<?, ?it/s]"
      ]
     },
     "metadata": {},
     "output_type": "display_data"
    },
    {
     "data": {
      "application/vnd.jupyter.widget-view+json": {
       "model_id": "58b8b4d7c1974d7087f29f12db3983fc",
       "version_major": 2,
       "version_minor": 0
      },
      "text/plain": [
       "  0%|          | 0/4 [00:00<?, ?it/s]"
      ]
     },
     "metadata": {},
     "output_type": "display_data"
    }
   ],
   "source": [
    "# Build\n",
    "from automol.graph import enum\n",
    "\n",
    "from automech.species import Species\n",
    "\n",
    "mech = automech.from_smiles(spc_smis=[\"C12C(O2)CCC1\"], src_mech=par_mech)\n",
    "#  - Abstractions\n",
    "mech = automech.enumerate_reactions(\n",
    "    mech,\n",
    "    enum.ReactionSmarts.abstraction,\n",
    "    rcts_=[None, \"O[O]\"],\n",
    "    spc_col_=Species.smiles,\n",
    "    src_mech=par_mech,\n",
    ")\n",
    "\n",
    "#  - Drop reactions\n",
    "mech = automech.drop_reactions_by_smiles(\n",
    "    # >> alpha-abstraction: all TSs converge to VDW SPs\n",
    "    mech, rxn_smis=[\"C12C(O2)CCC1.O[O]>>[C]12C(O2)CCC1.OO\"]\n",
    ")\n",
    "\n",
    "automech.display(mech)"
   ]
  },
  {
   "cell_type": "code",
   "execution_count": 3,
   "metadata": {},
   "outputs": [
    {
     "name": "stdout",
     "output_type": "stream",
     "text": [
      "\n",
      "Finalizing build for...\n",
      "reactions=shape: (2, 5)\n",
      "┌────────────────┬────────────────────────────┬───────────┬────────────┬───────────────────────────┐\n",
      "│ reactants      ┆ products                   ┆ formula   ┆ reversible ┆ rate                      │\n",
      "│ ---            ┆ ---                        ┆ ---       ┆ ---        ┆ ---                       │\n",
      "│ list[str]      ┆ list[str]                  ┆ struct[3] ┆ bool       ┆ struct[18]                │\n",
      "╞════════════════╪════════════════════════════╪═══════════╪════════════╪═══════════════════════════╡\n",
      "│ [\"C5H8O(825)\", ┆ [\"S(1289)\", \"H2O2(10)\"]    ┆ {5,9,3}   ┆ null       ┆ null                      │\n",
      "│ \"HO2(8)\"]      ┆                            ┆           ┆            ┆                           │\n",
      "│ [\"C5H8O(825)\", ┆ [\"C5H7O(758)\", \"H2O2(10)\"] ┆ {5,9,3}   ┆ true       ┆ {2,{null,null,null,null,n │\n",
      "│ \"HO2(8)\"]      ┆                            ┆           ┆            ┆ ull,n…                    │\n",
      "└────────────────┴────────────────────────────┴───────────┴────────────┴───────────────────────────┘ species=shape: (6, 8)\n",
      "┌────────────┬─────────────┬─────────────┬──────┬────────┬─────────────┬─────────────┬─────────────┐\n",
      "│ name       ┆ smiles      ┆ amchi       ┆ spin ┆ charge ┆ formula     ┆ therm       ┆ wiwopdyqq   │\n",
      "│ ---        ┆ ---         ┆ ---         ┆ ---  ┆ ---    ┆ ---         ┆ ---         ┆ ---         │\n",
      "│ str        ┆ str         ┆ str         ┆ i64  ┆ i64    ┆ struct[7]   ┆ struct[8]   ┆ str         │\n",
      "╞════════════╪═════════════╪═════════════╪══════╪════════╪═════════════╪═════════════╪═════════════╡\n",
      "│ C5H8O(825) ┆ O1C2C1CCC2  ┆ AMChI=1/C5H ┆ 0    ┆ 0      ┆ {8,1,null,n ┆ {300.0,5000 ┆ AMChI=1/C5H │\n",
      "│            ┆             ┆ 8O/c1-2-4-5 ┆      ┆        ┆ ull,null,5, ┆ .0,{null,nu ┆ 8O/c1-2-4-5 │\n",
      "│            ┆             ┆ (6-4)3-1…   ┆      ┆        ┆ null}       ┆ ll,8,1,n…   ┆ (6-4)3-1…   │\n",
      "│ HO2(8)     ┆ O[O]        ┆ AMChI=1/HO2 ┆ 1    ┆ 0      ┆ {1,2,null,n ┆ {200.0,5000 ┆ AMChI=1/HO2 │\n",
      "│            ┆             ┆ /c1-2/h2H   ┆      ┆        ┆ ull,null,nu ┆ .0,{null,nu ┆ /c1-2/h2H_1 │\n",
      "│            ┆             ┆             ┆      ┆        ┆ ll,null}    ┆ ll,1,2,n…   ┆ _0          │\n",
      "│ S(1289)    ┆ O1C2C1C[CH] ┆ AMChI=1/C5H ┆ 1    ┆ 0      ┆ {7,1,null,n ┆ {100.0,5000 ┆ AMChI=1/C5H │\n",
      "│            ┆ C2          ┆ 7O/c1-2-4-5 ┆      ┆        ┆ ull,null,5, ┆ .0,{null,nu ┆ 7O/c1-2-4-5 │\n",
      "│            ┆             ┆ (6-4)3-1…   ┆      ┆        ┆ null}       ┆ ll,7,1,n…   ┆ (6-4)3-1…   │\n",
      "│ H2O2(10)   ┆ OO          ┆ AMChI=1/H2O ┆ 0    ┆ 0      ┆ {2,2,null,n ┆ {200.0,6000 ┆ AMChI=1/H2O │\n",
      "│            ┆             ┆ 2/c1-2/h1-2 ┆      ┆        ┆ ull,null,nu ┆ .0,{null,nu ┆ 2/c1-2/h1-2 │\n",
      "│            ┆             ┆ H           ┆      ┆        ┆ ll,null}    ┆ ll,2,2,n…   ┆ H_0_0       │\n",
      "│ C5H7O(758) ┆ O1C2C1[CH]C ┆ AMChI=1/C5H ┆ 1    ┆ 0      ┆ {7,1,null,n ┆ {298.0,5000 ┆ AMChI=1/C5H │\n",
      "│            ┆ C2          ┆ 7O/c1-2-3-5 ┆      ┆        ┆ ull,null,5, ┆ .0,{null,nu ┆ 7O/c1-2-3-5 │\n",
      "│            ┆             ┆ -4(1)6-5…   ┆      ┆        ┆ null}       ┆ ll,7,1,n…   ┆ -4(1)6-5…   │\n",
      "│ S(1314)    ┆ O1C2CCC[C]1 ┆ AMChI=1/C5H ┆ 1    ┆ 0      ┆ {7,1,null,n ┆ {100.0,5000 ┆ AMChI=1/C5H │\n",
      "│            ┆ 2           ┆ 7O/c1-2-4-5 ┆      ┆        ┆ ull,null,5, ┆ .0,{null,nu ┆ 7O/c1-2-4-5 │\n",
      "│            ┆             ┆ (6-4)3-1…   ┆      ┆        ┆ null}       ┆ ll,7,1,n…   ┆ (6-4)3-1…   │\n",
      "└────────────┴─────────────┴─────────────┴──────┴────────┴─────────────┴─────────────┴─────────────┘\n",
      "\n",
      "Expanding stereochemistry...\n"
     ]
    },
    {
     "data": {
      "application/vnd.jupyter.widget-view+json": {
       "model_id": "e00aff8e125e4f3593af1959522544d3",
       "version_major": 2,
       "version_minor": 0
      },
      "text/plain": [
       "  0%|          | 0/6 [00:00<?, ?it/s]"
      ]
     },
     "metadata": {},
     "output_type": "display_data"
    },
    {
     "data": {
      "application/vnd.jupyter.widget-view+json": {
       "model_id": "21fd3c045f6341bea75cc251d7fc4be4",
       "version_major": 2,
       "version_minor": 0
      },
      "text/plain": [
       "  0%|          | 0/8 [00:00<?, ?it/s]"
      ]
     },
     "metadata": {},
     "output_type": "display_data"
    },
    {
     "data": {
      "application/vnd.jupyter.widget-view+json": {
       "model_id": "524c304f962445bc874644b3bf7c79e9",
       "version_major": 2,
       "version_minor": 0
      },
      "text/plain": [
       "  0%|          | 0/2 [00:00<?, ?it/s]"
      ]
     },
     "metadata": {},
     "output_type": "display_data"
    },
    {
     "name": "stdout",
     "output_type": "stream",
     "text": [
      "\n",
      "Writing mechanism...\n",
      "../data/B_rh-ho2_2x_v0_gen.json\n",
      "../data/B_rh-ho2_2x_v0_ste.json\n",
      "../data/mechanalyzer/B_rh-ho2_2x_v0_ste.dat\n",
      "../data/mechanalyzer/B_rh-ho2_2x_v0_ste.csv\n"
     ]
    },
    {
     "data": {
      "application/vnd.jupyter.widget-view+json": {
       "model_id": "89f69fea80fd428397059a35af545538",
       "version_major": 2,
       "version_minor": 0
      },
      "text/plain": [
       "  0%|          | 0/8 [00:00<?, ?it/s]"
      ]
     },
     "metadata": {},
     "output_type": "display_data"
    },
    {
     "data": {
      "application/vnd.jupyter.widget-view+json": {
       "model_id": "c532e18ec48a4a98ad9288b771baa061",
       "version_major": 2,
       "version_minor": 0
      },
      "text/plain": [
       "  0%|          | 0/8 [00:00<?, ?it/s]"
      ]
     },
     "metadata": {},
     "output_type": "display_data"
    },
    {
     "data": {
      "application/vnd.jupyter.widget-view+json": {
       "model_id": "771a0784020147918c4fec5037e79435",
       "version_major": 2,
       "version_minor": 0
      },
      "text/plain": [
       "  0%|          | 0/8 [00:00<?, ?it/s]"
      ]
     },
     "metadata": {},
     "output_type": "display_data"
    },
    {
     "name": "stdout",
     "output_type": "stream",
     "text": [
      "\n",
      "Stereoexpansion errors:\n"
     ]
    }
   ],
   "source": [
    "# Prepare calculation\n",
    "workflow.prepare_calculation(mech=mech, tag=tag, root_path=root_path)"
   ]
  },
  {
   "cell_type": "code",
   "execution_count": 4,
   "metadata": {},
   "outputs": [],
   "source": [
    "# # Prepare simulation\n",
    "# workflow.prepare_simulation(tag=tag, root_path=root_path)\n",
    "# workflow.prepare_simulation_species(tag=tag, root_path=root_path)"
   ]
  },
  {
   "cell_type": "code",
   "execution_count": 5,
   "metadata": {},
   "outputs": [],
   "source": [
    "# # Check rates\n",
    "# workflow.plot_rates(tag=tag, root_path=root_path)"
   ]
  },
  {
   "cell_type": "code",
   "execution_count": 6,
   "metadata": {},
   "outputs": [],
   "source": [
    "# # Plot simulation\n",
    "# chart_dct = workflow.plot_simulation(\n",
    "#     tag=tag,\n",
    "#     x_col=\"O2_molecules\",\n",
    "#     root_path=root_path,\n",
    "#     line_source_=[\"Hill\", \"Lokachari\"],\n",
    "#     point_source=\"Experiment\",\n",
    "#     control=False,\n",
    "# )\n",
    "# mech = automech.io.read(\n",
    "#     p_.full_calculated_mechanism(tag, \"json\", path=p_.data(root_path))\n",
    "# )\n",
    "# for name, chart in chart_dct.items():\n",
    "#     automech.display_species(mech, [name])\n",
    "#     chart.show()"
   ]
  },
  {
   "cell_type": "code",
   "execution_count": 7,
   "metadata": {},
   "outputs": [],
   "source": [
    "# # Check TS\n",
    "# from mechdriver.subtasks import display\n",
    "\n",
    "# chan = \"2: 5\"\n",
    "\n",
    "# #   - Read in expanded mechanism\n",
    "# mech_path = p_.mechanism(tag, ext=\"json\", path=p_.data(root_path))\n",
    "# mech = automech.io.read(mech_path)\n",
    "\n",
    "# #   - Display the reaction\n",
    "# automech.display_reactions(mech, chans=[chan])"
   ]
  },
  {
   "cell_type": "code",
   "execution_count": 8,
   "metadata": {},
   "outputs": [],
   "source": [
    "# #   - Display the TS mode\n",
    "# calc_path = p_.calc(root_path, tag)\n",
    "# display(\"conf_opt\", chan, path=calc_path)"
   ]
  },
  {
   "cell_type": "code",
   "execution_count": 9,
   "metadata": {},
   "outputs": [],
   "source": [
    "# #   - Display the TS mode\n",
    "# calc_path = p_.calc(root_path, tag)\n",
    "# display(\"find_ts\", chan, path=calc_path)"
   ]
  }
 ],
 "metadata": {
  "kernelspec": {
   "display_name": "proto",
   "language": "python",
   "name": "python3"
  },
  "language_info": {
   "codemirror_mode": {
    "name": "ipython",
    "version": 3
   },
   "file_extension": ".py",
   "mimetype": "text/x-python",
   "name": "python",
   "nbconvert_exporter": "python",
   "pygments_lexer": "ipython3",
   "version": "3.11.12"
  }
 },
 "nbformat": 4,
 "nbformat_minor": 2
}
