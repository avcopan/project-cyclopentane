{
 "cells": [
  {
   "cell_type": "code",
   "execution_count": 1,
   "metadata": {},
   "outputs": [],
   "source": [
    "from pathlib import Path\n",
    "\n",
    "import util\n",
    "from util import p_, workflow\n",
    "\n",
    "import automech\n",
    "\n",
    "file = util.notebook_file() if util.is_notebook() else __file__\n",
    "tag = util.file_tag(file)\n",
    "root_path = Path(\"..\")\n",
    "par_mech = workflow.read_parent_mechanism(root_path=root_path)"
   ]
  },
  {
   "cell_type": "code",
   "execution_count": 2,
   "metadata": {},
   "outputs": [
    {
     "data": {
      "application/vnd.jupyter.widget-view+json": {
       "model_id": "2004a098ecb14ad8ae4fa33ce5f40abf",
       "version_major": 2,
       "version_minor": 0
      },
      "text/plain": [
       "  0%|          | 0/1 [00:00<?, ?it/s]"
      ]
     },
     "metadata": {},
     "output_type": "display_data"
    }
   ],
   "source": [
    "# Generate submechanism\n",
    "from automol.graph import enum\n",
    "\n",
    "from automech.species import Species\n",
    "\n",
    "mech = automech.from_smiles(spc_smis=[\"C1=CCCC1\"], src_mech=par_mech)\n",
    "#  - Abstractions\n",
    "mech = automech.enumerate_reactions(\n",
    "    mech,\n",
    "    enum.ReactionSmarts.abstraction,\n",
    "    rcts_=[None, \"O[O]\"],\n",
    "    spc_col_=Species.smiles,\n",
    "    src_mech=par_mech,\n",
    ")\n",
    "\n",
    "automech.display(mech)"
   ]
  },
  {
   "cell_type": "code",
   "execution_count": 3,
   "metadata": {},
   "outputs": [
    {
     "name": "stdout",
     "output_type": "stream",
     "text": [
      "\n",
      "Finalizing build for...\n",
      "reactions=shape: (3, 5)\n",
      "┌───────────────┬────────────────────────────┬───────────┬────────────┬────────────────────────────┐\n",
      "│ reactants     ┆ products                   ┆ formula   ┆ reversible ┆ rate                       │\n",
      "│ ---           ┆ ---                        ┆ ---       ┆ ---        ┆ ---                        │\n",
      "│ list[str]     ┆ list[str]                  ┆ struct[3] ┆ bool       ┆ struct[18]                 │\n",
      "╞═══════════════╪════════════════════════════╪═══════════╪════════════╪════════════════════════════╡\n",
      "│ [\"C5H8(522)\", ┆ [\"C5H7(1202)\", \"H2O2(10)\"] ┆ {5,9,2}   ┆ null       ┆ null                       │\n",
      "│ \"HO2(8)\"]     ┆                            ┆           ┆            ┆                            │\n",
      "│ [\"C5H8(522)\", ┆ [\"C5H7(500)\", \"H2O2(10)\"]  ┆ {5,9,2}   ┆ true       ┆ {2,{null,null,null,null,nu │\n",
      "│ \"HO2(8)\"]     ┆                            ┆           ┆            ┆ ll,n…                      │\n",
      "│ [\"C5H8(522)\", ┆ [\"C5H7(504)\", \"H2O2(10)\"]  ┆ {5,9,2}   ┆ true       ┆ {2,{null,null,null,null,nu │\n",
      "│ \"HO2(8)\"]     ┆                            ┆           ┆            ┆ ll,n…                      │\n",
      "└───────────────┴────────────────────────────┴───────────┴────────────┴────────────────────────────┘ species=shape: (6, 7)\n",
      "┌────────────┬─────────────┬──────────────────┬──────┬────────┬──────────────────┬─────────────────┐\n",
      "│ name       ┆ smiles      ┆ amchi            ┆ spin ┆ charge ┆ formula          ┆ therm           │\n",
      "│ ---        ┆ ---         ┆ ---              ┆ ---  ┆ ---    ┆ ---              ┆ ---             │\n",
      "│ str        ┆ str         ┆ str              ┆ i64  ┆ i64    ┆ struct[7]        ┆ struct[8]       │\n",
      "╞════════════╪═════════════╪══════════════════╪══════╪════════╪══════════════════╪═════════════════╡\n",
      "│ C5H8(522)  ┆ C1CC=CC1    ┆ AMChI=1/C5H8/c1- ┆ 0    ┆ 0      ┆ {8,null,null,nul ┆ {298.0,5000.0,{ │\n",
      "│            ┆             ┆ 2-4-5-3-1/h1-2…  ┆      ┆        ┆ l,null,5,null}   ┆ null,null,8,nul │\n",
      "│            ┆             ┆                  ┆      ┆        ┆                  ┆ …               │\n",
      "│ HO2(8)     ┆ O[O]        ┆ AMChI=1/HO2/c1-2 ┆ 1    ┆ 0      ┆ {1,2,null,null,n ┆ {200.0,5000.0,{ │\n",
      "│            ┆             ┆ /h2H             ┆      ┆        ┆ ull,null,null}   ┆ null,null,1,2,n │\n",
      "│            ┆             ┆                  ┆      ┆        ┆                  ┆ …               │\n",
      "│ C5H7(1202) ┆ C1CC=[C]C1  ┆ AMChI=1/C5H7/c1- ┆ 1    ┆ 0      ┆ {7,null,null,nul ┆ {100.0,5000.0,{ │\n",
      "│            ┆             ┆ 2-4-5-3-1/h2H,…  ┆      ┆        ┆ l,null,5,null}   ┆ null,null,7,nul │\n",
      "│            ┆             ┆                  ┆      ┆        ┆                  ┆ …               │\n",
      "│ H2O2(10)   ┆ OO          ┆ AMChI=1/H2O2/c1- ┆ 0    ┆ 0      ┆ {2,2,null,null,n ┆ {200.0,6000.0,{ │\n",
      "│            ┆             ┆ 2/h1-2H          ┆      ┆        ┆ ull,null,null}   ┆ null,null,2,2,n │\n",
      "│            ┆             ┆                  ┆      ┆        ┆                  ┆ …               │\n",
      "│ C5H7(500)  ┆ C1C[CH]C=C1 ┆ AMChI=1/C5H7/c1- ┆ 1    ┆ 0      ┆ {7,null,null,nul ┆ {298.0,5000.0,{ │\n",
      "│            ┆             ┆ 2-4-5-3-1/h1-3…  ┆      ┆        ┆ l,null,5,null}   ┆ null,null,7,nul │\n",
      "│            ┆             ┆                  ┆      ┆        ┆                  ┆ …               │\n",
      "│ C5H7(504)  ┆ C1[CH]CC=C1 ┆ AMChI=1/C5H7/c1- ┆ 1    ┆ 0      ┆ {7,null,null,nul ┆ {298.0,5000.0,{ │\n",
      "│            ┆             ┆ 2-5-3-4-1/h1-3…  ┆      ┆        ┆ l,null,5,null}   ┆ null,null,7,nul │\n",
      "│            ┆             ┆                  ┆      ┆        ┆                  ┆ …               │\n",
      "└────────────┴─────────────┴──────────────────┴──────┴────────┴──────────────────┴─────────────────┘\n",
      "\n",
      "Expanding stereochemistry...\n"
     ]
    },
    {
     "data": {
      "application/vnd.jupyter.widget-view+json": {
       "model_id": "52655a353fea40249b17ba5e566e4a99",
       "version_major": 2,
       "version_minor": 0
      },
      "text/plain": [
       "  0%|          | 0/6 [00:00<?, ?it/s]"
      ]
     },
     "metadata": {},
     "output_type": "display_data"
    },
    {
     "data": {
      "application/vnd.jupyter.widget-view+json": {
       "model_id": "1770a76eb4e6434087a96fbfcfd62c7b",
       "version_major": 2,
       "version_minor": 0
      },
      "text/plain": [
       "  0%|          | 0/6 [00:00<?, ?it/s]"
      ]
     },
     "metadata": {},
     "output_type": "display_data"
    },
    {
     "data": {
      "application/vnd.jupyter.widget-view+json": {
       "model_id": "fda241141b90431db08579d178507d1a",
       "version_major": 2,
       "version_minor": 0
      },
      "text/plain": [
       "  0%|          | 0/3 [00:00<?, ?it/s]"
      ]
     },
     "metadata": {},
     "output_type": "display_data"
    },
    {
     "name": "stdout",
     "output_type": "stream",
     "text": [
      "\n",
      "Writing mechanism...\n",
      "../data/B_rh-ho2_1e-1_v0_gen.json\n",
      "../data/B_rh-ho2_1e-1_v0_ste.json\n",
      "../data/mechanalyzer/B_rh-ho2_1e-1_v0_ste.dat\n",
      "../data/mechanalyzer/B_rh-ho2_1e-1_v0_ste.csv\n"
     ]
    },
    {
     "data": {
      "application/vnd.jupyter.widget-view+json": {
       "model_id": "6ee6c51275804152bf2bbe9957a37381",
       "version_major": 2,
       "version_minor": 0
      },
      "text/plain": [
       "  0%|          | 0/6 [00:00<?, ?it/s]"
      ]
     },
     "metadata": {},
     "output_type": "display_data"
    },
    {
     "data": {
      "application/vnd.jupyter.widget-view+json": {
       "model_id": "461ae1ac3233414d87e7760e901927f2",
       "version_major": 2,
       "version_minor": 0
      },
      "text/plain": [
       "  0%|          | 0/6 [00:00<?, ?it/s]"
      ]
     },
     "metadata": {},
     "output_type": "display_data"
    },
    {
     "data": {
      "application/vnd.jupyter.widget-view+json": {
       "model_id": "c0eb71170430409093be71c08abaabb5",
       "version_major": 2,
       "version_minor": 0
      },
      "text/plain": [
       "  0%|          | 0/6 [00:00<?, ?it/s]"
      ]
     },
     "metadata": {},
     "output_type": "display_data"
    },
    {
     "name": "stdout",
     "output_type": "stream",
     "text": [
      "\n",
      "Stereoexpansion errors:\n"
     ]
    }
   ],
   "source": [
    "# Prepare calculation\n",
    "workflow.prepare_calculation(mech=mech, tag=tag, root_path=root_path)"
   ]
  },
  {
   "cell_type": "code",
   "execution_count": 4,
   "metadata": {},
   "outputs": [],
   "source": [
    "# # Prepare simulation\n",
    "# workflow.prepare_simulation(tag=tag, root_path=root_path)\n",
    "# workflow.prepare_simulation_species(tag=tag, root_path=root_path)"
   ]
  },
  {
   "cell_type": "code",
   "execution_count": 5,
   "metadata": {},
   "outputs": [],
   "source": [
    "# # Check rates\n",
    "# workflow.plot_rates(tag=tag, root_path=root_path)"
   ]
  },
  {
   "cell_type": "code",
   "execution_count": 6,
   "metadata": {},
   "outputs": [],
   "source": [
    "# # Plot simulation\n",
    "# chart_dct = workflow.plot_simulation(\n",
    "#     tag=tag,\n",
    "#     x_col=\"O2_molecules\",\n",
    "#     root_path=root_path,\n",
    "#     line_source_=[\"Hill\", \"Lokachari\"],\n",
    "#     point_source=\"Experiment\",\n",
    "#     control=False,\n",
    "# )\n",
    "# mech = automech.io.read(\n",
    "#     p_.full_calculated_mechanism(tag, \"json\", path=p_.data(root_path))\n",
    "# )\n",
    "# for name, chart in chart_dct.items():\n",
    "#     automech.display_species(mech, [name])\n",
    "#     chart.show()"
   ]
  },
  {
   "cell_type": "code",
   "execution_count": 7,
   "metadata": {},
   "outputs": [],
   "source": [
    "# # Check TS\n",
    "# from mechdriver.subtasks import display\n",
    "\n",
    "# chan = \"2: 5\"\n",
    "\n",
    "# #   - Read in expanded mechanism\n",
    "# mech_path = p_.mechanism(tag, ext=\"json\", path=p_.data(root_path))\n",
    "# mech = automech.io.read(mech_path)\n",
    "\n",
    "# #   - Display the reaction\n",
    "# automech.display_reactions(mech, chans=[chan])"
   ]
  },
  {
   "cell_type": "code",
   "execution_count": 8,
   "metadata": {},
   "outputs": [],
   "source": [
    "# #   - Display the TS mode\n",
    "# calc_path = p_.calc(root_path, tag)\n",
    "# display(\"conf_opt\", chan, path=calc_path)"
   ]
  },
  {
   "cell_type": "code",
   "execution_count": 9,
   "metadata": {},
   "outputs": [],
   "source": [
    "# #   - Display the TS mode\n",
    "# calc_path = p_.calc(root_path, tag)\n",
    "# display(\"find_ts\", chan, path=calc_path)"
   ]
  }
 ],
 "metadata": {
  "kernelspec": {
   "display_name": "proto",
   "language": "python",
   "name": "python3"
  },
  "language_info": {
   "codemirror_mode": {
    "name": "ipython",
    "version": 3
   },
   "file_extension": ".py",
   "mimetype": "text/x-python",
   "name": "python",
   "nbconvert_exporter": "python",
   "pygments_lexer": "ipython3",
   "version": "3.11.12"
  }
 },
 "nbformat": 4,
 "nbformat_minor": 2
}
