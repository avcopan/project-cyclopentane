{
 "cells": [
  {
   "cell_type": "code",
   "execution_count": 1,
   "metadata": {},
   "outputs": [],
   "source": [
    "from pathlib import Path\n",
    "\n",
    "import util\n",
    "from util import p_, workflow\n",
    "\n",
    "import automech\n",
    "\n",
    "file = util.notebook_file() if util.is_notebook() else __file__\n",
    "tag = util.file_tag(file)\n",
    "root_path = Path(\"..\")\n",
    "par_mech = workflow.read_parent_mechanism(root_path=root_path)"
   ]
  },
  {
   "cell_type": "code",
   "execution_count": 2,
   "metadata": {},
   "outputs": [
    {
     "data": {
      "application/vnd.jupyter.widget-view+json": {
       "model_id": "149a798dfd4a4cde8941d48344fa3aab",
       "version_major": 2,
       "version_minor": 0
      },
      "text/plain": [
       "  0%|          | 0/1 [00:00<?, ?it/s]"
      ]
     },
     "metadata": {},
     "output_type": "display_data"
    }
   ],
   "source": [
    "# Generate submechanism\n",
    "from automol.graph import enum\n",
    "\n",
    "from automech.species import Species\n",
    "\n",
    "mech = automech.from_smiles(spc_smis=[\"C1=CCCC1\"], src_mech=par_mech)\n",
    "#  - Additions\n",
    "mech = automech.enumerate_reactions(\n",
    "    mech,\n",
    "    enum.ReactionSmarts.pi2_addition,\n",
    "    rcts_=[None, \"O[O]\"],\n",
    "    spc_col_=Species.smiles,\n",
    "    src_mech=par_mech,\n",
    ")\n",
    "#  - Ring-forming scissions\n",
    "mech = automech.enumerate_reactions(\n",
    "    mech,\n",
    "    enum.ReactionSmarts.qooh_ring_forming_scission,\n",
    "    src_mech=par_mech,\n",
    ")\n",
    "automech.display(mech)"
   ]
  },
  {
   "cell_type": "code",
   "execution_count": 3,
   "metadata": {},
   "outputs": [
    {
     "name": "stdout",
     "output_type": "stream",
     "text": [
      "\n",
      "Finalizing build for...\n",
      "reactions=shape: (2, 5)\n",
      "┌────────────┬─────────────────────────┬───────────┬────────────┬─────────────────────────────────┐\n",
      "│ reactants  ┆ products                ┆ formula   ┆ reversible ┆ rate                            │\n",
      "│ ---        ┆ ---                     ┆ ---       ┆ ---        ┆ ---                             │\n",
      "│ list[str]  ┆ list[str]               ┆ struct[3] ┆ bool       ┆ struct[18]                      │\n",
      "╞════════════╪═════════════════════════╪═══════════╪════════════╪═════════════════════════════════╡\n",
      "│ [\"S(722)\"] ┆ [\"C5H8(522)\", \"HO2(8)\"] ┆ {5,9,2}   ┆ true       ┆ {1,{null,null,null,null,null,n… │\n",
      "│ [\"S(722)\"] ┆ [\"C5H8O(825)\", \"OH(4)\"] ┆ {5,9,2}   ┆ true       ┆ {1,{null,null,null,null,null,n… │\n",
      "└────────────┴─────────────────────────┴───────────┴────────────┴─────────────────────────────────┘ species=shape: (5, 7)\n",
      "┌────────────┬──────────────┬──────────────────┬──────┬────────┬─────────────────┬─────────────────┐\n",
      "│ name       ┆ smiles       ┆ amchi            ┆ spin ┆ charge ┆ formula         ┆ therm           │\n",
      "│ ---        ┆ ---          ┆ ---              ┆ ---  ┆ ---    ┆ ---             ┆ ---             │\n",
      "│ str        ┆ str          ┆ str              ┆ i64  ┆ i64    ┆ struct[7]       ┆ struct[8]       │\n",
      "╞════════════╪══════════════╪══════════════════╪══════╪════════╪═════════════════╪═════════════════╡\n",
      "│ C5H8(522)  ┆ C1CC=CC1     ┆ AMChI=1/C5H8/c1- ┆ 0    ┆ 0      ┆ {8,null,null,nu ┆ {298.0,5000.0,{ │\n",
      "│            ┆              ┆ 2-4-5-3-1/h1-2…  ┆      ┆        ┆ ll,null,5,null} ┆ null,null,8,nul │\n",
      "│            ┆              ┆                  ┆      ┆        ┆                 ┆ …               │\n",
      "│ HO2(8)     ┆ O[O]         ┆ AMChI=1/HO2/c1-2 ┆ 1    ┆ 0      ┆ {1,2,null,null, ┆ {200.0,5000.0,{ │\n",
      "│            ┆              ┆ /h2H             ┆      ┆        ┆ null,null,null} ┆ null,null,1,2,n │\n",
      "│            ┆              ┆                  ┆      ┆        ┆                 ┆ …               │\n",
      "│ S(722)     ┆ OOC1CCC[CH]1 ┆ AMChI=1/C5H9O2/c ┆ 1    ┆ 0      ┆ {9,2,null,null, ┆ {300.0,5000.0,{ │\n",
      "│            ┆              ┆ 6-7-5-1-2-3-4-…  ┆      ┆        ┆ null,5,null}    ┆ null,null,9,2,n │\n",
      "│            ┆              ┆                  ┆      ┆        ┆                 ┆ …               │\n",
      "│ OH(4)      ┆ [OH]         ┆ AMChI=1/HO/h1H   ┆ 1    ┆ 0      ┆ {1,1,null,null, ┆ {200.0,6000.0,{ │\n",
      "│            ┆              ┆                  ┆      ┆        ┆ null,null,null} ┆ null,null,1,1,n │\n",
      "│            ┆              ┆                  ┆      ┆        ┆                 ┆ …               │\n",
      "│ C5H8O(825) ┆ O1C2C1CCC2   ┆ AMChI=1/C5H8O/c1 ┆ 0    ┆ 0      ┆ {8,1,null,null, ┆ {300.0,5000.0,{ │\n",
      "│            ┆              ┆ -2-4-5(6-4)3-1…  ┆      ┆        ┆ null,5,null}    ┆ null,null,8,1,n │\n",
      "│            ┆              ┆                  ┆      ┆        ┆                 ┆ …               │\n",
      "└────────────┴──────────────┴──────────────────┴──────┴────────┴─────────────────┴─────────────────┘\n",
      "\n",
      "Expanding stereochemistry...\n"
     ]
    },
    {
     "data": {
      "application/vnd.jupyter.widget-view+json": {
       "model_id": "7f8a5f0a8f2c46d5b81340302e41226c",
       "version_major": 2,
       "version_minor": 0
      },
      "text/plain": [
       "  0%|          | 0/5 [00:00<?, ?it/s]"
      ]
     },
     "metadata": {},
     "output_type": "display_data"
    },
    {
     "data": {
      "application/vnd.jupyter.widget-view+json": {
       "model_id": "6b90ca84556a42e8867b39883281daf3",
       "version_major": 2,
       "version_minor": 0
      },
      "text/plain": [
       "  0%|          | 0/6 [00:00<?, ?it/s]"
      ]
     },
     "metadata": {},
     "output_type": "display_data"
    },
    {
     "data": {
      "application/vnd.jupyter.widget-view+json": {
       "model_id": "884f1b8d2e794c68bff524487ace980c",
       "version_major": 2,
       "version_minor": 0
      },
      "text/plain": [
       "  0%|          | 0/2 [00:00<?, ?it/s]"
      ]
     },
     "metadata": {},
     "output_type": "display_data"
    },
    {
     "name": "stdout",
     "output_type": "stream",
     "text": [
      "\n",
      "Writing mechanism...\n",
      "../data/B_rh-ho2_1e-2_v0_gen.json\n",
      "../data/B_rh-ho2_1e-2_v0_ste.json\n",
      "../data/mechanalyzer/B_rh-ho2_1e-2_v0_ste.dat\n",
      "../data/mechanalyzer/B_rh-ho2_1e-2_v0_ste.csv\n"
     ]
    },
    {
     "data": {
      "application/vnd.jupyter.widget-view+json": {
       "model_id": "ecd0611481a64327be5de561266e58bc",
       "version_major": 2,
       "version_minor": 0
      },
      "text/plain": [
       "  0%|          | 0/6 [00:00<?, ?it/s]"
      ]
     },
     "metadata": {},
     "output_type": "display_data"
    },
    {
     "data": {
      "application/vnd.jupyter.widget-view+json": {
       "model_id": "326291f602a8437db2f9f054bef986f5",
       "version_major": 2,
       "version_minor": 0
      },
      "text/plain": [
       "  0%|          | 0/6 [00:00<?, ?it/s]"
      ]
     },
     "metadata": {},
     "output_type": "display_data"
    },
    {
     "data": {
      "application/vnd.jupyter.widget-view+json": {
       "model_id": "2b978e4a3f684f4bbd8241c95ded9f19",
       "version_major": 2,
       "version_minor": 0
      },
      "text/plain": [
       "  0%|          | 0/6 [00:00<?, ?it/s]"
      ]
     },
     "metadata": {},
     "output_type": "display_data"
    },
    {
     "name": "stdout",
     "output_type": "stream",
     "text": [
      "\n",
      "Stereoexpansion errors:\n"
     ]
    }
   ],
   "source": [
    "# Prepare calculation\n",
    "workflow.prepare_calculation(mech=mech, tag=tag, root_path=root_path)"
   ]
  },
  {
   "cell_type": "code",
   "execution_count": 4,
   "metadata": {},
   "outputs": [],
   "source": [
    "# # Prepare simulation\n",
    "# workflow.prepare_simulation(tag=tag, root_path=root_path)\n",
    "# workflow.prepare_simulation_species(tag=tag, root_path=root_path)"
   ]
  },
  {
   "cell_type": "code",
   "execution_count": 5,
   "metadata": {},
   "outputs": [],
   "source": [
    "# # Check rates\n",
    "# workflow.plot_rates(tag=tag, root_path=root_path)"
   ]
  },
  {
   "cell_type": "code",
   "execution_count": 6,
   "metadata": {},
   "outputs": [],
   "source": [
    "# # Plot simulation\n",
    "# chart_dct = workflow.plot_simulation(\n",
    "#     tag=tag,\n",
    "#     x_col=\"O2_molecules\",\n",
    "#     root_path=root_path,\n",
    "#     line_source_=[\"Hill\", \"Lokachari\"],\n",
    "#     point_source=\"Experiment\",\n",
    "#     control=False,\n",
    "# )\n",
    "# mech = automech.io.read(\n",
    "#     p_.full_calculated_mechanism(tag, \"json\", path=p_.data(root_path))\n",
    "# )\n",
    "# for name, chart in chart_dct.items():\n",
    "#     automech.display_species(mech, [name])\n",
    "#     chart.show()"
   ]
  },
  {
   "cell_type": "code",
   "execution_count": 7,
   "metadata": {},
   "outputs": [],
   "source": [
    "# # Check TS\n",
    "# from mechdriver.subtasks import display\n",
    "\n",
    "# chan = \"2: 5\"\n",
    "\n",
    "# #   - Read in expanded mechanism\n",
    "# mech_path = p_.mechanism(tag, ext=\"json\", path=p_.data(root_path))\n",
    "# mech = automech.io.read(mech_path)\n",
    "\n",
    "# #   - Display the reaction\n",
    "# automech.display_reactions(mech, chans=[chan])"
   ]
  },
  {
   "cell_type": "code",
   "execution_count": 8,
   "metadata": {},
   "outputs": [],
   "source": [
    "# #   - Display the TS mode\n",
    "# calc_path = p_.calc(root_path, tag)\n",
    "# display(\"conf_opt\", chan, path=calc_path)"
   ]
  },
  {
   "cell_type": "code",
   "execution_count": 9,
   "metadata": {},
   "outputs": [],
   "source": [
    "# #   - Display the TS mode\n",
    "# calc_path = p_.calc(root_path, tag)\n",
    "# display(\"find_ts\", chan, path=calc_path)"
   ]
  }
 ],
 "metadata": {
  "kernelspec": {
   "display_name": "proto",
   "language": "python",
   "name": "python3"
  },
  "language_info": {
   "codemirror_mode": {
    "name": "ipython",
    "version": 3
   },
   "file_extension": ".py",
   "mimetype": "text/x-python",
   "name": "python",
   "nbconvert_exporter": "python",
   "pygments_lexer": "ipython3",
   "version": "3.11.12"
  }
 },
 "nbformat": 4,
 "nbformat_minor": 2
}
