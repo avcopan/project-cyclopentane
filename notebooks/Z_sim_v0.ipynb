{
 "cells": [
  {
   "cell_type": "code",
   "execution_count": 1,
   "id": "137a4f53",
   "metadata": {},
   "outputs": [],
   "source": [
    "from pathlib import Path\n",
    "\n",
    "from project_utilities import workflow\n",
    "\n",
    "tag = \"Z_mess_v0\"\n",
    "therm_tag = \"Z_combined_v0\"\n",
    "root_path = Path(\"..\")"
   ]
  },
  {
   "cell_type": "code",
   "execution_count": 2,
   "id": "b2cbbd63",
   "metadata": {},
   "outputs": [
    {
     "name": "stdout",
     "output_type": "stream",
     "text": [
      "Reading in source mechanism and selecting C5H7 PES...\n",
      "Adding thermochemistry data...\n",
      "Post-processing rate data...\n",
      " - Reading in MESS input...\n",
      " - Reading in MESS output...\n",
      " - Integrating over fake nodes...\n",
      " - Enforcing equal enantiomer rates...\n",
      " - Clearing unfittable pressure ranges...\n",
      " - Removing unfittable well-skipping rates...\n",
      " - Removing irrelevant well-skipping rates...\n",
      " - Removing isolated nodes...\n",
      " - Checking for bad pressure-independence well-skipping rates...\n",
      " - Checking for non-irrelevant bad pressure-independence direct rates...\n",
      " - Clearing bad pressure-independence direct rates that are irrelevant...\n",
      " - Determining irrelevant pressures...\n",
      " - Fitting rates...\n",
      "Adding rate data...\n",
      " - Matching rates to reaction directions...\n",
      " - Building direct reactions DataFrame...\n",
      "shape: (5, 5)\n",
      "┌────────────────┬─────────────────┬────────────┬──────────────────────────────────┬───────────────┐\n",
      "│ reactants      ┆ products        ┆ reversible ┆ rate                             ┆ well_skipping │\n",
      "│ ---            ┆ ---             ┆ ---        ┆ ---                              ┆ ---           │\n",
      "│ list[str]      ┆ list[str]       ┆ bool       ┆ struct[7]                        ┆ bool          │\n",
      "╞════════════════╪═════════════════╪════════════╪══════════════════════════════════╪═══════════════╡\n",
      "│ [\"C5H7(487)z\"] ┆ [\"C2H2(40)\",    ┆ true       ┆ {1,{},[5.1149e55, 2.2989e49, ……  ┆ false         │\n",
      "│                ┆ \"C3H5(122)\"]    ┆            ┆                                  ┆               │\n",
      "│ [\"C5H7(487)e\"] ┆ [\"C2H2(40)\",    ┆ true       ┆ {1,{},[9.9661e9, 1.4828e40, … …  ┆ false         │\n",
      "│                ┆ \"C3H5(122)\"]    ┆            ┆                                  ┆               │\n",
      "│ [\"C5H7(504)\"]  ┆ [\"C5H7(487)e\"]  ┆ true       ┆ {1,{},[1.2678e47, 1.7322e48, ……  ┆ false         │\n",
      "│ [\"C5H7(500)\"]  ┆ [\"C5H7(504)\"]   ┆ true       ┆ {1,{},[2.4433e-19, 1.6296e56, …  ┆ false         │\n",
      "│ [\"C5H7(500)\"]  ┆ [\"C5H7(507)zz\"] ┆ true       ┆ {1,{},[5.3577e68, 8.0436e39, ……  ┆ false         │\n",
      "└────────────────┴─────────────────┴────────────┴──────────────────────────────────┴───────────────┘\n"
     ]
    },
    {
     "name": "stderr",
     "output_type": "stream",
     "text": [
      "/home/avcopan/proj/project-cyclopentane/code/autochem/src/autochem/unit_/_manager.py:61: UserWarning: Currently not fitting high-pressure limit order=1 efficiencies={} A=69542924.75699262 b=0.8782303167422043 E=10735.043611096327 type='arrhenius'\n",
      "  return func0(self, *args, units=units, **kwargs)\n",
      "/home/avcopan/proj/project-cyclopentane/code/autochem/src/autochem/unit_/_manager.py:61: UserWarning: Currently not fitting high-pressure limit order=1 efficiencies={} A=3260827697053.372 b=0.4583792664360522 E=44184.18856777419 type='arrhenius'\n",
      "  return func0(self, *args, units=units, **kwargs)\n",
      "/home/avcopan/proj/project-cyclopentane/code/autochem/src/autochem/unit_/_manager.py:61: UserWarning: Currently not fitting high-pressure limit order=1 efficiencies={} A=69.86154420561266 b=3.499461590233021 E=29256.365829697046 type='arrhenius'\n",
      "  return func0(self, *args, units=units, **kwargs)\n",
      "/home/avcopan/proj/project-cyclopentane/code/autochem/src/autochem/unit_/_manager.py:61: UserWarning: Currently not fitting high-pressure limit order=1 efficiencies={} A=19.272931624407217 b=3.5946391559452913 E=41164.446878598654 type='arrhenius'\n",
      "  return func0(self, *args, units=units, **kwargs)\n",
      "/home/avcopan/proj/project-cyclopentane/code/autochem/src/autochem/unit_/_manager.py:61: UserWarning: Currently not fitting high-pressure limit order=1 efficiencies={} A=135989643668.2293 b=0.7805663772583085 E=44687.146129886234 type='arrhenius'\n",
      "  return func0(self, *args, units=units, **kwargs)\n",
      "/home/avcopan/proj/project-cyclopentane/code/autochem/src/autochem/unit_/_manager.py:61: UserWarning: Currently not fitting high-pressure limit order=1 efficiencies={} A=148377424662.94998 b=0.39841023789546925 E=30251.144073209936 type='arrhenius'\n",
      "  return func0(self, *args, units=units, **kwargs)\n"
     ]
    }
   ],
   "source": [
    "from importlib import reload\n",
    "\n",
    "reload(workflow)\n",
    "\n",
    "stoich = \"C5H7\"\n",
    "workflow.prepare_simulation(\n",
    "    tag=tag, stoich=stoich, therm_tag=therm_tag, root_path=root_path\n",
    ")"
   ]
  }
 ],
 "metadata": {
  "kernelspec": {
   "display_name": "dev",
   "language": "python",
   "name": "python3"
  },
  "language_info": {
   "codemirror_mode": {
    "name": "ipython",
    "version": 3
   },
   "file_extension": ".py",
   "mimetype": "text/x-python",
   "name": "python",
   "nbconvert_exporter": "python",
   "pygments_lexer": "ipython3",
   "version": "3.13.8"
  }
 },
 "nbformat": 4,
 "nbformat_minor": 5
}
