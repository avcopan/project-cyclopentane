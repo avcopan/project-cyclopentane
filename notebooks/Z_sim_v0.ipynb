{
 "cells": [
  {
   "cell_type": "code",
   "execution_count": 1,
   "id": "137a4f53",
   "metadata": {},
   "outputs": [],
   "source": [
    "from pathlib import Path\n",
    "\n",
    "import automech as am\n",
    "from project_utilities import workflow\n",
    "\n",
    "tag = \"Z_mess_v0\"\n",
    "therm_tag = \"Z_combined_v0\"\n",
    "root_path = Path(\"..\")"
   ]
  },
  {
   "cell_type": "code",
   "execution_count": 2,
   "id": "b2cbbd63",
   "metadata": {},
   "outputs": [
    {
     "name": "stdout",
     "output_type": "stream",
     "text": [
      "stoich = C5H7\n",
      "Reading in primary source mechanism and selecting C5H7 PES...\n",
      "Reading in comparison source mechanism and selecting C5H7 PES...\n",
      "Adding thermochemistry data...\n",
      "Post-processing rate data...\n",
      " - Reading in MESS input...\n",
      " - Reading in MESS output...\n",
      " - Integrating over fake nodes...\n",
      " - Enforcing equal enantiomer rates...\n",
      " - Clearing unfittable pressure ranges...\n",
      " - Removing unfittable well-skipping rates...\n",
      " - Removing irrelevant well-skipping rates...\n",
      " - Removing isolated nodes...\n",
      " - Checking for bad pressure-independence well-skipping rates...\n",
      " - Checking for non-irrelevant bad pressure-independence direct rates...\n",
      " - Clearing bad pressure-independence direct rates that are irrelevant...\n",
      " - Determining irrelevant pressures...\n",
      " - Fitting rates...\n",
      "Adding rate data...\n",
      " - Matching rates to reaction directions...\n",
      " - Adding direct rate data...\n"
     ]
    },
    {
     "name": "stderr",
     "output_type": "stream",
     "text": [
      "/home/avcopan/proj/project-cyclopentane/code/autochem/src/autochem/unit_/_manager.py:61: UserWarning: Currently not fitting high-pressure limit order=1 efficiencies={} A=69542924.75699262 b=0.8782303167422043 E=10735.043611096327 type='arrhenius'\n",
      "  return func0(self, *args, units=units, **kwargs)\n",
      "/home/avcopan/proj/project-cyclopentane/code/autochem/src/autochem/unit_/_manager.py:61: UserWarning: Currently not fitting high-pressure limit order=1 efficiencies={} A=3260827697053.372 b=0.4583792664360522 E=44184.18856777419 type='arrhenius'\n",
      "  return func0(self, *args, units=units, **kwargs)\n",
      "/home/avcopan/proj/project-cyclopentane/code/autochem/src/autochem/unit_/_manager.py:61: UserWarning: Currently not fitting high-pressure limit order=1 efficiencies={} A=69.86154420561266 b=3.499461590233021 E=29256.365829697046 type='arrhenius'\n",
      "  return func0(self, *args, units=units, **kwargs)\n",
      "/home/avcopan/proj/project-cyclopentane/code/autochem/src/autochem/unit_/_manager.py:61: UserWarning: Currently not fitting high-pressure limit order=1 efficiencies={} A=19.272931624407217 b=3.5946391559452913 E=41164.446878598654 type='arrhenius'\n",
      "  return func0(self, *args, units=units, **kwargs)\n",
      "/home/avcopan/proj/project-cyclopentane/code/autochem/src/autochem/unit_/_manager.py:61: UserWarning: Currently not fitting high-pressure limit order=1 efficiencies={} A=135989643668.2293 b=0.7805663772583085 E=44687.146129886234 type='arrhenius'\n",
      "  return func0(self, *args, units=units, **kwargs)\n",
      "/home/avcopan/proj/project-cyclopentane/code/autochem/src/autochem/unit_/_manager.py:61: UserWarning: Currently not fitting high-pressure limit order=1 efficiencies={} A=148377424662.94998 b=0.39841023789546925 E=30251.144073209936 type='arrhenius'\n",
      "  return func0(self, *args, units=units, **kwargs)\n"
     ]
    },
    {
     "name": "stdout",
     "output_type": "stream",
     "text": [
      "Writing mechanisms to JSON...\n",
      " - Calculated: ../data/Z_mess_v0_C5H7_calc1.json\n",
      " - Comparison: ../data/Z_mess_v0_C5H7_calc2.json\n",
      "Writing mechanisms to Chemkin...\n",
      " - Calculated: ../data/chemkin/Z_mess_v0_C5H7_calc1.dat\n",
      " - Comparison: ../data/chemkin/Z_mess_v0_C5H7_calc2.dat\n",
      "Writing mechanisms to Cantera...\n",
      " - Calculated: ../data/cantera/Z_mess_v0_C5H7_calc1.yaml\n",
      " - Comparison: ../data/cantera/Z_mess_v0_C5H7_calc2.yaml\n",
      "Converting ChemKin mechanism to Cantera YAML...\n",
      "Wrote YAML mechanism file to '../data/cantera/Z_mess_v0_C5H7_calc1.yaml'.\n",
      "Mechanism contains 7 species and 8 reactions.\n",
      "Wrote YAML mechanism file to '../data/cantera/Z_mess_v0_C5H7_calc2.yaml'.\n",
      "Mechanism contains 7 species and 8 reactions.\n",
      "Validating Cantera model...\n",
      "\n"
     ]
    }
   ],
   "source": [
    "from importlib import reload\n",
    "\n",
    "reload(workflow)\n",
    "\n",
    "stoichs = [\"C5H7\"]\n",
    "for stoich in stoichs:\n",
    "    print(f\"stoich = {stoich}\")\n",
    "    mech, comp_mech = workflow.postprocess_rate_data(\n",
    "        tag=tag, stoich=stoich, therm_tag=therm_tag, root_path=root_path\n",
    "    )\n",
    "    print()"
   ]
  },
  {
   "cell_type": "code",
   "execution_count": 4,
   "id": "9bef0133",
   "metadata": {},
   "outputs": [
    {
     "name": "stdout",
     "output_type": "stream",
     "text": [
      "Reading mechanisms...\n",
      " - Parent: ../data/full_parent.json\n",
      " - Calculated: [PosixPath('../data/Z_mess_v0_C5H7_calc1.json')]\n",
      " - Comparison: [PosixPath('../data/Z_mess_v0_C5H7_calc2.json')]\n",
      "Expanding and updating parent...\n"
     ]
    },
    {
     "data": {
      "application/vnd.jupyter.widget-view+json": {
       "model_id": "a2f30d4fef004115977bc7f9a311eaa2",
       "version_major": 2,
       "version_minor": 0
      },
      "text/plain": [
       "  0%|          | 0/407 [00:00<?, ?it/s]"
      ]
     },
     "metadata": {},
     "output_type": "display_data"
    },
    {
     "name": "stdout",
     "output_type": "stream",
     "text": [
      "Writing mechanism to JSON...\n",
      " - Control: ../data/full_Z_mess_v0_control.json\n",
      " - Calculated: ../data/full_Z_mess_v0_calc1.json\n",
      " - Calculated: ../data/full_Z_mess_v0_calc2.json\n",
      "Writing mechanism to Chemkin...\n",
      " - Control: ../data/chemkin/full_Z_mess_v0_control.dat\n",
      " - Calculated: ../data/chemkin/full_Z_mess_v0_calc1.dat\n",
      " - Calculated: ../data/chemkin/full_Z_mess_v0_calc2.dat\n",
      "Converting ChemKin mechanism to Cantera YAML...\n",
      "Wrote YAML mechanism file to '../data/cantera/full_Z_mess_v0_control.yaml'.\n",
      "Mechanism contains 2535 species and 10017 reactions.\n",
      "Wrote YAML mechanism file to '../data/cantera/full_Z_mess_v0_calc1.yaml'.\n",
      "Mechanism contains 2535 species and 10017 reactions.\n",
      "Wrote YAML mechanism file to '../data/cantera/full_Z_mess_v0_calc2.yaml'.\n",
      "Mechanism contains 2535 species and 10017 reactions.\n",
      "Validating Cantera model...\n"
     ]
    }
   ],
   "source": [
    "from importlib import reload\n",
    "\n",
    "reload(workflow)\n",
    "\n",
    "workflow.prepare_simulation(tag, stoichs=stoichs, root_path=root_path)"
   ]
  },
  {
   "cell_type": "code",
   "execution_count": null,
   "id": "0145a389",
   "metadata": {},
   "outputs": [],
   "source": []
  }
 ],
 "metadata": {
  "kernelspec": {
   "display_name": "dev",
   "language": "python",
   "name": "python3"
  },
  "language_info": {
   "codemirror_mode": {
    "name": "ipython",
    "version": 3
   },
   "file_extension": ".py",
   "mimetype": "text/x-python",
   "name": "python",
   "nbconvert_exporter": "python",
   "pygments_lexer": "ipython3",
   "version": "3.13.8"
  }
 },
 "nbformat": 4,
 "nbformat_minor": 5
}
