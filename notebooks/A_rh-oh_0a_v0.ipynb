{
 "cells": [
  {
   "cell_type": "code",
   "execution_count": 1,
   "metadata": {},
   "outputs": [],
   "source": [
    "from pathlib import Path\n",
    "\n",
    "import util\n",
    "from util import p_, workflow\n",
    "\n",
    "import automech\n",
    "\n",
    "file = util.notebook_file() if util.is_notebook() else __file__\n",
    "tag = util.file_tag(file)\n",
    "root_path = Path(\"..\")\n",
    "par_mech = workflow.read_parent_mechanism(root_path=root_path)"
   ]
  },
  {
   "cell_type": "code",
   "execution_count": 2,
   "metadata": {},
   "outputs": [
    {
     "data": {
      "application/vnd.jupyter.widget-view+json": {
       "model_id": "6b37e403e7f44acd93728f246c2cdadc",
       "version_major": 2,
       "version_minor": 0
      },
      "text/plain": [
       "  0%|          | 0/1 [00:00<?, ?it/s]"
      ]
     },
     "metadata": {},
     "output_type": "display_data"
    }
   ],
   "source": [
    "# Generate submechanism\n",
    "from automol.graph import enum\n",
    "\n",
    "from automech.species import Species\n",
    "\n",
    "mech = automech.from_smiles(spc_smis=[\"C1CCCC1\"], src_mech=par_mech)\n",
    "#  - Abstractions\n",
    "mech = automech.enumerate_reactions(\n",
    "    mech,\n",
    "    enum.ReactionSmarts.abstraction,\n",
    "    rcts_=[None, \"[OH]\"],\n",
    "    spc_col_=Species.smiles,\n",
    "    src_mech=par_mech,\n",
    ")\n",
    "automech.display(mech)"
   ]
  },
  {
   "cell_type": "code",
   "execution_count": 3,
   "metadata": {},
   "outputs": [
    {
     "name": "stdout",
     "output_type": "stream",
     "text": [
      "\n",
      "Finalizing build for...\n",
      "reactions=shape: (1, 5)\n",
      "┌───────────────────────┬───────────────┬───────────┬────────────┬─────────────────────────────────┐\n",
      "│ reactants             ┆ products      ┆ formula   ┆ reversible ┆ rate                            │\n",
      "│ ---                   ┆ ---           ┆ ---       ┆ ---        ┆ ---                             │\n",
      "│ list[str]             ┆ list[str]     ┆ struct[3] ┆ bool       ┆ struct[18]                      │\n",
      "╞═══════════════════════╪═══════════════╪═══════════╪════════════╪═════════════════════════════════╡\n",
      "│ [\"CPT(563)\", \"OH(4)\"] ┆ [\"C5H9(553)\", ┆ {5,11,1}  ┆ true       ┆ {2,{null,null,null,null,null,n… │\n",
      "│                       ┆ \"H2O(5)\"]     ┆           ┆            ┆                                 │\n",
      "└───────────────────────┴───────────────┴───────────┴────────────┴─────────────────────────────────┘ species=shape: (4, 7)\n",
      "┌───────────┬────────────┬───────────────────┬──────┬────────┬──────────────────┬──────────────────┐\n",
      "│ name      ┆ smiles     ┆ amchi             ┆ spin ┆ charge ┆ formula          ┆ therm            │\n",
      "│ ---       ┆ ---        ┆ ---               ┆ ---  ┆ ---    ┆ ---              ┆ ---              │\n",
      "│ str       ┆ str        ┆ str               ┆ i64  ┆ i64    ┆ struct[7]        ┆ struct[8]        │\n",
      "╞═══════════╪════════════╪═══════════════════╪══════╪════════╪══════════════════╪══════════════════╡\n",
      "│ CPT(563)  ┆ C1CCCC1    ┆ AMChI=1/C5H10/c1- ┆ 0    ┆ 0      ┆ {10,null,null,nu ┆ {298.0,5000.0,{n │\n",
      "│           ┆            ┆ 2-4-5-3-1/h1-…    ┆      ┆        ┆ ll,null,5,null…  ┆ ull,null,10,nu…  │\n",
      "│ OH(4)     ┆ [OH]       ┆ AMChI=1/HO/h1H    ┆ 1    ┆ 0      ┆ {1,1,null,null,n ┆ {200.0,6000.0,{n │\n",
      "│           ┆            ┆                   ┆      ┆        ┆ ull,null,null}   ┆ ull,null,1,1,n…  │\n",
      "│ C5H9(553) ┆ C1CC[CH]C1 ┆ AMChI=1/C5H9/c1-2 ┆ 1    ┆ 0      ┆ {9,null,null,nul ┆ {298.0,5000.0,{n │\n",
      "│           ┆            ┆ -4-5-3-1/h1H,…    ┆      ┆        ┆ l,null,5,null}   ┆ ull,null,9,nul…  │\n",
      "│ H2O(5)    ┆ O          ┆ AMChI=1/H2O/h1H2  ┆ 0    ┆ 0      ┆ {2,1,null,null,n ┆ {200.0,6000.0,{n │\n",
      "│           ┆            ┆                   ┆      ┆        ┆ ull,null,null}   ┆ ull,null,2,1,n…  │\n",
      "└───────────┴────────────┴───────────────────┴──────┴────────┴──────────────────┴──────────────────┘\n",
      "\n",
      "Expanding stereochemistry...\n"
     ]
    },
    {
     "data": {
      "application/vnd.jupyter.widget-view+json": {
       "model_id": "910ba795a4ac4f57987fdf8650b4ebff",
       "version_major": 2,
       "version_minor": 0
      },
      "text/plain": [
       "  0%|          | 0/4 [00:00<?, ?it/s]"
      ]
     },
     "metadata": {},
     "output_type": "display_data"
    },
    {
     "data": {
      "application/vnd.jupyter.widget-view+json": {
       "model_id": "239d797935524616b702af978fe3ba8b",
       "version_major": 2,
       "version_minor": 0
      },
      "text/plain": [
       "  0%|          | 0/4 [00:00<?, ?it/s]"
      ]
     },
     "metadata": {},
     "output_type": "display_data"
    },
    {
     "data": {
      "application/vnd.jupyter.widget-view+json": {
       "model_id": "4945564375c946e982346ba196f555da",
       "version_major": 2,
       "version_minor": 0
      },
      "text/plain": [
       "  0%|          | 0/1 [00:00<?, ?it/s]"
      ]
     },
     "metadata": {},
     "output_type": "display_data"
    },
    {
     "name": "stdout",
     "output_type": "stream",
     "text": [
      "\n",
      "Writing mechanism...\n",
      "../data/A_rh-oh_0a_v0_gen.json\n",
      "../data/A_rh-oh_0a_v0_ste.json\n",
      "../data/mechanalyzer/A_rh-oh_0a_v0_ste.dat\n",
      "../data/mechanalyzer/A_rh-oh_0a_v0_ste.csv\n"
     ]
    },
    {
     "data": {
      "application/vnd.jupyter.widget-view+json": {
       "model_id": "f22d64aa371a485b8bde6831326252fb",
       "version_major": 2,
       "version_minor": 0
      },
      "text/plain": [
       "  0%|          | 0/4 [00:00<?, ?it/s]"
      ]
     },
     "metadata": {},
     "output_type": "display_data"
    },
    {
     "data": {
      "application/vnd.jupyter.widget-view+json": {
       "model_id": "1cbec50579d04e5394e5e58a77597e2b",
       "version_major": 2,
       "version_minor": 0
      },
      "text/plain": [
       "  0%|          | 0/4 [00:00<?, ?it/s]"
      ]
     },
     "metadata": {},
     "output_type": "display_data"
    },
    {
     "data": {
      "application/vnd.jupyter.widget-view+json": {
       "model_id": "d92a3aa1a73e47a3a95d41a35dd35c07",
       "version_major": 2,
       "version_minor": 0
      },
      "text/plain": [
       "  0%|          | 0/4 [00:00<?, ?it/s]"
      ]
     },
     "metadata": {},
     "output_type": "display_data"
    },
    {
     "name": "stdout",
     "output_type": "stream",
     "text": [
      "\n",
      "Stereoexpansion errors:\n"
     ]
    }
   ],
   "source": [
    "# Prepare calculation\n",
    "workflow.prepare_calculation(mech=mech, tag=tag, root_path=root_path)"
   ]
  },
  {
   "cell_type": "code",
   "execution_count": 4,
   "metadata": {},
   "outputs": [],
   "source": [
    "# # Prepare simulation\n",
    "# workflow.prepare_simulation(tag=tag, root_path=root_path)\n",
    "# workflow.prepare_simulation_species(tag=tag, root_path=root_path)"
   ]
  },
  {
   "cell_type": "code",
   "execution_count": 5,
   "metadata": {},
   "outputs": [],
   "source": [
    "# # Check rates\n",
    "# workflow.plot_rates(tag=tag, root_path=root_path)"
   ]
  },
  {
   "cell_type": "code",
   "execution_count": 6,
   "metadata": {},
   "outputs": [],
   "source": [
    "# # Plot simulation\n",
    "# chart_dct = workflow.plot_simulation(\n",
    "#     tag=tag,\n",
    "#     x_col=\"O2_molecules\",\n",
    "#     root_path=root_path,\n",
    "#     line_source_=[\"Hill\", \"Lokachari\"],\n",
    "#     point_source=\"Experiment\",\n",
    "#     control=False,\n",
    "# )\n",
    "# mech = automech.io.read(\n",
    "#     p_.full_calculated_mechanism(tag, \"json\", path=p_.data(root_path))\n",
    "# )\n",
    "# for name, chart in chart_dct.items():\n",
    "#     automech.display_species(mech, [name])\n",
    "#     chart.show()"
   ]
  }
 ],
 "metadata": {
  "kernelspec": {
   "display_name": "proto",
   "language": "python",
   "name": "python3"
  },
  "language_info": {
   "codemirror_mode": {
    "name": "ipython",
    "version": 3
   },
   "file_extension": ".py",
   "mimetype": "text/x-python",
   "name": "python",
   "nbconvert_exporter": "python",
   "pygments_lexer": "ipython3",
   "version": "3.11.12"
  }
 },
 "nbformat": 4,
 "nbformat_minor": 2
}
