{
 "cells": [
  {
   "cell_type": "code",
   "execution_count": 1,
   "metadata": {},
   "outputs": [],
   "source": [
    "from pathlib import Path\n",
    "\n",
    "import util\n",
    "from util import workflow\n",
    "\n",
    "browser = True\n",
    "file = util.notebook_file() if util.is_notebook() else __file__\n",
    "tag = util.file_tag(file)\n",
    "root_path = Path(\"..\")\n",
    "data_path = util.data_path(root_path)"
   ]
  },
  {
   "cell_type": "code",
   "execution_count": 2,
   "metadata": {},
   "outputs": [
    {
     "data": {
      "application/vnd.jupyter.widget-view+json": {
       "model_id": "435662920f184ae396bebd3b214367e3",
       "version_major": 2,
       "version_minor": 0
      },
      "text/plain": [
       "  0%|          | 0/2 [00:00<?, ?it/s]"
      ]
     },
     "metadata": {},
     "output_type": "display_data"
    }
   ],
   "source": [
    "# Build\n",
    "from automol.graph import enum\n",
    "\n",
    "import automech\n",
    "from automech.species import Species\n",
    "\n",
    "mech0 = automech.io.read(data_path / \"full_raw.json\")\n",
    "mech = automech.from_smiles(\n",
    "    spc_smis=[\"C1=C[CH]CC1\", \"C1=CC[CH]C1\"],\n",
    "    src_mech=mech0,\n",
    ")\n",
    "#  - O2 additions\n",
    "mech = automech.enumerate_reactions(\n",
    "    mech,\n",
    "    enum.ReactionSmarts.o2_addition,\n",
    "    rcts_=[None, \"[O][O]\"],\n",
    "    spc_col_=Species.smiles,\n",
    "    src_mech=mech0,\n",
    ")\n",
    "#  - HO2 elimination\n",
    "mech = automech.enumerate_reactions(\n",
    "    mech,\n",
    "    enum.ReactionSmarts.ho2_elimination,\n",
    "    spc_col_=Species.smiles,\n",
    "    src_mech=mech0,\n",
    ")\n",
    "#  - RO2 -> QOOH\n",
    "mech = automech.enumerate_reactions(\n",
    "    mech,\n",
    "    enum.ReactionSmarts.qooh_formation,\n",
    "    spc_col_=Species.smiles,\n",
    "    src_mech=mech0,\n",
    ")\n",
    "#  - QOOH beta scission to produce HO2\n",
    "mech = automech.enumerate_reactions(\n",
    "    mech,\n",
    "    enum.ReactionSmarts.qooh_beta_scission,\n",
    "    spc_col_=Species.smiles,\n",
    "    src_mech=mech0,\n",
    ")\n",
    "#  - QOOH ring-forming scission to produce OH\n",
    "mech = automech.enumerate_reactions(\n",
    "    mech,\n",
    "    enum.ReactionSmarts.qooh_ring_forming_scission,\n",
    "    spc_col_=Species.smiles,\n",
    "    src_mech=mech0,\n",
    ")"
   ]
  },
  {
   "cell_type": "code",
   "execution_count": 3,
   "metadata": {},
   "outputs": [
    {
     "name": "stdout",
     "output_type": "stream",
     "text": [
      "\n",
      "Finalizing build for...\n",
      "reactions=shape: (19, 5)\n",
      "┌────────────────┬────────────────────────┬───────────┬────────────┬───────────────────────────────┐\n",
      "│ reactants      ┆ products               ┆ formula   ┆ reversible ┆ rate_constant                 │\n",
      "│ ---            ┆ ---                    ┆ ---       ┆ ---        ┆ ---                           │\n",
      "│ list[str]      ┆ list[str]              ┆ struct[3] ┆ bool       ┆ struct[17]                    │\n",
      "╞════════════════╪════════════════════════╪═══════════╪════════════╪═══════════════════════════════╡\n",
      "│ [\"S(1206)\"]    ┆ [\"C5O2grifhj\"]         ┆ {5,7,2}   ┆ null       ┆ null                          │\n",
      "│ [\"S(1206)\"]    ┆ [\"C5O2bhogzp\"]         ┆ {5,7,2}   ┆ null       ┆ null                          │\n",
      "│ [\"S(1206)\"]    ┆ [\"S(1210)\"]            ┆ {5,7,2}   ┆ true       ┆ {1,{null,null,null,null,null, │\n",
      "│                ┆                        ┆           ┆            ┆ n…                            │\n",
      "│ [\"S(1209)\"]    ┆ [\"S(1206)\"]            ┆ {5,7,2}   ┆ true       ┆ {1,{null,null,null,null,null, │\n",
      "│                ┆                        ┆           ┆            ┆ n…                            │\n",
      "│ [\"S(602)\"]     ┆ [\"C5O2dzhvur\"]         ┆ {5,7,2}   ┆ null       ┆ null                          │\n",
      "│ …              ┆ …                      ┆ …         ┆ …          ┆ …                             │\n",
      "│ [\"S(1210)\"]    ┆ [\"OH(4)\", \"S(1288)\"]   ┆ {5,7,2}   ┆ true       ┆ {1,{null,null,null,null,null, │\n",
      "│                ┆                        ┆           ┆            ┆ n…                            │\n",
      "│ [\"C5O2dzhvur\"] ┆ [\"C5Ocgydmv\", \"OH(4)\"] ┆ {5,7,2}   ┆ null       ┆ null                          │\n",
      "│ [\"C5O2bhogzp\"] ┆ [\"S(1688)\", \"OH(4)\"]   ┆ {5,7,2}   ┆ null       ┆ null                          │\n",
      "│ [\"C5O2grifhj\"] ┆ [\"C5Ozxlqcv\", \"OH(4)\"] ┆ {5,7,2}   ┆ null       ┆ null                          │\n",
      "│ [\"S(1209)\"]    ┆ [\"OH(4)\", \"S(1288)\"]   ┆ {5,7,2}   ┆ true       ┆ {1,{null,null,null,null,null, │\n",
      "│                ┆                        ┆           ┆            ┆ n…                            │\n",
      "└────────────────┴────────────────────────┴───────────┴────────────┴───────────────────────────────┘ species=shape: (18, 7)\n",
      "┌───────────┬──────────────┬──────────────────┬──────┬────────┬──────────────────┬─────────────────┐\n",
      "│ name      ┆ smiles       ┆ amchi            ┆ spin ┆ charge ┆ formula          ┆ thermo_string   │\n",
      "│ ---       ┆ ---          ┆ ---              ┆ ---  ┆ ---    ┆ ---              ┆ ---             │\n",
      "│ str       ┆ str          ┆ str              ┆ i64  ┆ i64    ┆ struct[7]        ┆ str             │\n",
      "╞═══════════╪══════════════╪══════════════════╪══════╪════════╪══════════════════╪═════════════════╡\n",
      "│ C5H7(500) ┆ C1C[CH]C=C1  ┆ AMChI=1/C5H7/c1- ┆ 1    ┆ 0      ┆ {7,null,null,nul ┆ C   5H   7      │\n",
      "│           ┆              ┆ 2-4-5-3-1/h1-3…  ┆      ┆        ┆ l,null,5,null}   ┆ G   298.00…     │\n",
      "│ O2(6)     ┆ O=O          ┆ AMChI=1/O2/c1-2  ┆ 2    ┆ 0      ┆ {null,2,null,nul ┆ O   2           │\n",
      "│           ┆              ┆                  ┆      ┆        ┆ l,null,null,nu…  ┆ G   200.00…     │\n",
      "│ S(1206)   ┆ [O]OC1CCC=C1 ┆ AMChI=1/C5H7O2/c ┆ 1    ┆ 0      ┆ {7,2,null,null,n ┆ C   5H   7O   2 │\n",
      "│           ┆              ┆ 6-7-5-2-1-3-4-…  ┆      ┆        ┆ ull,5,null}      ┆ G   100.00…     │\n",
      "│ C5H7(504) ┆ C1[CH]CC=C1  ┆ AMChI=1/C5H7/c1- ┆ 1    ┆ 0      ┆ {7,null,null,nul ┆ C   5H   7      │\n",
      "│           ┆              ┆ 2-5-3-4-1/h1-3…  ┆      ┆        ┆ l,null,5,null}   ┆ G   298.00…     │\n",
      "│ S(602)    ┆ [O]OC1CC=CC1 ┆ AMChI=1/C5H7O2/c ┆ 1    ┆ 0      ┆ {7,2,null,null,n ┆ C   5H   7O   2 │\n",
      "│           ┆              ┆ 6-7-5-3-1-2-4-…  ┆      ┆        ┆ ull,5,null}      ┆ G   298.00…     │\n",
      "│ …         ┆ …            ┆ …                ┆ …    ┆ …      ┆ …                ┆ …               │\n",
      "│ OH(4)     ┆ [OH]         ┆ AMChI=1/HO/h1H   ┆ 1    ┆ 0      ┆ {1,1,null,null,n ┆ H   1O   1      │\n",
      "│           ┆              ┆                  ┆      ┆        ┆ ull,null,null}   ┆ G   200.00…     │\n",
      "│ S(1288)   ┆ O1C2C1C=CC2  ┆ AMChI=1/C5H6O/c1 ┆ 0    ┆ 0      ┆ {6,1,null,null,n ┆ C   5H   6O   1 │\n",
      "│           ┆              ┆ -2-4-5(6-4)3-1…  ┆      ┆        ┆ ull,5,null}      ┆ G   100.00…     │\n",
      "│ S(1688)   ┆ O1C2CCC=C12  ┆ AMChI=1/C5H6O/c1 ┆ 0    ┆ 0      ┆ {6,1,null,null,n ┆ C   5H   6O   1 │\n",
      "│           ┆              ┆ -2-3-5-4(1)6-5…  ┆      ┆        ┆ ull,5,null}      ┆ G   100.00…     │\n",
      "│ C5Ozxlqcv ┆ C1=C2CCC1O2  ┆ AMChI=1/C5H6O/c1 ┆ 0    ┆ 0      ┆ {6,1,null,null,n ┆ null            │\n",
      "│           ┆              ┆ -4-2-3-5(1)6-4…  ┆      ┆        ┆ ull,5,null}      ┆                 │\n",
      "│ C5Ocgydmv ┆ C=1CC2CC=1O2 ┆ AMChI=1/C5H6O/c1 ┆ 0    ┆ 0      ┆ {6,1,null,null,n ┆ null            │\n",
      "│           ┆              ┆ -2-5-3-4(1)6-5…  ┆      ┆        ┆ ull,5,null}      ┆                 │\n",
      "└───────────┴──────────────┴──────────────────┴──────┴────────┴──────────────────┴─────────────────┘ thermo_temps=None\n",
      "\n",
      "Expanding stereochemistry...\n"
     ]
    },
    {
     "data": {
      "application/vnd.jupyter.widget-view+json": {
       "model_id": "bcb7b55b1cde442486055c37960dcadc",
       "version_major": 2,
       "version_minor": 0
      },
      "text/plain": [
       "  0%|          | 0/18 [00:00<?, ?it/s]"
      ]
     },
     "metadata": {},
     "output_type": "display_data"
    },
    {
     "data": {
      "application/vnd.jupyter.widget-view+json": {
       "model_id": "089faa482e0b4b4b858fdd42810fc70f",
       "version_major": 2,
       "version_minor": 0
      },
      "text/plain": [
       "  0%|          | 0/28 [00:00<?, ?it/s]"
      ]
     },
     "metadata": {},
     "output_type": "display_data"
    },
    {
     "data": {
      "application/vnd.jupyter.widget-view+json": {
       "model_id": "9ebd9db7bed842d791d7c6be8d985350",
       "version_major": 2,
       "version_minor": 0
      },
      "text/plain": [
       "  0%|          | 0/19 [00:00<?, ?it/s]"
      ]
     },
     "metadata": {},
     "output_type": "display_data"
    },
    {
     "name": "stdout",
     "output_type": "stream",
     "text": [
      "\n",
      "Writing mechanism...\n",
      "../data/D_r-o2_p1v3_raw.json\n",
      "../data/D_r-o2_p1v3.json\n",
      "../data/mechanalyzer/D_r-o2_p1v3.dat\n",
      "../data/mechanalyzer/D_r-o2_p1v3.csv\n"
     ]
    },
    {
     "data": {
      "application/vnd.jupyter.widget-view+json": {
       "model_id": "dddc193b3c694d3084308eccc6e0b594",
       "version_major": 2,
       "version_minor": 0
      },
      "text/plain": [
       "  0%|          | 0/28 [00:00<?, ?it/s]"
      ]
     },
     "metadata": {},
     "output_type": "display_data"
    },
    {
     "data": {
      "application/vnd.jupyter.widget-view+json": {
       "model_id": "71f67c130cbf453ab1d0ccd80250650d",
       "version_major": 2,
       "version_minor": 0
      },
      "text/plain": [
       "  0%|          | 0/28 [00:00<?, ?it/s]"
      ]
     },
     "metadata": {},
     "output_type": "display_data"
    },
    {
     "data": {
      "application/vnd.jupyter.widget-view+json": {
       "model_id": "fc4896ba4864499e85e9f56d9b3b1f5e",
       "version_major": 2,
       "version_minor": 0
      },
      "text/plain": [
       "  0%|          | 0/28 [00:00<?, ?it/s]"
      ]
     },
     "metadata": {},
     "output_type": "display_data"
    },
    {
     "name": "stdout",
     "output_type": "stream",
     "text": [
      "\n",
      "Stereoexpansion errors:\n"
     ]
    }
   ],
   "source": [
    "# Write\n",
    "workflow.write(mech=mech, tag=tag, root_path=root_path, browser=browser)"
   ]
  },
  {
   "cell_type": "code",
   "execution_count": 4,
   "metadata": {},
   "outputs": [],
   "source": [
    "# # Read\n",
    "# workflow.read(tag=tag, root_path=root_path)"
   ]
  },
  {
   "cell_type": "code",
   "execution_count": 5,
   "metadata": {},
   "outputs": [],
   "source": [
    "# # Simulate\n",
    "# workflow.simulate(full_tag=f\"full_{tag}_calc\", root_path=root_path)\n",
    "# workflow.simulate(full_tag=f\"full_{tag}_control\", root_path=root_path)"
   ]
  },
  {
   "cell_type": "code",
   "execution_count": 6,
   "metadata": {},
   "outputs": [],
   "source": [
    "# # Plot\n",
    "# charts = workflow.plot(\n",
    "#     full_tag=f\"full_{tag}_calc\",\n",
    "#     x_col=\"O2_molecules\",\n",
    "#     y_col_=[\"C5H8(522)\", \"C5H8O(825)rs\"],\n",
    "#     root_path=root_path,\n",
    "#     line_source_=[\"hill\", \"lokachari\"],\n",
    "#     point_source=\"experiment\",\n",
    "# )\n",
    "# for chart in charts:\n",
    "#     chart.show()"
   ]
  }
 ],
 "metadata": {
  "kernelspec": {
   "display_name": "proto",
   "language": "python",
   "name": "python3"
  },
  "language_info": {
   "codemirror_mode": {
    "name": "ipython",
    "version": 3
   },
   "file_extension": ".py",
   "mimetype": "text/x-python",
   "name": "python",
   "nbconvert_exporter": "python",
   "pygments_lexer": "ipython3",
   "version": "3.11.11"
  }
 },
 "nbformat": 4,
 "nbformat_minor": 2
}
