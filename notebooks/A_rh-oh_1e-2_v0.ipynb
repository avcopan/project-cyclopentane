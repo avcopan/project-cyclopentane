{
 "cells": [
  {
   "cell_type": "code",
   "execution_count": null,
   "metadata": {},
   "outputs": [],
   "source": [
    "from pathlib import Path\n",
    "\n",
    "import util\n",
    "from util import workflow\n",
    "\n",
    "browser = False\n",
    "file = util.notebook_file() if util.is_notebook() else __file__\n",
    "tag = util.file_tag(file)\n",
    "root_path = Path(\"..\")"
   ]
  },
  {
   "cell_type": "code",
   "execution_count": null,
   "metadata": {},
   "outputs": [],
   "source": [
    "# # Build\n",
    "# from automol.graph import enum\n",
    "\n",
    "# import automech\n",
    "# from automech.species import Species\n",
    "\n",
    "# par_mech = workflow.read_parent_mechanism(root_path=root_path)\n",
    "# mech = automech.from_smiles(spc_smis=[\"C1=CCCC1\"], src_mech=par_mech)\n",
    "# #  - add OH addition to *ene*\n",
    "# mech = automech.enumerate_reactions(\n",
    "#     mech,\n",
    "#     enum.ReactionSmarts.pi2_addition,\n",
    "#     rcts_=[None, \"[OH]\"],\n",
    "#     spc_col_=Species.smiles,\n",
    "#     src_mech=par_mech,\n",
    "# )\n",
    "# automech.display(mech)"
   ]
  },
  {
   "cell_type": "code",
   "execution_count": null,
   "metadata": {},
   "outputs": [],
   "source": [
    "# # Write\n",
    "# workflow.write(mech=mech, tag=tag, root_path=root_path, browser=browser)"
   ]
  },
  {
   "cell_type": "code",
   "execution_count": null,
   "metadata": {},
   "outputs": [],
   "source": [
    "# # Read\n",
    "# workflow.read(tag=tag, root_path=root_path)"
   ]
  },
  {
   "cell_type": "code",
   "execution_count": null,
   "metadata": {},
   "outputs": [],
   "source": [
    "# # Simulate\n",
    "# workflow.simulate(full_tag=f\"full_{tag}_calc\", root_path=root_path)\n",
    "# workflow.simulate(full_tag=f\"full_{tag}_control\", root_path=root_path)"
   ]
  },
  {
   "cell_type": "code",
   "execution_count": null,
   "metadata": {},
   "outputs": [],
   "source": [
    "import automech\n",
    "from mechdriver.subtasks import display, fs\n",
    "\n",
    "chan = \"1: 1\"\n",
    "\n",
    "# TRANSITION STATE\n",
    "#   - Read in expanded mechanism\n",
    "mech_path = util.p_.mechanism(tag, ext=\"json\", path=util.p_.data(root_path))\n",
    "mech = automech.io.read(mech_path)\n",
    "\n",
    "#   - Display the reaction\n",
    "automech.display_reactions(mech, chans=[chan])\n",
    "\n",
    "#   - Show paths\n",
    "calc_path = util.p_.calc(root_path, tag)\n",
    "for path in fs.task_paths(\"conf_hess\", chan, path=calc_path):\n",
    "    print(path)"
   ]
  },
  {
   "cell_type": "code",
   "execution_count": null,
   "metadata": {},
   "outputs": [],
   "source": [
    "#   - Display the TS mode\n",
    "display(\"conf_hess\", chan, path=calc_path)"
   ]
  },
  {
   "cell_type": "code",
   "execution_count": null,
   "metadata": {},
   "outputs": [],
   "source": [
    "# # REACTION RATE\n",
    "# #   - Read in calculated mechanism\n",
    "# cal_mech = automech.io.read(data_path / f\"{tag}_calc.json\")\n",
    "\n",
    "# #   - Read in other mechanisms for comparison\n",
    "# par_mech = automech.io.read(data_path / \"full_raw.json\")\n",
    "# tags0 = util.previous_tags(tag)\n",
    "# trues = [True] * len(tags0)\n",
    "# names0 = list(map(util.calculated_mechanism_name, tags0))\n",
    "# mechs0 = [automech.io.read(data_path / f\"{name}.json\") for name in names0]\n",
    "\n",
    "# #   - Display the reaction and calculated rate\n",
    "# automech.display_reactions(\n",
    "#     cal_mech,\n",
    "#     chans=[chan],\n",
    "#     comp_mechs=[par_mech, *mechs0],\n",
    "#     comp_labels=[\"Hill\", *tags0],\n",
    "#     comp_stereo=[False, *trues],\n",
    "# )"
   ]
  }
 ],
 "metadata": {
  "kernelspec": {
   "display_name": "proto",
   "language": "python",
   "name": "python3"
  },
  "language_info": {
   "codemirror_mode": {
    "name": "ipython",
    "version": 3
   },
   "file_extension": ".py",
   "mimetype": "text/x-python",
   "name": "python",
   "nbconvert_exporter": "python",
   "pygments_lexer": "ipython3",
   "version": "3.11.11"
  }
 },
 "nbformat": 4,
 "nbformat_minor": 2
}
