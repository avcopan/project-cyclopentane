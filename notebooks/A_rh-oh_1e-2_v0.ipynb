{
 "cells": [
  {
   "cell_type": "code",
   "execution_count": 1,
   "metadata": {},
   "outputs": [],
   "source": [
    "from pathlib import Path\n",
    "\n",
    "import util\n",
    "from util import p_, workflow\n",
    "\n",
    "import automech\n",
    "\n",
    "file = util.notebook_file() if util.is_notebook() else __file__\n",
    "tag = util.file_tag(file)\n",
    "root_path = Path(\"..\")\n",
    "par_mech = workflow.read_parent_mechanism(root_path=root_path)"
   ]
  },
  {
   "cell_type": "code",
   "execution_count": 2,
   "metadata": {},
   "outputs": [
    {
     "data": {
      "application/vnd.jupyter.widget-view+json": {
       "model_id": "200c1d02c66f4a2cae0560c84b7c0dd2",
       "version_major": 2,
       "version_minor": 0
      },
      "text/plain": [
       "  0%|          | 0/1 [00:00<?, ?it/s]"
      ]
     },
     "metadata": {},
     "output_type": "display_data"
    }
   ],
   "source": [
    "# Generate submechanism\n",
    "from automol.graph import enum\n",
    "\n",
    "from automech.species import Species\n",
    "\n",
    "mech = automech.from_smiles(spc_smis=[\"C1=CCCC1\"], src_mech=par_mech)\n",
    "#  - Additions\n",
    "mech = automech.enumerate_reactions(\n",
    "    mech,\n",
    "    enum.ReactionSmarts.pi2_addition,\n",
    "    rcts_=[None, \"[OH]\"],\n",
    "    spc_col_=Species.smiles,\n",
    "    src_mech=par_mech,\n",
    ")\n",
    "automech.display(mech)"
   ]
  },
  {
   "cell_type": "code",
   "execution_count": 3,
   "metadata": {},
   "outputs": [
    {
     "name": "stdout",
     "output_type": "stream",
     "text": [
      "\n",
      "Finalizing build for...\n",
      "reactions=shape: (1, 5)\n",
      "┌────────────────────────┬────────────────┬───────────┬────────────┬───────────────────────────────┐\n",
      "│ reactants              ┆ products       ┆ formula   ┆ reversible ┆ rate                          │\n",
      "│ ---                    ┆ ---            ┆ ---       ┆ ---        ┆ ---                           │\n",
      "│ list[str]              ┆ list[str]      ┆ struct[3] ┆ bool       ┆ struct[18]                    │\n",
      "╞════════════════════════╪════════════════╪═══════════╪════════════╪═══════════════════════════════╡\n",
      "│ [\"C5H8(522)\", \"OH(4)\"] ┆ [\"C5H9O(852)\"] ┆ {5,9,1}   ┆ true       ┆ {2,{null,null,null,null,null, │\n",
      "│                        ┆                ┆           ┆            ┆ n…                            │\n",
      "└────────────────────────┴────────────────┴───────────┴────────────┴───────────────────────────────┘ species=shape: (3, 7)\n",
      "┌────────────┬─────────────┬──────────────────┬──────┬────────┬──────────────────┬─────────────────┐\n",
      "│ name       ┆ smiles      ┆ amchi            ┆ spin ┆ charge ┆ formula          ┆ therm           │\n",
      "│ ---        ┆ ---         ┆ ---              ┆ ---  ┆ ---    ┆ ---              ┆ ---             │\n",
      "│ str        ┆ str         ┆ str              ┆ i64  ┆ i64    ┆ struct[7]        ┆ struct[8]       │\n",
      "╞════════════╪═════════════╪══════════════════╪══════╪════════╪══════════════════╪═════════════════╡\n",
      "│ C5H8(522)  ┆ C1CC=CC1    ┆ AMChI=1/C5H8/c1- ┆ 0    ┆ 0      ┆ {8,null,null,nul ┆ {298.0,5000.0,{ │\n",
      "│            ┆             ┆ 2-4-5-3-1/h1-2…  ┆      ┆        ┆ l,null,5,null}   ┆ null,null,8,nul │\n",
      "│            ┆             ┆                  ┆      ┆        ┆                  ┆ …               │\n",
      "│ OH(4)      ┆ [OH]        ┆ AMChI=1/HO/h1H   ┆ 1    ┆ 0      ┆ {1,1,null,null,n ┆ {200.0,6000.0,{ │\n",
      "│            ┆             ┆                  ┆      ┆        ┆ ull,null,null}   ┆ null,null,1,1,n │\n",
      "│            ┆             ┆                  ┆      ┆        ┆                  ┆ …               │\n",
      "│ C5H9O(852) ┆ OC1CCC[CH]1 ┆ AMChI=1/C5H9O/c6 ┆ 1    ┆ 0      ┆ {9,1,null,null,n ┆ {298.0,5000.0,{ │\n",
      "│            ┆             ┆ -5-1-2-3-4-5/h…  ┆      ┆        ┆ ull,5,null}      ┆ null,null,9,1,n │\n",
      "│            ┆             ┆                  ┆      ┆        ┆                  ┆ …               │\n",
      "└────────────┴─────────────┴──────────────────┴──────┴────────┴──────────────────┴─────────────────┘\n",
      "\n",
      "Expanding stereochemistry...\n"
     ]
    },
    {
     "data": {
      "application/vnd.jupyter.widget-view+json": {
       "model_id": "a8905eeeedcd4f69b486e5ef97ec4b4e",
       "version_major": 2,
       "version_minor": 0
      },
      "text/plain": [
       "  0%|          | 0/3 [00:00<?, ?it/s]"
      ]
     },
     "metadata": {},
     "output_type": "display_data"
    },
    {
     "data": {
      "application/vnd.jupyter.widget-view+json": {
       "model_id": "2f14b16ca5c54657b96facb4e94ff2b0",
       "version_major": 2,
       "version_minor": 0
      },
      "text/plain": [
       "  0%|          | 0/4 [00:00<?, ?it/s]"
      ]
     },
     "metadata": {},
     "output_type": "display_data"
    },
    {
     "data": {
      "application/vnd.jupyter.widget-view+json": {
       "model_id": "232c125551bb465987f0b6218a0203c2",
       "version_major": 2,
       "version_minor": 0
      },
      "text/plain": [
       "  0%|          | 0/1 [00:00<?, ?it/s]"
      ]
     },
     "metadata": {},
     "output_type": "display_data"
    },
    {
     "name": "stdout",
     "output_type": "stream",
     "text": [
      "\n",
      "Writing mechanism...\n",
      "../data/A_rh-oh_1e-2_v0_gen.json\n",
      "../data/A_rh-oh_1e-2_v0_ste.json\n",
      "../data/mechanalyzer/A_rh-oh_1e-2_v0_ste.dat\n",
      "../data/mechanalyzer/A_rh-oh_1e-2_v0_ste.csv\n"
     ]
    },
    {
     "data": {
      "application/vnd.jupyter.widget-view+json": {
       "model_id": "42586c52c38740268545784fa48da85d",
       "version_major": 2,
       "version_minor": 0
      },
      "text/plain": [
       "  0%|          | 0/4 [00:00<?, ?it/s]"
      ]
     },
     "metadata": {},
     "output_type": "display_data"
    },
    {
     "data": {
      "application/vnd.jupyter.widget-view+json": {
       "model_id": "35707b910acd441b86d10b30da96e39f",
       "version_major": 2,
       "version_minor": 0
      },
      "text/plain": [
       "  0%|          | 0/4 [00:00<?, ?it/s]"
      ]
     },
     "metadata": {},
     "output_type": "display_data"
    },
    {
     "data": {
      "application/vnd.jupyter.widget-view+json": {
       "model_id": "991284a87bc142cdadf2de412bc32176",
       "version_major": 2,
       "version_minor": 0
      },
      "text/plain": [
       "  0%|          | 0/4 [00:00<?, ?it/s]"
      ]
     },
     "metadata": {},
     "output_type": "display_data"
    },
    {
     "name": "stdout",
     "output_type": "stream",
     "text": [
      "\n",
      "Stereoexpansion errors:\n"
     ]
    }
   ],
   "source": [
    "# Prepare calculation\n",
    "workflow.prepare_calculation(mech=mech, tag=tag, root_path=root_path)"
   ]
  },
  {
   "cell_type": "code",
   "execution_count": 4,
   "metadata": {},
   "outputs": [],
   "source": [
    "# # Prepare simulation\n",
    "# workflow.prepare_simulation(tag=tag, root_path=root_path)\n",
    "# workflow.prepare_simulation_species(tag=tag, root_path=root_path)"
   ]
  },
  {
   "cell_type": "code",
   "execution_count": 5,
   "metadata": {},
   "outputs": [],
   "source": [
    "# # Check rates\n",
    "# workflow.plot_rates(tag=tag, root_path=root_path)"
   ]
  },
  {
   "cell_type": "code",
   "execution_count": 6,
   "metadata": {},
   "outputs": [],
   "source": [
    "# # Plot simulation\n",
    "# chart_dct = workflow.plot_simulation(\n",
    "#     tag=tag,\n",
    "#     x_col=\"O2_molecules\",\n",
    "#     root_path=root_path,\n",
    "#     line_source_=[\"Hill\", \"Lokachari\"],\n",
    "#     point_source=\"Experiment\",\n",
    "#     control=False,\n",
    "# )\n",
    "# mech = automech.io.read(\n",
    "#     p_.full_calculated_mechanism(tag, \"json\", path=p_.data(root_path))\n",
    "# )\n",
    "# for name, chart in chart_dct.items():\n",
    "#     automech.display_species(mech, [name])\n",
    "#     chart.show()"
   ]
  },
  {
   "cell_type": "code",
   "execution_count": 7,
   "metadata": {},
   "outputs": [],
   "source": [
    "# # Check TS\n",
    "# from mechdriver.subtasks import display\n",
    "\n",
    "# chan = \"2: 5\"\n",
    "\n",
    "# #   - Read in expanded mechanism\n",
    "# mech_path = p_.mechanism(tag, ext=\"json\", path=p_.data(root_path))\n",
    "# mech = automech.io.read(mech_path)\n",
    "\n",
    "# #   - Display the reaction\n",
    "# automech.display_reactions(mech, chans=[chan])"
   ]
  }
 ],
 "metadata": {
  "kernelspec": {
   "display_name": "proto",
   "language": "python",
   "name": "python3"
  },
  "language_info": {
   "codemirror_mode": {
    "name": "ipython",
    "version": 3
   },
   "file_extension": ".py",
   "mimetype": "text/x-python",
   "name": "python",
   "nbconvert_exporter": "python",
   "pygments_lexer": "ipython3",
   "version": "3.11.12"
  }
 },
 "nbformat": 4,
 "nbformat_minor": 2
}
