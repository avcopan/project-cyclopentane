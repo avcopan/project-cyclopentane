{
 "cells": [
  {
   "cell_type": "code",
   "execution_count": 1,
   "metadata": {},
   "outputs": [],
   "source": [
    "from pathlib import Path\n",
    "\n",
    "import util\n",
    "from util import workflow\n",
    "\n",
    "browser = True\n",
    "file = util.notebook_file() if util.is_notebook() else __file__\n",
    "tag = util.file_tag(file)\n",
    "root_path = Path(\"..\")\n",
    "data_path = util.data_path(root_path)"
   ]
  },
  {
   "cell_type": "code",
   "execution_count": 2,
   "metadata": {},
   "outputs": [
    {
     "data": {
      "application/vnd.jupyter.widget-view+json": {
       "model_id": "b346a8bd73c9483b85f7da20d504809c",
       "version_major": 2,
       "version_minor": 0
      },
      "text/plain": [
       "  0%|          | 0/2 [00:00<?, ?it/s]"
      ]
     },
     "metadata": {},
     "output_type": "display_data"
    }
   ],
   "source": [
    "# Build\n",
    "from automol.graph import enum\n",
    "\n",
    "import automech\n",
    "from automech.species import Species\n",
    "\n",
    "mech0 = automech.io.read(data_path / \"full_raw.json\")\n",
    "mech = automech.from_smiles(\n",
    "    spc_smis=[\"C12C(O2)[CH]CC1\", \"C12C(O2)C[CH]C1\"],\n",
    "    src_mech=mech0,\n",
    ")\n",
    "#  - O2 additions\n",
    "mech = automech.enumerate_reactions(\n",
    "    mech,\n",
    "    enum.ReactionSmarts.o2_addition,\n",
    "    rcts_=[None, \"[O][O]\"],\n",
    "    spc_col_=Species.smiles,\n",
    "    src_mech=mech0,\n",
    ")\n",
    "#  - HO2 elimination\n",
    "mech = automech.enumerate_reactions(\n",
    "    mech,\n",
    "    enum.ReactionSmarts.ho2_elimination,\n",
    "    spc_col_=Species.smiles,\n",
    "    src_mech=mech0,\n",
    ")\n",
    "#  - RO2 -> QOOH\n",
    "mech = automech.enumerate_reactions(\n",
    "    mech,\n",
    "    enum.ReactionSmarts.qooh_formation,\n",
    "    spc_col_=Species.smiles,\n",
    "    src_mech=mech0,\n",
    ")\n",
    "#  - QOOH beta scission to produce HO2\n",
    "mech = automech.enumerate_reactions(\n",
    "    mech,\n",
    "    enum.ReactionSmarts.qooh_beta_scission,\n",
    "    spc_col_=Species.smiles,\n",
    "    src_mech=mech0,\n",
    ")\n",
    "#  - QOOH ring-forming scission to produce OH\n",
    "mech = automech.enumerate_reactions(\n",
    "    mech,\n",
    "    enum.ReactionSmarts.qooh_ring_forming_scission,\n",
    "    spc_col_=Species.smiles,\n",
    "    src_mech=mech0,\n",
    ")"
   ]
  },
  {
   "cell_type": "code",
   "execution_count": 3,
   "metadata": {},
   "outputs": [
    {
     "name": "stdout",
     "output_type": "stream",
     "text": [
      "\n",
      "Finalizing build for...\n",
      "reactions=shape: (20, 5)\n",
      "┌─────────────┬─────────────────────────┬───────────┬────────────┬─────────────────────────────────┐\n",
      "│ reactants   ┆ products                ┆ formula   ┆ reversible ┆ rate_constant                   │\n",
      "│ ---         ┆ ---                     ┆ ---       ┆ ---        ┆ ---                             │\n",
      "│ list[str]   ┆ list[str]               ┆ struct[3] ┆ bool       ┆ struct[17]                      │\n",
      "╞═════════════╪═════════════════════════╪═══════════╪════════════╪═════════════════════════════════╡\n",
      "│ [\"S(1704)\"] ┆ [\"S(1690)\"]             ┆ {5,7,3}   ┆ true       ┆ {1,{null,null,null,null,null,n… │\n",
      "│ [\"S(1690)\"] ┆ [\"C5O3ddrkjl\"]          ┆ {5,7,3}   ┆ null       ┆ null                            │\n",
      "│ [\"S(1690)\"] ┆ [\"S(1703)\"]             ┆ {5,7,3}   ┆ true       ┆ {1,{null,null,null,null,null,n… │\n",
      "│ [\"S(1690)\"] ┆ [\"S(1702)\"]             ┆ {5,7,3}   ┆ true       ┆ {1,{null,null,null,null,null,n… │\n",
      "│ [\"S(1700)\"] ┆ [\"S(1691)\"]             ┆ {5,7,3}   ┆ true       ┆ {1,{null,null,null,null,null,n… │\n",
      "│ …           ┆ …                       ┆ …         ┆ …          ┆ …                               │\n",
      "│ [\"S(1704)\"] ┆ [\"C5O2fbukqo\", \"OH(4)\"] ┆ {5,7,3}   ┆ null       ┆ null                            │\n",
      "│ [\"S(1701)\"] ┆ [\"OH(4)\", \"S(1775)\"]    ┆ {5,7,3}   ┆ true       ┆ {1,{null,null,null,null,null,n… │\n",
      "│ [\"S(1702)\"] ┆ [\"C5O2ldljht\", \"OH(4)\"] ┆ {5,7,3}   ┆ null       ┆ null                            │\n",
      "│ [\"S(1700)\"] ┆ [\"OH(4)\", \"S(2078)\"]    ┆ {5,7,3}   ┆ true       ┆ {1,{null,null,null,null,null,n… │\n",
      "│ [\"S(1703)\"] ┆ [\"C5O2iolscz\", \"OH(4)\"] ┆ {5,7,3}   ┆ null       ┆ null                            │\n",
      "└─────────────┴─────────────────────────┴───────────┴────────────┴─────────────────────────────────┘ species=shape: (20, 7)\n",
      "┌────────────┬─────────────────┬─────────────────┬──────┬────────┬────────────────┬────────────────┐\n",
      "│ name       ┆ smiles          ┆ amchi           ┆ spin ┆ charge ┆ formula        ┆ thermo_string  │\n",
      "│ ---        ┆ ---             ┆ ---             ┆ ---  ┆ ---    ┆ ---            ┆ ---            │\n",
      "│ str        ┆ str             ┆ str             ┆ i64  ┆ i64    ┆ struct[7]      ┆ str            │\n",
      "╞════════════╪═════════════════╪═════════════════╪══════╪════════╪════════════════╪════════════════╡\n",
      "│ C5H7O(758) ┆ O1C2C1[CH]CC2   ┆ AMChI=1/C5H7O/c ┆ 1    ┆ 0      ┆ {7,1,null,null ┆ C   5H   7O    │\n",
      "│            ┆                 ┆ 1-2-3-5-4(1)6-5 ┆      ┆        ┆ ,null,5,null}  ┆ 1     G        │\n",
      "│            ┆                 ┆ …               ┆      ┆        ┆                ┆ 298.00…        │\n",
      "│ O2(6)      ┆ O=O             ┆ AMChI=1/O2/c1-2 ┆ 2    ┆ 0      ┆ {null,2,null,n ┆ O   2          │\n",
      "│            ┆                 ┆                 ┆      ┆        ┆ ull,null,null, ┆ G   200.00…    │\n",
      "│            ┆                 ┆                 ┆      ┆        ┆ nu…            ┆                │\n",
      "│ S(1690)    ┆ [O]OC1C2OC2CC1  ┆ AMChI=1/C5H7O3/ ┆ 1    ┆ 0      ┆ {7,3,null,null ┆ C   5H   7O    │\n",
      "│            ┆                 ┆ c6-8-4-2-1-3-5( ┆      ┆        ┆ ,null,5,null}  ┆ 3     G        │\n",
      "│            ┆                 ┆ …               ┆      ┆        ┆                ┆ 100.00…        │\n",
      "│ S(1289)    ┆ O1C2C1C[CH]C2   ┆ AMChI=1/C5H7O/c ┆ 1    ┆ 0      ┆ {7,1,null,null ┆ C   5H   7O    │\n",
      "│            ┆                 ┆ 1-2-4-5(6-4)3-1 ┆      ┆        ┆ ,null,5,null}  ┆ 1     G        │\n",
      "│            ┆                 ┆ …               ┆      ┆        ┆                ┆ 100.00…        │\n",
      "│ S(1691)    ┆ [O]OC1CC2OC2C1  ┆ AMChI=1/C5H7O3/ ┆ 1    ┆ 0      ┆ {7,3,null,null ┆ C   5H   7O    │\n",
      "│            ┆                 ┆ c6-8-3-1-4-5(7- ┆      ┆        ┆ ,null,5,null}  ┆ 3     G        │\n",
      "│            ┆                 ┆ …               ┆      ┆        ┆                ┆ 100.00…        │\n",
      "│ …          ┆ …               ┆ …               ┆ …    ┆ …      ┆ …              ┆ …              │\n",
      "│ C5O2fbukqo ┆ C1C2C3C(C1O2)O3 ┆ AMChI=1/C5H6O2/ ┆ 0    ┆ 0      ┆ {6,2,null,null ┆ null           │\n",
      "│            ┆                 ┆ c1-2-4-5(7-4)3( ┆      ┆        ┆ ,null,5,null}  ┆                │\n",
      "│            ┆                 ┆ …               ┆      ┆        ┆                ┆                │\n",
      "│ S(2078)    ┆ O1C2C3OC3CC12   ┆ AMChI=1/C5H6O2/ ┆ 0    ┆ 0      ┆ {6,2,null,null ┆ C   5H   6O    │\n",
      "│            ┆                 ┆ c1-2-4(6-2)5-3( ┆      ┆        ┆ ,null,5,null}  ┆ 2     G        │\n",
      "│            ┆                 ┆ …               ┆      ┆        ┆                ┆ 100.00…        │\n",
      "│ OH(4)      ┆ [OH]            ┆ AMChI=1/HO/h1H  ┆ 1    ┆ 0      ┆ {1,1,null,null ┆ H   1O   1     │\n",
      "│            ┆                 ┆                 ┆      ┆        ┆ ,null,null,nul ┆ G   200.00…    │\n",
      "│            ┆                 ┆                 ┆      ┆        ┆ l}             ┆                │\n",
      "│ C5O2iolscz ┆ C1CC23C(C1O2)O3 ┆ AMChI=1/C5H6O2/ ┆ 0    ┆ 0      ┆ {6,2,null,null ┆ null           │\n",
      "│            ┆                 ┆ c1-2-5-4(7-5)3( ┆      ┆        ┆ ,null,5,null}  ┆                │\n",
      "│            ┆                 ┆ …               ┆      ┆        ┆                ┆                │\n",
      "│ S(1775)    ┆ O1C23OC(C3)CC21 ┆ AMChI=1/C5H6O2/ ┆ 0    ┆ 0      ┆ {6,2,null,null ┆ C   5H   6O    │\n",
      "│            ┆                 ┆ c1-3-2-5(6-3)4( ┆      ┆        ┆ ,null,5,null}  ┆ 2     G        │\n",
      "│            ┆                 ┆ …               ┆      ┆        ┆                ┆ 100.00…        │\n",
      "└────────────┴─────────────────┴─────────────────┴──────┴────────┴────────────────┴────────────────┘ thermo_temps=None\n",
      "\n",
      "Expanding stereochemistry...\n"
     ]
    },
    {
     "data": {
      "application/vnd.jupyter.widget-view+json": {
       "model_id": "a71d107d2942452caf09019708d2013b",
       "version_major": 2,
       "version_minor": 0
      },
      "text/plain": [
       "  0%|          | 0/20 [00:00<?, ?it/s]"
      ]
     },
     "metadata": {},
     "output_type": "display_data"
    },
    {
     "data": {
      "application/vnd.jupyter.widget-view+json": {
       "model_id": "635677a5ee2749cabf070c0bf5ea6091",
       "version_major": 2,
       "version_minor": 0
      },
      "text/plain": [
       "  0%|          | 0/51 [00:00<?, ?it/s]"
      ]
     },
     "metadata": {},
     "output_type": "display_data"
    },
    {
     "data": {
      "application/vnd.jupyter.widget-view+json": {
       "model_id": "829d82a528c84c1db01099b363825023",
       "version_major": 2,
       "version_minor": 0
      },
      "text/plain": [
       "  0%|          | 0/20 [00:00<?, ?it/s]"
      ]
     },
     "metadata": {},
     "output_type": "display_data"
    },
    {
     "ename": "InvalidOperationError",
     "evalue": "`old` input for `replace` must not contain duplicates",
     "output_type": "error",
     "traceback": [
      "\u001b[0;31m---------------------------------------------------------------------------\u001b[0m",
      "\u001b[0;31mInvalidOperationError\u001b[0m                     Traceback (most recent call last)",
      "Cell \u001b[0;32mIn[3], line 2\u001b[0m\n\u001b[1;32m      1\u001b[0m \u001b[38;5;66;03m# Write\u001b[39;00m\n\u001b[0;32m----> 2\u001b[0m \u001b[43mworkflow\u001b[49m\u001b[38;5;241;43m.\u001b[39;49m\u001b[43mwrite\u001b[49m\u001b[43m(\u001b[49m\u001b[43mmech\u001b[49m\u001b[38;5;241;43m=\u001b[39;49m\u001b[43mmech\u001b[49m\u001b[43m,\u001b[49m\u001b[43m \u001b[49m\u001b[43mtag\u001b[49m\u001b[38;5;241;43m=\u001b[39;49m\u001b[43mtag\u001b[49m\u001b[43m,\u001b[49m\u001b[43m \u001b[49m\u001b[43mroot_path\u001b[49m\u001b[38;5;241;43m=\u001b[39;49m\u001b[43mroot_path\u001b[49m\u001b[43m,\u001b[49m\u001b[43m \u001b[49m\u001b[43mbrowser\u001b[49m\u001b[38;5;241;43m=\u001b[39;49m\u001b[43mbrowser\u001b[49m\u001b[43m)\u001b[49m\n",
      "File \u001b[0;32m~/code/amech-dev/work/project-cyclopentane/notebooks/util/workflow.py:49\u001b[0m, in \u001b[0;36mwrite\u001b[0;34m(mech, tag, root_path, browser)\u001b[0m\n\u001b[1;32m     47\u001b[0m \u001b[38;5;28mprint\u001b[39m(\u001b[38;5;124m\"\u001b[39m\u001b[38;5;130;01m\\n\u001b[39;00m\u001b[38;5;124mExpanding stereochemistry...\u001b[39m\u001b[38;5;124m\"\u001b[39m)\n\u001b[1;32m     48\u001b[0m mech, err_mech \u001b[38;5;241m=\u001b[39m automech\u001b[38;5;241m.\u001b[39mexpand_stereo(mech, distinct_ts\u001b[38;5;241m=\u001b[39m\u001b[38;5;28;01mFalse\u001b[39;00m)\n\u001b[0;32m---> 49\u001b[0m mech \u001b[38;5;241m=\u001b[39m \u001b[43mautomech\u001b[49m\u001b[38;5;241;43m.\u001b[39;49m\u001b[43mwith_sort_data\u001b[49m\u001b[43m(\u001b[49m\u001b[43mmech\u001b[49m\u001b[43m)\u001b[49m\n\u001b[1;32m     51\u001b[0m \u001b[38;5;66;03m# Write\u001b[39;00m\n\u001b[1;32m     52\u001b[0m \u001b[38;5;28mprint\u001b[39m(\u001b[38;5;124m\"\u001b[39m\u001b[38;5;130;01m\\n\u001b[39;00m\u001b[38;5;124mWriting mechanism...\u001b[39m\u001b[38;5;124m\"\u001b[39m)\n",
      "File \u001b[0;32m~/code/amech-dev/src/automech/_mech.py:890\u001b[0m, in \u001b[0;36mwith_sort_data\u001b[0;34m(mech)\u001b[0m\n\u001b[1;32m    887\u001b[0m mech\u001b[38;5;241m.\u001b[39mreactions \u001b[38;5;241m=\u001b[39m df_\u001b[38;5;241m.\u001b[39mwith_index(mech\u001b[38;5;241m.\u001b[39mreactions, idx_col)\n\u001b[1;32m    889\u001b[0m \u001b[38;5;66;03m# Generate sort data from network\u001b[39;00m\n\u001b[0;32m--> 890\u001b[0m srt_dct \u001b[38;5;241m=\u001b[39m net_\u001b[38;5;241m.\u001b[39msort_data(\u001b[43mnetwork\u001b[49m\u001b[43m(\u001b[49m\u001b[43mmech\u001b[49m\u001b[43m)\u001b[49m, idx_col)\n\u001b[1;32m    891\u001b[0m srt_data \u001b[38;5;241m=\u001b[39m [\n\u001b[1;32m    892\u001b[0m     {\n\u001b[1;32m    893\u001b[0m         idx_col: i,\n\u001b[0;32m   (...)\u001b[0m\n\u001b[1;32m    898\u001b[0m     \u001b[38;5;28;01mfor\u001b[39;00m i, (p, s, c) \u001b[38;5;129;01min\u001b[39;00m srt_dct\u001b[38;5;241m.\u001b[39mitems()\n\u001b[1;32m    899\u001b[0m ]\n\u001b[1;32m    900\u001b[0m srt_schema \u001b[38;5;241m=\u001b[39m {idx_col: polars\u001b[38;5;241m.\u001b[39mUInt32, \u001b[38;5;241m*\u001b[39m\u001b[38;5;241m*\u001b[39mpandera_\u001b[38;5;241m.\u001b[39mschema(ReactionSorted)}\n",
      "File \u001b[0;32m~/code/amech-dev/src/automech/_mech.py:249\u001b[0m, in \u001b[0;36mnetwork\u001b[0;34m(mech)\u001b[0m\n\u001b[1;32m    247\u001b[0m datas \u001b[38;5;241m=\u001b[39m spc_df\u001b[38;5;241m.\u001b[39mto_struct()\n\u001b[1;32m    248\u001b[0m expr \u001b[38;5;241m=\u001b[39m polars\u001b[38;5;241m.\u001b[39melement()\u001b[38;5;241m.\u001b[39mreplace_strict(names, datas)\n\u001b[0;32m--> 249\u001b[0m rgt_df \u001b[38;5;241m=\u001b[39m \u001b[43mrgt_df\u001b[49m\u001b[38;5;241;43m.\u001b[39;49m\u001b[43mwith_columns\u001b[49m\u001b[43m(\u001b[49m\n\u001b[1;32m    250\u001b[0m \u001b[43m    \u001b[49m\u001b[43mpolars\u001b[49m\u001b[38;5;241;43m.\u001b[39;49m\u001b[43mcol\u001b[49m\u001b[43m(\u001b[49m\u001b[43mrgt_col\u001b[49m\u001b[43m)\u001b[49m\u001b[38;5;241;43m.\u001b[39;49m\u001b[43mlist\u001b[49m\u001b[38;5;241;43m.\u001b[39;49m\u001b[43meval\u001b[49m\u001b[43m(\u001b[49m\u001b[43mexpr\u001b[49m\u001b[43m)\u001b[49m\u001b[38;5;241;43m.\u001b[39;49m\u001b[43malias\u001b[49m\u001b[43m(\u001b[49m\u001b[43mnet_\u001b[49m\u001b[38;5;241;43m.\u001b[39;49m\u001b[43mKey\u001b[49m\u001b[38;5;241;43m.\u001b[39;49m\u001b[43mspecies\u001b[49m\u001b[43m)\u001b[49m\n\u001b[1;32m    251\u001b[0m \u001b[43m\u001b[49m\u001b[43m)\u001b[49m\n\u001b[1;32m    253\u001b[0m \u001b[38;5;66;03m# Build network object\u001b[39;00m\n\u001b[1;32m    254\u001b[0m \u001b[38;5;28;01mdef\u001b[39;00m\u001b[38;5;250m \u001b[39m\u001b[38;5;21m_node_data_from_dict\u001b[39m(dct: \u001b[38;5;28mdict\u001b[39m[\u001b[38;5;28mstr\u001b[39m, \u001b[38;5;28mobject\u001b[39m]):\n",
      "File \u001b[0;32m~/code/amech-dev/.pixi/envs/proto/lib/python3.11/site-packages/polars/dataframe/frame.py:9589\u001b[0m, in \u001b[0;36mDataFrame.with_columns\u001b[0;34m(self, *exprs, **named_exprs)\u001b[0m\n\u001b[1;32m   9443\u001b[0m \u001b[38;5;28;01mdef\u001b[39;00m\u001b[38;5;250m \u001b[39m\u001b[38;5;21mwith_columns\u001b[39m(\n\u001b[1;32m   9444\u001b[0m     \u001b[38;5;28mself\u001b[39m,\n\u001b[1;32m   9445\u001b[0m     \u001b[38;5;241m*\u001b[39mexprs: IntoExpr \u001b[38;5;241m|\u001b[39m Iterable[IntoExpr],\n\u001b[1;32m   9446\u001b[0m     \u001b[38;5;241m*\u001b[39m\u001b[38;5;241m*\u001b[39mnamed_exprs: IntoExpr,\n\u001b[1;32m   9447\u001b[0m ) \u001b[38;5;241m-\u001b[39m\u001b[38;5;241m>\u001b[39m DataFrame:\n\u001b[1;32m   9448\u001b[0m \u001b[38;5;250m    \u001b[39m\u001b[38;5;124;03m\"\"\"\u001b[39;00m\n\u001b[1;32m   9449\u001b[0m \u001b[38;5;124;03m    Add columns to this DataFrame.\u001b[39;00m\n\u001b[1;32m   9450\u001b[0m \n\u001b[0;32m   (...)\u001b[0m\n\u001b[1;32m   9587\u001b[0m \u001b[38;5;124;03m    └─────┴──────┴─────────────┘\u001b[39;00m\n\u001b[1;32m   9588\u001b[0m \u001b[38;5;124;03m    \"\"\"\u001b[39;00m\n\u001b[0;32m-> 9589\u001b[0m     \u001b[38;5;28;01mreturn\u001b[39;00m \u001b[38;5;28;43mself\u001b[39;49m\u001b[38;5;241;43m.\u001b[39;49m\u001b[43mlazy\u001b[49m\u001b[43m(\u001b[49m\u001b[43m)\u001b[49m\u001b[38;5;241;43m.\u001b[39;49m\u001b[43mwith_columns\u001b[49m\u001b[43m(\u001b[49m\u001b[38;5;241;43m*\u001b[39;49m\u001b[43mexprs\u001b[49m\u001b[43m,\u001b[49m\u001b[43m \u001b[49m\u001b[38;5;241;43m*\u001b[39;49m\u001b[38;5;241;43m*\u001b[39;49m\u001b[43mnamed_exprs\u001b[49m\u001b[43m)\u001b[49m\u001b[38;5;241;43m.\u001b[39;49m\u001b[43mcollect\u001b[49m\u001b[43m(\u001b[49m\u001b[43m_eager\u001b[49m\u001b[38;5;241;43m=\u001b[39;49m\u001b[38;5;28;43;01mTrue\u001b[39;49;00m\u001b[43m)\u001b[49m\n",
      "File \u001b[0;32m~/code/amech-dev/.pixi/envs/proto/lib/python3.11/site-packages/polars/lazyframe/frame.py:2066\u001b[0m, in \u001b[0;36mLazyFrame.collect\u001b[0;34m(self, type_coercion, _type_check, predicate_pushdown, projection_pushdown, simplify_expression, slice_pushdown, comm_subplan_elim, comm_subexpr_elim, cluster_with_columns, collapse_joins, no_optimization, streaming, engine, background, _check_order, _eager, **_kwargs)\u001b[0m\n\u001b[1;32m   2064\u001b[0m \u001b[38;5;66;03m# Only for testing purposes\u001b[39;00m\n\u001b[1;32m   2065\u001b[0m callback \u001b[38;5;241m=\u001b[39m _kwargs\u001b[38;5;241m.\u001b[39mget(\u001b[38;5;124m\"\u001b[39m\u001b[38;5;124mpost_opt_callback\u001b[39m\u001b[38;5;124m\"\u001b[39m, callback)\n\u001b[0;32m-> 2066\u001b[0m \u001b[38;5;28;01mreturn\u001b[39;00m wrap_df(\u001b[43mldf\u001b[49m\u001b[38;5;241;43m.\u001b[39;49m\u001b[43mcollect\u001b[49m\u001b[43m(\u001b[49m\u001b[43mcallback\u001b[49m\u001b[43m)\u001b[49m)\n",
      "\u001b[0;31mInvalidOperationError\u001b[0m: `old` input for `replace` must not contain duplicates"
     ]
    }
   ],
   "source": [
    "# Write\n",
    "workflow.write(mech=mech, tag=tag, root_path=root_path, browser=browser)"
   ]
  },
  {
   "cell_type": "code",
   "execution_count": null,
   "metadata": {},
   "outputs": [],
   "source": [
    "# # Read\n",
    "# workflow.read(tag=tag, root_path=root_path)"
   ]
  },
  {
   "cell_type": "code",
   "execution_count": null,
   "metadata": {},
   "outputs": [],
   "source": [
    "# # Simulate\n",
    "# workflow.simulate(full_tag=f\"full_{tag}_calc\", root_path=root_path)\n",
    "# workflow.simulate(full_tag=f\"full_{tag}_control\", root_path=root_path)"
   ]
  },
  {
   "cell_type": "code",
   "execution_count": null,
   "metadata": {},
   "outputs": [],
   "source": [
    "# # Plot\n",
    "# charts = workflow.plot(\n",
    "#     full_tag=f\"full_{tag}_calc\",\n",
    "#     x_col=\"O2_molecules\",\n",
    "#     y_col_=[\"C5H8(522)\", \"C5H8O(825)rs\"],\n",
    "#     root_path=root_path,\n",
    "#     line_source_=[\"hill\", \"lokachari\"],\n",
    "#     point_source=\"experiment\",\n",
    "# )\n",
    "# for chart in charts:\n",
    "#     chart.show()"
   ]
  }
 ],
 "metadata": {
  "kernelspec": {
   "display_name": "proto",
   "language": "python",
   "name": "python3"
  },
  "language_info": {
   "codemirror_mode": {
    "name": "ipython",
    "version": 3
   },
   "file_extension": ".py",
   "mimetype": "text/x-python",
   "name": "python",
   "nbconvert_exporter": "python",
   "pygments_lexer": "ipython3",
   "version": "3.11.11"
  }
 },
 "nbformat": 4,
 "nbformat_minor": 2
}
