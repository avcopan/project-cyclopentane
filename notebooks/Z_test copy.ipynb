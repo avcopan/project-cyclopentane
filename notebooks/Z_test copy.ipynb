{
 "cells": [
  {
   "cell_type": "code",
   "execution_count": 1,
   "id": "8f2d1faf",
   "metadata": {},
   "outputs": [],
   "source": [
    "import automol\n",
    "from automol.graph import enum"
   ]
  },
  {
   "cell_type": "code",
   "execution_count": 2,
   "id": "ca171274",
   "metadata": {},
   "outputs": [
    {
     "data": {
      "image/svg+xml": [
       "<svg xmlns=\"http://www.w3.org/2000/svg\" xmlns:rdkit=\"http://www.rdkit.org/xml\" xmlns:xlink=\"http://www.w3.org/1999/xlink\" version=\"1.1\" baseProfile=\"full\" xml:space=\"preserve\" width=\"200px\" height=\"200px\" viewBox=\"0 0 200 200\">\n",
       "<!-- END OF HEADER -->\n",
       "<rect style=\"opacity:1.0;fill:#FFFFFF;stroke:none\" width=\"200.0\" height=\"200.0\" x=\"0.0\" y=\"0.0\"> </rect>\n",
       "<path class=\"bond-0 atom-0 atom-1\" d=\"M 10.0,108.0 L 37.9,91.9\" style=\"fill:none;fill-rule:evenodd;stroke:#000000;stroke-width:2.0px;stroke-linecap:butt;stroke-linejoin:miter;stroke-opacity:1\"/>\n",
       "<path class=\"bond-0 atom-0 atom-1\" d=\"M 12.4,112.2 L 37.9,97.5\" style=\"fill:none;fill-rule:evenodd;stroke:#000000;stroke-width:2.0px;stroke-linecap:butt;stroke-linejoin:miter;stroke-opacity:1\"/>\n",
       "<path class=\"bond-1 atom-1 atom-2\" d=\"M 37.9,91.9 L 65.8,108.0\" style=\"fill:none;fill-rule:evenodd;stroke:#000000;stroke-width:2.0px;stroke-linecap:butt;stroke-linejoin:miter;stroke-opacity:1\"/>\n",
       "<path class=\"bond-2 atom-2 atom-3\" d=\"M 65.8,108.0 L 93.6,91.9\" style=\"fill:none;fill-rule:evenodd;stroke:#000000;stroke-width:2.0px;stroke-linecap:butt;stroke-linejoin:miter;stroke-opacity:1\"/>\n",
       "<path class=\"bond-3 atom-3 atom-4\" d=\"M 93.6,91.9 L 121.5,108.0\" style=\"fill:none;fill-rule:evenodd;stroke:#000000;stroke-width:2.0px;stroke-linecap:butt;stroke-linejoin:miter;stroke-opacity:1\"/>\n",
       "<path class=\"bond-3 atom-3 atom-4\" d=\"M 93.6,97.5 L 119.1,112.2\" style=\"fill:none;fill-rule:evenodd;stroke:#000000;stroke-width:2.0px;stroke-linecap:butt;stroke-linejoin:miter;stroke-opacity:1\"/>\n",
       "<path class=\"bond-4 atom-4 atom-6\" d=\"M 121.5,108.0 L 132.8,101.4\" style=\"fill:none;fill-rule:evenodd;stroke:#000000;stroke-width:2.0px;stroke-linecap:butt;stroke-linejoin:miter;stroke-opacity:1\"/>\n",
       "<path class=\"bond-4 atom-4 atom-6\" d=\"M 132.8,101.4 L 144.1,94.9\" style=\"fill:none;fill-rule:evenodd;stroke:#FF0000;stroke-width:2.0px;stroke-linecap:butt;stroke-linejoin:miter;stroke-opacity:1\"/>\n",
       "<path class=\"bond-5 atom-5 atom-6\" d=\"M 172.0,104.9 L 154.6,94.9\" style=\"fill:none;fill-rule:evenodd;stroke:#FF0000;stroke-width:2.0px;stroke-linecap:butt;stroke-linejoin:miter;stroke-opacity:1\"/>\n",
       "<path d=\"M 36.5,92.7 L 37.9,91.9 L 39.3,92.7\" style=\"fill:none;stroke:#000000;stroke-width:2.0px;stroke-linecap:butt;stroke-linejoin:miter;stroke-miterlimit:10;stroke-opacity:1;\"/>\n",
       "<path d=\"M 64.4,107.2 L 65.8,108.0 L 67.1,107.2\" style=\"fill:none;stroke:#000000;stroke-width:2.0px;stroke-linecap:butt;stroke-linejoin:miter;stroke-miterlimit:10;stroke-opacity:1;\"/>\n",
       "<path d=\"M 92.2,92.7 L 93.6,91.9 L 95.0,92.7\" style=\"fill:none;stroke:#000000;stroke-width:2.0px;stroke-linecap:butt;stroke-linejoin:miter;stroke-miterlimit:10;stroke-opacity:1;\"/>\n",
       "<path d=\"M 120.1,107.2 L 121.5,108.0 L 122.1,107.6\" style=\"fill:none;stroke:#000000;stroke-width:2.0px;stroke-linecap:butt;stroke-linejoin:miter;stroke-miterlimit:10;stroke-opacity:1;\"/>\n",
       "<path class=\"atom-5\" d=\"M 173.1 108.0 Q 173.1 105.8, 174.2 104.6 Q 175.2 103.4, 177.3 103.4 Q 179.3 103.4, 180.4 104.6 Q 181.4 105.8, 181.4 108.0 Q 181.4 110.2, 180.4 111.5 Q 179.3 112.7, 177.3 112.7 Q 175.3 112.7, 174.2 111.5 Q 173.1 110.2, 173.1 108.0 M 177.3 111.7 Q 178.7 111.7, 179.4 110.8 Q 180.2 109.8, 180.2 108.0 Q 180.2 106.2, 179.4 105.3 Q 178.7 104.4, 177.3 104.4 Q 175.9 104.4, 175.1 105.3 Q 174.4 106.2, 174.4 108.0 Q 174.4 109.8, 175.1 110.8 Q 175.9 111.7, 177.3 111.7 \" fill=\"#FF0000\"/>\n",
       "<path class=\"atom-5\" d=\"M 182.9 103.5 L 184.1 103.5 L 184.1 107.3 L 188.8 107.3 L 188.8 103.5 L 190.0 103.5 L 190.0 112.6 L 188.8 112.6 L 188.8 108.4 L 184.1 108.4 L 184.1 112.6 L 182.9 112.6 L 182.9 103.5 \" fill=\"#FF0000\"/>\n",
       "<path class=\"atom-6\" d=\"M 145.2 91.9 Q 145.2 89.7, 146.3 88.5 Q 147.4 87.3, 149.4 87.3 Q 151.4 87.3, 152.5 88.5 Q 153.6 89.7, 153.6 91.9 Q 153.6 94.1, 152.5 95.4 Q 151.4 96.6, 149.4 96.6 Q 147.4 96.6, 146.3 95.4 Q 145.2 94.1, 145.2 91.9 M 149.4 95.6 Q 150.8 95.6, 151.5 94.7 Q 152.3 93.7, 152.3 91.9 Q 152.3 90.1, 151.5 89.2 Q 150.8 88.3, 149.4 88.3 Q 148.0 88.3, 147.2 89.2 Q 146.5 90.1, 146.5 91.9 Q 146.5 93.7, 147.2 94.7 Q 148.0 95.6, 149.4 95.6 \" fill=\"#FF0000\"/>\n",
       "<path class=\"atom-2\" d=\"M 66.4,110.9 L 66.4,110.9 L 66.4,111.0 L 66.4,111.0 L 66.4,111.1 L 66.3,111.1 L 66.3,111.2 L 66.3,111.2 L 66.3,111.3 L 66.2,111.3 L 66.2,111.4 L 66.1,111.4 L 66.1,111.4 L 66.0,111.5 L 66.0,111.5 L 65.9,111.5 L 65.9,111.5 L 65.8,111.5 L 65.8,111.5 L 65.7,111.5 L 65.7,111.5 L 65.6,111.5 L 65.6,111.5 L 65.5,111.5 L 65.4,111.4 L 65.4,111.4 L 65.4,111.4 L 65.3,111.3 L 65.3,111.3 L 65.2,111.3 L 65.2,111.2 L 65.2,111.2 L 65.2,111.1 L 65.1,111.1 L 65.1,111.0 L 65.1,111.0 L 65.1,110.9 L 65.1,110.8 L 65.1,110.8 L 65.1,110.7 L 65.1,110.7 L 65.2,110.6 L 65.2,110.6 L 65.2,110.5 L 65.2,110.5 L 65.3,110.4 L 65.3,110.4 L 65.4,110.4 L 65.4,110.3 L 65.4,110.3 L 65.5,110.3 L 65.6,110.3 L 65.6,110.2 L 65.7,110.2 L 65.7,110.2 L 65.8,110.2 L 65.8,110.2 L 65.9,110.2 L 65.9,110.3 L 66.0,110.3 L 66.0,110.3 L 66.1,110.3 L 66.1,110.4 L 66.2,110.4 L 66.2,110.4 L 66.3,110.5 L 66.3,110.5 L 66.3,110.6 L 66.3,110.6 L 66.4,110.7 L 66.4,110.7 L 66.4,110.8 L 66.4,110.8 L 66.4,110.9 L 65.8,110.9 Z\" style=\"fill:#000000;fill-rule:evenodd;fill-opacity:1;stroke:#000000;stroke-width:0.0px;stroke-linecap:butt;stroke-linejoin:miter;stroke-miterlimit:10;stroke-opacity:1;\"/>\n",
       "</svg>"
      ],
      "text/plain": [
       "<IPython.core.display.SVG object>"
      ]
     },
     "metadata": {},
     "output_type": "display_data"
    },
    {
     "data": {
      "text/plain": [
       "True"
      ]
     },
     "execution_count": 2,
     "metadata": {},
     "output_type": "execute_result"
    }
   ],
   "source": [
    "from rdkit import Chem\n",
    "\n",
    "chi = \"AMChI=1/C5H7O2/c1-2-3-4-5-7-6/h2-6H,1H2\"\n",
    "gra = automol.amchi.graph(chi)\n",
    "automol.graph.display(gra)\n",
    "\n",
    "enum.has_group_match(enum.GroupSmarts.qooh_instability, gra)\n",
    "# kgrs = automol.graph.kekules(gra)\n",
    "# for kgr in kgrs:\n",
    "#     enum.matches_from_kekule(enum.GroupSmarts.resonant_qooh_instability, kgr)\n",
    "\n",
    "# automol.graph.display(gra, label=True, exp=True)\n",
    "\n",
    "# group = Chem.MolFromSmarts(enum.GroupSmarts.resonant_qooh_instability)\n",
    "\n",
    "# rdm = automol.graph.rdkit_molecule(gra)\n",
    "# for res in Chem.rdchem.ResonanceMolSupplier(rdm):\n",
    "#     display(res)\n",
    "#     matches = res.GetSubstructMatches(group)\n",
    "#     print(matches)"
   ]
  },
  {
   "cell_type": "code",
   "execution_count": null,
   "id": "c1aded0d",
   "metadata": {},
   "outputs": [],
   "source": []
  }
 ],
 "metadata": {
  "kernelspec": {
   "display_name": "all",
   "language": "python",
   "name": "python3"
  },
  "language_info": {
   "codemirror_mode": {
    "name": "ipython",
    "version": 3
   },
   "file_extension": ".py",
   "mimetype": "text/x-python",
   "name": "python",
   "nbconvert_exporter": "python",
   "pygments_lexer": "ipython3",
   "version": "3.12.11"
  }
 },
 "nbformat": 4,
 "nbformat_minor": 5
}
