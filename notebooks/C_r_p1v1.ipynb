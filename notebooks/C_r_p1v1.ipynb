{
 "cells": [
  {
   "cell_type": "code",
   "execution_count": 1,
   "metadata": {},
   "outputs": [],
   "source": [
    "from pathlib import Path\n",
    "\n",
    "import util\n",
    "from util import workflow\n",
    "\n",
    "browser = False\n",
    "file = util.notebook_file() if util.is_notebook() else __file__\n",
    "tag = util.file_tag(file)\n",
    "root_path = Path(\"..\")"
   ]
  },
  {
   "cell_type": "code",
   "execution_count": 2,
   "metadata": {},
   "outputs": [
    {
     "data": {
      "application/vnd.jupyter.widget-view+json": {
       "model_id": "371ef0cbab1f4a559a08529a94345396",
       "version_major": 2,
       "version_minor": 0
      },
      "text/plain": [
       "  0%|          | 0/4 [00:00<?, ?it/s]"
      ]
     },
     "metadata": {},
     "output_type": "display_data"
    }
   ],
   "source": [
    "# Build\n",
    "from automol.graph import enum\n",
    "\n",
    "import automech\n",
    "\n",
    "par_mech = workflow.read_parent_mechanism(root_path=root_path)\n",
    "mech = automech.from_smiles(\n",
    "    spc_smis=[\"C1=C[CH]CC1\", \"C1=CC[CH]C1\", \"C12C(O2)[CH]CC1\", \"C12C(O2)C[CH]C1\"],\n",
    "    src_mech=par_mech,\n",
    ")\n",
    "#  - add ring beta scissions\n",
    "mech = automech.enumerate_reactions(\n",
    "    mech,\n",
    "    enum.ReactionSmarts.ring_beta_scission,\n",
    "    src_mech=par_mech,\n",
    "    repeat=2\n",
    ")\n",
    "#  - add ring beta scissions\n",
    "mech = automech.enumerate_reactions(\n",
    "    mech,\n",
    "    enum.ReactionSmarts.beta_scission,\n",
    "    src_mech=par_mech,\n",
    ")"
   ]
  },
  {
   "cell_type": "code",
   "execution_count": 3,
   "metadata": {},
   "outputs": [
    {
     "name": "stdout",
     "output_type": "stream",
     "text": [
      "\n",
      "Finalizing build for...\n",
      "reactions=shape: (16, 5)\n",
      "┌────────────────┬────────────────┬────────────┬────────────┬─────────────────────────────────┐\n",
      "│ reactants      ┆ products       ┆ formula    ┆ reversible ┆ rate_constant                   │\n",
      "│ ---            ┆ ---            ┆ ---        ┆ ---        ┆ ---                             │\n",
      "│ list[str]      ┆ list[str]      ┆ struct[3]  ┆ bool       ┆ struct[17]                      │\n",
      "╞════════════════╪════════════════╪════════════╪════════════╪═════════════════════════════════╡\n",
      "│ [\"C5H7(507)\"]  ┆ [\"C5H7(500)\"]  ┆ {5,7,null} ┆ true       ┆ {1,{null,null,null,null,null,n… │\n",
      "│ [\"C5H7(487)\"]  ┆ [\"C5H7(504)\"]  ┆ {5,7,null} ┆ true       ┆ {1,{null,null,null,null,null,n… │\n",
      "│ [\"S(1565)\"]    ┆ [\"C5H7O(758)\"] ┆ {5,7,1}    ┆ true       ┆ {1,{null,null,null,null,null,n… │\n",
      "│ [\"C5H7O(758)\"] ┆ [\"C5H7O(762)\"] ┆ {5,7,1}    ┆ true       ┆ {1,{null,null,null,null,null,n… │\n",
      "│ [\"C5H7O(758)\"] ┆ [\"C5H7O(746)\"] ┆ {5,7,1}    ┆ true       ┆ {1,{null,null,null,null,null,n… │\n",
      "│ …              ┆ …              ┆ …          ┆ …          ┆ …                               │\n",
      "│ [\"S(1512)\"]    ┆ [\"S(1289)\"]    ┆ {5,7,1}    ┆ true       ┆ {1,{null,null,null,null,null,n… │\n",
      "│ [\"C5H7O(673)\"] ┆ [\"S(1512)\"]    ┆ {5,7,1}    ┆ true       ┆ {1,{null,null,null,null,null,n… │\n",
      "│ [\"C5H7O(684)\"] ┆ [\"C3H4O(165)\", ┆ {5,7,1}    ┆ true       ┆ {1,{null,null,null,null,null,n… │\n",
      "│                ┆ \"C2H3(48)\"]    ┆            ┆            ┆                                 │\n",
      "│ [\"C5H7O(750)\"] ┆ [\"C3H3O(153)\", ┆ {5,7,1}    ┆ true       ┆ {1,{null,null,null,null,null,n… │\n",
      "│                ┆ \"C2H4(52)\"]    ┆            ┆            ┆                                 │\n",
      "│ [\"S(1512)\"]    ┆ [\"C3H5(122)\",  ┆ {5,7,1}    ┆ null       ┆ null                            │\n",
      "│                ┆ \"C2H2Objeyn\"]  ┆            ┆            ┆                                 │\n",
      "└────────────────┴────────────────┴────────────┴────────────┴─────────────────────────────────┘ species=shape: (21, 7)\n",
      "┌────────────┬───────────────┬─────────────────┬──────┬────────┬─────────────────┬─────────────────┐\n",
      "│ name       ┆ smiles        ┆ amchi           ┆ spin ┆ charge ┆ formula         ┆ thermo_string   │\n",
      "│ ---        ┆ ---           ┆ ---             ┆ ---  ┆ ---    ┆ ---             ┆ ---             │\n",
      "│ str        ┆ str           ┆ str             ┆ i64  ┆ i64    ┆ struct[7]       ┆ str             │\n",
      "╞════════════╪═══════════════╪═════════════════╪══════╪════════╪═════════════════╪═════════════════╡\n",
      "│ C5H7(500)  ┆ C1C[CH]C=C1   ┆ AMChI=1/C5H7/c1 ┆ 1    ┆ 0      ┆ {7,null,null,nu ┆ C   5H   7      │\n",
      "│            ┆               ┆ -2-4-5-3-1/h1-3 ┆      ┆        ┆ ll,null,5,null} ┆ G   298.00…     │\n",
      "│            ┆               ┆ …               ┆      ┆        ┆                 ┆                 │\n",
      "│ C5H7(507)  ┆ C=C[CH]C=C    ┆ AMChI=1/C5H7/c1 ┆ 1    ┆ 0      ┆ {7,null,null,nu ┆ C   5H   7      │\n",
      "│            ┆               ┆ -3-5-4-2/h3-5H, ┆      ┆        ┆ ll,null,5,null} ┆ G   298.00…     │\n",
      "│            ┆               ┆ …               ┆      ┆        ┆                 ┆                 │\n",
      "│ C5H7(504)  ┆ C1[CH]CC=C1   ┆ AMChI=1/C5H7/c1 ┆ 1    ┆ 0      ┆ {7,null,null,nu ┆ C   5H   7      │\n",
      "│            ┆               ┆ -2-5-3-4-1/h1-3 ┆      ┆        ┆ ll,null,5,null} ┆ G   298.00…     │\n",
      "│            ┆               ┆ …               ┆      ┆        ┆                 ┆                 │\n",
      "│ C5H7(487)  ┆ C=CCC=[CH]    ┆ AMChI=1/C5H7/c1 ┆ 1    ┆ 0      ┆ {7,null,null,nu ┆ C   5H   7      │\n",
      "│            ┆               ┆ -3-5-4-2/h1,3-4 ┆      ┆        ┆ ll,null,5,null} ┆ G   300.00…     │\n",
      "│            ┆               ┆ …               ┆      ┆        ┆                 ┆                 │\n",
      "│ C5H7O(758) ┆ O1C2C1[CH]CC2 ┆ AMChI=1/C5H7O/c ┆ 1    ┆ 0      ┆ {7,1,null,null, ┆ C   5H   7O   1 │\n",
      "│            ┆               ┆ 1-2-3-5-4(1)6-5 ┆      ┆        ┆ null,5,null}    ┆ G   298.00…     │\n",
      "│            ┆               ┆ …               ┆      ┆        ┆                 ┆                 │\n",
      "│ …          ┆ …             ┆ …               ┆ …    ┆ …      ┆ …               ┆ …               │\n",
      "│ C2H4(52)   ┆ C=C           ┆ AMChI=1/C2H4/c1 ┆ 0    ┆ 0      ┆ {4,null,null,nu ┆ C   2H   4      │\n",
      "│            ┆               ┆ -2/h1-2H2       ┆      ┆        ┆ ll,null,2,null} ┆ G   300.00…     │\n",
      "│ C2H3(48)   ┆ C=[CH]        ┆ AMChI=1/C2H3/c1 ┆ 1    ┆ 0      ┆ {3,null,null,nu ┆ C   2H   3      │\n",
      "│            ┆               ┆ -2/h1H,2H2      ┆      ┆        ┆ ll,null,2,null} ┆ G   300.00…     │\n",
      "│ C2H2Objeyn ┆ C1=CO1        ┆ AMChI=1/C2H2O/c ┆ 0    ┆ 0      ┆ {2,1,null,null, ┆ null            │\n",
      "│            ┆               ┆ 1-2-3-1/h1-2H   ┆      ┆        ┆ null,2,null}    ┆                 │\n",
      "│ C3H5(122)  ┆ [CH2]C=C      ┆ AMChI=1/C3H5/c1 ┆ 1    ┆ 0      ┆ {5,null,null,nu ┆ C   3H   5      │\n",
      "│            ┆               ┆ -3-2/h3H,1-2H2  ┆      ┆        ┆ ll,null,3,null} ┆ G   300.00…     │\n",
      "│ C3H3O(153) ┆ O=CC=[CH]     ┆ AMChI=1/C3H3O/c ┆ 1    ┆ 0      ┆ {3,1,null,null, ┆ C   3H   3O   1 │\n",
      "│            ┆               ┆ 1-2-3-4/h1-3H   ┆      ┆        ┆ null,3,null}    ┆ G   298.00…     │\n",
      "└────────────┴───────────────┴─────────────────┴──────┴────────┴─────────────────┴─────────────────┘ thermo_temps=None\n",
      "\n",
      "Expanding stereochemistry...\n"
     ]
    },
    {
     "data": {
      "application/vnd.jupyter.widget-view+json": {
       "model_id": "81913150b5414d6abff1ac0ad72a3845",
       "version_major": 2,
       "version_minor": 0
      },
      "text/plain": [
       "  0%|          | 0/21 [00:00<?, ?it/s]"
      ]
     },
     "metadata": {},
     "output_type": "display_data"
    },
    {
     "data": {
      "application/vnd.jupyter.widget-view+json": {
       "model_id": "a927b7a7e61e4268a0f601760a9de9b1",
       "version_major": 2,
       "version_minor": 0
      },
      "text/plain": [
       "  0%|          | 0/35 [00:00<?, ?it/s]"
      ]
     },
     "metadata": {},
     "output_type": "display_data"
    },
    {
     "data": {
      "application/vnd.jupyter.widget-view+json": {
       "model_id": "ad979ffcf8db46368df2910044c5c346",
       "version_major": 2,
       "version_minor": 0
      },
      "text/plain": [
       "  0%|          | 0/16 [00:00<?, ?it/s]"
      ]
     },
     "metadata": {},
     "output_type": "display_data"
    },
    {
     "name": "stdout",
     "output_type": "stream",
     "text": [
      "\n",
      "Writing mechanism...\n",
      "../data/C_r_p1v1_orig.json\n",
      "../data/C_r_p1v1.json\n",
      "../data/mechanalyzer/C_r_p1v1.dat\n",
      "../data/mechanalyzer/C_r_p1v1.csv\n"
     ]
    },
    {
     "data": {
      "application/vnd.jupyter.widget-view+json": {
       "model_id": "1015d11b28da4153a280d132beaf04c0",
       "version_major": 2,
       "version_minor": 0
      },
      "text/plain": [
       "  0%|          | 0/35 [00:00<?, ?it/s]"
      ]
     },
     "metadata": {},
     "output_type": "display_data"
    },
    {
     "data": {
      "application/vnd.jupyter.widget-view+json": {
       "model_id": "ec9eae06bd144c59a3d414148674d6d5",
       "version_major": 2,
       "version_minor": 0
      },
      "text/plain": [
       "  0%|          | 0/35 [00:00<?, ?it/s]"
      ]
     },
     "metadata": {},
     "output_type": "display_data"
    },
    {
     "data": {
      "application/vnd.jupyter.widget-view+json": {
       "model_id": "511a9fccac00450baae12afdc29147b5",
       "version_major": 2,
       "version_minor": 0
      },
      "text/plain": [
       "  0%|          | 0/35 [00:00<?, ?it/s]"
      ]
     },
     "metadata": {},
     "output_type": "display_data"
    },
    {
     "name": "stdout",
     "output_type": "stream",
     "text": [
      "\n",
      "Stereoexpansion errors:\n"
     ]
    }
   ],
   "source": [
    "# Write\n",
    "workflow.write(mech=mech, tag=tag, root_path=root_path, browser=browser)"
   ]
  },
  {
   "cell_type": "code",
   "execution_count": 4,
   "metadata": {},
   "outputs": [],
   "source": [
    "# # Read\n",
    "# workflow.read(tag=tag, root_path=root_path)"
   ]
  },
  {
   "cell_type": "code",
   "execution_count": 5,
   "metadata": {},
   "outputs": [],
   "source": [
    "# # Simulate\n",
    "# workflow.simulate(full_tag=f\"full_{tag}_calc\", root_path=root_path)\n",
    "# workflow.simulate(full_tag=f\"full_{tag}_control\", root_path=root_path)"
   ]
  },
  {
   "cell_type": "code",
   "execution_count": 6,
   "metadata": {},
   "outputs": [],
   "source": [
    "# # Plot\n",
    "# charts = workflow.plot(\n",
    "#     full_tag=f\"full_{tag}_calc\",\n",
    "#     x_col=\"O2_molecules\",\n",
    "#     y_col_=[\"C5H8(522)\", \"C5H8O(825)rs\"],\n",
    "#     root_path=root_path,\n",
    "#     line_source_=[\"hill\", \"lokachari\"],\n",
    "#     point_source=\"experiment\",\n",
    "# )\n",
    "# for chart in charts:\n",
    "#     chart.show()"
   ]
  }
 ],
 "metadata": {
  "kernelspec": {
   "display_name": "proto",
   "language": "python",
   "name": "python3"
  },
  "language_info": {
   "codemirror_mode": {
    "name": "ipython",
    "version": 3
   },
   "file_extension": ".py",
   "mimetype": "text/x-python",
   "name": "python",
   "nbconvert_exporter": "python",
   "pygments_lexer": "ipython3",
   "version": "3.11.11"
  }
 },
 "nbformat": 4,
 "nbformat_minor": 2
}
