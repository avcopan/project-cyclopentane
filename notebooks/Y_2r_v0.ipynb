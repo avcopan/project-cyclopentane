{
 "cells": [
  {
   "cell_type": "code",
   "execution_count": 1,
   "metadata": {},
   "outputs": [],
   "source": [
    "from pathlib import Path\n",
    "\n",
    "import util\n",
    "from util import p_, workflow\n",
    "\n",
    "import automech\n",
    "\n",
    "file = util.notebook_file() if util.is_notebook() else __file__\n",
    "tag = util.file_tag(file)\n",
    "root_path = Path(\"..\")\n",
    "par_mech = workflow.read_parent_mechanism(root_path=root_path)"
   ]
  },
  {
   "cell_type": "code",
   "execution_count": 2,
   "metadata": {},
   "outputs": [],
   "source": [
    "# # Generate submechanism\n",
    "# sub_tags = [\n",
    "#     # 0a v0\n",
    "#     \"A_rh-oh_0a_v0\",\n",
    "#     \"B_rh-ho2_0a_v0\",\n",
    "#     \"C_r_0a_v0\",\n",
    "#     \"D_r-o2_0a_v0\",\n",
    "#     # 1e v0\n",
    "#     \"A_rh-oh_1e-1_v0\",\n",
    "#     \"A_rh-oh_1e-2_v0\",\n",
    "#     \"B_rh-ho2_1e-1_v0\",\n",
    "#     \"B_rh-ho2_1e-2_v0\",\n",
    "#     \"C_r_1e_v0\",\n",
    "#     \"D_r-o2_1e_v0\",\n",
    "#     # 2x v0\n",
    "#     \"A_rh-oh_2x_v0\",\n",
    "#     \"B_rh-ho2_2x_v0\",\n",
    "#     \"C_r_2x_v0\",\n",
    "#     \"D_r-o2_2x_v0\",\n",
    "#     # 3o v0\n",
    "#     \"C_r_3o_v0\",\n",
    "#     \"D_r-o2_3o_v0\",\n",
    "#     # 0a v1\n",
    "#     \"D_r-o2_0a_v1\",\n",
    "#     # 1e v1\n",
    "#     \"D_r-o2_1e_v1\",\n",
    "# ]\n",
    "# gen_paths = [p_.generated_mechanism(t, \"json\", p_.data(root_path)) for t in sub_tags]\n",
    "# ste_paths = [p_.stereo_mechanism(t, \"json\", p_.data(root_path)) for t in sub_tags]\n",
    "# gen_mechs = [automech.io.read(p) for p in gen_paths]\n",
    "# ste_mechs = [automech.io.read(p) for p in ste_paths]\n",
    "# gen_mech = automech.combine_all(gen_mechs)\n",
    "# ste_mech = automech.combine_all(ste_mechs)\n",
    "# gen_mech = automech.drop_duplicate_reactions(gen_mech)\n",
    "# ste_mech = automech.drop_duplicate_reactions(ste_mech)\n",
    "# ste_mech = automech.drop_noncanonical_enantiomers(ste_mech)\n",
    "# automech.display(gen_mech)"
   ]
  },
  {
   "cell_type": "code",
   "execution_count": 3,
   "metadata": {},
   "outputs": [],
   "source": [
    "# # Prepare calculation\n",
    "# workflow.augment_calculation(\n",
    "#     gen_mech=gen_mech, ste_mech=ste_mech, tag=tag, root_path=root_path\n",
    "# )\n",
    "# # workflow.prepare_calculation(\n",
    "# #     gen_mech=gen_mech, ste_mech=ste_mech, tag=tag, root_path=root_path, fake_sort=True\n",
    "# # )"
   ]
  },
  {
   "cell_type": "code",
   "execution_count": 4,
   "metadata": {},
   "outputs": [],
   "source": [
    "# # Display species/reaction by ID\n",
    "# id_ = \"67: 1\"\n",
    "\n",
    "# #   - Read in expanded mechanism\n",
    "# mech_path = p_.stereo_mechanism(tag, ext=\"json\", path=p_.data(root_path))\n",
    "# mech = automech.io.read(mech_path)\n",
    "\n",
    "# #   - Display the reaction\n",
    "# if \":\" in id_:\n",
    "#     automech.display_reactions(mech, chans=[id_])\n",
    "# else:\n",
    "#     automech.display_species(mech, ids=[id_])"
   ]
  },
  {
   "cell_type": "code",
   "execution_count": 5,
   "metadata": {},
   "outputs": [],
   "source": [
    "#   - Read in expanded mechanism\n",
    "mech_path = p_.stereo_mechanism(tag, ext=\"json\", path=p_.data(root_path))\n",
    "mech = automech.io.read(mech_path)"
   ]
  },
  {
   "cell_type": "code",
   "execution_count": 15,
   "metadata": {},
   "outputs": [],
   "source": [
    "automech.display_reactions(\n",
    "    mech,\n",
    "    eqs=[\n",
    "        \"S(725)r0 = OH(4) + C5H8O(833)\",\n",
    "    ],\n",
    ")"
   ]
  },
  {
   "cell_type": "code",
   "execution_count": null,
   "metadata": {},
   "outputs": [],
   "source": []
  }
 ],
 "metadata": {
  "kernelspec": {
   "display_name": "proto",
   "language": "python",
   "name": "python3"
  },
  "language_info": {
   "codemirror_mode": {
    "name": "ipython",
    "version": 3
   },
   "file_extension": ".py",
   "mimetype": "text/x-python",
   "name": "python",
   "nbconvert_exporter": "python",
   "pygments_lexer": "ipython3",
   "version": "3.11.12"
  }
 },
 "nbformat": 4,
 "nbformat_minor": 2
}
