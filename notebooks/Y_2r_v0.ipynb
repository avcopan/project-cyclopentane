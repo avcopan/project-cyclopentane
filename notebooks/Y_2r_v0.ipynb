{
 "cells": [
  {
   "cell_type": "code",
   "execution_count": 1,
   "metadata": {},
   "outputs": [],
   "source": [
    "from pathlib import Path\n",
    "\n",
    "import util\n",
    "from util import p_, workflow\n",
    "\n",
    "import automech\n",
    "\n",
    "file = util.notebook_file() if util.is_notebook() else __file__\n",
    "tag = util.file_tag(file)\n",
    "root_path = Path(\"..\")\n",
    "par_mech = workflow.read_parent_mechanism(root_path=root_path)"
   ]
  },
  {
   "cell_type": "code",
   "execution_count": 2,
   "metadata": {},
   "outputs": [],
   "source": [
    "# # Generate submechanism\n",
    "# sub_tags = [\n",
    "#     # 0a v0\n",
    "#     \"A_rh-oh_0a_v0\",\n",
    "#     \"B_rh-ho2_0a_v0\",\n",
    "#     \"C_r_0a_v0\",\n",
    "#     \"D_r-o2_0a_v0\",\n",
    "#     # 1e v0\n",
    "#     \"A_rh-oh_1e-1_v0\",\n",
    "#     \"A_rh-oh_1e-2_v0\",\n",
    "#     \"B_rh-ho2_1e-1_v0\",\n",
    "#     \"B_rh-ho2_1e-2_v0\",\n",
    "#     \"C_r_1e_v0\",\n",
    "#     \"D_r-o2_1e_v0\",\n",
    "#     # 2x v0\n",
    "#     \"A_rh-oh_2x_v0\",\n",
    "#     \"B_rh-ho2_2x_v0\",\n",
    "#     \"C_r_2x_v0\",\n",
    "#     \"D_r-o2_2x_v0\",\n",
    "#     # 3o v0\n",
    "#     \"C_r_3o_v0\",\n",
    "#     \"D_r-o2_3o_v0\",\n",
    "#     # 0a v1\n",
    "#     \"D_r-o2_0a_v1\",\n",
    "#     # 1e v1\n",
    "#     \"D_r-o2_1e_v1\",\n",
    "# ]\n",
    "# gen_paths = [p_.generated_mechanism(t, \"json\", p_.data(root_path)) for t in sub_tags]\n",
    "# ste_paths = [p_.stereo_mechanism(t, \"json\", p_.data(root_path)) for t in sub_tags]\n",
    "# gen_mechs = [automech.io.read(p) for p in gen_paths]\n",
    "# ste_mechs = [automech.io.read(p) for p in ste_paths]\n",
    "# gen_mech = automech.combine_all(gen_mechs)\n",
    "# ste_mech = automech.combine_all(ste_mechs)\n",
    "# gen_mech = automech.drop_duplicate_reactions(gen_mech)\n",
    "# ste_mech = automech.drop_duplicate_reactions(ste_mech)\n",
    "# ste_mech = automech.drop_noncanonical_enantiomers(ste_mech)\n",
    "# automech.display(gen_mech)"
   ]
  },
  {
   "cell_type": "code",
   "execution_count": 3,
   "metadata": {},
   "outputs": [],
   "source": [
    "# # Prepare calculation\n",
    "# workflow.augment_calculation(\n",
    "#     gen_mech=gen_mech, ste_mech=ste_mech, tag=tag, root_path=root_path\n",
    "# )\n",
    "# # workflow.prepare_calculation(\n",
    "# #     gen_mech=gen_mech, ste_mech=ste_mech, tag=tag, root_path=root_path, fake_sort=True\n",
    "# # )"
   ]
  },
  {
   "cell_type": "code",
   "execution_count": 4,
   "metadata": {},
   "outputs": [],
   "source": [
    "# # Prepare simulation\n",
    "# workflow.prepare_simulation(tag=tag, root_path=root_path)\n",
    "# workflow.prepare_simulation_species(tag=tag, root_path=root_path)"
   ]
  },
  {
   "cell_type": "code",
   "execution_count": 5,
   "metadata": {},
   "outputs": [],
   "source": [
    "# # Check rates\n",
    "# workflow.plot_rates(tag=tag, root_path=root_path)"
   ]
  },
  {
   "cell_type": "code",
   "execution_count": 6,
   "metadata": {},
   "outputs": [],
   "source": [
    "# # Plot simulation\n",
    "# chart_dct = workflow.plot_simulation(\n",
    "#     tag=tag,\n",
    "#     x_col=\"O2_molecules\",\n",
    "#     root_path=root_path,\n",
    "#     line_source_=[\"Hill\", \"Lokachari\"],\n",
    "#     point_source=\"Experiment\",\n",
    "#     control=False,\n",
    "# )\n",
    "# mech = automech.io.read(\n",
    "#     p_.full_calculated_mechanism(tag, \"json\", path=p_.data(root_path))\n",
    "# )\n",
    "# for name, chart in chart_dct.items():\n",
    "#     automech.display_species(mech, [name])\n",
    "#     chart.show()"
   ]
  },
  {
   "cell_type": "code",
   "execution_count": 7,
   "metadata": {},
   "outputs": [
    {
     "name": "stdout",
     "output_type": "stream",
     "text": [
      "\n",
      "*********\n",
      "Reaction: S(731)r0 = S(2258)z + C2H4(52)\n",
      "Translations:\n",
      "  smiles:\n",
      "    reactants = ['C=C[C@@H](C[CH2])OO']\n",
      "    products = ['[CH2]/C=C\\\\OO', 'C=C']\n",
      "Rate parameters:\n",
      "  This work:\n",
      "    S(731)r0 = S(2258)z + C2H4(52)                               1.000      0.000      0.000\n"
     ]
    },
    {
     "data": {
      "application/vnd.jupyter.widget-view+json": {
       "model_id": "bb90882b2c5d436082d70ba449d9b133",
       "version_major": 2,
       "version_minor": 0
      },
      "text/plain": [
       "HBox(children=(Image(value=b\"<?xml version='1.0' encoding='iso-8859-1...\", format='svg+xml', height='300', wid…"
      ]
     },
     "metadata": {},
     "output_type": "display_data"
    },
    {
     "data": {
      "text/html": [
       "\n",
       "<style>\n",
       "  #altair-viz-8c125b3bcb094be5b3632ea5e7118330.vega-embed {\n",
       "    width: 100%;\n",
       "    display: flex;\n",
       "  }\n",
       "\n",
       "  #altair-viz-8c125b3bcb094be5b3632ea5e7118330.vega-embed details,\n",
       "  #altair-viz-8c125b3bcb094be5b3632ea5e7118330.vega-embed details summary {\n",
       "    position: relative;\n",
       "  }\n",
       "</style>\n",
       "<div id=\"altair-viz-8c125b3bcb094be5b3632ea5e7118330\"></div>\n",
       "<script type=\"text/javascript\">\n",
       "  var VEGA_DEBUG = (typeof VEGA_DEBUG == \"undefined\") ? {} : VEGA_DEBUG;\n",
       "  (function(spec, embedOpt){\n",
       "    let outputDiv = document.currentScript.previousElementSibling;\n",
       "    if (outputDiv.id !== \"altair-viz-8c125b3bcb094be5b3632ea5e7118330\") {\n",
       "      outputDiv = document.getElementById(\"altair-viz-8c125b3bcb094be5b3632ea5e7118330\");\n",
       "    }\n",
       "\n",
       "    const paths = {\n",
       "      \"vega\": \"https://cdn.jsdelivr.net/npm/vega@5?noext\",\n",
       "      \"vega-lib\": \"https://cdn.jsdelivr.net/npm/vega-lib?noext\",\n",
       "      \"vega-lite\": \"https://cdn.jsdelivr.net/npm/vega-lite@5.20.1?noext\",\n",
       "      \"vega-embed\": \"https://cdn.jsdelivr.net/npm/vega-embed@6?noext\",\n",
       "    };\n",
       "\n",
       "    function maybeLoadScript(lib, version) {\n",
       "      var key = `${lib.replace(\"-\", \"\")}_version`;\n",
       "      return (VEGA_DEBUG[key] == version) ?\n",
       "        Promise.resolve(paths[lib]) :\n",
       "        new Promise(function(resolve, reject) {\n",
       "          var s = document.createElement('script');\n",
       "          document.getElementsByTagName(\"head\")[0].appendChild(s);\n",
       "          s.async = true;\n",
       "          s.onload = () => {\n",
       "            VEGA_DEBUG[key] = version;\n",
       "            return resolve(paths[lib]);\n",
       "          };\n",
       "          s.onerror = () => reject(`Error loading script: ${paths[lib]}`);\n",
       "          s.src = paths[lib];\n",
       "        });\n",
       "    }\n",
       "\n",
       "    function showError(err) {\n",
       "      outputDiv.innerHTML = `<div class=\"error\" style=\"color:red;\">${err}</div>`;\n",
       "      throw err;\n",
       "    }\n",
       "\n",
       "    function displayChart(vegaEmbed) {\n",
       "      vegaEmbed(outputDiv, spec, embedOpt)\n",
       "        .catch(err => showError(`Javascript Error: ${err.message}<br>This usually means there's a typo in your chart specification. See the javascript console for the full traceback.`));\n",
       "    }\n",
       "\n",
       "    if(typeof define === \"function\" && define.amd) {\n",
       "      requirejs.config({paths});\n",
       "      let deps = [\"vega-embed\"];\n",
       "      require(deps, displayChart, err => showError(`Error loading script: ${err.message}`));\n",
       "    } else {\n",
       "      maybeLoadScript(\"vega\", \"5\")\n",
       "        .then(() => maybeLoadScript(\"vega-lite\", \"5.20.1\"))\n",
       "        .then(() => maybeLoadScript(\"vega-embed\", \"6\"))\n",
       "        .catch(showError)\n",
       "        .then(() => displayChart(vegaEmbed));\n",
       "    }\n",
       "  })({\"config\": {\"view\": {\"continuousWidth\": 300, \"continuousHeight\": 300}}, \"data\": {\"name\": \"data-d1d89c279e4160c772cbbf70fe966f4a\"}, \"mark\": {\"type\": \"line\"}, \"encoding\": {\"color\": {\"value\": \"#0066ff\"}, \"x\": {\"field\": \"x\", \"title\": \"1000/\\ud835\\udc47 (1/K)\", \"type\": \"quantitative\"}, \"y\": {\"axis\": {\"format\": \".1e\", \"values\": [1, 10]}, \"field\": \"value\", \"scale\": {\"type\": \"log\"}, \"title\": \"\\ud835\\udc58 (1/s)\", \"type\": \"quantitative\"}}, \"transform\": [{\"fold\": [\"This work\"]}], \"$schema\": \"https://vega.github.io/schema/vega-lite/v5.20.1.json\", \"datasets\": {\"data-d1d89c279e4160c772cbbf70fe966f4a\": [{\"x\": 2.5, \"This work\": 1.0}, {\"x\": 2.489398852581691, \"This work\": 1.0}, {\"x\": 2.4788872329855938, \"This work\": 1.0}, {\"x\": 2.468464011872372, \"This work\": 1.0}, {\"x\": 2.458128078817734, \"This work\": 1.0}, {\"x\": 2.4478783419180767, \"This work\": 1.0}, {\"x\": 2.43771372740596, \"This work\": 1.0}, {\"x\": 2.4276331792751153, \"This work\": 1.0}, {\"x\": 2.4176356589147288, \"This work\": 1.0}, {\"x\": 2.407720144752714, \"This work\": 1.0}, {\"x\": 2.397885631907737, \"This work\": 1.0}, {\"x\": 2.388131131849725, \"This work\": 1.0}, {\"x\": 2.378455672068637, \"This work\": 1.0}, {\"x\": 2.368858295751246, \"This work\": 1.0}, {\"x\": 2.359338061465721, \"This work\": 1.0}, {\"x\": 2.349894042853779, \"This work\": 1.0}, {\"x\": 2.3405253283302065, \"This work\": 1.0}, {\"x\": 2.3312310207895353, \"This work\": 1.0}, {\"x\": 2.3220102373196836, \"This work\": 1.0}, {\"x\": 2.312862108922364, \"This work\": 1.0}, {\"x\": 2.303785780240074, \"This work\": 1.0}, {\"x\": 2.294780409289492, \"This work\": 1.0}, {\"x\": 2.2858451672010993, \"This work\": 1.0}, {\"x\": 2.276979237964864, \"This work\": 1.0}, {\"x\": 2.268181818181818, \"This work\": 1.0}, {\"x\": 2.2594521168213717, \"This work\": 1.0}, {\"x\": 2.250789354984213, \"This work\": 1.0}, {\"x\": 2.242192765670636, \"This work\": 1.0}, {\"x\": 2.233661593554163, \"This work\": 1.0}, {\"x\": 2.2251950947603123, \"This work\": 1.0}, {\"x\": 2.216792536650378, \"This work\": 1.0}, {\"x\": 2.2084531976100905, \"This work\": 1.0}, {\"x\": 2.2001763668430336, \"This work\": 1.0}, {\"x\": 2.19196134416868, \"This work\": 1.0}, {\"x\": 2.1838074398249456, \"This work\": 1.0}, {\"x\": 2.1757139742751255, \"This work\": 1.0}, {\"x\": 2.167680278019114, \"This work\": 1.0}, {\"x\": 2.159705691408786, \"This work\": 1.0}, {\"x\": 2.1517895644674425, \"This work\": 1.0}, {\"x\": 2.1439312567132114, \"This work\": 1.0}, {\"x\": 2.1361301369863015, \"This work\": 1.0}, {\"x\": 2.128385583280017, \"This work\": 1.0}, {\"x\": 2.1206969825754354, \"This work\": 1.0}, {\"x\": 2.1130637306796527, \"This work\": 1.0}, {\"x\": 2.105485232067511, \"This work\": 1.0}, {\"x\": 2.0979608997267185, \"This work\": 1.0}, {\"x\": 2.0904901550062838, \"This work\": 1.0}, {\"x\": 2.0830724274681693, \"This work\": 1.0}, {\"x\": 2.0757071547420964, \"This work\": 1.0}, {\"x\": 2.0683937823834198, \"This work\": 1.0}, {\"x\": 2.0611317637339943, \"This work\": 1.0}, {\"x\": 2.0539205597859644, \"This work\": 1.0}, {\"x\": 2.0467596390484006, \"This work\": 1.0}, {\"x\": 2.039648477416718, \"This work\": 1.0}, {\"x\": 2.0325865580448066, \"This work\": 1.0}, {\"x\": 2.025573371219809, \"This work\": 1.0}, {\"x\": 2.0186084142394822, \"This work\": 1.0}, {\"x\": 2.011691191292078, \"This work\": 1.0}, {\"x\": 2.00482121333869, \"This work\": 1.0}, {\"x\": 1.997997997997998, \"This work\": 1.0}, {\"x\": 1.9912210694333599, \"This work\": 1.0}, {\"x\": 1.9844899582421953, \"This work\": 1.0}, {\"x\": 1.977804201347602, \"This work\": 1.0}, {\"x\": 1.9711633418921588, \"This work\": 1.0}, {\"x\": 1.9645669291338583, \"This work\": 1.0}, {\"x\": 1.958014518344124, \"This work\": 1.0}, {\"x\": 1.9515056707078609, \"This work\": 1.0}, {\"x\": 1.9450399532254923, \"This work\": 1.0}, {\"x\": 1.9386169386169387, \"This work\": 1.0}, {\"x\": 1.9322362052274926, \"This work\": 1.0}, {\"x\": 1.925897336935546, \"This work\": 1.0}, {\"x\": 1.9195999230621275, \"This work\": 1.0}, {\"x\": 1.9133435582822087, \"This work\": 1.0}, {\"x\": 1.9071278425377411, \"This work\": 1.0}, {\"x\": 1.900952380952381, \"This work\": 1.0}, {\"x\": 1.8948167837478642, \"This work\": 1.0}, {\"x\": 1.8887206661619982, \"This work\": 1.0}, {\"x\": 1.8826636483682324, \"This work\": 1.0}, {\"x\": 1.8766453553967657, \"This work\": 1.0}, {\"x\": 1.8706654170571697, \"This work\": 1.0}, {\"x\": 1.8647234678624816, \"This work\": 1.0}, {\"x\": 1.8588191469547402, \"This work\": 1.0}, {\"x\": 1.8529520980319347, \"This work\": 1.0}, {\"x\": 1.847121969276328, \"This work\": 1.0}, {\"x\": 1.8413284132841328, \"This work\": 1.0}, {\"x\": 1.8355710869965054, \"This work\": 1.0}, {\"x\": 1.8298496516318299, \"This work\": 1.0}, {\"x\": 1.8241637726192654, \"This work\": 1.0}, {\"x\": 1.818513119533528, \"This work\": 1.0}, {\"x\": 1.812897366030881, \"This work\": 1.0}, {\"x\": 1.8073161897863093, \"This work\": 1.0}, {\"x\": 1.801769272431847, \"This work\": 1.0}, {\"x\": 1.7962562994960403, \"This work\": 1.0}, {\"x\": 1.790776960344518, \"This work\": 1.0}, {\"x\": 1.785330948121646, \"This work\": 1.0}, {\"x\": 1.7799179596932406, \"This work\": 1.0}, {\"x\": 1.7745376955903274, \"This work\": 1.0}, {\"x\": 1.7691898599539089, \"This work\": 1.0}, {\"x\": 1.7638741604807353, \"This work\": 1.0}, {\"x\": 1.7585903083700443, \"This work\": 1.0}, {\"x\": 1.7533380182712577, \"This work\": 1.0}, {\"x\": 1.7481170082326152, \"This work\": 1.0}, {\"x\": 1.7429269996507162, \"This work\": 1.0}, {\"x\": 1.737767717220965, \"This work\": 1.0}, {\"x\": 1.732638888888889, \"This work\": 1.0}, {\"x\": 1.7275402458023195, \"This work\": 1.0}, {\"x\": 1.7224715222644116, \"This work\": 1.0}, {\"x\": 1.7174324556874891, \"This work\": 1.0}, {\"x\": 1.7124227865477006, \"This work\": 1.0}, {\"x\": 1.7074422583404618, \"This work\": 1.0}, {\"x\": 1.702490617536677, \"This work\": 1.0}, {\"x\": 1.6975676135397177, \"This work\": 1.0}, {\"x\": 1.692672998643148, \"This work\": 1.0}, {\"x\": 1.6878065279891763, \"This work\": 1.0}, {\"x\": 1.6829679595278246, \"This work\": 1.0}, {\"x\": 1.678157053976795, \"This work\": 1.0}, {\"x\": 1.6733735747820253, \"This work\": 1.0}, {\"x\": 1.6686172880789165, \"This work\": 1.0}, {\"x\": 1.6638879626542182, \"This work\": 1.0}, {\"x\": 1.6591853699085621, \"This work\": 1.0}, {\"x\": 1.6545092838196285, \"This work\": 1.0}, {\"x\": 1.6498594809059348, \"This work\": 1.0}, {\"x\": 1.6452357401912299, \"This work\": 1.0}, {\"x\": 1.6406378431694886, \"This work\": 1.0}, {\"x\": 1.6360655737704917, \"This work\": 1.0}, {\"x\": 1.6315187183259767, \"This work\": 1.0}, {\"x\": 1.6269970655363548, \"This work\": 1.0}, {\"x\": 1.6225004064379778, \"This work\": 1.0}, {\"x\": 1.6180285343709468, \"This work\": 1.0}, {\"x\": 1.6135812449474536, \"This work\": 1.0}, {\"x\": 1.6091583360206385, \"This work\": 1.0}, {\"x\": 1.6047596076539636, \"This work\": 1.0}, {\"x\": 1.6003848620910839, \"This work\": 1.0}, {\"x\": 1.5960339037262115, \"This work\": 1.0}, {\"x\": 1.5917065390749603, \"This work\": 1.0}, {\"x\": 1.5874025767456659, \"This work\": 1.0}, {\"x\": 1.5831218274111676, \"This work\": 1.0}, {\"x\": 1.5788641037810474, \"This work\": 1.0}, {\"x\": 1.5746292205743138, \"This work\": 1.0}, {\"x\": 1.5704169944925255, \"This work\": 1.0}, {\"x\": 1.5662272441933458, \"This work\": 1.0}, {\"x\": 1.5620597902645172, \"This work\": 1.0}, {\"x\": 1.5579144551982518, \"This work\": 1.0}, {\"x\": 1.5537910633660286, \"This work\": 1.0}, {\"x\": 1.549689440993789, \"This work\": 1.0}, {\"x\": 1.5456094161375251, \"This work\": 1.0}, {\"x\": 1.5415508186592526, \"This work\": 1.0}, {\"x\": 1.5375134802033583, \"This work\": 1.0}, {\"x\": 1.533497234173325, \"This work\": 1.0}, {\"x\": 1.5295019157088123, \"This work\": 1.0}, {\"x\": 1.5255273616631, \"This work\": 1.0}, {\"x\": 1.5215734105808814, \"This work\": 1.0}, {\"x\": 1.517639902676399, \"This work\": 1.0}, {\"x\": 1.5137266798119218, \"This work\": 1.0}, {\"x\": 1.5098335854765506, \"This work\": 1.0}, {\"x\": 1.5059604647653537, \"This work\": 1.0}, {\"x\": 1.50210716435882, \"This work\": 1.0}, {\"x\": 1.4982735325026273, \"This work\": 1.0}, {\"x\": 1.494459418987721, \"This work\": 1.0}, {\"x\": 1.4906646751306947, \"This work\": 1.0}, {\"x\": 1.4868891537544697, \"This work\": 1.0}, {\"x\": 1.4831327091692674, \"This work\": 1.0}, {\"x\": 1.4793951971538688, \"This work\": 1.0}, {\"x\": 1.475676474937158, \"This work\": 1.0}, {\"x\": 1.471976401179941, \"This work\": 1.0}, {\"x\": 1.46829483595704, \"This work\": 1.0}, {\"x\": 1.4646316407396538, \"This work\": 1.0}, {\"x\": 1.460986678377983, \"This work\": 1.0}, {\"x\": 1.457359813084112, \"This work\": 1.0}, {\"x\": 1.4537509104151494, \"This work\": 1.0}, {\"x\": 1.4501598372566114, \"This work\": 1.0}, {\"x\": 1.4465864618060589, \"This work\": 1.0}, {\"x\": 1.4430306535569695, \"This work\": 1.0}, {\"x\": 1.4394922832828503, \"This work\": 1.0}, {\"x\": 1.4359712230215829, \"This work\": 1.0}, {\"x\": 1.432467346059997, \"This work\": 1.0}, {\"x\": 1.4289805269186713, \"This work\": 1.0}, {\"x\": 1.4255106413369518, \"This work\": 1.0}, {\"x\": 1.4220575662581931, \"This work\": 1.0}, {\"x\": 1.4186211798152097, \"This work\": 1.0}, {\"x\": 1.4152013613159389, \"This work\": 1.0}, {\"x\": 1.4117979912293113, \"This work\": 1.0}, {\"x\": 1.4084109511713239, \"This work\": 1.0}, {\"x\": 1.4050401238913135, \"This work\": 1.0}, {\"x\": 1.401685393258427, \"This work\": 1.0}, {\"x\": 1.3983466442482835, \"This work\": 1.0}, {\"x\": 1.3950237629298294, \"This work\": 1.0}, {\"x\": 1.3917166364523776, \"This work\": 1.0}, {\"x\": 1.3884251530328326, \"This work\": 1.0}, {\"x\": 1.385149201943095, \"This work\": 1.0}, {\"x\": 1.3818886734976463, \"This work\": 1.0}, {\"x\": 1.3786434590413041, \"This work\": 1.0}, {\"x\": 1.3754134509371556, \"This work\": 1.0}, {\"x\": 1.3721985425546541, \"This work\": 1.0}, {\"x\": 1.3689986282578874, \"This work\": 1.0}, {\"x\": 1.3658136033940058, \"This work\": 1.0}, {\"x\": 1.3626433642818132, \"This work\": 1.0}, {\"x\": 1.3594878082005177, \"This work\": 1.0}, {\"x\": 1.3563468333786357, \"This work\": 1.0}, {\"x\": 1.3532203389830508, \"This work\": 1.0}, {\"x\": 1.3501082251082253, \"This work\": 1.0}, {\"x\": 1.3470103927655552, \"This work\": 1.0}, {\"x\": 1.343926743872879, \"This work\": 1.0}, {\"x\": 1.340857181244122, \"This work\": 1.0}, {\"x\": 1.3378016085790885, \"This work\": 1.0}, {\"x\": 1.3347599304533906, \"This work\": 1.0}, {\"x\": 1.3317320523085137, \"This work\": 1.0}, {\"x\": 1.3287178804420183, \"This work\": 1.0}, {\"x\": 1.3257173219978746, \"This work\": 1.0}, {\"x\": 1.3227302849569251, \"This work\": 1.0}, {\"x\": 1.3197566781274794, \"This work\": 1.0}, {\"x\": 1.3167964111360337, \"This work\": 1.0}, {\"x\": 1.3138493944181149, \"This work\": 1.0}, {\"x\": 1.3109155392092475, \"This work\": 1.0}, {\"x\": 1.307994757536042, \"This work\": 1.0}, {\"x\": 1.3050869622074017, \"This work\": 1.0}, {\"x\": 1.3021920668058453, \"This work\": 1.0}, {\"x\": 1.299309985678948, \"This work\": 1.0}, {\"x\": 1.2964406339308912, \"This work\": 1.0}, {\"x\": 1.2935839274141283, \"This work\": 1.0}, {\"x\": 1.2907397827211589, \"This work\": 1.0}, {\"x\": 1.28790811717641, \"This work\": 1.0}, {\"x\": 1.2850888488282255, \"This work\": 1.0}, {\"x\": 1.282281896440961, \"This work\": 1.0}, {\"x\": 1.2794871794871794, \"This work\": 1.0}, {\"x\": 1.2767046181399513, \"This work\": 1.0}, {\"x\": 1.273934133265254, \"This work\": 1.0}, {\"x\": 1.2711756464144695, \"This work\": 1.0}, {\"x\": 1.2684290798169802, \"This work\": 1.0}, {\"x\": 1.26569435637286, \"This work\": 1.0}, {\"x\": 1.2629713996456593, \"This work\": 1.0}, {\"x\": 1.2602601338552848, \"This work\": 1.0}, {\"x\": 1.2575604838709677, \"This work\": 1.0}, {\"x\": 1.2548723752043254, \"This work\": 1.0}, {\"x\": 1.2521957340025094, \"This work\": 1.0}, {\"x\": 1.2495304870414423, \"This work\": 1.0}, {\"x\": 1.2468765617191406, \"This work\": 1.0}, {\"x\": 1.244233886049121, \"This work\": 1.0}, {\"x\": 1.241602388653894, \"This work\": 1.0}, {\"x\": 1.238981998758535, \"This work\": 1.0}, {\"x\": 1.236372646184341, \"This work\": 1.0}, {\"x\": 1.233774261342564, \"This work\": 1.0}, {\"x\": 1.231186775228226, \"This work\": 1.0}, {\"x\": 1.2286101194140095, \"This work\": 1.0}, {\"x\": 1.2260442260442261, \"This work\": 1.0}, {\"x\": 1.2234890278288588, \"This work\": 1.0}, {\"x\": 1.2209444580376805, \"This work\": 1.0}, {\"x\": 1.218410450494445, \"This work\": 1.0}, {\"x\": 1.21588693957115, \"This work\": 1.0}, {\"x\": 1.2133738601823707, \"This work\": 1.0}, {\"x\": 1.2108711477796652, \"This work\": 1.0}, {\"x\": 1.2083787383460467, \"This work\": 1.0}, {\"x\": 1.205896568390527, \"This work\": 1.0}, {\"x\": 1.203424574942723, \"This work\": 1.0}, {\"x\": 1.2009626955475332, \"This work\": 1.0}, {\"x\": 1.1985108682598775, \"This work\": 1.0}, {\"x\": 1.1960690316395013, \"This work\": 1.0}, {\"x\": 1.1936371247458437, \"This work\": 1.0}, {\"x\": 1.1912150871329674, \"This work\": 1.0}, {\"x\": 1.1888028588445505, \"This work\": 1.0}, {\"x\": 1.1864003804089398, \"This work\": 1.0}, {\"x\": 1.1840075928342626, \"This work\": 1.0}, {\"x\": 1.1816244376035994, \"This work\": 1.0}, {\"x\": 1.1792508566702113, \"This work\": 1.0}, {\"x\": 1.1768867924528301, \"This work\": 1.0}, {\"x\": 1.174532187830999, \"This work\": 1.0}, {\"x\": 1.1721869861404746, \"This work\": 1.0}, {\"x\": 1.169851131168679, \"This work\": 1.0}, {\"x\": 1.1675245671502108, \"This work\": 1.0}, {\"x\": 1.165207238762405, \"This work\": 1.0}, {\"x\": 1.162899091120951, \"This work\": 1.0}, {\"x\": 1.1606000697755552, \"This work\": 1.0}, {\"x\": 1.1583101207056639, \"This work\": 1.0}, {\"x\": 1.1560291903162285, \"This work\": 1.0}, {\"x\": 1.153757225433526, \"This work\": 1.0}, {\"x\": 1.1514941733010269, \"This work\": 1.0}, {\"x\": 1.149239981575311, \"This work\": 1.0}, {\"x\": 1.146994598322032, \"This work\": 1.0}, {\"x\": 1.1447579720119294, \"This work\": 1.0}, {\"x\": 1.1425300515168861, \"This work\": 1.0}, {\"x\": 1.1403107861060329, \"This work\": 1.0}, {\"x\": 1.1381001254418976, \"This work\": 1.0}, {\"x\": 1.135898019576599, \"This work\": 1.0}, {\"x\": 1.133704418948086, \"This work\": 1.0}, {\"x\": 1.1315192743764173, \"This work\": 1.0}, {\"x\": 1.1293425370600882, \"This work\": 1.0}, {\"x\": 1.1271741585723967, \"This work\": 1.0}, {\"x\": 1.1250140908578514, \"This work\": 1.0}, {\"x\": 1.1228622862286228, \"This work\": 1.0}, {\"x\": 1.1207186973610332, \"This work\": 1.0}, {\"x\": 1.118583277292087, \"This work\": 1.0}, {\"x\": 1.1164559794160422, \"This work\": 1.0}, {\"x\": 1.1143367574810183, \"This work\": 1.0}, {\"x\": 1.112225565585646, \"This work\": 1.0}, {\"x\": 1.110122358175751, \"This work\": 1.0}, {\"x\": 1.1080270900410791, \"This work\": 1.0}, {\"x\": 1.1059397163120568, \"This work\": 1.0}, {\"x\": 1.1038601924565867, \"This work\": 1.0}, {\"x\": 1.1017884742768824, \"This work\": 1.0}, {\"x\": 1.0997245179063362, \"This work\": 1.0}, {\"x\": 1.0976682798064232, \"This work\": 1.0}, {\"x\": 1.0956197167636403, \"This work\": 1.0}, {\"x\": 1.0935787858864783, \"This work\": 1.0}, {\"x\": 1.091545444602428, \"This work\": 1.0}, {\"x\": 1.0895196506550218, \"This work\": 1.0}, {\"x\": 1.0875013621009044, \"This work\": 1.0}, {\"x\": 1.0854905373069395, \"This work\": 1.0}, {\"x\": 1.0834871349473456, \"This work\": 1.0}, {\"x\": 1.081491114000867, \"This work\": 1.0}, {\"x\": 1.079502433747972, \"This work\": 1.0}, {\"x\": 1.0775210537680848, \"This work\": 1.0}, {\"x\": 1.0755469339368466, \"This work\": 1.0}, {\"x\": 1.0735800344234079, \"This work\": 1.0}, {\"x\": 1.0716203156877484, \"This work\": 1.0}, {\"x\": 1.069667738478028, \"This work\": 1.0}, {\"x\": 1.0677222638279662, \"This work\": 1.0}, {\"x\": 1.0657838530542503, \"This work\": 1.0}, {\"x\": 1.063852467753971, \"This work\": 1.0}, {\"x\": 1.0619280698020857, \"This work\": 1.0}, {\"x\": 1.0600106213489113, \"This work\": 1.0}, {\"x\": 1.058100084817642, \"This work\": 1.0}, {\"x\": 1.0561964229018945, \"This work\": 1.0}, {\"x\": 1.0542995985632793, \"This work\": 1.0}, {\"x\": 1.0524095750289992, \"This work\": 1.0}, {\"x\": 1.0505263157894738, \"This work\": 1.0}, {\"x\": 1.0486497845959861, \"This work\": 1.0}, {\"x\": 1.0467799454583597, \"This work\": 1.0}, {\"x\": 1.0449167626426552, \"This work\": 1.0}, {\"x\": 1.0430602006688963, \"This work\": 1.0}, {\"x\": 1.041210224308816, \"This work\": 1.0}, {\"x\": 1.0393667985836286, \"This work\": 1.0}, {\"x\": 1.0375298887618256, \"This work\": 1.0}, {\"x\": 1.0356994603569947, \"This work\": 1.0}, {\"x\": 1.0338754791256604, \"This work\": 1.0}, {\"x\": 1.03205791106515, \"This work\": 1.0}, {\"x\": 1.0302467224114793, \"This work\": 1.0}, {\"x\": 1.028441879637263, \"This work\": 1.0}, {\"x\": 1.0266433494496452, \"This work\": 1.0}, {\"x\": 1.0248510987882522, \"This work\": 1.0}, {\"x\": 1.0230650948231677, \"This work\": 1.0}, {\"x\": 1.0212853049529267, \"This work\": 1.0}, {\"x\": 1.0195116968025335, \"This work\": 1.0}, {\"x\": 1.017744238221497, \"This work\": 1.0}, {\"x\": 1.0159828972818894, \"This work\": 1.0}, {\"x\": 1.0142276422764227, \"This work\": 1.0}, {\"x\": 1.0124784417165467, \"This work\": 1.0}, {\"x\": 1.0107352643305652, \"This work\": 1.0}, {\"x\": 1.0089980790617734, \"This work\": 1.0}, {\"x\": 1.0072668550666128, \"This work\": 1.0}, {\"x\": 1.0055415617128465, \"This work\": 1.0}, {\"x\": 1.0038221685777509, \"This work\": 1.0}, {\"x\": 1.00210864544633, \"This work\": 1.0}, {\"x\": 1.000400962309543, \"This work\": 1.0}, {\"x\": 0.9986990893625538, \"This work\": 1.0}, {\"x\": 0.997002997002997, \"This work\": 1.0}, {\"x\": 0.995312655829261, \"This work\": 1.0}, {\"x\": 0.9936280366387894, \"This work\": 1.0}, {\"x\": 0.991949110426399, \"This work\": 1.0}, {\"x\": 0.9902758483826156, \"This work\": 1.0}, {\"x\": 0.9886082218920258, \"This work\": 1.0}, {\"x\": 0.9869462025316456, \"This work\": 1.0}, {\"x\": 0.9852897620693061, \"This work\": 1.0}, {\"x\": 0.983638872462054, \"This work\": 1.0}, {\"x\": 0.9819935058545705, \"This work\": 1.0}, {\"x\": 0.9803536345776032, \"This work\": 1.0}, {\"x\": 0.9787192311464157, \"This work\": 1.0}, {\"x\": 0.977090268259252, \"This work\": 1.0}, {\"x\": 0.9754667187958167, \"This work\": 1.0}, {\"x\": 0.973848555815769, \"This work\": 1.0}, {\"x\": 0.9722357525572334, \"This work\": 1.0}, {\"x\": 0.9706282824353237, \"This work\": 1.0}, {\"x\": 0.9690261190406835, \"This work\": 1.0}, {\"x\": 0.9674292361380379, \"This work\": 1.0}, {\"x\": 0.9658376076647633, \"This work\": 1.0}, {\"x\": 0.9642512077294686, \"This work\": 1.0}, {\"x\": 0.9626700106105913, \"This work\": 1.0}, {\"x\": 0.9610939907550078, \"This work\": 1.0}, {\"x\": 0.9595231227766562, \"This work\": 1.0}, {\"x\": 0.9579573814551738, \"This work\": 1.0}, {\"x\": 0.9563967417345474, \"This work\": 1.0}, {\"x\": 0.9548411787217759, \"This work\": 1.0}, {\"x\": 0.9532906676855479, \"This work\": 1.0}, {\"x\": 0.9517451840549304, \"This work\": 1.0}, {\"x\": 0.9502047034180711, \"This work\": 1.0}, {\"x\": 0.9486692015209126, \"This work\": 1.0}, {\"x\": 0.9471386542659199, \"This work\": 1.0}, {\"x\": 0.9456130377108204, \"This work\": 1.0}, {\"x\": 0.944092328067354, \"This work\": 1.0}, {\"x\": 0.9425765017000377, \"This work\": 1.0}, {\"x\": 0.9410655351249411, \"This work\": 1.0}, {\"x\": 0.939559405008473, \"This work\": 1.0}, {\"x\": 0.9380580881661811, \"This work\": 1.0}, {\"x\": 0.9365615615615616, \"This work\": 1.0}, {\"x\": 0.9350698023048816, \"This work\": 1.0}, {\"x\": 0.9335827876520113, \"This work\": 1.0}, {\"x\": 0.932100495003269, \"This work\": 1.0}, {\"x\": 0.9306229019022755, \"This work\": 1.0}, {\"x\": 0.9291499860348198, \"This work\": 1.0}, {\"x\": 0.9276817252277375, \"This work\": 1.0}, {\"x\": 0.9262180974477958, \"This work\": 1.0}, {\"x\": 0.9247590808005931, \"This work\": 1.0}, {\"x\": 0.9233046535294661, \"This work\": 1.0}, {\"x\": 0.9218547940144096, \"This work\": 1.0}, {\"x\": 0.9204094807710043, \"This work\": 1.0}, {\"x\": 0.9189686924493554, \"This work\": 1.0}, {\"x\": 0.9175324078330422, \"This work\": 1.0}, {\"x\": 0.9161006058380761, \"This work\": 1.0}, {\"x\": 0.9146732655118688, \"This work\": 1.0}, {\"x\": 0.9132503660322109, \"This work\": 1.0}, {\"x\": 0.9118318867062587, \"This work\": 1.0}, {\"x\": 0.9104178069695312, \"This work\": 1.0}, {\"x\": 0.9090081063849168, \"This work\": 1.0}, {\"x\": 0.9076027646416881, \"This work\": 1.0}, {\"x\": 0.9062017615545265, \"This work\": 1.0}, {\"x\": 0.9048050770625566, \"This work\": 1.0}, {\"x\": 0.9034126912283879, \"This work\": 1.0}, {\"x\": 0.9020245842371657, \"This work\": 1.0}, {\"x\": 0.900640736395632, \"This work\": 1.0}, {\"x\": 0.8992611281311947, \"This work\": 1.0}, {\"x\": 0.8978857399910031, \"This work\": 1.0}, {\"x\": 0.8965145526410349, \"This work\": 1.0}, {\"x\": 0.8951475468651897, \"This work\": 1.0}, {\"x\": 0.8937847035643919, \"This work\": 1.0}, {\"x\": 0.8924260037557007, \"This work\": 1.0}, {\"x\": 0.8910714285714286, \"This work\": 1.0}, {\"x\": 0.8897209592582688, \"This work\": 1.0}, {\"x\": 0.8883745771764288, \"This work\": 1.0}, {\"x\": 0.8870322637987735, \"This work\": 1.0}, {\"x\": 0.8856940007099752, \"This work\": 1.0}, {\"x\": 0.8843597696056712, \"This work\": 1.0}, {\"x\": 0.8830295522916298, \"This work\": 1.0}, {\"x\": 0.8817033306829226, \"This work\": 1.0}, {\"x\": 0.880381086803105, \"This work\": 1.0}, {\"x\": 0.8790628027834052, \"This work\": 1.0}, {\"x\": 0.8777484608619173, \"This work\": 1.0}, {\"x\": 0.876438043382805, \"This work\": 1.0}, {\"x\": 0.8751315327955104, \"This work\": 1.0}, {\"x\": 0.8738289116539708, \"This work\": 1.0}, {\"x\": 0.8725301626158419, \"This work\": 1.0}, {\"x\": 0.8712352684417286, \"This work\": 1.0}, {\"x\": 0.8699442119944213, \"This work\": 1.0}, {\"x\": 0.868656976238141, \"This work\": 1.0}, {\"x\": 0.8673735442377891, \"This work\": 1.0}, {\"x\": 0.8660938991582054, \"This work\": 1.0}, {\"x\": 0.8648180242634316, \"This work\": 1.0}, {\"x\": 0.8635459029159817, \"This work\": 1.0}, {\"x\": 0.8622775185761189, \"This work\": 1.0}, {\"x\": 0.8610128548011389, \"This work\": 1.0}, {\"x\": 0.8597518952446588, \"This work\": 1.0}, {\"x\": 0.8584946236559139, \"This work\": 1.0}, {\"x\": 0.8572410238790585, \"This work\": 1.0}, {\"x\": 0.8559910798524745, \"This work\": 1.0}, {\"x\": 0.8547447756080849, \"This work\": 1.0}, {\"x\": 0.8535020952706748, \"This work\": 1.0}, {\"x\": 0.8522630230572161, \"This work\": 1.0}, {\"x\": 0.8510275432762002, \"This work\": 1.0}, {\"x\": 0.8497956403269755, \"This work\": 1.0}, {\"x\": 0.8485672986990903, \"This work\": 1.0}, {\"x\": 0.8473425029716422, \"This work\": 1.0}, {\"x\": 0.8461212378126326, \"This work\": 1.0}, {\"x\": 0.8449034879783272, \"This work\": 1.0}, {\"x\": 0.8436892383126215, \"This work\": 1.0}, {\"x\": 0.8424784737464124, \"This work\": 1.0}, {\"x\": 0.8412711792969738, \"This work\": 1.0}, {\"x\": 0.84006734006734, \"This work\": 1.0}, {\"x\": 0.8388669412456922, \"This work\": 1.0}, {\"x\": 0.8376699681047507, \"This work\": 1.0}, {\"x\": 0.8364764060011733, \"This work\": 1.0}, {\"x\": 0.8352862403749581, \"This work\": 1.0}, {\"x\": 0.8340994567488509, \"This work\": 1.0}, {\"x\": 0.8329160407277584, \"This work\": 1.0}, {\"x\": 0.8317359779981666, \"This work\": 1.0}, {\"x\": 0.8305592543275633, \"This work\": 1.0}, {\"x\": 0.8293858555638661, \"This work\": 1.0}, {\"x\": 0.8282157676348549, \"This work\": 1.0}, {\"x\": 0.8270489765476091, \"This work\": 1.0}, {\"x\": 0.8258854683879511, \"This work\": 1.0}, {\"x\": 0.8247252293198909, \"This work\": 1.0}, {\"x\": 0.8235682455850801, \"This work\": 1.0}, {\"x\": 0.8224145035022661, \"This work\": 1.0}, {\"x\": 0.8212639894667544, \"This work\": 1.0}, {\"x\": 0.8201166899498726, \"This work\": 1.0}, {\"x\": 0.8189725914984408, \"This work\": 1.0}, {\"x\": 0.8178316807342456, \"This work\": 1.0}, {\"x\": 0.8166939443535188, \"This work\": 1.0}, {\"x\": 0.8155593691264199, \"This work\": 1.0}, {\"x\": 0.8144279418965237, \"This work\": 1.0}, {\"x\": 0.8132996495803114, \"This work\": 1.0}, {\"x\": 0.8121744791666667, \"This work\": 1.0}, {\"x\": 0.8110524177163756, \"This work\": 1.0}, {\"x\": 0.8099334523616297, \"This work\": 1.0}, {\"x\": 0.8088175703055352, \"This work\": 1.0}, {\"x\": 0.8077047588216252, \"This work\": 1.0}, {\"x\": 0.8065950052533744, \"This work\": 1.0}, {\"x\": 0.8054882970137208, \"This work\": 1.0}, {\"x\": 0.8043846215845892, \"This work\": 1.0}, {\"x\": 0.8032839665164198, \"This work\": 1.0}, {\"x\": 0.8021863194276987, \"This work\": 1.0}, {\"x\": 0.801091668004495, \"This work\": 1.0}, {\"x\": 0.8, \"This work\": 1.0}]}}, {\"mode\": \"vega-lite\"});\n",
       "</script>"
      ],
      "text/plain": [
       "alt.Chart(...)"
      ]
     },
     "metadata": {},
     "output_type": "display_data"
    }
   ],
   "source": [
    "# Display species/reaction by ID\n",
    "id_ = \"67: 1\"\n",
    "\n",
    "#   - Read in expanded mechanism\n",
    "mech_path = p_.stereo_mechanism(tag, ext=\"json\", path=p_.data(root_path))\n",
    "mech = automech.io.read(mech_path)\n",
    "\n",
    "#   - Display the reaction\n",
    "if \":\" in id_:\n",
    "    automech.display_reactions(mech, chans=[id_])\n",
    "else:\n",
    "    automech.display_species(mech, ids=[id_])"
   ]
  },
  {
   "cell_type": "code",
   "execution_count": 8,
   "metadata": {},
   "outputs": [
    {
     "name": "stdout",
     "output_type": "stream",
     "text": [
      "\n",
      "*********\n",
      "Reaction: C5H9(553) = C5H9(536)\n",
      "Translations:\n",
      "  smiles:\n",
      "    reactants = ['[CH]1CCCC1']\n",
      "    products = ['C=CCC[CH2]']\n",
      "Rate parameters:\n",
      "  This work:\n",
      "    C5H9(553) = C5H9(536)                                        1.000      0.000      0.000\n",
      "        PLOG  /    0.01000  7.030E+74     -19.80      52500/\n",
      "        PLOG  /     0.1000  5.530E+73     -19.00      55000/\n",
      "        PLOG  /      1.000  2.010E+63     -15.50      52500/\n",
      "        PLOG  /      5.000  6.020E+50     -11.50      48500/\n",
      "        PLOG  /      10.00  1.510E+46     -10.00      47300/\n",
      "        PLOG  /      20.00  6.020E+44     -9.500      47300/\n"
     ]
    },
    {
     "data": {
      "application/vnd.jupyter.widget-view+json": {
       "model_id": "1e0dfd8742d640feaa5841e73e3bfd5f",
       "version_major": 2,
       "version_minor": 0
      },
      "text/plain": [
       "HBox(children=(Image(value=b\"<?xml version='1.0' encoding='iso-8859-1...\", format='svg+xml', height='300', wid…"
      ]
     },
     "metadata": {},
     "output_type": "display_data"
    },
    {
     "data": {
      "text/html": [
       "\n",
       "<style>\n",
       "  #altair-viz-4185f9c8ffd243d6afff19113574ef0e.vega-embed {\n",
       "    width: 100%;\n",
       "    display: flex;\n",
       "  }\n",
       "\n",
       "  #altair-viz-4185f9c8ffd243d6afff19113574ef0e.vega-embed details,\n",
       "  #altair-viz-4185f9c8ffd243d6afff19113574ef0e.vega-embed details summary {\n",
       "    position: relative;\n",
       "  }\n",
       "</style>\n",
       "<div id=\"altair-viz-4185f9c8ffd243d6afff19113574ef0e\"></div>\n",
       "<script type=\"text/javascript\">\n",
       "  var VEGA_DEBUG = (typeof VEGA_DEBUG == \"undefined\") ? {} : VEGA_DEBUG;\n",
       "  (function(spec, embedOpt){\n",
       "    let outputDiv = document.currentScript.previousElementSibling;\n",
       "    if (outputDiv.id !== \"altair-viz-4185f9c8ffd243d6afff19113574ef0e\") {\n",
       "      outputDiv = document.getElementById(\"altair-viz-4185f9c8ffd243d6afff19113574ef0e\");\n",
       "    }\n",
       "\n",
       "    const paths = {\n",
       "      \"vega\": \"https://cdn.jsdelivr.net/npm/vega@5?noext\",\n",
       "      \"vega-lib\": \"https://cdn.jsdelivr.net/npm/vega-lib?noext\",\n",
       "      \"vega-lite\": \"https://cdn.jsdelivr.net/npm/vega-lite@5.20.1?noext\",\n",
       "      \"vega-embed\": \"https://cdn.jsdelivr.net/npm/vega-embed@6?noext\",\n",
       "    };\n",
       "\n",
       "    function maybeLoadScript(lib, version) {\n",
       "      var key = `${lib.replace(\"-\", \"\")}_version`;\n",
       "      return (VEGA_DEBUG[key] == version) ?\n",
       "        Promise.resolve(paths[lib]) :\n",
       "        new Promise(function(resolve, reject) {\n",
       "          var s = document.createElement('script');\n",
       "          document.getElementsByTagName(\"head\")[0].appendChild(s);\n",
       "          s.async = true;\n",
       "          s.onload = () => {\n",
       "            VEGA_DEBUG[key] = version;\n",
       "            return resolve(paths[lib]);\n",
       "          };\n",
       "          s.onerror = () => reject(`Error loading script: ${paths[lib]}`);\n",
       "          s.src = paths[lib];\n",
       "        });\n",
       "    }\n",
       "\n",
       "    function showError(err) {\n",
       "      outputDiv.innerHTML = `<div class=\"error\" style=\"color:red;\">${err}</div>`;\n",
       "      throw err;\n",
       "    }\n",
       "\n",
       "    function displayChart(vegaEmbed) {\n",
       "      vegaEmbed(outputDiv, spec, embedOpt)\n",
       "        .catch(err => showError(`Javascript Error: ${err.message}<br>This usually means there's a typo in your chart specification. See the javascript console for the full traceback.`));\n",
       "    }\n",
       "\n",
       "    if(typeof define === \"function\" && define.amd) {\n",
       "      requirejs.config({paths});\n",
       "      let deps = [\"vega-embed\"];\n",
       "      require(deps, displayChart, err => showError(`Error loading script: ${err.message}`));\n",
       "    } else {\n",
       "      maybeLoadScript(\"vega\", \"5\")\n",
       "        .then(() => maybeLoadScript(\"vega-lite\", \"5.20.1\"))\n",
       "        .then(() => maybeLoadScript(\"vega-embed\", \"6\"))\n",
       "        .catch(showError)\n",
       "        .then(() => displayChart(vegaEmbed));\n",
       "    }\n",
       "  })({\"config\": {\"view\": {\"continuousWidth\": 300, \"continuousHeight\": 300}}, \"data\": {\"name\": \"data-a1399536599e6f4a51a9b8f242fd9d8e\"}, \"mark\": {\"type\": \"line\"}, \"encoding\": {\"color\": {\"value\": \"#0066ff\"}, \"x\": {\"field\": \"x\", \"title\": \"1000/\\ud835\\udc47 (1/K)\", \"type\": \"quantitative\"}, \"y\": {\"axis\": {\"format\": \".1e\", \"values\": [1e-06, 1e-05, 0.0001, 0.001, 0.01, 0.1, 1, 10, 100, 1000, 10000, 100000, 1000000, 10000000]}, \"field\": \"value\", \"scale\": {\"type\": \"log\"}, \"title\": \"\\ud835\\udc58 (1/s)\", \"type\": \"quantitative\"}}, \"transform\": [{\"fold\": [\"This work\"]}], \"$schema\": \"https://vega.github.io/schema/vega-lite/v5.20.1.json\", \"datasets\": {\"data-a1399536599e6f4a51a9b8f242fd9d8e\": [{\"x\": 2.5, \"This work\": 1.9371966200276784e-06}, {\"x\": 2.489398852581691, \"This work\": 2.3999478430762373e-06}, {\"x\": 2.4788872329855938, \"This work\": 2.96704230932804e-06}, {\"x\": 2.468464011872372, \"This work\": 3.6605930225704378e-06}, {\"x\": 2.458128078817734, \"This work\": 4.5070944759502295e-06}, {\"x\": 2.4478783419180767, \"This work\": 5.538229072663282e-06}, {\"x\": 2.43771372740596, \"This work\": 6.791810275085497e-06}, {\"x\": 2.4276331792751153, \"This work\": 8.312883603905657e-06}, {\"x\": 2.4176356589147288, \"This work\": 1.0155009536191405e-05}, {\"x\": 2.407720144752714, \"This work\": 1.2381755634386667e-05}, {\"x\": 2.397885631907737, \"This work\": 1.5068428913438155e-05}, {\"x\": 2.388131131849725, \"This work\": 1.830408355994948e-05}, {\"x\": 2.378455672068637, \"This work\": 2.2193843697858545e-05}, {\"x\": 2.368858295751246, \"This work\": 2.6861585995249242e-05}, {\"x\": 2.359338061465721, \"This work\": 3.2453032575454726e-05}, {\"x\": 2.349894042853779, \"This work\": 3.913931098501136e-05}, {\"x\": 2.3405253283302065, \"This work\": 4.712104493723783e-05}, {\"x\": 2.3312310207895353, \"This work\": 5.663304725298143e-05}, {\"x\": 2.3220102373196836, \"This work\": 6.794969492287196e-05}, {\"x\": 2.312862108922364, \"This work\": 8.139107558575587e-05}, {\"x\": 2.303785780240074, \"This work\": 9.733000502725025e-05}, {\"x\": 2.294780409289492, \"This work\": 0.00011620002662619381}, {\"x\": 2.2858451672010993, \"This work\": 0.00013850451609480444}, {\"x\": 2.276979237964864, \"This work\": 0.00016482702845461232}, {\"x\": 2.268181818181818, \"This work\": 0.00019584303905274895}, {\"x\": 2.2594521168213717, \"This work\": 0.00023233324664449442}, {\"x\": 2.250789354984213, \"This work\": 0.000275198624244572}, {\"x\": 2.242192765670636, \"This work\": 0.0003254774226825902}, {\"x\": 2.233661593554163, \"This work\": 0.00038436435269200103}, {\"x\": 2.2251950947603123, \"This work\": 0.000453232194026325}, {\"x\": 2.216792536650378, \"This work\": 0.0005336561046438489}, {\"x\": 2.2084531976100905, \"This work\": 0.0006274409295497736}, {\"x\": 2.2001763668430336, \"This work\": 0.0007366518375528819}, {\"x\": 2.19196134416868, \"This work\": 0.0008636486451067171}, {\"x\": 2.1838074398249456, \"This work\": 0.001011124219689517}, {\"x\": 2.1757139742751255, \"This work\": 0.0011821473909636462}, {\"x\": 2.167680278019114, \"This work\": 0.0013802108363759195}, {\"x\": 2.159705691408786, \"This work\": 0.0016092844490511805}, {\"x\": 2.1517895644674425, \"This work\": 0.0018738747399287502}, {\"x\": 2.1439312567132114, \"This work\": 0.0021790908732348393}, {\"x\": 2.1361301369863015, \"This work\": 0.0025307179847124076}, {\"x\": 2.128385583280017, \"This work\": 0.0029352984856844664}, {\"x\": 2.1206969825754354, \"This work\": 0.0034002221131479754}, {\"x\": 2.1130637306796527, \"This work\": 0.003933825546823495}, {\"x\": 2.105485232067511, \"This work\": 0.0045455024785598305}, {\"x\": 2.0979608997267185, \"This work\": 0.005245825087850976}, {\"x\": 2.0904901550062838, \"This work\": 0.00604667794960046}, {\"x\": 2.0830724274681693, \"This work\": 0.006961405476798161}, {\"x\": 2.0757071547420964, \"This work\": 0.00800497408158578}, {\"x\": 2.0683937823834198, \"This work\": 0.009194150323404428}, {\"x\": 2.0611317637339943, \"This work\": 0.01054769640266137}, {\"x\": 2.0539205597859644, \"This work\": 0.012086584452736254}, {\"x\": 2.0467596390484006, \"This work\": 0.013834231182277262}, {\"x\": 2.039648477416718, \"This work\": 0.01581675452371475}, {\"x\": 2.0325865580448066, \"This work\": 0.01806325405283627}, {\"x\": 2.025573371219809, \"This work\": 0.020606117058203945}, {\"x\": 2.0186084142394822, \"This work\": 0.023481352258225348}, {\"x\": 2.011691191292078, \"This work\": 0.026728953287873513}, {\"x\": 2.00482121333869, \"This work\": 0.030393294206445817}, {\"x\": 1.997997997997998, \"This work\": 0.03452355941237934}, {\"x\": 1.9912210694333599, \"This work\": 0.03917421049104658}, {\"x\": 1.9844899582421953, \"This work\": 0.04440549266662392}, {\"x\": 1.977804201347602, \"This work\": 0.05028398367958039}, {\"x\": 1.9711633418921588, \"This work\": 0.05688318806702165}, {\"x\": 1.9645669291338583, \"This work\": 0.06428417998404293}, {\"x\": 1.958014518344124, \"This work\": 0.07257629787029751}, {\"x\": 1.9515056707078609, \"This work\": 0.08185789443714896}, {\"x\": 1.9450399532254923, \"This work\": 0.09223714562689797}, {\"x\": 1.9386169386169387, \"This work\": 0.10383292237660863}, {\"x\": 1.9322362052274926, \"This work\": 0.11677572920480689}, {\"x\": 1.925897336935546, \"This work\": 0.13120871382968705}, {\"x\": 1.9195999230621275, \"This work\": 0.14728875222225143}, {\"x\": 1.9133435582822087, \"This work\": 0.16518761369677953}, {\"x\": 1.9071278425377411, \"This work\": 0.185093210844062}, {\"x\": 1.900952380952381, \"This work\": 0.20721093931957765}, {\"x\": 1.8948167837478642, \"This work\": 0.23176511270910286}, {\"x\": 1.8887206661619982, \"This work\": 0.259000497907686}, {\"x\": 1.8826636483682324, \"This work\": 0.28918395666435215}, {\"x\": 1.8766453553967657, \"This work\": 0.3226061991638885}, {\"x\": 1.8706654170571697, \"This work\": 0.3595836557381985}, {\"x\": 1.8647234678624816, \"This work\": 0.40046047302280935}, {\"x\": 1.8588191469547402, \"This work\": 0.4456106410985583}, {\"x\": 1.8529520980319347, \"This work\": 0.4954402583839631}, {\"x\": 1.847121969276328, \"This work\": 0.5503899412699068}, {\"x\": 1.8413284132841328, \"This work\": 0.6109373857143254}, {\"x\": 1.8355710869965054, \"This work\": 0.6776000882404402}, {\"x\": 1.8298496516318299, \"This work\": 0.7509382340069745}, {\"x\": 1.8241637726192654, \"This work\": 0.8315577598421282}, {\"x\": 1.818513119533528, \"This work\": 0.9201136003546875}, {\"x\": 1.812897366030881, \"This work\": 1.0173131254545038}, {\"x\": 1.8073161897863093, \"This work\": 1.123919777830353}, {\"x\": 1.801769272431847, \"This work\": 1.240756919145385}, {\"x\": 1.7962562994960403, \"This work\": 1.3687118939178777}, {\"x\": 1.790776960344518, \"This work\": 1.5087403202579006}, {\"x\": 1.785330948121646, \"This work\": 1.6618706168276671}, {\"x\": 1.7799179596932406, \"This work\": 1.829208775583919}, {\"x\": 1.7745376955903274, \"This work\": 2.0119433900448724}, {\"x\": 1.7691898599539089, \"This work\": 2.2113509490003525}, {\"x\": 1.7638741604807353, \"This work\": 2.4288014057516696}, {\"x\": 1.7585903083700443, \"This work\": 2.665764033127038}, {\"x\": 1.7533380182712577, \"This work\": 2.923813574667179}, {\"x\": 1.7481170082326152, \"This work\": 3.2046367025150015}, {\"x\": 1.7429269996507162, \"This work\": 3.510038792671179}, {\"x\": 1.737767717220965, \"This work\": 3.841951028393033}, {\"x\": 1.732638888888889, \"This work\": 4.2024378426183135}, {\"x\": 1.7275402458023195, \"This work\": 4.5937047103856425}, {\"x\": 1.7224715222644116, \"This work\": 5.01810630229999}, {\"x\": 1.7174324556874891, \"This work\": 5.478155010154283}, {\"x\": 1.7124227865477006, \"This work\": 5.9765298558641735}, {\"x\": 1.7074422583404618, \"This work\": 6.516085794905773}, {\"x\": 1.702490617536677, \"This work\": 7.099863425459361}, {\"x\": 1.6975676135397177, \"This work\": 7.731099114461105}, {\"x\": 1.692672998643148, \"This work\": 8.413235551744325}, {\"x\": 1.6878065279891763, \"This work\": 9.149932743413661}, {\"x\": 1.6829679595278246, \"This work\": 9.945079455539537}, {\"x\": 1.678157053976795, \"This work\": 10.802805119182644}, {\"x\": 1.6733735747820253, \"This work\": 11.727492207663326}, {\"x\": 1.6686172880789165, \"This work\": 12.72378909687473}, {\"x\": 1.6638879626542182, \"This work\": 13.796623419299916}, {\"x\": 1.6591853699085621, \"This work\": 14.951215922236772}, {\"x\": 1.6545092838196285, \"This work\": 16.19309484055384}, {\"x\": 1.6498594809059348, \"This work\": 17.5281107940982}, {\"x\": 1.6452357401912299, \"This work\": 18.962452219654434}, {\"x\": 1.6406378431694886, \"This work\": 20.502661347104457}, {\"x\": 1.6360655737704917, \"This work\": 22.155650729170986}, {\"x\": 1.6315187183259767, \"This work\": 23.928720333835795}, {\"x\": 1.6269970655363548, \"This work\": 25.829575208205554}, {\"x\": 1.6225004064379778, \"This work\": 27.866343722263114}, {\"x\": 1.6180285343709468, \"This work\": 30.047596400578183}, {\"x\": 1.6135812449474536, \"This work\": 32.38236534966589}, {\"x\": 1.6091583360206385, \"This work\": 34.88016428827608}, {\"x\": 1.6047596076539636, \"This work\": 37.55100918745931}, {\"x\": 1.6003848620910839, \"This work\": 40.40543952680441}, {\"x\": 1.5960339037262115, \"This work\": 43.4545401727646}, {\"x\": 1.5917065390749603, \"This work\": 46.70996388448335}, {\"x\": 1.5874025767456659, \"This work\": 50.18395445201294}, {\"x\": 1.5831218274111676, \"This work\": 53.88937047126943}, {\"x\": 1.5788641037810474, \"This work\": 57.83970975949893}, {\"x\": 1.5746292205743138, \"This work\": 62.04913441444505}, {\"x\": 1.5704169944925255, \"This work\": 66.53249651978824}, {\"x\": 1.5662272441933458, \"This work\": 71.30536449880186}, {\"x\": 1.5620597902645172, \"This work\": 76.38405011751912}, {\"x\": 1.5579144551982518, \"This work\": 81.78563613802402}, {\"x\": 1.5537910633660286, \"This work\": 87.52800462179856}, {\"x\": 1.549689440993789, \"This work\": 93.6298658823432}, {\"x\": 1.5456094161375251, \"This work\": 100.11078808555904}, {\"x\": 1.5415508186592526, \"This work\": 106.9912274956443}, {\"x\": 1.5375134802033583, \"This work\": 114.29255936348287}, {\"x\": 1.533497234173325, \"This work\": 122.03710945373734}, {\"x\": 1.5295019157088123, \"This work\": 130.24818620606956}, {\"x\": 1.5255273616631, \"This work\": 138.9501135250932}, {\"x\": 1.5215734105808814, \"This work\": 148.16826419286107}, {\"x\": 1.517639902676399, \"This work\": 157.92909389685207}, {\"x\": 1.5137266798119218, \"This work\": 168.26017586557998}, {\"x\": 1.5098335854765506, \"This work\": 179.19023610311072}, {\"x\": 1.5059604647653537, \"This work\": 190.74918921288753}, {\"x\": 1.50210716435882, \"This work\": 202.96817480043458}, {\"x\": 1.4982735325026273, \"This work\": 215.87959444359723}, {\"x\": 1.494459418987721, \"This work\": 229.51714921812777}, {\"x\": 1.4906646751306947, \"This work\": 243.91587776552632}, {\"x\": 1.4868891537544697, \"This work\": 259.11219488916606}, {\"x\": 1.4831327091692674, \"This work\": 275.14393066383525}, {\"x\": 1.4793951971538688, \"This work\": 292.0503700429621}, {\"x\": 1.475676474937158, \"This work\": 309.87229294685443}, {\"x\": 1.471976401179941, \"This work\": 328.65201481446053}, {\"x\": 1.46829483595704, \"This work\": 348.43342760020863}, {\"x\": 1.4646316407396538, \"This work\": 369.2620411966517}, {\"x\": 1.460986678377983, \"This work\": 391.1850252627422}, {\"x\": 1.457359813084112, \"This work\": 414.2512514367038}, {\"x\": 1.4537509104151494, \"This work\": 438.51133591159174}, {\"x\": 1.4501598372566114, \"This work\": 464.01768235082045}, {\"x\": 1.4465864618060589, \"This work\": 490.8245251200244}, {\"x\": 1.4430306535569695, \"This work\": 518.9879728108826}, {\"x\": 1.4394922832828503, \"This work\": 548.5660520316258}, {\"x\": 1.4359712230215829, \"This work\": 579.6187514382128}, {\"x\": 1.432467346059997, \"This work\": 612.2080659793428}, {\"x\": 1.4289805269186713, \"This work\": 646.3980413276888}, {\"x\": 1.4255106413369518, \"This work\": 682.2548184690414}, {\"x\": 1.4220575662581931, \"This work\": 719.8466784202111}, {\"x\": 1.4186211798152097, \"This work\": 759.2440870459601}, {\"x\": 1.4152013613159389, \"This work\": 800.5197399444057}, {\"x\": 1.4117979912293113, \"This work\": 843.7486073697643}, {\"x\": 1.4084109511713239, \"This work\": 889.0079791606062}, {\"x\": 1.4050401238913135, \"This work\": 936.3775096411883}, {\"x\": 1.401685393258427, \"This work\": 985.939262462802}, {\"x\": 1.3983466442482835, \"This work\": 1037.7777553515791}, {\"x\": 1.3950237629298294, \"This work\": 1091.9800047285105}, {\"x\": 1.3917166364523776, \"This work\": 1148.6355701671037}, {\"x\": 1.3884251530328326, \"This work\": 1207.8365986534259}, {\"x\": 1.385149201943095, \"This work\": 1269.6778686129637}, {\"x\": 1.3818886734976463, \"This work\": 1334.2568336682298}, {\"x\": 1.3786434590413041, \"This work\": 1401.6736660906738}, {\"x\": 1.3754134509371556, \"This work\": 1472.0312999100595}, {\"x\": 1.3721985425546541, \"This work\": 1545.4354736442338}, {\"x\": 1.3689986282578874, \"This work\": 1621.9947726117257}, {\"x\": 1.3658136033940058, \"This work\": 1701.820670789608}, {\"x\": 1.3626433642818132, \"This work\": 1785.0275721785551}, {\"x\": 1.3594878082005177, \"This work\": 1871.732851637045}, {\"x\": 1.3563468333786357, \"This work\": 1962.056895146378}, {\"x\": 1.3532203389830508, \"This work\": 2056.1231394681076}, {\"x\": 1.3501082251082253, \"This work\": 2154.058111155341}, {\"x\": 1.3470103927655552, \"This work\": 2255.9914648794515}, {\"x\": 1.343926743872879, \"This work\": 2362.0560210334643}, {\"x\": 1.340857181244122, \"This work\": 2472.3878025737686}, {\"x\": 1.3378016085790885, \"This work\": 2587.1260710614865}, {\"x\": 1.3347599304533906, \"This work\": 2706.4133618652177}, {\"x\": 1.3317320523085137, \"This work\": 2830.3955184868664}, {\"x\": 1.3287178804420183, \"This work\": 2959.2217259724707}, {\"x\": 1.3257173219978746, \"This work\": 3093.0445433701157}, {\"x\": 1.3227302849569251, \"This work\": 3232.019935197432}, {\"x\": 1.3197566781274794, \"This work\": 3376.3073018811106}, {\"x\": 1.3167964111360337, \"This work\": 3526.069509131672}, {\"x\": 1.3138493944181149, \"This work\": 3681.4729162165877}, {\"x\": 1.3109155392092475, \"This work\": 3842.6874030956246}, {\"x\": 1.307994757536042, \"This work\": 4009.8863963825256}, {\"x\": 1.3050869622074017, \"This work\": 4183.246894097591}, {\"x\": 1.3021920668058453, \"This work\": 4362.949489176459}, {\"x\": 1.299309985678948, \"This work\": 4549.178391700459}, {\"x\": 1.2964406339308912, \"This work\": 4742.121449815102}, {\"x\": 1.2935839274141283, \"This work\": 4941.970169303257}, {\"x\": 1.2907397827211589, \"This work\": 5148.9197317806575}, {\"x\": 1.28790811717641, \"This work\": 5363.169011481837}, {\"x\": 1.2850888488282255, \"This work\": 5584.920590605339}, {\"x\": 1.282281896440961, \"This work\": 5814.38077318774}, {\"x\": 1.2794871794871794, \"This work\": 6051.75959747703}, {\"x\": 1.2767046181399513, \"This work\": 6297.270846776151}, {\"x\": 1.273934133265254, \"This work\": 6551.132058729095}, {\"x\": 1.2711756464144695, \"This work\": 6813.564533021999}, {\"x\": 1.2684290798169802, \"This work\": 7084.793337473206}, {\"x\": 1.26569435637286, \"This work\": 7365.047312486803}, {\"x\": 1.2629713996456593, \"This work\": 7654.559073845236}, {\"x\": 1.2602601338552848, \"This work\": 7953.565013817391}, {\"x\": 1.2575604838709677, \"This work\": 8262.305300559969}, {\"x\": 1.2548723752043254, \"This work\": 8581.023875790126}, {\"x\": 1.2521957340025094, \"This work\": 8909.968450709533}, {\"x\": 1.2495304870414423, \"This work\": 9249.390500159898}, {\"x\": 1.2468765617191406, \"This work\": 9599.545254991945}, {\"x\": 1.244233886049121, \"This work\": 9960.691692630464}, {\"x\": 1.241602388653894, \"This work\": 10333.092525819344}, {\"x\": 1.238981998758535, \"This work\": 10717.014189531383}, {\"x\": 1.236372646184341, \"This work\": 11112.726826029435}, {\"x\": 1.233774261342564, \"This work\": 11520.504268065479}, {\"x\": 1.231186775228226, \"This work\": 11940.624020206831}, {\"x\": 1.2286101194140095, \"This work\": 12373.367238278433}, {\"x\": 1.2260442260442261, \"This work\": 12819.01870691247}, {\"x\": 1.2234890278288588, \"This work\": 13277.866815197149}, {\"x\": 1.2209444580376805, \"This work\": 13750.203530417937}, {\"x\": 1.218410450494445, \"This work\": 14236.324369885511}, {\"x\": 1.21588693957115, \"This work\": 14736.528370846598}, {\"x\": 1.2133738601823707, \"This work\": 15251.118058473769}, {\"x\": 1.2108711477796652, \"This work\": 15780.399411933313}, {\"x\": 1.2083787383460467, \"This work\": 16324.68182852969}, {\"x\": 1.205896568390527, \"This work\": 16884.278085927737}, {\"x\": 1.203424574942723, \"This work\": 17459.50430245427}, {\"x\": 1.2009626955475332, \"This work\": 18050.67989548224}, {\"x\": 1.1985108682598775, \"This work\": 18658.12753790164}, {\"x\": 1.1960690316395013, \"This work\": 19282.173112683224}, {\"x\": 1.1936371247458437, \"This work\": 19923.145665540975}, {\"x\": 1.1912150871329674, \"This work\": 20581.377355702476}, {\"x\": 1.1888028588445505, \"This work\": 21257.20340479546}, {\"x\": 1.1864003804089398, \"This work\": 21950.962043861633}, {\"x\": 1.1840075928342626, \"This work\": 22662.994458509354}, {\"x\": 1.1816244376035994, \"This work\": 23393.644732217723}, {\"x\": 1.1792508566702113, \"This work\": 24143.25978780704}, {\"x\": 1.1768867924528301, \"This work\": 24912.189327089647}, {\"x\": 1.174532187830999, \"This work\": 25700.78576871899}, {\"x\": 1.1721869861404746, \"This work\": 26509.404184253322}, {\"x\": 1.169851131168679, \"This work\": 27338.402232453573}, {\"x\": 1.1675245671502108, \"This work\": 28188.140091834903}, {\"x\": 1.165207238762405, \"This work\": 29058.980391493147}, {\"x\": 1.162899091120951, \"This work\": 29951.288140227814}, {\"x\": 1.1606000697755552, \"This work\": 30865.43065398581}, {\"x\": 1.1583101207056639, \"This work\": 31801.77748164856}, {\"x\": 1.1560291903162285, \"This work\": 32760.7003291896}, {\"x\": 1.153757225433526, \"This work\": 33742.572982227415}, {\"x\": 1.1514941733010269, \"This work\": 34747.77122700178}, {\"x\": 1.149239981575311, \"This work\": 35776.67276980154}, {\"x\": 1.146994598322032, \"This work\": 36829.657154873224}, {\"x\": 1.1447579720119294, \"This work\": 37907.10568084032}, {\"x\": 1.1425300515168861, \"This work\": 39009.401315665375}, {\"x\": 1.1403107861060329, \"This work\": 40136.9286101851}, {\"x\": 1.1381001254418976, \"This work\": 41290.073610253676}, {\"x\": 1.135898019576599, \"This work\": 42469.22376752582}, {\"x\": 1.133704418948086, \"This work\": 43674.76784891561}, {\"x\": 1.1315192743764173, \"This work\": 44907.095844765776}, {\"x\": 1.1293425370600882, \"This work\": 46166.59887576383}, {\"x\": 1.1271741585723967, \"This work\": 47453.66909864139}, {\"x\": 1.1250140908578514, \"This work\": 48768.69961069549}, {\"x\": 1.1228622862286228, \"This work\": 50112.08435316815}, {\"x\": 1.1207186973610332, \"This work\": 51484.21801352549}, {\"x\": 1.118583277292087, \"This work\": 52885.49592667375}, {\"x\": 1.1164559794160422, \"This work\": 54316.31397515387}, {\"x\": 1.1143367574810183, \"This work\": 55777.06848835468}, {\"x\": 1.112225565585646, \"This work\": 57268.15614078622}, {\"x\": 1.110122358175751, \"This work\": 58789.973849454465}, {\"x\": 1.1080270900410791, \"This work\": 60342.91867038122}, {\"x\": 1.1059397163120568, \"This work\": 61927.3876943094}, {\"x\": 1.1038601924565867, \"This work\": 63543.77794163981}, {\"x\": 1.1017884742768824, \"This work\": 65192.48625664049}, {\"x\": 1.0997245179063362, \"This work\": 66873.90920097407}, {\"x\": 1.0976682798064232, \"This work\": 68588.44294658699}, {\"x\": 1.0956197167636403, \"This work\": 70336.48316800458}, {\"x\": 1.0935787858864783, \"This work\": 72118.42493407856}, {\"x\": 1.091545444602428, \"This work\": 73934.66259923004}, {\"x\": 1.0895196506550218, \"This work\": 75785.58969423416}, {\"x\": 1.0875013621009044, \"This work\": 77671.5988165933}, {\"x\": 1.0854905373069395, \"This work\": 79593.08152054198}, {\"x\": 1.0834871349473456, \"This work\": 81550.42820673149}, {\"x\": 1.081491114000867, \"This work\": 83544.02801163861}, {\"x\": 1.079502433747972, \"This work\": 85574.26869674635}, {\"x\": 1.0775210537680848, \"This work\": 87641.53653754048}, {\"x\": 1.0755469339368466, \"This work\": 89746.21621236985}, {\"x\": 1.0735800344234079, \"This work\": 91888.69069121491}, {\"x\": 1.0716203156877484, \"This work\": 94069.34112441295}, {\"x\": 1.069667738478028, \"This work\": 96288.54673138294}, {\"x\": 1.0677222638279662, \"This work\": 98546.68468939839}, {\"x\": 1.0657838530542503, \"This work\": 100844.13002245201}, {\"x\": 1.063852467753971, \"This work\": 103181.25549026043}, {\"x\": 1.0619280698020857, \"This work\": 105558.43147745126}, {\"x\": 1.0600106213489113, \"This work\": 107976.0258829802}, {\"x\": 1.058100084817642, \"This work\": 110434.40400982146}, {\"x\": 1.0561964229018945, \"This work\": 112933.92845497862}, {\"x\": 1.0542995985632793, \"This work\": 115474.95899985758}, {\"x\": 1.0524095750289992, \"This work\": 118057.85250104795}, {\"x\": 1.0505263157894738, \"This work\": 120682.96278155518}, {\"x\": 1.0486497845959861, \"This work\": 123350.64052252947}, {\"x\": 1.0467799454583597, \"This work\": 126061.23315553128}, {\"x\": 1.0449167626426552, \"This work\": 128815.08475537901}, {\"x\": 1.0430602006688963, \"This work\": 131612.535933619}, {\"x\": 1.041210224308816, \"This work\": 134453.92373266275}, {\"x\": 1.0393667985836286, \"This work\": 137339.58152062946}, {\"x\": 1.0375298887618256, \"This work\": 140269.83888693716}, {\"x\": 1.0356994603569947, \"This work\": 143245.0215386814}, {\"x\": 1.0338754791256604, \"This work\": 146265.45119784423}, {\"x\": 1.03205791106515, \"This work\": 149331.44549936894}, {\"x\": 1.0302467224114793, \"This work\": 152443.3178901431}, {\"x\": 1.028441879637263, \"This work\": 155601.37752892505}, {\"x\": 1.0266433494496452, \"This work\": 158805.92918725568}, {\"x\": 1.0248510987882522, \"This work\": 162057.27315138796}, {\"x\": 1.0230650948231677, \"This work\": 165355.70512527434}, {\"x\": 1.0212853049529267, \"This work\": 168701.5161346452}, {\"x\": 1.0195116968025335, \"This work\": 172094.9924322173}, {\"x\": 1.017744238221497, \"This work\": 175536.4154040623}, {\"x\": 1.0159828972818894, \"This work\": 179026.06147717166}, {\"x\": 1.0142276422764227, \"This work\": 182564.2020282526}, {\"x\": 1.0124784417165467, \"This work\": 186151.10329378396}, {\"x\": 1.0107352643305652, \"This work\": 189787.02628136685}, {\"x\": 1.0089980790617734, \"This work\": 193472.22668239864}, {\"x\": 1.0072668550666128, \"This work\": 197206.95478610432}, {\"x\": 1.0055415617128465, \"This work\": 200991.45539495017}, {\"x\": 1.0038221685777509, \"This work\": 204825.96774147204}, {\"x\": 1.00210864544633, \"This work\": 208710.7254065438}, {\"x\": 1.000400962309543, \"This work\": 212645.95623911676}, {\"x\": 0.9986990893625538, \"This work\": 216631.88227745204}, {\"x\": 0.997002997002997, \"This work\": 220668.71967187518}, {\"x\": 0.995312655829261, \"This work\": 224756.67860907494}, {\"x\": 0.9936280366387894, \"This work\": 228895.9632379746}, {\"x\": 0.991949110426399, \"This work\": 233086.77159719396}, {\"x\": 0.9902758483826156, \"This work\": 237329.2955441284}, {\"x\": 0.9886082218920258, \"This work\": 241623.72068566355}, {\"x\": 0.9869462025316456, \"This work\": 245970.22631055096}, {\"x\": 0.9852897620693061, \"This work\": 250368.98532345903}, {\"x\": 0.983638872462054, \"This work\": 254820.16418072287}, {\"x\": 0.9819935058545705, \"This work\": 259323.92282780816}, {\"x\": 0.9803536345776032, \"This work\": 263880.41463851096}, {\"x\": 0.9787192311464157, \"This work\": 268489.78635590454}, {\"x\": 0.977090268259252, \"This work\": 273152.1780350534}, {\"x\": 0.9754667187958167, \"This work\": 277867.7229875064}, {\"x\": 0.973848555815769, \"This work\": 282636.54772758763}, {\"x\": 0.9722357525572334, \"This work\": 287458.77192049223}, {\"x\": 0.9706282824353237, \"This work\": 292334.5083322056}, {\"x\": 0.9690261190406835, \"This work\": 297263.86278125073}, {\"x\": 0.9674292361380379, \"This work\": 302246.9340922855}, {\"x\": 0.9658376076647633, \"This work\": 307283.8140515469}, {\"x\": 0.9642512077294686, \"This work\": 312374.58736416063}, {\"x\": 0.9626700106105913, \"This work\": 317519.3316133207}, {\"x\": 0.9610939907550078, \"This work\": 322718.1172213475}, {\"x\": 0.9595231227766562, \"This work\": 327971.0074126315}, {\"x\": 0.9579573814551738, \"This work\": 333278.05817846645}, {\"x\": 0.9563967417345474, \"This work\": 338639.3182437806}, {\"x\": 0.9548411787217759, \"This work\": 344054.82903576683}, {\"x\": 0.9532906676855479, \"This work\": 349524.62465441774}, {\"x\": 0.9517451840549304, \"This work\": 355048.7318449678}, {\"x\": 0.9502047034180711, \"This work\": 360627.16997224087}, {\"x\": 0.9486692015209126, \"This work\": 366259.9509969148}, {\"x\": 0.9471386542659199, \"This work\": 371947.07945369004}, {\"x\": 0.9456130377108204, \"This work\": 377688.5524313681}, {\"x\": 0.944092328067354, \"This work\": 383484.35955484636}, {\"x\": 0.9425765017000377, \"This work\": 389334.4829690119}, {\"x\": 0.9410655351249411, \"This work\": 395238.8973245444}, {\"x\": 0.939559405008473, \"This work\": 401197.5697656194}, {\"x\": 0.9380580881661811, \"This work\": 407210.4599195098}, {\"x\": 0.9365615615615616, \"This work\": 413277.51988807914}, {\"x\": 0.9350698023048816, \"This work\": 419398.6942411634}, {\"x\": 0.9335827876520113, \"This work\": 425573.9200118336}, {\"x\": 0.932100495003269, \"This work\": 431803.1266935337}, {\"x\": 0.9306229019022755, \"This work\": 438086.2362390852}, {\"x\": 0.9291499860348198, \"This work\": 444423.1630615525}, {\"x\": 0.9276817252277375, \"This work\": 450813.8140369544}, {\"x\": 0.9262180974477958, \"This work\": 457258.0885088254}, {\"x\": 0.9247590808005931, \"This work\": 463755.87829459994}, {\"x\": 0.9233046535294661, \"This work\": 470307.0676938224}, {\"x\": 0.9218547940144096, \"This work\": 476911.5334981621}, {\"x\": 0.9204094807710043, \"This work\": 483569.1450032344}, {\"x\": 0.9189686924493554, \"This work\": 490279.7640221989}, {\"x\": 0.9175324078330422, \"This work\": 497043.2449011352}, {\"x\": 0.9161006058380761, \"This work\": 503859.43453617644}, {\"x\": 0.9146732655118688, \"This work\": 510728.1723923887}, {\"x\": 0.9132503660322109, \"This work\": 517649.2905243812}, {\"x\": 0.9118318867062587, \"This work\": 524622.6135986324}, {\"x\": 0.9104178069695312, \"This work\": 531647.9589175165}, {\"x\": 0.9090081063849168, \"This work\": 538725.1364450143}, {\"x\": 0.9076027646416881, \"This work\": 545853.9488340917}, {\"x\": 0.9062017615545265, \"This work\": 553034.1914557309}, {\"x\": 0.9048050770625566, \"This work\": 560265.6524295895}, {\"x\": 0.9034126912283879, \"This work\": 567548.1126562858}, {\"x\": 0.9020245842371657, \"This work\": 574881.3458512705}, {\"x\": 0.900640736395632, \"This work\": 582265.1185802855}, {\"x\": 0.8992611281311947, \"This work\": 589699.1902963737}, {\"x\": 0.8978857399910031, \"This work\": 597183.3133784413}, {\"x\": 0.8965145526410349, \"This work\": 604717.2331713288}, {\"x\": 0.8951475468651897, \"This work\": 612300.6880273886}, {\"x\": 0.8937847035643919, \"This work\": 619933.4093495408}, {\"x\": 0.8924260037557007, \"This work\": 627615.1216357871}, {\"x\": 0.8910714285714286, \"This work\": 635345.5425251627}, {\"x\": 0.8897209592582688, \"This work\": 643124.3828451055}, {\"x\": 0.8883745771764288, \"This work\": 650951.3466602168}, {\"x\": 0.8870322637987735, \"This work\": 658826.1313223969}, {\"x\": 0.8856940007099752, \"This work\": 666748.4275223293}, {\"x\": 0.8843597696056712, \"This work\": 674717.9193422876}, {\"x\": 0.8830295522916298, \"This work\": 682734.2843102578}, {\"x\": 0.8817033306829226, \"This work\": 690797.1934553287}, {\"x\": 0.880381086803105, \"This work\": 698906.3113643496}, {\"x\": 0.8790628027834052, \"This work\": 707061.296239812}, {\"x\": 0.8777484608619173, \"This work\": 715261.7999589556}, {\"x\": 0.876438043382805, \"This work\": 723507.4681340475}, {\"x\": 0.8751315327955104, \"This work\": 731797.94017383}, {\"x\": 0.8738289116539708, \"This work\": 740132.8493461052}, {\"x\": 0.8725301626158419, \"This work\": 748511.8228414326}, {\"x\": 0.8712352684417286, \"This work\": 756934.4818379155}, {\"x\": 0.8699442119944213, \"This work\": 765400.4415670519}, {\"x\": 0.868656976238141, \"This work\": 773909.3113806242}, {\"x\": 0.8673735442377891, \"This work\": 782460.6948186032}, {\"x\": 0.8660938991582054, \"This work\": 791054.1896780417}, {\"x\": 0.8648180242634316, \"This work\": 799689.3880829327}, {\"x\": 0.8635459029159817, \"This work\": 808365.8765550009}, {\"x\": 0.8622775185761189, \"This work\": 817083.2360854199}, {\"x\": 0.8610128548011389, \"This work\": 825841.0422074051}, {\"x\": 0.8597518952446588, \"This work\": 834638.8650696775}, {\"x\": 0.8584946236559139, \"This work\": 843476.2695107568}, {\"x\": 0.8572410238790585, \"This work\": 852352.8151340799}, {\"x\": 0.8559910798524745, \"This work\": 861268.0563838924}, {\"x\": 0.8547447756080849, \"This work\": 870221.5426219087}, {\"x\": 0.8535020952706748, \"This work\": 879212.8182047064}, {\"x\": 0.8522630230572161, \"This work\": 888241.4225618301}, {\"x\": 0.8510275432762002, \"This work\": 897306.890274582}, {\"x\": 0.8497956403269755, \"This work\": 906408.7511554701}, {\"x\": 0.8485672986990903, \"This work\": 915546.5303282929}, {\"x\": 0.8473425029716422, \"This work\": 924719.7483088311}, {\"x\": 0.8461212378126326, \"This work\": 933927.9210861255}, {\"x\": 0.8449034879783272, \"This work\": 943170.5602043128}, {\"x\": 0.8436892383126215, \"This work\": 952447.1728449909}, {\"x\": 0.8424784737464124, \"This work\": 961757.2619101038}, {\"x\": 0.8412711792969738, \"This work\": 971100.3261053005}, {\"x\": 0.84006734006734, \"This work\": 980475.8600237573}, {\"x\": 0.8388669412456922, \"This work\": 989883.3542304313}, {\"x\": 0.8376699681047507, \"This work\": 999322.2953467328}, {\"x\": 0.8364764060011733, \"This work\": 1008792.1661355745}, {\"x\": 0.8352862403749581, \"This work\": 1018292.4455867856}, {\"x\": 0.8340994567488509, \"This work\": 1027822.6090028643}, {\"x\": 0.8329160407277584, \"This work\": 1037382.1280850428}, {\"x\": 0.8317359779981666, \"This work\": 1046970.4710196425}, {\"x\": 0.8305592543275633, \"This work\": 1056587.1025646953}, {\"x\": 0.8293858555638661, \"This work\": 1066231.4841368073}, {\"x\": 0.8282157676348549, \"This work\": 1075903.0738982423}, {\"x\": 0.8270489765476091, \"This work\": 1085601.326844204}, {\"x\": 0.8258854683879511, \"This work\": 1095325.6948902817}, {\"x\": 0.8247252293198909, \"This work\": 1105075.6269600638}, {\"x\": 0.8235682455850801, \"This work\": 1114850.5690728643}, {\"x\": 0.8224145035022661, \"This work\": 1124649.9644315632}, {\"x\": 0.8212639894667544, \"This work\": 1134473.2535105222}, {\"x\": 0.8201166899498726, \"This work\": 1144319.8741435779}, {\"x\": 0.8189725914984408, \"This work\": 1154189.261612058}, {\"x\": 0.8178316807342456, \"This work\": 1164080.848732827}, {\"x\": 0.8166939443535188, \"This work\": 1173994.0659463247}, {\"x\": 0.8155593691264199, \"This work\": 1183928.3414045835}, {\"x\": 0.8144279418965237, \"This work\": 1193883.1010592002}, {\"x\": 0.8132996495803114, \"This work\": 1203857.768749243}, {\"x\": 0.8121744791666667, \"This work\": 1213851.7662890742}, {\"x\": 0.8110524177163756, \"This work\": 1223864.5135560674}, {\"x\": 0.8099334523616297, \"This work\": 1233895.428578199}, {\"x\": 0.8088175703055352, \"This work\": 1243943.927621499}, {\"x\": 0.8077047588216252, \"This work\": 1254009.4252773277}, {\"x\": 0.8065950052533744, \"This work\": 1264091.3345494876}, {\"x\": 0.8054882970137208, \"This work\": 1274189.066941116}, {\"x\": 0.8043846215845892, \"This work\": 1284302.0325413696}, {\"x\": 0.8032839665164198, \"This work\": 1294429.64011186}, {\"x\": 0.8021863194276987, \"This work\": 1304571.2971728484}, {\"x\": 0.801091668004495, \"This work\": 1314726.4100891529}, {\"x\": 0.8, \"This work\": 1324894.38415577}]}}, {\"mode\": \"vega-lite\"});\n",
       "</script>"
      ],
      "text/plain": [
       "alt.Chart(...)"
      ]
     },
     "metadata": {},
     "output_type": "display_data"
    }
   ],
   "source": [
    "automech.display_reactions(mech, eqs=[\"C5H9(553) = C5H9(536)\"])"
   ]
  }
 ],
 "metadata": {
  "kernelspec": {
   "display_name": "proto",
   "language": "python",
   "name": "python3"
  },
  "language_info": {
   "codemirror_mode": {
    "name": "ipython",
    "version": 3
   },
   "file_extension": ".py",
   "mimetype": "text/x-python",
   "name": "python",
   "nbconvert_exporter": "python",
   "pygments_lexer": "ipython3",
   "version": "3.11.12"
  }
 },
 "nbformat": 4,
 "nbformat_minor": 2
}
