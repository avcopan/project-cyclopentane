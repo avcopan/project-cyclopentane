{
 "cells": [
  {
   "cell_type": "code",
   "execution_count": 2,
   "metadata": {},
   "outputs": [],
   "source": [
    "from pathlib import Path\n",
    "\n",
    "import util\n",
    "from util import p_, workflow\n",
    "\n",
    "import automech\n",
    "\n",
    "file = util.notebook_file() if util.is_notebook() else __file__\n",
    "tag = util.file_tag(file)\n",
    "root_path = Path(\"..\")\n",
    "par_mech = workflow.read_parent_mechanism(root_path=root_path)"
   ]
  },
  {
   "cell_type": "code",
   "execution_count": 3,
   "metadata": {},
   "outputs": [],
   "source": [
    "# # Generate submechanism\n",
    "# sub_tags = [\n",
    "#     # 0a v0\n",
    "#     \"A_rh-oh_0a_v0\",\n",
    "#     \"B_rh-ho2_0a_v0\",\n",
    "#     \"C_r_0a_v0\",\n",
    "#     \"D_r-o2_0a_v0\",\n",
    "#     # 1e v0\n",
    "#     \"A_rh-oh_1e-1_v0\",\n",
    "#     \"A_rh-oh_1e-2_v0\",\n",
    "#     \"B_rh-ho2_1e-1_v0\",\n",
    "#     \"B_rh-ho2_1e-2_v0\",\n",
    "#     \"C_r_1e_v0\",\n",
    "#     \"D_r-o2_1e_v0\",\n",
    "#     # 2x v0\n",
    "#     \"A_rh-oh_2x_v0\",\n",
    "#     \"B_rh-ho2_2x_v0\",\n",
    "#     \"C_r_2x_v0\",\n",
    "#     \"D_r-o2_2x_v0\",\n",
    "#     # 3o v0\n",
    "#     \"C_r_3o_v0\",\n",
    "#     \"D_r-o2_3o_v0\",\n",
    "#     # 0a v1\n",
    "#     \"D_r-o2_0a_v1\",\n",
    "#     # 1e v1\n",
    "#     \"D_r-o2_1e_v1\",\n",
    "# ]\n",
    "# gen_paths = [p_.generated_mechanism(t, \"json\", p_.data(root_path)) for t in sub_tags]\n",
    "# ste_paths = [p_.stereo_mechanism(t, \"json\", p_.data(root_path)) for t in sub_tags]\n",
    "# gen_mechs = [automech.io.read(p) for p in gen_paths]\n",
    "# ste_mechs = [automech.io.read(p) for p in ste_paths]\n",
    "# gen_mech = automech.combine_all(gen_mechs)\n",
    "# ste_mech = automech.combine_all(ste_mechs)\n",
    "# gen_mech = automech.drop_duplicate_reactions(gen_mech)\n",
    "# ste_mech = automech.drop_duplicate_reactions(ste_mech)\n",
    "# ste_mech = automech.drop_noncanonical_enantiomers(ste_mech)\n",
    "# automech.display(gen_mech)"
   ]
  },
  {
   "cell_type": "code",
   "execution_count": 4,
   "metadata": {},
   "outputs": [],
   "source": [
    "# # Prepare calculation\n",
    "# workflow.augment_calculation(\n",
    "#     gen_mech=gen_mech, ste_mech=ste_mech, tag=tag, root_path=root_path\n",
    "# )\n",
    "# # workflow.prepare_calculation(\n",
    "# #     gen_mech=gen_mech, ste_mech=ste_mech, tag=tag, root_path=root_path, fake_sort=True\n",
    "# # )"
   ]
  },
  {
   "cell_type": "code",
   "execution_count": 5,
   "metadata": {},
   "outputs": [],
   "source": [
    "# # Prepare simulation\n",
    "# workflow.prepare_simulation(tag=tag, root_path=root_path)\n",
    "# workflow.prepare_simulation_species(tag=tag, root_path=root_path)"
   ]
  },
  {
   "cell_type": "code",
   "execution_count": 6,
   "metadata": {},
   "outputs": [],
   "source": [
    "# # Check rates\n",
    "# workflow.plot_rates(tag=tag, root_path=root_path)"
   ]
  },
  {
   "cell_type": "code",
   "execution_count": 7,
   "metadata": {},
   "outputs": [],
   "source": [
    "# # Plot simulation\n",
    "# chart_dct = workflow.plot_simulation(\n",
    "#     tag=tag,\n",
    "#     x_col=\"O2_molecules\",\n",
    "#     root_path=root_path,\n",
    "#     line_source_=[\"Hill\", \"Lokachari\"],\n",
    "#     point_source=\"Experiment\",\n",
    "#     control=False,\n",
    "# )\n",
    "# mech = automech.io.read(\n",
    "#     p_.full_calculated_mechanism(tag, \"json\", path=p_.data(root_path))\n",
    "# )\n",
    "# for name, chart in chart_dct.items():\n",
    "#     automech.display_species(mech, [name])\n",
    "#     chart.show()"
   ]
  },
  {
   "cell_type": "code",
   "execution_count": 8,
   "metadata": {},
   "outputs": [
    {
     "name": "stdout",
     "output_type": "stream",
     "text": [
      "\n",
      "*********\n",
      "Reaction: S(725)r0 = C5O2qarhfr\n",
      "Translations:\n",
      "  smiles:\n",
      "    reactants = ['OO[C@H]1C[CH]CC1']\n",
      "    products = ['C=CCC[CH]OO']\n",
      "Rate parameters:\n",
      "  This work:\n",
      "    S(725)r0 = C5O2qarhfr                                        1.000      0.000      0.000\n"
     ]
    },
    {
     "data": {
      "application/vnd.jupyter.widget-view+json": {
       "model_id": "cb255233c62c4277a9ea225d14fa1558",
       "version_major": 2,
       "version_minor": 0
      },
      "text/plain": [
       "HBox(children=(Image(value=b\"<?xml version='1.0' encoding='iso-8859-1...\", format='svg+xml', height='300', wid…"
      ]
     },
     "metadata": {},
     "output_type": "display_data"
    },
    {
     "data": {
      "text/html": [
       "\n",
       "<style>\n",
       "  #altair-viz-953ce2f3c5ec415caabeface107b627d.vega-embed {\n",
       "    width: 100%;\n",
       "    display: flex;\n",
       "  }\n",
       "\n",
       "  #altair-viz-953ce2f3c5ec415caabeface107b627d.vega-embed details,\n",
       "  #altair-viz-953ce2f3c5ec415caabeface107b627d.vega-embed details summary {\n",
       "    position: relative;\n",
       "  }\n",
       "</style>\n",
       "<div id=\"altair-viz-953ce2f3c5ec415caabeface107b627d\"></div>\n",
       "<script type=\"text/javascript\">\n",
       "  var VEGA_DEBUG = (typeof VEGA_DEBUG == \"undefined\") ? {} : VEGA_DEBUG;\n",
       "  (function(spec, embedOpt){\n",
       "    let outputDiv = document.currentScript.previousElementSibling;\n",
       "    if (outputDiv.id !== \"altair-viz-953ce2f3c5ec415caabeface107b627d\") {\n",
       "      outputDiv = document.getElementById(\"altair-viz-953ce2f3c5ec415caabeface107b627d\");\n",
       "    }\n",
       "\n",
       "    const paths = {\n",
       "      \"vega\": \"https://cdn.jsdelivr.net/npm/vega@5?noext\",\n",
       "      \"vega-lib\": \"https://cdn.jsdelivr.net/npm/vega-lib?noext\",\n",
       "      \"vega-lite\": \"https://cdn.jsdelivr.net/npm/vega-lite@5.20.1?noext\",\n",
       "      \"vega-embed\": \"https://cdn.jsdelivr.net/npm/vega-embed@6?noext\",\n",
       "    };\n",
       "\n",
       "    function maybeLoadScript(lib, version) {\n",
       "      var key = `${lib.replace(\"-\", \"\")}_version`;\n",
       "      return (VEGA_DEBUG[key] == version) ?\n",
       "        Promise.resolve(paths[lib]) :\n",
       "        new Promise(function(resolve, reject) {\n",
       "          var s = document.createElement('script');\n",
       "          document.getElementsByTagName(\"head\")[0].appendChild(s);\n",
       "          s.async = true;\n",
       "          s.onload = () => {\n",
       "            VEGA_DEBUG[key] = version;\n",
       "            return resolve(paths[lib]);\n",
       "          };\n",
       "          s.onerror = () => reject(`Error loading script: ${paths[lib]}`);\n",
       "          s.src = paths[lib];\n",
       "        });\n",
       "    }\n",
       "\n",
       "    function showError(err) {\n",
       "      outputDiv.innerHTML = `<div class=\"error\" style=\"color:red;\">${err}</div>`;\n",
       "      throw err;\n",
       "    }\n",
       "\n",
       "    function displayChart(vegaEmbed) {\n",
       "      vegaEmbed(outputDiv, spec, embedOpt)\n",
       "        .catch(err => showError(`Javascript Error: ${err.message}<br>This usually means there's a typo in your chart specification. See the javascript console for the full traceback.`));\n",
       "    }\n",
       "\n",
       "    if(typeof define === \"function\" && define.amd) {\n",
       "      requirejs.config({paths});\n",
       "      let deps = [\"vega-embed\"];\n",
       "      require(deps, displayChart, err => showError(`Error loading script: ${err.message}`));\n",
       "    } else {\n",
       "      maybeLoadScript(\"vega\", \"5\")\n",
       "        .then(() => maybeLoadScript(\"vega-lite\", \"5.20.1\"))\n",
       "        .then(() => maybeLoadScript(\"vega-embed\", \"6\"))\n",
       "        .catch(showError)\n",
       "        .then(() => displayChart(vegaEmbed));\n",
       "    }\n",
       "  })({\"config\": {\"view\": {\"continuousWidth\": 300, \"continuousHeight\": 300}}, \"data\": {\"name\": \"data-d1d89c279e4160c772cbbf70fe966f4a\"}, \"mark\": {\"type\": \"line\"}, \"encoding\": {\"color\": {\"value\": \"#0066ff\"}, \"x\": {\"field\": \"x\", \"title\": \"1000/\\ud835\\udc47 (1/K)\", \"type\": \"quantitative\"}, \"y\": {\"axis\": {\"format\": \".1e\", \"values\": [1, 10]}, \"field\": \"value\", \"scale\": {\"type\": \"log\"}, \"title\": \"\\ud835\\udc58 (1/s)\", \"type\": \"quantitative\"}}, \"transform\": [{\"fold\": [\"This work\"]}], \"$schema\": \"https://vega.github.io/schema/vega-lite/v5.20.1.json\", \"datasets\": {\"data-d1d89c279e4160c772cbbf70fe966f4a\": [{\"x\": 2.5, \"This work\": 1.0}, {\"x\": 2.489398852581691, \"This work\": 1.0}, {\"x\": 2.4788872329855938, \"This work\": 1.0}, {\"x\": 2.468464011872372, \"This work\": 1.0}, {\"x\": 2.458128078817734, \"This work\": 1.0}, {\"x\": 2.4478783419180767, \"This work\": 1.0}, {\"x\": 2.43771372740596, \"This work\": 1.0}, {\"x\": 2.4276331792751153, \"This work\": 1.0}, {\"x\": 2.4176356589147288, \"This work\": 1.0}, {\"x\": 2.407720144752714, \"This work\": 1.0}, {\"x\": 2.397885631907737, \"This work\": 1.0}, {\"x\": 2.388131131849725, \"This work\": 1.0}, {\"x\": 2.378455672068637, \"This work\": 1.0}, {\"x\": 2.368858295751246, \"This work\": 1.0}, {\"x\": 2.359338061465721, \"This work\": 1.0}, {\"x\": 2.349894042853779, \"This work\": 1.0}, {\"x\": 2.3405253283302065, \"This work\": 1.0}, {\"x\": 2.3312310207895353, \"This work\": 1.0}, {\"x\": 2.3220102373196836, \"This work\": 1.0}, {\"x\": 2.312862108922364, \"This work\": 1.0}, {\"x\": 2.303785780240074, \"This work\": 1.0}, {\"x\": 2.294780409289492, \"This work\": 1.0}, {\"x\": 2.2858451672010993, \"This work\": 1.0}, {\"x\": 2.276979237964864, \"This work\": 1.0}, {\"x\": 2.268181818181818, \"This work\": 1.0}, {\"x\": 2.2594521168213717, \"This work\": 1.0}, {\"x\": 2.250789354984213, \"This work\": 1.0}, {\"x\": 2.242192765670636, \"This work\": 1.0}, {\"x\": 2.233661593554163, \"This work\": 1.0}, {\"x\": 2.2251950947603123, \"This work\": 1.0}, {\"x\": 2.216792536650378, \"This work\": 1.0}, {\"x\": 2.2084531976100905, \"This work\": 1.0}, {\"x\": 2.2001763668430336, \"This work\": 1.0}, {\"x\": 2.19196134416868, \"This work\": 1.0}, {\"x\": 2.1838074398249456, \"This work\": 1.0}, {\"x\": 2.1757139742751255, \"This work\": 1.0}, {\"x\": 2.167680278019114, \"This work\": 1.0}, {\"x\": 2.159705691408786, \"This work\": 1.0}, {\"x\": 2.1517895644674425, \"This work\": 1.0}, {\"x\": 2.1439312567132114, \"This work\": 1.0}, {\"x\": 2.1361301369863015, \"This work\": 1.0}, {\"x\": 2.128385583280017, \"This work\": 1.0}, {\"x\": 2.1206969825754354, \"This work\": 1.0}, {\"x\": 2.1130637306796527, \"This work\": 1.0}, {\"x\": 2.105485232067511, \"This work\": 1.0}, {\"x\": 2.0979608997267185, \"This work\": 1.0}, {\"x\": 2.0904901550062838, \"This work\": 1.0}, {\"x\": 2.0830724274681693, \"This work\": 1.0}, {\"x\": 2.0757071547420964, \"This work\": 1.0}, {\"x\": 2.0683937823834198, \"This work\": 1.0}, {\"x\": 2.0611317637339943, \"This work\": 1.0}, {\"x\": 2.0539205597859644, \"This work\": 1.0}, {\"x\": 2.0467596390484006, \"This work\": 1.0}, {\"x\": 2.039648477416718, \"This work\": 1.0}, {\"x\": 2.0325865580448066, \"This work\": 1.0}, {\"x\": 2.025573371219809, \"This work\": 1.0}, {\"x\": 2.0186084142394822, \"This work\": 1.0}, {\"x\": 2.011691191292078, \"This work\": 1.0}, {\"x\": 2.00482121333869, \"This work\": 1.0}, {\"x\": 1.997997997997998, \"This work\": 1.0}, {\"x\": 1.9912210694333599, \"This work\": 1.0}, {\"x\": 1.9844899582421953, \"This work\": 1.0}, {\"x\": 1.977804201347602, \"This work\": 1.0}, {\"x\": 1.9711633418921588, \"This work\": 1.0}, {\"x\": 1.9645669291338583, \"This work\": 1.0}, {\"x\": 1.958014518344124, \"This work\": 1.0}, {\"x\": 1.9515056707078609, \"This work\": 1.0}, {\"x\": 1.9450399532254923, \"This work\": 1.0}, {\"x\": 1.9386169386169387, \"This work\": 1.0}, {\"x\": 1.9322362052274926, \"This work\": 1.0}, {\"x\": 1.925897336935546, \"This work\": 1.0}, {\"x\": 1.9195999230621275, \"This work\": 1.0}, {\"x\": 1.9133435582822087, \"This work\": 1.0}, {\"x\": 1.9071278425377411, \"This work\": 1.0}, {\"x\": 1.900952380952381, \"This work\": 1.0}, {\"x\": 1.8948167837478642, \"This work\": 1.0}, {\"x\": 1.8887206661619982, \"This work\": 1.0}, {\"x\": 1.8826636483682324, \"This work\": 1.0}, {\"x\": 1.8766453553967657, \"This work\": 1.0}, {\"x\": 1.8706654170571697, \"This work\": 1.0}, {\"x\": 1.8647234678624816, \"This work\": 1.0}, {\"x\": 1.8588191469547402, \"This work\": 1.0}, {\"x\": 1.8529520980319347, \"This work\": 1.0}, {\"x\": 1.847121969276328, \"This work\": 1.0}, {\"x\": 1.8413284132841328, \"This work\": 1.0}, {\"x\": 1.8355710869965054, \"This work\": 1.0}, {\"x\": 1.8298496516318299, \"This work\": 1.0}, {\"x\": 1.8241637726192654, \"This work\": 1.0}, {\"x\": 1.818513119533528, \"This work\": 1.0}, {\"x\": 1.812897366030881, \"This work\": 1.0}, {\"x\": 1.8073161897863093, \"This work\": 1.0}, {\"x\": 1.801769272431847, \"This work\": 1.0}, {\"x\": 1.7962562994960403, \"This work\": 1.0}, {\"x\": 1.790776960344518, \"This work\": 1.0}, {\"x\": 1.785330948121646, \"This work\": 1.0}, {\"x\": 1.7799179596932406, \"This work\": 1.0}, {\"x\": 1.7745376955903274, \"This work\": 1.0}, {\"x\": 1.7691898599539089, \"This work\": 1.0}, {\"x\": 1.7638741604807353, \"This work\": 1.0}, {\"x\": 1.7585903083700443, \"This work\": 1.0}, {\"x\": 1.7533380182712577, \"This work\": 1.0}, {\"x\": 1.7481170082326152, \"This work\": 1.0}, {\"x\": 1.7429269996507162, \"This work\": 1.0}, {\"x\": 1.737767717220965, \"This work\": 1.0}, {\"x\": 1.732638888888889, \"This work\": 1.0}, {\"x\": 1.7275402458023195, \"This work\": 1.0}, {\"x\": 1.7224715222644116, \"This work\": 1.0}, {\"x\": 1.7174324556874891, \"This work\": 1.0}, {\"x\": 1.7124227865477006, \"This work\": 1.0}, {\"x\": 1.7074422583404618, \"This work\": 1.0}, {\"x\": 1.702490617536677, \"This work\": 1.0}, {\"x\": 1.6975676135397177, \"This work\": 1.0}, {\"x\": 1.692672998643148, \"This work\": 1.0}, {\"x\": 1.6878065279891763, \"This work\": 1.0}, {\"x\": 1.6829679595278246, \"This work\": 1.0}, {\"x\": 1.678157053976795, \"This work\": 1.0}, {\"x\": 1.6733735747820253, \"This work\": 1.0}, {\"x\": 1.6686172880789165, \"This work\": 1.0}, {\"x\": 1.6638879626542182, \"This work\": 1.0}, {\"x\": 1.6591853699085621, \"This work\": 1.0}, {\"x\": 1.6545092838196285, \"This work\": 1.0}, {\"x\": 1.6498594809059348, \"This work\": 1.0}, {\"x\": 1.6452357401912299, \"This work\": 1.0}, {\"x\": 1.6406378431694886, \"This work\": 1.0}, {\"x\": 1.6360655737704917, \"This work\": 1.0}, {\"x\": 1.6315187183259767, \"This work\": 1.0}, {\"x\": 1.6269970655363548, \"This work\": 1.0}, {\"x\": 1.6225004064379778, \"This work\": 1.0}, {\"x\": 1.6180285343709468, \"This work\": 1.0}, {\"x\": 1.6135812449474536, \"This work\": 1.0}, {\"x\": 1.6091583360206385, \"This work\": 1.0}, {\"x\": 1.6047596076539636, \"This work\": 1.0}, {\"x\": 1.6003848620910839, \"This work\": 1.0}, {\"x\": 1.5960339037262115, \"This work\": 1.0}, {\"x\": 1.5917065390749603, \"This work\": 1.0}, {\"x\": 1.5874025767456659, \"This work\": 1.0}, {\"x\": 1.5831218274111676, \"This work\": 1.0}, {\"x\": 1.5788641037810474, \"This work\": 1.0}, {\"x\": 1.5746292205743138, \"This work\": 1.0}, {\"x\": 1.5704169944925255, \"This work\": 1.0}, {\"x\": 1.5662272441933458, \"This work\": 1.0}, {\"x\": 1.5620597902645172, \"This work\": 1.0}, {\"x\": 1.5579144551982518, \"This work\": 1.0}, {\"x\": 1.5537910633660286, \"This work\": 1.0}, {\"x\": 1.549689440993789, \"This work\": 1.0}, {\"x\": 1.5456094161375251, \"This work\": 1.0}, {\"x\": 1.5415508186592526, \"This work\": 1.0}, {\"x\": 1.5375134802033583, \"This work\": 1.0}, {\"x\": 1.533497234173325, \"This work\": 1.0}, {\"x\": 1.5295019157088123, \"This work\": 1.0}, {\"x\": 1.5255273616631, \"This work\": 1.0}, {\"x\": 1.5215734105808814, \"This work\": 1.0}, {\"x\": 1.517639902676399, \"This work\": 1.0}, {\"x\": 1.5137266798119218, \"This work\": 1.0}, {\"x\": 1.5098335854765506, \"This work\": 1.0}, {\"x\": 1.5059604647653537, \"This work\": 1.0}, {\"x\": 1.50210716435882, \"This work\": 1.0}, {\"x\": 1.4982735325026273, \"This work\": 1.0}, {\"x\": 1.494459418987721, \"This work\": 1.0}, {\"x\": 1.4906646751306947, \"This work\": 1.0}, {\"x\": 1.4868891537544697, \"This work\": 1.0}, {\"x\": 1.4831327091692674, \"This work\": 1.0}, {\"x\": 1.4793951971538688, \"This work\": 1.0}, {\"x\": 1.475676474937158, \"This work\": 1.0}, {\"x\": 1.471976401179941, \"This work\": 1.0}, {\"x\": 1.46829483595704, \"This work\": 1.0}, {\"x\": 1.4646316407396538, \"This work\": 1.0}, {\"x\": 1.460986678377983, \"This work\": 1.0}, {\"x\": 1.457359813084112, \"This work\": 1.0}, {\"x\": 1.4537509104151494, \"This work\": 1.0}, {\"x\": 1.4501598372566114, \"This work\": 1.0}, {\"x\": 1.4465864618060589, \"This work\": 1.0}, {\"x\": 1.4430306535569695, \"This work\": 1.0}, {\"x\": 1.4394922832828503, \"This work\": 1.0}, {\"x\": 1.4359712230215829, \"This work\": 1.0}, {\"x\": 1.432467346059997, \"This work\": 1.0}, {\"x\": 1.4289805269186713, \"This work\": 1.0}, {\"x\": 1.4255106413369518, \"This work\": 1.0}, {\"x\": 1.4220575662581931, \"This work\": 1.0}, {\"x\": 1.4186211798152097, \"This work\": 1.0}, {\"x\": 1.4152013613159389, \"This work\": 1.0}, {\"x\": 1.4117979912293113, \"This work\": 1.0}, {\"x\": 1.4084109511713239, \"This work\": 1.0}, {\"x\": 1.4050401238913135, \"This work\": 1.0}, {\"x\": 1.401685393258427, \"This work\": 1.0}, {\"x\": 1.3983466442482835, \"This work\": 1.0}, {\"x\": 1.3950237629298294, \"This work\": 1.0}, {\"x\": 1.3917166364523776, \"This work\": 1.0}, {\"x\": 1.3884251530328326, \"This work\": 1.0}, {\"x\": 1.385149201943095, \"This work\": 1.0}, {\"x\": 1.3818886734976463, \"This work\": 1.0}, {\"x\": 1.3786434590413041, \"This work\": 1.0}, {\"x\": 1.3754134509371556, \"This work\": 1.0}, {\"x\": 1.3721985425546541, \"This work\": 1.0}, {\"x\": 1.3689986282578874, \"This work\": 1.0}, {\"x\": 1.3658136033940058, \"This work\": 1.0}, {\"x\": 1.3626433642818132, \"This work\": 1.0}, {\"x\": 1.3594878082005177, \"This work\": 1.0}, {\"x\": 1.3563468333786357, \"This work\": 1.0}, {\"x\": 1.3532203389830508, \"This work\": 1.0}, {\"x\": 1.3501082251082253, \"This work\": 1.0}, {\"x\": 1.3470103927655552, \"This work\": 1.0}, {\"x\": 1.343926743872879, \"This work\": 1.0}, {\"x\": 1.340857181244122, \"This work\": 1.0}, {\"x\": 1.3378016085790885, \"This work\": 1.0}, {\"x\": 1.3347599304533906, \"This work\": 1.0}, {\"x\": 1.3317320523085137, \"This work\": 1.0}, {\"x\": 1.3287178804420183, \"This work\": 1.0}, {\"x\": 1.3257173219978746, \"This work\": 1.0}, {\"x\": 1.3227302849569251, \"This work\": 1.0}, {\"x\": 1.3197566781274794, \"This work\": 1.0}, {\"x\": 1.3167964111360337, \"This work\": 1.0}, {\"x\": 1.3138493944181149, \"This work\": 1.0}, {\"x\": 1.3109155392092475, \"This work\": 1.0}, {\"x\": 1.307994757536042, \"This work\": 1.0}, {\"x\": 1.3050869622074017, \"This work\": 1.0}, {\"x\": 1.3021920668058453, \"This work\": 1.0}, {\"x\": 1.299309985678948, \"This work\": 1.0}, {\"x\": 1.2964406339308912, \"This work\": 1.0}, {\"x\": 1.2935839274141283, \"This work\": 1.0}, {\"x\": 1.2907397827211589, \"This work\": 1.0}, {\"x\": 1.28790811717641, \"This work\": 1.0}, {\"x\": 1.2850888488282255, \"This work\": 1.0}, {\"x\": 1.282281896440961, \"This work\": 1.0}, {\"x\": 1.2794871794871794, \"This work\": 1.0}, {\"x\": 1.2767046181399513, \"This work\": 1.0}, {\"x\": 1.273934133265254, \"This work\": 1.0}, {\"x\": 1.2711756464144695, \"This work\": 1.0}, {\"x\": 1.2684290798169802, \"This work\": 1.0}, {\"x\": 1.26569435637286, \"This work\": 1.0}, {\"x\": 1.2629713996456593, \"This work\": 1.0}, {\"x\": 1.2602601338552848, \"This work\": 1.0}, {\"x\": 1.2575604838709677, \"This work\": 1.0}, {\"x\": 1.2548723752043254, \"This work\": 1.0}, {\"x\": 1.2521957340025094, \"This work\": 1.0}, {\"x\": 1.2495304870414423, \"This work\": 1.0}, {\"x\": 1.2468765617191406, \"This work\": 1.0}, {\"x\": 1.244233886049121, \"This work\": 1.0}, {\"x\": 1.241602388653894, \"This work\": 1.0}, {\"x\": 1.238981998758535, \"This work\": 1.0}, {\"x\": 1.236372646184341, \"This work\": 1.0}, {\"x\": 1.233774261342564, \"This work\": 1.0}, {\"x\": 1.231186775228226, \"This work\": 1.0}, {\"x\": 1.2286101194140095, \"This work\": 1.0}, {\"x\": 1.2260442260442261, \"This work\": 1.0}, {\"x\": 1.2234890278288588, \"This work\": 1.0}, {\"x\": 1.2209444580376805, \"This work\": 1.0}, {\"x\": 1.218410450494445, \"This work\": 1.0}, {\"x\": 1.21588693957115, \"This work\": 1.0}, {\"x\": 1.2133738601823707, \"This work\": 1.0}, {\"x\": 1.2108711477796652, \"This work\": 1.0}, {\"x\": 1.2083787383460467, \"This work\": 1.0}, {\"x\": 1.205896568390527, \"This work\": 1.0}, {\"x\": 1.203424574942723, \"This work\": 1.0}, {\"x\": 1.2009626955475332, \"This work\": 1.0}, {\"x\": 1.1985108682598775, \"This work\": 1.0}, {\"x\": 1.1960690316395013, \"This work\": 1.0}, {\"x\": 1.1936371247458437, \"This work\": 1.0}, {\"x\": 1.1912150871329674, \"This work\": 1.0}, {\"x\": 1.1888028588445505, \"This work\": 1.0}, {\"x\": 1.1864003804089398, \"This work\": 1.0}, {\"x\": 1.1840075928342626, \"This work\": 1.0}, {\"x\": 1.1816244376035994, \"This work\": 1.0}, {\"x\": 1.1792508566702113, \"This work\": 1.0}, {\"x\": 1.1768867924528301, \"This work\": 1.0}, {\"x\": 1.174532187830999, \"This work\": 1.0}, {\"x\": 1.1721869861404746, \"This work\": 1.0}, {\"x\": 1.169851131168679, \"This work\": 1.0}, {\"x\": 1.1675245671502108, \"This work\": 1.0}, {\"x\": 1.165207238762405, \"This work\": 1.0}, {\"x\": 1.162899091120951, \"This work\": 1.0}, {\"x\": 1.1606000697755552, \"This work\": 1.0}, {\"x\": 1.1583101207056639, \"This work\": 1.0}, {\"x\": 1.1560291903162285, \"This work\": 1.0}, {\"x\": 1.153757225433526, \"This work\": 1.0}, {\"x\": 1.1514941733010269, \"This work\": 1.0}, {\"x\": 1.149239981575311, \"This work\": 1.0}, {\"x\": 1.146994598322032, \"This work\": 1.0}, {\"x\": 1.1447579720119294, \"This work\": 1.0}, {\"x\": 1.1425300515168861, \"This work\": 1.0}, {\"x\": 1.1403107861060329, \"This work\": 1.0}, {\"x\": 1.1381001254418976, \"This work\": 1.0}, {\"x\": 1.135898019576599, \"This work\": 1.0}, {\"x\": 1.133704418948086, \"This work\": 1.0}, {\"x\": 1.1315192743764173, \"This work\": 1.0}, {\"x\": 1.1293425370600882, \"This work\": 1.0}, {\"x\": 1.1271741585723967, \"This work\": 1.0}, {\"x\": 1.1250140908578514, \"This work\": 1.0}, {\"x\": 1.1228622862286228, \"This work\": 1.0}, {\"x\": 1.1207186973610332, \"This work\": 1.0}, {\"x\": 1.118583277292087, \"This work\": 1.0}, {\"x\": 1.1164559794160422, \"This work\": 1.0}, {\"x\": 1.1143367574810183, \"This work\": 1.0}, {\"x\": 1.112225565585646, \"This work\": 1.0}, {\"x\": 1.110122358175751, \"This work\": 1.0}, {\"x\": 1.1080270900410791, \"This work\": 1.0}, {\"x\": 1.1059397163120568, \"This work\": 1.0}, {\"x\": 1.1038601924565867, \"This work\": 1.0}, {\"x\": 1.1017884742768824, \"This work\": 1.0}, {\"x\": 1.0997245179063362, \"This work\": 1.0}, {\"x\": 1.0976682798064232, \"This work\": 1.0}, {\"x\": 1.0956197167636403, \"This work\": 1.0}, {\"x\": 1.0935787858864783, \"This work\": 1.0}, {\"x\": 1.091545444602428, \"This work\": 1.0}, {\"x\": 1.0895196506550218, \"This work\": 1.0}, {\"x\": 1.0875013621009044, \"This work\": 1.0}, {\"x\": 1.0854905373069395, \"This work\": 1.0}, {\"x\": 1.0834871349473456, \"This work\": 1.0}, {\"x\": 1.081491114000867, \"This work\": 1.0}, {\"x\": 1.079502433747972, \"This work\": 1.0}, {\"x\": 1.0775210537680848, \"This work\": 1.0}, {\"x\": 1.0755469339368466, \"This work\": 1.0}, {\"x\": 1.0735800344234079, \"This work\": 1.0}, {\"x\": 1.0716203156877484, \"This work\": 1.0}, {\"x\": 1.069667738478028, \"This work\": 1.0}, {\"x\": 1.0677222638279662, \"This work\": 1.0}, {\"x\": 1.0657838530542503, \"This work\": 1.0}, {\"x\": 1.063852467753971, \"This work\": 1.0}, {\"x\": 1.0619280698020857, \"This work\": 1.0}, {\"x\": 1.0600106213489113, \"This work\": 1.0}, {\"x\": 1.058100084817642, \"This work\": 1.0}, {\"x\": 1.0561964229018945, \"This work\": 1.0}, {\"x\": 1.0542995985632793, \"This work\": 1.0}, {\"x\": 1.0524095750289992, \"This work\": 1.0}, {\"x\": 1.0505263157894738, \"This work\": 1.0}, {\"x\": 1.0486497845959861, \"This work\": 1.0}, {\"x\": 1.0467799454583597, \"This work\": 1.0}, {\"x\": 1.0449167626426552, \"This work\": 1.0}, {\"x\": 1.0430602006688963, \"This work\": 1.0}, {\"x\": 1.041210224308816, \"This work\": 1.0}, {\"x\": 1.0393667985836286, \"This work\": 1.0}, {\"x\": 1.0375298887618256, \"This work\": 1.0}, {\"x\": 1.0356994603569947, \"This work\": 1.0}, {\"x\": 1.0338754791256604, \"This work\": 1.0}, {\"x\": 1.03205791106515, \"This work\": 1.0}, {\"x\": 1.0302467224114793, \"This work\": 1.0}, {\"x\": 1.028441879637263, \"This work\": 1.0}, {\"x\": 1.0266433494496452, \"This work\": 1.0}, {\"x\": 1.0248510987882522, \"This work\": 1.0}, {\"x\": 1.0230650948231677, \"This work\": 1.0}, {\"x\": 1.0212853049529267, \"This work\": 1.0}, {\"x\": 1.0195116968025335, \"This work\": 1.0}, {\"x\": 1.017744238221497, \"This work\": 1.0}, {\"x\": 1.0159828972818894, \"This work\": 1.0}, {\"x\": 1.0142276422764227, \"This work\": 1.0}, {\"x\": 1.0124784417165467, \"This work\": 1.0}, {\"x\": 1.0107352643305652, \"This work\": 1.0}, {\"x\": 1.0089980790617734, \"This work\": 1.0}, {\"x\": 1.0072668550666128, \"This work\": 1.0}, {\"x\": 1.0055415617128465, \"This work\": 1.0}, {\"x\": 1.0038221685777509, \"This work\": 1.0}, {\"x\": 1.00210864544633, \"This work\": 1.0}, {\"x\": 1.000400962309543, \"This work\": 1.0}, {\"x\": 0.9986990893625538, \"This work\": 1.0}, {\"x\": 0.997002997002997, \"This work\": 1.0}, {\"x\": 0.995312655829261, \"This work\": 1.0}, {\"x\": 0.9936280366387894, \"This work\": 1.0}, {\"x\": 0.991949110426399, \"This work\": 1.0}, {\"x\": 0.9902758483826156, \"This work\": 1.0}, {\"x\": 0.9886082218920258, \"This work\": 1.0}, {\"x\": 0.9869462025316456, \"This work\": 1.0}, {\"x\": 0.9852897620693061, \"This work\": 1.0}, {\"x\": 0.983638872462054, \"This work\": 1.0}, {\"x\": 0.9819935058545705, \"This work\": 1.0}, {\"x\": 0.9803536345776032, \"This work\": 1.0}, {\"x\": 0.9787192311464157, \"This work\": 1.0}, {\"x\": 0.977090268259252, \"This work\": 1.0}, {\"x\": 0.9754667187958167, \"This work\": 1.0}, {\"x\": 0.973848555815769, \"This work\": 1.0}, {\"x\": 0.9722357525572334, \"This work\": 1.0}, {\"x\": 0.9706282824353237, \"This work\": 1.0}, {\"x\": 0.9690261190406835, \"This work\": 1.0}, {\"x\": 0.9674292361380379, \"This work\": 1.0}, {\"x\": 0.9658376076647633, \"This work\": 1.0}, {\"x\": 0.9642512077294686, \"This work\": 1.0}, {\"x\": 0.9626700106105913, \"This work\": 1.0}, {\"x\": 0.9610939907550078, \"This work\": 1.0}, {\"x\": 0.9595231227766562, \"This work\": 1.0}, {\"x\": 0.9579573814551738, \"This work\": 1.0}, {\"x\": 0.9563967417345474, \"This work\": 1.0}, {\"x\": 0.9548411787217759, \"This work\": 1.0}, {\"x\": 0.9532906676855479, \"This work\": 1.0}, {\"x\": 0.9517451840549304, \"This work\": 1.0}, {\"x\": 0.9502047034180711, \"This work\": 1.0}, {\"x\": 0.9486692015209126, \"This work\": 1.0}, {\"x\": 0.9471386542659199, \"This work\": 1.0}, {\"x\": 0.9456130377108204, \"This work\": 1.0}, {\"x\": 0.944092328067354, \"This work\": 1.0}, {\"x\": 0.9425765017000377, \"This work\": 1.0}, {\"x\": 0.9410655351249411, \"This work\": 1.0}, {\"x\": 0.939559405008473, \"This work\": 1.0}, {\"x\": 0.9380580881661811, \"This work\": 1.0}, {\"x\": 0.9365615615615616, \"This work\": 1.0}, {\"x\": 0.9350698023048816, \"This work\": 1.0}, {\"x\": 0.9335827876520113, \"This work\": 1.0}, {\"x\": 0.932100495003269, \"This work\": 1.0}, {\"x\": 0.9306229019022755, \"This work\": 1.0}, {\"x\": 0.9291499860348198, \"This work\": 1.0}, {\"x\": 0.9276817252277375, \"This work\": 1.0}, {\"x\": 0.9262180974477958, \"This work\": 1.0}, {\"x\": 0.9247590808005931, \"This work\": 1.0}, {\"x\": 0.9233046535294661, \"This work\": 1.0}, {\"x\": 0.9218547940144096, \"This work\": 1.0}, {\"x\": 0.9204094807710043, \"This work\": 1.0}, {\"x\": 0.9189686924493554, \"This work\": 1.0}, {\"x\": 0.9175324078330422, \"This work\": 1.0}, {\"x\": 0.9161006058380761, \"This work\": 1.0}, {\"x\": 0.9146732655118688, \"This work\": 1.0}, {\"x\": 0.9132503660322109, \"This work\": 1.0}, {\"x\": 0.9118318867062587, \"This work\": 1.0}, {\"x\": 0.9104178069695312, \"This work\": 1.0}, {\"x\": 0.9090081063849168, \"This work\": 1.0}, {\"x\": 0.9076027646416881, \"This work\": 1.0}, {\"x\": 0.9062017615545265, \"This work\": 1.0}, {\"x\": 0.9048050770625566, \"This work\": 1.0}, {\"x\": 0.9034126912283879, \"This work\": 1.0}, {\"x\": 0.9020245842371657, \"This work\": 1.0}, {\"x\": 0.900640736395632, \"This work\": 1.0}, {\"x\": 0.8992611281311947, \"This work\": 1.0}, {\"x\": 0.8978857399910031, \"This work\": 1.0}, {\"x\": 0.8965145526410349, \"This work\": 1.0}, {\"x\": 0.8951475468651897, \"This work\": 1.0}, {\"x\": 0.8937847035643919, \"This work\": 1.0}, {\"x\": 0.8924260037557007, \"This work\": 1.0}, {\"x\": 0.8910714285714286, \"This work\": 1.0}, {\"x\": 0.8897209592582688, \"This work\": 1.0}, {\"x\": 0.8883745771764288, \"This work\": 1.0}, {\"x\": 0.8870322637987735, \"This work\": 1.0}, {\"x\": 0.8856940007099752, \"This work\": 1.0}, {\"x\": 0.8843597696056712, \"This work\": 1.0}, {\"x\": 0.8830295522916298, \"This work\": 1.0}, {\"x\": 0.8817033306829226, \"This work\": 1.0}, {\"x\": 0.880381086803105, \"This work\": 1.0}, {\"x\": 0.8790628027834052, \"This work\": 1.0}, {\"x\": 0.8777484608619173, \"This work\": 1.0}, {\"x\": 0.876438043382805, \"This work\": 1.0}, {\"x\": 0.8751315327955104, \"This work\": 1.0}, {\"x\": 0.8738289116539708, \"This work\": 1.0}, {\"x\": 0.8725301626158419, \"This work\": 1.0}, {\"x\": 0.8712352684417286, \"This work\": 1.0}, {\"x\": 0.8699442119944213, \"This work\": 1.0}, {\"x\": 0.868656976238141, \"This work\": 1.0}, {\"x\": 0.8673735442377891, \"This work\": 1.0}, {\"x\": 0.8660938991582054, \"This work\": 1.0}, {\"x\": 0.8648180242634316, \"This work\": 1.0}, {\"x\": 0.8635459029159817, \"This work\": 1.0}, {\"x\": 0.8622775185761189, \"This work\": 1.0}, {\"x\": 0.8610128548011389, \"This work\": 1.0}, {\"x\": 0.8597518952446588, \"This work\": 1.0}, {\"x\": 0.8584946236559139, \"This work\": 1.0}, {\"x\": 0.8572410238790585, \"This work\": 1.0}, {\"x\": 0.8559910798524745, \"This work\": 1.0}, {\"x\": 0.8547447756080849, \"This work\": 1.0}, {\"x\": 0.8535020952706748, \"This work\": 1.0}, {\"x\": 0.8522630230572161, \"This work\": 1.0}, {\"x\": 0.8510275432762002, \"This work\": 1.0}, {\"x\": 0.8497956403269755, \"This work\": 1.0}, {\"x\": 0.8485672986990903, \"This work\": 1.0}, {\"x\": 0.8473425029716422, \"This work\": 1.0}, {\"x\": 0.8461212378126326, \"This work\": 1.0}, {\"x\": 0.8449034879783272, \"This work\": 1.0}, {\"x\": 0.8436892383126215, \"This work\": 1.0}, {\"x\": 0.8424784737464124, \"This work\": 1.0}, {\"x\": 0.8412711792969738, \"This work\": 1.0}, {\"x\": 0.84006734006734, \"This work\": 1.0}, {\"x\": 0.8388669412456922, \"This work\": 1.0}, {\"x\": 0.8376699681047507, \"This work\": 1.0}, {\"x\": 0.8364764060011733, \"This work\": 1.0}, {\"x\": 0.8352862403749581, \"This work\": 1.0}, {\"x\": 0.8340994567488509, \"This work\": 1.0}, {\"x\": 0.8329160407277584, \"This work\": 1.0}, {\"x\": 0.8317359779981666, \"This work\": 1.0}, {\"x\": 0.8305592543275633, \"This work\": 1.0}, {\"x\": 0.8293858555638661, \"This work\": 1.0}, {\"x\": 0.8282157676348549, \"This work\": 1.0}, {\"x\": 0.8270489765476091, \"This work\": 1.0}, {\"x\": 0.8258854683879511, \"This work\": 1.0}, {\"x\": 0.8247252293198909, \"This work\": 1.0}, {\"x\": 0.8235682455850801, \"This work\": 1.0}, {\"x\": 0.8224145035022661, \"This work\": 1.0}, {\"x\": 0.8212639894667544, \"This work\": 1.0}, {\"x\": 0.8201166899498726, \"This work\": 1.0}, {\"x\": 0.8189725914984408, \"This work\": 1.0}, {\"x\": 0.8178316807342456, \"This work\": 1.0}, {\"x\": 0.8166939443535188, \"This work\": 1.0}, {\"x\": 0.8155593691264199, \"This work\": 1.0}, {\"x\": 0.8144279418965237, \"This work\": 1.0}, {\"x\": 0.8132996495803114, \"This work\": 1.0}, {\"x\": 0.8121744791666667, \"This work\": 1.0}, {\"x\": 0.8110524177163756, \"This work\": 1.0}, {\"x\": 0.8099334523616297, \"This work\": 1.0}, {\"x\": 0.8088175703055352, \"This work\": 1.0}, {\"x\": 0.8077047588216252, \"This work\": 1.0}, {\"x\": 0.8065950052533744, \"This work\": 1.0}, {\"x\": 0.8054882970137208, \"This work\": 1.0}, {\"x\": 0.8043846215845892, \"This work\": 1.0}, {\"x\": 0.8032839665164198, \"This work\": 1.0}, {\"x\": 0.8021863194276987, \"This work\": 1.0}, {\"x\": 0.801091668004495, \"This work\": 1.0}, {\"x\": 0.8, \"This work\": 1.0}]}}, {\"mode\": \"vega-lite\"});\n",
       "</script>"
      ],
      "text/plain": [
       "alt.Chart(...)"
      ]
     },
     "metadata": {},
     "output_type": "display_data"
    }
   ],
   "source": [
    "# Display species/reaction by ID\n",
    "id_ = \"51: 1\"\n",
    "\n",
    "#   - Read in expanded mechanism\n",
    "mech_path = p_.stereo_mechanism(tag, ext=\"json\", path=p_.data(root_path))\n",
    "mech = automech.io.read(mech_path)\n",
    "\n",
    "#   - Display the reaction\n",
    "if \":\" in id_:\n",
    "    automech.display_reactions(mech, chans=[id_])\n",
    "else:\n",
    "    automech.display_species(mech, ids=[id_])"
   ]
  },
  {
   "cell_type": "code",
   "execution_count": 9,
   "metadata": {},
   "outputs": [
    {
     "name": "stdout",
     "output_type": "stream",
     "text": [
      "name: S(725)r0\n",
      "smiles: OO[C@H]1C[CH]CC1\n"
     ]
    },
    {
     "data": {
      "image/png": "[encoded data removed]",
      "text/plain": [
       "<rdkit.Chem.rdchem.Mol at 0x15119ab7e5e0>"
      ]
     },
     "metadata": {},
     "output_type": "display_data"
    }
   ],
   "source": [
    "automech.display_species(mech, spc_vals_=[\"S(725)r0\"])"
   ]
  },
  {
   "cell_type": "code",
   "execution_count": null,
   "metadata": {},
   "outputs": [],
   "source": []
  }
 ],
 "metadata": {
  "kernelspec": {
   "display_name": "proto",
   "language": "python",
   "name": "python3"
  },
  "language_info": {
   "codemirror_mode": {
    "name": "ipython",
    "version": 3
   },
   "file_extension": ".py",
   "mimetype": "text/x-python",
   "name": "python",
   "nbconvert_exporter": "python",
   "pygments_lexer": "ipython3",
   "version": "3.11.11"
  }
 },
 "nbformat": 4,
 "nbformat_minor": 2
}
