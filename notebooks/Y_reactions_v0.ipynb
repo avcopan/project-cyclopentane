{
 "cells": [
  {
   "cell_type": "code",
   "execution_count": null,
   "metadata": {},
   "outputs": [],
   "source": [
    "from pathlib import Path\n",
    "\n",
    "import automech\n",
    "from project_utilities import p_, util, workflow\n",
    "\n",
    "file = util.notebook_file() if util.is_notebook() else __file__\n",
    "tag = util.file_tag(file)\n",
    "root_path = Path(\"..\")\n",
    "par_mech = workflow.read_parent_mechanism(root_path=root_path)"
   ]
  },
  {
   "cell_type": "code",
   "execution_count": null,
   "metadata": {},
   "outputs": [],
   "source": [
    "# Generate submechanism\n",
    "sub_tags = [\n",
    "    \"1e_A_rh-oh_v0\",\n",
    "    \"1e_B_rh-ho2_v0\",\n",
    "    \"1e_C_r_v0\",\n",
    "    \"1e_D_r-o2_v0\",\n",
    "    \"0a_A_rh-oh_v0\",\n",
    "    \"0a_B_rh-ho2_v0\",\n",
    "    \"0a_C_r_v0\",\n",
    "    \"0a_D_r-o2_v0\",\n",
    "]\n",
    "gen_paths = [p_.generated_mechanism(t, \"json\", p_.data(root_path)) for t in sub_tags]\n",
    "ste_paths = [p_.stereo_mechanism(t, \"json\", p_.data(root_path)) for t in sub_tags]\n",
    "gen_mechs = [automech.io.read(p) for p in gen_paths]\n",
    "ste_mechs = [automech.io.read(p) for p in ste_paths]\n",
    "gen_mech = automech.combine_all(gen_mechs)\n",
    "ste_mech = automech.combine_all(ste_mechs)\n",
    "gen_mech = automech.drop_duplicate_reactions(gen_mech)\n",
    "ste_mech = automech.drop_duplicate_reactions(ste_mech)\n",
    "ste_mech = automech.drop_noncanonical_enantiomers(ste_mech)\n",
    "automech.display(gen_mech)"
   ]
  },
  {
   "cell_type": "code",
   "execution_count": null,
   "metadata": {},
   "outputs": [],
   "source": [
    "# # Prepare calculation\n",
    "# # workflow.prepare_calculation(\n",
    "# #     gen_mech=gen_mech, ste_mech=ste_mech, tag=tag, root_path=root_path, fake_sort=True\n",
    "# # )\n",
    "# workflow.augment_calculation(\n",
    "#     gen_mech=gen_mech, ste_mech=ste_mech, tag=tag, root_path=root_path\n",
    "# )"
   ]
  },
  {
   "cell_type": "code",
   "execution_count": null,
   "metadata": {},
   "outputs": [],
   "source": [
    "# # Identify instability reactions:\n",
    "# import polars as pl\n",
    "\n",
    "# gen_path = p_.generated_mechanism(tag, ext=\"json\", path=p_.data(root_path))\n",
    "# gen_mech = automech.io.read(gen_path)\n",
    "# instab_orig_names = automech.unstable_species_names(gen_mech)\n",
    "\n",
    "# ste_path = p_.stereo_mechanism(tag, ext=\"json\", path=p_.data(root_path))\n",
    "# ste_mech = automech.io.read(ste_path)\n",
    "# ins_mech = ste_mech.model_copy()\n",
    "# # ins_mech.reactions = ste_mech.reactions.filter(pl.col(\"orig_reactants\").list.set_intersection(instab_orig_names).list.len() > 0)\n",
    "# ins_mech.reactions = ste_mech.reactions.filter(\n",
    "#     pl.col(\"orig_reactants\").list.contains(\"OH(4)\"),\n",
    "#     pl.col(\"orig_products\").list.set_intersection(instab_orig_names).list.len() > 0\n",
    "# )\n",
    "# ins_mech.reactions"
   ]
  },
  {
   "cell_type": "code",
   "execution_count": null,
   "metadata": {},
   "outputs": [],
   "source": [
    "# # Identify all acetylene beta scissions:\n",
    "# import polars as pl\n",
    "\n",
    "# gen_path = p_.generated_mechanism(tag, ext=\"json\", path=p_.data(root_path))\n",
    "# gen_mech = automech.io.read(gen_path)\n",
    "# instab_orig_names = automech.unstable_species_names(gen_mech)\n",
    "\n",
    "# ste_path = p_.stereo_mechanism(tag, ext=\"json\", path=p_.data(root_path))\n",
    "# ste_mech = automech.io.read(ste_path)\n",
    "# ins_mech = ste_mech.model_copy()\n",
    "# # ins_mech.reactions = ste_mech.reactions.filter(pl.col(\"orig_reactants\").list.set_intersection(instab_orig_names).list.len() > 0)\n",
    "# ins_mech.reactions = ste_mech.reactions.filter(\n",
    "#     pl.col(\"orig_reactants\").list.contains(\"C2H2(40)\")\n",
    "#     | pl.col(\"orig_products\").list.contains(\"C2H2(40)\")\n",
    "# )\n",
    "# ins_mech.reactions"
   ]
  },
  {
   "cell_type": "code",
   "execution_count": null,
   "metadata": {},
   "outputs": [],
   "source": [
    "# # Display species/reaction by ID\n",
    "# # ids_ = [\"64: 1\", \"65: 1\", \"66: 1\", \"67: 1\", \"68: 1\", \"69: 1\", \"70: 1\", \"71: 1\"]\n",
    "# ids_ = [\"75: 1\", \"76: 1\"]\n",
    "\n",
    "# #   - Read in expanded mechanism\n",
    "# mech_path = p_.stereo_mechanism(tag, ext=\"json\", path=p_.data(root_path))\n",
    "# mech = automech.io.read(mech_path)\n",
    "\n",
    "# rxn_chans = [id_ for id_ in ids_ if \":\" in id_]\n",
    "# spc_ids = [id_ for id_ in ids_ if \":\" not in id_]\n",
    "\n",
    "# #   - Display the reaction\n",
    "# print(\"Species:\")\n",
    "# automech.display_species(mech, ids=spc_ids)\n",
    "# print(\"Reactions:\")\n",
    "# automech.display_reactions(mech, chans=rxn_chans)"
   ]
  }
 ],
 "metadata": {
  "kernelspec": {
   "display_name": "all",
   "language": "python",
   "name": "python3"
  },
  "language_info": {
   "codemirror_mode": {
    "name": "ipython",
    "version": 3
   },
   "file_extension": ".py",
   "mimetype": "text/x-python",
   "name": "python",
   "nbconvert_exporter": "python",
   "pygments_lexer": "ipython3",
   "version": "3.12.11"
  }
 },
 "nbformat": 4,
 "nbformat_minor": 2
}
