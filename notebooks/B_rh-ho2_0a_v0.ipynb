{
 "cells": [
  {
   "cell_type": "code",
   "execution_count": 1,
   "metadata": {},
   "outputs": [],
   "source": [
    "from pathlib import Path\n",
    "\n",
    "import util\n",
    "from util import p_, workflow\n",
    "\n",
    "import automech\n",
    "\n",
    "file = util.notebook_file() if util.is_notebook() else __file__\n",
    "tag = util.file_tag(file)\n",
    "root_path = Path(\"..\")\n",
    "par_mech = workflow.read_parent_mechanism(root_path=root_path)"
   ]
  },
  {
   "cell_type": "code",
   "execution_count": 2,
   "metadata": {},
   "outputs": [
    {
     "data": {
      "application/vnd.jupyter.widget-view+json": {
       "model_id": "3adb93829649420a9db9d3d4c7b94363",
       "version_major": 2,
       "version_minor": 0
      },
      "text/plain": [
       "  0%|          | 0/1 [00:00<?, ?it/s]"
      ]
     },
     "metadata": {},
     "output_type": "display_data"
    }
   ],
   "source": [
    "# Build\n",
    "from automol.graph import enum\n",
    "\n",
    "from automech.species import Species\n",
    "\n",
    "mech = automech.from_smiles(spc_smis=[\"C1CCCC1\"], src_mech=par_mech)\n",
    "#  - Abstractions\n",
    "mech = automech.enumerate_reactions(\n",
    "    mech,\n",
    "    enum.ReactionSmarts.abstraction,\n",
    "    rcts_=[None, \"O[O]\"],\n",
    "    spc_col_=Species.smiles,\n",
    "    src_mech=par_mech,\n",
    ")\n",
    "\n",
    "automech.display(mech)"
   ]
  },
  {
   "cell_type": "code",
   "execution_count": 3,
   "metadata": {},
   "outputs": [
    {
     "name": "stdout",
     "output_type": "stream",
     "text": [
      "\n",
      "Finalizing build for...\n",
      "reactions=shape: (1, 5)\n",
      "┌──────────────┬─────────────────────────────┬───────────┬────────────┬────────────────────────────┐\n",
      "│ reactants    ┆ products                    ┆ formula   ┆ reversible ┆ rate                       │\n",
      "│ ---          ┆ ---                         ┆ ---       ┆ ---        ┆ ---                        │\n",
      "│ list[str]    ┆ list[str]                   ┆ struct[3] ┆ bool       ┆ struct[18]                 │\n",
      "╞══════════════╪═════════════════════════════╪═══════════╪════════════╪════════════════════════════╡\n",
      "│ [\"CPT(563)\", ┆ [\"C5H9(553)\", \"H2O2(10)\"]   ┆ {5,11,2}  ┆ true       ┆ {2,{null,null,null,null,nu │\n",
      "│ \"HO2(8)\"]    ┆                             ┆           ┆            ┆ ll,n…                      │\n",
      "└──────────────┴─────────────────────────────┴───────────┴────────────┴────────────────────────────┘ species=shape: (4, 7)\n",
      "┌───────────┬────────────┬───────────────────┬──────┬────────┬──────────────────┬──────────────────┐\n",
      "│ name      ┆ smiles     ┆ amchi             ┆ spin ┆ charge ┆ formula          ┆ therm            │\n",
      "│ ---       ┆ ---        ┆ ---               ┆ ---  ┆ ---    ┆ ---              ┆ ---              │\n",
      "│ str       ┆ str        ┆ str               ┆ i64  ┆ i64    ┆ struct[7]        ┆ struct[8]        │\n",
      "╞═══════════╪════════════╪═══════════════════╪══════╪════════╪══════════════════╪══════════════════╡\n",
      "│ CPT(563)  ┆ C1CCCC1    ┆ AMChI=1/C5H10/c1- ┆ 0    ┆ 0      ┆ {10,null,null,nu ┆ {298.0,5000.0,{n │\n",
      "│           ┆            ┆ 2-4-5-3-1/h1-…    ┆      ┆        ┆ ll,null,5,null…  ┆ ull,null,10,nu…  │\n",
      "│ HO2(8)    ┆ O[O]       ┆ AMChI=1/HO2/c1-2/ ┆ 1    ┆ 0      ┆ {1,2,null,null,n ┆ {200.0,5000.0,{n │\n",
      "│           ┆            ┆ h2H               ┆      ┆        ┆ ull,null,null}   ┆ ull,null,1,2,n…  │\n",
      "│ C5H9(553) ┆ C1CC[CH]C1 ┆ AMChI=1/C5H9/c1-2 ┆ 1    ┆ 0      ┆ {9,null,null,nul ┆ {298.0,5000.0,{n │\n",
      "│           ┆            ┆ -4-5-3-1/h1H,…    ┆      ┆        ┆ l,null,5,null}   ┆ ull,null,9,nul…  │\n",
      "│ H2O2(10)  ┆ OO         ┆ AMChI=1/H2O2/c1-2 ┆ 0    ┆ 0      ┆ {2,2,null,null,n ┆ {200.0,6000.0,{n │\n",
      "│           ┆            ┆ /h1-2H            ┆      ┆        ┆ ull,null,null}   ┆ ull,null,2,2,n…  │\n",
      "└───────────┴────────────┴───────────────────┴──────┴────────┴──────────────────┴──────────────────┘\n",
      "\n",
      "Expanding stereochemistry...\n"
     ]
    },
    {
     "data": {
      "application/vnd.jupyter.widget-view+json": {
       "model_id": "9dee28898d1a4758bc4d2ebb569fcb0b",
       "version_major": 2,
       "version_minor": 0
      },
      "text/plain": [
       "  0%|          | 0/4 [00:00<?, ?it/s]"
      ]
     },
     "metadata": {},
     "output_type": "display_data"
    },
    {
     "data": {
      "application/vnd.jupyter.widget-view+json": {
       "model_id": "8944bf28467f44a58c6b98e1907f6543",
       "version_major": 2,
       "version_minor": 0
      },
      "text/plain": [
       "  0%|          | 0/4 [00:00<?, ?it/s]"
      ]
     },
     "metadata": {},
     "output_type": "display_data"
    },
    {
     "data": {
      "application/vnd.jupyter.widget-view+json": {
       "model_id": "0f4e9fc3a3d64a38843646364ad16205",
       "version_major": 2,
       "version_minor": 0
      },
      "text/plain": [
       "  0%|          | 0/1 [00:00<?, ?it/s]"
      ]
     },
     "metadata": {},
     "output_type": "display_data"
    },
    {
     "name": "stdout",
     "output_type": "stream",
     "text": [
      "\n",
      "Writing mechanism...\n",
      "../data/B_rh-ho2_0a_v0_gen.json\n",
      "../data/B_rh-ho2_0a_v0_ste.json\n",
      "../data/mechanalyzer/B_rh-ho2_0a_v0_ste.dat\n",
      "../data/mechanalyzer/B_rh-ho2_0a_v0_ste.csv\n"
     ]
    },
    {
     "data": {
      "application/vnd.jupyter.widget-view+json": {
       "model_id": "f330c130fd4f4b11b29392e5676f4fbd",
       "version_major": 2,
       "version_minor": 0
      },
      "text/plain": [
       "  0%|          | 0/4 [00:00<?, ?it/s]"
      ]
     },
     "metadata": {},
     "output_type": "display_data"
    },
    {
     "data": {
      "application/vnd.jupyter.widget-view+json": {
       "model_id": "1c9e21ff76ba48b995f0590a26d4ace1",
       "version_major": 2,
       "version_minor": 0
      },
      "text/plain": [
       "  0%|          | 0/4 [00:00<?, ?it/s]"
      ]
     },
     "metadata": {},
     "output_type": "display_data"
    },
    {
     "data": {
      "application/vnd.jupyter.widget-view+json": {
       "model_id": "11c830e8410a46eba00a0725c3af5b32",
       "version_major": 2,
       "version_minor": 0
      },
      "text/plain": [
       "  0%|          | 0/4 [00:00<?, ?it/s]"
      ]
     },
     "metadata": {},
     "output_type": "display_data"
    },
    {
     "name": "stdout",
     "output_type": "stream",
     "text": [
      "\n",
      "Stereoexpansion errors:\n"
     ]
    }
   ],
   "source": [
    "# Prepare calculation\n",
    "workflow.prepare_calculation(mech=mech, tag=tag, root_path=root_path)"
   ]
  },
  {
   "cell_type": "code",
   "execution_count": 4,
   "metadata": {},
   "outputs": [],
   "source": [
    "# # Prepare simulation\n",
    "# workflow.prepare_simulation(tag=tag, root_path=root_path)\n",
    "# workflow.prepare_simulation_species(tag=tag, root_path=root_path)"
   ]
  },
  {
   "cell_type": "code",
   "execution_count": 5,
   "metadata": {},
   "outputs": [],
   "source": [
    "# # Check rates\n",
    "# workflow.plot_rates(tag=tag, root_path=root_path)"
   ]
  },
  {
   "cell_type": "code",
   "execution_count": 6,
   "metadata": {},
   "outputs": [],
   "source": [
    "# # Plot simulation\n",
    "# chart_dct = workflow.plot_simulation(\n",
    "#     tag=tag,\n",
    "#     x_col=\"O2_molecules\",\n",
    "#     root_path=root_path,\n",
    "#     line_source_=[\"Hill\", \"Lokachari\"],\n",
    "#     point_source=\"Experiment\",\n",
    "#     control=False,\n",
    "# )\n",
    "# mech = automech.io.read(\n",
    "#     p_.full_calculated_mechanism(tag, \"json\", path=p_.data(root_path))\n",
    "# )\n",
    "# for name, chart in chart_dct.items():\n",
    "#     automech.display_species(mech, [name])\n",
    "#     chart.show()"
   ]
  }
 ],
 "metadata": {
  "kernelspec": {
   "display_name": "proto",
   "language": "python",
   "name": "python3"
  },
  "language_info": {
   "codemirror_mode": {
    "name": "ipython",
    "version": 3
   },
   "file_extension": ".py",
   "mimetype": "text/x-python",
   "name": "python",
   "nbconvert_exporter": "python",
   "pygments_lexer": "ipython3",
   "version": "3.11.12"
  }
 },
 "nbformat": 4,
 "nbformat_minor": 2
}
