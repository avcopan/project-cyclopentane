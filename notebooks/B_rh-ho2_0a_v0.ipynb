{
 "cells": [
  {
   "cell_type": "code",
   "execution_count": 1,
   "metadata": {},
   "outputs": [],
   "source": [
    "from pathlib import Path\n",
    "\n",
    "import util\n",
    "from util import p_, workflow\n",
    "\n",
    "import automech\n",
    "\n",
    "file = util.notebook_file() if util.is_notebook() else __file__\n",
    "tag = util.file_tag(file)\n",
    "root_path = Path(\"..\")\n",
    "par_mech = workflow.read_parent_mechanism(root_path=root_path)"
   ]
  },
  {
   "cell_type": "code",
   "execution_count": 2,
   "metadata": {},
   "outputs": [
    {
     "data": {
      "application/vnd.jupyter.widget-view+json": {
       "model_id": "8027cfd0c82849669d070cdb3c83e799",
       "version_major": 2,
       "version_minor": 0
      },
      "text/plain": [
       "  0%|          | 0/1 [00:00<?, ?it/s]"
      ]
     },
     "metadata": {},
     "output_type": "display_data"
    }
   ],
   "source": [
    "# Build\n",
    "from automol.graph import enum\n",
    "\n",
    "from automech.species import Species\n",
    "\n",
    "mech = automech.from_smiles(spc_smis=[\"C1CCCC1\"], src_mech=par_mech)\n",
    "#  - Abstractions\n",
    "mech = automech.enumerate_reactions(\n",
    "    mech,\n",
    "    enum.ReactionSmarts.abstraction,\n",
    "    rcts_=[None, \"O[O]\"],\n",
    "    spc_col_=Species.smiles,\n",
    "    src_mech=par_mech,\n",
    ")\n",
    "\n",
    "automech.display(mech)"
   ]
  },
  {
   "cell_type": "code",
   "execution_count": 3,
   "metadata": {},
   "outputs": [
    {
     "name": "stdout",
     "output_type": "stream",
     "text": [
      "\n",
      "Finalizing build for...\n",
      "reactions=shape: (1, 5)\n",
      "┌──────────────┬─────────────────────────────┬───────────┬────────────┬────────────────────────────┐\n",
      "│ reactants    ┆ products                    ┆ formula   ┆ reversible ┆ rate                       │\n",
      "│ ---          ┆ ---                         ┆ ---       ┆ ---        ┆ ---                        │\n",
      "│ list[str]    ┆ list[str]                   ┆ struct[3] ┆ bool       ┆ struct[18]                 │\n",
      "╞══════════════╪═════════════════════════════╪═══════════╪════════════╪════════════════════════════╡\n",
      "│ [\"CPT(563)\", ┆ [\"C5H9(553)\", \"H2O2(10)\"]   ┆ {5,11,2}  ┆ true       ┆ {2,{null,null,null,null,nu │\n",
      "│ \"HO2(8)\"]    ┆                             ┆           ┆            ┆ ll,n…                      │\n",
      "└──────────────┴─────────────────────────────┴───────────┴────────────┴────────────────────────────┘ species=shape: (4, 7)\n",
      "┌───────────┬────────────┬───────────────────┬──────┬────────┬──────────────────┬──────────────────┐\n",
      "│ name      ┆ smiles     ┆ amchi             ┆ spin ┆ charge ┆ formula          ┆ therm            │\n",
      "│ ---       ┆ ---        ┆ ---               ┆ ---  ┆ ---    ┆ ---              ┆ ---              │\n",
      "│ str       ┆ str        ┆ str               ┆ i64  ┆ i64    ┆ struct[7]        ┆ struct[8]        │\n",
      "╞═══════════╪════════════╪═══════════════════╪══════╪════════╪══════════════════╪══════════════════╡\n",
      "│ CPT(563)  ┆ C1CCCC1    ┆ AMChI=1/C5H10/c1- ┆ 0    ┆ 0      ┆ {10,null,null,nu ┆ {298.0,5000.0,{n │\n",
      "│           ┆            ┆ 2-4-5-3-1/h1-…    ┆      ┆        ┆ ll,null,5,null…  ┆ ull,null,10,nu…  │\n",
      "│ HO2(8)    ┆ O[O]       ┆ AMChI=1/HO2/c1-2/ ┆ 1    ┆ 0      ┆ {1,2,null,null,n ┆ {200.0,5000.0,{n │\n",
      "│           ┆            ┆ h2H               ┆      ┆        ┆ ull,null,null}   ┆ ull,null,1,2,n…  │\n",
      "│ C5H9(553) ┆ C1CC[CH]C1 ┆ AMChI=1/C5H9/c1-2 ┆ 1    ┆ 0      ┆ {9,null,null,nul ┆ {298.0,5000.0,{n │\n",
      "│           ┆            ┆ -4-5-3-1/h1H,…    ┆      ┆        ┆ l,null,5,null}   ┆ ull,null,9,nul…  │\n",
      "│ H2O2(10)  ┆ OO         ┆ AMChI=1/H2O2/c1-2 ┆ 0    ┆ 0      ┆ {2,2,null,null,n ┆ {200.0,6000.0,{n │\n",
      "│           ┆            ┆ /h1-2H            ┆      ┆        ┆ ull,null,null}   ┆ ull,null,2,2,n…  │\n",
      "└───────────┴────────────┴───────────────────┴──────┴────────┴──────────────────┴──────────────────┘\n",
      "\n",
      "Expanding stereochemistry...\n"
     ]
    },
    {
     "data": {
      "application/vnd.jupyter.widget-view+json": {
       "model_id": "c476e3ca1d17431caa59ff43a49dee28",
       "version_major": 2,
       "version_minor": 0
      },
      "text/plain": [
       "  0%|          | 0/4 [00:00<?, ?it/s]"
      ]
     },
     "metadata": {},
     "output_type": "display_data"
    },
    {
     "data": {
      "application/vnd.jupyter.widget-view+json": {
       "model_id": "7abfc62f36ca4c028b5847b0e37995d4",
       "version_major": 2,
       "version_minor": 0
      },
      "text/plain": [
       "  0%|          | 0/4 [00:00<?, ?it/s]"
      ]
     },
     "metadata": {},
     "output_type": "display_data"
    },
    {
     "data": {
      "application/vnd.jupyter.widget-view+json": {
       "model_id": "c0a5b696df6b426392ab7619159b1b2f",
       "version_major": 2,
       "version_minor": 0
      },
      "text/plain": [
       "  0%|          | 0/1 [00:00<?, ?it/s]"
      ]
     },
     "metadata": {},
     "output_type": "display_data"
    },
    {
     "name": "stdout",
     "output_type": "stream",
     "text": [
      "\n",
      "Writing mechanism...\n",
      "../data/B_rh-ho2_0a_v0_gen.json\n",
      "../data/B_rh-ho2_0a_v0_ste.json\n",
      "../data/mechanalyzer/B_rh-ho2_0a_v0_ste.dat\n",
      "../data/mechanalyzer/B_rh-ho2_0a_v0_ste.csv\n"
     ]
    },
    {
     "data": {
      "application/vnd.jupyter.widget-view+json": {
       "model_id": "bea294389fd74680b44f8c9a941e22e8",
       "version_major": 2,
       "version_minor": 0
      },
      "text/plain": [
       "  0%|          | 0/4 [00:00<?, ?it/s]"
      ]
     },
     "metadata": {},
     "output_type": "display_data"
    },
    {
     "data": {
      "application/vnd.jupyter.widget-view+json": {
       "model_id": "28fd20d1cc824a5aaca251ed436c31d5",
       "version_major": 2,
       "version_minor": 0
      },
      "text/plain": [
       "  0%|          | 0/4 [00:00<?, ?it/s]"
      ]
     },
     "metadata": {},
     "output_type": "display_data"
    },
    {
     "data": {
      "application/vnd.jupyter.widget-view+json": {
       "model_id": "5f2b65ea88784b4aad87c68fb7fa7b72",
       "version_major": 2,
       "version_minor": 0
      },
      "text/plain": [
       "  0%|          | 0/4 [00:00<?, ?it/s]"
      ]
     },
     "metadata": {},
     "output_type": "display_data"
    },
    {
     "name": "stdout",
     "output_type": "stream",
     "text": [
      "\n",
      "Stereoexpansion errors:\n"
     ]
    }
   ],
   "source": [
    "# Prepare calculation\n",
    "workflow.prepare_calculation(mech=mech, tag=tag, root_path=root_path)"
   ]
  },
  {
   "cell_type": "code",
   "execution_count": 4,
   "metadata": {},
   "outputs": [
    {
     "name": "stdout",
     "output_type": "stream",
     "text": [
      "New species and reactions:\n",
      "\n",
      "SPECIES\n",
      "\n",
      "END\n",
      "\n",
      "\n",
      "REACTIONS    CAL/MOL   MOL\n",
      "\n",
      "END\n",
      "\n",
      "\n",
      "\n",
      "Statistics summary:\n",
      "\n",
      "shape: (5, 3)\n",
      "┌────────────────────┬───────────────┬────────────────┐\n",
      "│ Mechanism          ┆ Species Count ┆ Reaction Count │\n",
      "│ ---                ┆ ---           ┆ ---            │\n",
      "│ str                ┆ i64           ┆ i64            │\n",
      "╞════════════════════╪═══════════════╪════════════════╡\n",
      "│ Parent             ┆ 2534          ┆ 10002          │\n",
      "│ Generated          ┆ 4             ┆ 1              │\n",
      "│ Stereo             ┆ 4             ┆ 1              │\n",
      "│ Generated - Parent ┆ 0             ┆ 0              │\n",
      "│ Stereo - Parent    ┆ 0             ┆ 0              │\n",
      "└────────────────────┴───────────────┴────────────────┘\n"
     ]
    }
   ],
   "source": [
    "# Gather statistics\n",
    "workflow.gather_statistics(tag=tag, root_path=root_path)"
   ]
  },
  {
   "cell_type": "code",
   "execution_count": 5,
   "metadata": {},
   "outputs": [],
   "source": [
    "# # Prepare simulation\n",
    "# workflow.prepare_simulation(tag=tag, root_path=root_path)\n",
    "# workflow.prepare_simulation_species(tag=tag, root_path=root_path)"
   ]
  },
  {
   "cell_type": "code",
   "execution_count": 6,
   "metadata": {},
   "outputs": [],
   "source": [
    "# # Check rates\n",
    "# workflow.plot_rates(tag=tag, root_path=root_path)"
   ]
  },
  {
   "cell_type": "code",
   "execution_count": 7,
   "metadata": {},
   "outputs": [],
   "source": [
    "# # Plot simulation\n",
    "# chart_dct = workflow.plot_simulation(\n",
    "#     tag=tag,\n",
    "#     x_col=\"O2_molecules\",\n",
    "#     root_path=root_path,\n",
    "#     line_source_=[\"Hill\", \"Lokachari\"],\n",
    "#     point_source=\"Experiment\",\n",
    "#     control=False,\n",
    "# )\n",
    "# mech = automech.io.read(\n",
    "#     p_.full_calculated_mechanism(tag, \"json\", path=p_.data(root_path))\n",
    "# )\n",
    "# for name, chart in chart_dct.items():\n",
    "#     automech.display_species(mech, [name])\n",
    "#     chart.show()"
   ]
  }
 ],
 "metadata": {
  "kernelspec": {
   "display_name": "proto",
   "language": "python",
   "name": "python3"
  },
  "language_info": {
   "codemirror_mode": {
    "name": "ipython",
    "version": 3
   },
   "file_extension": ".py",
   "mimetype": "text/x-python",
   "name": "python",
   "nbconvert_exporter": "python",
   "pygments_lexer": "ipython3",
   "version": "3.11.12"
  }
 },
 "nbformat": 4,
 "nbformat_minor": 2
}
