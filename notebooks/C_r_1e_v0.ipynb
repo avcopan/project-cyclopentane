{
 "cells": [
  {
   "cell_type": "code",
   "execution_count": 1,
   "metadata": {},
   "outputs": [],
   "source": [
    "from pathlib import Path\n",
    "\n",
    "import util\n",
    "from util import p_, workflow\n",
    "\n",
    "import automech\n",
    "\n",
    "file = util.notebook_file() if util.is_notebook() else __file__\n",
    "tag = util.file_tag(file)\n",
    "root_path = Path(\"..\")\n",
    "par_mech = workflow.read_parent_mechanism(root_path=root_path)"
   ]
  },
  {
   "cell_type": "code",
   "execution_count": 2,
   "metadata": {},
   "outputs": [
    {
     "data": {
      "application/vnd.jupyter.widget-view+json": {
       "model_id": "4551ca8dbb644a92b217b5683eb4cd57",
       "version_major": 2,
       "version_minor": 0
      },
      "text/plain": [
       "  0%|          | 0/2 [00:00<?, ?it/s]"
      ]
     },
     "metadata": {},
     "output_type": "display_data"
    }
   ],
   "source": [
    "# Generate submechanism\n",
    "from automol.graph import enum\n",
    "\n",
    "mech = automech.from_smiles(\n",
    "    spc_smis=[\"C1=C[CH]CC1\", \"C1=CC[CH]C1\"],\n",
    "    src_mech=par_mech,\n",
    ")\n",
    "#  - Ring-opening scissions\n",
    "mech = automech.enumerate_reactions(\n",
    "    mech,\n",
    "    enum.ReactionSmarts.ring_beta_scission,\n",
    "    src_mech=par_mech,\n",
    ")\n",
    "automech.display(mech)"
   ]
  },
  {
   "cell_type": "code",
   "execution_count": 3,
   "metadata": {},
   "outputs": [
    {
     "name": "stdout",
     "output_type": "stream",
     "text": [
      "\n",
      "Finalizing build for...\n",
      "reactions=shape: (2, 5)\n",
      "┌───────────────┬───────────────┬────────────┬────────────┬─────────────────────────────────┐\n",
      "│ reactants     ┆ products      ┆ formula    ┆ reversible ┆ rate                            │\n",
      "│ ---           ┆ ---           ┆ ---        ┆ ---        ┆ ---                             │\n",
      "│ list[str]     ┆ list[str]     ┆ struct[3]  ┆ bool       ┆ struct[18]                      │\n",
      "╞═══════════════╪═══════════════╪════════════╪════════════╪═════════════════════════════════╡\n",
      "│ [\"C5H7(507)\"] ┆ [\"C5H7(500)\"] ┆ {7,null,5} ┆ true       ┆ {1,{null,null,null,null,null,n… │\n",
      "│ [\"C5H7(487)\"] ┆ [\"C5H7(504)\"] ┆ {7,null,5} ┆ true       ┆ {1,{null,null,null,null,null,n… │\n",
      "└───────────────┴───────────────┴────────────┴────────────┴─────────────────────────────────┘ species=shape: (4, 7)\n",
      "┌───────────┬─────────────┬──────────────────┬──────┬────────┬──────────────────┬──────────────────┐\n",
      "│ name      ┆ smiles      ┆ amchi            ┆ spin ┆ charge ┆ formula          ┆ therm            │\n",
      "│ ---       ┆ ---         ┆ ---              ┆ ---  ┆ ---    ┆ ---              ┆ ---              │\n",
      "│ str       ┆ str         ┆ str              ┆ i64  ┆ i64    ┆ struct[7]        ┆ struct[8]        │\n",
      "╞═══════════╪═════════════╪══════════════════╪══════╪════════╪══════════════════╪══════════════════╡\n",
      "│ C5H7(500) ┆ C1C[CH]C=C1 ┆ AMChI=1/C5H7/c1- ┆ 1    ┆ 0      ┆ {7,null,null,nul ┆ {298.0,5000.0,{n │\n",
      "│           ┆             ┆ 2-4-5-3-1/h1-3…  ┆      ┆        ┆ l,null,5,null}   ┆ ull,null,7,nul…  │\n",
      "│ C5H7(507) ┆ C=C[CH]C=C  ┆ AMChI=1/C5H7/c1- ┆ 1    ┆ 0      ┆ {7,null,null,nul ┆ {298.0,5000.0,{n │\n",
      "│           ┆             ┆ 3-5-4-2/h3-5H,…  ┆      ┆        ┆ l,null,5,null}   ┆ ull,null,7,nul…  │\n",
      "│ C5H7(504) ┆ C1[CH]CC=C1 ┆ AMChI=1/C5H7/c1- ┆ 1    ┆ 0      ┆ {7,null,null,nul ┆ {298.0,5000.0,{n │\n",
      "│           ┆             ┆ 2-5-3-4-1/h1-3…  ┆      ┆        ┆ l,null,5,null}   ┆ ull,null,7,nul…  │\n",
      "│ C5H7(487) ┆ C=CCC=[CH]  ┆ AMChI=1/C5H7/c1- ┆ 1    ┆ 0      ┆ {7,null,null,nul ┆ {300.0,5000.0,{n │\n",
      "│           ┆             ┆ 3-5-4-2/h1,3-4…  ┆      ┆        ┆ l,null,5,null}   ┆ ull,null,7,nul…  │\n",
      "└───────────┴─────────────┴──────────────────┴──────┴────────┴──────────────────┴──────────────────┘\n",
      "\n",
      "Expanding stereochemistry...\n"
     ]
    },
    {
     "data": {
      "application/vnd.jupyter.widget-view+json": {
       "model_id": "18e6f374c495439d82b931822b366747",
       "version_major": 2,
       "version_minor": 0
      },
      "text/plain": [
       "  0%|          | 0/4 [00:00<?, ?it/s]"
      ]
     },
     "metadata": {},
     "output_type": "display_data"
    },
    {
     "data": {
      "application/vnd.jupyter.widget-view+json": {
       "model_id": "67eca97139eb4bb0b7056e582aafad2e",
       "version_major": 2,
       "version_minor": 0
      },
      "text/plain": [
       "  0%|          | 0/7 [00:00<?, ?it/s]"
      ]
     },
     "metadata": {},
     "output_type": "display_data"
    },
    {
     "data": {
      "application/vnd.jupyter.widget-view+json": {
       "model_id": "550746085a4b421aabadac19601f39fa",
       "version_major": 2,
       "version_minor": 0
      },
      "text/plain": [
       "  0%|          | 0/2 [00:00<?, ?it/s]"
      ]
     },
     "metadata": {},
     "output_type": "display_data"
    },
    {
     "name": "stdout",
     "output_type": "stream",
     "text": [
      "\n",
      "Writing mechanism...\n",
      "../data/C_r_1e_v0_gen.json\n",
      "../data/C_r_1e_v0_ste.json\n",
      "../data/mechanalyzer/C_r_1e_v0_ste.dat\n",
      "../data/mechanalyzer/C_r_1e_v0_ste.csv\n"
     ]
    },
    {
     "data": {
      "application/vnd.jupyter.widget-view+json": {
       "model_id": "fb7ae99822c24ea682b33ee6b9d54b7e",
       "version_major": 2,
       "version_minor": 0
      },
      "text/plain": [
       "  0%|          | 0/7 [00:00<?, ?it/s]"
      ]
     },
     "metadata": {},
     "output_type": "display_data"
    },
    {
     "data": {
      "application/vnd.jupyter.widget-view+json": {
       "model_id": "896b44864b2e48b9b9bd815117a5d47c",
       "version_major": 2,
       "version_minor": 0
      },
      "text/plain": [
       "  0%|          | 0/7 [00:00<?, ?it/s]"
      ]
     },
     "metadata": {},
     "output_type": "display_data"
    },
    {
     "data": {
      "application/vnd.jupyter.widget-view+json": {
       "model_id": "5577d9ba683947a3af005b5eca4263ef",
       "version_major": 2,
       "version_minor": 0
      },
      "text/plain": [
       "  0%|          | 0/7 [00:00<?, ?it/s]"
      ]
     },
     "metadata": {},
     "output_type": "display_data"
    },
    {
     "name": "stdout",
     "output_type": "stream",
     "text": [
      "\n",
      "Stereoexpansion errors:\n"
     ]
    }
   ],
   "source": [
    "# Prepare calculation\n",
    "workflow.prepare_calculation(mech=mech, tag=tag, root_path=root_path)"
   ]
  },
  {
   "cell_type": "code",
   "execution_count": 4,
   "metadata": {},
   "outputs": [],
   "source": [
    "# # Prepare simulation\n",
    "# workflow.prepare_simulation(tag=tag, root_path=root_path)\n",
    "# workflow.prepare_simulation_species(tag=tag, root_path=root_path)"
   ]
  },
  {
   "cell_type": "code",
   "execution_count": 5,
   "metadata": {},
   "outputs": [],
   "source": [
    "# # Check rates\n",
    "# workflow.plot_rates(tag=tag, root_path=root_path)"
   ]
  },
  {
   "cell_type": "code",
   "execution_count": 6,
   "metadata": {},
   "outputs": [],
   "source": [
    "# # Plot simulation\n",
    "# chart_dct = workflow.plot_simulation(\n",
    "#     tag=tag,\n",
    "#     x_col=\"O2_molecules\",\n",
    "#     root_path=root_path,\n",
    "#     line_source_=[\"Hill\", \"Lokachari\"],\n",
    "#     point_source=\"Experiment\",\n",
    "#     control=False,\n",
    "# )\n",
    "# mech = automech.io.read(\n",
    "#     p_.full_calculated_mechanism(tag, \"json\", path=p_.data(root_path))\n",
    "# )\n",
    "# for name, chart in chart_dct.items():\n",
    "#     automech.display_species(mech, [name])\n",
    "#     chart.show()"
   ]
  },
  {
   "cell_type": "code",
   "execution_count": 7,
   "metadata": {},
   "outputs": [],
   "source": [
    "# # Check TS\n",
    "# from mechdriver.subtasks import display\n",
    "\n",
    "# chan = \"2: 5\"\n",
    "\n",
    "# #   - Read in expanded mechanism\n",
    "# mech_path = p_.mechanism(tag, ext=\"json\", path=p_.data(root_path))\n",
    "# mech = automech.io.read(mech_path)\n",
    "\n",
    "# #   - Display the reaction\n",
    "# automech.display_reactions(mech, chans=[chan])"
   ]
  },
  {
   "cell_type": "code",
   "execution_count": 8,
   "metadata": {},
   "outputs": [],
   "source": [
    "# #   - Display the TS mode\n",
    "# calc_path = p_.calc(root_path, tag)\n",
    "# display(\"conf_opt\", chan, path=calc_path)"
   ]
  },
  {
   "cell_type": "code",
   "execution_count": 9,
   "metadata": {},
   "outputs": [],
   "source": [
    "# #   - Display the TS mode\n",
    "# calc_path = p_.calc(root_path, tag)\n",
    "# display(\"find_ts\", chan, path=calc_path)"
   ]
  }
 ],
 "metadata": {
  "kernelspec": {
   "display_name": "proto",
   "language": "python",
   "name": "python3"
  },
  "language_info": {
   "codemirror_mode": {
    "name": "ipython",
    "version": 3
   },
   "file_extension": ".py",
   "mimetype": "text/x-python",
   "name": "python",
   "nbconvert_exporter": "python",
   "pygments_lexer": "ipython3",
   "version": "3.11.12"
  }
 },
 "nbformat": 4,
 "nbformat_minor": 2
}
