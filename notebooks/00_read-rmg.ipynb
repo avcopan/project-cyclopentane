{
 "cells": [
  {
   "cell_type": "code",
   "execution_count": 1,
   "metadata": {},
   "outputs": [],
   "source": [
    "from pathlib import Path\n",
    "\n",
    "import util\n",
    "from util import workflow\n",
    "\n",
    "import automech\n",
    "\n",
    "root_path = Path(\"..\")\n",
    "rmg_path = util.p_.rmg(root_path)"
   ]
  },
  {
   "cell_type": "code",
   "execution_count": 2,
   "metadata": {},
   "outputs": [
    {
     "data": {
      "application/vnd.jupyter.widget-view+json": {
       "model_id": "607a0059879d4590adf652e843e4b6a2",
       "version_major": 2,
       "version_minor": 0
      },
      "text/plain": [
       "  0%|          | 0/2534 [00:00<?, ?it/s]"
      ]
     },
     "metadata": {},
     "output_type": "display_data"
    }
   ],
   "source": [
    "par_mech = automech.io.rmg.read.mechanism(\n",
    "    rxn_inp=rmg_path / \"full_cyclopentane_chem.inp\",\n",
    "    spc_inp=rmg_path / \"full_cyclopentane_species_dictionary.txt\",\n",
    ")\n",
    "workflow.write_parent_mechanism(mech=par_mech, root_path=root_path)"
   ]
  }
 ],
 "metadata": {
  "kernelspec": {
   "display_name": "proto",
   "language": "python",
   "name": "python3"
  },
  "language_info": {
   "codemirror_mode": {
    "name": "ipython",
    "version": 3
   },
   "file_extension": ".py",
   "mimetype": "text/x-python",
   "name": "python",
   "nbconvert_exporter": "python",
   "pygments_lexer": "ipython3",
   "version": "3.11.11"
  }
 },
 "nbformat": 4,
 "nbformat_minor": 2
}
