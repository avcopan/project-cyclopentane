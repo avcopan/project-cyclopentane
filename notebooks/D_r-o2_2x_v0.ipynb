{
 "cells": [
  {
   "cell_type": "code",
   "execution_count": 1,
   "metadata": {},
   "outputs": [],
   "source": [
    "from pathlib import Path\n",
    "\n",
    "import util\n",
    "from util import p_, workflow\n",
    "\n",
    "import automech\n",
    "\n",
    "file = util.notebook_file() if util.is_notebook() else __file__\n",
    "tag = util.file_tag(file)\n",
    "root_path = Path(\"..\")\n",
    "par_mech = workflow.read_parent_mechanism(root_path=root_path)"
   ]
  },
  {
   "cell_type": "code",
   "execution_count": 2,
   "metadata": {},
   "outputs": [
    {
     "data": {
      "application/vnd.jupyter.widget-view+json": {
       "model_id": "41bba7046722494db1d85c52edeae74b",
       "version_major": 2,
       "version_minor": 0
      },
      "text/plain": [
       "  0%|          | 0/2 [00:00<?, ?it/s]"
      ]
     },
     "metadata": {},
     "output_type": "display_data"
    },
    {
     "data": {
      "application/vnd.jupyter.widget-view+json": {
       "model_id": "4eeafcd20bd145a0b0178c5a3a4685c2",
       "version_major": 2,
       "version_minor": 0
      },
      "text/plain": [
       "  0%|          | 0/3 [00:00<?, ?it/s]"
      ]
     },
     "metadata": {},
     "output_type": "display_data"
    }
   ],
   "source": [
    "# Generate submechanism\n",
    "from automol.graph import enum\n",
    "\n",
    "from automech.species import Species\n",
    "\n",
    "mech = automech.from_smiles(\n",
    "    spc_smis=[\"C12C(O2)[CH]CC1\", \"C12C(O2)C[CH]C1\"],\n",
    "    src_mech=par_mech,\n",
    ")\n",
    "#  - Additions\n",
    "mech = automech.enumerate_reactions(\n",
    "    mech,\n",
    "    enum.ReactionSmarts.o2_addition,\n",
    "    rcts_=[None, \"[O][O]\"],\n",
    "    spc_col_=Species.smiles,\n",
    "    src_mech=par_mech,\n",
    ")\n",
    "#  - Eliminations\n",
    "mech = automech.enumerate_reactions(\n",
    "    mech,\n",
    "    enum.ReactionSmarts.ho2_elimination,\n",
    "    spc_col_=Species.smiles,\n",
    "    src_mech=par_mech,\n",
    ")\n",
    "#  - Drop reactions:\n",
    "mech = automech.drop_reactions_by_smiles(\n",
    "    # >> Beta elimination: suspiciously low frequency, could not be confirmed by IRC\n",
    "    mech,\n",
    "    rxn_smis=[\"[O]OC1CCC2C1O2>>[O]O.C=1CCC2C=1O2\"],\n",
    ")\n",
    "automech.display(mech)"
   ]
  },
  {
   "cell_type": "code",
   "execution_count": 3,
   "metadata": {},
   "outputs": [
    {
     "name": "stdout",
     "output_type": "stream",
     "text": [
      "\n",
      "Finalizing build for...\n",
      "reactions=shape: (4, 5)\n",
      "┌────────────────────────┬───────────────────────┬───────────┬────────────┬────────────────────────┐\n",
      "│ reactants              ┆ products              ┆ formula   ┆ reversible ┆ rate                   │\n",
      "│ ---                    ┆ ---                   ┆ ---       ┆ ---        ┆ ---                    │\n",
      "│ list[str]              ┆ list[str]             ┆ struct[3] ┆ bool       ┆ struct[18]             │\n",
      "╞════════════════════════╪═══════════════════════╪═══════════╪════════════╪════════════════════════╡\n",
      "│ [\"S(1690)\"]            ┆ [\"HO2(8)\", \"S(1288)\"] ┆ {5,7,3}   ┆ true       ┆ {1,{null,null,null,nul │\n",
      "│                        ┆                       ┆           ┆            ┆ l,null,n…              │\n",
      "│ [\"S(1691)\"]            ┆ [\"HO2(8)\", \"S(1288)\"] ┆ {5,7,3}   ┆ true       ┆ {1,{null,null,null,nul │\n",
      "│                        ┆                       ┆           ┆            ┆ l,null,n…              │\n",
      "│ [\"O2(6)\",              ┆ [\"S(1690)\"]           ┆ {5,7,3}   ┆ true       ┆ {2,{null,null,null,nul │\n",
      "│ \"C5H7O(758)\"]          ┆                       ┆           ┆            ┆ l,null,n…              │\n",
      "│ [\"O2(6)\", \"S(1289)\"]   ┆ [\"S(1691)\"]           ┆ {5,7,3}   ┆ true       ┆ {2,{null,null,null,nul │\n",
      "│                        ┆                       ┆           ┆            ┆ l,null,n…              │\n",
      "└────────────────────────┴───────────────────────┴───────────┴────────────┴────────────────────────┘ species=shape: (8, 7)\n",
      "┌────────────┬────────────────┬─────────────────┬──────┬────────┬─────────────────┬────────────────┐\n",
      "│ name       ┆ smiles         ┆ amchi           ┆ spin ┆ charge ┆ formula         ┆ therm          │\n",
      "│ ---        ┆ ---            ┆ ---             ┆ ---  ┆ ---    ┆ ---             ┆ ---            │\n",
      "│ str        ┆ str            ┆ str             ┆ i64  ┆ i64    ┆ struct[7]       ┆ struct[8]      │\n",
      "╞════════════╪════════════════╪═════════════════╪══════╪════════╪═════════════════╪════════════════╡\n",
      "│ C5H7O(758) ┆ O1C2C1[CH]CC2  ┆ AMChI=1/C5H7O/c ┆ 1    ┆ 0      ┆ {7,1,null,null, ┆ {298.0,5000.0, │\n",
      "│            ┆                ┆ 1-2-3-5-4(1)6-5 ┆      ┆        ┆ null,5,null}    ┆ {null,null,7,1 │\n",
      "│            ┆                ┆ …               ┆      ┆        ┆                 ┆ ,n…            │\n",
      "│ O2(6)      ┆ O=O            ┆ AMChI=1/O2/c1-2 ┆ 2    ┆ 0      ┆ {null,2,null,nu ┆ {200.0,6000.0, │\n",
      "│            ┆                ┆                 ┆      ┆        ┆ ll,null,null,nu ┆ {null,null,nul │\n",
      "│            ┆                ┆                 ┆      ┆        ┆ …               ┆ l,…            │\n",
      "│ S(1690)    ┆ [O]OC1C2OC2CC1 ┆ AMChI=1/C5H7O3/ ┆ 1    ┆ 0      ┆ {7,3,null,null, ┆ {100.0,5000.0, │\n",
      "│            ┆                ┆ c6-8-4-2-1-3-5( ┆      ┆        ┆ null,5,null}    ┆ {null,null,7,3 │\n",
      "│            ┆                ┆ …               ┆      ┆        ┆                 ┆ ,n…            │\n",
      "│ S(1289)    ┆ O1C2C1C[CH]C2  ┆ AMChI=1/C5H7O/c ┆ 1    ┆ 0      ┆ {7,1,null,null, ┆ {100.0,5000.0, │\n",
      "│            ┆                ┆ 1-2-4-5(6-4)3-1 ┆      ┆        ┆ null,5,null}    ┆ {null,null,7,1 │\n",
      "│            ┆                ┆ …               ┆      ┆        ┆                 ┆ ,n…            │\n",
      "│ S(1691)    ┆ [O]OC1CC2OC2C1 ┆ AMChI=1/C5H7O3/ ┆ 1    ┆ 0      ┆ {7,3,null,null, ┆ {100.0,5000.0, │\n",
      "│            ┆                ┆ c6-8-3-1-4-5(7- ┆      ┆        ┆ null,5,null}    ┆ {null,null,7,3 │\n",
      "│            ┆                ┆ …               ┆      ┆        ┆                 ┆ ,n…            │\n",
      "│ S(1688)    ┆ O1C2CCC=C12    ┆ AMChI=1/C5H6O/c ┆ 0    ┆ 0      ┆ {6,1,null,null, ┆ {100.0,5000.0, │\n",
      "│            ┆                ┆ 1-2-3-5-4(1)6-5 ┆      ┆        ┆ null,5,null}    ┆ {null,null,6,1 │\n",
      "│            ┆                ┆ …               ┆      ┆        ┆                 ┆ ,n…            │\n",
      "│ S(1288)    ┆ O1C2C1C=CC2    ┆ AMChI=1/C5H6O/c ┆ 0    ┆ 0      ┆ {6,1,null,null, ┆ {100.0,5000.0, │\n",
      "│            ┆                ┆ 1-2-4-5(6-4)3-1 ┆      ┆        ┆ null,5,null}    ┆ {null,null,6,1 │\n",
      "│            ┆                ┆ …               ┆      ┆        ┆                 ┆ ,n…            │\n",
      "│ HO2(8)     ┆ O[O]           ┆ AMChI=1/HO2/c1- ┆ 1    ┆ 0      ┆ {1,2,null,null, ┆ {200.0,5000.0, │\n",
      "│            ┆                ┆ 2/h2H           ┆      ┆        ┆ null,null,null} ┆ {null,null,1,2 │\n",
      "│            ┆                ┆                 ┆      ┆        ┆                 ┆ ,n…            │\n",
      "└────────────┴────────────────┴─────────────────┴──────┴────────┴─────────────────┴────────────────┘\n",
      "\n",
      "Expanding stereochemistry...\n"
     ]
    },
    {
     "data": {
      "application/vnd.jupyter.widget-view+json": {
       "model_id": "7a8c4d03449e402fadd2197eaf578545",
       "version_major": 2,
       "version_minor": 0
      },
      "text/plain": [
       "  0%|          | 0/8 [00:00<?, ?it/s]"
      ]
     },
     "metadata": {},
     "output_type": "display_data"
    },
    {
     "data": {
      "application/vnd.jupyter.widget-view+json": {
       "model_id": "72871a520a1f4a2281f428579a287dba",
       "version_major": 2,
       "version_minor": 0
      },
      "text/plain": [
       "  0%|          | 0/15 [00:00<?, ?it/s]"
      ]
     },
     "metadata": {},
     "output_type": "display_data"
    },
    {
     "data": {
      "application/vnd.jupyter.widget-view+json": {
       "model_id": "0a1c68b729d64b37af18baba03cc6f36",
       "version_major": 2,
       "version_minor": 0
      },
      "text/plain": [
       "  0%|          | 0/4 [00:00<?, ?it/s]"
      ]
     },
     "metadata": {},
     "output_type": "display_data"
    },
    {
     "name": "stdout",
     "output_type": "stream",
     "text": [
      "\n",
      "Writing mechanism...\n",
      "../data/D_r-o2_2x_v0_gen.json\n",
      "../data/D_r-o2_2x_v0_ste.json\n",
      "../data/mechanalyzer/D_r-o2_2x_v0_ste.dat\n",
      "../data/mechanalyzer/D_r-o2_2x_v0_ste.csv\n"
     ]
    },
    {
     "data": {
      "application/vnd.jupyter.widget-view+json": {
       "model_id": "1f954776c9b043e788de1bee050be595",
       "version_major": 2,
       "version_minor": 0
      },
      "text/plain": [
       "  0%|          | 0/15 [00:00<?, ?it/s]"
      ]
     },
     "metadata": {},
     "output_type": "display_data"
    },
    {
     "data": {
      "application/vnd.jupyter.widget-view+json": {
       "model_id": "bccf0a6367a24122b7f62935a9196ce4",
       "version_major": 2,
       "version_minor": 0
      },
      "text/plain": [
       "  0%|          | 0/15 [00:00<?, ?it/s]"
      ]
     },
     "metadata": {},
     "output_type": "display_data"
    },
    {
     "data": {
      "application/vnd.jupyter.widget-view+json": {
       "model_id": "cae6b61f58cd4b96960188f1935bee92",
       "version_major": 2,
       "version_minor": 0
      },
      "text/plain": [
       "  0%|          | 0/15 [00:00<?, ?it/s]"
      ]
     },
     "metadata": {},
     "output_type": "display_data"
    },
    {
     "name": "stdout",
     "output_type": "stream",
     "text": [
      "\n",
      "Stereoexpansion errors:\n"
     ]
    }
   ],
   "source": [
    "# Prepare calculation\n",
    "workflow.prepare_calculation(mech=mech, tag=tag, root_path=root_path)"
   ]
  },
  {
   "cell_type": "code",
   "execution_count": 4,
   "metadata": {},
   "outputs": [],
   "source": [
    "# # Prepare simulation\n",
    "# workflow.prepare_simulation(tag=tag, root_path=root_path)\n",
    "# workflow.prepare_simulation_species(tag=tag, root_path=root_path)"
   ]
  },
  {
   "cell_type": "code",
   "execution_count": 5,
   "metadata": {},
   "outputs": [],
   "source": [
    "# # Check rates\n",
    "# workflow.plot_rates(tag=tag, root_path=root_path)"
   ]
  },
  {
   "cell_type": "code",
   "execution_count": 6,
   "metadata": {},
   "outputs": [],
   "source": [
    "# # Plot simulation\n",
    "# chart_dct = workflow.plot_simulation(\n",
    "#     tag=tag,\n",
    "#     x_col=\"O2_molecules\",\n",
    "#     root_path=root_path,\n",
    "#     line_source_=[\"Hill\", \"Lokachari\"],\n",
    "#     point_source=\"Experiment\",\n",
    "#     control=False,\n",
    "# )\n",
    "# mech = automech.io.read(\n",
    "#     p_.full_calculated_mechanism(tag, \"json\", path=p_.data(root_path))\n",
    "# )\n",
    "# for name, chart in chart_dct.items():\n",
    "#     automech.display_species(mech, [name])\n",
    "#     chart.show()"
   ]
  },
  {
   "cell_type": "code",
   "execution_count": 7,
   "metadata": {},
   "outputs": [],
   "source": [
    "# # Check TS\n",
    "# from mechdriver.subtasks import display\n",
    "\n",
    "# chan = \"2: 5\"\n",
    "\n",
    "# #   - Read in expanded mechanism\n",
    "# mech_path = p_.mechanism(tag, ext=\"json\", path=p_.data(root_path))\n",
    "# mech = automech.io.read(mech_path)\n",
    "\n",
    "# #   - Display the reaction\n",
    "# automech.display_reactions(mech, chans=[chan])"
   ]
  },
  {
   "cell_type": "code",
   "execution_count": 8,
   "metadata": {},
   "outputs": [],
   "source": [
    "# #   - Display the TS mode\n",
    "# calc_path = p_.calc(root_path, tag)\n",
    "# display(\"conf_opt\", chan, path=calc_path)"
   ]
  },
  {
   "cell_type": "code",
   "execution_count": 9,
   "metadata": {},
   "outputs": [],
   "source": [
    "# #   - Display the TS mode\n",
    "# calc_path = p_.calc(root_path, tag)\n",
    "# display(\"find_ts\", chan, path=calc_path)"
   ]
  }
 ],
 "metadata": {
  "kernelspec": {
   "display_name": "proto",
   "language": "python",
   "name": "python3"
  },
  "language_info": {
   "codemirror_mode": {
    "name": "ipython",
    "version": 3
   },
   "file_extension": ".py",
   "mimetype": "text/x-python",
   "name": "python",
   "nbconvert_exporter": "python",
   "pygments_lexer": "ipython3",
   "version": "3.11.12"
  }
 },
 "nbformat": 4,
 "nbformat_minor": 2
}
