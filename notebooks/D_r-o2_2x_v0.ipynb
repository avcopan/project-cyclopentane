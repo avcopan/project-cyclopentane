{
 "cells": [
  {
   "cell_type": "code",
   "execution_count": 1,
   "metadata": {},
   "outputs": [],
   "source": [
    "from pathlib import Path\n",
    "\n",
    "import util\n",
    "from util import p_, workflow\n",
    "\n",
    "import automech\n",
    "\n",
    "file = util.notebook_file() if util.is_notebook() else __file__\n",
    "tag = util.file_tag(file)\n",
    "root_path = Path(\"..\")\n",
    "par_mech = workflow.read_parent_mechanism(root_path=root_path)"
   ]
  },
  {
   "cell_type": "code",
   "execution_count": 2,
   "metadata": {},
   "outputs": [
    {
     "data": {
      "application/vnd.jupyter.widget-view+json": {
       "model_id": "5a25df1e5dd948c090258a929cf48b6f",
       "version_major": 2,
       "version_minor": 0
      },
      "text/plain": [
       "  0%|          | 0/2 [00:00<?, ?it/s]"
      ]
     },
     "metadata": {},
     "output_type": "display_data"
    },
    {
     "data": {
      "application/vnd.jupyter.widget-view+json": {
       "model_id": "c164738f2dc749cfa45f4ce71050b0e8",
       "version_major": 2,
       "version_minor": 0
      },
      "text/plain": [
       "  0%|          | 0/3 [00:00<?, ?it/s]"
      ]
     },
     "metadata": {},
     "output_type": "display_data"
    }
   ],
   "source": [
    "# Generate submechanism\n",
    "from automol.graph import enum\n",
    "\n",
    "from automech.species import Species\n",
    "\n",
    "mech = automech.from_smiles(\n",
    "    spc_smis=[\"C12C(O2)[CH]CC1\", \"C12C(O2)C[CH]C1\"],\n",
    "    src_mech=par_mech,\n",
    ")\n",
    "#  - Additions\n",
    "mech = automech.enumerate_reactions(\n",
    "    mech,\n",
    "    enum.ReactionSmarts.o2_addition,\n",
    "    rcts_=[None, \"[O][O]\"],\n",
    "    spc_col_=Species.smiles,\n",
    "    src_mech=par_mech,\n",
    ")\n",
    "#  - Eliminations\n",
    "mech = automech.enumerate_reactions(\n",
    "    mech,\n",
    "    enum.ReactionSmarts.ho2_elimination,\n",
    "    spc_col_=Species.smiles,\n",
    "    src_mech=par_mech,\n",
    ")\n",
    "#  - Drop reactions:\n",
    "mech = automech.drop_reactions_by_smiles(\n",
    "    # >> Beta elimination: suspiciously low frequency, could not be confirmed by IRC\n",
    "    mech,\n",
    "    rxn_smis=[\"[O]OC1CCC2C1O2>>[O]O.C=1CCC2C=1O2\"],\n",
    ")\n",
    "automech.display(mech)"
   ]
  },
  {
   "cell_type": "code",
   "execution_count": 3,
   "metadata": {},
   "outputs": [
    {
     "name": "stdout",
     "output_type": "stream",
     "text": [
      "\n",
      "Finalizing build for...\n",
      "reactions=shape: (4, 5)\n",
      "┌────────────────────────┬───────────────────────┬───────────┬────────────┬────────────────────────┐\n",
      "│ reactants              ┆ products              ┆ formula   ┆ reversible ┆ rate                   │\n",
      "│ ---                    ┆ ---                   ┆ ---       ┆ ---        ┆ ---                    │\n",
      "│ list[str]              ┆ list[str]             ┆ struct[3] ┆ bool       ┆ struct[18]             │\n",
      "╞════════════════════════╪═══════════════════════╪═══════════╪════════════╪════════════════════════╡\n",
      "│ [\"S(1690)\"]            ┆ [\"HO2(8)\", \"S(1288)\"] ┆ {5,7,3}   ┆ true       ┆ {1,{null,null,null,nul │\n",
      "│                        ┆                       ┆           ┆            ┆ l,null,n…              │\n",
      "│ [\"S(1691)\"]            ┆ [\"HO2(8)\", \"S(1288)\"] ┆ {5,7,3}   ┆ true       ┆ {1,{null,null,null,nul │\n",
      "│                        ┆                       ┆           ┆            ┆ l,null,n…              │\n",
      "│ [\"O2(6)\",              ┆ [\"S(1690)\"]           ┆ {5,7,3}   ┆ true       ┆ {2,{null,null,null,nul │\n",
      "│ \"C5H7O(758)\"]          ┆                       ┆           ┆            ┆ l,null,n…              │\n",
      "│ [\"O2(6)\", \"S(1289)\"]   ┆ [\"S(1691)\"]           ┆ {5,7,3}   ┆ true       ┆ {2,{null,null,null,nul │\n",
      "│                        ┆                       ┆           ┆            ┆ l,null,n…              │\n",
      "└────────────────────────┴───────────────────────┴───────────┴────────────┴────────────────────────┘ species=shape: (8, 8)\n",
      "┌────────────┬─────────────┬─────────────┬──────┬────────┬─────────────┬─────────────┬─────────────┐\n",
      "│ name       ┆ smiles      ┆ amchi       ┆ spin ┆ charge ┆ formula     ┆ therm       ┆ zbzapdiel   │\n",
      "│ ---        ┆ ---         ┆ ---         ┆ ---  ┆ ---    ┆ ---         ┆ ---         ┆ ---         │\n",
      "│ str        ┆ str         ┆ str         ┆ i64  ┆ i64    ┆ struct[7]   ┆ struct[8]   ┆ str         │\n",
      "╞════════════╪═════════════╪═════════════╪══════╪════════╪═════════════╪═════════════╪═════════════╡\n",
      "│ C5H7O(758) ┆ O1C2C1[CH]C ┆ AMChI=1/C5H ┆ 1    ┆ 0      ┆ {7,1,null,n ┆ {298.0,5000 ┆ AMChI=1/C5H │\n",
      "│            ┆ C2          ┆ 7O/c1-2-3-5 ┆      ┆        ┆ ull,null,5, ┆ .0,{null,nu ┆ 7O/c1-2-3-5 │\n",
      "│            ┆             ┆ -4(1)6-5…   ┆      ┆        ┆ null}       ┆ ll,7,1,n…   ┆ -4(1)6-5…   │\n",
      "│ O2(6)      ┆ O=O         ┆ AMChI=1/O2/ ┆ 2    ┆ 0      ┆ {null,2,nul ┆ {200.0,6000 ┆ AMChI=1/O2/ │\n",
      "│            ┆             ┆ c1-2        ┆      ┆        ┆ l,null,null ┆ .0,{null,nu ┆ c1-2_2_0    │\n",
      "│            ┆             ┆             ┆      ┆        ┆ ,null,nu…   ┆ ll,null,…   ┆             │\n",
      "│ S(1690)    ┆ [O]OC1C2OC2 ┆ AMChI=1/C5H ┆ 1    ┆ 0      ┆ {7,3,null,n ┆ {100.0,5000 ┆ AMChI=1/C5H │\n",
      "│            ┆ CC1         ┆ 7O3/c6-8-4- ┆      ┆        ┆ ull,null,5, ┆ .0,{null,nu ┆ 7O3/c6-8-4- │\n",
      "│            ┆             ┆ 2-1-3-5(…   ┆      ┆        ┆ null}       ┆ ll,7,3,n…   ┆ 2-1-3-5(…   │\n",
      "│ S(1289)    ┆ O1C2C1C[CH] ┆ AMChI=1/C5H ┆ 1    ┆ 0      ┆ {7,1,null,n ┆ {100.0,5000 ┆ AMChI=1/C5H │\n",
      "│            ┆ C2          ┆ 7O/c1-2-4-5 ┆      ┆        ┆ ull,null,5, ┆ .0,{null,nu ┆ 7O/c1-2-4-5 │\n",
      "│            ┆             ┆ (6-4)3-1…   ┆      ┆        ┆ null}       ┆ ll,7,1,n…   ┆ (6-4)3-1…   │\n",
      "│ S(1691)    ┆ [O]OC1CC2OC ┆ AMChI=1/C5H ┆ 1    ┆ 0      ┆ {7,3,null,n ┆ {100.0,5000 ┆ AMChI=1/C5H │\n",
      "│            ┆ 2C1         ┆ 7O3/c6-8-3- ┆      ┆        ┆ ull,null,5, ┆ .0,{null,nu ┆ 7O3/c6-8-3- │\n",
      "│            ┆             ┆ 1-4-5(7-…   ┆      ┆        ┆ null}       ┆ ll,7,3,n…   ┆ 1-4-5(7-…   │\n",
      "│ HO2(8)     ┆ O[O]        ┆ AMChI=1/HO2 ┆ 1    ┆ 0      ┆ {1,2,null,n ┆ {200.0,5000 ┆ AMChI=1/HO2 │\n",
      "│            ┆             ┆ /c1-2/h2H   ┆      ┆        ┆ ull,null,nu ┆ .0,{null,nu ┆ /c1-2/h2H_1 │\n",
      "│            ┆             ┆             ┆      ┆        ┆ ll,null}    ┆ ll,1,2,n…   ┆ _0          │\n",
      "│ S(1288)    ┆ O1C2C1C=CC2 ┆ AMChI=1/C5H ┆ 0    ┆ 0      ┆ {6,1,null,n ┆ {100.0,5000 ┆ AMChI=1/C5H │\n",
      "│            ┆             ┆ 6O/c1-2-4-5 ┆      ┆        ┆ ull,null,5, ┆ .0,{null,nu ┆ 6O/c1-2-4-5 │\n",
      "│            ┆             ┆ (6-4)3-1…   ┆      ┆        ┆ null}       ┆ ll,6,1,n…   ┆ (6-4)3-1…   │\n",
      "│ S(1688)    ┆ O1C2CCC=C12 ┆ AMChI=1/C5H ┆ 0    ┆ 0      ┆ {6,1,null,n ┆ {100.0,5000 ┆ AMChI=1/C5H │\n",
      "│            ┆             ┆ 6O/c1-2-3-5 ┆      ┆        ┆ ull,null,5, ┆ .0,{null,nu ┆ 6O/c1-2-3-5 │\n",
      "│            ┆             ┆ -4(1)6-5…   ┆      ┆        ┆ null}       ┆ ll,6,1,n…   ┆ -4(1)6-5…   │\n",
      "└────────────┴─────────────┴─────────────┴──────┴────────┴─────────────┴─────────────┴─────────────┘\n",
      "\n",
      "Expanding stereochemistry...\n"
     ]
    },
    {
     "data": {
      "application/vnd.jupyter.widget-view+json": {
       "model_id": "ca3945380d644427a7ca3a818917e838",
       "version_major": 2,
       "version_minor": 0
      },
      "text/plain": [
       "  0%|          | 0/8 [00:00<?, ?it/s]"
      ]
     },
     "metadata": {},
     "output_type": "display_data"
    },
    {
     "data": {
      "application/vnd.jupyter.widget-view+json": {
       "model_id": "47c337440b4a4dc2b13c1d2cdf5a6bd7",
       "version_major": 2,
       "version_minor": 0
      },
      "text/plain": [
       "  0%|          | 0/15 [00:00<?, ?it/s]"
      ]
     },
     "metadata": {},
     "output_type": "display_data"
    },
    {
     "data": {
      "application/vnd.jupyter.widget-view+json": {
       "model_id": "9d6cf0344ecc4d7087f332148e2d7cb3",
       "version_major": 2,
       "version_minor": 0
      },
      "text/plain": [
       "  0%|          | 0/4 [00:00<?, ?it/s]"
      ]
     },
     "metadata": {},
     "output_type": "display_data"
    },
    {
     "name": "stdout",
     "output_type": "stream",
     "text": [
      "\n",
      "Writing mechanism...\n",
      "../data/D_r-o2_2x_v0_gen.json\n",
      "../data/D_r-o2_2x_v0_ste.json\n",
      "../data/mechanalyzer/D_r-o2_2x_v0_ste.dat\n",
      "../data/mechanalyzer/D_r-o2_2x_v0_ste.csv\n"
     ]
    },
    {
     "data": {
      "application/vnd.jupyter.widget-view+json": {
       "model_id": "db02cd099dc846bb89cce7ab623a2ec1",
       "version_major": 2,
       "version_minor": 0
      },
      "text/plain": [
       "  0%|          | 0/15 [00:00<?, ?it/s]"
      ]
     },
     "metadata": {},
     "output_type": "display_data"
    },
    {
     "data": {
      "application/vnd.jupyter.widget-view+json": {
       "model_id": "2973bef97026414a84bcc65835bcd31d",
       "version_major": 2,
       "version_minor": 0
      },
      "text/plain": [
       "  0%|          | 0/15 [00:00<?, ?it/s]"
      ]
     },
     "metadata": {},
     "output_type": "display_data"
    },
    {
     "data": {
      "application/vnd.jupyter.widget-view+json": {
       "model_id": "d3fc6f6619cd4915a0803f7b1d8ee540",
       "version_major": 2,
       "version_minor": 0
      },
      "text/plain": [
       "  0%|          | 0/15 [00:00<?, ?it/s]"
      ]
     },
     "metadata": {},
     "output_type": "display_data"
    },
    {
     "name": "stdout",
     "output_type": "stream",
     "text": [
      "\n",
      "Stereoexpansion errors:\n"
     ]
    }
   ],
   "source": [
    "# Prepare calculation\n",
    "workflow.prepare_calculation(mech=mech, tag=tag, root_path=root_path)"
   ]
  },
  {
   "cell_type": "code",
   "execution_count": 4,
   "metadata": {},
   "outputs": [],
   "source": [
    "# # Prepare simulation\n",
    "# workflow.prepare_simulation(tag=tag, root_path=root_path)\n",
    "# workflow.prepare_simulation_species(tag=tag, root_path=root_path)"
   ]
  },
  {
   "cell_type": "code",
   "execution_count": 5,
   "metadata": {},
   "outputs": [],
   "source": [
    "# # Check rates\n",
    "# workflow.plot_rates(tag=tag, root_path=root_path)"
   ]
  },
  {
   "cell_type": "code",
   "execution_count": 6,
   "metadata": {},
   "outputs": [],
   "source": [
    "# # Plot simulation\n",
    "# chart_dct = workflow.plot_simulation(\n",
    "#     tag=tag,\n",
    "#     x_col=\"O2_molecules\",\n",
    "#     root_path=root_path,\n",
    "#     line_source_=[\"Hill\", \"Lokachari\"],\n",
    "#     point_source=\"Experiment\",\n",
    "#     control=False,\n",
    "# )\n",
    "# mech = automech.io.read(\n",
    "#     p_.full_calculated_mechanism(tag, \"json\", path=p_.data(root_path))\n",
    "# )\n",
    "# for name, chart in chart_dct.items():\n",
    "#     automech.display_species(mech, [name])\n",
    "#     chart.show()"
   ]
  },
  {
   "cell_type": "code",
   "execution_count": 7,
   "metadata": {},
   "outputs": [],
   "source": [
    "# # Check TS\n",
    "# from mechdriver.subtasks import display\n",
    "\n",
    "# chan = \"2: 5\"\n",
    "\n",
    "# #   - Read in expanded mechanism\n",
    "# mech_path = p_.mechanism(tag, ext=\"json\", path=p_.data(root_path))\n",
    "# mech = automech.io.read(mech_path)\n",
    "\n",
    "# #   - Display the reaction\n",
    "# automech.display_reactions(mech, chans=[chan])"
   ]
  },
  {
   "cell_type": "code",
   "execution_count": 8,
   "metadata": {},
   "outputs": [],
   "source": [
    "# #   - Display the TS mode\n",
    "# calc_path = p_.calc(root_path, tag)\n",
    "# display(\"conf_opt\", chan, path=calc_path)"
   ]
  },
  {
   "cell_type": "code",
   "execution_count": 9,
   "metadata": {},
   "outputs": [],
   "source": [
    "# #   - Display the TS mode\n",
    "# calc_path = p_.calc(root_path, tag)\n",
    "# display(\"find_ts\", chan, path=calc_path)"
   ]
  }
 ],
 "metadata": {
  "kernelspec": {
   "display_name": "proto",
   "language": "python",
   "name": "python3"
  },
  "language_info": {
   "codemirror_mode": {
    "name": "ipython",
    "version": 3
   },
   "file_extension": ".py",
   "mimetype": "text/x-python",
   "name": "python",
   "nbconvert_exporter": "python",
   "pygments_lexer": "ipython3",
   "version": "3.11.12"
  }
 },
 "nbformat": 4,
 "nbformat_minor": 2
}
