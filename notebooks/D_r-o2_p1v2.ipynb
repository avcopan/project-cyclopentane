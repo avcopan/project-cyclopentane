{
 "cells": [
  {
   "cell_type": "code",
   "execution_count": 1,
   "metadata": {},
   "outputs": [],
   "source": [
    "from pathlib import Path\n",
    "\n",
    "import util\n",
    "from util import workflow\n",
    "\n",
    "browser = True\n",
    "file = util.notebook_file() if util.is_notebook() else __file__\n",
    "tag = util.file_tag(file)\n",
    "root_path = Path(\"..\")\n",
    "data_path = util.data_path(root_path)"
   ]
  },
  {
   "cell_type": "code",
   "execution_count": 2,
   "metadata": {},
   "outputs": [
    {
     "data": {
      "application/vnd.jupyter.widget-view+json": {
       "model_id": "8a8b9a9b77e54dc6a1ebad6d9fbf6a5a",
       "version_major": 2,
       "version_minor": 0
      },
      "text/plain": [
       "  0%|          | 0/2 [00:00<?, ?it/s]"
      ]
     },
     "metadata": {},
     "output_type": "display_data"
    }
   ],
   "source": [
    "# Build\n",
    "from automol.graph import enum\n",
    "\n",
    "import automech\n",
    "from automech.species import Species\n",
    "\n",
    "mech0 = automech.io.read(data_path / \"full_raw.json\")\n",
    "mech = automech.from_smiles(\n",
    "    spc_smis=[\"C1=C[CH]CC1\", \"C1=CC[CH]C1\"],\n",
    "    src_mech=mech0,\n",
    ")\n",
    "#  - O2 additions\n",
    "mech = automech.enumerate_reactions(\n",
    "    mech,\n",
    "    enum.ReactionSmarts.o2_addition,\n",
    "    rcts_=[None, \"[O][O]\"],\n",
    "    spc_col_=Species.smiles,\n",
    "    src_mech=mech0,\n",
    ")\n",
    "#  - HO2 elimination\n",
    "mech = automech.enumerate_reactions(\n",
    "    mech,\n",
    "    enum.ReactionSmarts.ho2_elimination,\n",
    "    spc_col_=Species.smiles,\n",
    "    src_mech=mech0,\n",
    ")\n",
    "#  - RO2 -> QOOH\n",
    "mech = automech.enumerate_reactions(\n",
    "    mech,\n",
    "    enum.ReactionSmarts.qooh_formation,\n",
    "    spc_col_=Species.smiles,\n",
    "    src_mech=mech0,\n",
    ")\n",
    "#  - QOOH beta scission to produce HO2\n",
    "mech = automech.enumerate_reactions(\n",
    "    mech,\n",
    "    enum.ReactionSmarts.qooh_beta_scission,\n",
    "    spc_col_=Species.smiles,\n",
    "    src_mech=mech0,\n",
    ")"
   ]
  },
  {
   "cell_type": "code",
   "execution_count": 3,
   "metadata": {},
   "outputs": [
    {
     "name": "stdout",
     "output_type": "stream",
     "text": [
      "\n",
      "Finalizing build for...\n",
      "reactions=shape: (14, 5)\n",
      "┌────────────────┬────────────────────────────┬───────────┬────────────┬───────────────────────────┐\n",
      "│ reactants      ┆ products                   ┆ formula   ┆ reversible ┆ rate_constant             │\n",
      "│ ---            ┆ ---                        ┆ ---       ┆ ---        ┆ ---                       │\n",
      "│ list[str]      ┆ list[str]                  ┆ struct[3] ┆ bool       ┆ struct[17]                │\n",
      "╞════════════════╪════════════════════════════╪═══════════╪════════════╪═══════════════════════════╡\n",
      "│ [\"S(1206)\"]    ┆ [\"C5O2grifhj\"]             ┆ {5,7,2}   ┆ null       ┆ null                      │\n",
      "│ [\"S(1206)\"]    ┆ [\"C5O2bhogzp\"]             ┆ {5,7,2}   ┆ null       ┆ null                      │\n",
      "│ [\"S(1206)\"]    ┆ [\"S(1210)\"]                ┆ {5,7,2}   ┆ true       ┆ {1,{null,null,null,null,n │\n",
      "│                ┆                            ┆           ┆            ┆ ull,n…                    │\n",
      "│ [\"S(1209)\"]    ┆ [\"S(1206)\"]                ┆ {5,7,2}   ┆ true       ┆ {1,{null,null,null,null,n │\n",
      "│                ┆                            ┆           ┆            ┆ ull,n…                    │\n",
      "│ [\"S(602)\"]     ┆ [\"C5O2dzhvur\"]             ┆ {5,7,2}   ┆ null       ┆ null                      │\n",
      "│ …              ┆ …                          ┆ …         ┆ …          ┆ …                         │\n",
      "│ [\"C5H7(504)\",  ┆ [\"S(602)\"]                 ┆ {5,7,2}   ┆ true       ┆ {2,{null,null,null,null,n │\n",
      "│ \"O2(6)\"]       ┆                            ┆           ┆            ┆ ull,n…                    │\n",
      "│ [\"S(1206)\"]    ┆ [\"C5H6alwnib\", \"HO2(8)\"]   ┆ {5,7,2}   ┆ null       ┆ null                      │\n",
      "│ [\"C5O2bhogzp\"] ┆ [\"C5H6alwnib\", \"HO2(8)\"]   ┆ {5,7,2}   ┆ null       ┆ null                      │\n",
      "│ [\"HO2(8)\",     ┆ [\"S(1209)\"]                ┆ {5,7,2}   ┆ true       ┆ {2,{null,null,null,null,n │\n",
      "│ \"C5H6(478)\"]   ┆                            ┆           ┆            ┆ ull,n…                    │\n",
      "│ [\"HO2(8)\",     ┆ [\"S(1210)\"]                ┆ {5,7,2}   ┆ true       ┆ {2,{null,null,null,null,n │\n",
      "│ \"C5H6(478)\"]   ┆                            ┆           ┆            ┆ ull,n…                    │\n",
      "└────────────────┴────────────────────────────┴───────────┴────────────┴───────────────────────────┘ species=shape: (13, 7)\n",
      "┌────────────┬───────────────┬─────────────────┬──────┬────────┬─────────────────┬─────────────────┐\n",
      "│ name       ┆ smiles        ┆ amchi           ┆ spin ┆ charge ┆ formula         ┆ thermo_string   │\n",
      "│ ---        ┆ ---           ┆ ---             ┆ ---  ┆ ---    ┆ ---             ┆ ---             │\n",
      "│ str        ┆ str           ┆ str             ┆ i64  ┆ i64    ┆ struct[7]       ┆ str             │\n",
      "╞════════════╪═══════════════╪═════════════════╪══════╪════════╪═════════════════╪═════════════════╡\n",
      "│ C5H7(500)  ┆ C1C[CH]C=C1   ┆ AMChI=1/C5H7/c1 ┆ 1    ┆ 0      ┆ {7,null,null,nu ┆ C   5H   7      │\n",
      "│            ┆               ┆ -2-4-5-3-1/h1-3 ┆      ┆        ┆ ll,null,5,null} ┆ G   298.00…     │\n",
      "│            ┆               ┆ …               ┆      ┆        ┆                 ┆                 │\n",
      "│ O2(6)      ┆ O=O           ┆ AMChI=1/O2/c1-2 ┆ 2    ┆ 0      ┆ {null,2,null,nu ┆ O   2           │\n",
      "│            ┆               ┆                 ┆      ┆        ┆ ll,null,null,nu ┆ G   200.00…     │\n",
      "│            ┆               ┆                 ┆      ┆        ┆ …               ┆                 │\n",
      "│ S(1206)    ┆ [O]OC1CCC=C1  ┆ AMChI=1/C5H7O2/ ┆ 1    ┆ 0      ┆ {7,2,null,null, ┆ C   5H   7O   2 │\n",
      "│            ┆               ┆ c6-7-5-2-1-3-4- ┆      ┆        ┆ null,5,null}    ┆ G   100.00…     │\n",
      "│            ┆               ┆ …               ┆      ┆        ┆                 ┆                 │\n",
      "│ C5H7(504)  ┆ C1[CH]CC=C1   ┆ AMChI=1/C5H7/c1 ┆ 1    ┆ 0      ┆ {7,null,null,nu ┆ C   5H   7      │\n",
      "│            ┆               ┆ -2-5-3-4-1/h1-3 ┆      ┆        ┆ ll,null,5,null} ┆ G   298.00…     │\n",
      "│            ┆               ┆ …               ┆      ┆        ┆                 ┆                 │\n",
      "│ S(602)     ┆ [O]OC1CC=CC1  ┆ AMChI=1/C5H7O2/ ┆ 1    ┆ 0      ┆ {7,2,null,null, ┆ C   5H   7O   2 │\n",
      "│            ┆               ┆ c6-7-5-3-1-2-4- ┆      ┆        ┆ null,5,null}    ┆ G   298.00…     │\n",
      "│            ┆               ┆ …               ┆      ┆        ┆                 ┆                 │\n",
      "│ …          ┆ …             ┆ …               ┆ …    ┆ …      ┆ …               ┆ …               │\n",
      "│ S(1210)    ┆ OOC1CC=C[CH]1 ┆ AMChI=1/C5H7O2/ ┆ 1    ┆ 0      ┆ {7,2,null,null, ┆ C   5H   7O   2 │\n",
      "│            ┆               ┆ c6-7-5-3-1-2-4- ┆      ┆        ┆ null,5,null}    ┆ G   100.00…     │\n",
      "│            ┆               ┆ …               ┆      ┆        ┆                 ┆                 │\n",
      "│ C5O2bhogzp ┆ OOC1[C]=CCC1  ┆ AMChI=1/C5H7O2/ ┆ 1    ┆ 0      ┆ {7,2,null,null, ┆ null            │\n",
      "│            ┆               ┆ c6-7-5-1-2-3-4- ┆      ┆        ┆ null,5,null}    ┆                 │\n",
      "│            ┆               ┆ …               ┆      ┆        ┆                 ┆                 │\n",
      "│ C5O2grifhj ┆ OOC1C=[C]CC1  ┆ AMChI=1/C5H7O2/ ┆ 1    ┆ 0      ┆ {7,2,null,null, ┆ null            │\n",
      "│            ┆               ┆ c6-7-5-2-1-3-4- ┆      ┆        ┆ null,5,null}    ┆                 │\n",
      "│            ┆               ┆ …               ┆      ┆        ┆                 ┆                 │\n",
      "│ C5O2dzhvur ┆ OOC1C[C]=CC1  ┆ AMChI=1/C5H7O2/ ┆ 1    ┆ 0      ┆ {7,2,null,null, ┆ null            │\n",
      "│            ┆               ┆ c6-7-5-3-1-2-4- ┆      ┆        ┆ null,5,null}    ┆                 │\n",
      "│            ┆               ┆ …               ┆      ┆        ┆                 ┆                 │\n",
      "│ S(1209)    ┆ OOC1[CH]CC=C1 ┆ AMChI=1/C5H7O2/ ┆ 1    ┆ 0      ┆ {7,2,null,null, ┆ C   5H   7O   2 │\n",
      "│            ┆               ┆ c6-7-5-2-1-4-3- ┆      ┆        ┆ null,5,null}    ┆ G   100.00…     │\n",
      "│            ┆               ┆ …               ┆      ┆        ┆                 ┆                 │\n",
      "└────────────┴───────────────┴─────────────────┴──────┴────────┴─────────────────┴─────────────────┘ thermo_temps=None\n",
      "\n",
      "Expanding stereochemistry...\n"
     ]
    },
    {
     "data": {
      "application/vnd.jupyter.widget-view+json": {
       "model_id": "0031e5fd803e4cadb8d70a47dcf5541b",
       "version_major": 2,
       "version_minor": 0
      },
      "text/plain": [
       "  0%|          | 0/13 [00:00<?, ?it/s]"
      ]
     },
     "metadata": {},
     "output_type": "display_data"
    },
    {
     "data": {
      "application/vnd.jupyter.widget-view+json": {
       "model_id": "b4e227d52fc142ed97169bf77d10c95c",
       "version_major": 2,
       "version_minor": 0
      },
      "text/plain": [
       "  0%|          | 0/19 [00:00<?, ?it/s]"
      ]
     },
     "metadata": {},
     "output_type": "display_data"
    },
    {
     "data": {
      "application/vnd.jupyter.widget-view+json": {
       "model_id": "6060f58d203a4f069621ae6f3446f7b9",
       "version_major": 2,
       "version_minor": 0
      },
      "text/plain": [
       "  0%|          | 0/14 [00:00<?, ?it/s]"
      ]
     },
     "metadata": {},
     "output_type": "display_data"
    },
    {
     "name": "stdout",
     "output_type": "stream",
     "text": [
      "\n",
      "Writing mechanism...\n",
      "../data/D_r-o2_p1v2_raw.json\n",
      "../data/D_r-o2_p1v2.json\n",
      "../data/mechanalyzer/D_r-o2_p1v2.dat\n",
      "../data/mechanalyzer/D_r-o2_p1v2.csv\n"
     ]
    },
    {
     "data": {
      "application/vnd.jupyter.widget-view+json": {
       "model_id": "912947e03fca4ea493a58adb6d44d7c1",
       "version_major": 2,
       "version_minor": 0
      },
      "text/plain": [
       "  0%|          | 0/19 [00:00<?, ?it/s]"
      ]
     },
     "metadata": {},
     "output_type": "display_data"
    },
    {
     "data": {
      "application/vnd.jupyter.widget-view+json": {
       "model_id": "1b5b662f90af4ffb9fcfd9e4ee89710e",
       "version_major": 2,
       "version_minor": 0
      },
      "text/plain": [
       "  0%|          | 0/19 [00:00<?, ?it/s]"
      ]
     },
     "metadata": {},
     "output_type": "display_data"
    },
    {
     "data": {
      "application/vnd.jupyter.widget-view+json": {
       "model_id": "ec9736200c954c79b752d9a4ef3bf5a6",
       "version_major": 2,
       "version_minor": 0
      },
      "text/plain": [
       "  0%|          | 0/19 [00:00<?, ?it/s]"
      ]
     },
     "metadata": {},
     "output_type": "display_data"
    },
    {
     "name": "stdout",
     "output_type": "stream",
     "text": [
      "\n",
      "Stereoexpansion errors:\n"
     ]
    }
   ],
   "source": [
    "# Write\n",
    "workflow.write(mech=mech, tag=tag, root_path=root_path, browser=browser)"
   ]
  },
  {
   "cell_type": "code",
   "execution_count": 4,
   "metadata": {},
   "outputs": [],
   "source": [
    "# # Read\n",
    "# workflow.read(tag=tag, root_path=root_path)"
   ]
  },
  {
   "cell_type": "code",
   "execution_count": 5,
   "metadata": {},
   "outputs": [],
   "source": [
    "# # Simulate\n",
    "# workflow.simulate(full_tag=f\"full_{tag}_calc\", root_path=root_path)\n",
    "# workflow.simulate(full_tag=f\"full_{tag}_control\", root_path=root_path)"
   ]
  },
  {
   "cell_type": "code",
   "execution_count": 6,
   "metadata": {},
   "outputs": [],
   "source": [
    "# # Plot\n",
    "# charts = workflow.plot(\n",
    "#     full_tag=f\"full_{tag}_calc\",\n",
    "#     x_col=\"O2_molecules\",\n",
    "#     y_col_=[\"C5H8(522)\", \"C5H8O(825)rs\"],\n",
    "#     root_path=root_path,\n",
    "#     line_source_=[\"hill\", \"lokachari\"],\n",
    "#     point_source=\"experiment\",\n",
    "# )\n",
    "# for chart in charts:\n",
    "#     chart.show()"
   ]
  }
 ],
 "metadata": {
  "kernelspec": {
   "display_name": "proto",
   "language": "python",
   "name": "python3"
  },
  "language_info": {
   "codemirror_mode": {
    "name": "ipython",
    "version": 3
   },
   "file_extension": ".py",
   "mimetype": "text/x-python",
   "name": "python",
   "nbconvert_exporter": "python",
   "pygments_lexer": "ipython3",
   "version": "3.11.11"
  }
 },
 "nbformat": 4,
 "nbformat_minor": 2
}
