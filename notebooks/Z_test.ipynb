{
 "cells": [
  {
   "cell_type": "code",
   "execution_count": 1,
   "id": "8f2d1faf",
   "metadata": {},
   "outputs": [],
   "source": [
    "import automol\n",
    "from automol.graph import enum"
   ]
  },
  {
   "cell_type": "code",
   "execution_count": null,
   "id": "ca171274",
   "metadata": {},
   "outputs": [
    {
     "data": {
      "text/plain": [
       "[(1, 2, 3, 5, 6, 12)]"
      ]
     },
     "execution_count": 2,
     "metadata": {},
     "output_type": "execute_result"
    }
   ],
   "source": [
    "from rdkit import Chem\n",
    "\n",
    "smi = \"CC=C[CH]OO\"\n",
    "gra = automol.smiles.graph(smi)\n",
    "\n",
    "enum.matches(enum.GroupSmarts.resonant_qooh_instability, gra)\n",
    "# kgrs = automol.graph.kekules(gra)\n",
    "# for kgr in kgrs:\n",
    "#     enum.matches_from_kekule(enum.GroupSmarts.resonant_qooh_instability, kgr)\n",
    "\n",
    "# automol.graph.display(gra, label=True, exp=True)\n",
    "\n",
    "# group = Chem.MolFromSmarts(enum.GroupSmarts.resonant_qooh_instability)\n",
    "\n",
    "# rdm = automol.graph.rdkit_molecule(gra)\n",
    "# for res in Chem.rdchem.ResonanceMolSupplier(rdm):\n",
    "#     display(res)\n",
    "#     matches = res.GetSubstructMatches(group)\n",
    "#     print(matches)"
   ]
  },
  {
   "cell_type": "code",
   "execution_count": 3,
   "id": "d23b4e51",
   "metadata": {},
   "outputs": [
    {
     "ename": "IndexError",
     "evalue": "list index out of range",
     "output_type": "error",
     "traceback": [
      "\u001b[31m---------------------------------------------------------------------------\u001b[39m",
      "\u001b[31mIndexError\u001b[39m                                Traceback (most recent call last)",
      "\u001b[36mCell\u001b[39m\u001b[36m \u001b[39m\u001b[32mIn[3]\u001b[39m\u001b[32m, line 14\u001b[39m\n\u001b[32m     11\u001b[39m hit_bonds = []\n\u001b[32m     13\u001b[39m \u001b[38;5;28;01mfor\u001b[39;00m bond \u001b[38;5;129;01min\u001b[39;00m patt.GetBonds():\n\u001b[32m---> \u001b[39m\u001b[32m14\u001b[39m     aid1 = \u001b[43mhit_ats\u001b[49m\u001b[43m[\u001b[49m\u001b[43mbond\u001b[49m\u001b[43m.\u001b[49m\u001b[43mGetBeginAtomIdx\u001b[49m\u001b[43m(\u001b[49m\u001b[43m)\u001b[49m\u001b[43m]\u001b[49m\n\u001b[32m     16\u001b[39m     aid2 = hit_ats[bond.GetEndAtomIdx()]\n\u001b[32m     18\u001b[39m     hit_bonds.append(mol.GetBondBetweenAtoms(aid1, aid2).GetIdx())\n",
      "\u001b[31mIndexError\u001b[39m: list index out of range"
     ]
    }
   ],
   "source": [
    "from rdkit.Chem.Draw import rdMolDraw2D\n",
    "\n",
    "smi = \"CCC[CH]OO\"\n",
    "\n",
    "mol = Chem.MolFromSmiles(smi)\n",
    "\n",
    "patt = Chem.MolFromSmarts(\"ClccccF\")\n",
    "\n",
    "hit_ats = list(mol.GetSubstructMatch(patt))\n",
    "\n",
    "hit_bonds = []\n",
    "\n",
    "for bond in patt.GetBonds():\n",
    "    aid1 = hit_ats[bond.GetBeginAtomIdx()]\n",
    "\n",
    "    aid2 = hit_ats[bond.GetEndAtomIdx()]\n",
    "\n",
    "    hit_bonds.append(mol.GetBondBetweenAtoms(aid1, aid2).GetIdx())\n",
    "\n",
    "display(mol)"
   ]
  },
  {
   "cell_type": "code",
   "execution_count": null,
   "id": "c1aded0d",
   "metadata": {},
   "outputs": [],
   "source": []
  }
 ],
 "metadata": {
  "kernelspec": {
   "display_name": "all",
   "language": "python",
   "name": "python3"
  },
  "language_info": {
   "codemirror_mode": {
    "name": "ipython",
    "version": 3
   },
   "file_extension": ".py",
   "mimetype": "text/x-python",
   "name": "python",
   "nbconvert_exporter": "python",
   "pygments_lexer": "ipython3",
   "version": "3.12.11"
  }
 },
 "nbformat": 4,
 "nbformat_minor": 5
}
