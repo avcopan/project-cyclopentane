{
 "cells": [
  {
   "cell_type": "code",
   "execution_count": 1,
   "metadata": {},
   "outputs": [],
   "source": [
    "from pathlib import Path\n",
    "\n",
    "import automech\n",
    "from project_utilities import p_, util, workflow\n",
    "\n",
    "file = util.notebook_file() if util.is_notebook() else __file__\n",
    "tag = util.file_tag(file)\n",
    "root_path = Path(\"..\")\n",
    "par_mech = workflow.read_parent_mechanism(root_path=root_path)"
   ]
  },
  {
   "cell_type": "code",
   "execution_count": 2,
   "metadata": {},
   "outputs": [],
   "source": [
    "# Generate submechanism\n",
    "sub_tags = [\n",
    "    \"1e_A_rh-oh_v0\",\n",
    "    \"1e_B_rh-ho2_v0\",\n",
    "    \"1e_C_r_v0\",\n",
    "    \"1e_D_r-o2_v0\",\n",
    "    \"0a_A_rh-oh_v0\",\n",
    "    \"0a_B_rh-ho2_v0\",\n",
    "    \"0a_C_r_v0\",\n",
    "    \"0a_D_r-o2_v0\",\n",
    "]\n",
    "gen_paths = [p_.generated_mechanism(t, \"json\", p_.data(root_path)) for t in sub_tags]\n",
    "ste_paths = [p_.stereo_mechanism(t, \"json\", p_.data(root_path)) for t in sub_tags]\n",
    "gen_mechs = [automech.io.read(p) for p in gen_paths]\n",
    "ste_mechs = [automech.io.read(p) for p in ste_paths]\n",
    "gen_mech = automech.combine_all(gen_mechs)\n",
    "ste_mech = automech.combine_all(ste_mechs)\n",
    "gen_mech = automech.drop_duplicate_reactions(gen_mech)\n",
    "ste_mech = automech.drop_duplicate_reactions(ste_mech)\n",
    "automech.display(gen_mech)"
   ]
  },
  {
   "cell_type": "code",
   "execution_count": 3,
   "metadata": {},
   "outputs": [
    {
     "name": "stdout",
     "output_type": "stream",
     "text": [
      "\n",
      "Sorting mechanism...\n",
      "\n",
      "Writing mechanism...\n",
      "../data/Z_combined_v0_gen.json\n",
      "../data/Z_combined_v0_ste.json\n",
      "../data/mechanalyzer/Z_combined_v0_ste.dat\n",
      "../data/mechanalyzer/Z_combined_v0_ste.csv\n"
     ]
    },
    {
     "data": {
      "application/vnd.jupyter.widget-view+json": {
       "model_id": "7f42331a20484878b5b73eafdef42591",
       "version_major": 2,
       "version_minor": 0
      },
      "text/plain": [
       "  0%|          | 0/85 [00:00<?, ?it/s]"
      ]
     },
     "metadata": {},
     "output_type": "display_data"
    },
    {
     "data": {
      "application/vnd.jupyter.widget-view+json": {
       "model_id": "2e23fb0a22db4a6c899b14917766cb03",
       "version_major": 2,
       "version_minor": 0
      },
      "text/plain": [
       "  0%|          | 0/85 [00:00<?, ?it/s]"
      ]
     },
     "metadata": {},
     "output_type": "display_data"
    },
    {
     "data": {
      "application/vnd.jupyter.widget-view+json": {
       "model_id": "e9b928cecd0f4e5e837c5666527ccda4",
       "version_major": 2,
       "version_minor": 0
      },
      "text/plain": [
       "  0%|          | 0/85 [00:00<?, ?it/s]"
      ]
     },
     "metadata": {},
     "output_type": "display_data"
    }
   ],
   "source": [
    "# Prepare calculation\n",
    "workflow.prepare_calculation(\n",
    "    gen_mech=gen_mech, ste_mech=ste_mech, tag=tag, root_path=root_path\n",
    ")"
   ]
  }
 ],
 "metadata": {
  "kernelspec": {
   "display_name": "dev",
   "language": "python",
   "name": "python3"
  },
  "language_info": {
   "codemirror_mode": {
    "name": "ipython",
    "version": 3
   },
   "file_extension": ".py",
   "mimetype": "text/x-python",
   "name": "python",
   "nbconvert_exporter": "python",
   "pygments_lexer": "ipython3",
   "version": "3.13.8"
  }
 },
 "nbformat": 4,
 "nbformat_minor": 2
}
