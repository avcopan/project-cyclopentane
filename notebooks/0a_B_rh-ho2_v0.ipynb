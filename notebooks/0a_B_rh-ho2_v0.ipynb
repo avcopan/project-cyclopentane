{
 "cells": [
  {
   "cell_type": "code",
   "execution_count": 1,
   "metadata": {},
   "outputs": [],
   "source": [
    "from pathlib import Path\n",
    "\n",
    "import automech\n",
    "from project_utilities import p_, util, workflow\n",
    "\n",
    "file = util.notebook_file() if util.is_notebook() else __file__\n",
    "tag = util.file_tag(file)\n",
    "root_path = Path(\"..\")\n",
    "par_mech = workflow.read_parent_mechanism(root_path=root_path)"
   ]
  },
  {
   "cell_type": "code",
   "execution_count": 2,
   "metadata": {},
   "outputs": [
    {
     "data": {
      "application/vnd.jupyter.widget-view+json": {
       "model_id": "09bfa62a5c644562a982fa16eb5086e9",
       "version_major": 2,
       "version_minor": 0
      },
      "text/plain": [
       "  0%|          | 0/1 [00:00<?, ?it/s]"
      ]
     },
     "metadata": {},
     "output_type": "display_data"
    }
   ],
   "source": [
    "# Build\n",
    "from automol.graph import enum\n",
    "\n",
    "from automech.species import Species\n",
    "\n",
    "gen_mech = automech.from_smiles(spc_smis=[\"C1CCCC1\"], src_mech=par_mech)\n",
    "#  - Abstractions\n",
    "gen_mech = automech.enumerate_reactions(\n",
    "    gen_mech,\n",
    "    enum.ReactionSmarts.abstraction,\n",
    "    rcts_=[None, \"O[O]\"],\n",
    "    spc_col_=Species.smiles,\n",
    "    src_mech=par_mech,\n",
    ")\n",
    "\n",
    "automech.display(gen_mech)"
   ]
  },
  {
   "cell_type": "code",
   "execution_count": 3,
   "metadata": {},
   "outputs": [
    {
     "name": "stdout",
     "output_type": "stream",
     "text": [
      "\n",
      "Expanding stereochemistry...\n"
     ]
    },
    {
     "data": {
      "application/vnd.jupyter.widget-view+json": {
       "model_id": "f8309c37a0d741b793491ce674e0ed19",
       "version_major": 2,
       "version_minor": 0
      },
      "text/plain": [
       "  0%|          | 0/4 [00:00<?, ?it/s]"
      ]
     },
     "metadata": {},
     "output_type": "display_data"
    },
    {
     "data": {
      "application/vnd.jupyter.widget-view+json": {
       "model_id": "8ae6333279ee4809b5152b604706c02a",
       "version_major": 2,
       "version_minor": 0
      },
      "text/plain": [
       "  0%|          | 0/4 [00:00<?, ?it/s]"
      ]
     },
     "metadata": {},
     "output_type": "display_data"
    },
    {
     "data": {
      "application/vnd.jupyter.widget-view+json": {
       "model_id": "ced4519bd692437880addcef3b36953e",
       "version_major": 2,
       "version_minor": 0
      },
      "text/plain": [
       "  0%|          | 0/1 [00:00<?, ?it/s]"
      ]
     },
     "metadata": {},
     "output_type": "display_data"
    },
    {
     "name": "stdout",
     "output_type": "stream",
     "text": [
      "\n",
      "Stereoexpansion errors:\n"
     ]
    }
   ],
   "source": [
    "# Expand stereochemistry\n",
    "ste_mech, *_, gen_mech = workflow.expand_stereo(\n",
    "    mech=gen_mech, tag=tag, root_path=root_path\n",
    ")"
   ]
  },
  {
   "cell_type": "code",
   "execution_count": 4,
   "metadata": {},
   "outputs": [
    {
     "name": "stdout",
     "output_type": "stream",
     "text": [
      "\n",
      "Sorting mechanism...\n",
      "\n",
      "Writing mechanism...\n",
      "../data/0a_B_rh-ho2_v0_gen.json\n",
      "../data/0a_B_rh-ho2_v0_ste.json\n",
      "../data/mechanalyzer/0a_B_rh-ho2_v0_ste.dat\n",
      "../data/mechanalyzer/0a_B_rh-ho2_v0_ste.csv\n"
     ]
    },
    {
     "data": {
      "application/vnd.jupyter.widget-view+json": {
       "model_id": "634f488c12eb4feb834ecf58829d28c5",
       "version_major": 2,
       "version_minor": 0
      },
      "text/plain": [
       "  0%|          | 0/4 [00:00<?, ?it/s]"
      ]
     },
     "metadata": {},
     "output_type": "display_data"
    },
    {
     "data": {
      "application/vnd.jupyter.widget-view+json": {
       "model_id": "4bd221bf17f94c9f8154fec4bad27307",
       "version_major": 2,
       "version_minor": 0
      },
      "text/plain": [
       "  0%|          | 0/4 [00:00<?, ?it/s]"
      ]
     },
     "metadata": {},
     "output_type": "display_data"
    },
    {
     "data": {
      "application/vnd.jupyter.widget-view+json": {
       "model_id": "cc385b893a994f769cd9a68c164d9f66",
       "version_major": 2,
       "version_minor": 0
      },
      "text/plain": [
       "  0%|          | 0/4 [00:00<?, ?it/s]"
      ]
     },
     "metadata": {},
     "output_type": "display_data"
    }
   ],
   "source": [
    "# Prepare calculation\n",
    "workflow.prepare_calculation(\n",
    "    gen_mech=gen_mech, ste_mech=ste_mech, tag=tag, root_path=root_path\n",
    ")"
   ]
  }
 ],
 "metadata": {
  "kernelspec": {
   "display_name": "dev",
   "language": "python",
   "name": "python3"
  },
  "language_info": {
   "codemirror_mode": {
    "name": "ipython",
    "version": 3
   },
   "file_extension": ".py",
   "mimetype": "text/x-python",
   "name": "python",
   "nbconvert_exporter": "python",
   "pygments_lexer": "ipython3",
   "version": "3.13.7"
  }
 },
 "nbformat": 4,
 "nbformat_minor": 2
}
