{
 "cells": [
  {
   "cell_type": "code",
   "execution_count": 1,
   "metadata": {},
   "outputs": [],
   "source": [
    "from pathlib import Path\n",
    "\n",
    "import util\n",
    "from util import p_, workflow\n",
    "\n",
    "import automech\n",
    "\n",
    "file = util.notebook_file() if util.is_notebook() else __file__\n",
    "tag = util.file_tag(file)\n",
    "root_path = Path(\"..\")\n",
    "par_mech = workflow.read_parent_mechanism(root_path=root_path)"
   ]
  },
  {
   "cell_type": "code",
   "execution_count": 2,
   "metadata": {},
   "outputs": [],
   "source": [
    "# Generate submechanism\n",
    "from automol.graph import enum\n",
    "\n",
    "tag0 = util.previous_tag(tag)\n",
    "mech = automech.io.read(p_.generated_mechanism(tag0, \"json\", path=p_.data(root_path)))\n",
    "#  - Migrations\n",
    "mech = automech.enumerate_reactions(\n",
    "    mech,\n",
    "    enum.ReactionSmarts.qooh_formation,\n",
    "    src_mech=par_mech,\n",
    ")\n",
    "#   - Ring-forming scissions\n",
    "mech = automech.enumerate_reactions(\n",
    "    mech,\n",
    "    enum.ReactionSmarts.qooh_ring_forming_scission,\n",
    "    src_mech=par_mech,\n",
    ")\n",
    "#  - Ring-opening scissions\n",
    "mech = automech.enumerate_reactions(\n",
    "    mech,\n",
    "    enum.ReactionSmarts.ring_beta_scission,\n",
    "    src_mech=par_mech,\n",
    "    rcts_=[automech.species.names(mech.species, fml=\"C*H*O2\")],\n",
    ")\n",
    "#  - Instability products\n",
    "mech = automech.enumerate_products(\n",
    "    mech,\n",
    "    enum.ReactionSmarts.qooh_instability,\n",
    "    src_mech=par_mech,\n",
    "    rcts_=[automech.species.names(mech.species, fml=\"C*H*O2\")],\n",
    ")\n",
    "automech.display(mech)"
   ]
  },
  {
   "cell_type": "code",
   "execution_count": 3,
   "metadata": {},
   "outputs": [
    {
     "name": "stdout",
     "output_type": "stream",
     "text": [
      "\n",
      "Finalizing build for...\n",
      "reactions=shape: (13, 5)\n",
      "┌───────────────┬─────────────────────────┬───────────┬────────────┬───────────────────────────────┐\n",
      "│ reactants     ┆ products                ┆ formula   ┆ reversible ┆ rate                          │\n",
      "│ ---           ┆ ---                     ┆ ---       ┆ ---        ┆ ---                           │\n",
      "│ list[str]     ┆ list[str]               ┆ struct[3] ┆ bool       ┆ struct[18]                    │\n",
      "╞═══════════════╪═════════════════════════╪═══════════╪════════════╪═══════════════════════════════╡\n",
      "│ [\"S(1206)\"]   ┆ [\"HO2(8)\", \"C5H6(478)\"] ┆ {5,7,2}   ┆ true       ┆ {1,{null,null,null,null,null, │\n",
      "│               ┆                         ┆           ┆            ┆ n…                            │\n",
      "│ [\"S(602)\"]    ┆ [\"C5H6(478)\", \"HO2(8)\"] ┆ {5,7,2}   ┆ true       ┆ {1,{null,null,null,null,null, │\n",
      "│               ┆                         ┆           ┆            ┆ n…                            │\n",
      "│ [\"C5H7(504)\", ┆ [\"S(602)\"]              ┆ {5,7,2}   ┆ true       ┆ {2,{null,null,null,null,null, │\n",
      "│ \"O2(6)\"]      ┆                         ┆           ┆            ┆ n…                            │\n",
      "│ [\"O2(6)\",     ┆ [\"S(1206)\"]             ┆ {5,7,2}   ┆ true       ┆ {2,{null,null,null,null,null, │\n",
      "│ \"C5H7(500)\"]  ┆                         ┆           ┆            ┆ n…                            │\n",
      "│ [\"S(1209)\"]   ┆ [\"S(1206)\"]             ┆ {5,7,2}   ┆ true       ┆ {1,{null,null,null,null,null, │\n",
      "│               ┆                         ┆           ┆            ┆ n…                            │\n",
      "│ …             ┆ …                       ┆ …         ┆ …          ┆ …                             │\n",
      "│ [\"S(1209)\"]   ┆ [\"OH(4)\", \"S(1288)\"]    ┆ {5,7,2}   ┆ true       ┆ {1,{null,null,null,null,null, │\n",
      "│               ┆                         ┆           ┆            ┆ n…                            │\n",
      "│ [\"S(1210)\"]   ┆ [\"C5Oqidgnv\", \"OH(4)\"]  ┆ {5,7,2}   ┆ null       ┆ null                          │\n",
      "│ [\"S(1209)\"]   ┆ [\"C5O2sidwao\"]          ┆ {5,7,2}   ┆ null       ┆ null                          │\n",
      "│ [\"S(1209)\"]   ┆ [\"C5O2pkpfsd\"]          ┆ {5,7,2}   ┆ null       ┆ null                          │\n",
      "│ [\"S(1210)\"]   ┆ [\"C5O2nexamm\"]          ┆ {5,7,2}   ┆ null       ┆ null                          │\n",
      "└───────────────┴─────────────────────────┴───────────┴────────────┴───────────────────────────────┘ species=shape: (17, 7)\n",
      "┌────────────┬────────────────┬─────────────────┬──────┬────────┬─────────────────┬────────────────┐\n",
      "│ name       ┆ smiles         ┆ amchi           ┆ spin ┆ charge ┆ formula         ┆ therm          │\n",
      "│ ---        ┆ ---            ┆ ---             ┆ ---  ┆ ---    ┆ ---             ┆ ---            │\n",
      "│ str        ┆ str            ┆ str             ┆ i64  ┆ i64    ┆ struct[7]       ┆ struct[8]      │\n",
      "╞════════════╪════════════════╪═════════════════╪══════╪════════╪═════════════════╪════════════════╡\n",
      "│ C5H7(500)  ┆ C1C[CH]C=C1    ┆ AMChI=1/C5H7/c1 ┆ 1    ┆ 0      ┆ {7,null,null,nu ┆ {298.0,5000.0, │\n",
      "│            ┆                ┆ -2-4-5-3-1/h1-3 ┆      ┆        ┆ ll,null,5,null} ┆ {null,null,7,n │\n",
      "│            ┆                ┆ …               ┆      ┆        ┆                 ┆ ul…            │\n",
      "│ O2(6)      ┆ O=O            ┆ AMChI=1/O2/c1-2 ┆ 2    ┆ 0      ┆ {null,2,null,nu ┆ {200.0,6000.0, │\n",
      "│            ┆                ┆                 ┆      ┆        ┆ ll,null,null,nu ┆ {null,null,nul │\n",
      "│            ┆                ┆                 ┆      ┆        ┆ …               ┆ l,…            │\n",
      "│ S(1206)    ┆ [O]OC1CCC=C1   ┆ AMChI=1/C5H7O2/ ┆ 1    ┆ 0      ┆ {7,2,null,null, ┆ {100.0,5000.0, │\n",
      "│            ┆                ┆ c6-7-5-2-1-3-4- ┆      ┆        ┆ null,5,null}    ┆ {null,null,7,2 │\n",
      "│            ┆                ┆ …               ┆      ┆        ┆                 ┆ ,n…            │\n",
      "│ C5H7(504)  ┆ C1[CH]CC=C1    ┆ AMChI=1/C5H7/c1 ┆ 1    ┆ 0      ┆ {7,null,null,nu ┆ {298.0,5000.0, │\n",
      "│            ┆                ┆ -2-5-3-4-1/h1-3 ┆      ┆        ┆ ll,null,5,null} ┆ {null,null,7,n │\n",
      "│            ┆                ┆ …               ┆      ┆        ┆                 ┆ ul…            │\n",
      "│ S(602)     ┆ [O]OC1CC=CC1   ┆ AMChI=1/C5H7O2/ ┆ 1    ┆ 0      ┆ {7,2,null,null, ┆ {298.0,5000.0, │\n",
      "│            ┆                ┆ c6-7-5-3-1-2-4- ┆      ┆        ┆ null,5,null}    ┆ {null,null,7,2 │\n",
      "│            ┆                ┆ …               ┆      ┆        ┆                 ┆ ,n…            │\n",
      "│ …          ┆ …              ┆ …               ┆ …    ┆ …      ┆ …               ┆ …              │\n",
      "│ S(1288)    ┆ O1C2C1C=CC2    ┆ AMChI=1/C5H6O/c ┆ 0    ┆ 0      ┆ {6,1,null,null, ┆ {100.0,5000.0, │\n",
      "│            ┆                ┆ 1-2-4-5(6-4)3-1 ┆      ┆        ┆ null,5,null}    ┆ {null,null,6,1 │\n",
      "│            ┆                ┆ …               ┆      ┆        ┆                 ┆ ,n…            │\n",
      "│ C5O2pkpfsd ┆ [CH]=CC(C=C)OO ┆ AMChI=1/C5H7O2/ ┆ 1    ┆ 0      ┆ {7,2,null,null, ┆ null           │\n",
      "│            ┆                ┆ c1-3-5(4-2)7-6/ ┆      ┆        ┆ null,5,null}    ┆                │\n",
      "│            ┆                ┆ …               ┆      ┆        ┆                 ┆                │\n",
      "│ C5O2nexamm ┆ C=C[CH]C=COO   ┆ AMChI=1/C5H7O2/ ┆ 1    ┆ 0      ┆ {7,2,null,null, ┆ null           │\n",
      "│            ┆                ┆ c1-2-3-4-5-7-6/ ┆      ┆        ┆ null,5,null}    ┆                │\n",
      "│            ┆                ┆ …               ┆      ┆        ┆                 ┆                │\n",
      "│ C5O2sidwao ┆ [CH]=CCC=COO   ┆ AMChI=1/C5H7O2/ ┆ 1    ┆ 0      ┆ {7,2,null,null, ┆ null           │\n",
      "│            ┆                ┆ c1-2-5-3-4-7-6/ ┆      ┆        ┆ null,5,null}    ┆                │\n",
      "│            ┆                ┆ …               ┆      ┆        ┆                 ┆                │\n",
      "│ C5H6O(645) ┆ O=CC=CC=C      ┆ AMChI=1/C5H6O/c ┆ 0    ┆ 0      ┆ {6,1,null,null, ┆ {298.0,5000.0, │\n",
      "│            ┆                ┆ 1-2-3-4-5-6/h2- ┆      ┆        ┆ null,5,null}    ┆ {null,null,6,1 │\n",
      "│            ┆                ┆ …               ┆      ┆        ┆                 ┆ ,n…            │\n",
      "└────────────┴────────────────┴─────────────────┴──────┴────────┴─────────────────┴────────────────┘\n",
      "\n",
      "Expanding stereochemistry...\n"
     ]
    },
    {
     "data": {
      "application/vnd.jupyter.widget-view+json": {
       "model_id": "5ac23335a6864bcc80cb876878bb7dc3",
       "version_major": 2,
       "version_minor": 0
      },
      "text/plain": [
       "  0%|          | 0/17 [00:00<?, ?it/s]"
      ]
     },
     "metadata": {},
     "output_type": "display_data"
    },
    {
     "data": {
      "application/vnd.jupyter.widget-view+json": {
       "model_id": "ce52052738a34a0eacb47bbeddf8580e",
       "version_major": 2,
       "version_minor": 0
      },
      "text/plain": [
       "  0%|          | 0/35 [00:00<?, ?it/s]"
      ]
     },
     "metadata": {},
     "output_type": "display_data"
    },
    {
     "data": {
      "application/vnd.jupyter.widget-view+json": {
       "model_id": "314ac98918094822aa7b1124df3e2553",
       "version_major": 2,
       "version_minor": 0
      },
      "text/plain": [
       "  0%|          | 0/13 [00:00<?, ?it/s]"
      ]
     },
     "metadata": {},
     "output_type": "display_data"
    },
    {
     "name": "stdout",
     "output_type": "stream",
     "text": [
      "\n",
      "Writing mechanism...\n",
      "../data/D_r-o2_1e_v1_gen.json\n",
      "../data/D_r-o2_1e_v1_ste.json\n",
      "../data/mechanalyzer/D_r-o2_1e_v1_ste.dat\n",
      "../data/mechanalyzer/D_r-o2_1e_v1_ste.csv\n"
     ]
    },
    {
     "data": {
      "application/vnd.jupyter.widget-view+json": {
       "model_id": "b64e6cc9faad48eaa50bbe252dfbbdd2",
       "version_major": 2,
       "version_minor": 0
      },
      "text/plain": [
       "  0%|          | 0/35 [00:00<?, ?it/s]"
      ]
     },
     "metadata": {},
     "output_type": "display_data"
    },
    {
     "data": {
      "application/vnd.jupyter.widget-view+json": {
       "model_id": "6e42d76d1dd245a187ff3e3fbb776711",
       "version_major": 2,
       "version_minor": 0
      },
      "text/plain": [
       "  0%|          | 0/35 [00:00<?, ?it/s]"
      ]
     },
     "metadata": {},
     "output_type": "display_data"
    },
    {
     "data": {
      "application/vnd.jupyter.widget-view+json": {
       "model_id": "d807c3b5a06c4aeaa62076f82d406d76",
       "version_major": 2,
       "version_minor": 0
      },
      "text/plain": [
       "  0%|          | 0/35 [00:00<?, ?it/s]"
      ]
     },
     "metadata": {},
     "output_type": "display_data"
    },
    {
     "name": "stdout",
     "output_type": "stream",
     "text": [
      "\n",
      "Stereoexpansion errors:\n"
     ]
    }
   ],
   "source": [
    "# Prepare calculation\n",
    "workflow.prepare_calculation(mech=mech, tag=tag, root_path=root_path)"
   ]
  },
  {
   "cell_type": "code",
   "execution_count": 4,
   "metadata": {},
   "outputs": [],
   "source": [
    "# # Prepare simulation\n",
    "# workflow.prepare_simulation(tag=tag, root_path=root_path)\n",
    "# workflow.prepare_simulation_species(tag=tag, root_path=root_path)"
   ]
  },
  {
   "cell_type": "code",
   "execution_count": 5,
   "metadata": {},
   "outputs": [],
   "source": [
    "# # Check rates\n",
    "# workflow.plot_rates(tag=tag, root_path=root_path)"
   ]
  },
  {
   "cell_type": "code",
   "execution_count": 6,
   "metadata": {},
   "outputs": [],
   "source": [
    "# # Plot simulation\n",
    "# chart_dct = workflow.plot_simulation(\n",
    "#     tag=tag,\n",
    "#     x_col=\"O2_molecules\",\n",
    "#     root_path=root_path,\n",
    "#     line_source_=[\"Hill\", \"Lokachari\"],\n",
    "#     point_source=\"Experiment\",\n",
    "#     control=False,\n",
    "# )\n",
    "# mech = automech.io.read(\n",
    "#     p_.full_calculated_mechanism(tag, \"json\", path=p_.data(root_path))\n",
    "# )\n",
    "# for name, chart in chart_dct.items():\n",
    "#     automech.display_species(mech, [name])\n",
    "#     chart.show()"
   ]
  }
 ],
 "metadata": {
  "kernelspec": {
   "display_name": "proto",
   "language": "python",
   "name": "python3"
  },
  "language_info": {
   "codemirror_mode": {
    "name": "ipython",
    "version": 3
   },
   "file_extension": ".py",
   "mimetype": "text/x-python",
   "name": "python",
   "nbconvert_exporter": "python",
   "pygments_lexer": "ipython3",
   "version": "3.11.12"
  }
 },
 "nbformat": 4,
 "nbformat_minor": 2
}
