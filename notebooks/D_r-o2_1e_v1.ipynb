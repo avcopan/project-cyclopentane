{
 "cells": [
  {
   "cell_type": "code",
   "execution_count": 1,
   "metadata": {},
   "outputs": [],
   "source": [
    "from pathlib import Path\n",
    "\n",
    "import util\n",
    "from util import p_, workflow\n",
    "\n",
    "import automech\n",
    "\n",
    "file = util.notebook_file() if util.is_notebook() else __file__\n",
    "tag = util.file_tag(file)\n",
    "root_path = Path(\"..\")\n",
    "par_mech = workflow.read_parent_mechanism(root_path=root_path)"
   ]
  },
  {
   "cell_type": "code",
   "execution_count": 2,
   "metadata": {},
   "outputs": [],
   "source": [
    "# # Generate submechanism\n",
    "# from automol.graph import enum\n",
    "\n",
    "# tag0 = util.previous_tag(tag)\n",
    "# mech = automech.io.read(p_.generated_mechanism(tag0, \"json\", path=p_.data(root_path)))\n",
    "# #  - Migrations\n",
    "# mech = automech.enumerate_reactions(\n",
    "#     mech,\n",
    "#     enum.ReactionSmarts.qooh_formation,\n",
    "#     src_mech=par_mech,\n",
    "# )\n",
    "# #   - Ring-forming scissions\n",
    "# mech = automech.enumerate_reactions(\n",
    "#     mech,\n",
    "#     enum.ReactionSmarts.qooh_ring_forming_scission,\n",
    "#     src_mech=par_mech,\n",
    "# )\n",
    "# #  - Ring-opening scissions\n",
    "# mech = automech.enumerate_reactions(\n",
    "#     mech,\n",
    "#     enum.ReactionSmarts.ring_beta_scission,\n",
    "#     src_mech=par_mech,\n",
    "#     rcts_=[automech.species.names(mech.species, fml=\"C*H*O2\")],\n",
    "# )\n",
    "# #  - Instability products\n",
    "# mech = automech.enumerate_products(\n",
    "#     mech,\n",
    "#     enum.ReactionSmarts.qooh_instability,\n",
    "#     src_mech=par_mech,\n",
    "#     rcts_=[automech.species.names(mech.species, fml=\"C*H*O2\")],\n",
    "# )\n",
    "# automech.display(mech)"
   ]
  },
  {
   "cell_type": "code",
   "execution_count": 3,
   "metadata": {},
   "outputs": [],
   "source": [
    "# # Prepare calculation\n",
    "# workflow.prepare_calculation(mech=mech, tag=tag, root_path=root_path)"
   ]
  },
  {
   "cell_type": "code",
   "execution_count": 4,
   "metadata": {},
   "outputs": [
    {
     "name": "stdout",
     "output_type": "stream",
     "text": [
      "New species and reactions:\n",
      "\n",
      "SPECIES\n",
      "\n",
      "C5H6alwnib  ! SMILES: C=1=CCCC=1      AMChI: AMChI=1/C5H6/c1-2-4-5-3-1/h2-3H,4-5H2\n",
      "C5Oqidgnv   ! SMILES: C1=CC2CC1O2     AMChI: AMChI=1/C5H6O/c1-2-5-3-4(1)6-5/h1-2,4-5H,3H2\n",
      "C5O2pkpfsd  ! SMILES: [CH]=CC(C=C)OO  AMChI: AMChI=1/C5H7O2/c1-3-5(4-2)7-6/h1,3-6H,2H2\n",
      "C5O2nexamm  ! SMILES: C=C[CH]C=COO    AMChI: AMChI=1/C5H7O2/c1-2-3-4-5-7-6/h2-6H,1H2\n",
      "C5O2sidwao  ! SMILES: [CH]=CCC=COO    AMChI: AMChI=1/C5H7O2/c1-2-5-3-4-7-6/h1-4,6H,5H2\n",
      "\n",
      "END\n",
      "\n",
      "\n",
      "REACTIONS    CAL/MOL   MOL\n",
      "\n",
      "S(1210) = C5Oqidgnv + OH(4)              1.000      0.000      0.000\n",
      "S(1209) = C5O2sidwao                     1.000      0.000      0.000\n",
      "S(1209) = C5O2pkpfsd                     1.000      0.000      0.000\n",
      "S(1210) = C5O2nexamm                     1.000      0.000      0.000\n",
      "\n",
      "END\n",
      "\n",
      "\n",
      "\n",
      "Statistics summary:\n",
      "\n",
      "shape: (5, 3)\n",
      "┌────────────────────┬───────────────┬────────────────┐\n",
      "│ Mechanism          ┆ Species Count ┆ Reaction Count │\n",
      "│ ---                ┆ ---           ┆ ---            │\n",
      "│ str                ┆ i64           ┆ i64            │\n",
      "╞════════════════════╪═══════════════╪════════════════╡\n",
      "│ Parent             ┆ 2534          ┆ 10002          │\n",
      "│ Generated          ┆ 17            ┆ 13             │\n",
      "│ Stereo             ┆ 35            ┆ 28             │\n",
      "│ Generated - Parent ┆ 5             ┆ 4              │\n",
      "│ Stereo - Parent    ┆ 18            ┆ 12             │\n",
      "└────────────────────┴───────────────┴────────────────┘\n"
     ]
    }
   ],
   "source": [
    "# Gather statistics\n",
    "workflow.gather_statistics(tag=tag, root_path=root_path)"
   ]
  },
  {
   "cell_type": "code",
   "execution_count": 5,
   "metadata": {},
   "outputs": [],
   "source": [
    "# # Prepare simulation\n",
    "# workflow.prepare_simulation(tag=tag, root_path=root_path)\n",
    "# workflow.prepare_simulation_species(tag=tag, root_path=root_path)"
   ]
  },
  {
   "cell_type": "code",
   "execution_count": 6,
   "metadata": {},
   "outputs": [],
   "source": [
    "# # Check rates\n",
    "# workflow.plot_rates(tag=tag, root_path=root_path)"
   ]
  },
  {
   "cell_type": "code",
   "execution_count": 7,
   "metadata": {},
   "outputs": [],
   "source": [
    "# # Plot simulation\n",
    "# chart_dct = workflow.plot_simulation(\n",
    "#     tag=tag,\n",
    "#     x_col=\"O2_molecules\",\n",
    "#     root_path=root_path,\n",
    "#     line_source_=[\"Hill\", \"Lokachari\"],\n",
    "#     point_source=\"Experiment\",\n",
    "#     control=False,\n",
    "# )\n",
    "# mech = automech.io.read(\n",
    "#     p_.full_calculated_mechanism(tag, \"json\", path=p_.data(root_path))\n",
    "# )\n",
    "# for name, chart in chart_dct.items():\n",
    "#     automech.display_species(mech, [name])\n",
    "#     chart.show()"
   ]
  }
 ],
 "metadata": {
  "kernelspec": {
   "display_name": "proto",
   "language": "python",
   "name": "python3"
  },
  "language_info": {
   "codemirror_mode": {
    "name": "ipython",
    "version": 3
   },
   "file_extension": ".py",
   "mimetype": "text/x-python",
   "name": "python",
   "nbconvert_exporter": "python",
   "pygments_lexer": "ipython3",
   "version": "3.11.12"
  }
 },
 "nbformat": 4,
 "nbformat_minor": 2
}
