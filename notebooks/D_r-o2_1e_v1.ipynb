{
 "cells": [
  {
   "cell_type": "code",
   "execution_count": 1,
   "metadata": {},
   "outputs": [],
   "source": [
    "from pathlib import Path\n",
    "\n",
    "import util\n",
    "from util import p_, workflow\n",
    "\n",
    "import automech\n",
    "\n",
    "file = util.notebook_file() if util.is_notebook() else __file__\n",
    "tag = util.file_tag(file)\n",
    "root_path = Path(\"..\")\n",
    "par_mech = workflow.read_parent_mechanism(root_path=root_path)"
   ]
  },
  {
   "cell_type": "code",
   "execution_count": 2,
   "metadata": {},
   "outputs": [],
   "source": [
    "# Generate submechanism\n",
    "from automol.graph import enum\n",
    "\n",
    "gen_mech1 = workflow.previous_version_species(tag=tag, root_path=root_path)\n",
    "#  - Migrations\n",
    "gen_mech1 = automech.enumerate_reactions(\n",
    "    gen_mech1, enum.ReactionSmarts.qooh_formation, src_mech=par_mech\n",
    ")\n",
    "#   - Ring-forming scissions\n",
    "gen_mech1 = automech.enumerate_reactions(\n",
    "    gen_mech1,\n",
    "    enum.ReactionSmarts.qooh_ring_forming_scission,\n",
    "    src_mech=par_mech,\n",
    "    excl_rcts=automech.unstable_species_names(gen_mech1),\n",
    ")\n",
    "#  - Ring-opening scissions\n",
    "gen_mech1 = automech.enumerate_reactions(\n",
    "    gen_mech1,\n",
    "    enum.ReactionSmarts.ring_beta_scission,\n",
    "    src_mech=par_mech,\n",
    "    rcts_=[automech.species.names(gen_mech1.species, fml=\"C*H*O2\")],\n",
    "    excl_rcts=automech.unstable_species_names(gen_mech1),\n",
    ")\n",
    "#  - Beta scissions\n",
    "gen_mech1 = automech.enumerate_reactions(\n",
    "    gen_mech1,\n",
    "    enum.ReactionSmarts.beta_scission,\n",
    "    src_mech=par_mech,\n",
    "    rcts_=[automech.species.names(gen_mech1.species, fml=\"C*H*O2\")],\n",
    "    excl_rcts=automech.unstable_species_names(gen_mech1),\n",
    ")\n",
    "# Dropping these for now because they are failing (Y70-73, 76-79)\n",
    "# #  - Vinyl beta scissions\n",
    "# gen_mech1 = automech.enumerate_reactions(\n",
    "#     gen_mech1,\n",
    "#     enum.ReactionSmarts.vinyl_beta_scission,\n",
    "#     src_mech=par_mech,\n",
    "#     rcts_=[automech.species.names(gen_mech1.species, fml=\"C*H*O2\")],\n",
    "#     excl_rcts=automech.unstable_species_names(gen_mech1),\n",
    "# )\n",
    "#  - Instability products\n",
    "gen_mech1 = automech.enumerate_products(\n",
    "    gen_mech1,\n",
    "    enum.ReactionSmarts.qooh_instability,\n",
    "    src_mech=par_mech,\n",
    "    rcts_=[automech.species.names(gen_mech1.species, fml=\"C*H*O2\")],\n",
    ")\n",
    "automech.display(gen_mech1, height=\"1000px\")"
   ]
  },
  {
   "cell_type": "code",
   "execution_count": 3,
   "metadata": {},
   "outputs": [
    {
     "name": "stdout",
     "output_type": "stream",
     "text": [
      "\n",
      "Expanding stereochemistry...\n"
     ]
    },
    {
     "data": {
      "application/vnd.jupyter.widget-view+json": {
       "model_id": "fc7be92c207b421aa160d6078b110ecb",
       "version_major": 2,
       "version_minor": 0
      },
      "text/plain": [
       "  0%|          | 0/16 [00:00<?, ?it/s]"
      ]
     },
     "metadata": {},
     "output_type": "display_data"
    },
    {
     "data": {
      "application/vnd.jupyter.widget-view+json": {
       "model_id": "157ae75550d740fda42474ff69979aad",
       "version_major": 2,
       "version_minor": 0
      },
      "text/plain": [
       "  0%|          | 0/34 [00:00<?, ?it/s]"
      ]
     },
     "metadata": {},
     "output_type": "display_data"
    },
    {
     "data": {
      "application/vnd.jupyter.widget-view+json": {
       "model_id": "f5215fedac564a72a3d3b070badbed23",
       "version_major": 2,
       "version_minor": 0
      },
      "text/plain": [
       "  0%|          | 0/13 [00:00<?, ?it/s]"
      ]
     },
     "metadata": {},
     "output_type": "display_data"
    },
    {
     "name": "stdout",
     "output_type": "stream",
     "text": [
      "\n",
      "Stereoexpansion errors:\n"
     ]
    },
    {
     "data": {
      "application/vnd.jupyter.widget-view+json": {
       "model_id": "15d69ee981d04f6ba7bd7d79c1d9b350",
       "version_major": 2,
       "version_minor": 0
      },
      "text/plain": [
       "  0%|          | 0/3 [00:00<?, ?it/s]"
      ]
     },
     "metadata": {},
     "output_type": "display_data"
    }
   ],
   "source": [
    "# Expand stereochemistry\n",
    "ste_mech1, *_, gen_mech1 = workflow.expand_stereo(\n",
    "    mech=gen_mech1, tag=tag, root_path=root_path\n",
    ")\n",
    "\n",
    "#  - Drop stereo-specific reactions\n",
    "ste_mech1 = automech.drop_reactions_by_smiles(\n",
    "    # >> Cis ring-opening scission\n",
    "    ste_mech1,\n",
    "    rxn_smis=[\n",
    "        \"OO[C@H]1[CH]C=CC1>>[CH2]/C=/C\\C=\\C/OO\",\n",
    "        \"OO[C@@H]1[CH]C=CC1>>[CH2]/C=/C\\C=\\C/OO\",\n",
    "    ],\n",
    ")"
   ]
  },
  {
   "cell_type": "code",
   "execution_count": 4,
   "metadata": {},
   "outputs": [],
   "source": [
    "# Update previous version\n",
    "gen_mech, ste_mech = workflow.update_previous_version(\n",
    "    gen_mech=gen_mech1, ste_mech=ste_mech1, tag=tag, root_path=root_path\n",
    ")\n",
    "automech.display(gen_mech, height=\"1000px\")"
   ]
  },
  {
   "cell_type": "code",
   "execution_count": 5,
   "metadata": {},
   "outputs": [
    {
     "name": "stdout",
     "output_type": "stream",
     "text": [
      "\n",
      "Sorting mechanism...\n",
      "\n",
      "Writing mechanism...\n",
      "../data/D_r-o2_1e_v1_gen.json\n",
      "../data/D_r-o2_1e_v1_ste.json\n",
      "../data/mechanalyzer/D_r-o2_1e_v1_ste.dat\n",
      "../data/mechanalyzer/D_r-o2_1e_v1_ste.csv\n"
     ]
    },
    {
     "data": {
      "application/vnd.jupyter.widget-view+json": {
       "model_id": "4265ad1bd9434a81839e09644de4373c",
       "version_major": 2,
       "version_minor": 0
      },
      "text/plain": [
       "  0%|          | 0/35 [00:00<?, ?it/s]"
      ]
     },
     "metadata": {},
     "output_type": "display_data"
    },
    {
     "data": {
      "application/vnd.jupyter.widget-view+json": {
       "model_id": "428312fa93854c65b0628136a0dee9ab",
       "version_major": 2,
       "version_minor": 0
      },
      "text/plain": [
       "  0%|          | 0/35 [00:00<?, ?it/s]"
      ]
     },
     "metadata": {},
     "output_type": "display_data"
    },
    {
     "data": {
      "application/vnd.jupyter.widget-view+json": {
       "model_id": "88fff8b9c67744ccbae67f2be0c6845a",
       "version_major": 2,
       "version_minor": 0
      },
      "text/plain": [
       "  0%|          | 0/35 [00:00<?, ?it/s]"
      ]
     },
     "metadata": {},
     "output_type": "display_data"
    }
   ],
   "source": [
    "# Prepare calculation\n",
    "workflow.prepare_calculation(\n",
    "    gen_mech=gen_mech, ste_mech=ste_mech, tag=tag, root_path=root_path\n",
    ")"
   ]
  },
  {
   "cell_type": "code",
   "execution_count": 6,
   "metadata": {},
   "outputs": [],
   "source": [
    "# # Gather statistics\n",
    "# workflow.gather_statistics(tag=tag, root_path=root_path)"
   ]
  },
  {
   "cell_type": "code",
   "execution_count": 7,
   "metadata": {},
   "outputs": [],
   "source": [
    "# # Prepare simulation\n",
    "# workflow.prepare_simulation(tag=tag, root_path=root_path)\n",
    "# workflow.prepare_simulation_species(tag=tag, root_path=root_path)"
   ]
  },
  {
   "cell_type": "code",
   "execution_count": 8,
   "metadata": {},
   "outputs": [],
   "source": [
    "# # Check rates\n",
    "# workflow.plot_rates(tag=tag, root_path=root_path)"
   ]
  },
  {
   "cell_type": "code",
   "execution_count": 9,
   "metadata": {},
   "outputs": [],
   "source": [
    "# # Plot simulation\n",
    "# chart_dct = workflow.plot_simulation(\n",
    "#     tag=tag,\n",
    "#     x_col=\"O2_molecules\",\n",
    "#     root_path=root_path,\n",
    "#     line_source_=[\"Hill\", \"Lokachari\"],\n",
    "#     point_source=\"Experiment\",\n",
    "#     control=False,\n",
    "# )\n",
    "# mech = automech.io.read(\n",
    "#     p_.full_calculated_mechanism(tag, \"json\", path=p_.data(root_path))\n",
    "# )\n",
    "# for name, chart in chart_dct.items():\n",
    "#     automech.display_species(mech, [name])\n",
    "#     chart.show()"
   ]
  }
 ],
 "metadata": {
  "kernelspec": {
   "display_name": "proto",
   "language": "python",
   "name": "python3"
  },
  "language_info": {
   "codemirror_mode": {
    "name": "ipython",
    "version": 3
   },
   "file_extension": ".py",
   "mimetype": "text/x-python",
   "name": "python",
   "nbconvert_exporter": "python",
   "pygments_lexer": "ipython3",
   "version": "3.11.12"
  }
 },
 "nbformat": 4,
 "nbformat_minor": 2
}
