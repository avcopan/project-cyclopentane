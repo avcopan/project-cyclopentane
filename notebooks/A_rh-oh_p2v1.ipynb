{
 "cells": [
  {
   "cell_type": "code",
   "execution_count": 1,
   "metadata": {},
   "outputs": [],
   "source": [
    "from pathlib import Path\n",
    "\n",
    "import util\n",
    "from util import workflow\n",
    "\n",
    "browser = False\n",
    "file = util.notebook_file() if util.is_notebook() else __file__\n",
    "tag = util.file_tag(file)\n",
    "root_path = Path(\"..\")"
   ]
  },
  {
   "cell_type": "code",
   "execution_count": 2,
   "metadata": {},
   "outputs": [
    {
     "data": {
      "application/vnd.jupyter.widget-view+json": {
       "model_id": "bb56e5a52b454eadb2419e9b2dc874f8",
       "version_major": 2,
       "version_minor": 0
      },
      "text/plain": [
       "  0%|          | 0/1 [00:00<?, ?it/s]"
      ]
     },
     "metadata": {},
     "output_type": "display_data"
    }
   ],
   "source": [
    "# Build\n",
    "from automol.graph import enum\n",
    "\n",
    "import automech\n",
    "from automech.species import Species\n",
    "\n",
    "par_mech = workflow.read_parent_mechanism(root_path=root_path)\n",
    "mech = automech.from_smiles(spc_smis=[\"C1=CCCC1\"], src_mech=par_mech)\n",
    "#  - add OH addition to *ene*\n",
    "mech = automech.enumerate_reactions(\n",
    "    mech,\n",
    "    enum.ReactionSmarts.pi2_addition,\n",
    "    rcts_=[None, \"[OH]\"],\n",
    "    spc_col_=Species.smiles,\n",
    "    src_mech=par_mech,\n",
    ")\n",
    "#  - add 1,2 H-migrations (1,3 should be negligible)\n",
    "mech = automech.enumerate_reactions(\n",
    "    mech,\n",
    "    enum.ReactionSmarts.h_migration_12,\n",
    "    spc_col_=Species.smiles,\n",
    "    src_mech=par_mech,\n",
    "    repeat=2,  # This could maybe be taken out?\n",
    ")\n",
    "#  - add ring beta scissions\n",
    "mech = automech.enumerate_reactions(\n",
    "    mech,\n",
    "    enum.ReactionSmarts.ring_beta_scission,\n",
    "    src_mech=par_mech,\n",
    ")\n",
    "#  - add beta scissions\n",
    "mech = automech.enumerate_reactions(\n",
    "    mech,\n",
    "    enum.ReactionSmarts.beta_scission,\n",
    "    src_mech=par_mech,\n",
    ")"
   ]
  },
  {
   "cell_type": "code",
   "execution_count": 3,
   "metadata": {},
   "outputs": [
    {
     "name": "stdout",
     "output_type": "stream",
     "text": [
      "\n",
      "Finalizing build for...\n",
      "reactions=shape: (17, 5)\n",
      "┌────────────────┬────────────────┬───────────┬────────────┬─────────────────────────────────┐\n",
      "│ reactants      ┆ products       ┆ formula   ┆ reversible ┆ rate_constant                   │\n",
      "│ ---            ┆ ---            ┆ ---       ┆ ---        ┆ ---                             │\n",
      "│ list[str]      ┆ list[str]      ┆ struct[3] ┆ bool       ┆ struct[17]                      │\n",
      "╞════════════════╪════════════════╪═══════════╪════════════╪═════════════════════════════════╡\n",
      "│ [\"C5H9O(878)\"] ┆ [\"C5H9O(852)\"] ┆ {5,9,1}   ┆ true       ┆ {1,{null,null,null,null,null,n… │\n",
      "│ [\"C5H9O(853)\"] ┆ [\"C5H9O(852)\"] ┆ {5,9,1}   ┆ true       ┆ {1,{null,null,null,null,null,n… │\n",
      "│ [\"S(1528)\"]    ┆ [\"S(1247)\"]    ┆ {5,9,1}   ┆ true       ┆ {1,{null,null,null,null,null,n… │\n",
      "│ [\"S(1431)\"]    ┆ [\"S(1248)\"]    ┆ {5,9,1}   ┆ true       ┆ {1,{null,null,null,null,null,n… │\n",
      "│ [\"S(1259)\"]    ┆ [\"S(1248)\"]    ┆ {5,9,1}   ┆ true       ┆ {1,{null,null,null,null,null,n… │\n",
      "│ …              ┆ …              ┆ …         ┆ …          ┆ …                               │\n",
      "│ [\"C5H9O(859)\"] ┆ [\"C3H5O(102)\", ┆ {5,9,1}   ┆ true       ┆ {1,{null,null,null,null,null,n… │\n",
      "│                ┆ \"C2H4(52)\"]    ┆           ┆            ┆                                 │\n",
      "│ [\"C2H4(52)\",   ┆ [\"C5H9O(853)\"] ┆ {5,9,1}   ┆ true       ┆ {2,{null,null,null,null,null,n… │\n",
      "│ \"C3H5O(168)\"]  ┆                ┆           ┆            ┆                                 │\n",
      "│ [\"OH(4)\",      ┆ [\"S(1431)\"]    ┆ {5,9,1}   ┆ true       ┆ {2,{null,null,null,null,null,n… │\n",
      "│ \"C5H8(524)\"]   ┆                ┆           ┆            ┆                                 │\n",
      "│ [\"C2H3OH(45)\", ┆ [\"S(1259)\"]    ┆ {5,9,1}   ┆ true       ┆ {2,{null,null,null,null,null,n… │\n",
      "│ \"C3H5(122)\"]   ┆                ┆           ┆            ┆                                 │\n",
      "│ [\"C2H4(52)\",   ┆ [\"S(1528)\"]    ┆ {5,9,1}   ┆ true       ┆ {2,{null,null,null,null,null,n… │\n",
      "│ \"C3H5O(186)\"]  ┆                ┆           ┆            ┆                                 │\n",
      "└────────────────┴────────────────┴───────────┴────────────┴─────────────────────────────────┘ species=shape: (19, 7)\n",
      "┌────────────┬───────────────┬─────────────────┬──────┬────────┬─────────────────┬─────────────────┐\n",
      "│ name       ┆ smiles        ┆ amchi           ┆ spin ┆ charge ┆ formula         ┆ thermo_string   │\n",
      "│ ---        ┆ ---           ┆ ---             ┆ ---  ┆ ---    ┆ ---             ┆ ---             │\n",
      "│ str        ┆ str           ┆ str             ┆ i64  ┆ i64    ┆ struct[7]       ┆ str             │\n",
      "╞════════════╪═══════════════╪═════════════════╪══════╪════════╪═════════════════╪═════════════════╡\n",
      "│ C5H9O(852) ┆ OC1CCC[CH]1   ┆ AMChI=1/C5H9O/c ┆ 1    ┆ 0      ┆ {9,1,null,null, ┆ C   5H   9O   1 │\n",
      "│            ┆               ┆ 6-5-1-2-3-4-5/h ┆      ┆        ┆ null,5,null}    ┆ G   298.00…     │\n",
      "│            ┆               ┆ …               ┆      ┆        ┆                 ┆                 │\n",
      "│ C5H8(522)  ┆ C1CC=CC1      ┆ AMChI=1/C5H8/c1 ┆ 0    ┆ 0      ┆ {8,null,null,nu ┆ C   5H   8      │\n",
      "│            ┆               ┆ -2-4-5-3-1/h1-2 ┆      ┆        ┆ ll,null,5,null} ┆ G   298.00…     │\n",
      "│            ┆               ┆ …               ┆      ┆        ┆                 ┆                 │\n",
      "│ OH(4)      ┆ [OH]          ┆ AMChI=1/HO/h1H  ┆ 1    ┆ 0      ┆ {1,1,null,null, ┆ H   1O   1      │\n",
      "│            ┆               ┆                 ┆      ┆        ┆ null,null,null} ┆ G   200.00…     │\n",
      "│ C5H9O(878) ┆ OC(C[CH2])C=C ┆ AMChI=1/C5H9O/c ┆ 1    ┆ 0      ┆ {9,1,null,null, ┆ C   5H   9O   1 │\n",
      "│            ┆               ┆ 1-3-5(6)4-2/h3, ┆      ┆        ┆ null,5,null}    ┆ G   300.00…     │\n",
      "│            ┆               ┆ …               ┆      ┆        ┆                 ┆                 │\n",
      "│ C3H5O(168) ┆ O[CH]C=C      ┆ AMChI=1/C3H5O/c ┆ 1    ┆ 0      ┆ {5,1,null,null, ┆ C   3H   5O   1 │\n",
      "│            ┆               ┆ 1-2-3-4/h2-4H,1 ┆      ┆        ┆ null,3,null}    ┆ G   100.00…     │\n",
      "│            ┆               ┆ …               ┆      ┆        ┆                 ┆                 │\n",
      "│ …          ┆ …             ┆ …               ┆ …    ┆ …      ┆ …               ┆ …               │\n",
      "│ C5H9O(859) ┆ O=CCCC[CH2]   ┆ AMChI=1/C5H9O/c ┆ 1    ┆ 0      ┆ {9,1,null,null, ┆ C   5H   9O   1 │\n",
      "│            ┆               ┆ 1-3-5-4-2-6/h2H ┆      ┆        ┆ null,5,null}    ┆ G   300.00…     │\n",
      "│            ┆               ┆ …               ┆      ┆        ┆                 ┆                 │\n",
      "│ C3H5O(102) ┆ O=CC[CH2]     ┆ AMChI=1/C3H5O/c ┆ 1    ┆ 0      ┆ {5,1,null,null, ┆ C   3H   5O   1 │\n",
      "│            ┆               ┆ 1-3-2-4/h2H,1,3 ┆      ┆        ┆ null,3,null}    ┆ G   100.00…     │\n",
      "│            ┆               ┆ …               ┆      ┆        ┆                 ┆                 │\n",
      "│ CPTOJ(880) ┆ [O]C1CCCC1    ┆ AMChI=1/C5H9O/c ┆ 1    ┆ 0      ┆ {9,1,null,null, ┆ C   5H   9O   1 │\n",
      "│            ┆               ┆ 6-5-3-1-2-4-5/h ┆      ┆        ┆ null,5,null}    ┆ G   300.00…     │\n",
      "│            ┆               ┆ …               ┆      ┆        ┆                 ┆                 │\n",
      "│ S(1248)    ┆ OC1CC[CH]C1   ┆ AMChI=1/C5H9O/c ┆ 1    ┆ 0      ┆ {9,1,null,null, ┆ C   5H   9O   1 │\n",
      "│            ┆               ┆ 6-5-3-1-2-4-5/h ┆      ┆        ┆ null,5,null}    ┆ G   100.00…     │\n",
      "│            ┆               ┆ …               ┆      ┆        ┆                 ┆                 │\n",
      "│ S(1247)    ┆ O[C]1CCCC1    ┆ AMChI=1/C5H9O/c ┆ 1    ┆ 0      ┆ {9,1,null,null, ┆ C   5H   9O   1 │\n",
      "│            ┆               ┆ 6-5-3-1-2-4-5/h ┆      ┆        ┆ null,5,null}    ┆ G   100.00…     │\n",
      "│            ┆               ┆ …               ┆      ┆        ┆                 ┆                 │\n",
      "└────────────┴───────────────┴─────────────────┴──────┴────────┴─────────────────┴─────────────────┘ thermo_temps=None\n",
      "\n",
      "Expanding stereochemistry...\n"
     ]
    },
    {
     "data": {
      "application/vnd.jupyter.widget-view+json": {
       "model_id": "2c122b816195423ba7b0d03dc464f16f",
       "version_major": 2,
       "version_minor": 0
      },
      "text/plain": [
       "  0%|          | 0/19 [00:00<?, ?it/s]"
      ]
     },
     "metadata": {},
     "output_type": "display_data"
    },
    {
     "data": {
      "application/vnd.jupyter.widget-view+json": {
       "model_id": "c8630e01879c4bd0a6c0036c79c8ca28",
       "version_major": 2,
       "version_minor": 0
      },
      "text/plain": [
       "  0%|          | 0/25 [00:00<?, ?it/s]"
      ]
     },
     "metadata": {},
     "output_type": "display_data"
    },
    {
     "data": {
      "application/vnd.jupyter.widget-view+json": {
       "model_id": "244cba804e2a4d9b9eb22cbd568a3a21",
       "version_major": 2,
       "version_minor": 0
      },
      "text/plain": [
       "  0%|          | 0/17 [00:00<?, ?it/s]"
      ]
     },
     "metadata": {},
     "output_type": "display_data"
    },
    {
     "name": "stdout",
     "output_type": "stream",
     "text": [
      "\n",
      "Writing mechanism...\n",
      "../data/A_rh-oh_p2v1_orig.json\n",
      "../data/A_rh-oh_p2v1.json\n",
      "../data/mechanalyzer/A_rh-oh_p2v1.dat\n",
      "../data/mechanalyzer/A_rh-oh_p2v1.csv\n"
     ]
    },
    {
     "data": {
      "application/vnd.jupyter.widget-view+json": {
       "model_id": "6b1f77e7957e493297dde95029c97ea9",
       "version_major": 2,
       "version_minor": 0
      },
      "text/plain": [
       "  0%|          | 0/25 [00:00<?, ?it/s]"
      ]
     },
     "metadata": {},
     "output_type": "display_data"
    },
    {
     "data": {
      "application/vnd.jupyter.widget-view+json": {
       "model_id": "f82cab81a24547bdbebb59d75c63bbbc",
       "version_major": 2,
       "version_minor": 0
      },
      "text/plain": [
       "  0%|          | 0/25 [00:00<?, ?it/s]"
      ]
     },
     "metadata": {},
     "output_type": "display_data"
    },
    {
     "data": {
      "application/vnd.jupyter.widget-view+json": {
       "model_id": "f5f09879f6c54af3a3fc3d7fc898bcc5",
       "version_major": 2,
       "version_minor": 0
      },
      "text/plain": [
       "  0%|          | 0/25 [00:00<?, ?it/s]"
      ]
     },
     "metadata": {},
     "output_type": "display_data"
    },
    {
     "name": "stdout",
     "output_type": "stream",
     "text": [
      "\n",
      "Stereoexpansion errors:\n"
     ]
    }
   ],
   "source": [
    "# Write\n",
    "workflow.write(mech=mech, tag=tag, root_path=root_path, browser=browser)"
   ]
  },
  {
   "cell_type": "code",
   "execution_count": 4,
   "metadata": {},
   "outputs": [],
   "source": [
    "# # Read\n",
    "# workflow.read(tag=tag, root_path=root_path)"
   ]
  },
  {
   "cell_type": "code",
   "execution_count": 5,
   "metadata": {},
   "outputs": [],
   "source": [
    "# # Simulate\n",
    "# workflow.simulate(full_tag=f\"full_{tag}_calc\", root_path=root_path)\n",
    "# workflow.simulate(full_tag=f\"full_{tag}_control\", root_path=root_path)"
   ]
  },
  {
   "cell_type": "code",
   "execution_count": 6,
   "metadata": {},
   "outputs": [],
   "source": [
    "# import automech\n",
    "# from mechdriver.subtasks import display, fs\n",
    "\n",
    "# chan = \"1: 1\"\n",
    "\n",
    "# # TRANSITION STATE\n",
    "# #   - Display the TS mode\n",
    "# calc_path = util.calc_path(root_path, tag)\n",
    "# display(\"find_ts\", chan, path=calc_path)\n",
    "\n",
    "# #   - Show paths\n",
    "# for path in fs.task_paths(\"find_ts\", chan, path=calc_path):\n",
    "#     print(path)\n",
    "\n",
    "# # REACTION RATE\n",
    "# #   - Read in calculated mechanism\n",
    "# cal_mech = automech.io.read(data_path / f\"{tag}_calc.json\")\n",
    "\n",
    "# #   - Read in other mechanisms for comparison\n",
    "# par_mech = automech.io.read(data_path / \"full_raw.json\")\n",
    "# tags0 = util.previous_tags(tag)\n",
    "# trues = [True] * len(tags0)\n",
    "# names0 = list(map(util.calculated_mechanism_name, tags0))\n",
    "# mechs0 = [automech.io.read(data_path / f\"{name}.json\") for name in names0]\n",
    "\n",
    "# #   - Display the reaction and calculated rate\n",
    "# automech.display_reactions(\n",
    "#     cal_mech,\n",
    "#     chans=[chan],\n",
    "#     comp_mechs=[par_mech, *mechs0],\n",
    "#     comp_labels=[\"Hill\", *tags0],\n",
    "#     comp_stereo=[False, *trues],\n",
    "# )"
   ]
  },
  {
   "cell_type": "code",
   "execution_count": null,
   "metadata": {},
   "outputs": [],
   "source": []
  }
 ],
 "metadata": {
  "kernelspec": {
   "display_name": "proto",
   "language": "python",
   "name": "python3"
  },
  "language_info": {
   "codemirror_mode": {
    "name": "ipython",
    "version": 3
   },
   "file_extension": ".py",
   "mimetype": "text/x-python",
   "name": "python",
   "nbconvert_exporter": "python",
   "pygments_lexer": "ipython3",
   "version": "3.11.11"
  }
 },
 "nbformat": 4,
 "nbformat_minor": 2
}
